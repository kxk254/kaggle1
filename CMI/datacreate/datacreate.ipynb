{
 "cells": [
  {
   "cell_type": "code",
   "execution_count": 1,
   "id": "e938176c",
   "metadata": {},
   "outputs": [],
   "source": [
    "import os, json, joblib, numpy as np, pandas as pd\n",
    "from pathlib import Path\n"
   ]
  },
  {
   "cell_type": "code",
   "execution_count": 29,
   "id": "c5152b5c",
   "metadata": {},
   "outputs": [],
   "source": [
    "class paths:\n",
    "    OUTPUT_DIR = \"C:\\\\Users\\\\konno\\\\SynologyDrive\\\\datasciense\\\\projects_foler\\\\1_kaggle\\\\CMI\\\\cmi-detect-behavior-with-sensor-data\\\\output\"\n",
    "    TRAIN_CSV = \"C:\\\\Users\\\\konno\\\\SynologyDrive\\\\datasciense\\\\projects_foler\\\\1_kaggle\\\\CMI\\\\cmi-detect-behavior-with-sensor-data\\\\train.csv\"\n",
    "    TRAIN_DEMOGRAPHICS = \"C:\\\\Users\\\\konno\\\\SynologyDrive\\\\datasciense\\\\projects_foler\\\\1_kaggle\\\\CMI\\\\cmi-detect-behavior-with-sensor-data\\\\train_demographics.csv\""
   ]
  },
  {
   "cell_type": "code",
   "execution_count": 30,
   "id": "6165d28e",
   "metadata": {},
   "outputs": [],
   "source": [
    "df = pd.read_csv(paths.TRAIN_CSV)\n",
    "df_dem = pd.read_csv(paths.TRAIN_DEMOGRAPHICS)"
   ]
  },
  {
   "cell_type": "code",
   "execution_count": 31,
   "id": "63c23175",
   "metadata": {},
   "outputs": [
    {
     "data": {
      "text/plain": [
       "Index(['row_id', 'sequence_type', 'sequence_id', 'sequence_counter', 'subject',\n",
       "       'orientation', 'behavior', 'phase', 'gesture', 'acc_x',\n",
       "       ...\n",
       "       'tof_5_v54', 'tof_5_v55', 'tof_5_v56', 'tof_5_v57', 'tof_5_v58',\n",
       "       'tof_5_v59', 'tof_5_v60', 'tof_5_v61', 'tof_5_v62', 'tof_5_v63'],\n",
       "      dtype='object', length=341)"
      ]
     },
     "execution_count": 31,
     "metadata": {},
     "output_type": "execute_result"
    }
   ],
   "source": [
    "df.columns"
   ]
  },
  {
   "cell_type": "code",
   "execution_count": 32,
   "id": "3d253743",
   "metadata": {},
   "outputs": [
    {
     "data": {
      "text/plain": [
       "(574945, 341)"
      ]
     },
     "execution_count": 32,
     "metadata": {},
     "output_type": "execute_result"
    }
   ],
   "source": [
    "df.shape"
   ]
  },
  {
   "cell_type": "code",
   "execution_count": 35,
   "id": "ccedda51",
   "metadata": {},
   "outputs": [
    {
     "data": {
      "text/plain": [
       "array(['Cheek - pinch skin', 'Forehead - pull hairline',\n",
       "       'Write name on leg', 'Feel around in tray and pull out an object',\n",
       "       'Neck - scratch', 'Neck - pinch skin', 'Eyelash - pull hair',\n",
       "       'Eyebrow - pull hair', 'Forehead - scratch',\n",
       "       'Above ear - pull hair', 'Wave hello', 'Write name in air',\n",
       "       'Text on phone', 'Pull air toward your face',\n",
       "       'Pinch knee/leg skin', 'Scratch knee/leg skin',\n",
       "       'Drink from bottle/cup', 'Glasses on/off'], dtype=object)"
      ]
     },
     "execution_count": 35,
     "metadata": {},
     "output_type": "execute_result"
    }
   ],
   "source": [
    "df['gesture'].unique()"
   ]
  },
  {
   "cell_type": "code",
   "execution_count": 37,
   "id": "87c16129",
   "metadata": {},
   "outputs": [],
   "source": [
    "grouped = df.groupby(['gesture', 'sequence_id'])\n",
    "gesture_sequence_ids = df[['gesture', 'sequence_id']]\n",
    "\n",
    "sample_seq_ids = (\n",
    "    gesture_sequence_ids.groupby('gesture').sample(n=10, random_state=66)\n",
    ")\n",
    "\n",
    "sample_df = df.merge(sample_seq_ids, on=['gesture','sequence_id'])"
   ]
  },
  {
   "cell_type": "code",
   "execution_count": 38,
   "id": "db485840",
   "metadata": {},
   "outputs": [
    {
     "data": {
      "text/plain": [
       "(15451, 341)"
      ]
     },
     "execution_count": 38,
     "metadata": {},
     "output_type": "execute_result"
    }
   ],
   "source": [
    "sample_df.shape"
   ]
  },
  {
   "cell_type": "code",
   "execution_count": 39,
   "id": "dd2b661d",
   "metadata": {},
   "outputs": [],
   "source": [
    "sample_df.to_csv('C:\\\\Users\\\\konno\\\\SynologyDrive\\\\datasciense\\\\projects_foler\\\\1_kaggle\\\\CMI\\\\cmi-detect-behavior-with-sensor-data\\\\sample_train.csv', index=False)"
   ]
  }
 ],
 "metadata": {
  "kernelspec": {
   "display_name": "env",
   "language": "python",
   "name": "python3"
  },
  "language_info": {
   "codemirror_mode": {
    "name": "ipython",
    "version": 3
   },
   "file_extension": ".py",
   "mimetype": "text/x-python",
   "name": "python",
   "nbconvert_exporter": "python",
   "pygments_lexer": "ipython3",
   "version": "3.12.10"
  }
 },
 "nbformat": 4,
 "nbformat_minor": 5
}
