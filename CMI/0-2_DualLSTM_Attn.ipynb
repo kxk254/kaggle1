{
 "cells": [
  {
   "cell_type": "code",
   "execution_count": 1,
   "id": "d6c3ef81",
   "metadata": {},
   "outputs": [],
   "source": [
    "import os\n",
    "import random\n",
    "import numpy as np\n",
    "import pandas as pd\n",
    "import os, json, joblib, re\n",
    "import tqdm\n",
    "\n",
    "import torch\n",
    "import torch.nn as nn\n",
    "import torch.nn.functional as F\n",
    "from torch.utils.data import Dataset, DataLoader\n",
    "from torch.optim.lr_scheduler import OneCycleLR\n",
    "\n",
    "import polars as pl\n",
    "from pathlib import Path\n",
    "import warnings \n",
    "warnings.filterwarnings(\"ignore\")\n",
    "\n",
    "from sklearn.model_selection import train_test_split\n",
    "from sklearn.preprocessing import StandardScaler, LabelEncoder\n",
    "from sklearn.utils.class_weight import compute_class_weight\n",
    "\n",
    "import gc  # garbage collection\n",
    "import psutil\n",
    "from scipy.spatial.transform import Rotation as R"
   ]
  },
  {
   "cell_type": "code",
   "execution_count": 2,
   "id": "f820e34a",
   "metadata": {},
   "outputs": [
    {
     "name": "stdout",
     "output_type": "stream",
     "text": [
      "▶ imports ready · torch 2.7.1+cpu device : cpu\n"
     ]
    }
   ],
   "source": [
    "# (Competition metric will only be imported when TRAINing)\n",
    "TRAIN = True                     # ← set to True when you want to train\n",
    "\n",
    "class config:\n",
    "    AMP = False\n",
    "    BATCH_SIZE_TRAIN = 8 #32\n",
    "    BATCH_SIZE_VALID = 8 #32\n",
    "    DEBUG = False\n",
    "    EPOCHS = 4  #30\n",
    "    FOLDS = 5\n",
    "    GRADIENT_ACCUMULATION_STEPS = 1\n",
    "    LEARNING_RATE = 1e-3\n",
    "    MAX_GRAD_NORM = 1e7\n",
    "    NUM_WORKERS = 0 # multiprocessing.cpu_count()\n",
    "    PRINT_FREQ = 20\n",
    "    SEED = 20\n",
    "    WEIGHT_DECAY = 0.01\n",
    "    PAD_PERCENTILE = 95\n",
    "    SEQUENCE_LENGTH = 150\n",
    "\n",
    "class paths:\n",
    "    BASE_DIR = Path(\"C:/Users/konno/SynologyDrive/datasciense/projects_foler/1_kaggle/CMI/cmi-detect-behavior-with-sensor-data\")\n",
    "    \n",
    "    OUTPUT_DIR = BASE_DIR / \"output-02-wavenet\"\n",
    "    TEST_CSV = BASE_DIR / \"test.csv\"\n",
    "    TEST_DEMOGRAPHICS = BASE_DIR / \"test_demographics.csv\"\n",
    "    TRAIN_CSV = BASE_DIR / \"train.csv\"\n",
    "    TRAIN_DEMOGRAPHICS = BASE_DIR / \"train_demographics.csv\"\n",
    "\n",
    "device = torch.device(\"cuda\" if torch.cuda.is_available() else \"cpu\")\n",
    "\n",
    "print(\"▶ imports ready · torch\", torch.__version__, \"device :\", device)"
   ]
  },
  {
   "cell_type": "code",
   "execution_count": 3,
   "id": "78a92808",
   "metadata": {},
   "outputs": [],
   "source": [
    "def seed_everything(seed=42):\n",
    "    os.environ[\"PYTHONHASHSEED\"] = str(seed)\n",
    "    random.seed(seed)\n",
    "    np.random.seed(seed)\n",
    "    torch.manual_seed(seed)\n",
    "    torch.cuda.manual_seed(seed)\n",
    "    torch.cuda.manual_seed_all(seed)  # if using multi-GPU\n",
    "    torch.backends.cudnn.deterministic = True\n",
    "    torch.backends.cudnn.benchmark = False"
   ]
  },
  {
   "cell_type": "code",
   "execution_count": 47,
   "id": "39b94e22",
   "metadata": {},
   "outputs": [],
   "source": [
    "\n",
    "class MotionDataset(torch.utils.data.Dataset):\n",
    "    def __init__(self, X, y, alpha=0.2):\n",
    "        \"\"\"\n",
    "        X: np.array or torch.Tensor of shape (N, )\n",
    "        y: np.array or torch.Tensor if shaoe (N, )\n",
    "        alpha: Beta distribution parameter for mixup\n",
    "        \"\"\"\n",
    "        self.X = torch.tensor(X, dtype=torch.float32) if isinstance(X, np.ndarray) else X\n",
    "        self.y = torch.tensor(y, dtype=torch.float32) if isinstance(y, np.ndarray) else y\n",
    "        self.alpha = alpha\n",
    "\n",
    "    def __len__(self):\n",
    "        return len(self.X)\n",
    "\n",
    "    def __getitem__(self, idx):\n",
    "        x1, y1 = self.X[idx], self.y[idx]\n",
    "        \n",
    "        # Create shuffle tensor\n",
    "        shuffle_index = np.random.randint(0, len(self.X))\n",
    "        x2, y2 = self.X[shuffle_index], self.y[shuffle_index]       \n",
    "\n",
    "        # Mix\n",
    "        weight = np.random.beta(self.alpha, self.alpha)\n",
    "        x_mix = x1 * weight + x2 * (1 - weight)\n",
    "        y_mix = y1 * weight + y2 * (1 - weight)\n",
    "\n",
    "        return x_mix, y_mix\n",
    "    \n",
    "# train_dataset = MixupDataset(config, df_train, X_tr, y_tr, y_soft_tr)\n",
    "# train_loader = DataLoader(train_dataset, batch_size=config.BATCH_SIZE_TRAIN, shuffle=True)\n",
    "# val_dataset = CustomDataset(config, df_train, X_val, y_val, y_soft_val)\n",
    "# val_loader = DataLoader(val_dataset, batch_size=config.BATCH_SIZE_VALID, shuffle=True)\n",
    "\n",
    "def pad_or_truncate(seq, max_len, mode=TRAIN, pad_value=0.0, dtype=np.float32) -> np.ndarray:\n",
    "    \"\"\"\n",
    "    Pads or truncates a sequence to a fixed length.\n",
    "\n",
    "    Parameters:\n",
    "    - seq: np.ndarray of shape (L, D)\n",
    "    - max_len: int, desired sequence length\n",
    "    - mode: bool, True = random pad, False = regular pad\n",
    "    - pad_value: float or int, value to use for padding\n",
    "    - dtype: np.dtype, dtype for the output array\n",
    "\n",
    "    Returns:\n",
    "    - np.ndarray of shape (max_len, D)\n",
    "    \"\"\"\n",
    "    # print(\"sequence shape\", seq.shape)\n",
    "    L, D = seq.shape\n",
    "    # print(\"mode = \", mode)\n",
    "\n",
    "    if L > max_len:\n",
    "        return seq[:max_len] # truncate if too long\n",
    "\n",
    "    elif L < max_len:\n",
    "        total_padding = max_len - L\n",
    "        \n",
    "        if mode:\n",
    "            pad_start = np.random.randint(0, total_padding + 1)\n",
    "            pad_end = total_padding - pad_start\n",
    "            \n",
    "        else:\n",
    "            pad_start = 0\n",
    "            pad_end = total_padding\n",
    "\n",
    "        start_padding = np.full((pad_start, D), pad_value, dtype=dtype)\n",
    "        end_padding = np.full((pad_end, D), pad_value, dtype=dtype)\n",
    "        padded = np.vstack((start_padding, seq, end_padding))\n",
    "        # print(\"padded shape\", padded.shape)\n",
    "        return padded\n",
    "\n",
    "    else:\n",
    "        return seq.astype(dtype)"
   ]
  },
  {
   "cell_type": "code",
   "execution_count": 5,
   "id": "7ce8f83b",
   "metadata": {},
   "outputs": [],
   "source": [
    "def remove_gravity_from_acc(acc_data, rot_data):\n",
    "\n",
    "    if isinstance(acc_data, pd.DataFrame):\n",
    "        acc_values = acc_data[['acc_x', 'acc_y', 'acc_z']].values\n",
    "    else:\n",
    "        acc_values = acc_data\n",
    "\n",
    "    if isinstance(rot_data, pd.DataFrame):\n",
    "        quat_values = rot_data[['rot_x', 'rot_y', 'rot_z', 'rot_w']].values\n",
    "    else:\n",
    "        quat_values = rot_data\n",
    "\n",
    "    num_samples = acc_values.shape[0]\n",
    "    linear_accel = np.zeros_like(acc_values)\n",
    "    \n",
    "    gravity_world = np.array([0, 0, 9.81])\n",
    "\n",
    "    for i in range(num_samples):\n",
    "        if np.all(np.isnan(quat_values[i])) or np.all(np.isclose(quat_values[i], 0)):\n",
    "            linear_accel[i, :] = acc_values[i, :] \n",
    "            continue\n",
    "\n",
    "        try:\n",
    "            rotation = R.from_quat(quat_values[i])\n",
    "            gravity_sensor_frame = rotation.apply(gravity_world, inverse=True)\n",
    "            linear_accel[i, :] = acc_values[i, :] - gravity_sensor_frame\n",
    "        except ValueError:\n",
    "             linear_accel[i, :] = acc_values[i, :]\n",
    "             \n",
    "    return linear_accel\n",
    "\n",
    "def calculate_angular_velocity_from_quat(rot_data, time_delta=1/200): # Assuming 200Hz sampling rate\n",
    "    if isinstance(rot_data, pd.DataFrame):\n",
    "        quat_values = rot_data[['rot_x', 'rot_y', 'rot_z', 'rot_w']].values\n",
    "    else:\n",
    "        quat_values = rot_data\n",
    "\n",
    "    num_samples = quat_values.shape[0]\n",
    "    angular_vel = np.zeros((num_samples, 3))\n",
    "\n",
    "    for i in range(num_samples - 1):\n",
    "        q_t = quat_values[i]\n",
    "        q_t_plus_dt = quat_values[i+1]\n",
    "\n",
    "        if np.all(np.isnan(q_t)) or np.all(np.isclose(q_t, 0)) or \\\n",
    "           np.all(np.isnan(q_t_plus_dt)) or np.all(np.isclose(q_t_plus_dt, 0)):\n",
    "            continue\n",
    "\n",
    "        try:\n",
    "            rot_t = R.from_quat(q_t)\n",
    "            rot_t_plus_dt = R.from_quat(q_t_plus_dt)\n",
    "\n",
    "            # Calculate the relative rotation\n",
    "            delta_rot = rot_t.inv() * rot_t_plus_dt\n",
    "            \n",
    "            # Convert delta rotation to angular velocity vector\n",
    "            # The rotation vector (Euler axis * angle) scaled by 1/dt\n",
    "            # is a good approximation for small delta_rot\n",
    "            angular_vel[i, :] = delta_rot.as_rotvec() / time_delta\n",
    "        except ValueError:\n",
    "            # If quaternion is invalid, angular velocity remains zero\n",
    "            pass\n",
    "            \n",
    "    return angular_vel\n",
    "\n",
    "def calculate_angular_distance(rot_data):\n",
    "    if isinstance(rot_data, pd.DataFrame):\n",
    "        quat_values = rot_data[['rot_x', 'rot_y', 'rot_z', 'rot_w']].values\n",
    "    else:\n",
    "        quat_values = rot_data\n",
    "\n",
    "    num_samples = quat_values.shape[0]\n",
    "    angular_dist = np.zeros(num_samples)\n",
    "\n",
    "    for i in range(num_samples - 1):\n",
    "        q1 = quat_values[i]\n",
    "        q2 = quat_values[i+1]\n",
    "\n",
    "        if np.all(np.isnan(q1)) or np.all(np.isclose(q1, 0)) or \\\n",
    "           np.all(np.isnan(q2)) or np.all(np.isclose(q2, 0)):\n",
    "            angular_dist[i] = 0 # Или np.nan, в зависимости от желаемого поведения\n",
    "            continue\n",
    "        try:\n",
    "            # Преобразование кватернионов в объекты Rotation\n",
    "            r1 = R.from_quat(q1)\n",
    "            r2 = R.from_quat(q2)\n",
    "\n",
    "            # Вычисление углового расстояния: 2 * arccos(|real(p * q*)|)\n",
    "            # где p* - сопряженный кватернион q\n",
    "            # В scipy.spatial.transform.Rotation, r1.inv() * r2 дает относительное вращение.\n",
    "            # Угол этого относительного вращения - это и есть угловое расстояние.\n",
    "            relative_rotation = r1.inv() * r2\n",
    "            \n",
    "            # Угол rotation vector соответствует угловому расстоянию\n",
    "            # Норма rotation vector - это угол в радианах\n",
    "            angle = np.linalg.norm(relative_rotation.as_rotvec())\n",
    "            angular_dist[i] = angle\n",
    "        except ValueError:\n",
    "            angular_dist[i] = 0 # В случае недействительных кватернионов\n",
    "            pass\n",
    "            \n",
    "    return angular_dist\n",
    "\n",
    "def print_memory():\n",
    "    process = psutil.Process()\n",
    "    print(f\"Memory Usage: {process.memory_info().rss / 1024**2:.2f} MB\")\n",
    "\n",
    "def parse_tof_column(col):\n",
    "    # Match patterns like 'tof_1_v42' or 'tof_1_v42_norm'\n",
    "    match = re.match(r\"tof_(\\d+)_v(\\d+)\", col)\n",
    "    if match:\n",
    "        sensor_num = int(match.group(1))\n",
    "        pixel_num = int(match.group(2))\n",
    "        return (sensor_num, pixel_num)\n",
    "    else:\n",
    "        return (float('inf'), float('inf'))  # put unmatchable columns at the end"
   ]
  },
  {
   "cell_type": "code",
   "execution_count": 6,
   "id": "1a8e2aab",
   "metadata": {},
   "outputs": [],
   "source": [
    "\n",
    "class SEBlock1D(nn.Module):\n",
    "    def __init__(self, channels, reduction=8):\n",
    "        super().__init__()\n",
    "        self.global_avg_pool = nn.AdaptiveAvgPool1d(1)\n",
    "        self.fc1 = nn.Linear(channels, channels // reduction)\n",
    "        self.fc2 = nn.Linear(channels // reduction, channels)\n",
    "\n",
    "    def forward(self, x):\n",
    "        # x shape: (batch, channels, time)\n",
    "        b, c, _ = x.size()\n",
    "        y = self.global_avg_pool(x).view(b, c)\n",
    "        y = F.relu(self.fc1(y))\n",
    "        y = torch.sigmoid(self.fc2(y)).view(b, c, 1)\n",
    "        return x * y.expand_as(x)\n",
    "\n",
    "class ResidualSEBlock1D(nn.Module):\n",
    "    def __init__(self, in_channels, out_channels, kernel_size=3, pool_size=2, dropout=0.3):\n",
    "        super().__init__()\n",
    "        self.conv1 = nn.Conv1d(in_channels, out_channels, kernel_size, padding=kernel_size // 2, bias=False)\n",
    "        self.bn1 = nn.BatchNorm1d(out_channels)\n",
    "        self.conv2 = nn.Conv1d(out_channels, out_channels, kernel_size, padding=kernel_size // 2, bias=False)\n",
    "        self.bn2 = nn.BatchNorm1d(out_channels)\n",
    "        self.se = SEBlock1D(out_channels)\n",
    "        \n",
    "        self.match_channels = None\n",
    "        if in_channels != out_channels:\n",
    "            self.match_channels = nn.Sequential(\n",
    "                nn.Conv1d(in_channels, out_channels, kernel_size=1, padding=0, bias=False),\n",
    "                nn.BatchNorm1d(out_channels)\n",
    "            )\n",
    "        \n",
    "        self.pool = nn.MaxPool1d(pool_size)\n",
    "        self.dropout = nn.Dropout(dropout)\n",
    "\n",
    "    def forward(self, x):\n",
    "        identity = x\n",
    "        out = F.relu(self.bn1(self.conv1(x)))\n",
    "        out = F.relu(self.bn2(self.conv2(out)))\n",
    "        out = self.se(out)\n",
    "\n",
    "        if self.match_channels is not None:\n",
    "            identity = self.match_channels(identity)\n",
    "        \n",
    "        out = F.relu(out + identity)\n",
    "        out = self.pool(out)\n",
    "        out = self.dropout(out)\n",
    "        return out\n",
    "\n",
    "class AttentionLayer(nn.Module):\n",
    "    def __init__(self, input_dim):\n",
    "        super().__init__()\n",
    "        self.attn_fc = nn.Linear(input_dim, 1)\n",
    "\n",
    "    def forward(self, x):\n",
    "        # x shape: (batch, time, features)\n",
    "        # Compute scores with tanh activation\n",
    "        scores = torch.tanh(self.attn_fc(x))  # (batch, time, 1)\n",
    "        scores = scores.squeeze(-1)           # (batch, time)\n",
    "\n",
    "        # Softmax over time dimension to get weights\n",
    "        weights = F.softmax(scores, dim=1)    # (batch, time)\n",
    "        weights = weights.unsqueeze(-1)       # (batch, time, 1)\n",
    "\n",
    "        # Weighted sum of input features over time\n",
    "        context = (x * weights).sum(dim=1)    # (batch, features)\n",
    "        return context\n",
    "\n",
    "class TwoBranchGestureModel(nn.Module):\n",
    "    def __init__(self, imu_dim, tof_dim, n_classes, wd=1e-4):\n",
    "        super().__init__()\n",
    "        self.imu_dim = imu_dim\n",
    "        self.tof_dim = tof_dim\n",
    "        \n",
    "        # IMU deep branch\n",
    "        self.imu_branch = nn.Sequential(\n",
    "            ResidualSEBlock1D(imu_dim, 64, kernel_size=3, dropout=0.1),\n",
    "            ResidualSEBlock1D(64, 128, kernel_size=5, dropout=0.1)\n",
    "        )\n",
    "\n",
    "        # TOF Lighter branch\n",
    "        self.tof_branch = nn.Sequential(\n",
    "            nn.Conv1d(tof_dim, 64, kernel_size=3, padding=1, bias=False),\n",
    "            nn.BatchNorm1d(64),\n",
    "            nn.ReLU(),\n",
    "            nn.MaxPool1d(2),\n",
    "            nn.Dropout(0.2),\n",
    "            nn.Conv1d(64, 128, kernel_size=3, padding=1, bias=False),\n",
    "            nn.BatchNorm1d(128),\n",
    "            nn.MaxPool1d(2),\n",
    "            nn.Dropout(0.2),\n",
    "        )\n",
    "\n",
    "        self.lstm = nn.LSTM(256, 128, batch_first=True, bidirectional=True)\n",
    "        self.gru = nn.GRU(256, 128, batch_first=True, bidirectional=True)\n",
    "\n",
    "        # Gaussian noise (manual) and projection\n",
    "        self.projection = nn.Sequential(\n",
    "            nn.Dropout(0.09),\n",
    "            nn.Linear(256, 16),\n",
    "            nn.ELU()\n",
    "        )\n",
    "\n",
    "        self.pre_attn_dropout = nn.Dropout(0.4)\n",
    "        self.attn = AttentionLayer(128*2 + 128*2 + 16)\n",
    "\n",
    "        # Dense layer\n",
    "        self.mlp = nn.Sequential(\n",
    "            nn.Linear(528, 256, bias=False),\n",
    "            nn.BatchNorm1d(256),\n",
    "            nn.ReLU(),\n",
    "            nn.Dropout(0,5),\n",
    "            nn.Linear(256, 128, bias=False),\n",
    "            nn.ReLU(),\n",
    "            nn.Dropout(0.3),\n",
    "            nn.Linear(128, n_classes),  # Softmax handled by loss (e.g., CrossEntropyLoss)\n",
    "        )\n",
    "    \n",
    "    def forward(self, x):\n",
    "        imu = x[:, :, :self.imu_dim].permute(0, 2, 1) #(B, imu_dim, T)\n",
    "        tof = x[: ,:, self.imu_dim:].permute(0, 2, 1) #(B, tof_dim, T)\n",
    "\n",
    "        imu_feat = self.imu_branch(imu)\n",
    "        tof_feat = self.tof_branch(tof)\n",
    "\n",
    "        imu_feat = imu_feat.permute(0, 2, 1)\n",
    "        tof_feat = tof_feat.permute(0, 2, 1)\n",
    "\n",
    "        merged = torch.cat([imu_feat, tof_feat], dim=-1)  #(B, T', 256)\n",
    "\n",
    "        xa, _ = self.lstm(merged)\n",
    "        xb, _ = self.gru(merged)\n",
    "        xc = self.projection(merged)\n",
    "\n",
    "        x_cat = torch.cat([xa, xb, xc], dim=-1)  #(B, T', 512)\n",
    "        x_cat = self.pre_attn_dropout(x_cat)\n",
    "        context = self.attn(x_cat)\n",
    "\n",
    "        return self.mlp(context)"
   ]
  },
  {
   "cell_type": "code",
   "execution_count": null,
   "id": "4d061e3b",
   "metadata": {},
   "outputs": [],
   "source": [
    "# ####  DATA SAMPLE to delete\n",
    "# df_data = pd.read_csv(paths.TRAIN_CSV, nrows=5000)\n",
    "# df = df_data.fillna(0)\n",
    "\n",
    "# le = LabelEncoder()\n",
    "# df['gesture_int'] = le.fit_transform(df['gesture'])\n",
    "# np.save(paths.OUTPUT_DIR / \"gesture_classes.npy\", le.classes_)\n",
    "\n",
    "# # print(df[['gesture_int', 'gesture', 'acc_x']].groupby('gesture').first())\n",
    "\n",
    "# seq_gp = df.groupby('sequence_id') \n",
    "# seq_id, group_df = next(iter(seq_gp))\n",
    "# # print(\"seq id\", seq_id)\n",
    "# # print(\"group df:\", group_df[['gesture_int', 'gesture', 'acc_x']][:3])\n",
    "# # print(\"df\", df[['gesture_int', 'gesture', 'acc_x']][:3])\n",
    "\n",
    "# all_steps_for_scaler_list = []\n",
    "# X_list_unscaled, y_list_int_for_stratify, lens = [], [], [] \n",
    "\n",
    "# for seq_id, seq_df_orig in seq_gp:\n",
    "#     seq_df = seq_df_orig.copy()\n",
    "\n",
    "#     y_list_int_for_stratify.append(seq_df['gesture_int'].iloc[0])\n",
    "\n",
    "# # print(y_list_int_for_stratify[:10])\n",
    "\n",
    "# labels_tensor = torch.tensor(df['gesture_int'].values, dtype=torch.long)\n",
    "# one_hot_tensor = F.one_hot(labels_tensor, num_classes=len(le.classes_))\n",
    "# df['gesture_int_oh'] = one_hot_tensor.numpy().tolist()  # now each cell is a list\n",
    "\n",
    "# subset_df = df[['gesture_int', 'gesture_int_oh']].head(500)\n",
    "# subset_df.to_csv('gesture_with_onehot.csv', index=False)\n"
   ]
  },
  {
   "cell_type": "code",
   "execution_count": 53,
   "id": "75992ffc",
   "metadata": {},
   "outputs": [
    {
     "name": "stdout",
     "output_type": "stream",
     "text": [
      "▶ TRAIN MODE – loading dataset …\n",
      "merged df shape : (574945, 348)\n",
      "Memory Usage: 3106.66 MB\n",
      " 0/6 Calculating elbow_to_wrist_cm shoulder_to_wrist_cm adjustment ...\n",
      " 1/6 Calculating base engineered IMU features (magnitude, angle) ...\n",
      " 2/6 Calculating engineered IMU derivatives (jerk, angular velocity) for original acc_mag ...\n",
      " 3/6 Removing gravity and calculating linear acceleration features...\n",
      " 4/6 Calculating angular velocity from quaternion derivatives...\n",
      " 5/6 Calculating angular distance between successive quaternions...\n",
      "Memory Usage: 3571.73 MB\n",
      " 6/6 Calculating imu_cols_base ...\n",
      "length of imu_cols : 35 Obtaining tof columns ......\n",
      "tof_columns length : 320\n",
      "✅ Preprocessing done.\n",
      "Memory Usage: 3572.50 MB\n"
     ]
    }
   ],
   "source": [
    "### DATA CREATION and PRE PROCESSING\n",
    "\n",
    "print(\"▶ TRAIN MODE – loading dataset …\")\n",
    "\n",
    "df_data = pd.read_csv(paths.TRAIN_CSV)\n",
    "df_data = df_data.fillna(0)\n",
    "\n",
    "train_dem_df = pd.read_csv(paths.TRAIN_DEMOGRAPHICS)\n",
    "df = pd.merge(df_data.copy(), train_dem_df, on='subject', how='left')\n",
    "print(\"merged df shape :\", df.shape)\n",
    "\n",
    "le = LabelEncoder()\n",
    "df['gesture_int'] = le.fit_transform(df['gesture'])\n",
    "np.save(paths.OUTPUT_DIR / \"gesture_classes.npy\", le.classes_)\n",
    "gesture_classes = le.classes_\n",
    "\n",
    "print_memory()\n",
    "\n",
    "print(\" 0/6 Calculating elbow_to_wrist_cm shoulder_to_wrist_cm adjustment ...\")\n",
    "\n",
    "df[\"acc_x_norm_ew\"] = df[\"acc_x\"] / df[\"elbow_to_wrist_cm\"]\n",
    "df[\"acc_y_norm_ew\"] = df[\"acc_y\"] / df[\"elbow_to_wrist_cm\"]\n",
    "df[\"acc_z_norm_ew\"] = df[\"acc_z\"] / df[\"elbow_to_wrist_cm\"]\n",
    "\n",
    "df[\"acc_x_norm_sw\"] = df[\"acc_x\"] / df[\"shoulder_to_wrist_cm\"]\n",
    "df[\"acc_y_norm_sw\"] = df[\"acc_y\"] / df[\"shoulder_to_wrist_cm\"]\n",
    "df[\"acc_z_norm_sw\"] = df[\"acc_z\"] / df[\"shoulder_to_wrist_cm\"]\n",
    "\n",
    "print(\" 1/6 Calculating base engineered IMU features (magnitude, angle) ...\")\n",
    "\n",
    "df['acc_mag'] = np.sqrt(df['acc_x']**2 + df['acc_y']**2 + df['acc_z']**2)\n",
    "df['rot_angle'] = 2* np.arccos(df['rot_w'].clip(-1, 1))\n",
    "\n",
    "print(\" 2/6 Calculating engineered IMU derivatives (jerk, angular velocity) for original acc_mag ...\")\n",
    "\n",
    "df['acc_mag_jerk'] = df.groupby('sequence_id')['acc_mag'].diff().fillna(0)\n",
    "df['rot_angle_vel'] = df.groupby('sequence_id')['rot_angle'].diff().fillna(0)\n",
    "\n",
    "print(\" 3/6 Removing gravity and calculating linear acceleration features...\")\n",
    "\n",
    "linear_accel_list = []\n",
    "for _, group in df.groupby('sequence_id'):\n",
    "    acc_data_group = group[['acc_x', 'acc_y', 'acc_z']]\n",
    "    rot_data_group = group[['rot_x', 'rot_y', 'rot_z', 'rot_w']]\n",
    "    linear_accel_group = remove_gravity_from_acc(acc_data_group, rot_data_group)\n",
    "    linear_accel_list.append(pd.DataFrame(linear_accel_group, columns=['linear_acc_x', 'linear_acc_y', 'linear_acc_z'], index=group.index))\n",
    "\n",
    "df_linear_accel = pd.concat(linear_accel_list)\n",
    "df = pd.concat([df, df_linear_accel], axis=1)\n",
    "del df_linear_accel, linear_accel_list  # Memory Management\n",
    "gc.collect()  # Memory Management\n",
    "\n",
    "df['linear_acc_mag'] = np.sqrt(df['linear_acc_x']**2 + df['linear_acc_y']**2 + df['linear_acc_z']**2)\n",
    "df['linear_acc_mag_jerk'] = df.groupby('sequence_id')['linear_acc_mag'].diff().fillna(0)\n",
    "\n",
    "print(\" 4/6 Calculating angular velocity from quaternion derivatives...\")\n",
    "angular_vel_list = []\n",
    "for _, group in df.groupby('sequence_id'):\n",
    "    rot_data_group = group[['rot_x', 'rot_y', 'rot_z', 'rot_w']]\n",
    "    angular_vel_group = calculate_angular_velocity_from_quat(rot_data_group)\n",
    "    angular_vel_list.append(pd.DataFrame(angular_vel_group, columns=['angular_vel_x', 'angular_vel_y', 'angular_vel_z'], index=group.index))\n",
    "\n",
    "df_angular_vel = pd.concat(angular_vel_list)\n",
    "df = pd.concat([df, df_angular_vel], axis=1)\n",
    "del angular_vel_list, df_angular_vel # Memory Management\n",
    "gc.collect() # Memory Management\n",
    "\n",
    "print(\" 5/6 Calculating angular distance between successive quaternions...\")\n",
    "angular_distance_list = []\n",
    "for _, group in df.groupby('sequence_id'):\n",
    "    rot_data_group = group[['rot_x', 'rot_y', 'rot_z', 'rot_w']]\n",
    "    angular_dist_group = calculate_angular_distance(rot_data_group)\n",
    "    angular_distance_list.append(pd.DataFrame(angular_dist_group, columns=['angular_distance'], index=group.index))\n",
    "\n",
    "df_angular_distance = pd.concat(angular_distance_list)\n",
    "df = pd.concat([df, df_angular_distance], axis=1)\n",
    "del angular_distance_list, df_angular_distance # Memory Management\n",
    "gc.collect() # Memory Management\n",
    "\n",
    "print_memory()\n",
    "\n",
    "meta_cols = { } # This was an empty dict in your provided code, keeping it as is.\n",
    "\n",
    "print(\" 6/6 Calculating imu_cols_base ...\")\n",
    "imu_cols_orig = ['acc_x', 'acc_y', 'acc_z',\n",
    "            'rot_w', 'rot_x', 'rot_y', 'rot_z',\n",
    "            'thm_1', 'thm_2', 'thm_3', 'thm_4', 'thm_5']\n",
    "\n",
    "imu_cols_base = ['linear_acc_x', 'linear_acc_y', 'linear_acc_z']\n",
    "imu_cols_base.extend([c for c in df.columns if c.startswith('rot_') and c not in ['rot_angle', 'rot_angle_vel']])\n",
    "\n",
    "imu_engineered_features = [\n",
    "    'acc_x_norm_ew', 'acc_y_norm_ew', 'acc_z_norm_ew',  # new from demographics\n",
    "    'acc_x_norm_sw', 'acc_y_norm_sw', 'acc_z_norm_sw',  # new from demographics\n",
    "    'acc_mag', 'rot_angle',\n",
    "    'acc_mag_jerk', 'rot_angle_vel',\n",
    "    'linear_acc_mag', 'linear_acc_mag_jerk',\n",
    "    'angular_vel_x', 'angular_vel_y', 'angular_vel_z', # Existing new features\n",
    "    'angular_distance' # Added new feature\n",
    "]\n",
    "\n",
    "dem_features = [\n",
    "    'adult_child', 'age',\n",
    "    'sex', 'handedness',\n",
    "]\n",
    "\n",
    "imu_cols = list(dict.fromkeys(imu_cols_orig + imu_cols_base + imu_engineered_features + dem_features))  # Remove dups\n",
    "\n",
    "print(\"length of imu_cols :\", len(imu_cols), \"Obtaining tof columns ......\")\n",
    "\n",
    "tof_columns = [col for col in df.columns if col.startswith(\"tof_\")]\n",
    "tof_columns = sorted(tof_columns, key=parse_tof_column)\n",
    "\n",
    "sequence_ids = df[\"sequence_id\"].unique()\n",
    "\n",
    "print(\"tof_columns length :\", len(tof_columns))\n",
    "\n",
    "del imu_cols_orig, imu_cols_base, imu_engineered_features, dem_features # Memory Management\n",
    "gc.collect() # Memory Management\n",
    "\n",
    "print(\"✅ Preprocessing done.\")\n",
    "print_memory()\n",
    "\n",
    "# thm_cols_original = [c for c in df.columns if c.startswith('thm_')"
   ]
  },
  {
   "cell_type": "code",
   "execution_count": 54,
   "id": "dbb0061c",
   "metadata": {},
   "outputs": [
    {
     "name": "stdout",
     "output_type": "stream",
     "text": [
      "SEQUENCE_LENGTH : 103\n",
      "X shape torch.Size([8151, 103, 355]) | y shape torch.Size([8151, 18])\n",
      "length of imu 35\n",
      "length of tof 320\n",
      "Memory Usage: 4410.70 MB\n"
     ]
    }
   ],
   "source": [
    "### DATA CONFIGURATION\n",
    "\n",
    "# Estimate the max length\n",
    "sequence_lengths = df.groupby('sequence_id').size().values  # length of each sequence\n",
    "SEQUENCE_LENGTH = int(np.percentile(sequence_lengths, 90))\n",
    "print(\"SEQUENCE_LENGTH :\", SEQUENCE_LENGTH)\n",
    "\n",
    "X_2dim = df[imu_cols + tof_columns]\n",
    "X_list = []\n",
    "y_list = []\n",
    "\n",
    "for seq_id, group in df.groupby('sequence_id', sort=False):\n",
    "    X_seq = group[imu_cols + tof_columns].values.astype(np.float32)\n",
    "    X_list.append(X_seq)\n",
    "    y_list.append(group['gesture_int'].iloc[0])\n",
    "\n",
    "X_padded = np.stack([pad_or_truncate(seq, SEQUENCE_LENGTH) for seq in X_list])\n",
    "X = torch.tensor(X_padded, dtype=torch.float32)\n",
    "y = F.one_hot(torch.tensor(np.array(y_list)), num_classes=len(le.classes_)).float()\n",
    "print(f\"X shape {X.shape} | y shape {y.shape}\")\n",
    "\n",
    "X_tr, X_val, y_tr, y_val = train_test_split(\n",
    "    X, y,\n",
    "    test_size=0.2,  # 20% validation\n",
    "    random_state=42,\n",
    "    stratify=df.groupby(\"sequence_id\")[\"gesture\"].first()  # keeps gesture label distribution balanced\n",
    ")\n",
    "\n",
    "## Sanity Check\n",
    "for i, (seq_id, group) in enumerate(df.groupby('sequence_id', sort=False)):\n",
    "    assert y_list[i] == group['gesture_int'].iloc[0]\n",
    "print(\"length of imu\", len(imu_cols))\n",
    "print(\"length of tof\", len(tof_columns))\n",
    "\n",
    "train_dataset = MotionDataset(X_tr, y_tr, alpha=0.2)\n",
    "val_dataset   = MotionDataset(X_val, y_val, alpha=0.2)\n",
    "\n",
    "train_loader = DataLoader(train_dataset, batch_size=config.BATCH_SIZE_TRAIN, shuffle=True, num_workers=0)\n",
    "val_loader   = DataLoader(val_dataset, batch_size=config.BATCH_SIZE_VALID, shuffle=False, num_workers=0)\n",
    "\n",
    "del X_list, y_list, X_padded\n",
    "\n",
    "print_memory()"
   ]
  },
  {
   "cell_type": "code",
   "execution_count": 55,
   "id": "c0e9db62",
   "metadata": {},
   "outputs": [],
   "source": [
    "\n",
    "model = TwoBranchGestureModel(\n",
    "    imu_dim=len(imu_cols),         # channels per node (ToF + IMU)\n",
    "    tof_dim=len(tof_columns),         # channels per node (ToF + IMU)\n",
    "    n_classes=len(df[\"gesture\"].unique()),  # e.g., 20\n",
    ").to(device)"
   ]
  },
  {
   "cell_type": "code",
   "execution_count": 64,
   "id": "2c34d487",
   "metadata": {},
   "outputs": [
    {
     "name": "stdout",
     "output_type": "stream",
     "text": [
      "⏩ training started .....\n",
      "[ 0  1  2  3  4  5  6  7  8  9 10 11 12 13 14 15 16 17]\n",
      "(18,)\n",
      "▶️ Setting scheduler  .....\n",
      "✅ Epoch starts .....\n"
     ]
    },
    {
     "name": "stderr",
     "output_type": "stream",
     "text": [
      "1it [00:00,  7.60it/s]"
     ]
    },
    {
     "name": "stdout",
     "output_type": "stream",
     "text": [
      "Batch 0: x_imu shape torch.Size([8, 103, 355]), x_tof shape torch.Size([8, 18])\n",
      "logits.shape: torch.Size([8, 18])\n",
      "yb_indices.shape: torch.Size([8, 18])\n",
      "logits.shape: torch.Size([8, 18])\n",
      "yb_indices.shape: torch.Size([8, 18])\n"
     ]
    },
    {
     "name": "stderr",
     "output_type": "stream",
     "text": [
      "3it [00:00,  7.21it/s]"
     ]
    },
    {
     "name": "stdout",
     "output_type": "stream",
     "text": [
      "logits.shape: torch.Size([8, 18])\n",
      "yb_indices.shape: torch.Size([8, 18])\n",
      "logits.shape: torch.Size([8, 18])\n",
      "yb_indices.shape: torch.Size([8, 18])\n"
     ]
    },
    {
     "name": "stderr",
     "output_type": "stream",
     "text": [
      "5it [00:00,  7.58it/s]"
     ]
    },
    {
     "name": "stdout",
     "output_type": "stream",
     "text": [
      "logits.shape: torch.Size([8, 18])\n",
      "yb_indices.shape: torch.Size([8, 18])\n",
      "logits.shape: torch.Size([8, 18])\n",
      "yb_indices.shape: torch.Size([8, 18])\n"
     ]
    },
    {
     "name": "stderr",
     "output_type": "stream",
     "text": [
      "7it [00:00,  7.96it/s]"
     ]
    },
    {
     "name": "stdout",
     "output_type": "stream",
     "text": [
      "logits.shape: torch.Size([8, 18])\n",
      "yb_indices.shape: torch.Size([8, 18])\n",
      "logits.shape: torch.Size([8, 18])\n",
      "yb_indices.shape: torch.Size([8, 18])\n"
     ]
    },
    {
     "name": "stderr",
     "output_type": "stream",
     "text": [
      "9it [00:01,  8.24it/s]"
     ]
    },
    {
     "name": "stdout",
     "output_type": "stream",
     "text": [
      "logits.shape: torch.Size([8, 18])\n",
      "yb_indices.shape: torch.Size([8, 18])\n",
      "logits.shape: torch.Size([8, 18])\n",
      "yb_indices.shape: torch.Size([8, 18])\n"
     ]
    },
    {
     "name": "stderr",
     "output_type": "stream",
     "text": [
      "11it [00:01,  7.87it/s]"
     ]
    },
    {
     "name": "stdout",
     "output_type": "stream",
     "text": [
      "logits.shape: torch.Size([8, 18])\n",
      "yb_indices.shape: torch.Size([8, 18])\n",
      "logits.shape: torch.Size([8, 18])\n",
      "yb_indices.shape: torch.Size([8, 18])\n"
     ]
    },
    {
     "name": "stderr",
     "output_type": "stream",
     "text": [
      "14it [00:01,  8.32it/s]"
     ]
    },
    {
     "name": "stdout",
     "output_type": "stream",
     "text": [
      "logits.shape: torch.Size([8, 18])\n",
      "yb_indices.shape: torch.Size([8, 18])\n",
      "logits.shape: torch.Size([8, 18])\n",
      "yb_indices.shape: torch.Size([8, 18])\n"
     ]
    },
    {
     "name": "stderr",
     "output_type": "stream",
     "text": [
      "15it [00:01,  8.11it/s]"
     ]
    },
    {
     "name": "stdout",
     "output_type": "stream",
     "text": [
      "logits.shape: torch.Size([8, 18])\n",
      "yb_indices.shape: torch.Size([8, 18])\n",
      "logits.shape: torch.Size([8, 18])\n",
      "yb_indices.shape: torch.Size([8, 18])\n"
     ]
    },
    {
     "name": "stderr",
     "output_type": "stream",
     "text": [
      "17it [00:02,  8.45it/s]"
     ]
    },
    {
     "name": "stdout",
     "output_type": "stream",
     "text": [
      "logits.shape: torch.Size([8, 18])\n",
      "yb_indices.shape: torch.Size([8, 18])\n",
      "logits.shape: torch.Size([8, 18])\n",
      "yb_indices.shape: torch.Size([8, 18])\n",
      "logits.shape: torch.Size([8, 18])\n",
      "yb_indices.shape: torch.Size([8, 18])\n"
     ]
    },
    {
     "name": "stderr",
     "output_type": "stream",
     "text": [
      "21it [00:02,  9.95it/s]"
     ]
    },
    {
     "name": "stdout",
     "output_type": "stream",
     "text": [
      "logits.shape: torch.Size([8, 18])\n",
      "yb_indices.shape: torch.Size([8, 18])\n",
      "logits.shape: torch.Size([8, 18])\n",
      "yb_indices.shape: torch.Size([8, 18])\n"
     ]
    },
    {
     "name": "stderr",
     "output_type": "stream",
     "text": [
      "23it [00:02,  9.53it/s]"
     ]
    },
    {
     "name": "stdout",
     "output_type": "stream",
     "text": [
      "logits.shape: torch.Size([8, 18])\n",
      "yb_indices.shape: torch.Size([8, 18])\n",
      "logits.shape: torch.Size([8, 18])\n",
      "yb_indices.shape: torch.Size([8, 18])\n",
      "logits.shape: torch.Size([8, 18])\n",
      "yb_indices.shape: torch.Size([8, 18])\n"
     ]
    },
    {
     "name": "stderr",
     "output_type": "stream",
     "text": [
      "25it [00:02, 10.02it/s]"
     ]
    },
    {
     "name": "stdout",
     "output_type": "stream",
     "text": [
      "logits.shape: torch.Size([8, 18])\n",
      "yb_indices.shape: torch.Size([8, 18])\n",
      "logits.shape: torch.Size([8, 18])\n",
      "yb_indices.shape: torch.Size([8, 18])\n",
      "logits.shape: torch.Size([8, 18])\n",
      "yb_indices.shape: torch.Size([8, 18])\n"
     ]
    },
    {
     "name": "stderr",
     "output_type": "stream",
     "text": [
      "29it [00:03, 10.26it/s]"
     ]
    },
    {
     "name": "stdout",
     "output_type": "stream",
     "text": [
      "logits.shape: torch.Size([8, 18])\n",
      "yb_indices.shape: torch.Size([8, 18])\n",
      "logits.shape: torch.Size([8, 18])\n",
      "yb_indices.shape: torch.Size([8, 18])\n",
      "logits.shape: torch.Size([8, 18])\n",
      "yb_indices.shape: torch.Size([8, 18])\n"
     ]
    },
    {
     "name": "stderr",
     "output_type": "stream",
     "text": [
      "31it [00:03, 10.61it/s]"
     ]
    },
    {
     "name": "stdout",
     "output_type": "stream",
     "text": [
      "logits.shape: torch.Size([8, 18])\n",
      "yb_indices.shape: torch.Size([8, 18])\n",
      "logits.shape: torch.Size([8, 18])\n",
      "yb_indices.shape: torch.Size([8, 18])\n",
      "logits.shape: torch.Size([8, 18])\n",
      "yb_indices.shape: torch.Size([8, 18])\n"
     ]
    },
    {
     "name": "stderr",
     "output_type": "stream",
     "text": [
      "35it [00:03,  9.82it/s]"
     ]
    },
    {
     "name": "stdout",
     "output_type": "stream",
     "text": [
      "logits.shape: torch.Size([8, 18])\n",
      "yb_indices.shape: torch.Size([8, 18])\n",
      "logits.shape: torch.Size([8, 18])\n",
      "yb_indices.shape: torch.Size([8, 18])\n"
     ]
    },
    {
     "name": "stderr",
     "output_type": "stream",
     "text": [
      "36it [00:03,  9.74it/s]"
     ]
    },
    {
     "name": "stdout",
     "output_type": "stream",
     "text": [
      "logits.shape: torch.Size([8, 18])\n",
      "yb_indices.shape: torch.Size([8, 18])\n",
      "logits.shape: torch.Size([8, 18])\n",
      "yb_indices.shape: torch.Size([8, 18])\n",
      "logits.shape: torch.Size([8, 18])\n",
      "yb_indices.shape: torch.Size([8, 18])\n"
     ]
    },
    {
     "name": "stderr",
     "output_type": "stream",
     "text": [
      "40it [00:04, 10.56it/s]"
     ]
    },
    {
     "name": "stdout",
     "output_type": "stream",
     "text": [
      "logits.shape: torch.Size([8, 18])\n",
      "yb_indices.shape: torch.Size([8, 18])\n",
      "logits.shape: torch.Size([8, 18])\n",
      "yb_indices.shape: torch.Size([8, 18])\n",
      "logits.shape: torch.Size([8, 18])\n",
      "yb_indices.shape: torch.Size([8, 18])\n"
     ]
    },
    {
     "name": "stderr",
     "output_type": "stream",
     "text": [
      "42it [00:04, 10.28it/s]"
     ]
    },
    {
     "name": "stdout",
     "output_type": "stream",
     "text": [
      "logits.shape: torch.Size([8, 18])\n",
      "yb_indices.shape: torch.Size([8, 18])\n",
      "logits.shape: torch.Size([8, 18])\n",
      "yb_indices.shape: torch.Size([8, 18])\n"
     ]
    },
    {
     "name": "stderr",
     "output_type": "stream",
     "text": [
      "44it [00:04, 10.03it/s]"
     ]
    },
    {
     "name": "stdout",
     "output_type": "stream",
     "text": [
      "logits.shape: torch.Size([8, 18])\n",
      "yb_indices.shape: torch.Size([8, 18])\n",
      "logits.shape: torch.Size([8, 18])\n",
      "yb_indices.shape: torch.Size([8, 18])\n",
      "logits.shape: torch.Size([8, 18])\n",
      "yb_indices.shape: torch.Size([8, 18])\n"
     ]
    },
    {
     "name": "stderr",
     "output_type": "stream",
     "text": [
      "48it [00:05,  9.78it/s]"
     ]
    },
    {
     "name": "stdout",
     "output_type": "stream",
     "text": [
      "logits.shape: torch.Size([8, 18])\n",
      "yb_indices.shape: torch.Size([8, 18])\n",
      "logits.shape: torch.Size([8, 18])\n",
      "yb_indices.shape: torch.Size([8, 18])\n"
     ]
    },
    {
     "name": "stderr",
     "output_type": "stream",
     "text": [
      "49it [00:05,  9.70it/s]"
     ]
    },
    {
     "name": "stdout",
     "output_type": "stream",
     "text": [
      "logits.shape: torch.Size([8, 18])\n",
      "yb_indices.shape: torch.Size([8, 18])\n",
      "logits.shape: torch.Size([8, 18])\n",
      "yb_indices.shape: torch.Size([8, 18])\n",
      "logits.shape: torch.Size([8, 18])\n",
      "yb_indices.shape: torch.Size([8, 18])\n"
     ]
    },
    {
     "name": "stderr",
     "output_type": "stream",
     "text": [
      "53it [00:05, 10.14it/s]"
     ]
    },
    {
     "name": "stdout",
     "output_type": "stream",
     "text": [
      "logits.shape: torch.Size([8, 18])\n",
      "yb_indices.shape: torch.Size([8, 18])\n",
      "logits.shape: torch.Size([8, 18])\n",
      "yb_indices.shape: torch.Size([8, 18])\n",
      "logits.shape: torch.Size([8, 18])\n",
      "yb_indices.shape: torch.Size([8, 18])\n"
     ]
    },
    {
     "name": "stderr",
     "output_type": "stream",
     "text": [
      "55it [00:05,  9.99it/s]"
     ]
    },
    {
     "name": "stdout",
     "output_type": "stream",
     "text": [
      "logits.shape: torch.Size([8, 18])\n",
      "yb_indices.shape: torch.Size([8, 18])\n",
      "logits.shape: torch.Size([8, 18])\n",
      "yb_indices.shape: torch.Size([8, 18])\n",
      "logits.shape: torch.Size([8, 18])\n",
      "yb_indices.shape: torch.Size([8, 18])\n"
     ]
    },
    {
     "name": "stderr",
     "output_type": "stream",
     "text": [
      "59it [00:06, 10.22it/s]"
     ]
    },
    {
     "name": "stdout",
     "output_type": "stream",
     "text": [
      "logits.shape: torch.Size([8, 18])\n",
      "yb_indices.shape: torch.Size([8, 18])\n",
      "logits.shape: torch.Size([8, 18])\n",
      "yb_indices.shape: torch.Size([8, 18])\n",
      "logits.shape: torch.Size([8, 18])\n",
      "yb_indices.shape: torch.Size([8, 18])\n"
     ]
    },
    {
     "name": "stderr",
     "output_type": "stream",
     "text": [
      "61it [00:06, 10.00it/s]"
     ]
    },
    {
     "name": "stdout",
     "output_type": "stream",
     "text": [
      "logits.shape: torch.Size([8, 18])\n",
      "yb_indices.shape: torch.Size([8, 18])\n",
      "logits.shape: torch.Size([8, 18])\n",
      "yb_indices.shape: torch.Size([8, 18])\n"
     ]
    },
    {
     "name": "stderr",
     "output_type": "stream",
     "text": [
      "63it [00:06, 10.19it/s]"
     ]
    },
    {
     "name": "stdout",
     "output_type": "stream",
     "text": [
      "logits.shape: torch.Size([8, 18])\n",
      "yb_indices.shape: torch.Size([8, 18])\n",
      "logits.shape: torch.Size([8, 18])\n",
      "yb_indices.shape: torch.Size([8, 18])\n",
      "logits.shape: torch.Size([8, 18])\n",
      "yb_indices.shape: torch.Size([8, 18])\n"
     ]
    },
    {
     "name": "stderr",
     "output_type": "stream",
     "text": [
      "65it [00:06, 10.64it/s]"
     ]
    },
    {
     "name": "stdout",
     "output_type": "stream",
     "text": [
      "logits.shape: torch.Size([8, 18])\n",
      "yb_indices.shape: torch.Size([8, 18])\n"
     ]
    },
    {
     "name": "stderr",
     "output_type": "stream",
     "text": [
      "67it [00:07,  8.59it/s]"
     ]
    },
    {
     "name": "stdout",
     "output_type": "stream",
     "text": [
      "logits.shape: torch.Size([8, 18])\n",
      "yb_indices.shape: torch.Size([8, 18])\n",
      "logits.shape: torch.Size([8, 18])\n",
      "yb_indices.shape: torch.Size([8, 18])\n",
      "logits.shape: torch.Size([8, 18])\n",
      "yb_indices.shape: torch.Size([8, 18])\n"
     ]
    },
    {
     "name": "stderr",
     "output_type": "stream",
     "text": [
      "71it [00:07,  9.68it/s]"
     ]
    },
    {
     "name": "stdout",
     "output_type": "stream",
     "text": [
      "logits.shape: torch.Size([8, 18])\n",
      "yb_indices.shape: torch.Size([8, 18])\n",
      "logits.shape: torch.Size([8, 18])\n",
      "yb_indices.shape: torch.Size([8, 18])\n",
      "logits.shape: torch.Size([8, 18])\n",
      "yb_indices.shape: torch.Size([8, 18])\n"
     ]
    },
    {
     "name": "stderr",
     "output_type": "stream",
     "text": [
      "73it [00:07, 10.08it/s]"
     ]
    },
    {
     "name": "stdout",
     "output_type": "stream",
     "text": [
      "logits.shape: torch.Size([8, 18])\n",
      "yb_indices.shape: torch.Size([8, 18])\n",
      "logits.shape: torch.Size([8, 18])\n",
      "yb_indices.shape: torch.Size([8, 18])\n"
     ]
    },
    {
     "name": "stderr",
     "output_type": "stream",
     "text": [
      "76it [00:08,  9.42it/s]"
     ]
    },
    {
     "name": "stdout",
     "output_type": "stream",
     "text": [
      "logits.shape: torch.Size([8, 18])\n",
      "yb_indices.shape: torch.Size([8, 18])\n",
      "logits.shape: torch.Size([8, 18])\n",
      "yb_indices.shape: torch.Size([8, 18])\n"
     ]
    },
    {
     "name": "stderr",
     "output_type": "stream",
     "text": [
      "77it [00:08,  9.36it/s]"
     ]
    },
    {
     "name": "stdout",
     "output_type": "stream",
     "text": [
      "logits.shape: torch.Size([8, 18])\n",
      "yb_indices.shape: torch.Size([8, 18])\n",
      "logits.shape: torch.Size([8, 18])\n",
      "yb_indices.shape: torch.Size([8, 18])\n"
     ]
    },
    {
     "name": "stderr",
     "output_type": "stream",
     "text": [
      "79it [00:08,  7.57it/s]"
     ]
    },
    {
     "name": "stdout",
     "output_type": "stream",
     "text": [
      "logits.shape: torch.Size([8, 18])\n",
      "yb_indices.shape: torch.Size([8, 18])\n",
      "logits.shape: torch.Size([8, 18])\n",
      "yb_indices.shape: torch.Size([8, 18])\n"
     ]
    },
    {
     "name": "stderr",
     "output_type": "stream",
     "text": [
      "81it [00:08,  7.21it/s]"
     ]
    },
    {
     "name": "stdout",
     "output_type": "stream",
     "text": [
      "logits.shape: torch.Size([8, 18])\n",
      "yb_indices.shape: torch.Size([8, 18])\n",
      "logits.shape: torch.Size([8, 18])\n",
      "yb_indices.shape: torch.Size([8, 18])\n"
     ]
    },
    {
     "name": "stderr",
     "output_type": "stream",
     "text": [
      "83it [00:09,  7.21it/s]"
     ]
    },
    {
     "name": "stdout",
     "output_type": "stream",
     "text": [
      "logits.shape: torch.Size([8, 18])\n",
      "yb_indices.shape: torch.Size([8, 18])\n",
      "logits.shape: torch.Size([8, 18])\n",
      "yb_indices.shape: torch.Size([8, 18])\n"
     ]
    },
    {
     "name": "stderr",
     "output_type": "stream",
     "text": [
      "85it [00:09,  5.55it/s]"
     ]
    },
    {
     "name": "stdout",
     "output_type": "stream",
     "text": [
      "logits.shape: torch.Size([8, 18])\n",
      "yb_indices.shape: torch.Size([8, 18])\n",
      "logits.shape: torch.Size([8, 18])\n",
      "yb_indices.shape: torch.Size([8, 18])\n"
     ]
    },
    {
     "name": "stderr",
     "output_type": "stream",
     "text": [
      "87it [00:09,  5.28it/s]"
     ]
    },
    {
     "name": "stdout",
     "output_type": "stream",
     "text": [
      "logits.shape: torch.Size([8, 18])\n",
      "yb_indices.shape: torch.Size([8, 18])\n"
     ]
    },
    {
     "name": "stderr",
     "output_type": "stream",
     "text": [
      "88it [00:10,  5.52it/s]"
     ]
    },
    {
     "name": "stdout",
     "output_type": "stream",
     "text": [
      "logits.shape: torch.Size([8, 18])\n",
      "yb_indices.shape: torch.Size([8, 18])\n",
      "logits.shape: torch.Size([8, 18])\n",
      "yb_indices.shape: torch.Size([8, 18])\n"
     ]
    },
    {
     "name": "stderr",
     "output_type": "stream",
     "text": [
      "90it [00:10,  6.46it/s]"
     ]
    },
    {
     "name": "stdout",
     "output_type": "stream",
     "text": [
      "logits.shape: torch.Size([8, 18])\n",
      "yb_indices.shape: torch.Size([8, 18])\n",
      "logits.shape: torch.Size([8, 18])\n",
      "yb_indices.shape: torch.Size([8, 18])\n"
     ]
    },
    {
     "name": "stderr",
     "output_type": "stream",
     "text": [
      "93it [00:10,  6.85it/s]"
     ]
    },
    {
     "name": "stdout",
     "output_type": "stream",
     "text": [
      "logits.shape: torch.Size([8, 18])\n",
      "yb_indices.shape: torch.Size([8, 18])\n",
      "logits.shape: torch.Size([8, 18])\n",
      "yb_indices.shape: torch.Size([8, 18])\n"
     ]
    },
    {
     "name": "stderr",
     "output_type": "stream",
     "text": [
      "95it [00:10,  7.70it/s]"
     ]
    },
    {
     "name": "stdout",
     "output_type": "stream",
     "text": [
      "logits.shape: torch.Size([8, 18])\n",
      "yb_indices.shape: torch.Size([8, 18])\n",
      "logits.shape: torch.Size([8, 18])\n",
      "yb_indices.shape: torch.Size([8, 18])\n"
     ]
    },
    {
     "name": "stderr",
     "output_type": "stream",
     "text": [
      "97it [00:11,  8.18it/s]"
     ]
    },
    {
     "name": "stdout",
     "output_type": "stream",
     "text": [
      "logits.shape: torch.Size([8, 18])\n",
      "yb_indices.shape: torch.Size([8, 18])\n",
      "logits.shape: torch.Size([8, 18])\n",
      "yb_indices.shape: torch.Size([8, 18])\n"
     ]
    },
    {
     "name": "stderr",
     "output_type": "stream",
     "text": [
      "99it [00:11,  8.09it/s]"
     ]
    },
    {
     "name": "stdout",
     "output_type": "stream",
     "text": [
      "logits.shape: torch.Size([8, 18])\n",
      "yb_indices.shape: torch.Size([8, 18])\n",
      "logits.shape: torch.Size([8, 18])\n",
      "yb_indices.shape: torch.Size([8, 18])\n"
     ]
    },
    {
     "name": "stderr",
     "output_type": "stream",
     "text": [
      "101it [00:11,  8.00it/s]"
     ]
    },
    {
     "name": "stdout",
     "output_type": "stream",
     "text": [
      "logits.shape: torch.Size([8, 18])\n",
      "yb_indices.shape: torch.Size([8, 18])\n",
      "logits.shape: torch.Size([8, 18])\n",
      "yb_indices.shape: torch.Size([8, 18])\n"
     ]
    },
    {
     "name": "stderr",
     "output_type": "stream",
     "text": [
      "102it [00:11,  8.03it/s]"
     ]
    },
    {
     "name": "stdout",
     "output_type": "stream",
     "text": [
      "logits.shape: torch.Size([8, 18])\n",
      "yb_indices.shape: torch.Size([8, 18])\n",
      "logits.shape: torch.Size([8, 18])\n",
      "yb_indices.shape: torch.Size([8, 18])\n"
     ]
    },
    {
     "name": "stderr",
     "output_type": "stream",
     "text": [
      "104it [00:12,  7.45it/s]"
     ]
    },
    {
     "name": "stdout",
     "output_type": "stream",
     "text": [
      "logits.shape: torch.Size([8, 18])\n",
      "yb_indices.shape: torch.Size([8, 18])\n",
      "logits.shape: torch.Size([8, 18])\n",
      "yb_indices.shape: torch.Size([8, 18])\n"
     ]
    },
    {
     "name": "stderr",
     "output_type": "stream",
     "text": [
      "106it [00:12,  7.42it/s]"
     ]
    },
    {
     "name": "stdout",
     "output_type": "stream",
     "text": [
      "logits.shape: torch.Size([8, 18])\n",
      "yb_indices.shape: torch.Size([8, 18])\n",
      "logits.shape: torch.Size([8, 18])\n",
      "yb_indices.shape: torch.Size([8, 18])\n"
     ]
    },
    {
     "name": "stderr",
     "output_type": "stream",
     "text": [
      "108it [00:12,  7.11it/s]"
     ]
    },
    {
     "name": "stdout",
     "output_type": "stream",
     "text": [
      "logits.shape: torch.Size([8, 18])\n",
      "yb_indices.shape: torch.Size([8, 18])\n",
      "logits.shape: torch.Size([8, 18])\n",
      "yb_indices.shape: torch.Size([8, 18])\n"
     ]
    },
    {
     "name": "stderr",
     "output_type": "stream",
     "text": [
      "110it [00:12,  6.83it/s]"
     ]
    },
    {
     "name": "stdout",
     "output_type": "stream",
     "text": [
      "logits.shape: torch.Size([8, 18])\n",
      "yb_indices.shape: torch.Size([8, 18])\n",
      "logits.shape: torch.Size([8, 18])\n",
      "yb_indices.shape: torch.Size([8, 18])\n"
     ]
    },
    {
     "name": "stderr",
     "output_type": "stream",
     "text": [
      "112it [00:13,  6.51it/s]"
     ]
    },
    {
     "name": "stdout",
     "output_type": "stream",
     "text": [
      "logits.shape: torch.Size([8, 18])\n",
      "yb_indices.shape: torch.Size([8, 18])\n",
      "logits.shape: torch.Size([8, 18])\n",
      "yb_indices.shape: torch.Size([8, 18])\n"
     ]
    },
    {
     "name": "stderr",
     "output_type": "stream",
     "text": [
      "114it [00:13,  6.77it/s]"
     ]
    },
    {
     "name": "stdout",
     "output_type": "stream",
     "text": [
      "logits.shape: torch.Size([8, 18])\n",
      "yb_indices.shape: torch.Size([8, 18])\n",
      "logits.shape: torch.Size([8, 18])\n",
      "yb_indices.shape: torch.Size([8, 18])\n"
     ]
    },
    {
     "name": "stderr",
     "output_type": "stream",
     "text": [
      "116it [00:13,  6.70it/s]"
     ]
    },
    {
     "name": "stdout",
     "output_type": "stream",
     "text": [
      "logits.shape: torch.Size([8, 18])\n",
      "yb_indices.shape: torch.Size([8, 18])\n",
      "logits.shape: torch.Size([8, 18])\n",
      "yb_indices.shape: torch.Size([8, 18])\n"
     ]
    },
    {
     "name": "stderr",
     "output_type": "stream",
     "text": [
      "118it [00:14,  6.46it/s]"
     ]
    },
    {
     "name": "stdout",
     "output_type": "stream",
     "text": [
      "logits.shape: torch.Size([8, 18])\n",
      "yb_indices.shape: torch.Size([8, 18])\n",
      "logits.shape: torch.Size([8, 18])\n",
      "yb_indices.shape: torch.Size([8, 18])\n"
     ]
    },
    {
     "name": "stderr",
     "output_type": "stream",
     "text": [
      "120it [00:14,  6.71it/s]"
     ]
    },
    {
     "name": "stdout",
     "output_type": "stream",
     "text": [
      "logits.shape: torch.Size([8, 18])\n",
      "yb_indices.shape: torch.Size([8, 18])\n",
      "logits.shape: torch.Size([8, 18])\n",
      "yb_indices.shape: torch.Size([8, 18])\n"
     ]
    },
    {
     "name": "stderr",
     "output_type": "stream",
     "text": [
      "122it [00:14,  6.84it/s]"
     ]
    },
    {
     "name": "stdout",
     "output_type": "stream",
     "text": [
      "logits.shape: torch.Size([8, 18])\n",
      "yb_indices.shape: torch.Size([8, 18])\n",
      "logits.shape: torch.Size([8, 18])\n",
      "yb_indices.shape: torch.Size([8, 18])\n"
     ]
    },
    {
     "name": "stderr",
     "output_type": "stream",
     "text": [
      "124it [00:15,  7.01it/s]"
     ]
    },
    {
     "name": "stdout",
     "output_type": "stream",
     "text": [
      "logits.shape: torch.Size([8, 18])\n",
      "yb_indices.shape: torch.Size([8, 18])\n",
      "logits.shape: torch.Size([8, 18])\n",
      "yb_indices.shape: torch.Size([8, 18])\n"
     ]
    },
    {
     "name": "stderr",
     "output_type": "stream",
     "text": [
      "126it [00:15,  6.69it/s]"
     ]
    },
    {
     "name": "stdout",
     "output_type": "stream",
     "text": [
      "logits.shape: torch.Size([8, 18])\n",
      "yb_indices.shape: torch.Size([8, 18])\n",
      "logits.shape: torch.Size([8, 18])\n",
      "yb_indices.shape: torch.Size([8, 18])\n"
     ]
    },
    {
     "name": "stderr",
     "output_type": "stream",
     "text": [
      "128it [00:15,  6.79it/s]"
     ]
    },
    {
     "name": "stdout",
     "output_type": "stream",
     "text": [
      "logits.shape: torch.Size([8, 18])\n",
      "yb_indices.shape: torch.Size([8, 18])\n",
      "logits.shape: torch.Size([8, 18])\n",
      "yb_indices.shape: torch.Size([8, 18])\n"
     ]
    },
    {
     "name": "stderr",
     "output_type": "stream",
     "text": [
      "130it [00:15,  6.47it/s]"
     ]
    },
    {
     "name": "stdout",
     "output_type": "stream",
     "text": [
      "logits.shape: torch.Size([8, 18])\n",
      "yb_indices.shape: torch.Size([8, 18])\n",
      "logits.shape: torch.Size([8, 18])\n",
      "yb_indices.shape: torch.Size([8, 18])\n"
     ]
    },
    {
     "name": "stderr",
     "output_type": "stream",
     "text": [
      "132it [00:16,  6.65it/s]"
     ]
    },
    {
     "name": "stdout",
     "output_type": "stream",
     "text": [
      "logits.shape: torch.Size([8, 18])\n",
      "yb_indices.shape: torch.Size([8, 18])\n",
      "logits.shape: torch.Size([8, 18])\n",
      "yb_indices.shape: torch.Size([8, 18])\n"
     ]
    },
    {
     "name": "stderr",
     "output_type": "stream",
     "text": [
      "134it [00:16,  7.16it/s]"
     ]
    },
    {
     "name": "stdout",
     "output_type": "stream",
     "text": [
      "logits.shape: torch.Size([8, 18])\n",
      "yb_indices.shape: torch.Size([8, 18])\n",
      "logits.shape: torch.Size([8, 18])\n",
      "yb_indices.shape: torch.Size([8, 18])\n"
     ]
    },
    {
     "name": "stderr",
     "output_type": "stream",
     "text": [
      "136it [00:16,  7.42it/s]"
     ]
    },
    {
     "name": "stdout",
     "output_type": "stream",
     "text": [
      "logits.shape: torch.Size([8, 18])\n",
      "yb_indices.shape: torch.Size([8, 18])\n",
      "logits.shape: torch.Size([8, 18])\n",
      "yb_indices.shape: torch.Size([8, 18])\n"
     ]
    },
    {
     "name": "stderr",
     "output_type": "stream",
     "text": [
      "138it [00:17,  7.40it/s]"
     ]
    },
    {
     "name": "stdout",
     "output_type": "stream",
     "text": [
      "logits.shape: torch.Size([8, 18])\n",
      "yb_indices.shape: torch.Size([8, 18])\n",
      "logits.shape: torch.Size([8, 18])\n",
      "yb_indices.shape: torch.Size([8, 18])\n"
     ]
    },
    {
     "name": "stderr",
     "output_type": "stream",
     "text": [
      "141it [00:17,  7.95it/s]"
     ]
    },
    {
     "name": "stdout",
     "output_type": "stream",
     "text": [
      "logits.shape: torch.Size([8, 18])\n",
      "yb_indices.shape: torch.Size([8, 18])\n",
      "logits.shape: torch.Size([8, 18])\n",
      "yb_indices.shape: torch.Size([8, 18])\n"
     ]
    },
    {
     "name": "stderr",
     "output_type": "stream",
     "text": [
      "142it [00:17,  7.85it/s]"
     ]
    },
    {
     "name": "stdout",
     "output_type": "stream",
     "text": [
      "logits.shape: torch.Size([8, 18])\n",
      "yb_indices.shape: torch.Size([8, 18])\n",
      "logits.shape: torch.Size([8, 18])\n",
      "yb_indices.shape: torch.Size([8, 18])\n"
     ]
    },
    {
     "name": "stderr",
     "output_type": "stream",
     "text": [
      "144it [00:17,  7.14it/s]"
     ]
    },
    {
     "name": "stdout",
     "output_type": "stream",
     "text": [
      "logits.shape: torch.Size([8, 18])\n",
      "yb_indices.shape: torch.Size([8, 18])\n",
      "logits.shape: torch.Size([8, 18])\n",
      "yb_indices.shape: torch.Size([8, 18])\n"
     ]
    },
    {
     "name": "stderr",
     "output_type": "stream",
     "text": [
      "146it [00:18,  7.69it/s]"
     ]
    },
    {
     "name": "stdout",
     "output_type": "stream",
     "text": [
      "logits.shape: torch.Size([8, 18])\n",
      "yb_indices.shape: torch.Size([8, 18])\n",
      "logits.shape: torch.Size([8, 18])\n",
      "yb_indices.shape: torch.Size([8, 18])\n"
     ]
    },
    {
     "name": "stderr",
     "output_type": "stream",
     "text": [
      "148it [00:18,  8.39it/s]"
     ]
    },
    {
     "name": "stdout",
     "output_type": "stream",
     "text": [
      "logits.shape: torch.Size([8, 18])\n",
      "yb_indices.shape: torch.Size([8, 18])\n",
      "logits.shape: torch.Size([8, 18])\n",
      "yb_indices.shape: torch.Size([8, 18])\n",
      "logits.shape: torch.Size([8, 18])\n",
      "yb_indices.shape: torch.Size([8, 18])\n"
     ]
    },
    {
     "name": "stderr",
     "output_type": "stream",
     "text": [
      "151it [00:18,  8.49it/s]"
     ]
    },
    {
     "name": "stdout",
     "output_type": "stream",
     "text": [
      "logits.shape: torch.Size([8, 18])\n",
      "yb_indices.shape: torch.Size([8, 18])\n",
      "logits.shape: torch.Size([8, 18])\n",
      "yb_indices.shape: torch.Size([8, 18])\n"
     ]
    },
    {
     "name": "stderr",
     "output_type": "stream",
     "text": [
      "154it [00:18,  8.61it/s]"
     ]
    },
    {
     "name": "stdout",
     "output_type": "stream",
     "text": [
      "logits.shape: torch.Size([8, 18])\n",
      "yb_indices.shape: torch.Size([8, 18])\n",
      "logits.shape: torch.Size([8, 18])\n",
      "yb_indices.shape: torch.Size([8, 18])\n"
     ]
    },
    {
     "name": "stderr",
     "output_type": "stream",
     "text": [
      "155it [00:19,  8.51it/s]"
     ]
    },
    {
     "name": "stdout",
     "output_type": "stream",
     "text": [
      "logits.shape: torch.Size([8, 18])\n",
      "yb_indices.shape: torch.Size([8, 18])\n",
      "logits.shape: torch.Size([8, 18])\n",
      "yb_indices.shape: torch.Size([8, 18])\n"
     ]
    },
    {
     "name": "stderr",
     "output_type": "stream",
     "text": [
      "158it [00:19,  8.66it/s]"
     ]
    },
    {
     "name": "stdout",
     "output_type": "stream",
     "text": [
      "logits.shape: torch.Size([8, 18])\n",
      "yb_indices.shape: torch.Size([8, 18])\n",
      "logits.shape: torch.Size([8, 18])\n",
      "yb_indices.shape: torch.Size([8, 18])\n"
     ]
    },
    {
     "name": "stderr",
     "output_type": "stream",
     "text": [
      "160it [00:19,  8.88it/s]"
     ]
    },
    {
     "name": "stdout",
     "output_type": "stream",
     "text": [
      "logits.shape: torch.Size([8, 18])\n",
      "yb_indices.shape: torch.Size([8, 18])\n",
      "logits.shape: torch.Size([8, 18])\n",
      "yb_indices.shape: torch.Size([8, 18])\n"
     ]
    },
    {
     "name": "stderr",
     "output_type": "stream",
     "text": [
      "161it [00:19,  8.68it/s]"
     ]
    },
    {
     "name": "stdout",
     "output_type": "stream",
     "text": [
      "logits.shape: torch.Size([8, 18])\n",
      "yb_indices.shape: torch.Size([8, 18])\n",
      "logits.shape: torch.Size([8, 18])\n",
      "yb_indices.shape: torch.Size([8, 18])\n"
     ]
    },
    {
     "name": "stderr",
     "output_type": "stream",
     "text": [
      "164it [00:20,  8.88it/s]"
     ]
    },
    {
     "name": "stdout",
     "output_type": "stream",
     "text": [
      "logits.shape: torch.Size([8, 18])\n",
      "yb_indices.shape: torch.Size([8, 18])\n",
      "logits.shape: torch.Size([8, 18])\n",
      "yb_indices.shape: torch.Size([8, 18])\n"
     ]
    },
    {
     "name": "stderr",
     "output_type": "stream",
     "text": [
      "166it [00:20,  8.88it/s]"
     ]
    },
    {
     "name": "stdout",
     "output_type": "stream",
     "text": [
      "logits.shape: torch.Size([8, 18])\n",
      "yb_indices.shape: torch.Size([8, 18])\n",
      "logits.shape: torch.Size([8, 18])\n",
      "yb_indices.shape: torch.Size([8, 18])\n"
     ]
    },
    {
     "name": "stderr",
     "output_type": "stream",
     "text": [
      "167it [00:20,  8.54it/s]"
     ]
    },
    {
     "name": "stdout",
     "output_type": "stream",
     "text": [
      "logits.shape: torch.Size([8, 18])\n",
      "yb_indices.shape: torch.Size([8, 18])\n",
      "logits.shape: torch.Size([8, 18])\n",
      "yb_indices.shape: torch.Size([8, 18])\n"
     ]
    },
    {
     "name": "stderr",
     "output_type": "stream",
     "text": [
      "169it [00:20,  8.84it/s]"
     ]
    },
    {
     "name": "stdout",
     "output_type": "stream",
     "text": [
      "logits.shape: torch.Size([8, 18])\n",
      "yb_indices.shape: torch.Size([8, 18])\n",
      "logits.shape: torch.Size([8, 18])\n",
      "yb_indices.shape: torch.Size([8, 18])\n"
     ]
    },
    {
     "name": "stderr",
     "output_type": "stream",
     "text": [
      "171it [00:21,  7.45it/s]"
     ]
    },
    {
     "name": "stdout",
     "output_type": "stream",
     "text": [
      "logits.shape: torch.Size([8, 18])\n",
      "yb_indices.shape: torch.Size([8, 18])\n",
      "logits.shape: torch.Size([8, 18])\n",
      "yb_indices.shape: torch.Size([8, 18])\n"
     ]
    },
    {
     "name": "stderr",
     "output_type": "stream",
     "text": [
      "174it [00:21,  8.31it/s]"
     ]
    },
    {
     "name": "stdout",
     "output_type": "stream",
     "text": [
      "logits.shape: torch.Size([8, 18])\n",
      "yb_indices.shape: torch.Size([8, 18])\n",
      "logits.shape: torch.Size([8, 18])\n",
      "yb_indices.shape: torch.Size([8, 18])\n"
     ]
    },
    {
     "name": "stderr",
     "output_type": "stream",
     "text": [
      "175it [00:21,  8.62it/s]"
     ]
    },
    {
     "name": "stdout",
     "output_type": "stream",
     "text": [
      "logits.shape: torch.Size([8, 18])\n",
      "yb_indices.shape: torch.Size([8, 18])\n",
      "logits.shape: torch.Size([8, 18])\n",
      "yb_indices.shape: torch.Size([8, 18])\n"
     ]
    },
    {
     "name": "stderr",
     "output_type": "stream",
     "text": [
      "177it [00:21,  7.28it/s]"
     ]
    },
    {
     "name": "stdout",
     "output_type": "stream",
     "text": [
      "logits.shape: torch.Size([8, 18])\n",
      "yb_indices.shape: torch.Size([8, 18])\n",
      "logits.shape: torch.Size([8, 18])\n",
      "yb_indices.shape: torch.Size([8, 18])\n"
     ]
    },
    {
     "name": "stderr",
     "output_type": "stream",
     "text": [
      "180it [00:22,  8.31it/s]"
     ]
    },
    {
     "name": "stdout",
     "output_type": "stream",
     "text": [
      "logits.shape: torch.Size([8, 18])\n",
      "yb_indices.shape: torch.Size([8, 18])\n",
      "logits.shape: torch.Size([8, 18])\n",
      "yb_indices.shape: torch.Size([8, 18])\n"
     ]
    },
    {
     "name": "stderr",
     "output_type": "stream",
     "text": [
      "182it [00:22,  8.77it/s]"
     ]
    },
    {
     "name": "stdout",
     "output_type": "stream",
     "text": [
      "logits.shape: torch.Size([8, 18])\n",
      "yb_indices.shape: torch.Size([8, 18])\n",
      "logits.shape: torch.Size([8, 18])\n",
      "yb_indices.shape: torch.Size([8, 18])\n"
     ]
    },
    {
     "name": "stderr",
     "output_type": "stream",
     "text": [
      "183it [00:22,  8.51it/s]"
     ]
    },
    {
     "name": "stdout",
     "output_type": "stream",
     "text": [
      "logits.shape: torch.Size([8, 18])\n",
      "yb_indices.shape: torch.Size([8, 18])\n",
      "logits.shape: torch.Size([8, 18])\n",
      "yb_indices.shape: torch.Size([8, 18])\n"
     ]
    },
    {
     "name": "stderr",
     "output_type": "stream",
     "text": [
      "185it [00:22,  8.61it/s]"
     ]
    },
    {
     "name": "stdout",
     "output_type": "stream",
     "text": [
      "logits.shape: torch.Size([8, 18])\n",
      "yb_indices.shape: torch.Size([8, 18])\n",
      "logits.shape: torch.Size([8, 18])\n",
      "yb_indices.shape: torch.Size([8, 18])\n"
     ]
    },
    {
     "name": "stderr",
     "output_type": "stream",
     "text": [
      "188it [00:23,  8.86it/s]"
     ]
    },
    {
     "name": "stdout",
     "output_type": "stream",
     "text": [
      "logits.shape: torch.Size([8, 18])\n",
      "yb_indices.shape: torch.Size([8, 18])\n",
      "logits.shape: torch.Size([8, 18])\n",
      "yb_indices.shape: torch.Size([8, 18])\n"
     ]
    },
    {
     "name": "stderr",
     "output_type": "stream",
     "text": [
      "190it [00:23,  8.92it/s]"
     ]
    },
    {
     "name": "stdout",
     "output_type": "stream",
     "text": [
      "logits.shape: torch.Size([8, 18])\n",
      "yb_indices.shape: torch.Size([8, 18])\n",
      "logits.shape: torch.Size([8, 18])\n",
      "yb_indices.shape: torch.Size([8, 18])\n"
     ]
    },
    {
     "name": "stderr",
     "output_type": "stream",
     "text": [
      "192it [00:23,  9.14it/s]"
     ]
    },
    {
     "name": "stdout",
     "output_type": "stream",
     "text": [
      "logits.shape: torch.Size([8, 18])\n",
      "yb_indices.shape: torch.Size([8, 18])\n",
      "logits.shape: torch.Size([8, 18])\n",
      "yb_indices.shape: torch.Size([8, 18])\n"
     ]
    },
    {
     "name": "stderr",
     "output_type": "stream",
     "text": [
      "194it [00:23,  8.57it/s]"
     ]
    },
    {
     "name": "stdout",
     "output_type": "stream",
     "text": [
      "logits.shape: torch.Size([8, 18])\n",
      "yb_indices.shape: torch.Size([8, 18])\n",
      "logits.shape: torch.Size([8, 18])\n",
      "yb_indices.shape: torch.Size([8, 18])\n"
     ]
    },
    {
     "name": "stderr",
     "output_type": "stream",
     "text": [
      "195it [00:23,  7.84it/s]"
     ]
    },
    {
     "name": "stdout",
     "output_type": "stream",
     "text": [
      "logits.shape: torch.Size([8, 18])\n",
      "yb_indices.shape: torch.Size([8, 18])\n",
      "logits.shape: torch.Size([8, 18])\n",
      "yb_indices.shape: torch.Size([8, 18])\n"
     ]
    },
    {
     "name": "stderr",
     "output_type": "stream",
     "text": [
      "197it [00:24,  8.39it/s]"
     ]
    },
    {
     "name": "stdout",
     "output_type": "stream",
     "text": [
      "logits.shape: torch.Size([8, 18])\n",
      "yb_indices.shape: torch.Size([8, 18])\n",
      "logits.shape: torch.Size([8, 18])\n",
      "yb_indices.shape: torch.Size([8, 18])\n"
     ]
    },
    {
     "name": "stderr",
     "output_type": "stream",
     "text": [
      "199it [00:24,  8.32it/s]"
     ]
    },
    {
     "name": "stdout",
     "output_type": "stream",
     "text": [
      "logits.shape: torch.Size([8, 18])\n",
      "yb_indices.shape: torch.Size([8, 18])\n",
      "logits.shape: torch.Size([8, 18])\n",
      "yb_indices.shape: torch.Size([8, 18])\n"
     ]
    },
    {
     "name": "stderr",
     "output_type": "stream",
     "text": [
      "202it [00:24,  8.94it/s]"
     ]
    },
    {
     "name": "stdout",
     "output_type": "stream",
     "text": [
      "logits.shape: torch.Size([8, 18])\n",
      "yb_indices.shape: torch.Size([8, 18])\n",
      "logits.shape: torch.Size([8, 18])\n",
      "yb_indices.shape: torch.Size([8, 18])\n"
     ]
    },
    {
     "name": "stderr",
     "output_type": "stream",
     "text": [
      "203it [00:24,  8.89it/s]"
     ]
    },
    {
     "name": "stdout",
     "output_type": "stream",
     "text": [
      "logits.shape: torch.Size([8, 18])\n",
      "yb_indices.shape: torch.Size([8, 18])\n",
      "logits.shape: torch.Size([8, 18])\n",
      "yb_indices.shape: torch.Size([8, 18])\n"
     ]
    },
    {
     "name": "stderr",
     "output_type": "stream",
     "text": [
      "205it [00:24,  8.69it/s]"
     ]
    },
    {
     "name": "stdout",
     "output_type": "stream",
     "text": [
      "logits.shape: torch.Size([8, 18])\n",
      "yb_indices.shape: torch.Size([8, 18])\n",
      "logits.shape: torch.Size([8, 18])\n",
      "yb_indices.shape: torch.Size([8, 18])\n"
     ]
    },
    {
     "name": "stderr",
     "output_type": "stream",
     "text": [
      "207it [00:25,  8.57it/s]"
     ]
    },
    {
     "name": "stdout",
     "output_type": "stream",
     "text": [
      "logits.shape: torch.Size([8, 18])\n",
      "yb_indices.shape: torch.Size([8, 18])\n",
      "logits.shape: torch.Size([8, 18])\n",
      "yb_indices.shape: torch.Size([8, 18])\n"
     ]
    },
    {
     "name": "stderr",
     "output_type": "stream",
     "text": [
      "209it [00:25,  8.43it/s]"
     ]
    },
    {
     "name": "stdout",
     "output_type": "stream",
     "text": [
      "logits.shape: torch.Size([8, 18])\n",
      "yb_indices.shape: torch.Size([8, 18])\n",
      "logits.shape: torch.Size([8, 18])\n",
      "yb_indices.shape: torch.Size([8, 18])\n"
     ]
    },
    {
     "name": "stderr",
     "output_type": "stream",
     "text": [
      "212it [00:25,  7.89it/s]"
     ]
    },
    {
     "name": "stdout",
     "output_type": "stream",
     "text": [
      "logits.shape: torch.Size([8, 18])\n",
      "yb_indices.shape: torch.Size([8, 18])\n",
      "logits.shape: torch.Size([8, 18])\n",
      "yb_indices.shape: torch.Size([8, 18])\n"
     ]
    },
    {
     "name": "stderr",
     "output_type": "stream",
     "text": [
      "214it [00:26,  8.45it/s]"
     ]
    },
    {
     "name": "stdout",
     "output_type": "stream",
     "text": [
      "logits.shape: torch.Size([8, 18])\n",
      "yb_indices.shape: torch.Size([8, 18])\n",
      "logits.shape: torch.Size([8, 18])\n",
      "yb_indices.shape: torch.Size([8, 18])\n"
     ]
    },
    {
     "name": "stderr",
     "output_type": "stream",
     "text": [
      "215it [00:26,  8.07it/s]"
     ]
    },
    {
     "name": "stdout",
     "output_type": "stream",
     "text": [
      "logits.shape: torch.Size([8, 18])\n",
      "yb_indices.shape: torch.Size([8, 18])\n",
      "logits.shape: torch.Size([8, 18])\n",
      "yb_indices.shape: torch.Size([8, 18])\n"
     ]
    },
    {
     "name": "stderr",
     "output_type": "stream",
     "text": [
      "218it [00:26,  8.59it/s]"
     ]
    },
    {
     "name": "stdout",
     "output_type": "stream",
     "text": [
      "logits.shape: torch.Size([8, 18])\n",
      "yb_indices.shape: torch.Size([8, 18])\n",
      "logits.shape: torch.Size([8, 18])\n",
      "yb_indices.shape: torch.Size([8, 18])\n",
      "logits.shape: torch.Size([8, 18])\n",
      "yb_indices.shape: torch.Size([8, 18])\n"
     ]
    },
    {
     "name": "stderr",
     "output_type": "stream",
     "text": [
      "220it [00:26,  8.77it/s]"
     ]
    },
    {
     "name": "stdout",
     "output_type": "stream",
     "text": [
      "logits.shape: torch.Size([8, 18])\n",
      "yb_indices.shape: torch.Size([8, 18])\n",
      "logits.shape: torch.Size([8, 18])\n",
      "yb_indices.shape: torch.Size([8, 18])\n"
     ]
    },
    {
     "name": "stderr",
     "output_type": "stream",
     "text": [
      "222it [00:27,  8.73it/s]"
     ]
    },
    {
     "name": "stdout",
     "output_type": "stream",
     "text": [
      "logits.shape: torch.Size([8, 18])\n",
      "yb_indices.shape: torch.Size([8, 18])\n",
      "logits.shape: torch.Size([8, 18])\n",
      "yb_indices.shape: torch.Size([8, 18])\n"
     ]
    },
    {
     "name": "stderr",
     "output_type": "stream",
     "text": [
      "224it [00:27,  8.23it/s]"
     ]
    },
    {
     "name": "stdout",
     "output_type": "stream",
     "text": [
      "logits.shape: torch.Size([8, 18])\n",
      "yb_indices.shape: torch.Size([8, 18])\n",
      "logits.shape: torch.Size([8, 18])\n",
      "yb_indices.shape: torch.Size([8, 18])\n"
     ]
    },
    {
     "name": "stderr",
     "output_type": "stream",
     "text": [
      "227it [00:27,  8.71it/s]"
     ]
    },
    {
     "name": "stdout",
     "output_type": "stream",
     "text": [
      "logits.shape: torch.Size([8, 18])\n",
      "yb_indices.shape: torch.Size([8, 18])\n",
      "logits.shape: torch.Size([8, 18])\n",
      "yb_indices.shape: torch.Size([8, 18])\n"
     ]
    },
    {
     "name": "stderr",
     "output_type": "stream",
     "text": [
      "229it [00:27,  8.95it/s]"
     ]
    },
    {
     "name": "stdout",
     "output_type": "stream",
     "text": [
      "logits.shape: torch.Size([8, 18])\n",
      "yb_indices.shape: torch.Size([8, 18])\n",
      "logits.shape: torch.Size([8, 18])\n",
      "yb_indices.shape: torch.Size([8, 18])\n"
     ]
    },
    {
     "name": "stderr",
     "output_type": "stream",
     "text": [
      "231it [00:28,  9.13it/s]"
     ]
    },
    {
     "name": "stdout",
     "output_type": "stream",
     "text": [
      "logits.shape: torch.Size([8, 18])\n",
      "yb_indices.shape: torch.Size([8, 18])\n",
      "logits.shape: torch.Size([8, 18])\n",
      "yb_indices.shape: torch.Size([8, 18])\n"
     ]
    },
    {
     "name": "stderr",
     "output_type": "stream",
     "text": [
      "232it [00:28,  8.61it/s]"
     ]
    },
    {
     "name": "stdout",
     "output_type": "stream",
     "text": [
      "logits.shape: torch.Size([8, 18])\n",
      "yb_indices.shape: torch.Size([8, 18])\n",
      "logits.shape: torch.Size([8, 18])\n",
      "yb_indices.shape: torch.Size([8, 18])\n"
     ]
    },
    {
     "name": "stderr",
     "output_type": "stream",
     "text": [
      "234it [00:28,  8.34it/s]"
     ]
    },
    {
     "name": "stdout",
     "output_type": "stream",
     "text": [
      "logits.shape: torch.Size([8, 18])\n",
      "yb_indices.shape: torch.Size([8, 18])\n",
      "logits.shape: torch.Size([8, 18])\n",
      "yb_indices.shape: torch.Size([8, 18])\n"
     ]
    },
    {
     "name": "stderr",
     "output_type": "stream",
     "text": [
      "236it [00:28,  7.22it/s]"
     ]
    },
    {
     "name": "stdout",
     "output_type": "stream",
     "text": [
      "logits.shape: torch.Size([8, 18])\n",
      "yb_indices.shape: torch.Size([8, 18])\n",
      "logits.shape: torch.Size([8, 18])\n",
      "yb_indices.shape: torch.Size([8, 18])\n"
     ]
    },
    {
     "name": "stderr",
     "output_type": "stream",
     "text": [
      "238it [00:29,  6.61it/s]"
     ]
    },
    {
     "name": "stdout",
     "output_type": "stream",
     "text": [
      "logits.shape: torch.Size([8, 18])\n",
      "yb_indices.shape: torch.Size([8, 18])\n",
      "logits.shape: torch.Size([8, 18])\n",
      "yb_indices.shape: torch.Size([8, 18])\n"
     ]
    },
    {
     "name": "stderr",
     "output_type": "stream",
     "text": [
      "240it [00:29,  7.23it/s]"
     ]
    },
    {
     "name": "stdout",
     "output_type": "stream",
     "text": [
      "logits.shape: torch.Size([8, 18])\n",
      "yb_indices.shape: torch.Size([8, 18])\n",
      "logits.shape: torch.Size([8, 18])\n",
      "yb_indices.shape: torch.Size([8, 18])\n"
     ]
    },
    {
     "name": "stderr",
     "output_type": "stream",
     "text": [
      "242it [00:29,  7.40it/s]"
     ]
    },
    {
     "name": "stdout",
     "output_type": "stream",
     "text": [
      "logits.shape: torch.Size([8, 18])\n",
      "yb_indices.shape: torch.Size([8, 18])\n",
      "logits.shape: torch.Size([8, 18])\n",
      "yb_indices.shape: torch.Size([8, 18])\n"
     ]
    },
    {
     "name": "stderr",
     "output_type": "stream",
     "text": [
      "244it [00:29,  7.15it/s]"
     ]
    },
    {
     "name": "stdout",
     "output_type": "stream",
     "text": [
      "logits.shape: torch.Size([8, 18])\n",
      "yb_indices.shape: torch.Size([8, 18])\n",
      "logits.shape: torch.Size([8, 18])\n",
      "yb_indices.shape: torch.Size([8, 18])\n"
     ]
    },
    {
     "name": "stderr",
     "output_type": "stream",
     "text": [
      "246it [00:30,  6.84it/s]"
     ]
    },
    {
     "name": "stdout",
     "output_type": "stream",
     "text": [
      "logits.shape: torch.Size([8, 18])\n",
      "yb_indices.shape: torch.Size([8, 18])\n",
      "logits.shape: torch.Size([8, 18])\n",
      "yb_indices.shape: torch.Size([8, 18])\n"
     ]
    },
    {
     "name": "stderr",
     "output_type": "stream",
     "text": [
      "248it [00:30,  6.48it/s]"
     ]
    },
    {
     "name": "stdout",
     "output_type": "stream",
     "text": [
      "logits.shape: torch.Size([8, 18])\n",
      "yb_indices.shape: torch.Size([8, 18])\n",
      "logits.shape: torch.Size([8, 18])\n",
      "yb_indices.shape: torch.Size([8, 18])\n"
     ]
    },
    {
     "name": "stderr",
     "output_type": "stream",
     "text": [
      "250it [00:30,  6.45it/s]"
     ]
    },
    {
     "name": "stdout",
     "output_type": "stream",
     "text": [
      "logits.shape: torch.Size([8, 18])\n",
      "yb_indices.shape: torch.Size([8, 18])\n",
      "logits.shape: torch.Size([8, 18])\n",
      "yb_indices.shape: torch.Size([8, 18])\n"
     ]
    },
    {
     "name": "stderr",
     "output_type": "stream",
     "text": [
      "252it [00:31,  6.56it/s]"
     ]
    },
    {
     "name": "stdout",
     "output_type": "stream",
     "text": [
      "logits.shape: torch.Size([8, 18])\n",
      "yb_indices.shape: torch.Size([8, 18])\n",
      "logits.shape: torch.Size([8, 18])\n",
      "yb_indices.shape: torch.Size([8, 18])\n"
     ]
    },
    {
     "name": "stderr",
     "output_type": "stream",
     "text": [
      "254it [00:31,  6.57it/s]"
     ]
    },
    {
     "name": "stdout",
     "output_type": "stream",
     "text": [
      "logits.shape: torch.Size([8, 18])\n",
      "yb_indices.shape: torch.Size([8, 18])\n",
      "logits.shape: torch.Size([8, 18])\n",
      "yb_indices.shape: torch.Size([8, 18])\n"
     ]
    },
    {
     "name": "stderr",
     "output_type": "stream",
     "text": [
      "257it [00:31,  7.90it/s]"
     ]
    },
    {
     "name": "stdout",
     "output_type": "stream",
     "text": [
      "logits.shape: torch.Size([8, 18])\n",
      "yb_indices.shape: torch.Size([8, 18])\n",
      "logits.shape: torch.Size([8, 18])\n",
      "yb_indices.shape: torch.Size([8, 18])\n"
     ]
    },
    {
     "name": "stderr",
     "output_type": "stream",
     "text": [
      "258it [00:31,  7.94it/s]"
     ]
    },
    {
     "name": "stdout",
     "output_type": "stream",
     "text": [
      "logits.shape: torch.Size([8, 18])\n",
      "yb_indices.shape: torch.Size([8, 18])\n",
      "logits.shape: torch.Size([8, 18])\n",
      "yb_indices.shape: torch.Size([8, 18])\n"
     ]
    },
    {
     "name": "stderr",
     "output_type": "stream",
     "text": [
      "260it [00:32,  7.58it/s]"
     ]
    },
    {
     "name": "stdout",
     "output_type": "stream",
     "text": [
      "logits.shape: torch.Size([8, 18])\n",
      "yb_indices.shape: torch.Size([8, 18])\n",
      "logits.shape: torch.Size([8, 18])\n",
      "yb_indices.shape: torch.Size([8, 18])\n"
     ]
    },
    {
     "name": "stderr",
     "output_type": "stream",
     "text": [
      "262it [00:32,  7.45it/s]"
     ]
    },
    {
     "name": "stdout",
     "output_type": "stream",
     "text": [
      "logits.shape: torch.Size([8, 18])\n",
      "yb_indices.shape: torch.Size([8, 18])\n",
      "logits.shape: torch.Size([8, 18])\n",
      "yb_indices.shape: torch.Size([8, 18])\n"
     ]
    },
    {
     "name": "stderr",
     "output_type": "stream",
     "text": [
      "264it [00:32,  7.38it/s]"
     ]
    },
    {
     "name": "stdout",
     "output_type": "stream",
     "text": [
      "logits.shape: torch.Size([8, 18])\n",
      "yb_indices.shape: torch.Size([8, 18])\n",
      "logits.shape: torch.Size([8, 18])\n",
      "yb_indices.shape: torch.Size([8, 18])\n"
     ]
    },
    {
     "name": "stderr",
     "output_type": "stream",
     "text": [
      "266it [00:32,  7.93it/s]"
     ]
    },
    {
     "name": "stdout",
     "output_type": "stream",
     "text": [
      "logits.shape: torch.Size([8, 18])\n",
      "yb_indices.shape: torch.Size([8, 18])\n",
      "logits.shape: torch.Size([8, 18])\n",
      "yb_indices.shape: torch.Size([8, 18])\n"
     ]
    },
    {
     "name": "stderr",
     "output_type": "stream",
     "text": [
      "268it [00:33,  7.93it/s]"
     ]
    },
    {
     "name": "stdout",
     "output_type": "stream",
     "text": [
      "logits.shape: torch.Size([8, 18])\n",
      "yb_indices.shape: torch.Size([8, 18])\n",
      "logits.shape: torch.Size([8, 18])\n",
      "yb_indices.shape: torch.Size([8, 18])\n"
     ]
    },
    {
     "name": "stderr",
     "output_type": "stream",
     "text": [
      "270it [00:33,  7.52it/s]"
     ]
    },
    {
     "name": "stdout",
     "output_type": "stream",
     "text": [
      "logits.shape: torch.Size([8, 18])\n",
      "yb_indices.shape: torch.Size([8, 18])\n",
      "logits.shape: torch.Size([8, 18])\n",
      "yb_indices.shape: torch.Size([8, 18])\n"
     ]
    },
    {
     "name": "stderr",
     "output_type": "stream",
     "text": [
      "273it [00:33,  8.21it/s]"
     ]
    },
    {
     "name": "stdout",
     "output_type": "stream",
     "text": [
      "logits.shape: torch.Size([8, 18])\n",
      "yb_indices.shape: torch.Size([8, 18])\n",
      "logits.shape: torch.Size([8, 18])\n",
      "yb_indices.shape: torch.Size([8, 18])\n"
     ]
    },
    {
     "name": "stderr",
     "output_type": "stream",
     "text": [
      "274it [00:33,  7.79it/s]"
     ]
    },
    {
     "name": "stdout",
     "output_type": "stream",
     "text": [
      "logits.shape: torch.Size([8, 18])\n",
      "yb_indices.shape: torch.Size([8, 18])\n",
      "logits.shape: torch.Size([8, 18])\n",
      "yb_indices.shape: torch.Size([8, 18])\n"
     ]
    },
    {
     "name": "stderr",
     "output_type": "stream",
     "text": [
      "276it [00:34,  7.52it/s]"
     ]
    },
    {
     "name": "stdout",
     "output_type": "stream",
     "text": [
      "logits.shape: torch.Size([8, 18])\n",
      "yb_indices.shape: torch.Size([8, 18])\n",
      "logits.shape: torch.Size([8, 18])\n",
      "yb_indices.shape: torch.Size([8, 18])\n"
     ]
    },
    {
     "name": "stderr",
     "output_type": "stream",
     "text": [
      "278it [00:34,  7.88it/s]"
     ]
    },
    {
     "name": "stdout",
     "output_type": "stream",
     "text": [
      "logits.shape: torch.Size([8, 18])\n",
      "yb_indices.shape: torch.Size([8, 18])\n",
      "logits.shape: torch.Size([8, 18])\n",
      "yb_indices.shape: torch.Size([8, 18])\n"
     ]
    },
    {
     "name": "stderr",
     "output_type": "stream",
     "text": [
      "280it [00:34,  8.01it/s]"
     ]
    },
    {
     "name": "stdout",
     "output_type": "stream",
     "text": [
      "logits.shape: torch.Size([8, 18])\n",
      "yb_indices.shape: torch.Size([8, 18])\n",
      "logits.shape: torch.Size([8, 18])\n",
      "yb_indices.shape: torch.Size([8, 18])\n"
     ]
    },
    {
     "name": "stderr",
     "output_type": "stream",
     "text": [
      "282it [00:34,  8.06it/s]"
     ]
    },
    {
     "name": "stdout",
     "output_type": "stream",
     "text": [
      "logits.shape: torch.Size([8, 18])\n",
      "yb_indices.shape: torch.Size([8, 18])\n",
      "logits.shape: torch.Size([8, 18])\n",
      "yb_indices.shape: torch.Size([8, 18])\n"
     ]
    },
    {
     "name": "stderr",
     "output_type": "stream",
     "text": [
      "284it [00:35,  7.92it/s]"
     ]
    },
    {
     "name": "stdout",
     "output_type": "stream",
     "text": [
      "logits.shape: torch.Size([8, 18])\n",
      "yb_indices.shape: torch.Size([8, 18])\n",
      "logits.shape: torch.Size([8, 18])\n",
      "yb_indices.shape: torch.Size([8, 18])\n"
     ]
    },
    {
     "name": "stderr",
     "output_type": "stream",
     "text": [
      "286it [00:35,  7.83it/s]"
     ]
    },
    {
     "name": "stdout",
     "output_type": "stream",
     "text": [
      "logits.shape: torch.Size([8, 18])\n",
      "yb_indices.shape: torch.Size([8, 18])\n",
      "logits.shape: torch.Size([8, 18])\n",
      "yb_indices.shape: torch.Size([8, 18])\n"
     ]
    },
    {
     "name": "stderr",
     "output_type": "stream",
     "text": [
      "288it [00:35,  7.46it/s]"
     ]
    },
    {
     "name": "stdout",
     "output_type": "stream",
     "text": [
      "logits.shape: torch.Size([8, 18])\n",
      "yb_indices.shape: torch.Size([8, 18])\n",
      "logits.shape: torch.Size([8, 18])\n",
      "yb_indices.shape: torch.Size([8, 18])\n"
     ]
    },
    {
     "name": "stderr",
     "output_type": "stream",
     "text": [
      "290it [00:36,  7.47it/s]"
     ]
    },
    {
     "name": "stdout",
     "output_type": "stream",
     "text": [
      "logits.shape: torch.Size([8, 18])\n",
      "yb_indices.shape: torch.Size([8, 18])\n",
      "logits.shape: torch.Size([8, 18])\n",
      "yb_indices.shape: torch.Size([8, 18])\n"
     ]
    },
    {
     "name": "stderr",
     "output_type": "stream",
     "text": [
      "292it [00:36,  7.03it/s]"
     ]
    },
    {
     "name": "stdout",
     "output_type": "stream",
     "text": [
      "logits.shape: torch.Size([8, 18])\n",
      "yb_indices.shape: torch.Size([8, 18])\n",
      "logits.shape: torch.Size([8, 18])\n",
      "yb_indices.shape: torch.Size([8, 18])\n"
     ]
    },
    {
     "name": "stderr",
     "output_type": "stream",
     "text": [
      "294it [00:36,  6.56it/s]"
     ]
    },
    {
     "name": "stdout",
     "output_type": "stream",
     "text": [
      "logits.shape: torch.Size([8, 18])\n",
      "yb_indices.shape: torch.Size([8, 18])\n",
      "logits.shape: torch.Size([8, 18])\n",
      "yb_indices.shape: torch.Size([8, 18])\n"
     ]
    },
    {
     "name": "stderr",
     "output_type": "stream",
     "text": [
      "296it [00:36,  7.04it/s]"
     ]
    },
    {
     "name": "stdout",
     "output_type": "stream",
     "text": [
      "logits.shape: torch.Size([8, 18])\n",
      "yb_indices.shape: torch.Size([8, 18])\n",
      "logits.shape: torch.Size([8, 18])\n",
      "yb_indices.shape: torch.Size([8, 18])\n"
     ]
    },
    {
     "name": "stderr",
     "output_type": "stream",
     "text": [
      "298it [00:37,  7.61it/s]"
     ]
    },
    {
     "name": "stdout",
     "output_type": "stream",
     "text": [
      "logits.shape: torch.Size([8, 18])\n",
      "yb_indices.shape: torch.Size([8, 18])\n",
      "logits.shape: torch.Size([8, 18])\n",
      "yb_indices.shape: torch.Size([8, 18])\n"
     ]
    },
    {
     "name": "stderr",
     "output_type": "stream",
     "text": [
      "300it [00:37,  7.83it/s]"
     ]
    },
    {
     "name": "stdout",
     "output_type": "stream",
     "text": [
      "logits.shape: torch.Size([8, 18])\n",
      "yb_indices.shape: torch.Size([8, 18])\n",
      "logits.shape: torch.Size([8, 18])\n",
      "yb_indices.shape: torch.Size([8, 18])\n"
     ]
    },
    {
     "name": "stderr",
     "output_type": "stream",
     "text": [
      "302it [00:37,  7.06it/s]"
     ]
    },
    {
     "name": "stdout",
     "output_type": "stream",
     "text": [
      "logits.shape: torch.Size([8, 18])\n",
      "yb_indices.shape: torch.Size([8, 18])\n",
      "logits.shape: torch.Size([8, 18])\n",
      "yb_indices.shape: torch.Size([8, 18])\n"
     ]
    },
    {
     "name": "stderr",
     "output_type": "stream",
     "text": [
      "304it [00:37,  7.46it/s]"
     ]
    },
    {
     "name": "stdout",
     "output_type": "stream",
     "text": [
      "logits.shape: torch.Size([8, 18])\n",
      "yb_indices.shape: torch.Size([8, 18])\n",
      "logits.shape: torch.Size([8, 18])\n",
      "yb_indices.shape: torch.Size([8, 18])\n"
     ]
    },
    {
     "name": "stderr",
     "output_type": "stream",
     "text": [
      "306it [00:38,  7.08it/s]"
     ]
    },
    {
     "name": "stdout",
     "output_type": "stream",
     "text": [
      "logits.shape: torch.Size([8, 18])\n",
      "yb_indices.shape: torch.Size([8, 18])\n",
      "logits.shape: torch.Size([8, 18])\n",
      "yb_indices.shape: torch.Size([8, 18])\n"
     ]
    },
    {
     "name": "stderr",
     "output_type": "stream",
     "text": [
      "308it [00:38,  6.32it/s]"
     ]
    },
    {
     "name": "stdout",
     "output_type": "stream",
     "text": [
      "logits.shape: torch.Size([8, 18])\n",
      "yb_indices.shape: torch.Size([8, 18])\n",
      "logits.shape: torch.Size([8, 18])\n",
      "yb_indices.shape: torch.Size([8, 18])\n"
     ]
    },
    {
     "name": "stderr",
     "output_type": "stream",
     "text": [
      "310it [00:38,  6.52it/s]"
     ]
    },
    {
     "name": "stdout",
     "output_type": "stream",
     "text": [
      "logits.shape: torch.Size([8, 18])\n",
      "yb_indices.shape: torch.Size([8, 18])\n",
      "logits.shape: torch.Size([8, 18])\n",
      "yb_indices.shape: torch.Size([8, 18])\n"
     ]
    },
    {
     "name": "stderr",
     "output_type": "stream",
     "text": [
      "312it [00:39,  6.17it/s]"
     ]
    },
    {
     "name": "stdout",
     "output_type": "stream",
     "text": [
      "logits.shape: torch.Size([8, 18])\n",
      "yb_indices.shape: torch.Size([8, 18])\n",
      "logits.shape: torch.Size([8, 18])\n",
      "yb_indices.shape: torch.Size([8, 18])\n"
     ]
    },
    {
     "name": "stderr",
     "output_type": "stream",
     "text": [
      "314it [00:39,  6.53it/s]"
     ]
    },
    {
     "name": "stdout",
     "output_type": "stream",
     "text": [
      "logits.shape: torch.Size([8, 18])\n",
      "yb_indices.shape: torch.Size([8, 18])\n",
      "logits.shape: torch.Size([8, 18])\n",
      "yb_indices.shape: torch.Size([8, 18])\n"
     ]
    },
    {
     "name": "stderr",
     "output_type": "stream",
     "text": [
      "316it [00:39,  6.49it/s]"
     ]
    },
    {
     "name": "stdout",
     "output_type": "stream",
     "text": [
      "logits.shape: torch.Size([8, 18])\n",
      "yb_indices.shape: torch.Size([8, 18])\n",
      "logits.shape: torch.Size([8, 18])\n",
      "yb_indices.shape: torch.Size([8, 18])\n"
     ]
    },
    {
     "name": "stderr",
     "output_type": "stream",
     "text": [
      "318it [00:40,  6.25it/s]"
     ]
    },
    {
     "name": "stdout",
     "output_type": "stream",
     "text": [
      "logits.shape: torch.Size([8, 18])\n",
      "yb_indices.shape: torch.Size([8, 18])\n",
      "logits.shape: torch.Size([8, 18])\n",
      "yb_indices.shape: torch.Size([8, 18])\n"
     ]
    },
    {
     "name": "stderr",
     "output_type": "stream",
     "text": [
      "320it [00:40,  6.31it/s]"
     ]
    },
    {
     "name": "stdout",
     "output_type": "stream",
     "text": [
      "logits.shape: torch.Size([8, 18])\n",
      "yb_indices.shape: torch.Size([8, 18])\n",
      "logits.shape: torch.Size([8, 18])\n",
      "yb_indices.shape: torch.Size([8, 18])\n"
     ]
    },
    {
     "name": "stderr",
     "output_type": "stream",
     "text": [
      "322it [00:40,  6.63it/s]"
     ]
    },
    {
     "name": "stdout",
     "output_type": "stream",
     "text": [
      "logits.shape: torch.Size([8, 18])\n",
      "yb_indices.shape: torch.Size([8, 18])\n",
      "logits.shape: torch.Size([8, 18])\n",
      "yb_indices.shape: torch.Size([8, 18])\n"
     ]
    },
    {
     "name": "stderr",
     "output_type": "stream",
     "text": [
      "324it [00:41,  6.29it/s]"
     ]
    },
    {
     "name": "stdout",
     "output_type": "stream",
     "text": [
      "logits.shape: torch.Size([8, 18])\n",
      "yb_indices.shape: torch.Size([8, 18])\n",
      "logits.shape: torch.Size([8, 18])\n",
      "yb_indices.shape: torch.Size([8, 18])\n"
     ]
    },
    {
     "name": "stderr",
     "output_type": "stream",
     "text": [
      "326it [00:41,  6.05it/s]"
     ]
    },
    {
     "name": "stdout",
     "output_type": "stream",
     "text": [
      "logits.shape: torch.Size([8, 18])\n",
      "yb_indices.shape: torch.Size([8, 18])\n",
      "logits.shape: torch.Size([8, 18])\n",
      "yb_indices.shape: torch.Size([8, 18])\n"
     ]
    },
    {
     "name": "stderr",
     "output_type": "stream",
     "text": [
      "328it [00:41,  6.39it/s]"
     ]
    },
    {
     "name": "stdout",
     "output_type": "stream",
     "text": [
      "logits.shape: torch.Size([8, 18])\n",
      "yb_indices.shape: torch.Size([8, 18])\n",
      "logits.shape: torch.Size([8, 18])\n",
      "yb_indices.shape: torch.Size([8, 18])\n"
     ]
    },
    {
     "name": "stderr",
     "output_type": "stream",
     "text": [
      "330it [00:42,  6.41it/s]"
     ]
    },
    {
     "name": "stdout",
     "output_type": "stream",
     "text": [
      "logits.shape: torch.Size([8, 18])\n",
      "yb_indices.shape: torch.Size([8, 18])\n",
      "logits.shape: torch.Size([8, 18])\n",
      "yb_indices.shape: torch.Size([8, 18])\n"
     ]
    },
    {
     "name": "stderr",
     "output_type": "stream",
     "text": [
      "332it [00:42,  6.52it/s]"
     ]
    },
    {
     "name": "stdout",
     "output_type": "stream",
     "text": [
      "logits.shape: torch.Size([8, 18])\n",
      "yb_indices.shape: torch.Size([8, 18])\n",
      "logits.shape: torch.Size([8, 18])\n",
      "yb_indices.shape: torch.Size([8, 18])\n"
     ]
    },
    {
     "name": "stderr",
     "output_type": "stream",
     "text": [
      "334it [00:42,  6.37it/s]"
     ]
    },
    {
     "name": "stdout",
     "output_type": "stream",
     "text": [
      "logits.shape: torch.Size([8, 18])\n",
      "yb_indices.shape: torch.Size([8, 18])\n",
      "logits.shape: torch.Size([8, 18])\n",
      "yb_indices.shape: torch.Size([8, 18])\n"
     ]
    },
    {
     "name": "stderr",
     "output_type": "stream",
     "text": [
      "336it [00:43,  6.37it/s]"
     ]
    },
    {
     "name": "stdout",
     "output_type": "stream",
     "text": [
      "logits.shape: torch.Size([8, 18])\n",
      "yb_indices.shape: torch.Size([8, 18])\n",
      "logits.shape: torch.Size([8, 18])\n",
      "yb_indices.shape: torch.Size([8, 18])\n"
     ]
    },
    {
     "name": "stderr",
     "output_type": "stream",
     "text": [
      "338it [00:43,  6.34it/s]"
     ]
    },
    {
     "name": "stdout",
     "output_type": "stream",
     "text": [
      "logits.shape: torch.Size([8, 18])\n",
      "yb_indices.shape: torch.Size([8, 18])\n",
      "logits.shape: torch.Size([8, 18])\n",
      "yb_indices.shape: torch.Size([8, 18])\n"
     ]
    },
    {
     "name": "stderr",
     "output_type": "stream",
     "text": [
      "340it [00:43,  6.40it/s]"
     ]
    },
    {
     "name": "stdout",
     "output_type": "stream",
     "text": [
      "logits.shape: torch.Size([8, 18])\n",
      "yb_indices.shape: torch.Size([8, 18])\n",
      "logits.shape: torch.Size([8, 18])\n",
      "yb_indices.shape: torch.Size([8, 18])\n"
     ]
    },
    {
     "name": "stderr",
     "output_type": "stream",
     "text": [
      "342it [00:43,  6.62it/s]"
     ]
    },
    {
     "name": "stdout",
     "output_type": "stream",
     "text": [
      "logits.shape: torch.Size([8, 18])\n",
      "yb_indices.shape: torch.Size([8, 18])\n",
      "logits.shape: torch.Size([8, 18])\n",
      "yb_indices.shape: torch.Size([8, 18])\n"
     ]
    },
    {
     "name": "stderr",
     "output_type": "stream",
     "text": [
      "344it [00:44,  5.76it/s]"
     ]
    },
    {
     "name": "stdout",
     "output_type": "stream",
     "text": [
      "logits.shape: torch.Size([8, 18])\n",
      "yb_indices.shape: torch.Size([8, 18])\n",
      "logits.shape: torch.Size([8, 18])\n",
      "yb_indices.shape: torch.Size([8, 18])\n"
     ]
    },
    {
     "name": "stderr",
     "output_type": "stream",
     "text": [
      "346it [00:44,  5.75it/s]"
     ]
    },
    {
     "name": "stdout",
     "output_type": "stream",
     "text": [
      "logits.shape: torch.Size([8, 18])\n",
      "yb_indices.shape: torch.Size([8, 18])\n",
      "logits.shape: torch.Size([8, 18])\n",
      "yb_indices.shape: torch.Size([8, 18])\n"
     ]
    },
    {
     "name": "stderr",
     "output_type": "stream",
     "text": [
      "348it [00:45,  6.02it/s]"
     ]
    },
    {
     "name": "stdout",
     "output_type": "stream",
     "text": [
      "logits.shape: torch.Size([8, 18])\n",
      "yb_indices.shape: torch.Size([8, 18])\n",
      "logits.shape: torch.Size([8, 18])\n",
      "yb_indices.shape: torch.Size([8, 18])\n"
     ]
    },
    {
     "name": "stderr",
     "output_type": "stream",
     "text": [
      "350it [00:45,  6.29it/s]"
     ]
    },
    {
     "name": "stdout",
     "output_type": "stream",
     "text": [
      "logits.shape: torch.Size([8, 18])\n",
      "yb_indices.shape: torch.Size([8, 18])\n",
      "logits.shape: torch.Size([8, 18])\n",
      "yb_indices.shape: torch.Size([8, 18])\n"
     ]
    },
    {
     "name": "stderr",
     "output_type": "stream",
     "text": [
      "352it [00:45,  6.21it/s]"
     ]
    },
    {
     "name": "stdout",
     "output_type": "stream",
     "text": [
      "logits.shape: torch.Size([8, 18])\n",
      "yb_indices.shape: torch.Size([8, 18])\n",
      "logits.shape: torch.Size([8, 18])\n",
      "yb_indices.shape: torch.Size([8, 18])\n"
     ]
    },
    {
     "name": "stderr",
     "output_type": "stream",
     "text": [
      "354it [00:46,  6.12it/s]"
     ]
    },
    {
     "name": "stdout",
     "output_type": "stream",
     "text": [
      "logits.shape: torch.Size([8, 18])\n",
      "yb_indices.shape: torch.Size([8, 18])\n",
      "logits.shape: torch.Size([8, 18])\n",
      "yb_indices.shape: torch.Size([8, 18])\n"
     ]
    },
    {
     "name": "stderr",
     "output_type": "stream",
     "text": [
      "356it [00:46,  5.98it/s]"
     ]
    },
    {
     "name": "stdout",
     "output_type": "stream",
     "text": [
      "logits.shape: torch.Size([8, 18])\n",
      "yb_indices.shape: torch.Size([8, 18])\n",
      "logits.shape: torch.Size([8, 18])\n",
      "yb_indices.shape: torch.Size([8, 18])\n"
     ]
    },
    {
     "name": "stderr",
     "output_type": "stream",
     "text": [
      "358it [00:46,  5.74it/s]"
     ]
    },
    {
     "name": "stdout",
     "output_type": "stream",
     "text": [
      "logits.shape: torch.Size([8, 18])\n",
      "yb_indices.shape: torch.Size([8, 18])\n",
      "logits.shape: torch.Size([8, 18])\n",
      "yb_indices.shape: torch.Size([8, 18])\n"
     ]
    },
    {
     "name": "stderr",
     "output_type": "stream",
     "text": [
      "360it [00:47,  5.65it/s]"
     ]
    },
    {
     "name": "stdout",
     "output_type": "stream",
     "text": [
      "logits.shape: torch.Size([8, 18])\n",
      "yb_indices.shape: torch.Size([8, 18])\n"
     ]
    },
    {
     "name": "stderr",
     "output_type": "stream",
     "text": [
      "361it [00:47,  5.28it/s]"
     ]
    },
    {
     "name": "stdout",
     "output_type": "stream",
     "text": [
      "logits.shape: torch.Size([8, 18])\n",
      "yb_indices.shape: torch.Size([8, 18])\n",
      "logits.shape: torch.Size([8, 18])\n",
      "yb_indices.shape: torch.Size([8, 18])\n"
     ]
    },
    {
     "name": "stderr",
     "output_type": "stream",
     "text": [
      "363it [00:47,  6.44it/s]"
     ]
    },
    {
     "name": "stdout",
     "output_type": "stream",
     "text": [
      "logits.shape: torch.Size([8, 18])\n",
      "yb_indices.shape: torch.Size([8, 18])\n",
      "logits.shape: torch.Size([8, 18])\n",
      "yb_indices.shape: torch.Size([8, 18])\n"
     ]
    },
    {
     "name": "stderr",
     "output_type": "stream",
     "text": [
      "365it [00:47,  7.12it/s]"
     ]
    },
    {
     "name": "stdout",
     "output_type": "stream",
     "text": [
      "logits.shape: torch.Size([8, 18])\n",
      "yb_indices.shape: torch.Size([8, 18])\n",
      "logits.shape: torch.Size([8, 18])\n",
      "yb_indices.shape: torch.Size([8, 18])\n"
     ]
    },
    {
     "name": "stderr",
     "output_type": "stream",
     "text": [
      "367it [00:48,  6.91it/s]"
     ]
    },
    {
     "name": "stdout",
     "output_type": "stream",
     "text": [
      "logits.shape: torch.Size([8, 18])\n",
      "yb_indices.shape: torch.Size([8, 18])\n",
      "logits.shape: torch.Size([8, 18])\n",
      "yb_indices.shape: torch.Size([8, 18])\n"
     ]
    },
    {
     "name": "stderr",
     "output_type": "stream",
     "text": [
      "369it [00:48,  7.14it/s]"
     ]
    },
    {
     "name": "stdout",
     "output_type": "stream",
     "text": [
      "logits.shape: torch.Size([8, 18])\n",
      "yb_indices.shape: torch.Size([8, 18])\n",
      "logits.shape: torch.Size([8, 18])\n",
      "yb_indices.shape: torch.Size([8, 18])\n"
     ]
    },
    {
     "name": "stderr",
     "output_type": "stream",
     "text": [
      "371it [00:48,  7.19it/s]"
     ]
    },
    {
     "name": "stdout",
     "output_type": "stream",
     "text": [
      "logits.shape: torch.Size([8, 18])\n",
      "yb_indices.shape: torch.Size([8, 18])\n",
      "logits.shape: torch.Size([8, 18])\n",
      "yb_indices.shape: torch.Size([8, 18])\n"
     ]
    },
    {
     "name": "stderr",
     "output_type": "stream",
     "text": [
      "373it [00:48,  7.38it/s]"
     ]
    },
    {
     "name": "stdout",
     "output_type": "stream",
     "text": [
      "logits.shape: torch.Size([8, 18])\n",
      "yb_indices.shape: torch.Size([8, 18])\n",
      "logits.shape: torch.Size([8, 18])\n",
      "yb_indices.shape: torch.Size([8, 18])\n"
     ]
    },
    {
     "name": "stderr",
     "output_type": "stream",
     "text": [
      "375it [00:49,  7.00it/s]"
     ]
    },
    {
     "name": "stdout",
     "output_type": "stream",
     "text": [
      "logits.shape: torch.Size([8, 18])\n",
      "yb_indices.shape: torch.Size([8, 18])\n",
      "logits.shape: torch.Size([8, 18])\n",
      "yb_indices.shape: torch.Size([8, 18])\n"
     ]
    },
    {
     "name": "stderr",
     "output_type": "stream",
     "text": [
      "377it [00:49,  7.52it/s]"
     ]
    },
    {
     "name": "stdout",
     "output_type": "stream",
     "text": [
      "logits.shape: torch.Size([8, 18])\n",
      "yb_indices.shape: torch.Size([8, 18])\n",
      "logits.shape: torch.Size([8, 18])\n",
      "yb_indices.shape: torch.Size([8, 18])\n"
     ]
    },
    {
     "name": "stderr",
     "output_type": "stream",
     "text": [
      "379it [00:49,  7.16it/s]"
     ]
    },
    {
     "name": "stdout",
     "output_type": "stream",
     "text": [
      "logits.shape: torch.Size([8, 18])\n",
      "yb_indices.shape: torch.Size([8, 18])\n",
      "logits.shape: torch.Size([8, 18])\n",
      "yb_indices.shape: torch.Size([8, 18])\n"
     ]
    },
    {
     "name": "stderr",
     "output_type": "stream",
     "text": [
      "382it [00:50,  8.19it/s]"
     ]
    },
    {
     "name": "stdout",
     "output_type": "stream",
     "text": [
      "logits.shape: torch.Size([8, 18])\n",
      "yb_indices.shape: torch.Size([8, 18])\n",
      "logits.shape: torch.Size([8, 18])\n",
      "yb_indices.shape: torch.Size([8, 18])\n"
     ]
    },
    {
     "name": "stderr",
     "output_type": "stream",
     "text": [
      "383it [00:50,  8.34it/s]"
     ]
    },
    {
     "name": "stdout",
     "output_type": "stream",
     "text": [
      "logits.shape: torch.Size([8, 18])\n",
      "yb_indices.shape: torch.Size([8, 18])\n",
      "logits.shape: torch.Size([8, 18])\n",
      "yb_indices.shape: torch.Size([8, 18])\n"
     ]
    },
    {
     "name": "stderr",
     "output_type": "stream",
     "text": [
      "385it [00:50,  8.20it/s]"
     ]
    },
    {
     "name": "stdout",
     "output_type": "stream",
     "text": [
      "logits.shape: torch.Size([8, 18])\n",
      "yb_indices.shape: torch.Size([8, 18])\n",
      "logits.shape: torch.Size([8, 18])\n",
      "yb_indices.shape: torch.Size([8, 18])\n"
     ]
    },
    {
     "name": "stderr",
     "output_type": "stream",
     "text": [
      "388it [00:50,  8.67it/s]"
     ]
    },
    {
     "name": "stdout",
     "output_type": "stream",
     "text": [
      "logits.shape: torch.Size([8, 18])\n",
      "yb_indices.shape: torch.Size([8, 18])\n",
      "logits.shape: torch.Size([8, 18])\n",
      "yb_indices.shape: torch.Size([8, 18])\n"
     ]
    },
    {
     "name": "stderr",
     "output_type": "stream",
     "text": [
      "389it [00:50,  7.91it/s]"
     ]
    },
    {
     "name": "stdout",
     "output_type": "stream",
     "text": [
      "logits.shape: torch.Size([8, 18])\n",
      "yb_indices.shape: torch.Size([8, 18])\n",
      "logits.shape: torch.Size([8, 18])\n",
      "yb_indices.shape: torch.Size([8, 18])\n"
     ]
    },
    {
     "name": "stderr",
     "output_type": "stream",
     "text": [
      "391it [00:51,  8.11it/s]"
     ]
    },
    {
     "name": "stdout",
     "output_type": "stream",
     "text": [
      "logits.shape: torch.Size([8, 18])\n",
      "yb_indices.shape: torch.Size([8, 18])\n",
      "logits.shape: torch.Size([8, 18])\n",
      "yb_indices.shape: torch.Size([8, 18])\n"
     ]
    },
    {
     "name": "stderr",
     "output_type": "stream",
     "text": [
      "394it [00:51,  8.38it/s]"
     ]
    },
    {
     "name": "stdout",
     "output_type": "stream",
     "text": [
      "logits.shape: torch.Size([8, 18])\n",
      "yb_indices.shape: torch.Size([8, 18])\n",
      "logits.shape: torch.Size([8, 18])\n",
      "yb_indices.shape: torch.Size([8, 18])\n"
     ]
    },
    {
     "name": "stderr",
     "output_type": "stream",
     "text": [
      "395it [00:51,  8.68it/s]"
     ]
    },
    {
     "name": "stdout",
     "output_type": "stream",
     "text": [
      "logits.shape: torch.Size([8, 18])\n",
      "yb_indices.shape: torch.Size([8, 18])\n",
      "logits.shape: torch.Size([8, 18])\n",
      "yb_indices.shape: torch.Size([8, 18])\n"
     ]
    },
    {
     "name": "stderr",
     "output_type": "stream",
     "text": [
      "398it [00:51,  8.69it/s]"
     ]
    },
    {
     "name": "stdout",
     "output_type": "stream",
     "text": [
      "logits.shape: torch.Size([8, 18])\n",
      "yb_indices.shape: torch.Size([8, 18])\n",
      "logits.shape: torch.Size([8, 18])\n",
      "yb_indices.shape: torch.Size([8, 18])\n"
     ]
    },
    {
     "name": "stderr",
     "output_type": "stream",
     "text": [
      "399it [00:52,  8.80it/s]"
     ]
    },
    {
     "name": "stdout",
     "output_type": "stream",
     "text": [
      "logits.shape: torch.Size([8, 18])\n",
      "yb_indices.shape: torch.Size([8, 18])\n",
      "logits.shape: torch.Size([8, 18])\n",
      "yb_indices.shape: torch.Size([8, 18])\n",
      "logits.shape: torch.Size([8, 18])\n",
      "yb_indices.shape: torch.Size([8, 18])\n"
     ]
    },
    {
     "name": "stderr",
     "output_type": "stream",
     "text": [
      "402it [00:52,  9.25it/s]"
     ]
    },
    {
     "name": "stdout",
     "output_type": "stream",
     "text": [
      "logits.shape: torch.Size([8, 18])\n",
      "yb_indices.shape: torch.Size([8, 18])\n",
      "logits.shape: torch.Size([8, 18])\n",
      "yb_indices.shape: torch.Size([8, 18])\n",
      "logits.shape: torch.Size([8, 18])\n",
      "yb_indices.shape: torch.Size([8, 18])\n"
     ]
    },
    {
     "name": "stderr",
     "output_type": "stream",
     "text": [
      "406it [00:52, 10.28it/s]"
     ]
    },
    {
     "name": "stdout",
     "output_type": "stream",
     "text": [
      "logits.shape: torch.Size([8, 18])\n",
      "yb_indices.shape: torch.Size([8, 18])\n",
      "logits.shape: torch.Size([8, 18])\n",
      "yb_indices.shape: torch.Size([8, 18])\n",
      "logits.shape: torch.Size([8, 18])\n",
      "yb_indices.shape: torch.Size([8, 18])\n"
     ]
    },
    {
     "name": "stderr",
     "output_type": "stream",
     "text": [
      "408it [00:52, 10.79it/s]"
     ]
    },
    {
     "name": "stdout",
     "output_type": "stream",
     "text": [
      "logits.shape: torch.Size([8, 18])\n",
      "yb_indices.shape: torch.Size([8, 18])\n",
      "logits.shape: torch.Size([8, 18])\n",
      "yb_indices.shape: torch.Size([8, 18])\n",
      "logits.shape: torch.Size([8, 18])\n",
      "yb_indices.shape: torch.Size([8, 18])\n"
     ]
    },
    {
     "name": "stderr",
     "output_type": "stream",
     "text": [
      "412it [00:53, 10.65it/s]"
     ]
    },
    {
     "name": "stdout",
     "output_type": "stream",
     "text": [
      "logits.shape: torch.Size([8, 18])\n",
      "yb_indices.shape: torch.Size([8, 18])\n",
      "logits.shape: torch.Size([8, 18])\n",
      "yb_indices.shape: torch.Size([8, 18])\n"
     ]
    },
    {
     "name": "stderr",
     "output_type": "stream",
     "text": [
      "414it [00:53, 10.42it/s]"
     ]
    },
    {
     "name": "stdout",
     "output_type": "stream",
     "text": [
      "logits.shape: torch.Size([8, 18])\n",
      "yb_indices.shape: torch.Size([8, 18])\n",
      "logits.shape: torch.Size([8, 18])\n",
      "yb_indices.shape: torch.Size([8, 18])\n",
      "logits.shape: torch.Size([8, 18])\n",
      "yb_indices.shape: torch.Size([8, 18])\n"
     ]
    },
    {
     "name": "stderr",
     "output_type": "stream",
     "text": [
      "416it [00:53,  9.29it/s]"
     ]
    },
    {
     "name": "stdout",
     "output_type": "stream",
     "text": [
      "logits.shape: torch.Size([8, 18])\n",
      "yb_indices.shape: torch.Size([8, 18])\n",
      "logits.shape: torch.Size([8, 18])\n",
      "yb_indices.shape: torch.Size([8, 18])\n",
      "logits.shape: torch.Size([8, 18])\n",
      "yb_indices.shape: torch.Size([8, 18])\n"
     ]
    },
    {
     "name": "stderr",
     "output_type": "stream",
     "text": [
      "419it [00:54,  9.58it/s]"
     ]
    },
    {
     "name": "stdout",
     "output_type": "stream",
     "text": [
      "logits.shape: torch.Size([8, 18])\n",
      "yb_indices.shape: torch.Size([8, 18])\n",
      "logits.shape: torch.Size([8, 18])\n",
      "yb_indices.shape: torch.Size([8, 18])\n",
      "logits.shape: torch.Size([8, 18])\n",
      "yb_indices.shape: torch.Size([8, 18])\n"
     ]
    },
    {
     "name": "stderr",
     "output_type": "stream",
     "text": [
      "423it [00:54,  9.54it/s]"
     ]
    },
    {
     "name": "stdout",
     "output_type": "stream",
     "text": [
      "logits.shape: torch.Size([8, 18])\n",
      "yb_indices.shape: torch.Size([8, 18])\n",
      "logits.shape: torch.Size([8, 18])\n",
      "yb_indices.shape: torch.Size([8, 18])\n"
     ]
    },
    {
     "name": "stderr",
     "output_type": "stream",
     "text": [
      "424it [00:54,  9.61it/s]"
     ]
    },
    {
     "name": "stdout",
     "output_type": "stream",
     "text": [
      "logits.shape: torch.Size([8, 18])\n",
      "yb_indices.shape: torch.Size([8, 18])\n",
      "logits.shape: torch.Size([8, 18])\n",
      "yb_indices.shape: torch.Size([8, 18])\n",
      "logits.shape: torch.Size([8, 18])\n",
      "yb_indices.shape: torch.Size([8, 18])\n"
     ]
    },
    {
     "name": "stderr",
     "output_type": "stream",
     "text": [
      "428it [00:54, 10.54it/s]"
     ]
    },
    {
     "name": "stdout",
     "output_type": "stream",
     "text": [
      "logits.shape: torch.Size([8, 18])\n",
      "yb_indices.shape: torch.Size([8, 18])\n",
      "logits.shape: torch.Size([8, 18])\n",
      "yb_indices.shape: torch.Size([8, 18])\n",
      "logits.shape: torch.Size([8, 18])\n",
      "yb_indices.shape: torch.Size([8, 18])\n"
     ]
    },
    {
     "name": "stderr",
     "output_type": "stream",
     "text": [
      "430it [00:55, 10.28it/s]"
     ]
    },
    {
     "name": "stdout",
     "output_type": "stream",
     "text": [
      "logits.shape: torch.Size([8, 18])\n",
      "yb_indices.shape: torch.Size([8, 18])\n",
      "logits.shape: torch.Size([8, 18])\n",
      "yb_indices.shape: torch.Size([8, 18])\n",
      "logits.shape: torch.Size([8, 18])\n",
      "yb_indices.shape: torch.Size([8, 18])\n"
     ]
    },
    {
     "name": "stderr",
     "output_type": "stream",
     "text": [
      "434it [00:55, 10.05it/s]"
     ]
    },
    {
     "name": "stdout",
     "output_type": "stream",
     "text": [
      "logits.shape: torch.Size([8, 18])\n",
      "yb_indices.shape: torch.Size([8, 18])\n",
      "logits.shape: torch.Size([8, 18])\n",
      "yb_indices.shape: torch.Size([8, 18])\n",
      "logits.shape: torch.Size([8, 18])\n",
      "yb_indices.shape: torch.Size([8, 18])\n"
     ]
    },
    {
     "name": "stderr",
     "output_type": "stream",
     "text": [
      "437it [00:55,  9.37it/s]"
     ]
    },
    {
     "name": "stdout",
     "output_type": "stream",
     "text": [
      "logits.shape: torch.Size([8, 18])\n",
      "yb_indices.shape: torch.Size([8, 18])\n",
      "logits.shape: torch.Size([8, 18])\n",
      "yb_indices.shape: torch.Size([8, 18])\n"
     ]
    },
    {
     "name": "stderr",
     "output_type": "stream",
     "text": [
      "438it [00:56,  7.57it/s]"
     ]
    },
    {
     "name": "stdout",
     "output_type": "stream",
     "text": [
      "logits.shape: torch.Size([8, 18])\n",
      "yb_indices.shape: torch.Size([8, 18])\n",
      "logits.shape: torch.Size([8, 18])\n",
      "yb_indices.shape: torch.Size([8, 18])\n"
     ]
    },
    {
     "name": "stderr",
     "output_type": "stream",
     "text": [
      "440it [00:56,  7.18it/s]"
     ]
    },
    {
     "name": "stdout",
     "output_type": "stream",
     "text": [
      "logits.shape: torch.Size([8, 18])\n",
      "yb_indices.shape: torch.Size([8, 18])\n",
      "logits.shape: torch.Size([8, 18])\n",
      "yb_indices.shape: torch.Size([8, 18])\n"
     ]
    },
    {
     "name": "stderr",
     "output_type": "stream",
     "text": [
      "442it [00:56,  7.82it/s]"
     ]
    },
    {
     "name": "stdout",
     "output_type": "stream",
     "text": [
      "logits.shape: torch.Size([8, 18])\n",
      "yb_indices.shape: torch.Size([8, 18])\n",
      "logits.shape: torch.Size([8, 18])\n",
      "yb_indices.shape: torch.Size([8, 18])\n",
      "logits.shape: torch.Size([8, 18])\n",
      "yb_indices.shape: torch.Size([8, 18])\n"
     ]
    },
    {
     "name": "stderr",
     "output_type": "stream",
     "text": [
      "446it [00:57,  9.21it/s]"
     ]
    },
    {
     "name": "stdout",
     "output_type": "stream",
     "text": [
      "logits.shape: torch.Size([8, 18])\n",
      "yb_indices.shape: torch.Size([8, 18])\n",
      "logits.shape: torch.Size([8, 18])\n",
      "yb_indices.shape: torch.Size([8, 18])\n",
      "logits.shape: torch.Size([8, 18])\n",
      "yb_indices.shape: torch.Size([8, 18])\n"
     ]
    },
    {
     "name": "stderr",
     "output_type": "stream",
     "text": [
      "448it [00:57, 10.01it/s]"
     ]
    },
    {
     "name": "stdout",
     "output_type": "stream",
     "text": [
      "logits.shape: torch.Size([8, 18])\n",
      "yb_indices.shape: torch.Size([8, 18])\n",
      "logits.shape: torch.Size([8, 18])\n",
      "yb_indices.shape: torch.Size([8, 18])\n",
      "logits.shape: torch.Size([8, 18])\n",
      "yb_indices.shape: torch.Size([8, 18])\n"
     ]
    },
    {
     "name": "stderr",
     "output_type": "stream",
     "text": [
      "452it [00:57, 10.97it/s]"
     ]
    },
    {
     "name": "stdout",
     "output_type": "stream",
     "text": [
      "logits.shape: torch.Size([8, 18])\n",
      "yb_indices.shape: torch.Size([8, 18])\n",
      "logits.shape: torch.Size([8, 18])\n",
      "yb_indices.shape: torch.Size([8, 18])\n",
      "logits.shape: torch.Size([8, 18])\n",
      "yb_indices.shape: torch.Size([8, 18])\n"
     ]
    },
    {
     "name": "stderr",
     "output_type": "stream",
     "text": [
      "454it [00:57,  8.78it/s]"
     ]
    },
    {
     "name": "stdout",
     "output_type": "stream",
     "text": [
      "logits.shape: torch.Size([8, 18])\n",
      "yb_indices.shape: torch.Size([8, 18])\n",
      "logits.shape: torch.Size([8, 18])\n",
      "yb_indices.shape: torch.Size([8, 18])\n"
     ]
    },
    {
     "name": "stderr",
     "output_type": "stream",
     "text": [
      "457it [00:58,  8.35it/s]"
     ]
    },
    {
     "name": "stdout",
     "output_type": "stream",
     "text": [
      "logits.shape: torch.Size([8, 18])\n",
      "yb_indices.shape: torch.Size([8, 18])\n",
      "logits.shape: torch.Size([8, 18])\n",
      "yb_indices.shape: torch.Size([8, 18])\n"
     ]
    },
    {
     "name": "stderr",
     "output_type": "stream",
     "text": [
      "458it [00:58,  7.64it/s]"
     ]
    },
    {
     "name": "stdout",
     "output_type": "stream",
     "text": [
      "logits.shape: torch.Size([8, 18])\n",
      "yb_indices.shape: torch.Size([8, 18])\n",
      "logits.shape: torch.Size([8, 18])\n",
      "yb_indices.shape: torch.Size([8, 18])\n"
     ]
    },
    {
     "name": "stderr",
     "output_type": "stream",
     "text": [
      "460it [00:58,  7.43it/s]"
     ]
    },
    {
     "name": "stdout",
     "output_type": "stream",
     "text": [
      "logits.shape: torch.Size([8, 18])\n",
      "yb_indices.shape: torch.Size([8, 18])\n",
      "logits.shape: torch.Size([8, 18])\n",
      "yb_indices.shape: torch.Size([8, 18])\n",
      "logits.shape: torch.Size([8, 18])\n",
      "yb_indices.shape: torch.Size([8, 18])\n"
     ]
    },
    {
     "name": "stderr",
     "output_type": "stream",
     "text": [
      "463it [00:59,  8.23it/s]"
     ]
    },
    {
     "name": "stdout",
     "output_type": "stream",
     "text": [
      "logits.shape: torch.Size([8, 18])\n",
      "yb_indices.shape: torch.Size([8, 18])\n",
      "logits.shape: torch.Size([8, 18])\n",
      "yb_indices.shape: torch.Size([8, 18])\n"
     ]
    },
    {
     "name": "stderr",
     "output_type": "stream",
     "text": [
      "465it [00:59,  9.14it/s]"
     ]
    },
    {
     "name": "stdout",
     "output_type": "stream",
     "text": [
      "logits.shape: torch.Size([8, 18])\n",
      "yb_indices.shape: torch.Size([8, 18])\n",
      "logits.shape: torch.Size([8, 18])\n",
      "yb_indices.shape: torch.Size([8, 18])\n",
      "logits.shape: torch.Size([8, 18])\n",
      "yb_indices.shape: torch.Size([8, 18])\n"
     ]
    },
    {
     "name": "stderr",
     "output_type": "stream",
     "text": [
      "468it [00:59,  9.85it/s]"
     ]
    },
    {
     "name": "stdout",
     "output_type": "stream",
     "text": [
      "logits.shape: torch.Size([8, 18])\n",
      "yb_indices.shape: torch.Size([8, 18])\n",
      "logits.shape: torch.Size([8, 18])\n",
      "yb_indices.shape: torch.Size([8, 18])\n",
      "logits.shape: torch.Size([8, 18])\n",
      "yb_indices.shape: torch.Size([8, 18])\n"
     ]
    },
    {
     "name": "stderr",
     "output_type": "stream",
     "text": [
      "472it [00:59,  9.99it/s]"
     ]
    },
    {
     "name": "stdout",
     "output_type": "stream",
     "text": [
      "logits.shape: torch.Size([8, 18])\n",
      "yb_indices.shape: torch.Size([8, 18])\n",
      "logits.shape: torch.Size([8, 18])\n",
      "yb_indices.shape: torch.Size([8, 18])\n",
      "logits.shape: torch.Size([8, 18])\n",
      "yb_indices.shape: torch.Size([8, 18])\n"
     ]
    },
    {
     "name": "stderr",
     "output_type": "stream",
     "text": [
      "474it [01:00,  9.57it/s]"
     ]
    },
    {
     "name": "stdout",
     "output_type": "stream",
     "text": [
      "logits.shape: torch.Size([8, 18])\n",
      "yb_indices.shape: torch.Size([8, 18])\n",
      "logits.shape: torch.Size([8, 18])\n",
      "yb_indices.shape: torch.Size([8, 18])\n",
      "logits.shape: torch.Size([8, 18])\n",
      "yb_indices.shape: torch.Size([8, 18])\n"
     ]
    },
    {
     "name": "stderr",
     "output_type": "stream",
     "text": [
      "478it [01:00, 10.17it/s]"
     ]
    },
    {
     "name": "stdout",
     "output_type": "stream",
     "text": [
      "logits.shape: torch.Size([8, 18])\n",
      "yb_indices.shape: torch.Size([8, 18])\n",
      "logits.shape: torch.Size([8, 18])\n",
      "yb_indices.shape: torch.Size([8, 18])\n",
      "logits.shape: torch.Size([8, 18])\n",
      "yb_indices.shape: torch.Size([8, 18])\n"
     ]
    },
    {
     "name": "stderr",
     "output_type": "stream",
     "text": [
      "480it [01:00, 10.52it/s]"
     ]
    },
    {
     "name": "stdout",
     "output_type": "stream",
     "text": [
      "logits.shape: torch.Size([8, 18])\n",
      "yb_indices.shape: torch.Size([8, 18])\n",
      "logits.shape: torch.Size([8, 18])\n",
      "yb_indices.shape: torch.Size([8, 18])\n",
      "logits.shape: torch.Size([8, 18])\n",
      "yb_indices.shape: torch.Size([8, 18])\n"
     ]
    },
    {
     "name": "stderr",
     "output_type": "stream",
     "text": [
      "484it [01:01, 10.34it/s]"
     ]
    },
    {
     "name": "stdout",
     "output_type": "stream",
     "text": [
      "logits.shape: torch.Size([8, 18])\n",
      "yb_indices.shape: torch.Size([8, 18])\n",
      "logits.shape: torch.Size([8, 18])\n",
      "yb_indices.shape: torch.Size([8, 18])\n",
      "logits.shape: torch.Size([8, 18])\n",
      "yb_indices.shape: torch.Size([8, 18])\n"
     ]
    },
    {
     "name": "stderr",
     "output_type": "stream",
     "text": [
      "486it [01:01,  9.85it/s]"
     ]
    },
    {
     "name": "stdout",
     "output_type": "stream",
     "text": [
      "logits.shape: torch.Size([8, 18])\n",
      "yb_indices.shape: torch.Size([8, 18])\n",
      "logits.shape: torch.Size([8, 18])\n",
      "yb_indices.shape: torch.Size([8, 18])\n",
      "logits.shape: torch.Size([8, 18])\n",
      "yb_indices.shape: torch.Size([8, 18])\n"
     ]
    },
    {
     "name": "stderr",
     "output_type": "stream",
     "text": [
      "488it [01:01, 10.23it/s]"
     ]
    },
    {
     "name": "stdout",
     "output_type": "stream",
     "text": [
      "logits.shape: torch.Size([8, 18])\n",
      "yb_indices.shape: torch.Size([8, 18])\n",
      "logits.shape: torch.Size([8, 18])\n",
      "yb_indices.shape: torch.Size([8, 18])\n"
     ]
    },
    {
     "name": "stderr",
     "output_type": "stream",
     "text": [
      "492it [01:01,  8.86it/s]"
     ]
    },
    {
     "name": "stdout",
     "output_type": "stream",
     "text": [
      "logits.shape: torch.Size([8, 18])\n",
      "yb_indices.shape: torch.Size([8, 18])\n",
      "logits.shape: torch.Size([8, 18])\n",
      "yb_indices.shape: torch.Size([8, 18])\n"
     ]
    },
    {
     "name": "stderr",
     "output_type": "stream",
     "text": [
      "493it [01:02,  9.07it/s]"
     ]
    },
    {
     "name": "stdout",
     "output_type": "stream",
     "text": [
      "logits.shape: torch.Size([8, 18])\n",
      "yb_indices.shape: torch.Size([8, 18])\n",
      "logits.shape: torch.Size([8, 18])\n",
      "yb_indices.shape: torch.Size([8, 18])\n"
     ]
    },
    {
     "name": "stderr",
     "output_type": "stream",
     "text": [
      "495it [01:02,  9.18it/s]"
     ]
    },
    {
     "name": "stdout",
     "output_type": "stream",
     "text": [
      "logits.shape: torch.Size([8, 18])\n",
      "yb_indices.shape: torch.Size([8, 18])\n",
      "logits.shape: torch.Size([8, 18])\n",
      "yb_indices.shape: torch.Size([8, 18])\n"
     ]
    },
    {
     "name": "stderr",
     "output_type": "stream",
     "text": [
      "497it [01:02,  8.38it/s]"
     ]
    },
    {
     "name": "stdout",
     "output_type": "stream",
     "text": [
      "logits.shape: torch.Size([8, 18])\n",
      "yb_indices.shape: torch.Size([8, 18])\n",
      "logits.shape: torch.Size([8, 18])\n",
      "yb_indices.shape: torch.Size([8, 18])\n",
      "logits.shape: torch.Size([8, 18])\n",
      "yb_indices.shape: torch.Size([8, 18])\n"
     ]
    },
    {
     "name": "stderr",
     "output_type": "stream",
     "text": [
      "501it [01:02,  9.67it/s]"
     ]
    },
    {
     "name": "stdout",
     "output_type": "stream",
     "text": [
      "logits.shape: torch.Size([8, 18])\n",
      "yb_indices.shape: torch.Size([8, 18])\n",
      "logits.shape: torch.Size([8, 18])\n",
      "yb_indices.shape: torch.Size([8, 18])\n",
      "logits.shape: torch.Size([8, 18])\n",
      "yb_indices.shape: torch.Size([8, 18])\n"
     ]
    },
    {
     "name": "stderr",
     "output_type": "stream",
     "text": [
      "504it [01:03, 10.14it/s]"
     ]
    },
    {
     "name": "stdout",
     "output_type": "stream",
     "text": [
      "logits.shape: torch.Size([8, 18])\n",
      "yb_indices.shape: torch.Size([8, 18])\n",
      "logits.shape: torch.Size([8, 18])\n",
      "yb_indices.shape: torch.Size([8, 18])\n",
      "logits.shape: torch.Size([8, 18])\n",
      "yb_indices.shape: torch.Size([8, 18])\n"
     ]
    },
    {
     "name": "stderr",
     "output_type": "stream",
     "text": [
      "506it [01:03, 10.48it/s]"
     ]
    },
    {
     "name": "stdout",
     "output_type": "stream",
     "text": [
      "logits.shape: torch.Size([8, 18])\n",
      "yb_indices.shape: torch.Size([8, 18])\n",
      "logits.shape: torch.Size([8, 18])\n",
      "yb_indices.shape: torch.Size([8, 18])\n"
     ]
    },
    {
     "name": "stderr",
     "output_type": "stream",
     "text": [
      "508it [01:03,  9.75it/s]"
     ]
    },
    {
     "name": "stdout",
     "output_type": "stream",
     "text": [
      "logits.shape: torch.Size([8, 18])\n",
      "yb_indices.shape: torch.Size([8, 18])\n",
      "logits.shape: torch.Size([8, 18])\n",
      "yb_indices.shape: torch.Size([8, 18])\n",
      "logits.shape: torch.Size([8, 18])\n",
      "yb_indices.shape: torch.Size([8, 18])\n"
     ]
    },
    {
     "name": "stderr",
     "output_type": "stream",
     "text": [
      "512it [01:04, 10.40it/s]"
     ]
    },
    {
     "name": "stdout",
     "output_type": "stream",
     "text": [
      "logits.shape: torch.Size([8, 18])\n",
      "yb_indices.shape: torch.Size([8, 18])\n",
      "logits.shape: torch.Size([8, 18])\n",
      "yb_indices.shape: torch.Size([8, 18])\n",
      "logits.shape: torch.Size([8, 18])\n",
      "yb_indices.shape: torch.Size([8, 18])\n"
     ]
    },
    {
     "name": "stderr",
     "output_type": "stream",
     "text": [
      "514it [01:04, 10.70it/s]"
     ]
    },
    {
     "name": "stdout",
     "output_type": "stream",
     "text": [
      "logits.shape: torch.Size([8, 18])\n",
      "yb_indices.shape: torch.Size([8, 18])\n",
      "logits.shape: torch.Size([8, 18])\n",
      "yb_indices.shape: torch.Size([8, 18])\n",
      "logits.shape: torch.Size([8, 18])\n",
      "yb_indices.shape: torch.Size([8, 18])\n"
     ]
    },
    {
     "name": "stderr",
     "output_type": "stream",
     "text": [
      "518it [01:04, 10.52it/s]"
     ]
    },
    {
     "name": "stdout",
     "output_type": "stream",
     "text": [
      "logits.shape: torch.Size([8, 18])\n",
      "yb_indices.shape: torch.Size([8, 18])\n",
      "logits.shape: torch.Size([8, 18])\n",
      "yb_indices.shape: torch.Size([8, 18])\n",
      "logits.shape: torch.Size([8, 18])\n",
      "yb_indices.shape: torch.Size([8, 18])\n"
     ]
    },
    {
     "name": "stderr",
     "output_type": "stream",
     "text": [
      "520it [01:04, 10.81it/s]"
     ]
    },
    {
     "name": "stdout",
     "output_type": "stream",
     "text": [
      "logits.shape: torch.Size([8, 18])\n",
      "yb_indices.shape: torch.Size([8, 18])\n",
      "logits.shape: torch.Size([8, 18])\n",
      "yb_indices.shape: torch.Size([8, 18])\n",
      "logits.shape: torch.Size([8, 18])\n",
      "yb_indices.shape: torch.Size([8, 18])\n"
     ]
    },
    {
     "name": "stderr",
     "output_type": "stream",
     "text": [
      "524it [01:05, 10.86it/s]"
     ]
    },
    {
     "name": "stdout",
     "output_type": "stream",
     "text": [
      "logits.shape: torch.Size([8, 18])\n",
      "yb_indices.shape: torch.Size([8, 18])\n",
      "logits.shape: torch.Size([8, 18])\n",
      "yb_indices.shape: torch.Size([8, 18])\n",
      "logits.shape: torch.Size([8, 18])\n",
      "yb_indices.shape: torch.Size([8, 18])\n"
     ]
    },
    {
     "name": "stderr",
     "output_type": "stream",
     "text": [
      "526it [01:05, 11.10it/s]"
     ]
    },
    {
     "name": "stdout",
     "output_type": "stream",
     "text": [
      "logits.shape: torch.Size([8, 18])\n",
      "yb_indices.shape: torch.Size([8, 18])\n",
      "logits.shape: torch.Size([8, 18])\n",
      "yb_indices.shape: torch.Size([8, 18])\n",
      "logits.shape: torch.Size([8, 18])\n",
      "yb_indices.shape: torch.Size([8, 18])\n"
     ]
    },
    {
     "name": "stderr",
     "output_type": "stream",
     "text": [
      "528it [01:05, 11.00it/s]"
     ]
    },
    {
     "name": "stdout",
     "output_type": "stream",
     "text": [
      "logits.shape: torch.Size([8, 18])\n",
      "yb_indices.shape: torch.Size([8, 18])\n",
      "logits.shape: torch.Size([8, 18])\n",
      "yb_indices.shape: torch.Size([8, 18])\n"
     ]
    },
    {
     "name": "stderr",
     "output_type": "stream",
     "text": [
      "532it [01:05,  9.71it/s]"
     ]
    },
    {
     "name": "stdout",
     "output_type": "stream",
     "text": [
      "logits.shape: torch.Size([8, 18])\n",
      "yb_indices.shape: torch.Size([8, 18])\n",
      "logits.shape: torch.Size([8, 18])\n",
      "yb_indices.shape: torch.Size([8, 18])\n",
      "logits.shape: torch.Size([8, 18])\n",
      "yb_indices.shape: torch.Size([8, 18])\n"
     ]
    },
    {
     "name": "stderr",
     "output_type": "stream",
     "text": [
      "535it [01:06,  9.43it/s]"
     ]
    },
    {
     "name": "stdout",
     "output_type": "stream",
     "text": [
      "logits.shape: torch.Size([8, 18])\n",
      "yb_indices.shape: torch.Size([8, 18])\n",
      "logits.shape: torch.Size([8, 18])\n",
      "yb_indices.shape: torch.Size([8, 18])\n"
     ]
    },
    {
     "name": "stderr",
     "output_type": "stream",
     "text": [
      "537it [01:06,  9.93it/s]"
     ]
    },
    {
     "name": "stdout",
     "output_type": "stream",
     "text": [
      "logits.shape: torch.Size([8, 18])\n",
      "yb_indices.shape: torch.Size([8, 18])\n",
      "logits.shape: torch.Size([8, 18])\n",
      "yb_indices.shape: torch.Size([8, 18])\n",
      "logits.shape: torch.Size([8, 18])\n",
      "yb_indices.shape: torch.Size([8, 18])\n"
     ]
    },
    {
     "name": "stderr",
     "output_type": "stream",
     "text": [
      "540it [01:06,  9.87it/s]"
     ]
    },
    {
     "name": "stdout",
     "output_type": "stream",
     "text": [
      "logits.shape: torch.Size([8, 18])\n",
      "yb_indices.shape: torch.Size([8, 18])\n",
      "logits.shape: torch.Size([8, 18])\n",
      "yb_indices.shape: torch.Size([8, 18])\n",
      "logits.shape: torch.Size([8, 18])\n",
      "yb_indices.shape: torch.Size([8, 18])\n"
     ]
    },
    {
     "name": "stderr",
     "output_type": "stream",
     "text": [
      "542it [01:06,  9.67it/s]"
     ]
    },
    {
     "name": "stdout",
     "output_type": "stream",
     "text": [
      "logits.shape: torch.Size([8, 18])\n",
      "yb_indices.shape: torch.Size([8, 18])\n",
      "logits.shape: torch.Size([8, 18])\n",
      "yb_indices.shape: torch.Size([8, 18])\n",
      "logits.shape: torch.Size([8, 18])\n",
      "yb_indices.shape: torch.Size([8, 18])\n"
     ]
    },
    {
     "name": "stderr",
     "output_type": "stream",
     "text": [
      "546it [01:07, 10.87it/s]"
     ]
    },
    {
     "name": "stdout",
     "output_type": "stream",
     "text": [
      "logits.shape: torch.Size([8, 18])\n",
      "yb_indices.shape: torch.Size([8, 18])\n",
      "logits.shape: torch.Size([8, 18])\n",
      "yb_indices.shape: torch.Size([8, 18])\n",
      "logits.shape: torch.Size([8, 18])\n",
      "yb_indices.shape: torch.Size([8, 18])\n"
     ]
    },
    {
     "name": "stderr",
     "output_type": "stream",
     "text": [
      "548it [01:07, 11.13it/s]"
     ]
    },
    {
     "name": "stdout",
     "output_type": "stream",
     "text": [
      "logits.shape: torch.Size([8, 18])\n",
      "yb_indices.shape: torch.Size([8, 18])\n",
      "logits.shape: torch.Size([8, 18])\n",
      "yb_indices.shape: torch.Size([8, 18])\n",
      "logits.shape: torch.Size([8, 18])\n",
      "yb_indices.shape: torch.Size([8, 18])\n"
     ]
    },
    {
     "name": "stderr",
     "output_type": "stream",
     "text": [
      "552it [01:07, 10.51it/s]"
     ]
    },
    {
     "name": "stdout",
     "output_type": "stream",
     "text": [
      "logits.shape: torch.Size([8, 18])\n",
      "yb_indices.shape: torch.Size([8, 18])\n",
      "logits.shape: torch.Size([8, 18])\n",
      "yb_indices.shape: torch.Size([8, 18])\n"
     ]
    },
    {
     "name": "stderr",
     "output_type": "stream",
     "text": [
      "554it [01:08, 10.44it/s]"
     ]
    },
    {
     "name": "stdout",
     "output_type": "stream",
     "text": [
      "logits.shape: torch.Size([8, 18])\n",
      "yb_indices.shape: torch.Size([8, 18])\n",
      "logits.shape: torch.Size([8, 18])\n",
      "yb_indices.shape: torch.Size([8, 18])\n",
      "logits.shape: torch.Size([8, 18])\n",
      "yb_indices.shape: torch.Size([8, 18])\n"
     ]
    },
    {
     "name": "stderr",
     "output_type": "stream",
     "text": [
      "556it [01:08, 10.08it/s]"
     ]
    },
    {
     "name": "stdout",
     "output_type": "stream",
     "text": [
      "logits.shape: torch.Size([8, 18])\n",
      "yb_indices.shape: torch.Size([8, 18])\n",
      "logits.shape: torch.Size([8, 18])\n",
      "yb_indices.shape: torch.Size([8, 18])\n",
      "logits.shape: torch.Size([8, 18])\n",
      "yb_indices.shape: torch.Size([8, 18])\n"
     ]
    },
    {
     "name": "stderr",
     "output_type": "stream",
     "text": [
      "560it [01:08, 10.11it/s]"
     ]
    },
    {
     "name": "stdout",
     "output_type": "stream",
     "text": [
      "logits.shape: torch.Size([8, 18])\n",
      "yb_indices.shape: torch.Size([8, 18])\n",
      "logits.shape: torch.Size([8, 18])\n",
      "yb_indices.shape: torch.Size([8, 18])\n",
      "logits.shape: torch.Size([8, 18])\n",
      "yb_indices.shape: torch.Size([8, 18])\n",
      "logits.shape: torch.Size([8, 18])\n",
      "yb_indices.shape: torch.Size([8, 18])\n"
     ]
    },
    {
     "name": "stderr",
     "output_type": "stream",
     "text": [
      "564it [01:09,  8.99it/s]"
     ]
    },
    {
     "name": "stdout",
     "output_type": "stream",
     "text": [
      "logits.shape: torch.Size([8, 18])\n",
      "yb_indices.shape: torch.Size([8, 18])\n",
      "logits.shape: torch.Size([8, 18])\n",
      "yb_indices.shape: torch.Size([8, 18])\n"
     ]
    },
    {
     "name": "stderr",
     "output_type": "stream",
     "text": [
      "566it [01:09,  9.34it/s]"
     ]
    },
    {
     "name": "stdout",
     "output_type": "stream",
     "text": [
      "logits.shape: torch.Size([8, 18])\n",
      "yb_indices.shape: torch.Size([8, 18])\n",
      "logits.shape: torch.Size([8, 18])\n",
      "yb_indices.shape: torch.Size([8, 18])\n"
     ]
    },
    {
     "name": "stderr",
     "output_type": "stream",
     "text": [
      "568it [01:09,  9.28it/s]"
     ]
    },
    {
     "name": "stdout",
     "output_type": "stream",
     "text": [
      "logits.shape: torch.Size([8, 18])\n",
      "yb_indices.shape: torch.Size([8, 18])\n",
      "logits.shape: torch.Size([8, 18])\n",
      "yb_indices.shape: torch.Size([8, 18])\n"
     ]
    },
    {
     "name": "stderr",
     "output_type": "stream",
     "text": [
      "570it [01:09,  9.79it/s]"
     ]
    },
    {
     "name": "stdout",
     "output_type": "stream",
     "text": [
      "logits.shape: torch.Size([8, 18])\n",
      "yb_indices.shape: torch.Size([8, 18])\n",
      "logits.shape: torch.Size([8, 18])\n",
      "yb_indices.shape: torch.Size([8, 18])\n",
      "logits.shape: torch.Size([8, 18])\n",
      "yb_indices.shape: torch.Size([8, 18])\n"
     ]
    },
    {
     "name": "stderr",
     "output_type": "stream",
     "text": [
      "572it [01:09, 10.00it/s]"
     ]
    },
    {
     "name": "stdout",
     "output_type": "stream",
     "text": [
      "logits.shape: torch.Size([8, 18])\n",
      "yb_indices.shape: torch.Size([8, 18])\n",
      "logits.shape: torch.Size([8, 18])\n",
      "yb_indices.shape: torch.Size([8, 18])\n",
      "logits.shape: torch.Size([8, 18])\n",
      "yb_indices.shape: torch.Size([8, 18])\n"
     ]
    },
    {
     "name": "stderr",
     "output_type": "stream",
     "text": [
      "575it [01:10,  9.91it/s]"
     ]
    },
    {
     "name": "stdout",
     "output_type": "stream",
     "text": [
      "logits.shape: torch.Size([8, 18])\n",
      "yb_indices.shape: torch.Size([8, 18])\n",
      "logits.shape: torch.Size([8, 18])\n",
      "yb_indices.shape: torch.Size([8, 18])\n",
      "logits.shape: torch.Size([8, 18])\n",
      "yb_indices.shape: torch.Size([8, 18])\n"
     ]
    },
    {
     "name": "stderr",
     "output_type": "stream",
     "text": [
      "579it [01:10, 10.22it/s]"
     ]
    },
    {
     "name": "stdout",
     "output_type": "stream",
     "text": [
      "logits.shape: torch.Size([8, 18])\n",
      "yb_indices.shape: torch.Size([8, 18])\n",
      "logits.shape: torch.Size([8, 18])\n",
      "yb_indices.shape: torch.Size([8, 18])\n",
      "logits.shape: torch.Size([8, 18])\n",
      "yb_indices.shape: torch.Size([8, 18])\n"
     ]
    },
    {
     "name": "stderr",
     "output_type": "stream",
     "text": [
      "581it [01:10, 10.04it/s]"
     ]
    },
    {
     "name": "stdout",
     "output_type": "stream",
     "text": [
      "logits.shape: torch.Size([8, 18])\n",
      "yb_indices.shape: torch.Size([8, 18])\n",
      "logits.shape: torch.Size([8, 18])\n",
      "yb_indices.shape: torch.Size([8, 18])\n"
     ]
    },
    {
     "name": "stderr",
     "output_type": "stream",
     "text": [
      "583it [01:11,  9.90it/s]"
     ]
    },
    {
     "name": "stdout",
     "output_type": "stream",
     "text": [
      "logits.shape: torch.Size([8, 18])\n",
      "yb_indices.shape: torch.Size([8, 18])\n",
      "logits.shape: torch.Size([8, 18])\n",
      "yb_indices.shape: torch.Size([8, 18])\n",
      "logits.shape: torch.Size([8, 18])\n",
      "yb_indices.shape: torch.Size([8, 18])\n"
     ]
    },
    {
     "name": "stderr",
     "output_type": "stream",
     "text": [
      "587it [01:11, 10.18it/s]"
     ]
    },
    {
     "name": "stdout",
     "output_type": "stream",
     "text": [
      "logits.shape: torch.Size([8, 18])\n",
      "yb_indices.shape: torch.Size([8, 18])\n",
      "logits.shape: torch.Size([8, 18])\n",
      "yb_indices.shape: torch.Size([8, 18])\n",
      "logits.shape: torch.Size([8, 18])\n",
      "yb_indices.shape: torch.Size([8, 18])\n"
     ]
    },
    {
     "name": "stderr",
     "output_type": "stream",
     "text": [
      "589it [01:11, 10.27it/s]"
     ]
    },
    {
     "name": "stdout",
     "output_type": "stream",
     "text": [
      "logits.shape: torch.Size([8, 18])\n",
      "yb_indices.shape: torch.Size([8, 18])\n",
      "logits.shape: torch.Size([8, 18])\n",
      "yb_indices.shape: torch.Size([8, 18])\n",
      "logits.shape: torch.Size([8, 18])\n",
      "yb_indices.shape: torch.Size([8, 18])\n"
     ]
    },
    {
     "name": "stderr",
     "output_type": "stream",
     "text": [
      "593it [01:12, 10.71it/s]"
     ]
    },
    {
     "name": "stdout",
     "output_type": "stream",
     "text": [
      "logits.shape: torch.Size([8, 18])\n",
      "yb_indices.shape: torch.Size([8, 18])\n",
      "logits.shape: torch.Size([8, 18])\n",
      "yb_indices.shape: torch.Size([8, 18])\n",
      "logits.shape: torch.Size([8, 18])\n",
      "yb_indices.shape: torch.Size([8, 18])\n"
     ]
    },
    {
     "name": "stderr",
     "output_type": "stream",
     "text": [
      "595it [01:12,  9.54it/s]"
     ]
    },
    {
     "name": "stdout",
     "output_type": "stream",
     "text": [
      "logits.shape: torch.Size([8, 18])\n",
      "yb_indices.shape: torch.Size([8, 18])\n",
      "logits.shape: torch.Size([8, 18])\n",
      "yb_indices.shape: torch.Size([8, 18])\n",
      "logits.shape: torch.Size([8, 18])\n",
      "yb_indices.shape: torch.Size([8, 18])\n"
     ]
    },
    {
     "name": "stderr",
     "output_type": "stream",
     "text": [
      "599it [01:12, 10.17it/s]"
     ]
    },
    {
     "name": "stdout",
     "output_type": "stream",
     "text": [
      "logits.shape: torch.Size([8, 18])\n",
      "yb_indices.shape: torch.Size([8, 18])\n",
      "logits.shape: torch.Size([8, 18])\n",
      "yb_indices.shape: torch.Size([8, 18])\n",
      "logits.shape: torch.Size([8, 18])\n",
      "yb_indices.shape: torch.Size([8, 18])\n"
     ]
    },
    {
     "name": "stderr",
     "output_type": "stream",
     "text": [
      "601it [01:12,  9.87it/s]"
     ]
    },
    {
     "name": "stdout",
     "output_type": "stream",
     "text": [
      "logits.shape: torch.Size([8, 18])\n",
      "yb_indices.shape: torch.Size([8, 18])\n",
      "logits.shape: torch.Size([8, 18])\n",
      "yb_indices.shape: torch.Size([8, 18])\n"
     ]
    },
    {
     "name": "stderr",
     "output_type": "stream",
     "text": [
      "603it [01:13,  9.96it/s]"
     ]
    },
    {
     "name": "stdout",
     "output_type": "stream",
     "text": [
      "logits.shape: torch.Size([8, 18])\n",
      "yb_indices.shape: torch.Size([8, 18])\n",
      "logits.shape: torch.Size([8, 18])\n",
      "yb_indices.shape: torch.Size([8, 18])\n",
      "logits.shape: torch.Size([8, 18])\n",
      "yb_indices.shape: torch.Size([8, 18])\n"
     ]
    },
    {
     "name": "stderr",
     "output_type": "stream",
     "text": [
      "607it [01:13,  9.87it/s]"
     ]
    },
    {
     "name": "stdout",
     "output_type": "stream",
     "text": [
      "logits.shape: torch.Size([8, 18])\n",
      "yb_indices.shape: torch.Size([8, 18])\n",
      "logits.shape: torch.Size([8, 18])\n",
      "yb_indices.shape: torch.Size([8, 18])\n"
     ]
    },
    {
     "name": "stderr",
     "output_type": "stream",
     "text": [
      "608it [01:13,  9.89it/s]"
     ]
    },
    {
     "name": "stdout",
     "output_type": "stream",
     "text": [
      "logits.shape: torch.Size([8, 18])\n",
      "yb_indices.shape: torch.Size([8, 18])\n",
      "logits.shape: torch.Size([8, 18])\n",
      "yb_indices.shape: torch.Size([8, 18])\n",
      "logits.shape: torch.Size([8, 18])\n",
      "yb_indices.shape: torch.Size([8, 18])\n"
     ]
    },
    {
     "name": "stderr",
     "output_type": "stream",
     "text": [
      "612it [01:13, 10.26it/s]"
     ]
    },
    {
     "name": "stdout",
     "output_type": "stream",
     "text": [
      "logits.shape: torch.Size([8, 18])\n",
      "yb_indices.shape: torch.Size([8, 18])\n",
      "logits.shape: torch.Size([8, 18])\n",
      "yb_indices.shape: torch.Size([8, 18])\n",
      "logits.shape: torch.Size([8, 18])\n",
      "yb_indices.shape: torch.Size([8, 18])\n"
     ]
    },
    {
     "name": "stderr",
     "output_type": "stream",
     "text": [
      "614it [01:14, 10.03it/s]"
     ]
    },
    {
     "name": "stdout",
     "output_type": "stream",
     "text": [
      "logits.shape: torch.Size([8, 18])\n",
      "yb_indices.shape: torch.Size([8, 18])\n",
      "logits.shape: torch.Size([8, 18])\n",
      "yb_indices.shape: torch.Size([8, 18])\n"
     ]
    },
    {
     "name": "stderr",
     "output_type": "stream",
     "text": [
      "616it [01:14, 10.13it/s]"
     ]
    },
    {
     "name": "stdout",
     "output_type": "stream",
     "text": [
      "logits.shape: torch.Size([8, 18])\n",
      "yb_indices.shape: torch.Size([8, 18])\n",
      "logits.shape: torch.Size([8, 18])\n",
      "yb_indices.shape: torch.Size([8, 18])\n"
     ]
    },
    {
     "name": "stderr",
     "output_type": "stream",
     "text": [
      "618it [01:14,  9.60it/s]"
     ]
    },
    {
     "name": "stdout",
     "output_type": "stream",
     "text": [
      "logits.shape: torch.Size([8, 18])\n",
      "yb_indices.shape: torch.Size([8, 18])\n",
      "logits.shape: torch.Size([8, 18])\n",
      "yb_indices.shape: torch.Size([8, 18])\n"
     ]
    },
    {
     "name": "stderr",
     "output_type": "stream",
     "text": [
      "620it [01:14,  8.72it/s]"
     ]
    },
    {
     "name": "stdout",
     "output_type": "stream",
     "text": [
      "logits.shape: torch.Size([8, 18])\n",
      "yb_indices.shape: torch.Size([8, 18])\n",
      "logits.shape: torch.Size([8, 18])\n",
      "yb_indices.shape: torch.Size([8, 18])\n"
     ]
    },
    {
     "name": "stderr",
     "output_type": "stream",
     "text": [
      "622it [01:15,  9.29it/s]"
     ]
    },
    {
     "name": "stdout",
     "output_type": "stream",
     "text": [
      "logits.shape: torch.Size([8, 18])\n",
      "yb_indices.shape: torch.Size([8, 18])\n",
      "logits.shape: torch.Size([8, 18])\n",
      "yb_indices.shape: torch.Size([8, 18])\n",
      "logits.shape: torch.Size([8, 18])\n",
      "yb_indices.shape: torch.Size([8, 18])\n"
     ]
    },
    {
     "name": "stderr",
     "output_type": "stream",
     "text": [
      "626it [01:15,  9.21it/s]"
     ]
    },
    {
     "name": "stdout",
     "output_type": "stream",
     "text": [
      "logits.shape: torch.Size([8, 18])\n",
      "yb_indices.shape: torch.Size([8, 18])\n",
      "logits.shape: torch.Size([8, 18])\n",
      "yb_indices.shape: torch.Size([8, 18])\n"
     ]
    },
    {
     "name": "stderr",
     "output_type": "stream",
     "text": [
      "628it [01:15,  9.74it/s]"
     ]
    },
    {
     "name": "stdout",
     "output_type": "stream",
     "text": [
      "logits.shape: torch.Size([8, 18])\n",
      "yb_indices.shape: torch.Size([8, 18])\n",
      "logits.shape: torch.Size([8, 18])\n",
      "yb_indices.shape: torch.Size([8, 18])\n",
      "logits.shape: torch.Size([8, 18])\n",
      "yb_indices.shape: torch.Size([8, 18])\n"
     ]
    },
    {
     "name": "stderr",
     "output_type": "stream",
     "text": [
      "630it [01:15, 10.09it/s]"
     ]
    },
    {
     "name": "stdout",
     "output_type": "stream",
     "text": [
      "logits.shape: torch.Size([8, 18])\n",
      "yb_indices.shape: torch.Size([8, 18])\n",
      "logits.shape: torch.Size([8, 18])\n",
      "yb_indices.shape: torch.Size([8, 18])\n",
      "logits.shape: torch.Size([8, 18])\n",
      "yb_indices.shape: torch.Size([8, 18])\n"
     ]
    },
    {
     "name": "stderr",
     "output_type": "stream",
     "text": [
      "634it [01:16, 10.17it/s]"
     ]
    },
    {
     "name": "stdout",
     "output_type": "stream",
     "text": [
      "logits.shape: torch.Size([8, 18])\n",
      "yb_indices.shape: torch.Size([8, 18])\n",
      "logits.shape: torch.Size([8, 18])\n",
      "yb_indices.shape: torch.Size([8, 18])\n",
      "logits.shape: torch.Size([8, 18])\n",
      "yb_indices.shape: torch.Size([8, 18])\n"
     ]
    },
    {
     "name": "stderr",
     "output_type": "stream",
     "text": [
      "636it [01:16,  9.54it/s]"
     ]
    },
    {
     "name": "stdout",
     "output_type": "stream",
     "text": [
      "logits.shape: torch.Size([8, 18])\n",
      "yb_indices.shape: torch.Size([8, 18])\n",
      "logits.shape: torch.Size([8, 18])\n",
      "yb_indices.shape: torch.Size([8, 18])\n"
     ]
    },
    {
     "name": "stderr",
     "output_type": "stream",
     "text": [
      "638it [01:16,  8.91it/s]"
     ]
    },
    {
     "name": "stdout",
     "output_type": "stream",
     "text": [
      "logits.shape: torch.Size([8, 18])\n",
      "yb_indices.shape: torch.Size([8, 18])\n",
      "logits.shape: torch.Size([8, 18])\n",
      "yb_indices.shape: torch.Size([8, 18])\n"
     ]
    },
    {
     "name": "stderr",
     "output_type": "stream",
     "text": [
      "641it [01:17,  9.25it/s]"
     ]
    },
    {
     "name": "stdout",
     "output_type": "stream",
     "text": [
      "logits.shape: torch.Size([8, 18])\n",
      "yb_indices.shape: torch.Size([8, 18])\n",
      "logits.shape: torch.Size([8, 18])\n",
      "yb_indices.shape: torch.Size([8, 18])\n",
      "logits.shape: torch.Size([8, 18])\n",
      "yb_indices.shape: torch.Size([8, 18])\n"
     ]
    },
    {
     "name": "stderr",
     "output_type": "stream",
     "text": [
      "643it [01:17,  9.87it/s]"
     ]
    },
    {
     "name": "stdout",
     "output_type": "stream",
     "text": [
      "logits.shape: torch.Size([8, 18])\n",
      "yb_indices.shape: torch.Size([8, 18])\n",
      "logits.shape: torch.Size([8, 18])\n",
      "yb_indices.shape: torch.Size([8, 18])\n",
      "logits.shape: torch.Size([8, 18])\n",
      "yb_indices.shape: torch.Size([8, 18])\n"
     ]
    },
    {
     "name": "stderr",
     "output_type": "stream",
     "text": [
      "647it [01:17, 10.32it/s]"
     ]
    },
    {
     "name": "stdout",
     "output_type": "stream",
     "text": [
      "logits.shape: torch.Size([8, 18])\n",
      "yb_indices.shape: torch.Size([8, 18])\n",
      "logits.shape: torch.Size([8, 18])\n",
      "yb_indices.shape: torch.Size([8, 18])\n",
      "logits.shape: torch.Size([8, 18])\n",
      "yb_indices.shape: torch.Size([8, 18])\n"
     ]
    },
    {
     "name": "stderr",
     "output_type": "stream",
     "text": [
      "649it [01:17, 10.81it/s]"
     ]
    },
    {
     "name": "stdout",
     "output_type": "stream",
     "text": [
      "logits.shape: torch.Size([8, 18])\n",
      "yb_indices.shape: torch.Size([8, 18])\n",
      "logits.shape: torch.Size([8, 18])\n",
      "yb_indices.shape: torch.Size([8, 18])\n",
      "logits.shape: torch.Size([8, 18])\n",
      "yb_indices.shape: torch.Size([8, 18])\n"
     ]
    },
    {
     "name": "stderr",
     "output_type": "stream",
     "text": [
      "653it [01:18, 11.29it/s]"
     ]
    },
    {
     "name": "stdout",
     "output_type": "stream",
     "text": [
      "logits.shape: torch.Size([8, 18])\n",
      "yb_indices.shape: torch.Size([8, 18])\n",
      "logits.shape: torch.Size([8, 18])\n",
      "yb_indices.shape: torch.Size([8, 18])\n",
      "logits.shape: torch.Size([8, 18])\n",
      "yb_indices.shape: torch.Size([8, 18])\n"
     ]
    },
    {
     "name": "stderr",
     "output_type": "stream",
     "text": [
      "655it [01:18, 11.44it/s]"
     ]
    },
    {
     "name": "stdout",
     "output_type": "stream",
     "text": [
      "logits.shape: torch.Size([8, 18])\n",
      "yb_indices.shape: torch.Size([8, 18])\n",
      "logits.shape: torch.Size([8, 18])\n",
      "yb_indices.shape: torch.Size([8, 18])\n",
      "logits.shape: torch.Size([8, 18])\n",
      "yb_indices.shape: torch.Size([8, 18])\n"
     ]
    },
    {
     "name": "stderr",
     "output_type": "stream",
     "text": [
      "659it [01:18, 10.83it/s]"
     ]
    },
    {
     "name": "stdout",
     "output_type": "stream",
     "text": [
      "logits.shape: torch.Size([8, 18])\n",
      "yb_indices.shape: torch.Size([8, 18])\n",
      "logits.shape: torch.Size([8, 18])\n",
      "yb_indices.shape: torch.Size([8, 18])\n",
      "logits.shape: torch.Size([8, 18])\n",
      "yb_indices.shape: torch.Size([8, 18])\n"
     ]
    },
    {
     "name": "stderr",
     "output_type": "stream",
     "text": [
      "661it [01:18, 10.79it/s]"
     ]
    },
    {
     "name": "stdout",
     "output_type": "stream",
     "text": [
      "logits.shape: torch.Size([8, 18])\n",
      "yb_indices.shape: torch.Size([8, 18])\n",
      "logits.shape: torch.Size([8, 18])\n",
      "yb_indices.shape: torch.Size([8, 18])\n",
      "logits.shape: torch.Size([8, 18])\n",
      "yb_indices.shape: torch.Size([8, 18])\n"
     ]
    },
    {
     "name": "stderr",
     "output_type": "stream",
     "text": [
      "665it [01:19, 11.04it/s]"
     ]
    },
    {
     "name": "stdout",
     "output_type": "stream",
     "text": [
      "logits.shape: torch.Size([8, 18])\n",
      "yb_indices.shape: torch.Size([8, 18])\n",
      "logits.shape: torch.Size([8, 18])\n",
      "yb_indices.shape: torch.Size([8, 18])\n",
      "logits.shape: torch.Size([8, 18])\n",
      "yb_indices.shape: torch.Size([8, 18])\n"
     ]
    },
    {
     "name": "stderr",
     "output_type": "stream",
     "text": [
      "667it [01:19, 10.94it/s]"
     ]
    },
    {
     "name": "stdout",
     "output_type": "stream",
     "text": [
      "logits.shape: torch.Size([8, 18])\n",
      "yb_indices.shape: torch.Size([8, 18])\n",
      "logits.shape: torch.Size([8, 18])\n",
      "yb_indices.shape: torch.Size([8, 18])\n",
      "logits.shape: torch.Size([8, 18])\n",
      "yb_indices.shape: torch.Size([8, 18])\n"
     ]
    },
    {
     "name": "stderr",
     "output_type": "stream",
     "text": [
      "671it [01:19, 11.49it/s]"
     ]
    },
    {
     "name": "stdout",
     "output_type": "stream",
     "text": [
      "logits.shape: torch.Size([8, 18])\n",
      "yb_indices.shape: torch.Size([8, 18])\n",
      "logits.shape: torch.Size([8, 18])\n",
      "yb_indices.shape: torch.Size([8, 18])\n",
      "logits.shape: torch.Size([8, 18])\n",
      "yb_indices.shape: torch.Size([8, 18])\n"
     ]
    },
    {
     "name": "stderr",
     "output_type": "stream",
     "text": [
      "673it [01:19, 11.54it/s]"
     ]
    },
    {
     "name": "stdout",
     "output_type": "stream",
     "text": [
      "logits.shape: torch.Size([8, 18])\n",
      "yb_indices.shape: torch.Size([8, 18])\n",
      "logits.shape: torch.Size([8, 18])\n",
      "yb_indices.shape: torch.Size([8, 18])\n",
      "logits.shape: torch.Size([8, 18])\n",
      "yb_indices.shape: torch.Size([8, 18])\n"
     ]
    },
    {
     "name": "stderr",
     "output_type": "stream",
     "text": [
      "677it [01:20, 11.69it/s]"
     ]
    },
    {
     "name": "stdout",
     "output_type": "stream",
     "text": [
      "logits.shape: torch.Size([8, 18])\n",
      "yb_indices.shape: torch.Size([8, 18])\n",
      "logits.shape: torch.Size([8, 18])\n",
      "yb_indices.shape: torch.Size([8, 18])\n",
      "logits.shape: torch.Size([8, 18])\n",
      "yb_indices.shape: torch.Size([8, 18])\n"
     ]
    },
    {
     "name": "stderr",
     "output_type": "stream",
     "text": [
      "679it [01:20, 11.79it/s]"
     ]
    },
    {
     "name": "stdout",
     "output_type": "stream",
     "text": [
      "logits.shape: torch.Size([8, 18])\n",
      "yb_indices.shape: torch.Size([8, 18])\n",
      "logits.shape: torch.Size([8, 18])\n",
      "yb_indices.shape: torch.Size([8, 18])\n",
      "logits.shape: torch.Size([8, 18])\n",
      "yb_indices.shape: torch.Size([8, 18])\n"
     ]
    },
    {
     "name": "stderr",
     "output_type": "stream",
     "text": [
      "683it [01:20, 11.64it/s]"
     ]
    },
    {
     "name": "stdout",
     "output_type": "stream",
     "text": [
      "logits.shape: torch.Size([8, 18])\n",
      "yb_indices.shape: torch.Size([8, 18])\n",
      "logits.shape: torch.Size([8, 18])\n",
      "yb_indices.shape: torch.Size([8, 18])\n",
      "logits.shape: torch.Size([8, 18])\n",
      "yb_indices.shape: torch.Size([8, 18])\n"
     ]
    },
    {
     "name": "stderr",
     "output_type": "stream",
     "text": [
      "685it [01:20, 11.89it/s]"
     ]
    },
    {
     "name": "stdout",
     "output_type": "stream",
     "text": [
      "logits.shape: torch.Size([8, 18])\n",
      "yb_indices.shape: torch.Size([8, 18])\n",
      "logits.shape: torch.Size([8, 18])\n",
      "yb_indices.shape: torch.Size([8, 18])\n",
      "logits.shape: torch.Size([8, 18])\n",
      "yb_indices.shape: torch.Size([8, 18])\n"
     ]
    },
    {
     "name": "stderr",
     "output_type": "stream",
     "text": [
      "689it [01:21, 12.16it/s]"
     ]
    },
    {
     "name": "stdout",
     "output_type": "stream",
     "text": [
      "logits.shape: torch.Size([8, 18])\n",
      "yb_indices.shape: torch.Size([8, 18])\n",
      "logits.shape: torch.Size([8, 18])\n",
      "yb_indices.shape: torch.Size([8, 18])\n",
      "logits.shape: torch.Size([8, 18])\n",
      "yb_indices.shape: torch.Size([8, 18])\n"
     ]
    },
    {
     "name": "stderr",
     "output_type": "stream",
     "text": [
      "691it [01:21, 11.71it/s]"
     ]
    },
    {
     "name": "stdout",
     "output_type": "stream",
     "text": [
      "logits.shape: torch.Size([8, 18])\n",
      "yb_indices.shape: torch.Size([8, 18])\n",
      "logits.shape: torch.Size([8, 18])\n",
      "yb_indices.shape: torch.Size([8, 18])\n",
      "logits.shape: torch.Size([8, 18])\n",
      "yb_indices.shape: torch.Size([8, 18])\n"
     ]
    },
    {
     "name": "stderr",
     "output_type": "stream",
     "text": [
      "695it [01:21, 11.28it/s]"
     ]
    },
    {
     "name": "stdout",
     "output_type": "stream",
     "text": [
      "logits.shape: torch.Size([8, 18])\n",
      "yb_indices.shape: torch.Size([8, 18])\n",
      "logits.shape: torch.Size([8, 18])\n",
      "yb_indices.shape: torch.Size([8, 18])\n",
      "logits.shape: torch.Size([8, 18])\n",
      "yb_indices.shape: torch.Size([8, 18])\n"
     ]
    },
    {
     "name": "stderr",
     "output_type": "stream",
     "text": [
      "697it [01:21, 11.07it/s]"
     ]
    },
    {
     "name": "stdout",
     "output_type": "stream",
     "text": [
      "logits.shape: torch.Size([8, 18])\n",
      "yb_indices.shape: torch.Size([8, 18])\n",
      "logits.shape: torch.Size([8, 18])\n",
      "yb_indices.shape: torch.Size([8, 18])\n",
      "logits.shape: torch.Size([8, 18])\n",
      "yb_indices.shape: torch.Size([8, 18])\n"
     ]
    },
    {
     "name": "stderr",
     "output_type": "stream",
     "text": [
      "701it [01:22, 11.47it/s]"
     ]
    },
    {
     "name": "stdout",
     "output_type": "stream",
     "text": [
      "logits.shape: torch.Size([8, 18])\n",
      "yb_indices.shape: torch.Size([8, 18])\n",
      "logits.shape: torch.Size([8, 18])\n",
      "yb_indices.shape: torch.Size([8, 18])\n",
      "logits.shape: torch.Size([8, 18])\n",
      "yb_indices.shape: torch.Size([8, 18])\n"
     ]
    },
    {
     "name": "stderr",
     "output_type": "stream",
     "text": [
      "703it [01:22, 11.69it/s]"
     ]
    },
    {
     "name": "stdout",
     "output_type": "stream",
     "text": [
      "logits.shape: torch.Size([8, 18])\n",
      "yb_indices.shape: torch.Size([8, 18])\n",
      "logits.shape: torch.Size([8, 18])\n",
      "yb_indices.shape: torch.Size([8, 18])\n",
      "logits.shape: torch.Size([8, 18])\n",
      "yb_indices.shape: torch.Size([8, 18])\n"
     ]
    },
    {
     "name": "stderr",
     "output_type": "stream",
     "text": [
      "707it [01:22, 11.55it/s]"
     ]
    },
    {
     "name": "stdout",
     "output_type": "stream",
     "text": [
      "logits.shape: torch.Size([8, 18])\n",
      "yb_indices.shape: torch.Size([8, 18])\n",
      "logits.shape: torch.Size([8, 18])\n",
      "yb_indices.shape: torch.Size([8, 18])\n",
      "logits.shape: torch.Size([8, 18])\n",
      "yb_indices.shape: torch.Size([8, 18])\n"
     ]
    },
    {
     "name": "stderr",
     "output_type": "stream",
     "text": [
      "709it [01:22, 11.75it/s]"
     ]
    },
    {
     "name": "stdout",
     "output_type": "stream",
     "text": [
      "logits.shape: torch.Size([8, 18])\n",
      "yb_indices.shape: torch.Size([8, 18])\n",
      "logits.shape: torch.Size([8, 18])\n",
      "yb_indices.shape: torch.Size([8, 18])\n",
      "logits.shape: torch.Size([8, 18])\n",
      "yb_indices.shape: torch.Size([8, 18])\n"
     ]
    },
    {
     "name": "stderr",
     "output_type": "stream",
     "text": [
      "713it [01:23, 11.74it/s]"
     ]
    },
    {
     "name": "stdout",
     "output_type": "stream",
     "text": [
      "logits.shape: torch.Size([8, 18])\n",
      "yb_indices.shape: torch.Size([8, 18])\n",
      "logits.shape: torch.Size([8, 18])\n",
      "yb_indices.shape: torch.Size([8, 18])\n",
      "logits.shape: torch.Size([8, 18])\n",
      "yb_indices.shape: torch.Size([8, 18])\n"
     ]
    },
    {
     "name": "stderr",
     "output_type": "stream",
     "text": [
      "717it [01:23, 12.16it/s]"
     ]
    },
    {
     "name": "stdout",
     "output_type": "stream",
     "text": [
      "logits.shape: torch.Size([8, 18])\n",
      "yb_indices.shape: torch.Size([8, 18])\n",
      "logits.shape: torch.Size([8, 18])\n",
      "yb_indices.shape: torch.Size([8, 18])\n",
      "logits.shape: torch.Size([8, 18])\n",
      "yb_indices.shape: torch.Size([8, 18])\n"
     ]
    },
    {
     "name": "stderr",
     "output_type": "stream",
     "text": [
      "719it [01:23, 12.32it/s]"
     ]
    },
    {
     "name": "stdout",
     "output_type": "stream",
     "text": [
      "logits.shape: torch.Size([8, 18])\n",
      "yb_indices.shape: torch.Size([8, 18])\n",
      "logits.shape: torch.Size([8, 18])\n",
      "yb_indices.shape: torch.Size([8, 18])\n",
      "logits.shape: torch.Size([8, 18])\n",
      "yb_indices.shape: torch.Size([8, 18])\n"
     ]
    },
    {
     "name": "stderr",
     "output_type": "stream",
     "text": [
      "721it [01:23, 11.86it/s]"
     ]
    },
    {
     "name": "stdout",
     "output_type": "stream",
     "text": [
      "logits.shape: torch.Size([8, 18])\n",
      "yb_indices.shape: torch.Size([8, 18])\n",
      "logits.shape: torch.Size([8, 18])\n",
      "yb_indices.shape: torch.Size([8, 18])\n",
      "logits.shape: torch.Size([8, 18])\n",
      "yb_indices.shape: torch.Size([8, 18])\n"
     ]
    },
    {
     "name": "stderr",
     "output_type": "stream",
     "text": [
      "725it [01:24, 11.97it/s]"
     ]
    },
    {
     "name": "stdout",
     "output_type": "stream",
     "text": [
      "logits.shape: torch.Size([8, 18])\n",
      "yb_indices.shape: torch.Size([8, 18])\n",
      "logits.shape: torch.Size([8, 18])\n",
      "yb_indices.shape: torch.Size([8, 18])\n",
      "logits.shape: torch.Size([8, 18])\n",
      "yb_indices.shape: torch.Size([8, 18])\n"
     ]
    },
    {
     "name": "stderr",
     "output_type": "stream",
     "text": [
      "727it [01:24, 12.01it/s]"
     ]
    },
    {
     "name": "stdout",
     "output_type": "stream",
     "text": [
      "logits.shape: torch.Size([8, 18])\n",
      "yb_indices.shape: torch.Size([8, 18])\n",
      "logits.shape: torch.Size([8, 18])\n",
      "yb_indices.shape: torch.Size([8, 18])\n",
      "logits.shape: torch.Size([8, 18])\n",
      "yb_indices.shape: torch.Size([8, 18])\n"
     ]
    },
    {
     "name": "stderr",
     "output_type": "stream",
     "text": [
      "731it [01:24, 10.51it/s]"
     ]
    },
    {
     "name": "stdout",
     "output_type": "stream",
     "text": [
      "logits.shape: torch.Size([8, 18])\n",
      "yb_indices.shape: torch.Size([8, 18])\n",
      "logits.shape: torch.Size([8, 18])\n",
      "yb_indices.shape: torch.Size([8, 18])\n",
      "logits.shape: torch.Size([8, 18])\n",
      "yb_indices.shape: torch.Size([8, 18])\n"
     ]
    },
    {
     "name": "stderr",
     "output_type": "stream",
     "text": [
      "733it [01:25, 10.51it/s]"
     ]
    },
    {
     "name": "stdout",
     "output_type": "stream",
     "text": [
      "logits.shape: torch.Size([8, 18])\n",
      "yb_indices.shape: torch.Size([8, 18])\n",
      "logits.shape: torch.Size([8, 18])\n",
      "yb_indices.shape: torch.Size([8, 18])\n"
     ]
    },
    {
     "name": "stderr",
     "output_type": "stream",
     "text": [
      "736it [01:25,  9.64it/s]"
     ]
    },
    {
     "name": "stdout",
     "output_type": "stream",
     "text": [
      "logits.shape: torch.Size([8, 18])\n",
      "yb_indices.shape: torch.Size([8, 18])\n",
      "logits.shape: torch.Size([8, 18])\n",
      "yb_indices.shape: torch.Size([8, 18])\n",
      "logits.shape: torch.Size([8, 18])\n",
      "yb_indices.shape: torch.Size([8, 18])\n"
     ]
    },
    {
     "name": "stderr",
     "output_type": "stream",
     "text": [
      "738it [01:25, 10.19it/s]"
     ]
    },
    {
     "name": "stdout",
     "output_type": "stream",
     "text": [
      "logits.shape: torch.Size([8, 18])\n",
      "yb_indices.shape: torch.Size([8, 18])\n",
      "logits.shape: torch.Size([8, 18])\n",
      "yb_indices.shape: torch.Size([8, 18])\n",
      "logits.shape: torch.Size([8, 18])\n",
      "yb_indices.shape: torch.Size([8, 18])\n"
     ]
    },
    {
     "name": "stderr",
     "output_type": "stream",
     "text": [
      "742it [01:25, 10.74it/s]"
     ]
    },
    {
     "name": "stdout",
     "output_type": "stream",
     "text": [
      "logits.shape: torch.Size([8, 18])\n",
      "yb_indices.shape: torch.Size([8, 18])\n",
      "logits.shape: torch.Size([8, 18])\n",
      "yb_indices.shape: torch.Size([8, 18])\n",
      "logits.shape: torch.Size([8, 18])\n",
      "yb_indices.shape: torch.Size([8, 18])\n"
     ]
    },
    {
     "name": "stderr",
     "output_type": "stream",
     "text": [
      "744it [01:26, 11.17it/s]"
     ]
    },
    {
     "name": "stdout",
     "output_type": "stream",
     "text": [
      "logits.shape: torch.Size([8, 18])\n",
      "yb_indices.shape: torch.Size([8, 18])\n",
      "logits.shape: torch.Size([8, 18])\n",
      "yb_indices.shape: torch.Size([8, 18])\n",
      "logits.shape: torch.Size([8, 18])\n",
      "yb_indices.shape: torch.Size([8, 18])\n"
     ]
    },
    {
     "name": "stderr",
     "output_type": "stream",
     "text": [
      "748it [01:26, 10.96it/s]"
     ]
    },
    {
     "name": "stdout",
     "output_type": "stream",
     "text": [
      "logits.shape: torch.Size([8, 18])\n",
      "yb_indices.shape: torch.Size([8, 18])\n",
      "logits.shape: torch.Size([8, 18])\n",
      "yb_indices.shape: torch.Size([8, 18])\n",
      "logits.shape: torch.Size([8, 18])\n",
      "yb_indices.shape: torch.Size([8, 18])\n"
     ]
    },
    {
     "name": "stderr",
     "output_type": "stream",
     "text": [
      "750it [01:26, 11.27it/s]"
     ]
    },
    {
     "name": "stdout",
     "output_type": "stream",
     "text": [
      "logits.shape: torch.Size([8, 18])\n",
      "yb_indices.shape: torch.Size([8, 18])\n",
      "logits.shape: torch.Size([8, 18])\n",
      "yb_indices.shape: torch.Size([8, 18])\n",
      "logits.shape: torch.Size([8, 18])\n",
      "yb_indices.shape: torch.Size([8, 18])\n"
     ]
    },
    {
     "name": "stderr",
     "output_type": "stream",
     "text": [
      "754it [01:26, 11.68it/s]"
     ]
    },
    {
     "name": "stdout",
     "output_type": "stream",
     "text": [
      "logits.shape: torch.Size([8, 18])\n",
      "yb_indices.shape: torch.Size([8, 18])\n",
      "logits.shape: torch.Size([8, 18])\n",
      "yb_indices.shape: torch.Size([8, 18])\n",
      "logits.shape: torch.Size([8, 18])\n",
      "yb_indices.shape: torch.Size([8, 18])\n"
     ]
    },
    {
     "name": "stderr",
     "output_type": "stream",
     "text": [
      "756it [01:27, 11.48it/s]"
     ]
    },
    {
     "name": "stdout",
     "output_type": "stream",
     "text": [
      "logits.shape: torch.Size([8, 18])\n",
      "yb_indices.shape: torch.Size([8, 18])\n",
      "logits.shape: torch.Size([8, 18])\n",
      "yb_indices.shape: torch.Size([8, 18])\n",
      "logits.shape: torch.Size([8, 18])\n",
      "yb_indices.shape: torch.Size([8, 18])\n"
     ]
    },
    {
     "name": "stderr",
     "output_type": "stream",
     "text": [
      "760it [01:27, 12.01it/s]"
     ]
    },
    {
     "name": "stdout",
     "output_type": "stream",
     "text": [
      "logits.shape: torch.Size([8, 18])\n",
      "yb_indices.shape: torch.Size([8, 18])\n",
      "logits.shape: torch.Size([8, 18])\n",
      "yb_indices.shape: torch.Size([8, 18])\n",
      "logits.shape: torch.Size([8, 18])\n",
      "yb_indices.shape: torch.Size([8, 18])\n"
     ]
    },
    {
     "name": "stderr",
     "output_type": "stream",
     "text": [
      "762it [01:27, 12.12it/s]"
     ]
    },
    {
     "name": "stdout",
     "output_type": "stream",
     "text": [
      "logits.shape: torch.Size([8, 18])\n",
      "yb_indices.shape: torch.Size([8, 18])\n",
      "logits.shape: torch.Size([8, 18])\n",
      "yb_indices.shape: torch.Size([8, 18])\n",
      "logits.shape: torch.Size([8, 18])\n",
      "yb_indices.shape: torch.Size([8, 18])\n"
     ]
    },
    {
     "name": "stderr",
     "output_type": "stream",
     "text": [
      "766it [01:28, 11.46it/s]"
     ]
    },
    {
     "name": "stdout",
     "output_type": "stream",
     "text": [
      "logits.shape: torch.Size([8, 18])\n",
      "yb_indices.shape: torch.Size([8, 18])\n",
      "logits.shape: torch.Size([8, 18])\n",
      "yb_indices.shape: torch.Size([8, 18])\n",
      "logits.shape: torch.Size([8, 18])\n",
      "yb_indices.shape: torch.Size([8, 18])\n"
     ]
    },
    {
     "name": "stderr",
     "output_type": "stream",
     "text": [
      "768it [01:28, 11.73it/s]"
     ]
    },
    {
     "name": "stdout",
     "output_type": "stream",
     "text": [
      "logits.shape: torch.Size([8, 18])\n",
      "yb_indices.shape: torch.Size([8, 18])\n",
      "logits.shape: torch.Size([8, 18])\n",
      "yb_indices.shape: torch.Size([8, 18])\n",
      "logits.shape: torch.Size([8, 18])\n",
      "yb_indices.shape: torch.Size([8, 18])\n"
     ]
    },
    {
     "name": "stderr",
     "output_type": "stream",
     "text": [
      "772it [01:28, 11.24it/s]"
     ]
    },
    {
     "name": "stdout",
     "output_type": "stream",
     "text": [
      "logits.shape: torch.Size([8, 18])\n",
      "yb_indices.shape: torch.Size([8, 18])\n",
      "logits.shape: torch.Size([8, 18])\n",
      "yb_indices.shape: torch.Size([8, 18])\n",
      "logits.shape: torch.Size([8, 18])\n",
      "yb_indices.shape: torch.Size([8, 18])\n"
     ]
    },
    {
     "name": "stderr",
     "output_type": "stream",
     "text": [
      "774it [01:28, 11.19it/s]"
     ]
    },
    {
     "name": "stdout",
     "output_type": "stream",
     "text": [
      "logits.shape: torch.Size([8, 18])\n",
      "yb_indices.shape: torch.Size([8, 18])\n",
      "logits.shape: torch.Size([8, 18])\n",
      "yb_indices.shape: torch.Size([8, 18])\n",
      "logits.shape: torch.Size([8, 18])\n",
      "yb_indices.shape: torch.Size([8, 18])\n"
     ]
    },
    {
     "name": "stderr",
     "output_type": "stream",
     "text": [
      "778it [01:29, 10.68it/s]"
     ]
    },
    {
     "name": "stdout",
     "output_type": "stream",
     "text": [
      "logits.shape: torch.Size([8, 18])\n",
      "yb_indices.shape: torch.Size([8, 18])\n",
      "logits.shape: torch.Size([8, 18])\n",
      "yb_indices.shape: torch.Size([8, 18])\n",
      "logits.shape: torch.Size([8, 18])\n",
      "yb_indices.shape: torch.Size([8, 18])\n"
     ]
    },
    {
     "name": "stderr",
     "output_type": "stream",
     "text": [
      "780it [01:29, 11.08it/s]"
     ]
    },
    {
     "name": "stdout",
     "output_type": "stream",
     "text": [
      "logits.shape: torch.Size([8, 18])\n",
      "yb_indices.shape: torch.Size([8, 18])\n",
      "logits.shape: torch.Size([8, 18])\n",
      "yb_indices.shape: torch.Size([8, 18])\n",
      "logits.shape: torch.Size([8, 18])\n",
      "yb_indices.shape: torch.Size([8, 18])\n"
     ]
    },
    {
     "name": "stderr",
     "output_type": "stream",
     "text": [
      "784it [01:29, 10.06it/s]"
     ]
    },
    {
     "name": "stdout",
     "output_type": "stream",
     "text": [
      "logits.shape: torch.Size([8, 18])\n",
      "yb_indices.shape: torch.Size([8, 18])\n",
      "logits.shape: torch.Size([8, 18])\n",
      "yb_indices.shape: torch.Size([8, 18])\n",
      "logits.shape: torch.Size([8, 18])\n",
      "yb_indices.shape: torch.Size([8, 18])\n"
     ]
    },
    {
     "name": "stderr",
     "output_type": "stream",
     "text": [
      "786it [01:29, 10.62it/s]"
     ]
    },
    {
     "name": "stdout",
     "output_type": "stream",
     "text": [
      "logits.shape: torch.Size([8, 18])\n",
      "yb_indices.shape: torch.Size([8, 18])\n",
      "logits.shape: torch.Size([8, 18])\n",
      "yb_indices.shape: torch.Size([8, 18])\n",
      "logits.shape: torch.Size([8, 18])\n",
      "yb_indices.shape: torch.Size([8, 18])\n"
     ]
    },
    {
     "name": "stderr",
     "output_type": "stream",
     "text": [
      "790it [01:30, 11.38it/s]"
     ]
    },
    {
     "name": "stdout",
     "output_type": "stream",
     "text": [
      "logits.shape: torch.Size([8, 18])\n",
      "yb_indices.shape: torch.Size([8, 18])\n",
      "logits.shape: torch.Size([8, 18])\n",
      "yb_indices.shape: torch.Size([8, 18])\n",
      "logits.shape: torch.Size([8, 18])\n",
      "yb_indices.shape: torch.Size([8, 18])\n"
     ]
    },
    {
     "name": "stderr",
     "output_type": "stream",
     "text": [
      "792it [01:30, 11.20it/s]"
     ]
    },
    {
     "name": "stdout",
     "output_type": "stream",
     "text": [
      "logits.shape: torch.Size([8, 18])\n",
      "yb_indices.shape: torch.Size([8, 18])\n",
      "logits.shape: torch.Size([8, 18])\n",
      "yb_indices.shape: torch.Size([8, 18])\n",
      "logits.shape: torch.Size([8, 18])\n",
      "yb_indices.shape: torch.Size([8, 18])\n"
     ]
    },
    {
     "name": "stderr",
     "output_type": "stream",
     "text": [
      "796it [01:30, 10.60it/s]"
     ]
    },
    {
     "name": "stdout",
     "output_type": "stream",
     "text": [
      "logits.shape: torch.Size([8, 18])\n",
      "yb_indices.shape: torch.Size([8, 18])\n",
      "logits.shape: torch.Size([8, 18])\n",
      "yb_indices.shape: torch.Size([8, 18])\n",
      "logits.shape: torch.Size([8, 18])\n",
      "yb_indices.shape: torch.Size([8, 18])\n"
     ]
    },
    {
     "name": "stderr",
     "output_type": "stream",
     "text": [
      "798it [01:30, 10.72it/s]"
     ]
    },
    {
     "name": "stdout",
     "output_type": "stream",
     "text": [
      "logits.shape: torch.Size([8, 18])\n",
      "yb_indices.shape: torch.Size([8, 18])\n",
      "logits.shape: torch.Size([8, 18])\n",
      "yb_indices.shape: torch.Size([8, 18])\n",
      "logits.shape: torch.Size([8, 18])\n",
      "yb_indices.shape: torch.Size([8, 18])\n"
     ]
    },
    {
     "name": "stderr",
     "output_type": "stream",
     "text": [
      "802it [01:31, 11.37it/s]"
     ]
    },
    {
     "name": "stdout",
     "output_type": "stream",
     "text": [
      "logits.shape: torch.Size([8, 18])\n",
      "yb_indices.shape: torch.Size([8, 18])\n",
      "logits.shape: torch.Size([8, 18])\n",
      "yb_indices.shape: torch.Size([8, 18])\n",
      "logits.shape: torch.Size([8, 18])\n",
      "yb_indices.shape: torch.Size([8, 18])\n"
     ]
    },
    {
     "name": "stderr",
     "output_type": "stream",
     "text": [
      "804it [01:31, 11.68it/s]"
     ]
    },
    {
     "name": "stdout",
     "output_type": "stream",
     "text": [
      "logits.shape: torch.Size([8, 18])\n",
      "yb_indices.shape: torch.Size([8, 18])\n",
      "logits.shape: torch.Size([8, 18])\n",
      "yb_indices.shape: torch.Size([8, 18])\n",
      "logits.shape: torch.Size([8, 18])\n",
      "yb_indices.shape: torch.Size([8, 18])\n"
     ]
    },
    {
     "name": "stderr",
     "output_type": "stream",
     "text": [
      "808it [01:31, 11.77it/s]"
     ]
    },
    {
     "name": "stdout",
     "output_type": "stream",
     "text": [
      "logits.shape: torch.Size([8, 18])\n",
      "yb_indices.shape: torch.Size([8, 18])\n",
      "logits.shape: torch.Size([8, 18])\n",
      "yb_indices.shape: torch.Size([8, 18])\n",
      "logits.shape: torch.Size([8, 18])\n",
      "yb_indices.shape: torch.Size([8, 18])\n"
     ]
    },
    {
     "name": "stderr",
     "output_type": "stream",
     "text": [
      "810it [01:31, 12.05it/s]"
     ]
    },
    {
     "name": "stdout",
     "output_type": "stream",
     "text": [
      "logits.shape: torch.Size([8, 18])\n",
      "yb_indices.shape: torch.Size([8, 18])\n",
      "logits.shape: torch.Size([8, 18])\n",
      "yb_indices.shape: torch.Size([8, 18])\n",
      "logits.shape: torch.Size([8, 18])\n",
      "yb_indices.shape: torch.Size([8, 18])\n"
     ]
    },
    {
     "name": "stderr",
     "output_type": "stream",
     "text": [
      "814it [01:32, 11.77it/s]"
     ]
    },
    {
     "name": "stdout",
     "output_type": "stream",
     "text": [
      "logits.shape: torch.Size([8, 18])\n",
      "yb_indices.shape: torch.Size([8, 18])\n",
      "logits.shape: torch.Size([8, 18])\n",
      "yb_indices.shape: torch.Size([8, 18])\n",
      "logits.shape: torch.Size([8, 18])\n",
      "yb_indices.shape: torch.Size([8, 18])\n"
     ]
    },
    {
     "name": "stderr",
     "output_type": "stream",
     "text": [
      "815it [01:32,  8.82it/s]\n"
     ]
    },
    {
     "name": "stdout",
     "output_type": "stream",
     "text": [
      "Epoch 0 | Train Loss: 2.1240 | Train Acc: 0.4317\n",
      "Epoch 0 | Val Acc: 0.4887\n"
     ]
    },
    {
     "name": "stderr",
     "output_type": "stream",
     "text": [
      "1it [00:00,  9.43it/s]"
     ]
    },
    {
     "name": "stdout",
     "output_type": "stream",
     "text": [
      "Batch 0: x_imu shape torch.Size([8, 103, 355]), x_tof shape torch.Size([8, 18])\n",
      "logits.shape: torch.Size([8, 18])\n",
      "yb_indices.shape: torch.Size([8, 18])\n",
      "logits.shape: torch.Size([8, 18])\n",
      "yb_indices.shape: torch.Size([8, 18])\n"
     ]
    },
    {
     "name": "stderr",
     "output_type": "stream",
     "text": [
      "3it [00:00,  9.61it/s]"
     ]
    },
    {
     "name": "stdout",
     "output_type": "stream",
     "text": [
      "logits.shape: torch.Size([8, 18])\n",
      "yb_indices.shape: torch.Size([8, 18])\n",
      "logits.shape: torch.Size([8, 18])\n",
      "yb_indices.shape: torch.Size([8, 18])\n"
     ]
    },
    {
     "name": "stderr",
     "output_type": "stream",
     "text": [
      "5it [00:00,  9.27it/s]"
     ]
    },
    {
     "name": "stdout",
     "output_type": "stream",
     "text": [
      "logits.shape: torch.Size([8, 18])\n",
      "yb_indices.shape: torch.Size([8, 18])\n",
      "logits.shape: torch.Size([8, 18])\n",
      "yb_indices.shape: torch.Size([8, 18])\n"
     ]
    },
    {
     "name": "stderr",
     "output_type": "stream",
     "text": [
      "8it [00:00,  9.57it/s]"
     ]
    },
    {
     "name": "stdout",
     "output_type": "stream",
     "text": [
      "logits.shape: torch.Size([8, 18])\n",
      "yb_indices.shape: torch.Size([8, 18])\n",
      "logits.shape: torch.Size([8, 18])\n",
      "yb_indices.shape: torch.Size([8, 18])\n",
      "logits.shape: torch.Size([8, 18])\n",
      "yb_indices.shape: torch.Size([8, 18])\n"
     ]
    },
    {
     "name": "stderr",
     "output_type": "stream",
     "text": [
      "11it [00:01,  9.37it/s]"
     ]
    },
    {
     "name": "stdout",
     "output_type": "stream",
     "text": [
      "logits.shape: torch.Size([8, 18])\n",
      "yb_indices.shape: torch.Size([8, 18])\n",
      "logits.shape: torch.Size([8, 18])\n",
      "yb_indices.shape: torch.Size([8, 18])\n"
     ]
    },
    {
     "name": "stderr",
     "output_type": "stream",
     "text": [
      "13it [00:01,  9.41it/s]"
     ]
    },
    {
     "name": "stdout",
     "output_type": "stream",
     "text": [
      "logits.shape: torch.Size([8, 18])\n",
      "yb_indices.shape: torch.Size([8, 18])\n",
      "logits.shape: torch.Size([8, 18])\n",
      "yb_indices.shape: torch.Size([8, 18])\n"
     ]
    },
    {
     "name": "stderr",
     "output_type": "stream",
     "text": [
      "14it [00:01,  8.68it/s]"
     ]
    },
    {
     "name": "stdout",
     "output_type": "stream",
     "text": [
      "logits.shape: torch.Size([8, 18])\n",
      "yb_indices.shape: torch.Size([8, 18])\n",
      "logits.shape: torch.Size([8, 18])\n",
      "yb_indices.shape: torch.Size([8, 18])\n"
     ]
    },
    {
     "name": "stderr",
     "output_type": "stream",
     "text": [
      "17it [00:01,  8.38it/s]"
     ]
    },
    {
     "name": "stdout",
     "output_type": "stream",
     "text": [
      "logits.shape: torch.Size([8, 18])\n",
      "yb_indices.shape: torch.Size([8, 18])\n",
      "logits.shape: torch.Size([8, 18])\n",
      "yb_indices.shape: torch.Size([8, 18])\n"
     ]
    },
    {
     "name": "stderr",
     "output_type": "stream",
     "text": [
      "19it [00:02,  8.80it/s]"
     ]
    },
    {
     "name": "stdout",
     "output_type": "stream",
     "text": [
      "logits.shape: torch.Size([8, 18])\n",
      "yb_indices.shape: torch.Size([8, 18])\n",
      "logits.shape: torch.Size([8, 18])\n",
      "yb_indices.shape: torch.Size([8, 18])\n"
     ]
    },
    {
     "name": "stderr",
     "output_type": "stream",
     "text": [
      "20it [00:02,  8.38it/s]"
     ]
    },
    {
     "name": "stdout",
     "output_type": "stream",
     "text": [
      "logits.shape: torch.Size([8, 18])\n",
      "yb_indices.shape: torch.Size([8, 18])\n",
      "logits.shape: torch.Size([8, 18])\n",
      "yb_indices.shape: torch.Size([8, 18])\n"
     ]
    },
    {
     "name": "stderr",
     "output_type": "stream",
     "text": [
      "23it [00:02,  9.21it/s]"
     ]
    },
    {
     "name": "stdout",
     "output_type": "stream",
     "text": [
      "logits.shape: torch.Size([8, 18])\n",
      "yb_indices.shape: torch.Size([8, 18])\n",
      "logits.shape: torch.Size([8, 18])\n",
      "yb_indices.shape: torch.Size([8, 18])\n",
      "logits.shape: torch.Size([8, 18])\n",
      "yb_indices.shape: torch.Size([8, 18])\n"
     ]
    },
    {
     "name": "stderr",
     "output_type": "stream",
     "text": [
      "26it [00:02,  9.78it/s]"
     ]
    },
    {
     "name": "stdout",
     "output_type": "stream",
     "text": [
      "logits.shape: torch.Size([8, 18])\n",
      "yb_indices.shape: torch.Size([8, 18])\n",
      "logits.shape: torch.Size([8, 18])\n",
      "yb_indices.shape: torch.Size([8, 18])\n",
      "logits.shape: torch.Size([8, 18])\n",
      "yb_indices.shape: torch.Size([8, 18])\n"
     ]
    },
    {
     "name": "stderr",
     "output_type": "stream",
     "text": [
      "27it [00:02,  9.66it/s]"
     ]
    },
    {
     "name": "stdout",
     "output_type": "stream",
     "text": [
      "logits.shape: torch.Size([8, 18])\n",
      "yb_indices.shape: torch.Size([8, 18])\n",
      "logits.shape: torch.Size([8, 18])\n",
      "yb_indices.shape: torch.Size([8, 18])\n"
     ]
    },
    {
     "name": "stderr",
     "output_type": "stream",
     "text": [
      "31it [00:03,  9.64it/s]"
     ]
    },
    {
     "name": "stdout",
     "output_type": "stream",
     "text": [
      "logits.shape: torch.Size([8, 18])\n",
      "yb_indices.shape: torch.Size([8, 18])\n",
      "logits.shape: torch.Size([8, 18])\n",
      "yb_indices.shape: torch.Size([8, 18])\n",
      "logits.shape: torch.Size([8, 18])\n",
      "yb_indices.shape: torch.Size([8, 18])\n"
     ]
    },
    {
     "name": "stderr",
     "output_type": "stream",
     "text": [
      "34it [00:03,  9.23it/s]"
     ]
    },
    {
     "name": "stdout",
     "output_type": "stream",
     "text": [
      "logits.shape: torch.Size([8, 18])\n",
      "yb_indices.shape: torch.Size([8, 18])\n",
      "logits.shape: torch.Size([8, 18])\n",
      "yb_indices.shape: torch.Size([8, 18])\n"
     ]
    },
    {
     "name": "stderr",
     "output_type": "stream",
     "text": [
      "36it [00:03,  9.00it/s]"
     ]
    },
    {
     "name": "stdout",
     "output_type": "stream",
     "text": [
      "logits.shape: torch.Size([8, 18])\n",
      "yb_indices.shape: torch.Size([8, 18])\n",
      "logits.shape: torch.Size([8, 18])\n",
      "yb_indices.shape: torch.Size([8, 18])\n"
     ]
    },
    {
     "name": "stderr",
     "output_type": "stream",
     "text": [
      "38it [00:04,  9.32it/s]"
     ]
    },
    {
     "name": "stdout",
     "output_type": "stream",
     "text": [
      "logits.shape: torch.Size([8, 18])\n",
      "yb_indices.shape: torch.Size([8, 18])\n",
      "logits.shape: torch.Size([8, 18])\n",
      "yb_indices.shape: torch.Size([8, 18])\n",
      "logits.shape: torch.Size([8, 18])\n",
      "yb_indices.shape: torch.Size([8, 18])\n"
     ]
    },
    {
     "name": "stderr",
     "output_type": "stream",
     "text": [
      "41it [00:04,  9.63it/s]"
     ]
    },
    {
     "name": "stdout",
     "output_type": "stream",
     "text": [
      "logits.shape: torch.Size([8, 18])\n",
      "yb_indices.shape: torch.Size([8, 18])\n",
      "logits.shape: torch.Size([8, 18])\n",
      "yb_indices.shape: torch.Size([8, 18])\n",
      "logits.shape: torch.Size([8, 18])\n",
      "yb_indices.shape: torch.Size([8, 18])\n"
     ]
    },
    {
     "name": "stderr",
     "output_type": "stream",
     "text": [
      "44it [00:04,  9.92it/s]"
     ]
    },
    {
     "name": "stdout",
     "output_type": "stream",
     "text": [
      "logits.shape: torch.Size([8, 18])\n",
      "yb_indices.shape: torch.Size([8, 18])\n",
      "logits.shape: torch.Size([8, 18])\n",
      "yb_indices.shape: torch.Size([8, 18])\n",
      "logits.shape: torch.Size([8, 18])\n",
      "yb_indices.shape: torch.Size([8, 18])\n"
     ]
    },
    {
     "name": "stderr",
     "output_type": "stream",
     "text": [
      "46it [00:04,  9.76it/s]"
     ]
    },
    {
     "name": "stdout",
     "output_type": "stream",
     "text": [
      "logits.shape: torch.Size([8, 18])\n",
      "yb_indices.shape: torch.Size([8, 18])\n",
      "logits.shape: torch.Size([8, 18])\n",
      "yb_indices.shape: torch.Size([8, 18])\n",
      "logits.shape: torch.Size([8, 18])\n",
      "yb_indices.shape: torch.Size([8, 18])\n"
     ]
    },
    {
     "name": "stderr",
     "output_type": "stream",
     "text": [
      "50it [00:05, 10.29it/s]"
     ]
    },
    {
     "name": "stdout",
     "output_type": "stream",
     "text": [
      "logits.shape: torch.Size([8, 18])\n",
      "yb_indices.shape: torch.Size([8, 18])\n",
      "logits.shape: torch.Size([8, 18])\n",
      "yb_indices.shape: torch.Size([8, 18])\n",
      "logits.shape: torch.Size([8, 18])\n",
      "yb_indices.shape: torch.Size([8, 18])\n"
     ]
    },
    {
     "name": "stderr",
     "output_type": "stream",
     "text": [
      "52it [00:05,  9.84it/s]"
     ]
    },
    {
     "name": "stdout",
     "output_type": "stream",
     "text": [
      "logits.shape: torch.Size([8, 18])\n",
      "yb_indices.shape: torch.Size([8, 18])\n",
      "logits.shape: torch.Size([8, 18])\n",
      "yb_indices.shape: torch.Size([8, 18])\n",
      "logits.shape: torch.Size([8, 18])\n",
      "yb_indices.shape: torch.Size([8, 18])\n"
     ]
    },
    {
     "name": "stderr",
     "output_type": "stream",
     "text": [
      "55it [00:05,  9.30it/s]"
     ]
    },
    {
     "name": "stdout",
     "output_type": "stream",
     "text": [
      "logits.shape: torch.Size([8, 18])\n",
      "yb_indices.shape: torch.Size([8, 18])\n",
      "logits.shape: torch.Size([8, 18])\n",
      "yb_indices.shape: torch.Size([8, 18])\n"
     ]
    },
    {
     "name": "stderr",
     "output_type": "stream",
     "text": [
      "58it [00:06,  9.64it/s]"
     ]
    },
    {
     "name": "stdout",
     "output_type": "stream",
     "text": [
      "logits.shape: torch.Size([8, 18])\n",
      "yb_indices.shape: torch.Size([8, 18])\n",
      "logits.shape: torch.Size([8, 18])\n",
      "yb_indices.shape: torch.Size([8, 18])\n",
      "logits.shape: torch.Size([8, 18])\n",
      "yb_indices.shape: torch.Size([8, 18])\n"
     ]
    },
    {
     "name": "stderr",
     "output_type": "stream",
     "text": [
      "60it [00:06, 10.01it/s]"
     ]
    },
    {
     "name": "stdout",
     "output_type": "stream",
     "text": [
      "logits.shape: torch.Size([8, 18])\n",
      "yb_indices.shape: torch.Size([8, 18])\n",
      "logits.shape: torch.Size([8, 18])\n",
      "yb_indices.shape: torch.Size([8, 18])\n",
      "logits.shape: torch.Size([8, 18])\n",
      "yb_indices.shape: torch.Size([8, 18])\n"
     ]
    },
    {
     "name": "stderr",
     "output_type": "stream",
     "text": [
      "64it [00:06, 10.17it/s]"
     ]
    },
    {
     "name": "stdout",
     "output_type": "stream",
     "text": [
      "logits.shape: torch.Size([8, 18])\n",
      "yb_indices.shape: torch.Size([8, 18])\n",
      "logits.shape: torch.Size([8, 18])\n",
      "yb_indices.shape: torch.Size([8, 18])\n"
     ]
    },
    {
     "name": "stderr",
     "output_type": "stream",
     "text": [
      "66it [00:06, 10.06it/s]"
     ]
    },
    {
     "name": "stdout",
     "output_type": "stream",
     "text": [
      "logits.shape: torch.Size([8, 18])\n",
      "yb_indices.shape: torch.Size([8, 18])\n",
      "logits.shape: torch.Size([8, 18])\n",
      "yb_indices.shape: torch.Size([8, 18])\n",
      "logits.shape: torch.Size([8, 18])\n",
      "yb_indices.shape: torch.Size([8, 18])\n"
     ]
    },
    {
     "name": "stderr",
     "output_type": "stream",
     "text": [
      "69it [00:07,  9.82it/s]"
     ]
    },
    {
     "name": "stdout",
     "output_type": "stream",
     "text": [
      "logits.shape: torch.Size([8, 18])\n",
      "yb_indices.shape: torch.Size([8, 18])\n",
      "logits.shape: torch.Size([8, 18])\n",
      "yb_indices.shape: torch.Size([8, 18])\n"
     ]
    },
    {
     "name": "stderr",
     "output_type": "stream",
     "text": [
      "70it [00:07,  9.26it/s]"
     ]
    },
    {
     "name": "stdout",
     "output_type": "stream",
     "text": [
      "logits.shape: torch.Size([8, 18])\n",
      "yb_indices.shape: torch.Size([8, 18])\n",
      "logits.shape: torch.Size([8, 18])\n",
      "yb_indices.shape: torch.Size([8, 18])\n"
     ]
    },
    {
     "name": "stderr",
     "output_type": "stream",
     "text": [
      "73it [00:07,  8.54it/s]"
     ]
    },
    {
     "name": "stdout",
     "output_type": "stream",
     "text": [
      "logits.shape: torch.Size([8, 18])\n",
      "yb_indices.shape: torch.Size([8, 18])\n",
      "logits.shape: torch.Size([8, 18])\n",
      "yb_indices.shape: torch.Size([8, 18])\n"
     ]
    },
    {
     "name": "stderr",
     "output_type": "stream",
     "text": [
      "75it [00:08,  8.36it/s]"
     ]
    },
    {
     "name": "stdout",
     "output_type": "stream",
     "text": [
      "logits.shape: torch.Size([8, 18])\n",
      "yb_indices.shape: torch.Size([8, 18])\n",
      "logits.shape: torch.Size([8, 18])\n",
      "yb_indices.shape: torch.Size([8, 18])\n"
     ]
    },
    {
     "name": "stderr",
     "output_type": "stream",
     "text": [
      "77it [00:08,  8.07it/s]"
     ]
    },
    {
     "name": "stdout",
     "output_type": "stream",
     "text": [
      "logits.shape: torch.Size([8, 18])\n",
      "yb_indices.shape: torch.Size([8, 18])\n",
      "logits.shape: torch.Size([8, 18])\n",
      "yb_indices.shape: torch.Size([8, 18])\n"
     ]
    },
    {
     "name": "stderr",
     "output_type": "stream",
     "text": [
      "79it [00:08,  8.16it/s]"
     ]
    },
    {
     "name": "stdout",
     "output_type": "stream",
     "text": [
      "logits.shape: torch.Size([8, 18])\n",
      "yb_indices.shape: torch.Size([8, 18])\n",
      "logits.shape: torch.Size([8, 18])\n",
      "yb_indices.shape: torch.Size([8, 18])\n"
     ]
    },
    {
     "name": "stderr",
     "output_type": "stream",
     "text": [
      "81it [00:08,  8.91it/s]"
     ]
    },
    {
     "name": "stdout",
     "output_type": "stream",
     "text": [
      "logits.shape: torch.Size([8, 18])\n",
      "yb_indices.shape: torch.Size([8, 18])\n",
      "logits.shape: torch.Size([8, 18])\n",
      "yb_indices.shape: torch.Size([8, 18])\n",
      "logits.shape: torch.Size([8, 18])\n",
      "yb_indices.shape: torch.Size([8, 18])\n"
     ]
    },
    {
     "name": "stderr",
     "output_type": "stream",
     "text": [
      "83it [00:08,  8.63it/s]"
     ]
    },
    {
     "name": "stdout",
     "output_type": "stream",
     "text": [
      "logits.shape: torch.Size([8, 18])\n",
      "yb_indices.shape: torch.Size([8, 18])\n",
      "logits.shape: torch.Size([8, 18])\n",
      "yb_indices.shape: torch.Size([8, 18])\n",
      "logits.shape: torch.Size([8, 18])\n",
      "yb_indices.shape: torch.Size([8, 18])\n"
     ]
    },
    {
     "name": "stderr",
     "output_type": "stream",
     "text": [
      "87it [00:09,  9.31it/s]"
     ]
    },
    {
     "name": "stdout",
     "output_type": "stream",
     "text": [
      "logits.shape: torch.Size([8, 18])\n",
      "yb_indices.shape: torch.Size([8, 18])\n",
      "logits.shape: torch.Size([8, 18])\n",
      "yb_indices.shape: torch.Size([8, 18])\n"
     ]
    },
    {
     "name": "stderr",
     "output_type": "stream",
     "text": [
      "89it [00:09,  9.18it/s]"
     ]
    },
    {
     "name": "stdout",
     "output_type": "stream",
     "text": [
      "logits.shape: torch.Size([8, 18])\n",
      "yb_indices.shape: torch.Size([8, 18])\n",
      "logits.shape: torch.Size([8, 18])\n",
      "yb_indices.shape: torch.Size([8, 18])\n"
     ]
    },
    {
     "name": "stderr",
     "output_type": "stream",
     "text": [
      "91it [00:09,  9.56it/s]"
     ]
    },
    {
     "name": "stdout",
     "output_type": "stream",
     "text": [
      "logits.shape: torch.Size([8, 18])\n",
      "yb_indices.shape: torch.Size([8, 18])\n",
      "logits.shape: torch.Size([8, 18])\n",
      "yb_indices.shape: torch.Size([8, 18])\n",
      "logits.shape: torch.Size([8, 18])\n",
      "yb_indices.shape: torch.Size([8, 18])\n"
     ]
    },
    {
     "name": "stderr",
     "output_type": "stream",
     "text": [
      "94it [00:10,  9.88it/s]"
     ]
    },
    {
     "name": "stdout",
     "output_type": "stream",
     "text": [
      "logits.shape: torch.Size([8, 18])\n",
      "yb_indices.shape: torch.Size([8, 18])\n",
      "logits.shape: torch.Size([8, 18])\n",
      "yb_indices.shape: torch.Size([8, 18])\n",
      "logits.shape: torch.Size([8, 18])\n",
      "yb_indices.shape: torch.Size([8, 18])\n"
     ]
    },
    {
     "name": "stderr",
     "output_type": "stream",
     "text": [
      "96it [00:10, 10.36it/s]"
     ]
    },
    {
     "name": "stdout",
     "output_type": "stream",
     "text": [
      "logits.shape: torch.Size([8, 18])\n",
      "yb_indices.shape: torch.Size([8, 18])\n",
      "logits.shape: torch.Size([8, 18])\n",
      "yb_indices.shape: torch.Size([8, 18])\n",
      "logits.shape: torch.Size([8, 18])\n",
      "yb_indices.shape: torch.Size([8, 18])\n"
     ]
    },
    {
     "name": "stderr",
     "output_type": "stream",
     "text": [
      "100it [00:10, 11.41it/s]"
     ]
    },
    {
     "name": "stdout",
     "output_type": "stream",
     "text": [
      "logits.shape: torch.Size([8, 18])\n",
      "yb_indices.shape: torch.Size([8, 18])\n",
      "logits.shape: torch.Size([8, 18])\n",
      "yb_indices.shape: torch.Size([8, 18])\n",
      "logits.shape: torch.Size([8, 18])\n",
      "yb_indices.shape: torch.Size([8, 18])\n"
     ]
    },
    {
     "name": "stderr",
     "output_type": "stream",
     "text": [
      "102it [00:10, 11.35it/s]"
     ]
    },
    {
     "name": "stdout",
     "output_type": "stream",
     "text": [
      "logits.shape: torch.Size([8, 18])\n",
      "yb_indices.shape: torch.Size([8, 18])\n",
      "logits.shape: torch.Size([8, 18])\n",
      "yb_indices.shape: torch.Size([8, 18])\n"
     ]
    },
    {
     "name": "stderr",
     "output_type": "stream",
     "text": [
      "104it [00:11, 10.59it/s]"
     ]
    },
    {
     "name": "stdout",
     "output_type": "stream",
     "text": [
      "logits.shape: torch.Size([8, 18])\n",
      "yb_indices.shape: torch.Size([8, 18])\n",
      "logits.shape: torch.Size([8, 18])\n",
      "yb_indices.shape: torch.Size([8, 18])\n",
      "logits.shape: torch.Size([8, 18])\n",
      "yb_indices.shape: torch.Size([8, 18])\n"
     ]
    },
    {
     "name": "stderr",
     "output_type": "stream",
     "text": [
      "108it [00:11, 11.00it/s]"
     ]
    },
    {
     "name": "stdout",
     "output_type": "stream",
     "text": [
      "logits.shape: torch.Size([8, 18])\n",
      "yb_indices.shape: torch.Size([8, 18])\n",
      "logits.shape: torch.Size([8, 18])\n",
      "yb_indices.shape: torch.Size([8, 18])\n",
      "logits.shape: torch.Size([8, 18])\n",
      "yb_indices.shape: torch.Size([8, 18])\n"
     ]
    },
    {
     "name": "stderr",
     "output_type": "stream",
     "text": [
      "110it [00:11, 10.86it/s]"
     ]
    },
    {
     "name": "stdout",
     "output_type": "stream",
     "text": [
      "logits.shape: torch.Size([8, 18])\n",
      "yb_indices.shape: torch.Size([8, 18])\n",
      "logits.shape: torch.Size([8, 18])\n",
      "yb_indices.shape: torch.Size([8, 18])\n",
      "logits.shape: torch.Size([8, 18])\n",
      "yb_indices.shape: torch.Size([8, 18])\n"
     ]
    },
    {
     "name": "stderr",
     "output_type": "stream",
     "text": [
      "114it [00:11, 11.39it/s]"
     ]
    },
    {
     "name": "stdout",
     "output_type": "stream",
     "text": [
      "logits.shape: torch.Size([8, 18])\n",
      "yb_indices.shape: torch.Size([8, 18])\n",
      "logits.shape: torch.Size([8, 18])\n",
      "yb_indices.shape: torch.Size([8, 18])\n",
      "logits.shape: torch.Size([8, 18])\n",
      "yb_indices.shape: torch.Size([8, 18])\n"
     ]
    },
    {
     "name": "stderr",
     "output_type": "stream",
     "text": [
      "116it [00:12, 11.39it/s]"
     ]
    },
    {
     "name": "stdout",
     "output_type": "stream",
     "text": [
      "logits.shape: torch.Size([8, 18])\n",
      "yb_indices.shape: torch.Size([8, 18])\n",
      "logits.shape: torch.Size([8, 18])\n",
      "yb_indices.shape: torch.Size([8, 18])\n",
      "logits.shape: torch.Size([8, 18])\n",
      "yb_indices.shape: torch.Size([8, 18])\n"
     ]
    },
    {
     "name": "stderr",
     "output_type": "stream",
     "text": [
      "120it [00:12, 11.43it/s]"
     ]
    },
    {
     "name": "stdout",
     "output_type": "stream",
     "text": [
      "logits.shape: torch.Size([8, 18])\n",
      "yb_indices.shape: torch.Size([8, 18])\n",
      "logits.shape: torch.Size([8, 18])\n",
      "yb_indices.shape: torch.Size([8, 18])\n",
      "logits.shape: torch.Size([8, 18])\n",
      "yb_indices.shape: torch.Size([8, 18])\n"
     ]
    },
    {
     "name": "stderr",
     "output_type": "stream",
     "text": [
      "122it [00:12, 11.55it/s]"
     ]
    },
    {
     "name": "stdout",
     "output_type": "stream",
     "text": [
      "logits.shape: torch.Size([8, 18])\n",
      "yb_indices.shape: torch.Size([8, 18])\n",
      "logits.shape: torch.Size([8, 18])\n",
      "yb_indices.shape: torch.Size([8, 18])\n",
      "logits.shape: torch.Size([8, 18])\n",
      "yb_indices.shape: torch.Size([8, 18])\n"
     ]
    },
    {
     "name": "stderr",
     "output_type": "stream",
     "text": [
      "126it [00:12, 11.35it/s]"
     ]
    },
    {
     "name": "stdout",
     "output_type": "stream",
     "text": [
      "logits.shape: torch.Size([8, 18])\n",
      "yb_indices.shape: torch.Size([8, 18])\n",
      "logits.shape: torch.Size([8, 18])\n",
      "yb_indices.shape: torch.Size([8, 18])\n",
      "logits.shape: torch.Size([8, 18])\n",
      "yb_indices.shape: torch.Size([8, 18])\n"
     ]
    },
    {
     "name": "stderr",
     "output_type": "stream",
     "text": [
      "128it [00:13, 11.52it/s]"
     ]
    },
    {
     "name": "stdout",
     "output_type": "stream",
     "text": [
      "logits.shape: torch.Size([8, 18])\n",
      "yb_indices.shape: torch.Size([8, 18])\n",
      "logits.shape: torch.Size([8, 18])\n",
      "yb_indices.shape: torch.Size([8, 18])\n",
      "logits.shape: torch.Size([8, 18])\n",
      "yb_indices.shape: torch.Size([8, 18])\n"
     ]
    },
    {
     "name": "stderr",
     "output_type": "stream",
     "text": [
      "132it [00:13, 10.25it/s]"
     ]
    },
    {
     "name": "stdout",
     "output_type": "stream",
     "text": [
      "logits.shape: torch.Size([8, 18])\n",
      "yb_indices.shape: torch.Size([8, 18])\n",
      "logits.shape: torch.Size([8, 18])\n",
      "yb_indices.shape: torch.Size([8, 18])\n",
      "logits.shape: torch.Size([8, 18])\n",
      "yb_indices.shape: torch.Size([8, 18])\n"
     ]
    },
    {
     "name": "stderr",
     "output_type": "stream",
     "text": [
      "134it [00:13, 10.49it/s]"
     ]
    },
    {
     "name": "stdout",
     "output_type": "stream",
     "text": [
      "logits.shape: torch.Size([8, 18])\n",
      "yb_indices.shape: torch.Size([8, 18])\n",
      "logits.shape: torch.Size([8, 18])\n",
      "yb_indices.shape: torch.Size([8, 18])\n",
      "logits.shape: torch.Size([8, 18])\n",
      "yb_indices.shape: torch.Size([8, 18])\n"
     ]
    },
    {
     "name": "stderr",
     "output_type": "stream",
     "text": [
      "138it [00:14, 11.00it/s]"
     ]
    },
    {
     "name": "stdout",
     "output_type": "stream",
     "text": [
      "logits.shape: torch.Size([8, 18])\n",
      "yb_indices.shape: torch.Size([8, 18])\n",
      "logits.shape: torch.Size([8, 18])\n",
      "yb_indices.shape: torch.Size([8, 18])\n",
      "logits.shape: torch.Size([8, 18])\n",
      "yb_indices.shape: torch.Size([8, 18])\n"
     ]
    },
    {
     "name": "stderr",
     "output_type": "stream",
     "text": [
      "142it [00:14, 11.68it/s]"
     ]
    },
    {
     "name": "stdout",
     "output_type": "stream",
     "text": [
      "logits.shape: torch.Size([8, 18])\n",
      "yb_indices.shape: torch.Size([8, 18])\n",
      "logits.shape: torch.Size([8, 18])\n",
      "yb_indices.shape: torch.Size([8, 18])\n",
      "logits.shape: torch.Size([8, 18])\n",
      "yb_indices.shape: torch.Size([8, 18])\n"
     ]
    },
    {
     "name": "stderr",
     "output_type": "stream",
     "text": [
      "144it [00:14, 11.91it/s]"
     ]
    },
    {
     "name": "stdout",
     "output_type": "stream",
     "text": [
      "logits.shape: torch.Size([8, 18])\n",
      "yb_indices.shape: torch.Size([8, 18])\n",
      "logits.shape: torch.Size([8, 18])\n",
      "yb_indices.shape: torch.Size([8, 18])\n",
      "logits.shape: torch.Size([8, 18])\n",
      "yb_indices.shape: torch.Size([8, 18])\n"
     ]
    },
    {
     "name": "stderr",
     "output_type": "stream",
     "text": [
      "146it [00:14, 11.61it/s]"
     ]
    },
    {
     "name": "stdout",
     "output_type": "stream",
     "text": [
      "logits.shape: torch.Size([8, 18])\n",
      "yb_indices.shape: torch.Size([8, 18])\n",
      "logits.shape: torch.Size([8, 18])\n",
      "yb_indices.shape: torch.Size([8, 18])\n",
      "logits.shape: torch.Size([8, 18])\n",
      "yb_indices.shape: torch.Size([8, 18])\n"
     ]
    },
    {
     "name": "stderr",
     "output_type": "stream",
     "text": [
      "150it [00:15, 11.70it/s]"
     ]
    },
    {
     "name": "stdout",
     "output_type": "stream",
     "text": [
      "logits.shape: torch.Size([8, 18])\n",
      "yb_indices.shape: torch.Size([8, 18])\n",
      "logits.shape: torch.Size([8, 18])\n",
      "yb_indices.shape: torch.Size([8, 18])\n",
      "logits.shape: torch.Size([8, 18])\n",
      "yb_indices.shape: torch.Size([8, 18])\n"
     ]
    },
    {
     "name": "stderr",
     "output_type": "stream",
     "text": [
      "152it [00:15, 11.53it/s]"
     ]
    },
    {
     "name": "stdout",
     "output_type": "stream",
     "text": [
      "logits.shape: torch.Size([8, 18])\n",
      "yb_indices.shape: torch.Size([8, 18])\n",
      "logits.shape: torch.Size([8, 18])\n",
      "yb_indices.shape: torch.Size([8, 18])\n"
     ]
    },
    {
     "name": "stderr",
     "output_type": "stream",
     "text": [
      "154it [00:15,  9.94it/s]"
     ]
    },
    {
     "name": "stdout",
     "output_type": "stream",
     "text": [
      "logits.shape: torch.Size([8, 18])\n",
      "yb_indices.shape: torch.Size([8, 18])\n",
      "logits.shape: torch.Size([8, 18])\n",
      "yb_indices.shape: torch.Size([8, 18])\n"
     ]
    },
    {
     "name": "stderr",
     "output_type": "stream",
     "text": [
      "156it [00:15,  9.33it/s]"
     ]
    },
    {
     "name": "stdout",
     "output_type": "stream",
     "text": [
      "logits.shape: torch.Size([8, 18])\n",
      "yb_indices.shape: torch.Size([8, 18])\n",
      "logits.shape: torch.Size([8, 18])\n",
      "yb_indices.shape: torch.Size([8, 18])\n"
     ]
    },
    {
     "name": "stderr",
     "output_type": "stream",
     "text": [
      "158it [00:16,  8.14it/s]"
     ]
    },
    {
     "name": "stdout",
     "output_type": "stream",
     "text": [
      "logits.shape: torch.Size([8, 18])\n",
      "yb_indices.shape: torch.Size([8, 18])\n",
      "logits.shape: torch.Size([8, 18])\n",
      "yb_indices.shape: torch.Size([8, 18])\n",
      "logits.shape: torch.Size([8, 18])\n",
      "yb_indices.shape: torch.Size([8, 18])\n"
     ]
    },
    {
     "name": "stderr",
     "output_type": "stream",
     "text": [
      "162it [00:16,  9.92it/s]"
     ]
    },
    {
     "name": "stdout",
     "output_type": "stream",
     "text": [
      "logits.shape: torch.Size([8, 18])\n",
      "yb_indices.shape: torch.Size([8, 18])\n",
      "logits.shape: torch.Size([8, 18])\n",
      "yb_indices.shape: torch.Size([8, 18])\n",
      "logits.shape: torch.Size([8, 18])\n",
      "yb_indices.shape: torch.Size([8, 18])\n"
     ]
    },
    {
     "name": "stderr",
     "output_type": "stream",
     "text": [
      "164it [00:16, 10.56it/s]"
     ]
    },
    {
     "name": "stdout",
     "output_type": "stream",
     "text": [
      "logits.shape: torch.Size([8, 18])\n",
      "yb_indices.shape: torch.Size([8, 18])\n",
      "logits.shape: torch.Size([8, 18])\n",
      "yb_indices.shape: torch.Size([8, 18])\n",
      "logits.shape: torch.Size([8, 18])\n",
      "yb_indices.shape: torch.Size([8, 18])\n"
     ]
    },
    {
     "name": "stderr",
     "output_type": "stream",
     "text": [
      "168it [00:16, 11.03it/s]"
     ]
    },
    {
     "name": "stdout",
     "output_type": "stream",
     "text": [
      "logits.shape: torch.Size([8, 18])\n",
      "yb_indices.shape: torch.Size([8, 18])\n",
      "logits.shape: torch.Size([8, 18])\n",
      "yb_indices.shape: torch.Size([8, 18])\n",
      "logits.shape: torch.Size([8, 18])\n",
      "yb_indices.shape: torch.Size([8, 18])\n"
     ]
    },
    {
     "name": "stderr",
     "output_type": "stream",
     "text": [
      "170it [00:17, 11.30it/s]"
     ]
    },
    {
     "name": "stdout",
     "output_type": "stream",
     "text": [
      "logits.shape: torch.Size([8, 18])\n",
      "yb_indices.shape: torch.Size([8, 18])\n",
      "logits.shape: torch.Size([8, 18])\n",
      "yb_indices.shape: torch.Size([8, 18])\n",
      "logits.shape: torch.Size([8, 18])\n",
      "yb_indices.shape: torch.Size([8, 18])\n"
     ]
    },
    {
     "name": "stderr",
     "output_type": "stream",
     "text": [
      "174it [00:17, 11.21it/s]"
     ]
    },
    {
     "name": "stdout",
     "output_type": "stream",
     "text": [
      "logits.shape: torch.Size([8, 18])\n",
      "yb_indices.shape: torch.Size([8, 18])\n",
      "logits.shape: torch.Size([8, 18])\n",
      "yb_indices.shape: torch.Size([8, 18])\n",
      "logits.shape: torch.Size([8, 18])\n",
      "yb_indices.shape: torch.Size([8, 18])\n"
     ]
    },
    {
     "name": "stderr",
     "output_type": "stream",
     "text": [
      "176it [00:17, 11.40it/s]"
     ]
    },
    {
     "name": "stdout",
     "output_type": "stream",
     "text": [
      "logits.shape: torch.Size([8, 18])\n",
      "yb_indices.shape: torch.Size([8, 18])\n",
      "logits.shape: torch.Size([8, 18])\n",
      "yb_indices.shape: torch.Size([8, 18])\n",
      "logits.shape: torch.Size([8, 18])\n",
      "yb_indices.shape: torch.Size([8, 18])\n"
     ]
    },
    {
     "name": "stderr",
     "output_type": "stream",
     "text": [
      "180it [00:17, 10.99it/s]"
     ]
    },
    {
     "name": "stdout",
     "output_type": "stream",
     "text": [
      "logits.shape: torch.Size([8, 18])\n",
      "yb_indices.shape: torch.Size([8, 18])\n",
      "logits.shape: torch.Size([8, 18])\n",
      "yb_indices.shape: torch.Size([8, 18])\n"
     ]
    },
    {
     "name": "stderr",
     "output_type": "stream",
     "text": [
      "182it [00:18, 10.42it/s]"
     ]
    },
    {
     "name": "stdout",
     "output_type": "stream",
     "text": [
      "logits.shape: torch.Size([8, 18])\n",
      "yb_indices.shape: torch.Size([8, 18])\n",
      "logits.shape: torch.Size([8, 18])\n",
      "yb_indices.shape: torch.Size([8, 18])\n",
      "logits.shape: torch.Size([8, 18])\n",
      "yb_indices.shape: torch.Size([8, 18])\n"
     ]
    },
    {
     "name": "stderr",
     "output_type": "stream",
     "text": [
      "184it [00:18,  9.82it/s]"
     ]
    },
    {
     "name": "stdout",
     "output_type": "stream",
     "text": [
      "logits.shape: torch.Size([8, 18])\n",
      "yb_indices.shape: torch.Size([8, 18])\n",
      "logits.shape: torch.Size([8, 18])\n",
      "yb_indices.shape: torch.Size([8, 18])\n",
      "logits.shape: torch.Size([8, 18])\n",
      "yb_indices.shape: torch.Size([8, 18])\n"
     ]
    },
    {
     "name": "stderr",
     "output_type": "stream",
     "text": [
      "188it [00:18, 10.28it/s]"
     ]
    },
    {
     "name": "stdout",
     "output_type": "stream",
     "text": [
      "logits.shape: torch.Size([8, 18])\n",
      "yb_indices.shape: torch.Size([8, 18])\n",
      "logits.shape: torch.Size([8, 18])\n",
      "yb_indices.shape: torch.Size([8, 18])\n",
      "logits.shape: torch.Size([8, 18])\n",
      "yb_indices.shape: torch.Size([8, 18])\n"
     ]
    },
    {
     "name": "stderr",
     "output_type": "stream",
     "text": [
      "190it [00:18, 10.71it/s]"
     ]
    },
    {
     "name": "stdout",
     "output_type": "stream",
     "text": [
      "logits.shape: torch.Size([8, 18])\n",
      "yb_indices.shape: torch.Size([8, 18])\n",
      "logits.shape: torch.Size([8, 18])\n",
      "yb_indices.shape: torch.Size([8, 18])\n",
      "logits.shape: torch.Size([8, 18])\n",
      "yb_indices.shape: torch.Size([8, 18])\n"
     ]
    },
    {
     "name": "stderr",
     "output_type": "stream",
     "text": [
      "194it [00:19, 10.25it/s]"
     ]
    },
    {
     "name": "stdout",
     "output_type": "stream",
     "text": [
      "logits.shape: torch.Size([8, 18])\n",
      "yb_indices.shape: torch.Size([8, 18])\n",
      "logits.shape: torch.Size([8, 18])\n",
      "yb_indices.shape: torch.Size([8, 18])\n"
     ]
    },
    {
     "name": "stderr",
     "output_type": "stream",
     "text": [
      "196it [00:19, 10.17it/s]"
     ]
    },
    {
     "name": "stdout",
     "output_type": "stream",
     "text": [
      "logits.shape: torch.Size([8, 18])\n",
      "yb_indices.shape: torch.Size([8, 18])\n",
      "logits.shape: torch.Size([8, 18])\n",
      "yb_indices.shape: torch.Size([8, 18])\n",
      "logits.shape: torch.Size([8, 18])\n",
      "yb_indices.shape: torch.Size([8, 18])\n"
     ]
    },
    {
     "name": "stderr",
     "output_type": "stream",
     "text": [
      "198it [00:19, 10.01it/s]"
     ]
    },
    {
     "name": "stdout",
     "output_type": "stream",
     "text": [
      "logits.shape: torch.Size([8, 18])\n",
      "yb_indices.shape: torch.Size([8, 18])\n",
      "logits.shape: torch.Size([8, 18])\n",
      "yb_indices.shape: torch.Size([8, 18])\n",
      "logits.shape: torch.Size([8, 18])\n",
      "yb_indices.shape: torch.Size([8, 18])\n"
     ]
    },
    {
     "name": "stderr",
     "output_type": "stream",
     "text": [
      "201it [00:20,  9.71it/s]"
     ]
    },
    {
     "name": "stdout",
     "output_type": "stream",
     "text": [
      "logits.shape: torch.Size([8, 18])\n",
      "yb_indices.shape: torch.Size([8, 18])\n",
      "logits.shape: torch.Size([8, 18])\n",
      "yb_indices.shape: torch.Size([8, 18])\n",
      "logits.shape: torch.Size([8, 18])\n",
      "yb_indices.shape: torch.Size([8, 18])\n"
     ]
    },
    {
     "name": "stderr",
     "output_type": "stream",
     "text": [
      "205it [00:20, 10.77it/s]"
     ]
    },
    {
     "name": "stdout",
     "output_type": "stream",
     "text": [
      "logits.shape: torch.Size([8, 18])\n",
      "yb_indices.shape: torch.Size([8, 18])\n",
      "logits.shape: torch.Size([8, 18])\n",
      "yb_indices.shape: torch.Size([8, 18])\n",
      "logits.shape: torch.Size([8, 18])\n",
      "yb_indices.shape: torch.Size([8, 18])\n"
     ]
    },
    {
     "name": "stderr",
     "output_type": "stream",
     "text": [
      "207it [00:20,  9.94it/s]"
     ]
    },
    {
     "name": "stdout",
     "output_type": "stream",
     "text": [
      "logits.shape: torch.Size([8, 18])\n",
      "yb_indices.shape: torch.Size([8, 18])\n",
      "logits.shape: torch.Size([8, 18])\n",
      "yb_indices.shape: torch.Size([8, 18])\n"
     ]
    },
    {
     "name": "stderr",
     "output_type": "stream",
     "text": [
      "209it [00:20,  9.91it/s]"
     ]
    },
    {
     "name": "stdout",
     "output_type": "stream",
     "text": [
      "logits.shape: torch.Size([8, 18])\n",
      "yb_indices.shape: torch.Size([8, 18])\n",
      "logits.shape: torch.Size([8, 18])\n",
      "yb_indices.shape: torch.Size([8, 18])\n"
     ]
    },
    {
     "name": "stderr",
     "output_type": "stream",
     "text": [
      "212it [00:21,  9.16it/s]"
     ]
    },
    {
     "name": "stdout",
     "output_type": "stream",
     "text": [
      "logits.shape: torch.Size([8, 18])\n",
      "yb_indices.shape: torch.Size([8, 18])\n",
      "logits.shape: torch.Size([8, 18])\n",
      "yb_indices.shape: torch.Size([8, 18])\n",
      "logits.shape: torch.Size([8, 18])\n",
      "yb_indices.shape: torch.Size([8, 18])\n"
     ]
    },
    {
     "name": "stderr",
     "output_type": "stream",
     "text": [
      "215it [00:21, 10.02it/s]"
     ]
    },
    {
     "name": "stdout",
     "output_type": "stream",
     "text": [
      "logits.shape: torch.Size([8, 18])\n",
      "yb_indices.shape: torch.Size([8, 18])\n",
      "logits.shape: torch.Size([8, 18])\n",
      "yb_indices.shape: torch.Size([8, 18])\n",
      "logits.shape: torch.Size([8, 18])\n",
      "yb_indices.shape: torch.Size([8, 18])\n"
     ]
    },
    {
     "name": "stderr",
     "output_type": "stream",
     "text": [
      "217it [00:21, 10.35it/s]"
     ]
    },
    {
     "name": "stdout",
     "output_type": "stream",
     "text": [
      "logits.shape: torch.Size([8, 18])\n",
      "yb_indices.shape: torch.Size([8, 18])\n",
      "logits.shape: torch.Size([8, 18])\n",
      "yb_indices.shape: torch.Size([8, 18])\n",
      "logits.shape: torch.Size([8, 18])\n",
      "yb_indices.shape: torch.Size([8, 18])\n"
     ]
    },
    {
     "name": "stderr",
     "output_type": "stream",
     "text": [
      "221it [00:22, 10.70it/s]"
     ]
    },
    {
     "name": "stdout",
     "output_type": "stream",
     "text": [
      "logits.shape: torch.Size([8, 18])\n",
      "yb_indices.shape: torch.Size([8, 18])\n",
      "logits.shape: torch.Size([8, 18])\n",
      "yb_indices.shape: torch.Size([8, 18])\n",
      "logits.shape: torch.Size([8, 18])\n",
      "yb_indices.shape: torch.Size([8, 18])\n"
     ]
    },
    {
     "name": "stderr",
     "output_type": "stream",
     "text": [
      "223it [00:22, 10.44it/s]"
     ]
    },
    {
     "name": "stdout",
     "output_type": "stream",
     "text": [
      "logits.shape: torch.Size([8, 18])\n",
      "yb_indices.shape: torch.Size([8, 18])\n",
      "logits.shape: torch.Size([8, 18])\n",
      "yb_indices.shape: torch.Size([8, 18])\n",
      "logits.shape: torch.Size([8, 18])\n",
      "yb_indices.shape: torch.Size([8, 18])\n"
     ]
    },
    {
     "name": "stderr",
     "output_type": "stream",
     "text": [
      "227it [00:22, 10.73it/s]"
     ]
    },
    {
     "name": "stdout",
     "output_type": "stream",
     "text": [
      "logits.shape: torch.Size([8, 18])\n",
      "yb_indices.shape: torch.Size([8, 18])\n",
      "logits.shape: torch.Size([8, 18])\n",
      "yb_indices.shape: torch.Size([8, 18])\n",
      "logits.shape: torch.Size([8, 18])\n",
      "yb_indices.shape: torch.Size([8, 18])\n"
     ]
    },
    {
     "name": "stderr",
     "output_type": "stream",
     "text": [
      "229it [00:22, 11.00it/s]"
     ]
    },
    {
     "name": "stdout",
     "output_type": "stream",
     "text": [
      "logits.shape: torch.Size([8, 18])\n",
      "yb_indices.shape: torch.Size([8, 18])\n",
      "logits.shape: torch.Size([8, 18])\n",
      "yb_indices.shape: torch.Size([8, 18])\n",
      "logits.shape: torch.Size([8, 18])\n",
      "yb_indices.shape: torch.Size([8, 18])\n"
     ]
    },
    {
     "name": "stderr",
     "output_type": "stream",
     "text": [
      "233it [00:23, 11.39it/s]"
     ]
    },
    {
     "name": "stdout",
     "output_type": "stream",
     "text": [
      "logits.shape: torch.Size([8, 18])\n",
      "yb_indices.shape: torch.Size([8, 18])\n",
      "logits.shape: torch.Size([8, 18])\n",
      "yb_indices.shape: torch.Size([8, 18])\n",
      "logits.shape: torch.Size([8, 18])\n",
      "yb_indices.shape: torch.Size([8, 18])\n"
     ]
    },
    {
     "name": "stderr",
     "output_type": "stream",
     "text": [
      "235it [00:23, 11.12it/s]"
     ]
    },
    {
     "name": "stdout",
     "output_type": "stream",
     "text": [
      "logits.shape: torch.Size([8, 18])\n",
      "yb_indices.shape: torch.Size([8, 18])\n",
      "logits.shape: torch.Size([8, 18])\n",
      "yb_indices.shape: torch.Size([8, 18])\n",
      "logits.shape: torch.Size([8, 18])\n",
      "yb_indices.shape: torch.Size([8, 18])\n"
     ]
    },
    {
     "name": "stderr",
     "output_type": "stream",
     "text": [
      "239it [00:23, 11.44it/s]"
     ]
    },
    {
     "name": "stdout",
     "output_type": "stream",
     "text": [
      "logits.shape: torch.Size([8, 18])\n",
      "yb_indices.shape: torch.Size([8, 18])\n",
      "logits.shape: torch.Size([8, 18])\n",
      "yb_indices.shape: torch.Size([8, 18])\n",
      "logits.shape: torch.Size([8, 18])\n",
      "yb_indices.shape: torch.Size([8, 18])\n"
     ]
    },
    {
     "name": "stderr",
     "output_type": "stream",
     "text": [
      "241it [00:23, 10.42it/s]"
     ]
    },
    {
     "name": "stdout",
     "output_type": "stream",
     "text": [
      "logits.shape: torch.Size([8, 18])\n",
      "yb_indices.shape: torch.Size([8, 18])\n",
      "logits.shape: torch.Size([8, 18])\n",
      "yb_indices.shape: torch.Size([8, 18])\n",
      "logits.shape: torch.Size([8, 18])\n",
      "yb_indices.shape: torch.Size([8, 18])\n"
     ]
    },
    {
     "name": "stderr",
     "output_type": "stream",
     "text": [
      "245it [00:24, 10.95it/s]"
     ]
    },
    {
     "name": "stdout",
     "output_type": "stream",
     "text": [
      "logits.shape: torch.Size([8, 18])\n",
      "yb_indices.shape: torch.Size([8, 18])\n",
      "logits.shape: torch.Size([8, 18])\n",
      "yb_indices.shape: torch.Size([8, 18])\n",
      "logits.shape: torch.Size([8, 18])\n",
      "yb_indices.shape: torch.Size([8, 18])\n"
     ]
    },
    {
     "name": "stderr",
     "output_type": "stream",
     "text": [
      "247it [00:24, 10.82it/s]"
     ]
    },
    {
     "name": "stdout",
     "output_type": "stream",
     "text": [
      "logits.shape: torch.Size([8, 18])\n",
      "yb_indices.shape: torch.Size([8, 18])\n",
      "logits.shape: torch.Size([8, 18])\n",
      "yb_indices.shape: torch.Size([8, 18])\n",
      "logits.shape: torch.Size([8, 18])\n",
      "yb_indices.shape: torch.Size([8, 18])\n"
     ]
    },
    {
     "name": "stderr",
     "output_type": "stream",
     "text": [
      "251it [00:24, 11.00it/s]"
     ]
    },
    {
     "name": "stdout",
     "output_type": "stream",
     "text": [
      "logits.shape: torch.Size([8, 18])\n",
      "yb_indices.shape: torch.Size([8, 18])\n",
      "logits.shape: torch.Size([8, 18])\n",
      "yb_indices.shape: torch.Size([8, 18])\n",
      "logits.shape: torch.Size([8, 18])\n",
      "yb_indices.shape: torch.Size([8, 18])\n"
     ]
    },
    {
     "name": "stderr",
     "output_type": "stream",
     "text": [
      "253it [00:24, 11.31it/s]"
     ]
    },
    {
     "name": "stdout",
     "output_type": "stream",
     "text": [
      "logits.shape: torch.Size([8, 18])\n",
      "yb_indices.shape: torch.Size([8, 18])\n",
      "logits.shape: torch.Size([8, 18])\n",
      "yb_indices.shape: torch.Size([8, 18])\n",
      "logits.shape: torch.Size([8, 18])\n",
      "yb_indices.shape: torch.Size([8, 18])\n"
     ]
    },
    {
     "name": "stderr",
     "output_type": "stream",
     "text": [
      "257it [00:25, 11.16it/s]"
     ]
    },
    {
     "name": "stdout",
     "output_type": "stream",
     "text": [
      "logits.shape: torch.Size([8, 18])\n",
      "yb_indices.shape: torch.Size([8, 18])\n",
      "logits.shape: torch.Size([8, 18])\n",
      "yb_indices.shape: torch.Size([8, 18])\n",
      "logits.shape: torch.Size([8, 18])\n",
      "yb_indices.shape: torch.Size([8, 18])\n"
     ]
    },
    {
     "name": "stderr",
     "output_type": "stream",
     "text": [
      "259it [00:25, 11.47it/s]"
     ]
    },
    {
     "name": "stdout",
     "output_type": "stream",
     "text": [
      "logits.shape: torch.Size([8, 18])\n",
      "yb_indices.shape: torch.Size([8, 18])\n",
      "logits.shape: torch.Size([8, 18])\n",
      "yb_indices.shape: torch.Size([8, 18])\n",
      "logits.shape: torch.Size([8, 18])\n",
      "yb_indices.shape: torch.Size([8, 18])\n"
     ]
    },
    {
     "name": "stderr",
     "output_type": "stream",
     "text": [
      "263it [00:25, 11.58it/s]"
     ]
    },
    {
     "name": "stdout",
     "output_type": "stream",
     "text": [
      "logits.shape: torch.Size([8, 18])\n",
      "yb_indices.shape: torch.Size([8, 18])\n",
      "logits.shape: torch.Size([8, 18])\n",
      "yb_indices.shape: torch.Size([8, 18])\n",
      "logits.shape: torch.Size([8, 18])\n",
      "yb_indices.shape: torch.Size([8, 18])\n"
     ]
    },
    {
     "name": "stderr",
     "output_type": "stream",
     "text": [
      "265it [00:25, 11.63it/s]"
     ]
    },
    {
     "name": "stdout",
     "output_type": "stream",
     "text": [
      "logits.shape: torch.Size([8, 18])\n",
      "yb_indices.shape: torch.Size([8, 18])\n",
      "logits.shape: torch.Size([8, 18])\n",
      "yb_indices.shape: torch.Size([8, 18])\n",
      "logits.shape: torch.Size([8, 18])\n",
      "yb_indices.shape: torch.Size([8, 18])\n"
     ]
    },
    {
     "name": "stderr",
     "output_type": "stream",
     "text": [
      "267it [00:26, 11.10it/s]"
     ]
    },
    {
     "name": "stdout",
     "output_type": "stream",
     "text": [
      "logits.shape: torch.Size([8, 18])\n",
      "yb_indices.shape: torch.Size([8, 18])\n",
      "logits.shape: torch.Size([8, 18])\n",
      "yb_indices.shape: torch.Size([8, 18])\n"
     ]
    },
    {
     "name": "stderr",
     "output_type": "stream",
     "text": [
      "271it [00:26, 10.24it/s]"
     ]
    },
    {
     "name": "stdout",
     "output_type": "stream",
     "text": [
      "logits.shape: torch.Size([8, 18])\n",
      "yb_indices.shape: torch.Size([8, 18])\n",
      "logits.shape: torch.Size([8, 18])\n",
      "yb_indices.shape: torch.Size([8, 18])\n",
      "logits.shape: torch.Size([8, 18])\n",
      "yb_indices.shape: torch.Size([8, 18])\n"
     ]
    },
    {
     "name": "stderr",
     "output_type": "stream",
     "text": [
      "273it [00:26, 10.46it/s]"
     ]
    },
    {
     "name": "stdout",
     "output_type": "stream",
     "text": [
      "logits.shape: torch.Size([8, 18])\n",
      "yb_indices.shape: torch.Size([8, 18])\n",
      "logits.shape: torch.Size([8, 18])\n",
      "yb_indices.shape: torch.Size([8, 18])\n",
      "logits.shape: torch.Size([8, 18])\n",
      "yb_indices.shape: torch.Size([8, 18])\n"
     ]
    },
    {
     "name": "stderr",
     "output_type": "stream",
     "text": [
      "277it [00:27, 10.59it/s]"
     ]
    },
    {
     "name": "stdout",
     "output_type": "stream",
     "text": [
      "logits.shape: torch.Size([8, 18])\n",
      "yb_indices.shape: torch.Size([8, 18])\n",
      "logits.shape: torch.Size([8, 18])\n",
      "yb_indices.shape: torch.Size([8, 18])\n"
     ]
    },
    {
     "name": "stderr",
     "output_type": "stream",
     "text": [
      "279it [00:27, 10.03it/s]"
     ]
    },
    {
     "name": "stdout",
     "output_type": "stream",
     "text": [
      "logits.shape: torch.Size([8, 18])\n",
      "yb_indices.shape: torch.Size([8, 18])\n",
      "logits.shape: torch.Size([8, 18])\n",
      "yb_indices.shape: torch.Size([8, 18])\n"
     ]
    },
    {
     "name": "stderr",
     "output_type": "stream",
     "text": [
      "281it [00:27, 10.42it/s]"
     ]
    },
    {
     "name": "stdout",
     "output_type": "stream",
     "text": [
      "logits.shape: torch.Size([8, 18])\n",
      "yb_indices.shape: torch.Size([8, 18])\n",
      "logits.shape: torch.Size([8, 18])\n",
      "yb_indices.shape: torch.Size([8, 18])\n",
      "logits.shape: torch.Size([8, 18])\n",
      "yb_indices.shape: torch.Size([8, 18])\n"
     ]
    },
    {
     "name": "stderr",
     "output_type": "stream",
     "text": [
      "283it [00:27, 10.69it/s]"
     ]
    },
    {
     "name": "stdout",
     "output_type": "stream",
     "text": [
      "logits.shape: torch.Size([8, 18])\n",
      "yb_indices.shape: torch.Size([8, 18])\n",
      "logits.shape: torch.Size([8, 18])\n",
      "yb_indices.shape: torch.Size([8, 18])\n"
     ]
    },
    {
     "name": "stderr",
     "output_type": "stream",
     "text": [
      "287it [00:28, 10.73it/s]"
     ]
    },
    {
     "name": "stdout",
     "output_type": "stream",
     "text": [
      "logits.shape: torch.Size([8, 18])\n",
      "yb_indices.shape: torch.Size([8, 18])\n",
      "logits.shape: torch.Size([8, 18])\n",
      "yb_indices.shape: torch.Size([8, 18])\n",
      "logits.shape: torch.Size([8, 18])\n",
      "yb_indices.shape: torch.Size([8, 18])\n"
     ]
    },
    {
     "name": "stderr",
     "output_type": "stream",
     "text": [
      "289it [00:28, 10.37it/s]"
     ]
    },
    {
     "name": "stdout",
     "output_type": "stream",
     "text": [
      "logits.shape: torch.Size([8, 18])\n",
      "yb_indices.shape: torch.Size([8, 18])\n",
      "logits.shape: torch.Size([8, 18])\n",
      "yb_indices.shape: torch.Size([8, 18])\n"
     ]
    },
    {
     "name": "stderr",
     "output_type": "stream",
     "text": [
      "291it [00:28,  9.37it/s]"
     ]
    },
    {
     "name": "stdout",
     "output_type": "stream",
     "text": [
      "logits.shape: torch.Size([8, 18])\n",
      "yb_indices.shape: torch.Size([8, 18])\n",
      "logits.shape: torch.Size([8, 18])\n",
      "yb_indices.shape: torch.Size([8, 18])\n"
     ]
    },
    {
     "name": "stderr",
     "output_type": "stream",
     "text": [
      "292it [00:28,  8.94it/s]"
     ]
    },
    {
     "name": "stdout",
     "output_type": "stream",
     "text": [
      "logits.shape: torch.Size([8, 18])\n",
      "yb_indices.shape: torch.Size([8, 18])\n",
      "logits.shape: torch.Size([8, 18])\n",
      "yb_indices.shape: torch.Size([8, 18])\n"
     ]
    },
    {
     "name": "stderr",
     "output_type": "stream",
     "text": [
      "295it [00:29,  9.74it/s]"
     ]
    },
    {
     "name": "stdout",
     "output_type": "stream",
     "text": [
      "logits.shape: torch.Size([8, 18])\n",
      "yb_indices.shape: torch.Size([8, 18])\n",
      "logits.shape: torch.Size([8, 18])\n",
      "yb_indices.shape: torch.Size([8, 18])\n",
      "logits.shape: torch.Size([8, 18])\n",
      "yb_indices.shape: torch.Size([8, 18])\n"
     ]
    },
    {
     "name": "stderr",
     "output_type": "stream",
     "text": [
      "297it [00:29,  9.97it/s]"
     ]
    },
    {
     "name": "stdout",
     "output_type": "stream",
     "text": [
      "logits.shape: torch.Size([8, 18])\n",
      "yb_indices.shape: torch.Size([8, 18])\n",
      "logits.shape: torch.Size([8, 18])\n",
      "yb_indices.shape: torch.Size([8, 18])\n",
      "logits.shape: torch.Size([8, 18])\n",
      "yb_indices.shape: torch.Size([8, 18])\n"
     ]
    },
    {
     "name": "stderr",
     "output_type": "stream",
     "text": [
      "301it [00:29, 11.18it/s]"
     ]
    },
    {
     "name": "stdout",
     "output_type": "stream",
     "text": [
      "logits.shape: torch.Size([8, 18])\n",
      "yb_indices.shape: torch.Size([8, 18])\n",
      "logits.shape: torch.Size([8, 18])\n",
      "yb_indices.shape: torch.Size([8, 18])\n",
      "logits.shape: torch.Size([8, 18])\n",
      "yb_indices.shape: torch.Size([8, 18])\n"
     ]
    },
    {
     "name": "stderr",
     "output_type": "stream",
     "text": [
      "303it [00:29, 11.57it/s]"
     ]
    },
    {
     "name": "stdout",
     "output_type": "stream",
     "text": [
      "logits.shape: torch.Size([8, 18])\n",
      "yb_indices.shape: torch.Size([8, 18])\n",
      "logits.shape: torch.Size([8, 18])\n",
      "yb_indices.shape: torch.Size([8, 18])\n",
      "logits.shape: torch.Size([8, 18])\n",
      "yb_indices.shape: torch.Size([8, 18])\n"
     ]
    },
    {
     "name": "stderr",
     "output_type": "stream",
     "text": [
      "307it [00:30, 11.79it/s]"
     ]
    },
    {
     "name": "stdout",
     "output_type": "stream",
     "text": [
      "logits.shape: torch.Size([8, 18])\n",
      "yb_indices.shape: torch.Size([8, 18])\n",
      "logits.shape: torch.Size([8, 18])\n",
      "yb_indices.shape: torch.Size([8, 18])\n",
      "logits.shape: torch.Size([8, 18])\n",
      "yb_indices.shape: torch.Size([8, 18])\n"
     ]
    },
    {
     "name": "stderr",
     "output_type": "stream",
     "text": [
      "309it [00:30, 12.06it/s]"
     ]
    },
    {
     "name": "stdout",
     "output_type": "stream",
     "text": [
      "logits.shape: torch.Size([8, 18])\n",
      "yb_indices.shape: torch.Size([8, 18])\n",
      "logits.shape: torch.Size([8, 18])\n",
      "yb_indices.shape: torch.Size([8, 18])\n",
      "logits.shape: torch.Size([8, 18])\n",
      "yb_indices.shape: torch.Size([8, 18])\n"
     ]
    },
    {
     "name": "stderr",
     "output_type": "stream",
     "text": [
      "313it [00:30, 11.73it/s]"
     ]
    },
    {
     "name": "stdout",
     "output_type": "stream",
     "text": [
      "logits.shape: torch.Size([8, 18])\n",
      "yb_indices.shape: torch.Size([8, 18])\n",
      "logits.shape: torch.Size([8, 18])\n",
      "yb_indices.shape: torch.Size([8, 18])\n",
      "logits.shape: torch.Size([8, 18])\n",
      "yb_indices.shape: torch.Size([8, 18])\n"
     ]
    },
    {
     "name": "stderr",
     "output_type": "stream",
     "text": [
      "315it [00:30, 11.90it/s]"
     ]
    },
    {
     "name": "stdout",
     "output_type": "stream",
     "text": [
      "logits.shape: torch.Size([8, 18])\n",
      "yb_indices.shape: torch.Size([8, 18])\n",
      "logits.shape: torch.Size([8, 18])\n",
      "yb_indices.shape: torch.Size([8, 18])\n",
      "logits.shape: torch.Size([8, 18])\n",
      "yb_indices.shape: torch.Size([8, 18])\n"
     ]
    },
    {
     "name": "stderr",
     "output_type": "stream",
     "text": [
      "319it [00:31, 10.82it/s]"
     ]
    },
    {
     "name": "stdout",
     "output_type": "stream",
     "text": [
      "logits.shape: torch.Size([8, 18])\n",
      "yb_indices.shape: torch.Size([8, 18])\n",
      "logits.shape: torch.Size([8, 18])\n",
      "yb_indices.shape: torch.Size([8, 18])\n"
     ]
    },
    {
     "name": "stderr",
     "output_type": "stream",
     "text": [
      "321it [00:31, 10.56it/s]"
     ]
    },
    {
     "name": "stdout",
     "output_type": "stream",
     "text": [
      "logits.shape: torch.Size([8, 18])\n",
      "yb_indices.shape: torch.Size([8, 18])\n",
      "logits.shape: torch.Size([8, 18])\n",
      "yb_indices.shape: torch.Size([8, 18])\n",
      "logits.shape: torch.Size([8, 18])\n",
      "yb_indices.shape: torch.Size([8, 18])\n"
     ]
    },
    {
     "name": "stderr",
     "output_type": "stream",
     "text": [
      "323it [00:31, 10.42it/s]"
     ]
    },
    {
     "name": "stdout",
     "output_type": "stream",
     "text": [
      "logits.shape: torch.Size([8, 18])\n",
      "yb_indices.shape: torch.Size([8, 18])\n",
      "logits.shape: torch.Size([8, 18])\n",
      "yb_indices.shape: torch.Size([8, 18])\n",
      "logits.shape: torch.Size([8, 18])\n",
      "yb_indices.shape: torch.Size([8, 18])\n"
     ]
    },
    {
     "name": "stderr",
     "output_type": "stream",
     "text": [
      "327it [00:31, 10.37it/s]"
     ]
    },
    {
     "name": "stdout",
     "output_type": "stream",
     "text": [
      "logits.shape: torch.Size([8, 18])\n",
      "yb_indices.shape: torch.Size([8, 18])\n",
      "logits.shape: torch.Size([8, 18])\n",
      "yb_indices.shape: torch.Size([8, 18])\n",
      "logits.shape: torch.Size([8, 18])\n",
      "yb_indices.shape: torch.Size([8, 18])\n"
     ]
    },
    {
     "name": "stderr",
     "output_type": "stream",
     "text": [
      "329it [00:32, 10.32it/s]"
     ]
    },
    {
     "name": "stdout",
     "output_type": "stream",
     "text": [
      "logits.shape: torch.Size([8, 18])\n",
      "yb_indices.shape: torch.Size([8, 18])\n",
      "logits.shape: torch.Size([8, 18])\n",
      "yb_indices.shape: torch.Size([8, 18])\n"
     ]
    },
    {
     "name": "stderr",
     "output_type": "stream",
     "text": [
      "331it [00:32, 10.04it/s]"
     ]
    },
    {
     "name": "stdout",
     "output_type": "stream",
     "text": [
      "logits.shape: torch.Size([8, 18])\n",
      "yb_indices.shape: torch.Size([8, 18])\n",
      "logits.shape: torch.Size([8, 18])\n",
      "yb_indices.shape: torch.Size([8, 18])\n"
     ]
    },
    {
     "name": "stderr",
     "output_type": "stream",
     "text": [
      "333it [00:32,  9.71it/s]"
     ]
    },
    {
     "name": "stdout",
     "output_type": "stream",
     "text": [
      "logits.shape: torch.Size([8, 18])\n",
      "yb_indices.shape: torch.Size([8, 18])\n",
      "logits.shape: torch.Size([8, 18])\n",
      "yb_indices.shape: torch.Size([8, 18])\n",
      "logits.shape: torch.Size([8, 18])\n",
      "yb_indices.shape: torch.Size([8, 18])\n"
     ]
    },
    {
     "name": "stderr",
     "output_type": "stream",
     "text": [
      "337it [00:32,  9.81it/s]"
     ]
    },
    {
     "name": "stdout",
     "output_type": "stream",
     "text": [
      "logits.shape: torch.Size([8, 18])\n",
      "yb_indices.shape: torch.Size([8, 18])\n",
      "logits.shape: torch.Size([8, 18])\n",
      "yb_indices.shape: torch.Size([8, 18])\n"
     ]
    },
    {
     "name": "stderr",
     "output_type": "stream",
     "text": [
      "339it [00:33,  9.29it/s]"
     ]
    },
    {
     "name": "stdout",
     "output_type": "stream",
     "text": [
      "logits.shape: torch.Size([8, 18])\n",
      "yb_indices.shape: torch.Size([8, 18])\n",
      "logits.shape: torch.Size([8, 18])\n",
      "yb_indices.shape: torch.Size([8, 18])\n"
     ]
    },
    {
     "name": "stderr",
     "output_type": "stream",
     "text": [
      "341it [00:33,  9.76it/s]"
     ]
    },
    {
     "name": "stdout",
     "output_type": "stream",
     "text": [
      "logits.shape: torch.Size([8, 18])\n",
      "yb_indices.shape: torch.Size([8, 18])\n",
      "logits.shape: torch.Size([8, 18])\n",
      "yb_indices.shape: torch.Size([8, 18])\n",
      "logits.shape: torch.Size([8, 18])\n",
      "yb_indices.shape: torch.Size([8, 18])\n"
     ]
    },
    {
     "name": "stderr",
     "output_type": "stream",
     "text": [
      "343it [00:33, 10.05it/s]"
     ]
    },
    {
     "name": "stdout",
     "output_type": "stream",
     "text": [
      "logits.shape: torch.Size([8, 18])\n",
      "yb_indices.shape: torch.Size([8, 18])\n",
      "logits.shape: torch.Size([8, 18])\n",
      "yb_indices.shape: torch.Size([8, 18])\n",
      "logits.shape: torch.Size([8, 18])\n",
      "yb_indices.shape: torch.Size([8, 18])\n"
     ]
    },
    {
     "name": "stderr",
     "output_type": "stream",
     "text": [
      "347it [00:33, 10.29it/s]"
     ]
    },
    {
     "name": "stdout",
     "output_type": "stream",
     "text": [
      "logits.shape: torch.Size([8, 18])\n",
      "yb_indices.shape: torch.Size([8, 18])\n",
      "logits.shape: torch.Size([8, 18])\n",
      "yb_indices.shape: torch.Size([8, 18])\n",
      "logits.shape: torch.Size([8, 18])\n",
      "yb_indices.shape: torch.Size([8, 18])\n"
     ]
    },
    {
     "name": "stderr",
     "output_type": "stream",
     "text": [
      "349it [00:34, 10.49it/s]"
     ]
    },
    {
     "name": "stdout",
     "output_type": "stream",
     "text": [
      "logits.shape: torch.Size([8, 18])\n",
      "yb_indices.shape: torch.Size([8, 18])\n",
      "logits.shape: torch.Size([8, 18])\n",
      "yb_indices.shape: torch.Size([8, 18])\n",
      "logits.shape: torch.Size([8, 18])\n",
      "yb_indices.shape: torch.Size([8, 18])\n"
     ]
    },
    {
     "name": "stderr",
     "output_type": "stream",
     "text": [
      "351it [00:34, 10.56it/s]"
     ]
    },
    {
     "name": "stdout",
     "output_type": "stream",
     "text": [
      "logits.shape: torch.Size([8, 18])\n",
      "yb_indices.shape: torch.Size([8, 18])\n",
      "logits.shape: torch.Size([8, 18])\n",
      "yb_indices.shape: torch.Size([8, 18])\n"
     ]
    },
    {
     "name": "stderr",
     "output_type": "stream",
     "text": [
      "355it [00:34, 10.08it/s]"
     ]
    },
    {
     "name": "stdout",
     "output_type": "stream",
     "text": [
      "logits.shape: torch.Size([8, 18])\n",
      "yb_indices.shape: torch.Size([8, 18])\n",
      "logits.shape: torch.Size([8, 18])\n",
      "yb_indices.shape: torch.Size([8, 18])\n",
      "logits.shape: torch.Size([8, 18])\n",
      "yb_indices.shape: torch.Size([8, 18])\n"
     ]
    },
    {
     "name": "stderr",
     "output_type": "stream",
     "text": [
      "357it [00:34, 10.34it/s]"
     ]
    },
    {
     "name": "stdout",
     "output_type": "stream",
     "text": [
      "logits.shape: torch.Size([8, 18])\n",
      "yb_indices.shape: torch.Size([8, 18])\n",
      "logits.shape: torch.Size([8, 18])\n",
      "yb_indices.shape: torch.Size([8, 18])\n",
      "logits.shape: torch.Size([8, 18])\n",
      "yb_indices.shape: torch.Size([8, 18])\n"
     ]
    },
    {
     "name": "stderr",
     "output_type": "stream",
     "text": [
      "361it [00:35, 10.35it/s]"
     ]
    },
    {
     "name": "stdout",
     "output_type": "stream",
     "text": [
      "logits.shape: torch.Size([8, 18])\n",
      "yb_indices.shape: torch.Size([8, 18])\n",
      "logits.shape: torch.Size([8, 18])\n",
      "yb_indices.shape: torch.Size([8, 18])\n",
      "logits.shape: torch.Size([8, 18])\n",
      "yb_indices.shape: torch.Size([8, 18])\n"
     ]
    },
    {
     "name": "stderr",
     "output_type": "stream",
     "text": [
      "363it [00:35, 10.32it/s]"
     ]
    },
    {
     "name": "stdout",
     "output_type": "stream",
     "text": [
      "logits.shape: torch.Size([8, 18])\n",
      "yb_indices.shape: torch.Size([8, 18])\n",
      "logits.shape: torch.Size([8, 18])\n",
      "yb_indices.shape: torch.Size([8, 18])\n",
      "logits.shape: torch.Size([8, 18])\n",
      "yb_indices.shape: torch.Size([8, 18])\n"
     ]
    },
    {
     "name": "stderr",
     "output_type": "stream",
     "text": [
      "367it [00:35, 10.30it/s]"
     ]
    },
    {
     "name": "stdout",
     "output_type": "stream",
     "text": [
      "logits.shape: torch.Size([8, 18])\n",
      "yb_indices.shape: torch.Size([8, 18])\n",
      "logits.shape: torch.Size([8, 18])\n",
      "yb_indices.shape: torch.Size([8, 18])\n"
     ]
    },
    {
     "name": "stderr",
     "output_type": "stream",
     "text": [
      "369it [00:36, 10.57it/s]"
     ]
    },
    {
     "name": "stdout",
     "output_type": "stream",
     "text": [
      "logits.shape: torch.Size([8, 18])\n",
      "yb_indices.shape: torch.Size([8, 18])\n",
      "logits.shape: torch.Size([8, 18])\n",
      "yb_indices.shape: torch.Size([8, 18])\n",
      "logits.shape: torch.Size([8, 18])\n",
      "yb_indices.shape: torch.Size([8, 18])\n"
     ]
    },
    {
     "name": "stderr",
     "output_type": "stream",
     "text": [
      "371it [00:36, 10.73it/s]"
     ]
    },
    {
     "name": "stdout",
     "output_type": "stream",
     "text": [
      "logits.shape: torch.Size([8, 18])\n",
      "yb_indices.shape: torch.Size([8, 18])\n",
      "logits.shape: torch.Size([8, 18])\n",
      "yb_indices.shape: torch.Size([8, 18])\n",
      "logits.shape: torch.Size([8, 18])\n",
      "yb_indices.shape: torch.Size([8, 18])\n"
     ]
    },
    {
     "name": "stderr",
     "output_type": "stream",
     "text": [
      "375it [00:36, 10.61it/s]"
     ]
    },
    {
     "name": "stdout",
     "output_type": "stream",
     "text": [
      "logits.shape: torch.Size([8, 18])\n",
      "yb_indices.shape: torch.Size([8, 18])\n",
      "logits.shape: torch.Size([8, 18])\n",
      "yb_indices.shape: torch.Size([8, 18])\n",
      "logits.shape: torch.Size([8, 18])\n",
      "yb_indices.shape: torch.Size([8, 18])\n"
     ]
    },
    {
     "name": "stderr",
     "output_type": "stream",
     "text": [
      "377it [00:36, 10.79it/s]"
     ]
    },
    {
     "name": "stdout",
     "output_type": "stream",
     "text": [
      "logits.shape: torch.Size([8, 18])\n",
      "yb_indices.shape: torch.Size([8, 18])\n",
      "logits.shape: torch.Size([8, 18])\n",
      "yb_indices.shape: torch.Size([8, 18])\n",
      "logits.shape: torch.Size([8, 18])\n",
      "yb_indices.shape: torch.Size([8, 18])\n"
     ]
    },
    {
     "name": "stderr",
     "output_type": "stream",
     "text": [
      "381it [00:37, 10.21it/s]"
     ]
    },
    {
     "name": "stdout",
     "output_type": "stream",
     "text": [
      "logits.shape: torch.Size([8, 18])\n",
      "yb_indices.shape: torch.Size([8, 18])\n",
      "logits.shape: torch.Size([8, 18])\n",
      "yb_indices.shape: torch.Size([8, 18])\n",
      "logits.shape: torch.Size([8, 18])\n",
      "yb_indices.shape: torch.Size([8, 18])\n"
     ]
    },
    {
     "name": "stderr",
     "output_type": "stream",
     "text": [
      "383it [00:37, 10.35it/s]"
     ]
    },
    {
     "name": "stdout",
     "output_type": "stream",
     "text": [
      "logits.shape: torch.Size([8, 18])\n",
      "yb_indices.shape: torch.Size([8, 18])\n",
      "logits.shape: torch.Size([8, 18])\n",
      "yb_indices.shape: torch.Size([8, 18])\n"
     ]
    },
    {
     "name": "stderr",
     "output_type": "stream",
     "text": [
      "386it [00:37,  9.35it/s]"
     ]
    },
    {
     "name": "stdout",
     "output_type": "stream",
     "text": [
      "logits.shape: torch.Size([8, 18])\n",
      "yb_indices.shape: torch.Size([8, 18])\n",
      "logits.shape: torch.Size([8, 18])\n",
      "yb_indices.shape: torch.Size([8, 18])\n"
     ]
    },
    {
     "name": "stderr",
     "output_type": "stream",
     "text": [
      "388it [00:37,  8.91it/s]"
     ]
    },
    {
     "name": "stdout",
     "output_type": "stream",
     "text": [
      "logits.shape: torch.Size([8, 18])\n",
      "yb_indices.shape: torch.Size([8, 18])\n",
      "logits.shape: torch.Size([8, 18])\n",
      "yb_indices.shape: torch.Size([8, 18])\n"
     ]
    },
    {
     "name": "stderr",
     "output_type": "stream",
     "text": [
      "390it [00:38,  9.40it/s]"
     ]
    },
    {
     "name": "stdout",
     "output_type": "stream",
     "text": [
      "logits.shape: torch.Size([8, 18])\n",
      "yb_indices.shape: torch.Size([8, 18])\n",
      "logits.shape: torch.Size([8, 18])\n",
      "yb_indices.shape: torch.Size([8, 18])\n",
      "logits.shape: torch.Size([8, 18])\n",
      "yb_indices.shape: torch.Size([8, 18])\n"
     ]
    },
    {
     "name": "stderr",
     "output_type": "stream",
     "text": [
      "393it [00:38,  9.18it/s]"
     ]
    },
    {
     "name": "stdout",
     "output_type": "stream",
     "text": [
      "logits.shape: torch.Size([8, 18])\n",
      "yb_indices.shape: torch.Size([8, 18])\n",
      "logits.shape: torch.Size([8, 18])\n",
      "yb_indices.shape: torch.Size([8, 18])\n",
      "logits.shape: torch.Size([8, 18])\n",
      "yb_indices.shape: torch.Size([8, 18])\n"
     ]
    },
    {
     "name": "stderr",
     "output_type": "stream",
     "text": [
      "396it [00:38,  9.77it/s]"
     ]
    },
    {
     "name": "stdout",
     "output_type": "stream",
     "text": [
      "logits.shape: torch.Size([8, 18])\n",
      "yb_indices.shape: torch.Size([8, 18])\n",
      "logits.shape: torch.Size([8, 18])\n",
      "yb_indices.shape: torch.Size([8, 18])\n",
      "logits.shape: torch.Size([8, 18])\n",
      "yb_indices.shape: torch.Size([8, 18])\n"
     ]
    },
    {
     "name": "stderr",
     "output_type": "stream",
     "text": [
      "398it [00:39,  9.25it/s]"
     ]
    },
    {
     "name": "stdout",
     "output_type": "stream",
     "text": [
      "logits.shape: torch.Size([8, 18])\n",
      "yb_indices.shape: torch.Size([8, 18])\n",
      "logits.shape: torch.Size([8, 18])\n",
      "yb_indices.shape: torch.Size([8, 18])\n"
     ]
    },
    {
     "name": "stderr",
     "output_type": "stream",
     "text": [
      "401it [00:39,  9.32it/s]"
     ]
    },
    {
     "name": "stdout",
     "output_type": "stream",
     "text": [
      "logits.shape: torch.Size([8, 18])\n",
      "yb_indices.shape: torch.Size([8, 18])\n",
      "logits.shape: torch.Size([8, 18])\n",
      "yb_indices.shape: torch.Size([8, 18])\n"
     ]
    },
    {
     "name": "stderr",
     "output_type": "stream",
     "text": [
      "403it [00:39,  9.31it/s]"
     ]
    },
    {
     "name": "stdout",
     "output_type": "stream",
     "text": [
      "logits.shape: torch.Size([8, 18])\n",
      "yb_indices.shape: torch.Size([8, 18])\n",
      "logits.shape: torch.Size([8, 18])\n",
      "yb_indices.shape: torch.Size([8, 18])\n"
     ]
    },
    {
     "name": "stderr",
     "output_type": "stream",
     "text": [
      "404it [00:39,  8.04it/s]"
     ]
    },
    {
     "name": "stdout",
     "output_type": "stream",
     "text": [
      "logits.shape: torch.Size([8, 18])\n",
      "yb_indices.shape: torch.Size([8, 18])\n",
      "logits.shape: torch.Size([8, 18])\n",
      "yb_indices.shape: torch.Size([8, 18])\n"
     ]
    },
    {
     "name": "stderr",
     "output_type": "stream",
     "text": [
      "407it [00:40,  9.25it/s]"
     ]
    },
    {
     "name": "stdout",
     "output_type": "stream",
     "text": [
      "logits.shape: torch.Size([8, 18])\n",
      "yb_indices.shape: torch.Size([8, 18])\n",
      "logits.shape: torch.Size([8, 18])\n",
      "yb_indices.shape: torch.Size([8, 18])\n",
      "logits.shape: torch.Size([8, 18])\n",
      "yb_indices.shape: torch.Size([8, 18])\n"
     ]
    },
    {
     "name": "stderr",
     "output_type": "stream",
     "text": [
      "409it [00:40, 10.19it/s]"
     ]
    },
    {
     "name": "stdout",
     "output_type": "stream",
     "text": [
      "logits.shape: torch.Size([8, 18])\n",
      "yb_indices.shape: torch.Size([8, 18])\n",
      "logits.shape: torch.Size([8, 18])\n",
      "yb_indices.shape: torch.Size([8, 18])\n",
      "logits.shape: torch.Size([8, 18])\n",
      "yb_indices.shape: torch.Size([8, 18])\n"
     ]
    },
    {
     "name": "stderr",
     "output_type": "stream",
     "text": [
      "413it [00:40, 11.11it/s]"
     ]
    },
    {
     "name": "stdout",
     "output_type": "stream",
     "text": [
      "logits.shape: torch.Size([8, 18])\n",
      "yb_indices.shape: torch.Size([8, 18])\n",
      "logits.shape: torch.Size([8, 18])\n",
      "yb_indices.shape: torch.Size([8, 18])\n",
      "logits.shape: torch.Size([8, 18])\n",
      "yb_indices.shape: torch.Size([8, 18])\n"
     ]
    },
    {
     "name": "stderr",
     "output_type": "stream",
     "text": [
      "417it [00:40, 11.91it/s]"
     ]
    },
    {
     "name": "stdout",
     "output_type": "stream",
     "text": [
      "logits.shape: torch.Size([8, 18])\n",
      "yb_indices.shape: torch.Size([8, 18])\n",
      "logits.shape: torch.Size([8, 18])\n",
      "yb_indices.shape: torch.Size([8, 18])\n",
      "logits.shape: torch.Size([8, 18])\n",
      "yb_indices.shape: torch.Size([8, 18])\n"
     ]
    },
    {
     "name": "stderr",
     "output_type": "stream",
     "text": [
      "419it [00:41, 11.58it/s]"
     ]
    },
    {
     "name": "stdout",
     "output_type": "stream",
     "text": [
      "logits.shape: torch.Size([8, 18])\n",
      "yb_indices.shape: torch.Size([8, 18])\n",
      "logits.shape: torch.Size([8, 18])\n",
      "yb_indices.shape: torch.Size([8, 18])\n",
      "logits.shape: torch.Size([8, 18])\n",
      "yb_indices.shape: torch.Size([8, 18])\n"
     ]
    },
    {
     "name": "stderr",
     "output_type": "stream",
     "text": [
      "421it [00:41, 11.56it/s]"
     ]
    },
    {
     "name": "stdout",
     "output_type": "stream",
     "text": [
      "logits.shape: torch.Size([8, 18])\n",
      "yb_indices.shape: torch.Size([8, 18])\n",
      "logits.shape: torch.Size([8, 18])\n",
      "yb_indices.shape: torch.Size([8, 18])\n",
      "logits.shape: torch.Size([8, 18])\n",
      "yb_indices.shape: torch.Size([8, 18])\n"
     ]
    },
    {
     "name": "stderr",
     "output_type": "stream",
     "text": [
      "425it [00:41, 10.43it/s]"
     ]
    },
    {
     "name": "stdout",
     "output_type": "stream",
     "text": [
      "logits.shape: torch.Size([8, 18])\n",
      "yb_indices.shape: torch.Size([8, 18])\n",
      "logits.shape: torch.Size([8, 18])\n",
      "yb_indices.shape: torch.Size([8, 18])\n"
     ]
    },
    {
     "name": "stderr",
     "output_type": "stream",
     "text": [
      "427it [00:41, 10.36it/s]"
     ]
    },
    {
     "name": "stdout",
     "output_type": "stream",
     "text": [
      "logits.shape: torch.Size([8, 18])\n",
      "yb_indices.shape: torch.Size([8, 18])\n",
      "logits.shape: torch.Size([8, 18])\n",
      "yb_indices.shape: torch.Size([8, 18])\n",
      "logits.shape: torch.Size([8, 18])\n",
      "yb_indices.shape: torch.Size([8, 18])\n"
     ]
    },
    {
     "name": "stderr",
     "output_type": "stream",
     "text": [
      "429it [00:42, 10.35it/s]"
     ]
    },
    {
     "name": "stdout",
     "output_type": "stream",
     "text": [
      "logits.shape: torch.Size([8, 18])\n",
      "yb_indices.shape: torch.Size([8, 18])\n",
      "logits.shape: torch.Size([8, 18])\n",
      "yb_indices.shape: torch.Size([8, 18])\n"
     ]
    },
    {
     "name": "stderr",
     "output_type": "stream",
     "text": [
      "432it [00:42,  9.44it/s]"
     ]
    },
    {
     "name": "stdout",
     "output_type": "stream",
     "text": [
      "logits.shape: torch.Size([8, 18])\n",
      "yb_indices.shape: torch.Size([8, 18])\n",
      "logits.shape: torch.Size([8, 18])\n",
      "yb_indices.shape: torch.Size([8, 18])\n"
     ]
    },
    {
     "name": "stderr",
     "output_type": "stream",
     "text": [
      "434it [00:42, 10.04it/s]"
     ]
    },
    {
     "name": "stdout",
     "output_type": "stream",
     "text": [
      "logits.shape: torch.Size([8, 18])\n",
      "yb_indices.shape: torch.Size([8, 18])\n",
      "logits.shape: torch.Size([8, 18])\n",
      "yb_indices.shape: torch.Size([8, 18])\n",
      "logits.shape: torch.Size([8, 18])\n",
      "yb_indices.shape: torch.Size([8, 18])\n"
     ]
    },
    {
     "name": "stderr",
     "output_type": "stream",
     "text": [
      "436it [00:42, 10.40it/s]"
     ]
    },
    {
     "name": "stdout",
     "output_type": "stream",
     "text": [
      "logits.shape: torch.Size([8, 18])\n",
      "yb_indices.shape: torch.Size([8, 18])\n",
      "logits.shape: torch.Size([8, 18])\n",
      "yb_indices.shape: torch.Size([8, 18])\n",
      "logits.shape: torch.Size([8, 18])\n",
      "yb_indices.shape: torch.Size([8, 18])\n"
     ]
    },
    {
     "name": "stderr",
     "output_type": "stream",
     "text": [
      "440it [00:43, 10.61it/s]"
     ]
    },
    {
     "name": "stdout",
     "output_type": "stream",
     "text": [
      "logits.shape: torch.Size([8, 18])\n",
      "yb_indices.shape: torch.Size([8, 18])\n",
      "logits.shape: torch.Size([8, 18])\n",
      "yb_indices.shape: torch.Size([8, 18])\n",
      "logits.shape: torch.Size([8, 18])\n",
      "yb_indices.shape: torch.Size([8, 18])\n"
     ]
    },
    {
     "name": "stderr",
     "output_type": "stream",
     "text": [
      "442it [00:43, 11.17it/s]"
     ]
    },
    {
     "name": "stdout",
     "output_type": "stream",
     "text": [
      "logits.shape: torch.Size([8, 18])\n",
      "yb_indices.shape: torch.Size([8, 18])\n",
      "logits.shape: torch.Size([8, 18])\n",
      "yb_indices.shape: torch.Size([8, 18])\n",
      "logits.shape: torch.Size([8, 18])\n",
      "yb_indices.shape: torch.Size([8, 18])\n"
     ]
    },
    {
     "name": "stderr",
     "output_type": "stream",
     "text": [
      "446it [00:43, 11.61it/s]"
     ]
    },
    {
     "name": "stdout",
     "output_type": "stream",
     "text": [
      "logits.shape: torch.Size([8, 18])\n",
      "yb_indices.shape: torch.Size([8, 18])\n",
      "logits.shape: torch.Size([8, 18])\n",
      "yb_indices.shape: torch.Size([8, 18])\n",
      "logits.shape: torch.Size([8, 18])\n",
      "yb_indices.shape: torch.Size([8, 18])\n"
     ]
    },
    {
     "name": "stderr",
     "output_type": "stream",
     "text": [
      "448it [00:43, 11.17it/s]"
     ]
    },
    {
     "name": "stdout",
     "output_type": "stream",
     "text": [
      "logits.shape: torch.Size([8, 18])\n",
      "yb_indices.shape: torch.Size([8, 18])\n",
      "logits.shape: torch.Size([8, 18])\n",
      "yb_indices.shape: torch.Size([8, 18])\n",
      "logits.shape: torch.Size([8, 18])\n",
      "yb_indices.shape: torch.Size([8, 18])\n"
     ]
    },
    {
     "name": "stderr",
     "output_type": "stream",
     "text": [
      "452it [00:44, 11.80it/s]"
     ]
    },
    {
     "name": "stdout",
     "output_type": "stream",
     "text": [
      "logits.shape: torch.Size([8, 18])\n",
      "yb_indices.shape: torch.Size([8, 18])\n",
      "logits.shape: torch.Size([8, 18])\n",
      "yb_indices.shape: torch.Size([8, 18])\n",
      "logits.shape: torch.Size([8, 18])\n",
      "yb_indices.shape: torch.Size([8, 18])\n"
     ]
    },
    {
     "name": "stderr",
     "output_type": "stream",
     "text": [
      "454it [00:44, 10.75it/s]"
     ]
    },
    {
     "name": "stdout",
     "output_type": "stream",
     "text": [
      "logits.shape: torch.Size([8, 18])\n",
      "yb_indices.shape: torch.Size([8, 18])\n",
      "logits.shape: torch.Size([8, 18])\n",
      "yb_indices.shape: torch.Size([8, 18])\n"
     ]
    },
    {
     "name": "stderr",
     "output_type": "stream",
     "text": [
      "456it [00:44,  8.44it/s]"
     ]
    },
    {
     "name": "stdout",
     "output_type": "stream",
     "text": [
      "logits.shape: torch.Size([8, 18])\n",
      "yb_indices.shape: torch.Size([8, 18])\n",
      "logits.shape: torch.Size([8, 18])\n",
      "yb_indices.shape: torch.Size([8, 18])\n"
     ]
    },
    {
     "name": "stderr",
     "output_type": "stream",
     "text": [
      "459it [00:44,  8.90it/s]"
     ]
    },
    {
     "name": "stdout",
     "output_type": "stream",
     "text": [
      "logits.shape: torch.Size([8, 18])\n",
      "yb_indices.shape: torch.Size([8, 18])\n",
      "logits.shape: torch.Size([8, 18])\n",
      "yb_indices.shape: torch.Size([8, 18])\n",
      "logits.shape: torch.Size([8, 18])\n",
      "yb_indices.shape: torch.Size([8, 18])\n"
     ]
    },
    {
     "name": "stderr",
     "output_type": "stream",
     "text": [
      "462it [00:45,  9.53it/s]"
     ]
    },
    {
     "name": "stdout",
     "output_type": "stream",
     "text": [
      "logits.shape: torch.Size([8, 18])\n",
      "yb_indices.shape: torch.Size([8, 18])\n",
      "logits.shape: torch.Size([8, 18])\n",
      "yb_indices.shape: torch.Size([8, 18])\n",
      "logits.shape: torch.Size([8, 18])\n",
      "yb_indices.shape: torch.Size([8, 18])\n"
     ]
    },
    {
     "name": "stderr",
     "output_type": "stream",
     "text": [
      "464it [00:45, 10.20it/s]"
     ]
    },
    {
     "name": "stdout",
     "output_type": "stream",
     "text": [
      "logits.shape: torch.Size([8, 18])\n",
      "yb_indices.shape: torch.Size([8, 18])\n",
      "logits.shape: torch.Size([8, 18])\n",
      "yb_indices.shape: torch.Size([8, 18])\n"
     ]
    },
    {
     "name": "stderr",
     "output_type": "stream",
     "text": [
      "466it [00:45,  9.04it/s]"
     ]
    },
    {
     "name": "stdout",
     "output_type": "stream",
     "text": [
      "logits.shape: torch.Size([8, 18])\n",
      "yb_indices.shape: torch.Size([8, 18])\n",
      "logits.shape: torch.Size([8, 18])\n",
      "yb_indices.shape: torch.Size([8, 18])\n",
      "logits.shape: torch.Size([8, 18])\n",
      "yb_indices.shape: torch.Size([8, 18])\n"
     ]
    },
    {
     "name": "stderr",
     "output_type": "stream",
     "text": [
      "470it [00:46, 10.25it/s]"
     ]
    },
    {
     "name": "stdout",
     "output_type": "stream",
     "text": [
      "logits.shape: torch.Size([8, 18])\n",
      "yb_indices.shape: torch.Size([8, 18])\n",
      "logits.shape: torch.Size([8, 18])\n",
      "yb_indices.shape: torch.Size([8, 18])\n",
      "logits.shape: torch.Size([8, 18])\n",
      "yb_indices.shape: torch.Size([8, 18])\n"
     ]
    },
    {
     "name": "stderr",
     "output_type": "stream",
     "text": [
      "472it [00:46, 10.41it/s]"
     ]
    },
    {
     "name": "stdout",
     "output_type": "stream",
     "text": [
      "logits.shape: torch.Size([8, 18])\n",
      "yb_indices.shape: torch.Size([8, 18])\n",
      "logits.shape: torch.Size([8, 18])\n",
      "yb_indices.shape: torch.Size([8, 18])\n",
      "logits.shape: torch.Size([8, 18])\n",
      "yb_indices.shape: torch.Size([8, 18])\n"
     ]
    },
    {
     "name": "stderr",
     "output_type": "stream",
     "text": [
      "476it [00:46, 10.35it/s]"
     ]
    },
    {
     "name": "stdout",
     "output_type": "stream",
     "text": [
      "logits.shape: torch.Size([8, 18])\n",
      "yb_indices.shape: torch.Size([8, 18])\n",
      "logits.shape: torch.Size([8, 18])\n",
      "yb_indices.shape: torch.Size([8, 18])\n",
      "logits.shape: torch.Size([8, 18])\n",
      "yb_indices.shape: torch.Size([8, 18])\n"
     ]
    },
    {
     "name": "stderr",
     "output_type": "stream",
     "text": [
      "478it [00:46, 10.61it/s]"
     ]
    },
    {
     "name": "stdout",
     "output_type": "stream",
     "text": [
      "logits.shape: torch.Size([8, 18])\n",
      "yb_indices.shape: torch.Size([8, 18])\n",
      "logits.shape: torch.Size([8, 18])\n",
      "yb_indices.shape: torch.Size([8, 18])\n",
      "logits.shape: torch.Size([8, 18])\n",
      "yb_indices.shape: torch.Size([8, 18])\n"
     ]
    },
    {
     "name": "stderr",
     "output_type": "stream",
     "text": [
      "482it [00:47, 10.64it/s]"
     ]
    },
    {
     "name": "stdout",
     "output_type": "stream",
     "text": [
      "logits.shape: torch.Size([8, 18])\n",
      "yb_indices.shape: torch.Size([8, 18])\n",
      "logits.shape: torch.Size([8, 18])\n",
      "yb_indices.shape: torch.Size([8, 18])\n"
     ]
    },
    {
     "name": "stderr",
     "output_type": "stream",
     "text": [
      "484it [00:47, 10.80it/s]"
     ]
    },
    {
     "name": "stdout",
     "output_type": "stream",
     "text": [
      "logits.shape: torch.Size([8, 18])\n",
      "yb_indices.shape: torch.Size([8, 18])\n",
      "logits.shape: torch.Size([8, 18])\n",
      "yb_indices.shape: torch.Size([8, 18])\n",
      "logits.shape: torch.Size([8, 18])\n",
      "yb_indices.shape: torch.Size([8, 18])\n"
     ]
    },
    {
     "name": "stderr",
     "output_type": "stream",
     "text": [
      "486it [00:47, 11.07it/s]"
     ]
    },
    {
     "name": "stdout",
     "output_type": "stream",
     "text": [
      "logits.shape: torch.Size([8, 18])\n",
      "yb_indices.shape: torch.Size([8, 18])\n",
      "logits.shape: torch.Size([8, 18])\n",
      "yb_indices.shape: torch.Size([8, 18])\n"
     ]
    },
    {
     "name": "stderr",
     "output_type": "stream",
     "text": [
      "488it [00:47, 10.49it/s]"
     ]
    },
    {
     "name": "stdout",
     "output_type": "stream",
     "text": [
      "logits.shape: torch.Size([8, 18])\n",
      "yb_indices.shape: torch.Size([8, 18])\n",
      "logits.shape: torch.Size([8, 18])\n",
      "yb_indices.shape: torch.Size([8, 18])\n",
      "logits.shape: torch.Size([8, 18])\n",
      "yb_indices.shape: torch.Size([8, 18])\n"
     ]
    },
    {
     "name": "stderr",
     "output_type": "stream",
     "text": [
      "492it [00:48, 10.64it/s]"
     ]
    },
    {
     "name": "stdout",
     "output_type": "stream",
     "text": [
      "logits.shape: torch.Size([8, 18])\n",
      "yb_indices.shape: torch.Size([8, 18])\n",
      "logits.shape: torch.Size([8, 18])\n",
      "yb_indices.shape: torch.Size([8, 18])\n",
      "logits.shape: torch.Size([8, 18])\n",
      "yb_indices.shape: torch.Size([8, 18])\n"
     ]
    },
    {
     "name": "stderr",
     "output_type": "stream",
     "text": [
      "494it [00:48,  9.97it/s]"
     ]
    },
    {
     "name": "stdout",
     "output_type": "stream",
     "text": [
      "logits.shape: torch.Size([8, 18])\n",
      "yb_indices.shape: torch.Size([8, 18])\n",
      "logits.shape: torch.Size([8, 18])\n",
      "yb_indices.shape: torch.Size([8, 18])\n"
     ]
    },
    {
     "name": "stderr",
     "output_type": "stream",
     "text": [
      "496it [00:48,  9.83it/s]"
     ]
    },
    {
     "name": "stdout",
     "output_type": "stream",
     "text": [
      "logits.shape: torch.Size([8, 18])\n",
      "yb_indices.shape: torch.Size([8, 18])\n",
      "logits.shape: torch.Size([8, 18])\n",
      "yb_indices.shape: torch.Size([8, 18])\n"
     ]
    },
    {
     "name": "stderr",
     "output_type": "stream",
     "text": [
      "498it [00:48, 10.09it/s]"
     ]
    },
    {
     "name": "stdout",
     "output_type": "stream",
     "text": [
      "logits.shape: torch.Size([8, 18])\n",
      "yb_indices.shape: torch.Size([8, 18])\n",
      "logits.shape: torch.Size([8, 18])\n",
      "yb_indices.shape: torch.Size([8, 18])\n",
      "logits.shape: torch.Size([8, 18])\n",
      "yb_indices.shape: torch.Size([8, 18])\n"
     ]
    },
    {
     "name": "stderr",
     "output_type": "stream",
     "text": [
      "500it [00:48, 10.61it/s]"
     ]
    },
    {
     "name": "stdout",
     "output_type": "stream",
     "text": [
      "logits.shape: torch.Size([8, 18])\n",
      "yb_indices.shape: torch.Size([8, 18])\n",
      "logits.shape: torch.Size([8, 18])\n",
      "yb_indices.shape: torch.Size([8, 18])\n"
     ]
    },
    {
     "name": "stderr",
     "output_type": "stream",
     "text": [
      "504it [00:49, 10.20it/s]"
     ]
    },
    {
     "name": "stdout",
     "output_type": "stream",
     "text": [
      "logits.shape: torch.Size([8, 18])\n",
      "yb_indices.shape: torch.Size([8, 18])\n",
      "logits.shape: torch.Size([8, 18])\n",
      "yb_indices.shape: torch.Size([8, 18])\n",
      "logits.shape: torch.Size([8, 18])\n",
      "yb_indices.shape: torch.Size([8, 18])\n"
     ]
    },
    {
     "name": "stderr",
     "output_type": "stream",
     "text": [
      "506it [00:49,  9.96it/s]"
     ]
    },
    {
     "name": "stdout",
     "output_type": "stream",
     "text": [
      "logits.shape: torch.Size([8, 18])\n",
      "yb_indices.shape: torch.Size([8, 18])\n",
      "logits.shape: torch.Size([8, 18])\n",
      "yb_indices.shape: torch.Size([8, 18])\n"
     ]
    },
    {
     "name": "stderr",
     "output_type": "stream",
     "text": [
      "508it [00:49, 10.08it/s]"
     ]
    },
    {
     "name": "stdout",
     "output_type": "stream",
     "text": [
      "logits.shape: torch.Size([8, 18])\n",
      "yb_indices.shape: torch.Size([8, 18])\n",
      "logits.shape: torch.Size([8, 18])\n",
      "yb_indices.shape: torch.Size([8, 18])\n"
     ]
    },
    {
     "name": "stderr",
     "output_type": "stream",
     "text": [
      "510it [00:49,  9.98it/s]"
     ]
    },
    {
     "name": "stdout",
     "output_type": "stream",
     "text": [
      "logits.shape: torch.Size([8, 18])\n",
      "yb_indices.shape: torch.Size([8, 18])\n",
      "logits.shape: torch.Size([8, 18])\n",
      "yb_indices.shape: torch.Size([8, 18])\n",
      "logits.shape: torch.Size([8, 18])\n",
      "yb_indices.shape: torch.Size([8, 18])\n"
     ]
    },
    {
     "name": "stderr",
     "output_type": "stream",
     "text": [
      "514it [00:50, 10.55it/s]"
     ]
    },
    {
     "name": "stdout",
     "output_type": "stream",
     "text": [
      "logits.shape: torch.Size([8, 18])\n",
      "yb_indices.shape: torch.Size([8, 18])\n",
      "logits.shape: torch.Size([8, 18])\n",
      "yb_indices.shape: torch.Size([8, 18])\n"
     ]
    },
    {
     "name": "stderr",
     "output_type": "stream",
     "text": [
      "516it [00:50, 10.59it/s]"
     ]
    },
    {
     "name": "stdout",
     "output_type": "stream",
     "text": [
      "logits.shape: torch.Size([8, 18])\n",
      "yb_indices.shape: torch.Size([8, 18])\n",
      "logits.shape: torch.Size([8, 18])\n",
      "yb_indices.shape: torch.Size([8, 18])\n",
      "logits.shape: torch.Size([8, 18])\n",
      "yb_indices.shape: torch.Size([8, 18])\n"
     ]
    },
    {
     "name": "stderr",
     "output_type": "stream",
     "text": [
      "518it [00:50, 10.12it/s]"
     ]
    },
    {
     "name": "stdout",
     "output_type": "stream",
     "text": [
      "logits.shape: torch.Size([8, 18])\n",
      "yb_indices.shape: torch.Size([8, 18])\n",
      "logits.shape: torch.Size([8, 18])\n",
      "yb_indices.shape: torch.Size([8, 18])\n",
      "logits.shape: torch.Size([8, 18])\n",
      "yb_indices.shape: torch.Size([8, 18])\n"
     ]
    },
    {
     "name": "stderr",
     "output_type": "stream",
     "text": [
      "522it [00:51, 10.04it/s]"
     ]
    },
    {
     "name": "stdout",
     "output_type": "stream",
     "text": [
      "logits.shape: torch.Size([8, 18])\n",
      "yb_indices.shape: torch.Size([8, 18])\n",
      "logits.shape: torch.Size([8, 18])\n",
      "yb_indices.shape: torch.Size([8, 18])\n",
      "logits.shape: torch.Size([8, 18])\n",
      "yb_indices.shape: torch.Size([8, 18])\n"
     ]
    },
    {
     "name": "stderr",
     "output_type": "stream",
     "text": [
      "524it [00:51, 10.63it/s]"
     ]
    },
    {
     "name": "stdout",
     "output_type": "stream",
     "text": [
      "logits.shape: torch.Size([8, 18])\n",
      "yb_indices.shape: torch.Size([8, 18])\n",
      "logits.shape: torch.Size([8, 18])\n",
      "yb_indices.shape: torch.Size([8, 18])\n",
      "logits.shape: torch.Size([8, 18])\n",
      "yb_indices.shape: torch.Size([8, 18])\n"
     ]
    },
    {
     "name": "stderr",
     "output_type": "stream",
     "text": [
      "528it [00:51, 10.84it/s]"
     ]
    },
    {
     "name": "stdout",
     "output_type": "stream",
     "text": [
      "logits.shape: torch.Size([8, 18])\n",
      "yb_indices.shape: torch.Size([8, 18])\n",
      "logits.shape: torch.Size([8, 18])\n",
      "yb_indices.shape: torch.Size([8, 18])\n"
     ]
    },
    {
     "name": "stderr",
     "output_type": "stream",
     "text": [
      "530it [00:51, 10.20it/s]"
     ]
    },
    {
     "name": "stdout",
     "output_type": "stream",
     "text": [
      "logits.shape: torch.Size([8, 18])\n",
      "yb_indices.shape: torch.Size([8, 18])\n",
      "logits.shape: torch.Size([8, 18])\n",
      "yb_indices.shape: torch.Size([8, 18])\n"
     ]
    },
    {
     "name": "stderr",
     "output_type": "stream",
     "text": [
      "532it [00:52, 10.58it/s]"
     ]
    },
    {
     "name": "stdout",
     "output_type": "stream",
     "text": [
      "logits.shape: torch.Size([8, 18])\n",
      "yb_indices.shape: torch.Size([8, 18])\n",
      "logits.shape: torch.Size([8, 18])\n",
      "yb_indices.shape: torch.Size([8, 18])\n",
      "logits.shape: torch.Size([8, 18])\n",
      "yb_indices.shape: torch.Size([8, 18])\n"
     ]
    },
    {
     "name": "stderr",
     "output_type": "stream",
     "text": [
      "534it [00:52, 10.57it/s]"
     ]
    },
    {
     "name": "stdout",
     "output_type": "stream",
     "text": [
      "logits.shape: torch.Size([8, 18])\n",
      "yb_indices.shape: torch.Size([8, 18])\n",
      "logits.shape: torch.Size([8, 18])\n",
      "yb_indices.shape: torch.Size([8, 18])\n"
     ]
    },
    {
     "name": "stderr",
     "output_type": "stream",
     "text": [
      "536it [00:52,  9.22it/s]"
     ]
    },
    {
     "name": "stdout",
     "output_type": "stream",
     "text": [
      "logits.shape: torch.Size([8, 18])\n",
      "yb_indices.shape: torch.Size([8, 18])\n",
      "logits.shape: torch.Size([8, 18])\n",
      "yb_indices.shape: torch.Size([8, 18])\n"
     ]
    },
    {
     "name": "stderr",
     "output_type": "stream",
     "text": [
      "538it [00:52,  9.55it/s]"
     ]
    },
    {
     "name": "stdout",
     "output_type": "stream",
     "text": [
      "logits.shape: torch.Size([8, 18])\n",
      "yb_indices.shape: torch.Size([8, 18])\n",
      "logits.shape: torch.Size([8, 18])\n",
      "yb_indices.shape: torch.Size([8, 18])\n",
      "logits.shape: torch.Size([8, 18])\n",
      "yb_indices.shape: torch.Size([8, 18])\n"
     ]
    },
    {
     "name": "stderr",
     "output_type": "stream",
     "text": [
      "542it [00:53,  9.79it/s]"
     ]
    },
    {
     "name": "stdout",
     "output_type": "stream",
     "text": [
      "logits.shape: torch.Size([8, 18])\n",
      "yb_indices.shape: torch.Size([8, 18])\n",
      "logits.shape: torch.Size([8, 18])\n",
      "yb_indices.shape: torch.Size([8, 18])\n",
      "logits.shape: torch.Size([8, 18])\n",
      "yb_indices.shape: torch.Size([8, 18])\n"
     ]
    },
    {
     "name": "stderr",
     "output_type": "stream",
     "text": [
      "544it [00:53, 10.24it/s]"
     ]
    },
    {
     "name": "stdout",
     "output_type": "stream",
     "text": [
      "logits.shape: torch.Size([8, 18])\n",
      "yb_indices.shape: torch.Size([8, 18])\n",
      "logits.shape: torch.Size([8, 18])\n",
      "yb_indices.shape: torch.Size([8, 18])\n",
      "logits.shape: torch.Size([8, 18])\n",
      "yb_indices.shape: torch.Size([8, 18])\n"
     ]
    },
    {
     "name": "stderr",
     "output_type": "stream",
     "text": [
      "548it [00:53, 11.03it/s]"
     ]
    },
    {
     "name": "stdout",
     "output_type": "stream",
     "text": [
      "logits.shape: torch.Size([8, 18])\n",
      "yb_indices.shape: torch.Size([8, 18])\n",
      "logits.shape: torch.Size([8, 18])\n",
      "yb_indices.shape: torch.Size([8, 18])\n",
      "logits.shape: torch.Size([8, 18])\n",
      "yb_indices.shape: torch.Size([8, 18])\n"
     ]
    },
    {
     "name": "stderr",
     "output_type": "stream",
     "text": [
      "550it [00:53, 10.73it/s]"
     ]
    },
    {
     "name": "stdout",
     "output_type": "stream",
     "text": [
      "logits.shape: torch.Size([8, 18])\n",
      "yb_indices.shape: torch.Size([8, 18])\n",
      "logits.shape: torch.Size([8, 18])\n",
      "yb_indices.shape: torch.Size([8, 18])\n",
      "logits.shape: torch.Size([8, 18])\n",
      "yb_indices.shape: torch.Size([8, 18])\n"
     ]
    },
    {
     "name": "stderr",
     "output_type": "stream",
     "text": [
      "554it [00:54, 11.16it/s]"
     ]
    },
    {
     "name": "stdout",
     "output_type": "stream",
     "text": [
      "logits.shape: torch.Size([8, 18])\n",
      "yb_indices.shape: torch.Size([8, 18])\n",
      "logits.shape: torch.Size([8, 18])\n",
      "yb_indices.shape: torch.Size([8, 18])\n",
      "logits.shape: torch.Size([8, 18])\n",
      "yb_indices.shape: torch.Size([8, 18])\n"
     ]
    },
    {
     "name": "stderr",
     "output_type": "stream",
     "text": [
      "557it [00:54,  8.88it/s]"
     ]
    },
    {
     "name": "stdout",
     "output_type": "stream",
     "text": [
      "logits.shape: torch.Size([8, 18])\n",
      "yb_indices.shape: torch.Size([8, 18])\n",
      "logits.shape: torch.Size([8, 18])\n",
      "yb_indices.shape: torch.Size([8, 18])\n"
     ]
    },
    {
     "name": "stderr",
     "output_type": "stream",
     "text": [
      "558it [00:54,  9.03it/s]"
     ]
    },
    {
     "name": "stdout",
     "output_type": "stream",
     "text": [
      "logits.shape: torch.Size([8, 18])\n",
      "yb_indices.shape: torch.Size([8, 18])\n",
      "logits.shape: torch.Size([8, 18])\n",
      "yb_indices.shape: torch.Size([8, 18])\n",
      "logits.shape: torch.Size([8, 18])\n",
      "yb_indices.shape: torch.Size([8, 18])\n"
     ]
    },
    {
     "name": "stderr",
     "output_type": "stream",
     "text": [
      "562it [00:55, 10.36it/s]"
     ]
    },
    {
     "name": "stdout",
     "output_type": "stream",
     "text": [
      "logits.shape: torch.Size([8, 18])\n",
      "yb_indices.shape: torch.Size([8, 18])\n",
      "logits.shape: torch.Size([8, 18])\n",
      "yb_indices.shape: torch.Size([8, 18])\n",
      "logits.shape: torch.Size([8, 18])\n",
      "yb_indices.shape: torch.Size([8, 18])\n"
     ]
    },
    {
     "name": "stderr",
     "output_type": "stream",
     "text": [
      "564it [00:55, 10.27it/s]"
     ]
    },
    {
     "name": "stdout",
     "output_type": "stream",
     "text": [
      "logits.shape: torch.Size([8, 18])\n",
      "yb_indices.shape: torch.Size([8, 18])\n",
      "logits.shape: torch.Size([8, 18])\n",
      "yb_indices.shape: torch.Size([8, 18])\n",
      "logits.shape: torch.Size([8, 18])\n",
      "yb_indices.shape: torch.Size([8, 18])\n"
     ]
    },
    {
     "name": "stderr",
     "output_type": "stream",
     "text": [
      "568it [00:55, 11.20it/s]"
     ]
    },
    {
     "name": "stdout",
     "output_type": "stream",
     "text": [
      "logits.shape: torch.Size([8, 18])\n",
      "yb_indices.shape: torch.Size([8, 18])\n",
      "logits.shape: torch.Size([8, 18])\n",
      "yb_indices.shape: torch.Size([8, 18])\n",
      "logits.shape: torch.Size([8, 18])\n",
      "yb_indices.shape: torch.Size([8, 18])\n"
     ]
    },
    {
     "name": "stderr",
     "output_type": "stream",
     "text": [
      "570it [00:55, 10.63it/s]"
     ]
    },
    {
     "name": "stdout",
     "output_type": "stream",
     "text": [
      "logits.shape: torch.Size([8, 18])\n",
      "yb_indices.shape: torch.Size([8, 18])\n",
      "logits.shape: torch.Size([8, 18])\n",
      "yb_indices.shape: torch.Size([8, 18])\n"
     ]
    },
    {
     "name": "stderr",
     "output_type": "stream",
     "text": [
      "574it [00:56, 11.20it/s]"
     ]
    },
    {
     "name": "stdout",
     "output_type": "stream",
     "text": [
      "logits.shape: torch.Size([8, 18])\n",
      "yb_indices.shape: torch.Size([8, 18])\n",
      "logits.shape: torch.Size([8, 18])\n",
      "yb_indices.shape: torch.Size([8, 18])\n",
      "logits.shape: torch.Size([8, 18])\n",
      "yb_indices.shape: torch.Size([8, 18])\n"
     ]
    },
    {
     "name": "stderr",
     "output_type": "stream",
     "text": [
      "576it [00:56, 11.49it/s]"
     ]
    },
    {
     "name": "stdout",
     "output_type": "stream",
     "text": [
      "logits.shape: torch.Size([8, 18])\n",
      "yb_indices.shape: torch.Size([8, 18])\n",
      "logits.shape: torch.Size([8, 18])\n",
      "yb_indices.shape: torch.Size([8, 18])\n",
      "logits.shape: torch.Size([8, 18])\n",
      "yb_indices.shape: torch.Size([8, 18])\n"
     ]
    },
    {
     "name": "stderr",
     "output_type": "stream",
     "text": [
      "578it [00:56, 10.30it/s]"
     ]
    },
    {
     "name": "stdout",
     "output_type": "stream",
     "text": [
      "logits.shape: torch.Size([8, 18])\n",
      "yb_indices.shape: torch.Size([8, 18])\n",
      "logits.shape: torch.Size([8, 18])\n",
      "yb_indices.shape: torch.Size([8, 18])\n",
      "logits.shape: torch.Size([8, 18])\n",
      "yb_indices.shape: torch.Size([8, 18])\n"
     ]
    },
    {
     "name": "stderr",
     "output_type": "stream",
     "text": [
      "582it [00:56, 10.97it/s]"
     ]
    },
    {
     "name": "stdout",
     "output_type": "stream",
     "text": [
      "logits.shape: torch.Size([8, 18])\n",
      "yb_indices.shape: torch.Size([8, 18])\n",
      "logits.shape: torch.Size([8, 18])\n",
      "yb_indices.shape: torch.Size([8, 18])\n",
      "logits.shape: torch.Size([8, 18])\n",
      "yb_indices.shape: torch.Size([8, 18])\n"
     ]
    },
    {
     "name": "stderr",
     "output_type": "stream",
     "text": [
      "584it [00:57, 10.87it/s]"
     ]
    },
    {
     "name": "stdout",
     "output_type": "stream",
     "text": [
      "logits.shape: torch.Size([8, 18])\n",
      "yb_indices.shape: torch.Size([8, 18])\n",
      "logits.shape: torch.Size([8, 18])\n",
      "yb_indices.shape: torch.Size([8, 18])\n"
     ]
    },
    {
     "name": "stderr",
     "output_type": "stream",
     "text": [
      "586it [00:57, 10.56it/s]"
     ]
    },
    {
     "name": "stdout",
     "output_type": "stream",
     "text": [
      "logits.shape: torch.Size([8, 18])\n",
      "yb_indices.shape: torch.Size([8, 18])\n",
      "logits.shape: torch.Size([8, 18])\n",
      "yb_indices.shape: torch.Size([8, 18])\n",
      "logits.shape: torch.Size([8, 18])\n",
      "yb_indices.shape: torch.Size([8, 18])\n"
     ]
    },
    {
     "name": "stderr",
     "output_type": "stream",
     "text": [
      "590it [00:57, 10.97it/s]"
     ]
    },
    {
     "name": "stdout",
     "output_type": "stream",
     "text": [
      "logits.shape: torch.Size([8, 18])\n",
      "yb_indices.shape: torch.Size([8, 18])\n",
      "logits.shape: torch.Size([8, 18])\n",
      "yb_indices.shape: torch.Size([8, 18])\n",
      "logits.shape: torch.Size([8, 18])\n",
      "yb_indices.shape: torch.Size([8, 18])\n"
     ]
    },
    {
     "name": "stderr",
     "output_type": "stream",
     "text": [
      "592it [00:57, 10.68it/s]"
     ]
    },
    {
     "name": "stdout",
     "output_type": "stream",
     "text": [
      "logits.shape: torch.Size([8, 18])\n",
      "yb_indices.shape: torch.Size([8, 18])\n",
      "logits.shape: torch.Size([8, 18])\n",
      "yb_indices.shape: torch.Size([8, 18])\n",
      "logits.shape: torch.Size([8, 18])\n",
      "yb_indices.shape: torch.Size([8, 18])\n"
     ]
    },
    {
     "name": "stderr",
     "output_type": "stream",
     "text": [
      "596it [00:58, 11.11it/s]"
     ]
    },
    {
     "name": "stdout",
     "output_type": "stream",
     "text": [
      "logits.shape: torch.Size([8, 18])\n",
      "yb_indices.shape: torch.Size([8, 18])\n",
      "logits.shape: torch.Size([8, 18])\n",
      "yb_indices.shape: torch.Size([8, 18])\n",
      "logits.shape: torch.Size([8, 18])\n",
      "yb_indices.shape: torch.Size([8, 18])\n"
     ]
    },
    {
     "name": "stderr",
     "output_type": "stream",
     "text": [
      "598it [00:58, 11.33it/s]"
     ]
    },
    {
     "name": "stdout",
     "output_type": "stream",
     "text": [
      "logits.shape: torch.Size([8, 18])\n",
      "yb_indices.shape: torch.Size([8, 18])\n",
      "logits.shape: torch.Size([8, 18])\n",
      "yb_indices.shape: torch.Size([8, 18])\n"
     ]
    },
    {
     "name": "stderr",
     "output_type": "stream",
     "text": [
      "600it [00:58, 10.36it/s]"
     ]
    },
    {
     "name": "stdout",
     "output_type": "stream",
     "text": [
      "logits.shape: torch.Size([8, 18])\n",
      "yb_indices.shape: torch.Size([8, 18])\n",
      "logits.shape: torch.Size([8, 18])\n",
      "yb_indices.shape: torch.Size([8, 18])\n",
      "logits.shape: torch.Size([8, 18])\n",
      "yb_indices.shape: torch.Size([8, 18])\n"
     ]
    },
    {
     "name": "stderr",
     "output_type": "stream",
     "text": [
      "604it [00:58, 11.22it/s]"
     ]
    },
    {
     "name": "stdout",
     "output_type": "stream",
     "text": [
      "logits.shape: torch.Size([8, 18])\n",
      "yb_indices.shape: torch.Size([8, 18])\n",
      "logits.shape: torch.Size([8, 18])\n",
      "yb_indices.shape: torch.Size([8, 18])\n",
      "logits.shape: torch.Size([8, 18])\n",
      "yb_indices.shape: torch.Size([8, 18])\n"
     ]
    },
    {
     "name": "stderr",
     "output_type": "stream",
     "text": [
      "606it [00:59, 11.18it/s]"
     ]
    },
    {
     "name": "stdout",
     "output_type": "stream",
     "text": [
      "logits.shape: torch.Size([8, 18])\n",
      "yb_indices.shape: torch.Size([8, 18])\n",
      "logits.shape: torch.Size([8, 18])\n",
      "yb_indices.shape: torch.Size([8, 18])\n",
      "logits.shape: torch.Size([8, 18])\n",
      "yb_indices.shape: torch.Size([8, 18])\n"
     ]
    },
    {
     "name": "stderr",
     "output_type": "stream",
     "text": [
      "610it [00:59, 11.47it/s]"
     ]
    },
    {
     "name": "stdout",
     "output_type": "stream",
     "text": [
      "logits.shape: torch.Size([8, 18])\n",
      "yb_indices.shape: torch.Size([8, 18])\n",
      "logits.shape: torch.Size([8, 18])\n",
      "yb_indices.shape: torch.Size([8, 18])\n",
      "logits.shape: torch.Size([8, 18])\n",
      "yb_indices.shape: torch.Size([8, 18])\n"
     ]
    },
    {
     "name": "stderr",
     "output_type": "stream",
     "text": [
      "612it [00:59, 11.10it/s]"
     ]
    },
    {
     "name": "stdout",
     "output_type": "stream",
     "text": [
      "logits.shape: torch.Size([8, 18])\n",
      "yb_indices.shape: torch.Size([8, 18])\n",
      "logits.shape: torch.Size([8, 18])\n",
      "yb_indices.shape: torch.Size([8, 18])\n",
      "logits.shape: torch.Size([8, 18])\n",
      "yb_indices.shape: torch.Size([8, 18])\n"
     ]
    },
    {
     "name": "stderr",
     "output_type": "stream",
     "text": [
      "616it [00:59, 10.70it/s]"
     ]
    },
    {
     "name": "stdout",
     "output_type": "stream",
     "text": [
      "logits.shape: torch.Size([8, 18])\n",
      "yb_indices.shape: torch.Size([8, 18])\n",
      "logits.shape: torch.Size([8, 18])\n",
      "yb_indices.shape: torch.Size([8, 18])\n",
      "logits.shape: torch.Size([8, 18])\n",
      "yb_indices.shape: torch.Size([8, 18])\n"
     ]
    },
    {
     "name": "stderr",
     "output_type": "stream",
     "text": [
      "618it [01:00, 10.96it/s]"
     ]
    },
    {
     "name": "stdout",
     "output_type": "stream",
     "text": [
      "logits.shape: torch.Size([8, 18])\n",
      "yb_indices.shape: torch.Size([8, 18])\n",
      "logits.shape: torch.Size([8, 18])\n",
      "yb_indices.shape: torch.Size([8, 18])\n",
      "logits.shape: torch.Size([8, 18])\n",
      "yb_indices.shape: torch.Size([8, 18])\n"
     ]
    },
    {
     "name": "stderr",
     "output_type": "stream",
     "text": [
      "621it [01:00,  7.89it/s]"
     ]
    },
    {
     "name": "stdout",
     "output_type": "stream",
     "text": [
      "logits.shape: torch.Size([8, 18])\n",
      "yb_indices.shape: torch.Size([8, 18])\n",
      "logits.shape: torch.Size([8, 18])\n",
      "yb_indices.shape: torch.Size([8, 18])\n"
     ]
    },
    {
     "name": "stderr",
     "output_type": "stream",
     "text": [
      "624it [01:01,  7.69it/s]"
     ]
    },
    {
     "name": "stdout",
     "output_type": "stream",
     "text": [
      "logits.shape: torch.Size([8, 18])\n",
      "yb_indices.shape: torch.Size([8, 18])\n",
      "logits.shape: torch.Size([8, 18])\n",
      "yb_indices.shape: torch.Size([8, 18])\n"
     ]
    },
    {
     "name": "stderr",
     "output_type": "stream",
     "text": [
      "626it [01:01,  8.34it/s]"
     ]
    },
    {
     "name": "stdout",
     "output_type": "stream",
     "text": [
      "logits.shape: torch.Size([8, 18])\n",
      "yb_indices.shape: torch.Size([8, 18])\n",
      "logits.shape: torch.Size([8, 18])\n",
      "yb_indices.shape: torch.Size([8, 18])\n",
      "logits.shape: torch.Size([8, 18])\n",
      "yb_indices.shape: torch.Size([8, 18])\n"
     ]
    },
    {
     "name": "stderr",
     "output_type": "stream",
     "text": [
      "628it [01:01,  8.57it/s]"
     ]
    },
    {
     "name": "stdout",
     "output_type": "stream",
     "text": [
      "logits.shape: torch.Size([8, 18])\n",
      "yb_indices.shape: torch.Size([8, 18])\n",
      "logits.shape: torch.Size([8, 18])\n",
      "yb_indices.shape: torch.Size([8, 18])\n"
     ]
    },
    {
     "name": "stderr",
     "output_type": "stream",
     "text": [
      "630it [01:01,  8.86it/s]"
     ]
    },
    {
     "name": "stdout",
     "output_type": "stream",
     "text": [
      "logits.shape: torch.Size([8, 18])\n",
      "yb_indices.shape: torch.Size([8, 18])\n",
      "logits.shape: torch.Size([8, 18])\n",
      "yb_indices.shape: torch.Size([8, 18])\n"
     ]
    },
    {
     "name": "stderr",
     "output_type": "stream",
     "text": [
      "633it [01:02,  8.48it/s]"
     ]
    },
    {
     "name": "stdout",
     "output_type": "stream",
     "text": [
      "logits.shape: torch.Size([8, 18])\n",
      "yb_indices.shape: torch.Size([8, 18])\n",
      "logits.shape: torch.Size([8, 18])\n",
      "yb_indices.shape: torch.Size([8, 18])\n"
     ]
    },
    {
     "name": "stderr",
     "output_type": "stream",
     "text": [
      "634it [01:02,  8.66it/s]"
     ]
    },
    {
     "name": "stdout",
     "output_type": "stream",
     "text": [
      "logits.shape: torch.Size([8, 18])\n",
      "yb_indices.shape: torch.Size([8, 18])\n",
      "logits.shape: torch.Size([8, 18])\n",
      "yb_indices.shape: torch.Size([8, 18])\n"
     ]
    },
    {
     "name": "stderr",
     "output_type": "stream",
     "text": [
      "637it [01:02,  8.95it/s]"
     ]
    },
    {
     "name": "stdout",
     "output_type": "stream",
     "text": [
      "logits.shape: torch.Size([8, 18])\n",
      "yb_indices.shape: torch.Size([8, 18])\n",
      "logits.shape: torch.Size([8, 18])\n",
      "yb_indices.shape: torch.Size([8, 18])\n"
     ]
    },
    {
     "name": "stderr",
     "output_type": "stream",
     "text": [
      "638it [01:02,  8.09it/s]"
     ]
    },
    {
     "name": "stdout",
     "output_type": "stream",
     "text": [
      "logits.shape: torch.Size([8, 18])\n",
      "yb_indices.shape: torch.Size([8, 18])\n",
      "logits.shape: torch.Size([8, 18])\n",
      "yb_indices.shape: torch.Size([8, 18])\n"
     ]
    },
    {
     "name": "stderr",
     "output_type": "stream",
     "text": [
      "640it [01:02,  8.84it/s]"
     ]
    },
    {
     "name": "stdout",
     "output_type": "stream",
     "text": [
      "logits.shape: torch.Size([8, 18])\n",
      "yb_indices.shape: torch.Size([8, 18])\n",
      "logits.shape: torch.Size([8, 18])\n",
      "yb_indices.shape: torch.Size([8, 18])\n",
      "logits.shape: torch.Size([8, 18])\n",
      "yb_indices.shape: torch.Size([8, 18])\n"
     ]
    },
    {
     "name": "stderr",
     "output_type": "stream",
     "text": [
      "643it [01:03,  9.16it/s]"
     ]
    },
    {
     "name": "stdout",
     "output_type": "stream",
     "text": [
      "logits.shape: torch.Size([8, 18])\n",
      "yb_indices.shape: torch.Size([8, 18])\n",
      "logits.shape: torch.Size([8, 18])\n",
      "yb_indices.shape: torch.Size([8, 18])\n"
     ]
    },
    {
     "name": "stderr",
     "output_type": "stream",
     "text": [
      "645it [01:03,  7.75it/s]"
     ]
    },
    {
     "name": "stdout",
     "output_type": "stream",
     "text": [
      "logits.shape: torch.Size([8, 18])\n",
      "yb_indices.shape: torch.Size([8, 18])\n",
      "logits.shape: torch.Size([8, 18])\n",
      "yb_indices.shape: torch.Size([8, 18])\n"
     ]
    },
    {
     "name": "stderr",
     "output_type": "stream",
     "text": [
      "647it [01:03,  7.80it/s]"
     ]
    },
    {
     "name": "stdout",
     "output_type": "stream",
     "text": [
      "logits.shape: torch.Size([8, 18])\n",
      "yb_indices.shape: torch.Size([8, 18])\n",
      "logits.shape: torch.Size([8, 18])\n",
      "yb_indices.shape: torch.Size([8, 18])\n"
     ]
    },
    {
     "name": "stderr",
     "output_type": "stream",
     "text": [
      "649it [01:04,  7.63it/s]"
     ]
    },
    {
     "name": "stdout",
     "output_type": "stream",
     "text": [
      "logits.shape: torch.Size([8, 18])\n",
      "yb_indices.shape: torch.Size([8, 18])\n",
      "logits.shape: torch.Size([8, 18])\n",
      "yb_indices.shape: torch.Size([8, 18])\n",
      "logits.shape: torch.Size([8, 18])\n",
      "yb_indices.shape: torch.Size([8, 18])\n"
     ]
    },
    {
     "name": "stderr",
     "output_type": "stream",
     "text": [
      "653it [01:04,  8.58it/s]"
     ]
    },
    {
     "name": "stdout",
     "output_type": "stream",
     "text": [
      "logits.shape: torch.Size([8, 18])\n",
      "yb_indices.shape: torch.Size([8, 18])\n",
      "logits.shape: torch.Size([8, 18])\n",
      "yb_indices.shape: torch.Size([8, 18])\n"
     ]
    },
    {
     "name": "stderr",
     "output_type": "stream",
     "text": [
      "654it [01:04,  8.32it/s]"
     ]
    },
    {
     "name": "stdout",
     "output_type": "stream",
     "text": [
      "logits.shape: torch.Size([8, 18])\n",
      "yb_indices.shape: torch.Size([8, 18])\n",
      "logits.shape: torch.Size([8, 18])\n",
      "yb_indices.shape: torch.Size([8, 18])\n"
     ]
    },
    {
     "name": "stderr",
     "output_type": "stream",
     "text": [
      "656it [01:04,  7.48it/s]"
     ]
    },
    {
     "name": "stdout",
     "output_type": "stream",
     "text": [
      "logits.shape: torch.Size([8, 18])\n",
      "yb_indices.shape: torch.Size([8, 18])\n",
      "logits.shape: torch.Size([8, 18])\n",
      "yb_indices.shape: torch.Size([8, 18])\n"
     ]
    },
    {
     "name": "stderr",
     "output_type": "stream",
     "text": [
      "658it [01:05,  7.96it/s]"
     ]
    },
    {
     "name": "stdout",
     "output_type": "stream",
     "text": [
      "logits.shape: torch.Size([8, 18])\n",
      "yb_indices.shape: torch.Size([8, 18])\n",
      "logits.shape: torch.Size([8, 18])\n",
      "yb_indices.shape: torch.Size([8, 18])\n"
     ]
    },
    {
     "name": "stderr",
     "output_type": "stream",
     "text": [
      "660it [01:05,  7.18it/s]"
     ]
    },
    {
     "name": "stdout",
     "output_type": "stream",
     "text": [
      "logits.shape: torch.Size([8, 18])\n",
      "yb_indices.shape: torch.Size([8, 18])\n",
      "logits.shape: torch.Size([8, 18])\n",
      "yb_indices.shape: torch.Size([8, 18])\n"
     ]
    },
    {
     "name": "stderr",
     "output_type": "stream",
     "text": [
      "663it [01:05,  8.12it/s]"
     ]
    },
    {
     "name": "stdout",
     "output_type": "stream",
     "text": [
      "logits.shape: torch.Size([8, 18])\n",
      "yb_indices.shape: torch.Size([8, 18])\n",
      "logits.shape: torch.Size([8, 18])\n",
      "yb_indices.shape: torch.Size([8, 18])\n"
     ]
    },
    {
     "name": "stderr",
     "output_type": "stream",
     "text": [
      "664it [01:05,  8.41it/s]"
     ]
    },
    {
     "name": "stdout",
     "output_type": "stream",
     "text": [
      "logits.shape: torch.Size([8, 18])\n",
      "yb_indices.shape: torch.Size([8, 18])\n",
      "logits.shape: torch.Size([8, 18])\n",
      "yb_indices.shape: torch.Size([8, 18])\n"
     ]
    },
    {
     "name": "stderr",
     "output_type": "stream",
     "text": [
      "666it [01:06,  6.98it/s]"
     ]
    },
    {
     "name": "stdout",
     "output_type": "stream",
     "text": [
      "logits.shape: torch.Size([8, 18])\n",
      "yb_indices.shape: torch.Size([8, 18])\n"
     ]
    },
    {
     "name": "stderr",
     "output_type": "stream",
     "text": [
      "667it [01:06,  5.98it/s]"
     ]
    },
    {
     "name": "stdout",
     "output_type": "stream",
     "text": [
      "logits.shape: torch.Size([8, 18])\n",
      "yb_indices.shape: torch.Size([8, 18])\n"
     ]
    },
    {
     "name": "stderr",
     "output_type": "stream",
     "text": [
      "668it [01:06,  5.60it/s]"
     ]
    },
    {
     "name": "stdout",
     "output_type": "stream",
     "text": [
      "logits.shape: torch.Size([8, 18])\n",
      "yb_indices.shape: torch.Size([8, 18])\n",
      "logits.shape: torch.Size([8, 18])\n",
      "yb_indices.shape: torch.Size([8, 18])\n"
     ]
    },
    {
     "name": "stderr",
     "output_type": "stream",
     "text": [
      "670it [01:07,  4.89it/s]"
     ]
    },
    {
     "name": "stdout",
     "output_type": "stream",
     "text": [
      "logits.shape: torch.Size([8, 18])\n",
      "yb_indices.shape: torch.Size([8, 18])\n"
     ]
    },
    {
     "name": "stderr",
     "output_type": "stream",
     "text": [
      "671it [01:07,  4.39it/s]"
     ]
    },
    {
     "name": "stdout",
     "output_type": "stream",
     "text": [
      "logits.shape: torch.Size([8, 18])\n",
      "yb_indices.shape: torch.Size([8, 18])\n"
     ]
    },
    {
     "name": "stderr",
     "output_type": "stream",
     "text": [
      "672it [01:07,  4.45it/s]"
     ]
    },
    {
     "name": "stdout",
     "output_type": "stream",
     "text": [
      "logits.shape: torch.Size([8, 18])\n",
      "yb_indices.shape: torch.Size([8, 18])\n"
     ]
    },
    {
     "name": "stderr",
     "output_type": "stream",
     "text": [
      "673it [01:07,  4.54it/s]"
     ]
    },
    {
     "name": "stdout",
     "output_type": "stream",
     "text": [
      "logits.shape: torch.Size([8, 18])\n",
      "yb_indices.shape: torch.Size([8, 18])\n",
      "logits.shape: torch.Size([8, 18])\n",
      "yb_indices.shape: torch.Size([8, 18])\n"
     ]
    },
    {
     "name": "stderr",
     "output_type": "stream",
     "text": [
      "675it [01:08,  5.15it/s]"
     ]
    },
    {
     "name": "stdout",
     "output_type": "stream",
     "text": [
      "logits.shape: torch.Size([8, 18])\n",
      "yb_indices.shape: torch.Size([8, 18])\n",
      "logits.shape: torch.Size([8, 18])\n",
      "yb_indices.shape: torch.Size([8, 18])\n"
     ]
    },
    {
     "name": "stderr",
     "output_type": "stream",
     "text": [
      "677it [01:08,  5.02it/s]"
     ]
    },
    {
     "name": "stdout",
     "output_type": "stream",
     "text": [
      "logits.shape: torch.Size([8, 18])\n",
      "yb_indices.shape: torch.Size([8, 18])\n",
      "logits.shape: torch.Size([8, 18])\n",
      "yb_indices.shape: torch.Size([8, 18])\n"
     ]
    },
    {
     "name": "stderr",
     "output_type": "stream",
     "text": [
      "679it [01:08,  5.05it/s]"
     ]
    },
    {
     "name": "stdout",
     "output_type": "stream",
     "text": [
      "logits.shape: torch.Size([8, 18])\n",
      "yb_indices.shape: torch.Size([8, 18])\n",
      "logits.shape: torch.Size([8, 18])\n",
      "yb_indices.shape: torch.Size([8, 18])\n"
     ]
    },
    {
     "name": "stderr",
     "output_type": "stream",
     "text": [
      "681it [01:09,  4.94it/s]"
     ]
    },
    {
     "name": "stdout",
     "output_type": "stream",
     "text": [
      "logits.shape: torch.Size([8, 18])\n",
      "yb_indices.shape: torch.Size([8, 18])\n"
     ]
    },
    {
     "name": "stderr",
     "output_type": "stream",
     "text": [
      "682it [01:09,  4.54it/s]"
     ]
    },
    {
     "name": "stdout",
     "output_type": "stream",
     "text": [
      "logits.shape: torch.Size([8, 18])\n",
      "yb_indices.shape: torch.Size([8, 18])\n"
     ]
    },
    {
     "name": "stderr",
     "output_type": "stream",
     "text": [
      "683it [01:09,  4.31it/s]"
     ]
    },
    {
     "name": "stdout",
     "output_type": "stream",
     "text": [
      "logits.shape: torch.Size([8, 18])\n",
      "yb_indices.shape: torch.Size([8, 18])\n"
     ]
    },
    {
     "name": "stderr",
     "output_type": "stream",
     "text": [
      "684it [01:10,  4.40it/s]"
     ]
    },
    {
     "name": "stdout",
     "output_type": "stream",
     "text": [
      "logits.shape: torch.Size([8, 18])\n",
      "yb_indices.shape: torch.Size([8, 18])\n"
     ]
    },
    {
     "name": "stderr",
     "output_type": "stream",
     "text": [
      "685it [01:10,  4.54it/s]"
     ]
    },
    {
     "name": "stdout",
     "output_type": "stream",
     "text": [
      "logits.shape: torch.Size([8, 18])\n",
      "yb_indices.shape: torch.Size([8, 18])\n",
      "logits.shape: torch.Size([8, 18])\n",
      "yb_indices.shape: torch.Size([8, 18])\n"
     ]
    },
    {
     "name": "stderr",
     "output_type": "stream",
     "text": [
      "687it [01:10,  5.36it/s]"
     ]
    },
    {
     "name": "stdout",
     "output_type": "stream",
     "text": [
      "logits.shape: torch.Size([8, 18])\n",
      "yb_indices.shape: torch.Size([8, 18])\n",
      "logits.shape: torch.Size([8, 18])\n",
      "yb_indices.shape: torch.Size([8, 18])\n"
     ]
    },
    {
     "name": "stderr",
     "output_type": "stream",
     "text": [
      "689it [01:10,  5.57it/s]"
     ]
    },
    {
     "name": "stdout",
     "output_type": "stream",
     "text": [
      "logits.shape: torch.Size([8, 18])\n",
      "yb_indices.shape: torch.Size([8, 18])\n",
      "logits.shape: torch.Size([8, 18])\n",
      "yb_indices.shape: torch.Size([8, 18])\n"
     ]
    },
    {
     "name": "stderr",
     "output_type": "stream",
     "text": [
      "691it [01:11,  5.71it/s]"
     ]
    },
    {
     "name": "stdout",
     "output_type": "stream",
     "text": [
      "logits.shape: torch.Size([8, 18])\n",
      "yb_indices.shape: torch.Size([8, 18])\n",
      "logits.shape: torch.Size([8, 18])\n",
      "yb_indices.shape: torch.Size([8, 18])\n"
     ]
    },
    {
     "name": "stderr",
     "output_type": "stream",
     "text": [
      "693it [01:11,  5.15it/s]"
     ]
    },
    {
     "name": "stdout",
     "output_type": "stream",
     "text": [
      "logits.shape: torch.Size([8, 18])\n",
      "yb_indices.shape: torch.Size([8, 18])\n"
     ]
    },
    {
     "name": "stderr",
     "output_type": "stream",
     "text": [
      "694it [01:11,  5.24it/s]"
     ]
    },
    {
     "name": "stdout",
     "output_type": "stream",
     "text": [
      "logits.shape: torch.Size([8, 18])\n",
      "yb_indices.shape: torch.Size([8, 18])\n",
      "logits.shape: torch.Size([8, 18])\n",
      "yb_indices.shape: torch.Size([8, 18])\n"
     ]
    },
    {
     "name": "stderr",
     "output_type": "stream",
     "text": [
      "695it [01:12,  4.87it/s]"
     ]
    },
    {
     "name": "stdout",
     "output_type": "stream",
     "text": [
      "logits.shape: torch.Size([8, 18])\n",
      "yb_indices.shape: torch.Size([8, 18])\n"
     ]
    },
    {
     "name": "stderr",
     "output_type": "stream",
     "text": [
      "697it [01:12,  4.19it/s]"
     ]
    },
    {
     "name": "stdout",
     "output_type": "stream",
     "text": [
      "logits.shape: torch.Size([8, 18])\n",
      "yb_indices.shape: torch.Size([8, 18])\n"
     ]
    },
    {
     "name": "stderr",
     "output_type": "stream",
     "text": [
      "698it [01:12,  4.23it/s]"
     ]
    },
    {
     "name": "stdout",
     "output_type": "stream",
     "text": [
      "logits.shape: torch.Size([8, 18])\n",
      "yb_indices.shape: torch.Size([8, 18])\n"
     ]
    },
    {
     "name": "stderr",
     "output_type": "stream",
     "text": [
      "699it [01:13,  4.31it/s]"
     ]
    },
    {
     "name": "stdout",
     "output_type": "stream",
     "text": [
      "logits.shape: torch.Size([8, 18])\n",
      "yb_indices.shape: torch.Size([8, 18])\n"
     ]
    },
    {
     "name": "stderr",
     "output_type": "stream",
     "text": [
      "700it [01:13,  4.45it/s]"
     ]
    },
    {
     "name": "stdout",
     "output_type": "stream",
     "text": [
      "logits.shape: torch.Size([8, 18])\n",
      "yb_indices.shape: torch.Size([8, 18])\n",
      "logits.shape: torch.Size([8, 18])\n",
      "yb_indices.shape: torch.Size([8, 18])\n"
     ]
    },
    {
     "name": "stderr",
     "output_type": "stream",
     "text": [
      "702it [01:13,  4.90it/s]"
     ]
    },
    {
     "name": "stdout",
     "output_type": "stream",
     "text": [
      "logits.shape: torch.Size([8, 18])\n",
      "yb_indices.shape: torch.Size([8, 18])\n",
      "logits.shape: torch.Size([8, 18])\n",
      "yb_indices.shape: torch.Size([8, 18])\n"
     ]
    },
    {
     "name": "stderr",
     "output_type": "stream",
     "text": [
      "704it [01:14,  4.58it/s]"
     ]
    },
    {
     "name": "stdout",
     "output_type": "stream",
     "text": [
      "logits.shape: torch.Size([8, 18])\n",
      "yb_indices.shape: torch.Size([8, 18])\n"
     ]
    },
    {
     "name": "stderr",
     "output_type": "stream",
     "text": [
      "705it [01:14,  4.72it/s]"
     ]
    },
    {
     "name": "stdout",
     "output_type": "stream",
     "text": [
      "logits.shape: torch.Size([8, 18])\n",
      "yb_indices.shape: torch.Size([8, 18])\n",
      "logits.shape: torch.Size([8, 18])\n",
      "yb_indices.shape: torch.Size([8, 18])\n"
     ]
    },
    {
     "name": "stderr",
     "output_type": "stream",
     "text": [
      "707it [01:14,  4.64it/s]"
     ]
    },
    {
     "name": "stdout",
     "output_type": "stream",
     "text": [
      "logits.shape: torch.Size([8, 18])\n",
      "yb_indices.shape: torch.Size([8, 18])\n"
     ]
    },
    {
     "name": "stderr",
     "output_type": "stream",
     "text": [
      "708it [01:15,  4.55it/s]"
     ]
    },
    {
     "name": "stdout",
     "output_type": "stream",
     "text": [
      "logits.shape: torch.Size([8, 18])\n",
      "yb_indices.shape: torch.Size([8, 18])\n"
     ]
    },
    {
     "name": "stderr",
     "output_type": "stream",
     "text": [
      "709it [01:15,  4.35it/s]"
     ]
    },
    {
     "name": "stdout",
     "output_type": "stream",
     "text": [
      "logits.shape: torch.Size([8, 18])\n",
      "yb_indices.shape: torch.Size([8, 18])\n"
     ]
    },
    {
     "name": "stderr",
     "output_type": "stream",
     "text": [
      "710it [01:15,  4.36it/s]"
     ]
    },
    {
     "name": "stdout",
     "output_type": "stream",
     "text": [
      "logits.shape: torch.Size([8, 18])\n",
      "yb_indices.shape: torch.Size([8, 18])\n"
     ]
    },
    {
     "name": "stderr",
     "output_type": "stream",
     "text": [
      "711it [01:15,  4.46it/s]"
     ]
    },
    {
     "name": "stdout",
     "output_type": "stream",
     "text": [
      "logits.shape: torch.Size([8, 18])\n",
      "yb_indices.shape: torch.Size([8, 18])\n",
      "logits.shape: torch.Size([8, 18])\n",
      "yb_indices.shape: torch.Size([8, 18])\n"
     ]
    },
    {
     "name": "stderr",
     "output_type": "stream",
     "text": [
      "712it [01:15,  4.50it/s]"
     ]
    },
    {
     "name": "stdout",
     "output_type": "stream",
     "text": [
      "logits.shape: torch.Size([8, 18])\n",
      "yb_indices.shape: torch.Size([8, 18])\n"
     ]
    },
    {
     "name": "stderr",
     "output_type": "stream",
     "text": [
      "714it [01:16,  4.05it/s]"
     ]
    },
    {
     "name": "stdout",
     "output_type": "stream",
     "text": [
      "logits.shape: torch.Size([8, 18])\n",
      "yb_indices.shape: torch.Size([8, 18])\n"
     ]
    },
    {
     "name": "stderr",
     "output_type": "stream",
     "text": [
      "715it [01:16,  4.27it/s]"
     ]
    },
    {
     "name": "stdout",
     "output_type": "stream",
     "text": [
      "logits.shape: torch.Size([8, 18])\n",
      "yb_indices.shape: torch.Size([8, 18])\n"
     ]
    },
    {
     "name": "stderr",
     "output_type": "stream",
     "text": [
      "716it [01:16,  4.33it/s]"
     ]
    },
    {
     "name": "stdout",
     "output_type": "stream",
     "text": [
      "logits.shape: torch.Size([8, 18])\n",
      "yb_indices.shape: torch.Size([8, 18])\n"
     ]
    },
    {
     "name": "stderr",
     "output_type": "stream",
     "text": [
      "717it [01:17,  4.23it/s]"
     ]
    },
    {
     "name": "stdout",
     "output_type": "stream",
     "text": [
      "logits.shape: torch.Size([8, 18])\n",
      "yb_indices.shape: torch.Size([8, 18])\n"
     ]
    },
    {
     "name": "stderr",
     "output_type": "stream",
     "text": [
      "718it [01:17,  4.27it/s]"
     ]
    },
    {
     "name": "stdout",
     "output_type": "stream",
     "text": [
      "logits.shape: torch.Size([8, 18])\n",
      "yb_indices.shape: torch.Size([8, 18])\n"
     ]
    },
    {
     "name": "stderr",
     "output_type": "stream",
     "text": [
      "719it [01:17,  4.21it/s]"
     ]
    },
    {
     "name": "stdout",
     "output_type": "stream",
     "text": [
      "logits.shape: torch.Size([8, 18])\n",
      "yb_indices.shape: torch.Size([8, 18])\n"
     ]
    },
    {
     "name": "stderr",
     "output_type": "stream",
     "text": [
      "720it [01:17,  4.32it/s]"
     ]
    },
    {
     "name": "stdout",
     "output_type": "stream",
     "text": [
      "logits.shape: torch.Size([8, 18])\n",
      "yb_indices.shape: torch.Size([8, 18])\n"
     ]
    },
    {
     "name": "stderr",
     "output_type": "stream",
     "text": [
      "721it [01:18,  4.27it/s]"
     ]
    },
    {
     "name": "stdout",
     "output_type": "stream",
     "text": [
      "logits.shape: torch.Size([8, 18])\n",
      "yb_indices.shape: torch.Size([8, 18])\n"
     ]
    },
    {
     "name": "stderr",
     "output_type": "stream",
     "text": [
      "722it [01:18,  4.07it/s]"
     ]
    },
    {
     "name": "stdout",
     "output_type": "stream",
     "text": [
      "logits.shape: torch.Size([8, 18])\n",
      "yb_indices.shape: torch.Size([8, 18])\n"
     ]
    },
    {
     "name": "stderr",
     "output_type": "stream",
     "text": [
      "723it [01:18,  4.12it/s]"
     ]
    },
    {
     "name": "stdout",
     "output_type": "stream",
     "text": [
      "logits.shape: torch.Size([8, 18])\n",
      "yb_indices.shape: torch.Size([8, 18])\n"
     ]
    },
    {
     "name": "stderr",
     "output_type": "stream",
     "text": [
      "724it [01:18,  4.23it/s]"
     ]
    },
    {
     "name": "stdout",
     "output_type": "stream",
     "text": [
      "logits.shape: torch.Size([8, 18])\n",
      "yb_indices.shape: torch.Size([8, 18])\n",
      "logits.shape: torch.Size([8, 18])\n",
      "yb_indices.shape: torch.Size([8, 18])\n"
     ]
    },
    {
     "name": "stderr",
     "output_type": "stream",
     "text": [
      "726it [01:19,  3.89it/s]"
     ]
    },
    {
     "name": "stdout",
     "output_type": "stream",
     "text": [
      "logits.shape: torch.Size([8, 18])\n",
      "yb_indices.shape: torch.Size([8, 18])\n"
     ]
    },
    {
     "name": "stderr",
     "output_type": "stream",
     "text": [
      "727it [01:19,  4.02it/s]"
     ]
    },
    {
     "name": "stdout",
     "output_type": "stream",
     "text": [
      "logits.shape: torch.Size([8, 18])\n",
      "yb_indices.shape: torch.Size([8, 18])\n"
     ]
    },
    {
     "name": "stderr",
     "output_type": "stream",
     "text": [
      "728it [01:19,  3.89it/s]"
     ]
    },
    {
     "name": "stdout",
     "output_type": "stream",
     "text": [
      "logits.shape: torch.Size([8, 18])\n",
      "yb_indices.shape: torch.Size([8, 18])\n"
     ]
    },
    {
     "name": "stderr",
     "output_type": "stream",
     "text": [
      "729it [01:20,  4.04it/s]"
     ]
    },
    {
     "name": "stdout",
     "output_type": "stream",
     "text": [
      "logits.shape: torch.Size([8, 18])\n",
      "yb_indices.shape: torch.Size([8, 18])\n"
     ]
    },
    {
     "name": "stderr",
     "output_type": "stream",
     "text": [
      "730it [01:20,  4.01it/s]"
     ]
    },
    {
     "name": "stdout",
     "output_type": "stream",
     "text": [
      "logits.shape: torch.Size([8, 18])\n",
      "yb_indices.shape: torch.Size([8, 18])\n"
     ]
    },
    {
     "name": "stderr",
     "output_type": "stream",
     "text": [
      "731it [01:20,  4.14it/s]"
     ]
    },
    {
     "name": "stdout",
     "output_type": "stream",
     "text": [
      "logits.shape: torch.Size([8, 18])\n",
      "yb_indices.shape: torch.Size([8, 18])\n"
     ]
    },
    {
     "name": "stderr",
     "output_type": "stream",
     "text": [
      "732it [01:20,  4.14it/s]"
     ]
    },
    {
     "name": "stdout",
     "output_type": "stream",
     "text": [
      "logits.shape: torch.Size([8, 18])\n",
      "yb_indices.shape: torch.Size([8, 18])\n"
     ]
    },
    {
     "name": "stderr",
     "output_type": "stream",
     "text": [
      "733it [01:21,  4.15it/s]"
     ]
    },
    {
     "name": "stdout",
     "output_type": "stream",
     "text": [
      "logits.shape: torch.Size([8, 18])\n",
      "yb_indices.shape: torch.Size([8, 18])\n"
     ]
    },
    {
     "name": "stderr",
     "output_type": "stream",
     "text": [
      "734it [01:21,  4.34it/s]"
     ]
    },
    {
     "name": "stdout",
     "output_type": "stream",
     "text": [
      "logits.shape: torch.Size([8, 18])\n",
      "yb_indices.shape: torch.Size([8, 18])\n"
     ]
    },
    {
     "name": "stderr",
     "output_type": "stream",
     "text": [
      "735it [01:21,  4.26it/s]"
     ]
    },
    {
     "name": "stdout",
     "output_type": "stream",
     "text": [
      "logits.shape: torch.Size([8, 18])\n",
      "yb_indices.shape: torch.Size([8, 18])\n"
     ]
    },
    {
     "name": "stderr",
     "output_type": "stream",
     "text": [
      "736it [01:21,  4.09it/s]"
     ]
    },
    {
     "name": "stdout",
     "output_type": "stream",
     "text": [
      "logits.shape: torch.Size([8, 18])\n",
      "yb_indices.shape: torch.Size([8, 18])\n",
      "logits.shape: torch.Size([8, 18])\n",
      "yb_indices.shape: torch.Size([8, 18])\n"
     ]
    },
    {
     "name": "stderr",
     "output_type": "stream",
     "text": [
      "738it [01:22,  3.78it/s]"
     ]
    },
    {
     "name": "stdout",
     "output_type": "stream",
     "text": [
      "logits.shape: torch.Size([8, 18])\n",
      "yb_indices.shape: torch.Size([8, 18])\n"
     ]
    },
    {
     "name": "stderr",
     "output_type": "stream",
     "text": [
      "739it [01:22,  3.87it/s]"
     ]
    },
    {
     "name": "stdout",
     "output_type": "stream",
     "text": [
      "logits.shape: torch.Size([8, 18])\n",
      "yb_indices.shape: torch.Size([8, 18])\n",
      "logits.shape: torch.Size([8, 18])\n",
      "yb_indices.shape: torch.Size([8, 18])\n"
     ]
    },
    {
     "name": "stderr",
     "output_type": "stream",
     "text": [
      "740it [01:22,  3.54it/s]"
     ]
    },
    {
     "name": "stdout",
     "output_type": "stream",
     "text": [
      "logits.shape: torch.Size([8, 18])\n",
      "yb_indices.shape: torch.Size([8, 18])\n"
     ]
    },
    {
     "name": "stderr",
     "output_type": "stream",
     "text": [
      "741it [01:23,  3.39it/s]"
     ]
    },
    {
     "name": "stdout",
     "output_type": "stream",
     "text": [
      "logits.shape: torch.Size([8, 18])\n",
      "yb_indices.shape: torch.Size([8, 18])\n"
     ]
    },
    {
     "name": "stderr",
     "output_type": "stream",
     "text": [
      "743it [01:23,  3.40it/s]"
     ]
    },
    {
     "name": "stdout",
     "output_type": "stream",
     "text": [
      "logits.shape: torch.Size([8, 18])\n",
      "yb_indices.shape: torch.Size([8, 18])\n",
      "logits.shape: torch.Size([8, 18])\n",
      "yb_indices.shape: torch.Size([8, 18])\n"
     ]
    },
    {
     "name": "stderr",
     "output_type": "stream",
     "text": [
      "744it [01:24,  3.40it/s]"
     ]
    },
    {
     "name": "stdout",
     "output_type": "stream",
     "text": [
      "logits.shape: torch.Size([8, 18])\n",
      "yb_indices.shape: torch.Size([8, 18])\n"
     ]
    },
    {
     "name": "stderr",
     "output_type": "stream",
     "text": [
      "746it [01:24,  3.38it/s]"
     ]
    },
    {
     "name": "stdout",
     "output_type": "stream",
     "text": [
      "logits.shape: torch.Size([8, 18])\n",
      "yb_indices.shape: torch.Size([8, 18])\n",
      "logits.shape: torch.Size([8, 18])\n",
      "yb_indices.shape: torch.Size([8, 18])\n"
     ]
    },
    {
     "name": "stderr",
     "output_type": "stream",
     "text": [
      "747it [01:25,  3.45it/s]"
     ]
    },
    {
     "name": "stdout",
     "output_type": "stream",
     "text": [
      "logits.shape: torch.Size([8, 18])\n",
      "yb_indices.shape: torch.Size([8, 18])\n"
     ]
    },
    {
     "name": "stderr",
     "output_type": "stream",
     "text": [
      "749it [01:25,  3.17it/s]"
     ]
    },
    {
     "name": "stdout",
     "output_type": "stream",
     "text": [
      "logits.shape: torch.Size([8, 18])\n",
      "yb_indices.shape: torch.Size([8, 18])\n"
     ]
    },
    {
     "name": "stderr",
     "output_type": "stream",
     "text": [
      "750it [01:26,  3.31it/s]"
     ]
    },
    {
     "name": "stdout",
     "output_type": "stream",
     "text": [
      "logits.shape: torch.Size([8, 18])\n",
      "yb_indices.shape: torch.Size([8, 18])\n"
     ]
    },
    {
     "name": "stderr",
     "output_type": "stream",
     "text": [
      "751it [01:26,  3.48it/s]"
     ]
    },
    {
     "name": "stdout",
     "output_type": "stream",
     "text": [
      "logits.shape: torch.Size([8, 18])\n",
      "yb_indices.shape: torch.Size([8, 18])\n"
     ]
    },
    {
     "name": "stderr",
     "output_type": "stream",
     "text": [
      "752it [01:26,  3.75it/s]"
     ]
    },
    {
     "name": "stdout",
     "output_type": "stream",
     "text": [
      "logits.shape: torch.Size([8, 18])\n",
      "yb_indices.shape: torch.Size([8, 18])\n"
     ]
    },
    {
     "name": "stderr",
     "output_type": "stream",
     "text": [
      "753it [01:26,  3.87it/s]"
     ]
    },
    {
     "name": "stdout",
     "output_type": "stream",
     "text": [
      "logits.shape: torch.Size([8, 18])\n",
      "yb_indices.shape: torch.Size([8, 18])\n"
     ]
    },
    {
     "name": "stderr",
     "output_type": "stream",
     "text": [
      "754it [01:26,  4.09it/s]"
     ]
    },
    {
     "name": "stdout",
     "output_type": "stream",
     "text": [
      "logits.shape: torch.Size([8, 18])\n",
      "yb_indices.shape: torch.Size([8, 18])\n",
      "logits.shape: torch.Size([8, 18])\n",
      "yb_indices.shape: torch.Size([8, 18])\n"
     ]
    },
    {
     "name": "stderr",
     "output_type": "stream",
     "text": [
      "756it [01:27,  4.05it/s]"
     ]
    },
    {
     "name": "stdout",
     "output_type": "stream",
     "text": [
      "logits.shape: torch.Size([8, 18])\n",
      "yb_indices.shape: torch.Size([8, 18])\n"
     ]
    },
    {
     "name": "stderr",
     "output_type": "stream",
     "text": [
      "757it [01:27,  4.29it/s]"
     ]
    },
    {
     "name": "stdout",
     "output_type": "stream",
     "text": [
      "logits.shape: torch.Size([8, 18])\n",
      "yb_indices.shape: torch.Size([8, 18])\n",
      "logits.shape: torch.Size([8, 18])\n",
      "yb_indices.shape: torch.Size([8, 18])\n"
     ]
    },
    {
     "name": "stderr",
     "output_type": "stream",
     "text": [
      "759it [01:27,  4.79it/s]"
     ]
    },
    {
     "name": "stdout",
     "output_type": "stream",
     "text": [
      "logits.shape: torch.Size([8, 18])\n",
      "yb_indices.shape: torch.Size([8, 18])\n",
      "logits.shape: torch.Size([8, 18])\n",
      "yb_indices.shape: torch.Size([8, 18])\n"
     ]
    },
    {
     "name": "stderr",
     "output_type": "stream",
     "text": [
      "761it [01:28,  4.91it/s]"
     ]
    },
    {
     "name": "stdout",
     "output_type": "stream",
     "text": [
      "logits.shape: torch.Size([8, 18])\n",
      "yb_indices.shape: torch.Size([8, 18])\n",
      "logits.shape: torch.Size([8, 18])\n",
      "yb_indices.shape: torch.Size([8, 18])\n"
     ]
    },
    {
     "name": "stderr",
     "output_type": "stream",
     "text": [
      "763it [01:28,  4.71it/s]"
     ]
    },
    {
     "name": "stdout",
     "output_type": "stream",
     "text": [
      "logits.shape: torch.Size([8, 18])\n",
      "yb_indices.shape: torch.Size([8, 18])\n"
     ]
    },
    {
     "name": "stderr",
     "output_type": "stream",
     "text": [
      "764it [01:29,  4.71it/s]"
     ]
    },
    {
     "name": "stdout",
     "output_type": "stream",
     "text": [
      "logits.shape: torch.Size([8, 18])\n",
      "yb_indices.shape: torch.Size([8, 18])\n",
      "logits.shape: torch.Size([8, 18])\n",
      "yb_indices.shape: torch.Size([8, 18])\n"
     ]
    },
    {
     "name": "stderr",
     "output_type": "stream",
     "text": [
      "766it [01:29,  4.73it/s]"
     ]
    },
    {
     "name": "stdout",
     "output_type": "stream",
     "text": [
      "logits.shape: torch.Size([8, 18])\n",
      "yb_indices.shape: torch.Size([8, 18])\n"
     ]
    },
    {
     "name": "stderr",
     "output_type": "stream",
     "text": [
      "767it [01:29,  4.70it/s]"
     ]
    },
    {
     "name": "stdout",
     "output_type": "stream",
     "text": [
      "logits.shape: torch.Size([8, 18])\n",
      "yb_indices.shape: torch.Size([8, 18])\n"
     ]
    },
    {
     "name": "stderr",
     "output_type": "stream",
     "text": [
      "768it [01:29,  4.63it/s]"
     ]
    },
    {
     "name": "stdout",
     "output_type": "stream",
     "text": [
      "logits.shape: torch.Size([8, 18])\n",
      "yb_indices.shape: torch.Size([8, 18])\n"
     ]
    },
    {
     "name": "stderr",
     "output_type": "stream",
     "text": [
      "769it [01:30,  4.81it/s]"
     ]
    },
    {
     "name": "stdout",
     "output_type": "stream",
     "text": [
      "logits.shape: torch.Size([8, 18])\n",
      "yb_indices.shape: torch.Size([8, 18])\n"
     ]
    },
    {
     "name": "stderr",
     "output_type": "stream",
     "text": [
      "770it [01:30,  4.80it/s]"
     ]
    },
    {
     "name": "stdout",
     "output_type": "stream",
     "text": [
      "logits.shape: torch.Size([8, 18])\n",
      "yb_indices.shape: torch.Size([8, 18])\n",
      "logits.shape: torch.Size([8, 18])\n",
      "yb_indices.shape: torch.Size([8, 18])\n"
     ]
    },
    {
     "name": "stderr",
     "output_type": "stream",
     "text": [
      "772it [01:30,  5.10it/s]"
     ]
    },
    {
     "name": "stdout",
     "output_type": "stream",
     "text": [
      "logits.shape: torch.Size([8, 18])\n",
      "yb_indices.shape: torch.Size([8, 18])\n",
      "logits.shape: torch.Size([8, 18])\n",
      "yb_indices.shape: torch.Size([8, 18])\n"
     ]
    },
    {
     "name": "stderr",
     "output_type": "stream",
     "text": [
      "774it [01:31,  5.18it/s]"
     ]
    },
    {
     "name": "stdout",
     "output_type": "stream",
     "text": [
      "logits.shape: torch.Size([8, 18])\n",
      "yb_indices.shape: torch.Size([8, 18])\n"
     ]
    },
    {
     "name": "stderr",
     "output_type": "stream",
     "text": [
      "775it [01:31,  4.94it/s]"
     ]
    },
    {
     "name": "stdout",
     "output_type": "stream",
     "text": [
      "logits.shape: torch.Size([8, 18])\n",
      "yb_indices.shape: torch.Size([8, 18])\n"
     ]
    },
    {
     "name": "stderr",
     "output_type": "stream",
     "text": [
      "776it [01:31,  4.82it/s]"
     ]
    },
    {
     "name": "stdout",
     "output_type": "stream",
     "text": [
      "logits.shape: torch.Size([8, 18])\n",
      "yb_indices.shape: torch.Size([8, 18])\n"
     ]
    },
    {
     "name": "stderr",
     "output_type": "stream",
     "text": [
      "777it [01:31,  4.44it/s]"
     ]
    },
    {
     "name": "stdout",
     "output_type": "stream",
     "text": [
      "logits.shape: torch.Size([8, 18])\n",
      "yb_indices.shape: torch.Size([8, 18])\n"
     ]
    },
    {
     "name": "stderr",
     "output_type": "stream",
     "text": [
      "778it [01:31,  4.50it/s]"
     ]
    },
    {
     "name": "stdout",
     "output_type": "stream",
     "text": [
      "logits.shape: torch.Size([8, 18])\n",
      "yb_indices.shape: torch.Size([8, 18])\n"
     ]
    },
    {
     "name": "stderr",
     "output_type": "stream",
     "text": [
      "779it [01:32,  4.51it/s]"
     ]
    },
    {
     "name": "stdout",
     "output_type": "stream",
     "text": [
      "logits.shape: torch.Size([8, 18])\n",
      "yb_indices.shape: torch.Size([8, 18])\n"
     ]
    },
    {
     "name": "stderr",
     "output_type": "stream",
     "text": [
      "780it [01:32,  4.49it/s]"
     ]
    },
    {
     "name": "stdout",
     "output_type": "stream",
     "text": [
      "logits.shape: torch.Size([8, 18])\n",
      "yb_indices.shape: torch.Size([8, 18])\n"
     ]
    },
    {
     "name": "stderr",
     "output_type": "stream",
     "text": [
      "781it [01:32,  4.72it/s]"
     ]
    },
    {
     "name": "stdout",
     "output_type": "stream",
     "text": [
      "logits.shape: torch.Size([8, 18])\n",
      "yb_indices.shape: torch.Size([8, 18])\n",
      "logits.shape: torch.Size([8, 18])\n",
      "yb_indices.shape: torch.Size([8, 18])\n"
     ]
    },
    {
     "name": "stderr",
     "output_type": "stream",
     "text": [
      "783it [01:33,  4.68it/s]"
     ]
    },
    {
     "name": "stdout",
     "output_type": "stream",
     "text": [
      "logits.shape: torch.Size([8, 18])\n",
      "yb_indices.shape: torch.Size([8, 18])\n",
      "logits.shape: torch.Size([8, 18])\n",
      "yb_indices.shape: torch.Size([8, 18])\n"
     ]
    },
    {
     "name": "stderr",
     "output_type": "stream",
     "text": [
      "785it [01:33,  4.50it/s]"
     ]
    },
    {
     "name": "stdout",
     "output_type": "stream",
     "text": [
      "logits.shape: torch.Size([8, 18])\n",
      "yb_indices.shape: torch.Size([8, 18])\n"
     ]
    },
    {
     "name": "stderr",
     "output_type": "stream",
     "text": [
      "786it [01:33,  4.53it/s]"
     ]
    },
    {
     "name": "stdout",
     "output_type": "stream",
     "text": [
      "logits.shape: torch.Size([8, 18])\n",
      "yb_indices.shape: torch.Size([8, 18])\n"
     ]
    },
    {
     "name": "stderr",
     "output_type": "stream",
     "text": [
      "787it [01:33,  4.53it/s]"
     ]
    },
    {
     "name": "stdout",
     "output_type": "stream",
     "text": [
      "logits.shape: torch.Size([8, 18])\n",
      "yb_indices.shape: torch.Size([8, 18])\n",
      "logits.shape: torch.Size([8, 18])\n",
      "yb_indices.shape: torch.Size([8, 18])\n"
     ]
    },
    {
     "name": "stderr",
     "output_type": "stream",
     "text": [
      "789it [01:34,  4.75it/s]"
     ]
    },
    {
     "name": "stdout",
     "output_type": "stream",
     "text": [
      "logits.shape: torch.Size([8, 18])\n",
      "yb_indices.shape: torch.Size([8, 18])\n",
      "logits.shape: torch.Size([8, 18])\n",
      "yb_indices.shape: torch.Size([8, 18])\n"
     ]
    },
    {
     "name": "stderr",
     "output_type": "stream",
     "text": [
      "791it [01:34,  4.90it/s]"
     ]
    },
    {
     "name": "stdout",
     "output_type": "stream",
     "text": [
      "logits.shape: torch.Size([8, 18])\n",
      "yb_indices.shape: torch.Size([8, 18])\n",
      "logits.shape: torch.Size([8, 18])\n",
      "yb_indices.shape: torch.Size([8, 18])\n"
     ]
    },
    {
     "name": "stderr",
     "output_type": "stream",
     "text": [
      "793it [01:35,  4.80it/s]"
     ]
    },
    {
     "name": "stdout",
     "output_type": "stream",
     "text": [
      "logits.shape: torch.Size([8, 18])\n",
      "yb_indices.shape: torch.Size([8, 18])\n"
     ]
    },
    {
     "name": "stderr",
     "output_type": "stream",
     "text": [
      "794it [01:35,  4.34it/s]"
     ]
    },
    {
     "name": "stdout",
     "output_type": "stream",
     "text": [
      "logits.shape: torch.Size([8, 18])\n",
      "yb_indices.shape: torch.Size([8, 18])\n"
     ]
    },
    {
     "name": "stderr",
     "output_type": "stream",
     "text": [
      "795it [01:35,  3.96it/s]"
     ]
    },
    {
     "name": "stdout",
     "output_type": "stream",
     "text": [
      "logits.shape: torch.Size([8, 18])\n",
      "yb_indices.shape: torch.Size([8, 18])\n"
     ]
    },
    {
     "name": "stderr",
     "output_type": "stream",
     "text": [
      "796it [01:35,  3.91it/s]"
     ]
    },
    {
     "name": "stdout",
     "output_type": "stream",
     "text": [
      "logits.shape: torch.Size([8, 18])\n",
      "yb_indices.shape: torch.Size([8, 18])\n"
     ]
    },
    {
     "name": "stderr",
     "output_type": "stream",
     "text": [
      "797it [01:36,  4.00it/s]"
     ]
    },
    {
     "name": "stdout",
     "output_type": "stream",
     "text": [
      "logits.shape: torch.Size([8, 18])\n",
      "yb_indices.shape: torch.Size([8, 18])\n",
      "logits.shape: torch.Size([8, 18])\n",
      "yb_indices.shape: torch.Size([8, 18])\n"
     ]
    },
    {
     "name": "stderr",
     "output_type": "stream",
     "text": [
      "799it [01:36,  3.77it/s]"
     ]
    },
    {
     "name": "stdout",
     "output_type": "stream",
     "text": [
      "logits.shape: torch.Size([8, 18])\n",
      "yb_indices.shape: torch.Size([8, 18])\n"
     ]
    },
    {
     "name": "stderr",
     "output_type": "stream",
     "text": [
      "800it [01:37,  4.02it/s]"
     ]
    },
    {
     "name": "stdout",
     "output_type": "stream",
     "text": [
      "logits.shape: torch.Size([8, 18])\n",
      "yb_indices.shape: torch.Size([8, 18])\n"
     ]
    },
    {
     "name": "stderr",
     "output_type": "stream",
     "text": [
      "801it [01:37,  4.16it/s]"
     ]
    },
    {
     "name": "stdout",
     "output_type": "stream",
     "text": [
      "logits.shape: torch.Size([8, 18])\n",
      "yb_indices.shape: torch.Size([8, 18])\n"
     ]
    },
    {
     "name": "stderr",
     "output_type": "stream",
     "text": [
      "802it [01:37,  4.10it/s]"
     ]
    },
    {
     "name": "stdout",
     "output_type": "stream",
     "text": [
      "logits.shape: torch.Size([8, 18])\n",
      "yb_indices.shape: torch.Size([8, 18])\n",
      "logits.shape: torch.Size([8, 18])\n",
      "yb_indices.shape: torch.Size([8, 18])\n"
     ]
    },
    {
     "name": "stderr",
     "output_type": "stream",
     "text": [
      "804it [01:37,  4.09it/s]"
     ]
    },
    {
     "name": "stdout",
     "output_type": "stream",
     "text": [
      "logits.shape: torch.Size([8, 18])\n",
      "yb_indices.shape: torch.Size([8, 18])\n"
     ]
    },
    {
     "name": "stderr",
     "output_type": "stream",
     "text": [
      "805it [01:38,  4.16it/s]"
     ]
    },
    {
     "name": "stdout",
     "output_type": "stream",
     "text": [
      "logits.shape: torch.Size([8, 18])\n",
      "yb_indices.shape: torch.Size([8, 18])\n"
     ]
    },
    {
     "name": "stderr",
     "output_type": "stream",
     "text": [
      "806it [01:38,  4.04it/s]"
     ]
    },
    {
     "name": "stdout",
     "output_type": "stream",
     "text": [
      "logits.shape: torch.Size([8, 18])\n",
      "yb_indices.shape: torch.Size([8, 18])\n"
     ]
    },
    {
     "name": "stderr",
     "output_type": "stream",
     "text": [
      "807it [01:38,  4.04it/s]"
     ]
    },
    {
     "name": "stdout",
     "output_type": "stream",
     "text": [
      "logits.shape: torch.Size([8, 18])\n",
      "yb_indices.shape: torch.Size([8, 18])\n"
     ]
    },
    {
     "name": "stderr",
     "output_type": "stream",
     "text": [
      "808it [01:38,  3.99it/s]"
     ]
    },
    {
     "name": "stdout",
     "output_type": "stream",
     "text": [
      "logits.shape: torch.Size([8, 18])\n",
      "yb_indices.shape: torch.Size([8, 18])\n"
     ]
    },
    {
     "name": "stderr",
     "output_type": "stream",
     "text": [
      "809it [01:39,  3.98it/s]"
     ]
    },
    {
     "name": "stdout",
     "output_type": "stream",
     "text": [
      "logits.shape: torch.Size([8, 18])\n",
      "yb_indices.shape: torch.Size([8, 18])\n"
     ]
    },
    {
     "name": "stderr",
     "output_type": "stream",
     "text": [
      "810it [01:39,  4.12it/s]"
     ]
    },
    {
     "name": "stdout",
     "output_type": "stream",
     "text": [
      "logits.shape: torch.Size([8, 18])\n",
      "yb_indices.shape: torch.Size([8, 18])\n"
     ]
    },
    {
     "name": "stderr",
     "output_type": "stream",
     "text": [
      "811it [01:39,  4.04it/s]"
     ]
    },
    {
     "name": "stdout",
     "output_type": "stream",
     "text": [
      "logits.shape: torch.Size([8, 18])\n",
      "yb_indices.shape: torch.Size([8, 18])\n"
     ]
    },
    {
     "name": "stderr",
     "output_type": "stream",
     "text": [
      "812it [01:39,  4.13it/s]"
     ]
    },
    {
     "name": "stdout",
     "output_type": "stream",
     "text": [
      "logits.shape: torch.Size([8, 18])\n",
      "yb_indices.shape: torch.Size([8, 18])\n"
     ]
    },
    {
     "name": "stderr",
     "output_type": "stream",
     "text": [
      "813it [01:40,  3.88it/s]"
     ]
    },
    {
     "name": "stdout",
     "output_type": "stream",
     "text": [
      "logits.shape: torch.Size([8, 18])\n",
      "yb_indices.shape: torch.Size([8, 18])\n"
     ]
    },
    {
     "name": "stderr",
     "output_type": "stream",
     "text": [
      "814it [01:40,  4.06it/s]"
     ]
    },
    {
     "name": "stdout",
     "output_type": "stream",
     "text": [
      "logits.shape: torch.Size([8, 18])\n",
      "yb_indices.shape: torch.Size([8, 18])\n"
     ]
    },
    {
     "name": "stderr",
     "output_type": "stream",
     "text": [
      "815it [01:40,  8.10it/s]"
     ]
    },
    {
     "name": "stdout",
     "output_type": "stream",
     "text": [
      "logits.shape: torch.Size([8, 18])\n",
      "yb_indices.shape: torch.Size([8, 18])\n",
      "Epoch 1 | Train Loss: 1.9782 | Train Acc: 0.5084\n"
     ]
    },
    {
     "name": "stderr",
     "output_type": "stream",
     "text": [
      "\n"
     ]
    },
    {
     "name": "stdout",
     "output_type": "stream",
     "text": [
      "Epoch 1 | Val Acc: 0.5530\n"
     ]
    },
    {
     "name": "stderr",
     "output_type": "stream",
     "text": [
      "0it [00:00, ?it/s]"
     ]
    },
    {
     "name": "stdout",
     "output_type": "stream",
     "text": [
      "Batch 0: x_imu shape torch.Size([8, 103, 355]), x_tof shape torch.Size([8, 18])\n",
      "logits.shape: torch.Size([8, 18])\n",
      "yb_indices.shape: torch.Size([8, 18])\n"
     ]
    },
    {
     "name": "stderr",
     "output_type": "stream",
     "text": [
      "2it [00:00,  4.14it/s]"
     ]
    },
    {
     "name": "stdout",
     "output_type": "stream",
     "text": [
      "logits.shape: torch.Size([8, 18])\n",
      "yb_indices.shape: torch.Size([8, 18])\n"
     ]
    },
    {
     "name": "stderr",
     "output_type": "stream",
     "text": [
      "3it [00:00,  4.39it/s]"
     ]
    },
    {
     "name": "stdout",
     "output_type": "stream",
     "text": [
      "logits.shape: torch.Size([8, 18])\n",
      "yb_indices.shape: torch.Size([8, 18])\n"
     ]
    },
    {
     "name": "stderr",
     "output_type": "stream",
     "text": [
      "4it [00:00,  4.58it/s]"
     ]
    },
    {
     "name": "stdout",
     "output_type": "stream",
     "text": [
      "logits.shape: torch.Size([8, 18])\n",
      "yb_indices.shape: torch.Size([8, 18])\n"
     ]
    },
    {
     "name": "stderr",
     "output_type": "stream",
     "text": [
      "5it [00:01,  4.63it/s]"
     ]
    },
    {
     "name": "stdout",
     "output_type": "stream",
     "text": [
      "logits.shape: torch.Size([8, 18])\n",
      "yb_indices.shape: torch.Size([8, 18])\n",
      "logits.shape: torch.Size([8, 18])\n",
      "yb_indices.shape: torch.Size([8, 18])\n"
     ]
    },
    {
     "name": "stderr",
     "output_type": "stream",
     "text": [
      "7it [00:01,  4.39it/s]"
     ]
    },
    {
     "name": "stdout",
     "output_type": "stream",
     "text": [
      "logits.shape: torch.Size([8, 18])\n",
      "yb_indices.shape: torch.Size([8, 18])\n"
     ]
    },
    {
     "name": "stderr",
     "output_type": "stream",
     "text": [
      "8it [00:01,  4.12it/s]"
     ]
    },
    {
     "name": "stdout",
     "output_type": "stream",
     "text": [
      "logits.shape: torch.Size([8, 18])\n",
      "yb_indices.shape: torch.Size([8, 18])\n"
     ]
    },
    {
     "name": "stderr",
     "output_type": "stream",
     "text": [
      "9it [00:02,  4.20it/s]"
     ]
    },
    {
     "name": "stdout",
     "output_type": "stream",
     "text": [
      "logits.shape: torch.Size([8, 18])\n",
      "yb_indices.shape: torch.Size([8, 18])\n"
     ]
    },
    {
     "name": "stderr",
     "output_type": "stream",
     "text": [
      "10it [00:02,  4.30it/s]"
     ]
    },
    {
     "name": "stdout",
     "output_type": "stream",
     "text": [
      "logits.shape: torch.Size([8, 18])\n",
      "yb_indices.shape: torch.Size([8, 18])\n"
     ]
    },
    {
     "name": "stderr",
     "output_type": "stream",
     "text": [
      "11it [00:02,  4.40it/s]"
     ]
    },
    {
     "name": "stdout",
     "output_type": "stream",
     "text": [
      "logits.shape: torch.Size([8, 18])\n",
      "yb_indices.shape: torch.Size([8, 18])\n",
      "logits.shape: torch.Size([8, 18])\n",
      "yb_indices.shape: torch.Size([8, 18])\n"
     ]
    },
    {
     "name": "stderr",
     "output_type": "stream",
     "text": [
      "13it [00:03,  3.98it/s]"
     ]
    },
    {
     "name": "stdout",
     "output_type": "stream",
     "text": [
      "logits.shape: torch.Size([8, 18])\n",
      "yb_indices.shape: torch.Size([8, 18])\n"
     ]
    },
    {
     "name": "stderr",
     "output_type": "stream",
     "text": [
      "14it [00:03,  4.09it/s]"
     ]
    },
    {
     "name": "stdout",
     "output_type": "stream",
     "text": [
      "logits.shape: torch.Size([8, 18])\n",
      "yb_indices.shape: torch.Size([8, 18])\n"
     ]
    },
    {
     "name": "stderr",
     "output_type": "stream",
     "text": [
      "15it [00:03,  4.10it/s]"
     ]
    },
    {
     "name": "stdout",
     "output_type": "stream",
     "text": [
      "logits.shape: torch.Size([8, 18])\n",
      "yb_indices.shape: torch.Size([8, 18])\n"
     ]
    },
    {
     "name": "stderr",
     "output_type": "stream",
     "text": [
      "16it [00:03,  4.23it/s]"
     ]
    },
    {
     "name": "stdout",
     "output_type": "stream",
     "text": [
      "logits.shape: torch.Size([8, 18])\n",
      "yb_indices.shape: torch.Size([8, 18])\n"
     ]
    },
    {
     "name": "stderr",
     "output_type": "stream",
     "text": [
      "17it [00:03,  4.39it/s]"
     ]
    },
    {
     "name": "stdout",
     "output_type": "stream",
     "text": [
      "logits.shape: torch.Size([8, 18])\n",
      "yb_indices.shape: torch.Size([8, 18])\n",
      "logits.shape: torch.Size([8, 18])\n",
      "yb_indices.shape: torch.Size([8, 18])\n"
     ]
    },
    {
     "name": "stderr",
     "output_type": "stream",
     "text": [
      "19it [00:04,  4.73it/s]"
     ]
    },
    {
     "name": "stdout",
     "output_type": "stream",
     "text": [
      "logits.shape: torch.Size([8, 18])\n",
      "yb_indices.shape: torch.Size([8, 18])\n",
      "logits.shape: torch.Size([8, 18])\n",
      "yb_indices.shape: torch.Size([8, 18])\n"
     ]
    },
    {
     "name": "stderr",
     "output_type": "stream",
     "text": [
      "21it [00:04,  4.81it/s]"
     ]
    },
    {
     "name": "stdout",
     "output_type": "stream",
     "text": [
      "logits.shape: torch.Size([8, 18])\n",
      "yb_indices.shape: torch.Size([8, 18])\n",
      "logits.shape: torch.Size([8, 18])\n",
      "yb_indices.shape: torch.Size([8, 18])\n"
     ]
    },
    {
     "name": "stderr",
     "output_type": "stream",
     "text": [
      "23it [00:05,  4.66it/s]"
     ]
    },
    {
     "name": "stdout",
     "output_type": "stream",
     "text": [
      "logits.shape: torch.Size([8, 18])\n",
      "yb_indices.shape: torch.Size([8, 18])\n"
     ]
    },
    {
     "name": "stderr",
     "output_type": "stream",
     "text": [
      "24it [00:05,  4.48it/s]"
     ]
    },
    {
     "name": "stdout",
     "output_type": "stream",
     "text": [
      "logits.shape: torch.Size([8, 18])\n",
      "yb_indices.shape: torch.Size([8, 18])\n",
      "logits.shape: torch.Size([8, 18])\n",
      "yb_indices.shape: torch.Size([8, 18])\n"
     ]
    },
    {
     "name": "stderr",
     "output_type": "stream",
     "text": [
      "25it [00:05,  4.07it/s]"
     ]
    },
    {
     "name": "stdout",
     "output_type": "stream",
     "text": [
      "logits.shape: torch.Size([8, 18])\n",
      "yb_indices.shape: torch.Size([8, 18])\n"
     ]
    },
    {
     "name": "stderr",
     "output_type": "stream",
     "text": [
      "26it [00:06,  3.53it/s]"
     ]
    },
    {
     "name": "stdout",
     "output_type": "stream",
     "text": [
      "logits.shape: torch.Size([8, 18])\n",
      "yb_indices.shape: torch.Size([8, 18])\n"
     ]
    },
    {
     "name": "stderr",
     "output_type": "stream",
     "text": [
      "28it [00:06,  3.37it/s]"
     ]
    },
    {
     "name": "stdout",
     "output_type": "stream",
     "text": [
      "logits.shape: torch.Size([8, 18])\n",
      "yb_indices.shape: torch.Size([8, 18])\n"
     ]
    },
    {
     "name": "stderr",
     "output_type": "stream",
     "text": [
      "29it [00:06,  3.69it/s]"
     ]
    },
    {
     "name": "stdout",
     "output_type": "stream",
     "text": [
      "logits.shape: torch.Size([8, 18])\n",
      "yb_indices.shape: torch.Size([8, 18])\n",
      "logits.shape: torch.Size([8, 18])\n",
      "yb_indices.shape: torch.Size([8, 18])\n"
     ]
    },
    {
     "name": "stderr",
     "output_type": "stream",
     "text": [
      "31it [00:07,  4.30it/s]"
     ]
    },
    {
     "name": "stdout",
     "output_type": "stream",
     "text": [
      "logits.shape: torch.Size([8, 18])\n",
      "yb_indices.shape: torch.Size([8, 18])\n",
      "logits.shape: torch.Size([8, 18])\n",
      "yb_indices.shape: torch.Size([8, 18])\n"
     ]
    },
    {
     "name": "stderr",
     "output_type": "stream",
     "text": [
      "33it [00:07,  4.91it/s]"
     ]
    },
    {
     "name": "stdout",
     "output_type": "stream",
     "text": [
      "logits.shape: torch.Size([8, 18])\n",
      "yb_indices.shape: torch.Size([8, 18])\n",
      "logits.shape: torch.Size([8, 18])\n",
      "yb_indices.shape: torch.Size([8, 18])\n"
     ]
    },
    {
     "name": "stderr",
     "output_type": "stream",
     "text": [
      "35it [00:08,  5.27it/s]"
     ]
    },
    {
     "name": "stdout",
     "output_type": "stream",
     "text": [
      "logits.shape: torch.Size([8, 18])\n",
      "yb_indices.shape: torch.Size([8, 18])\n",
      "logits.shape: torch.Size([8, 18])\n",
      "yb_indices.shape: torch.Size([8, 18])\n"
     ]
    },
    {
     "name": "stderr",
     "output_type": "stream",
     "text": [
      "37it [00:08,  5.07it/s]"
     ]
    },
    {
     "name": "stdout",
     "output_type": "stream",
     "text": [
      "logits.shape: torch.Size([8, 18])\n",
      "yb_indices.shape: torch.Size([8, 18])\n",
      "logits.shape: torch.Size([8, 18])\n",
      "yb_indices.shape: torch.Size([8, 18])\n"
     ]
    },
    {
     "name": "stderr",
     "output_type": "stream",
     "text": [
      "39it [00:08,  5.32it/s]"
     ]
    },
    {
     "name": "stdout",
     "output_type": "stream",
     "text": [
      "logits.shape: torch.Size([8, 18])\n",
      "yb_indices.shape: torch.Size([8, 18])\n",
      "logits.shape: torch.Size([8, 18])\n",
      "yb_indices.shape: torch.Size([8, 18])\n"
     ]
    },
    {
     "name": "stderr",
     "output_type": "stream",
     "text": [
      "41it [00:09,  5.18it/s]"
     ]
    },
    {
     "name": "stdout",
     "output_type": "stream",
     "text": [
      "logits.shape: torch.Size([8, 18])\n",
      "yb_indices.shape: torch.Size([8, 18])\n",
      "logits.shape: torch.Size([8, 18])\n",
      "yb_indices.shape: torch.Size([8, 18])\n"
     ]
    },
    {
     "name": "stderr",
     "output_type": "stream",
     "text": [
      "43it [00:09,  4.71it/s]"
     ]
    },
    {
     "name": "stdout",
     "output_type": "stream",
     "text": [
      "logits.shape: torch.Size([8, 18])\n",
      "yb_indices.shape: torch.Size([8, 18])\n",
      "logits.shape: torch.Size([8, 18])\n",
      "yb_indices.shape: torch.Size([8, 18])\n"
     ]
    },
    {
     "name": "stderr",
     "output_type": "stream",
     "text": [
      "45it [00:10,  3.70it/s]"
     ]
    },
    {
     "name": "stdout",
     "output_type": "stream",
     "text": [
      "logits.shape: torch.Size([8, 18])\n",
      "yb_indices.shape: torch.Size([8, 18])\n"
     ]
    },
    {
     "name": "stderr",
     "output_type": "stream",
     "text": [
      "46it [00:10,  3.78it/s]"
     ]
    },
    {
     "name": "stdout",
     "output_type": "stream",
     "text": [
      "logits.shape: torch.Size([8, 18])\n",
      "yb_indices.shape: torch.Size([8, 18])\n"
     ]
    },
    {
     "name": "stderr",
     "output_type": "stream",
     "text": [
      "47it [00:10,  4.09it/s]"
     ]
    },
    {
     "name": "stdout",
     "output_type": "stream",
     "text": [
      "logits.shape: torch.Size([8, 18])\n",
      "yb_indices.shape: torch.Size([8, 18])\n"
     ]
    },
    {
     "name": "stderr",
     "output_type": "stream",
     "text": [
      "48it [00:11,  4.01it/s]"
     ]
    },
    {
     "name": "stdout",
     "output_type": "stream",
     "text": [
      "logits.shape: torch.Size([8, 18])\n",
      "yb_indices.shape: torch.Size([8, 18])\n"
     ]
    },
    {
     "name": "stderr",
     "output_type": "stream",
     "text": [
      "49it [00:11,  4.08it/s]"
     ]
    },
    {
     "name": "stdout",
     "output_type": "stream",
     "text": [
      "logits.shape: torch.Size([8, 18])\n",
      "yb_indices.shape: torch.Size([8, 18])\n"
     ]
    },
    {
     "name": "stderr",
     "output_type": "stream",
     "text": [
      "50it [00:11,  4.38it/s]"
     ]
    },
    {
     "name": "stdout",
     "output_type": "stream",
     "text": [
      "logits.shape: torch.Size([8, 18])\n",
      "yb_indices.shape: torch.Size([8, 18])\n",
      "logits.shape: torch.Size([8, 18])\n",
      "yb_indices.shape: torch.Size([8, 18])\n"
     ]
    },
    {
     "name": "stderr",
     "output_type": "stream",
     "text": [
      "52it [00:11,  4.88it/s]"
     ]
    },
    {
     "name": "stdout",
     "output_type": "stream",
     "text": [
      "logits.shape: torch.Size([8, 18])\n",
      "yb_indices.shape: torch.Size([8, 18])\n",
      "logits.shape: torch.Size([8, 18])\n",
      "yb_indices.shape: torch.Size([8, 18])\n"
     ]
    },
    {
     "name": "stderr",
     "output_type": "stream",
     "text": [
      "54it [00:12,  5.10it/s]"
     ]
    },
    {
     "name": "stdout",
     "output_type": "stream",
     "text": [
      "logits.shape: torch.Size([8, 18])\n",
      "yb_indices.shape: torch.Size([8, 18])\n",
      "logits.shape: torch.Size([8, 18])\n",
      "yb_indices.shape: torch.Size([8, 18])\n"
     ]
    },
    {
     "name": "stderr",
     "output_type": "stream",
     "text": [
      "56it [00:12,  5.16it/s]"
     ]
    },
    {
     "name": "stdout",
     "output_type": "stream",
     "text": [
      "logits.shape: torch.Size([8, 18])\n",
      "yb_indices.shape: torch.Size([8, 18])\n",
      "logits.shape: torch.Size([8, 18])\n",
      "yb_indices.shape: torch.Size([8, 18])\n"
     ]
    },
    {
     "name": "stderr",
     "output_type": "stream",
     "text": [
      "58it [00:13,  4.67it/s]"
     ]
    },
    {
     "name": "stdout",
     "output_type": "stream",
     "text": [
      "logits.shape: torch.Size([8, 18])\n",
      "yb_indices.shape: torch.Size([8, 18])\n"
     ]
    },
    {
     "name": "stderr",
     "output_type": "stream",
     "text": [
      "59it [00:13,  4.48it/s]"
     ]
    },
    {
     "name": "stdout",
     "output_type": "stream",
     "text": [
      "logits.shape: torch.Size([8, 18])\n",
      "yb_indices.shape: torch.Size([8, 18])\n"
     ]
    },
    {
     "name": "stderr",
     "output_type": "stream",
     "text": [
      "60it [00:13,  4.83it/s]"
     ]
    },
    {
     "name": "stdout",
     "output_type": "stream",
     "text": [
      "logits.shape: torch.Size([8, 18])\n",
      "yb_indices.shape: torch.Size([8, 18])\n",
      "logits.shape: torch.Size([8, 18])\n",
      "yb_indices.shape: torch.Size([8, 18])\n"
     ]
    },
    {
     "name": "stderr",
     "output_type": "stream",
     "text": [
      "62it [00:13,  4.82it/s]"
     ]
    },
    {
     "name": "stdout",
     "output_type": "stream",
     "text": [
      "logits.shape: torch.Size([8, 18])\n",
      "yb_indices.shape: torch.Size([8, 18])\n",
      "logits.shape: torch.Size([8, 18])\n",
      "yb_indices.shape: torch.Size([8, 18])\n"
     ]
    },
    {
     "name": "stderr",
     "output_type": "stream",
     "text": [
      "64it [00:14,  5.21it/s]"
     ]
    },
    {
     "name": "stdout",
     "output_type": "stream",
     "text": [
      "logits.shape: torch.Size([8, 18])\n",
      "yb_indices.shape: torch.Size([8, 18])\n",
      "logits.shape: torch.Size([8, 18])\n",
      "yb_indices.shape: torch.Size([8, 18])\n"
     ]
    },
    {
     "name": "stderr",
     "output_type": "stream",
     "text": [
      "66it [00:14,  5.01it/s]"
     ]
    },
    {
     "name": "stdout",
     "output_type": "stream",
     "text": [
      "logits.shape: torch.Size([8, 18])\n",
      "yb_indices.shape: torch.Size([8, 18])\n",
      "logits.shape: torch.Size([8, 18])\n",
      "yb_indices.shape: torch.Size([8, 18])\n"
     ]
    },
    {
     "name": "stderr",
     "output_type": "stream",
     "text": [
      "68it [00:15,  5.18it/s]"
     ]
    },
    {
     "name": "stdout",
     "output_type": "stream",
     "text": [
      "logits.shape: torch.Size([8, 18])\n",
      "yb_indices.shape: torch.Size([8, 18])\n",
      "logits.shape: torch.Size([8, 18])\n",
      "yb_indices.shape: torch.Size([8, 18])\n"
     ]
    },
    {
     "name": "stderr",
     "output_type": "stream",
     "text": [
      "70it [00:15,  5.08it/s]"
     ]
    },
    {
     "name": "stdout",
     "output_type": "stream",
     "text": [
      "logits.shape: torch.Size([8, 18])\n",
      "yb_indices.shape: torch.Size([8, 18])\n",
      "logits.shape: torch.Size([8, 18])\n",
      "yb_indices.shape: torch.Size([8, 18])\n"
     ]
    },
    {
     "name": "stderr",
     "output_type": "stream",
     "text": [
      "72it [00:15,  5.40it/s]"
     ]
    },
    {
     "name": "stdout",
     "output_type": "stream",
     "text": [
      "logits.shape: torch.Size([8, 18])\n",
      "yb_indices.shape: torch.Size([8, 18])\n",
      "logits.shape: torch.Size([8, 18])\n",
      "yb_indices.shape: torch.Size([8, 18])\n"
     ]
    },
    {
     "name": "stderr",
     "output_type": "stream",
     "text": [
      "74it [00:16,  5.43it/s]"
     ]
    },
    {
     "name": "stdout",
     "output_type": "stream",
     "text": [
      "logits.shape: torch.Size([8, 18])\n",
      "yb_indices.shape: torch.Size([8, 18])\n",
      "logits.shape: torch.Size([8, 18])\n",
      "yb_indices.shape: torch.Size([8, 18])\n"
     ]
    },
    {
     "name": "stderr",
     "output_type": "stream",
     "text": [
      "76it [00:16,  5.24it/s]"
     ]
    },
    {
     "name": "stdout",
     "output_type": "stream",
     "text": [
      "logits.shape: torch.Size([8, 18])\n",
      "yb_indices.shape: torch.Size([8, 18])\n",
      "logits.shape: torch.Size([8, 18])\n",
      "yb_indices.shape: torch.Size([8, 18])\n"
     ]
    },
    {
     "name": "stderr",
     "output_type": "stream",
     "text": [
      "78it [00:16,  5.18it/s]"
     ]
    },
    {
     "name": "stdout",
     "output_type": "stream",
     "text": [
      "logits.shape: torch.Size([8, 18])\n",
      "yb_indices.shape: torch.Size([8, 18])\n",
      "logits.shape: torch.Size([8, 18])\n",
      "yb_indices.shape: torch.Size([8, 18])\n"
     ]
    },
    {
     "name": "stderr",
     "output_type": "stream",
     "text": [
      "80it [00:17,  5.23it/s]"
     ]
    },
    {
     "name": "stdout",
     "output_type": "stream",
     "text": [
      "logits.shape: torch.Size([8, 18])\n",
      "yb_indices.shape: torch.Size([8, 18])\n",
      "logits.shape: torch.Size([8, 18])\n",
      "yb_indices.shape: torch.Size([8, 18])\n"
     ]
    },
    {
     "name": "stderr",
     "output_type": "stream",
     "text": [
      "82it [00:17,  5.16it/s]"
     ]
    },
    {
     "name": "stdout",
     "output_type": "stream",
     "text": [
      "logits.shape: torch.Size([8, 18])\n",
      "yb_indices.shape: torch.Size([8, 18])\n",
      "logits.shape: torch.Size([8, 18])\n",
      "yb_indices.shape: torch.Size([8, 18])\n"
     ]
    },
    {
     "name": "stderr",
     "output_type": "stream",
     "text": [
      "84it [00:18,  5.39it/s]"
     ]
    },
    {
     "name": "stdout",
     "output_type": "stream",
     "text": [
      "logits.shape: torch.Size([8, 18])\n",
      "yb_indices.shape: torch.Size([8, 18])\n"
     ]
    },
    {
     "name": "stderr",
     "output_type": "stream",
     "text": [
      "85it [00:18,  5.19it/s]"
     ]
    },
    {
     "name": "stdout",
     "output_type": "stream",
     "text": [
      "logits.shape: torch.Size([8, 18])\n",
      "yb_indices.shape: torch.Size([8, 18])\n",
      "logits.shape: torch.Size([8, 18])\n",
      "yb_indices.shape: torch.Size([8, 18])\n"
     ]
    },
    {
     "name": "stderr",
     "output_type": "stream",
     "text": [
      "87it [00:18,  5.38it/s]"
     ]
    },
    {
     "name": "stdout",
     "output_type": "stream",
     "text": [
      "logits.shape: torch.Size([8, 18])\n",
      "yb_indices.shape: torch.Size([8, 18])\n",
      "logits.shape: torch.Size([8, 18])\n",
      "yb_indices.shape: torch.Size([8, 18])\n"
     ]
    },
    {
     "name": "stderr",
     "output_type": "stream",
     "text": [
      "89it [00:19,  5.69it/s]"
     ]
    },
    {
     "name": "stdout",
     "output_type": "stream",
     "text": [
      "logits.shape: torch.Size([8, 18])\n",
      "yb_indices.shape: torch.Size([8, 18])\n",
      "logits.shape: torch.Size([8, 18])\n",
      "yb_indices.shape: torch.Size([8, 18])\n"
     ]
    },
    {
     "name": "stderr",
     "output_type": "stream",
     "text": [
      "91it [00:19,  5.86it/s]"
     ]
    },
    {
     "name": "stdout",
     "output_type": "stream",
     "text": [
      "logits.shape: torch.Size([8, 18])\n",
      "yb_indices.shape: torch.Size([8, 18])\n",
      "logits.shape: torch.Size([8, 18])\n",
      "yb_indices.shape: torch.Size([8, 18])\n"
     ]
    },
    {
     "name": "stderr",
     "output_type": "stream",
     "text": [
      "93it [00:19,  6.06it/s]"
     ]
    },
    {
     "name": "stdout",
     "output_type": "stream",
     "text": [
      "logits.shape: torch.Size([8, 18])\n",
      "yb_indices.shape: torch.Size([8, 18])\n",
      "logits.shape: torch.Size([8, 18])\n",
      "yb_indices.shape: torch.Size([8, 18])\n"
     ]
    },
    {
     "name": "stderr",
     "output_type": "stream",
     "text": [
      "95it [00:19,  6.28it/s]"
     ]
    },
    {
     "name": "stdout",
     "output_type": "stream",
     "text": [
      "logits.shape: torch.Size([8, 18])\n",
      "yb_indices.shape: torch.Size([8, 18])\n",
      "logits.shape: torch.Size([8, 18])\n",
      "yb_indices.shape: torch.Size([8, 18])\n"
     ]
    },
    {
     "name": "stderr",
     "output_type": "stream",
     "text": [
      "97it [00:20,  6.25it/s]"
     ]
    },
    {
     "name": "stdout",
     "output_type": "stream",
     "text": [
      "logits.shape: torch.Size([8, 18])\n",
      "yb_indices.shape: torch.Size([8, 18])\n",
      "logits.shape: torch.Size([8, 18])\n",
      "yb_indices.shape: torch.Size([8, 18])\n"
     ]
    },
    {
     "name": "stderr",
     "output_type": "stream",
     "text": [
      "99it [00:20,  6.39it/s]"
     ]
    },
    {
     "name": "stdout",
     "output_type": "stream",
     "text": [
      "logits.shape: torch.Size([8, 18])\n",
      "yb_indices.shape: torch.Size([8, 18])\n",
      "logits.shape: torch.Size([8, 18])\n",
      "yb_indices.shape: torch.Size([8, 18])\n"
     ]
    },
    {
     "name": "stderr",
     "output_type": "stream",
     "text": [
      "101it [00:20,  5.83it/s]"
     ]
    },
    {
     "name": "stdout",
     "output_type": "stream",
     "text": [
      "logits.shape: torch.Size([8, 18])\n",
      "yb_indices.shape: torch.Size([8, 18])\n",
      "logits.shape: torch.Size([8, 18])\n",
      "yb_indices.shape: torch.Size([8, 18])\n"
     ]
    },
    {
     "name": "stderr",
     "output_type": "stream",
     "text": [
      "103it [00:21,  5.68it/s]"
     ]
    },
    {
     "name": "stdout",
     "output_type": "stream",
     "text": [
      "logits.shape: torch.Size([8, 18])\n",
      "yb_indices.shape: torch.Size([8, 18])\n",
      "logits.shape: torch.Size([8, 18])\n",
      "yb_indices.shape: torch.Size([8, 18])\n"
     ]
    },
    {
     "name": "stderr",
     "output_type": "stream",
     "text": [
      "105it [00:21,  5.51it/s]"
     ]
    },
    {
     "name": "stdout",
     "output_type": "stream",
     "text": [
      "logits.shape: torch.Size([8, 18])\n",
      "yb_indices.shape: torch.Size([8, 18])\n",
      "logits.shape: torch.Size([8, 18])\n",
      "yb_indices.shape: torch.Size([8, 18])\n"
     ]
    },
    {
     "name": "stderr",
     "output_type": "stream",
     "text": [
      "107it [00:22,  5.61it/s]"
     ]
    },
    {
     "name": "stdout",
     "output_type": "stream",
     "text": [
      "logits.shape: torch.Size([8, 18])\n",
      "yb_indices.shape: torch.Size([8, 18])\n",
      "logits.shape: torch.Size([8, 18])\n",
      "yb_indices.shape: torch.Size([8, 18])\n"
     ]
    },
    {
     "name": "stderr",
     "output_type": "stream",
     "text": [
      "109it [00:22,  5.33it/s]"
     ]
    },
    {
     "name": "stdout",
     "output_type": "stream",
     "text": [
      "logits.shape: torch.Size([8, 18])\n",
      "yb_indices.shape: torch.Size([8, 18])\n",
      "logits.shape: torch.Size([8, 18])\n",
      "yb_indices.shape: torch.Size([8, 18])\n"
     ]
    },
    {
     "name": "stderr",
     "output_type": "stream",
     "text": [
      "111it [00:22,  5.73it/s]"
     ]
    },
    {
     "name": "stdout",
     "output_type": "stream",
     "text": [
      "logits.shape: torch.Size([8, 18])\n",
      "yb_indices.shape: torch.Size([8, 18])\n",
      "logits.shape: torch.Size([8, 18])\n",
      "yb_indices.shape: torch.Size([8, 18])\n"
     ]
    },
    {
     "name": "stderr",
     "output_type": "stream",
     "text": [
      "113it [00:23,  5.90it/s]"
     ]
    },
    {
     "name": "stdout",
     "output_type": "stream",
     "text": [
      "logits.shape: torch.Size([8, 18])\n",
      "yb_indices.shape: torch.Size([8, 18])\n",
      "logits.shape: torch.Size([8, 18])\n",
      "yb_indices.shape: torch.Size([8, 18])\n"
     ]
    },
    {
     "name": "stderr",
     "output_type": "stream",
     "text": [
      "115it [00:23,  6.22it/s]"
     ]
    },
    {
     "name": "stdout",
     "output_type": "stream",
     "text": [
      "logits.shape: torch.Size([8, 18])\n",
      "yb_indices.shape: torch.Size([8, 18])\n",
      "logits.shape: torch.Size([8, 18])\n",
      "yb_indices.shape: torch.Size([8, 18])\n"
     ]
    },
    {
     "name": "stderr",
     "output_type": "stream",
     "text": [
      "117it [00:23,  6.22it/s]"
     ]
    },
    {
     "name": "stdout",
     "output_type": "stream",
     "text": [
      "logits.shape: torch.Size([8, 18])\n",
      "yb_indices.shape: torch.Size([8, 18])\n",
      "logits.shape: torch.Size([8, 18])\n",
      "yb_indices.shape: torch.Size([8, 18])\n"
     ]
    },
    {
     "name": "stderr",
     "output_type": "stream",
     "text": [
      "119it [00:23,  6.85it/s]"
     ]
    },
    {
     "name": "stdout",
     "output_type": "stream",
     "text": [
      "logits.shape: torch.Size([8, 18])\n",
      "yb_indices.shape: torch.Size([8, 18])\n",
      "logits.shape: torch.Size([8, 18])\n",
      "yb_indices.shape: torch.Size([8, 18])\n"
     ]
    },
    {
     "name": "stderr",
     "output_type": "stream",
     "text": [
      "121it [00:24,  7.33it/s]"
     ]
    },
    {
     "name": "stdout",
     "output_type": "stream",
     "text": [
      "logits.shape: torch.Size([8, 18])\n",
      "yb_indices.shape: torch.Size([8, 18])\n",
      "logits.shape: torch.Size([8, 18])\n",
      "yb_indices.shape: torch.Size([8, 18])\n"
     ]
    },
    {
     "name": "stderr",
     "output_type": "stream",
     "text": [
      "123it [00:24,  6.39it/s]"
     ]
    },
    {
     "name": "stdout",
     "output_type": "stream",
     "text": [
      "logits.shape: torch.Size([8, 18])\n",
      "yb_indices.shape: torch.Size([8, 18])\n",
      "logits.shape: torch.Size([8, 18])\n",
      "yb_indices.shape: torch.Size([8, 18])\n"
     ]
    },
    {
     "name": "stderr",
     "output_type": "stream",
     "text": [
      "125it [00:24,  6.49it/s]"
     ]
    },
    {
     "name": "stdout",
     "output_type": "stream",
     "text": [
      "logits.shape: torch.Size([8, 18])\n",
      "yb_indices.shape: torch.Size([8, 18])\n",
      "logits.shape: torch.Size([8, 18])\n",
      "yb_indices.shape: torch.Size([8, 18])\n"
     ]
    },
    {
     "name": "stderr",
     "output_type": "stream",
     "text": [
      "127it [00:25,  6.73it/s]"
     ]
    },
    {
     "name": "stdout",
     "output_type": "stream",
     "text": [
      "logits.shape: torch.Size([8, 18])\n",
      "yb_indices.shape: torch.Size([8, 18])\n",
      "logits.shape: torch.Size([8, 18])\n",
      "yb_indices.shape: torch.Size([8, 18])\n"
     ]
    },
    {
     "name": "stderr",
     "output_type": "stream",
     "text": [
      "129it [00:25,  6.82it/s]"
     ]
    },
    {
     "name": "stdout",
     "output_type": "stream",
     "text": [
      "logits.shape: torch.Size([8, 18])\n",
      "yb_indices.shape: torch.Size([8, 18])\n",
      "logits.shape: torch.Size([8, 18])\n",
      "yb_indices.shape: torch.Size([8, 18])\n"
     ]
    },
    {
     "name": "stderr",
     "output_type": "stream",
     "text": [
      "131it [00:25,  6.59it/s]"
     ]
    },
    {
     "name": "stdout",
     "output_type": "stream",
     "text": [
      "logits.shape: torch.Size([8, 18])\n",
      "yb_indices.shape: torch.Size([8, 18])\n",
      "logits.shape: torch.Size([8, 18])\n",
      "yb_indices.shape: torch.Size([8, 18])\n"
     ]
    },
    {
     "name": "stderr",
     "output_type": "stream",
     "text": [
      "133it [00:26,  6.03it/s]"
     ]
    },
    {
     "name": "stdout",
     "output_type": "stream",
     "text": [
      "logits.shape: torch.Size([8, 18])\n",
      "yb_indices.shape: torch.Size([8, 18])\n",
      "logits.shape: torch.Size([8, 18])\n",
      "yb_indices.shape: torch.Size([8, 18])\n"
     ]
    },
    {
     "name": "stderr",
     "output_type": "stream",
     "text": [
      "135it [00:26,  5.56it/s]"
     ]
    },
    {
     "name": "stdout",
     "output_type": "stream",
     "text": [
      "logits.shape: torch.Size([8, 18])\n",
      "yb_indices.shape: torch.Size([8, 18])\n",
      "logits.shape: torch.Size([8, 18])\n",
      "yb_indices.shape: torch.Size([8, 18])\n"
     ]
    },
    {
     "name": "stderr",
     "output_type": "stream",
     "text": [
      "137it [00:26,  5.64it/s]"
     ]
    },
    {
     "name": "stdout",
     "output_type": "stream",
     "text": [
      "logits.shape: torch.Size([8, 18])\n",
      "yb_indices.shape: torch.Size([8, 18])\n",
      "logits.shape: torch.Size([8, 18])\n",
      "yb_indices.shape: torch.Size([8, 18])\n"
     ]
    },
    {
     "name": "stderr",
     "output_type": "stream",
     "text": [
      "139it [00:27,  5.36it/s]"
     ]
    },
    {
     "name": "stdout",
     "output_type": "stream",
     "text": [
      "logits.shape: torch.Size([8, 18])\n",
      "yb_indices.shape: torch.Size([8, 18])\n",
      "logits.shape: torch.Size([8, 18])\n",
      "yb_indices.shape: torch.Size([8, 18])\n"
     ]
    },
    {
     "name": "stderr",
     "output_type": "stream",
     "text": [
      "141it [00:27,  5.82it/s]"
     ]
    },
    {
     "name": "stdout",
     "output_type": "stream",
     "text": [
      "logits.shape: torch.Size([8, 18])\n",
      "yb_indices.shape: torch.Size([8, 18])\n",
      "logits.shape: torch.Size([8, 18])\n",
      "yb_indices.shape: torch.Size([8, 18])\n"
     ]
    },
    {
     "name": "stderr",
     "output_type": "stream",
     "text": [
      "143it [00:27,  5.53it/s]"
     ]
    },
    {
     "name": "stdout",
     "output_type": "stream",
     "text": [
      "logits.shape: torch.Size([8, 18])\n",
      "yb_indices.shape: torch.Size([8, 18])\n",
      "logits.shape: torch.Size([8, 18])\n",
      "yb_indices.shape: torch.Size([8, 18])\n"
     ]
    },
    {
     "name": "stderr",
     "output_type": "stream",
     "text": [
      "145it [00:28,  5.71it/s]"
     ]
    },
    {
     "name": "stdout",
     "output_type": "stream",
     "text": [
      "logits.shape: torch.Size([8, 18])\n",
      "yb_indices.shape: torch.Size([8, 18])\n",
      "logits.shape: torch.Size([8, 18])\n",
      "yb_indices.shape: torch.Size([8, 18])\n"
     ]
    },
    {
     "name": "stderr",
     "output_type": "stream",
     "text": [
      "147it [00:28,  5.72it/s]"
     ]
    },
    {
     "name": "stdout",
     "output_type": "stream",
     "text": [
      "logits.shape: torch.Size([8, 18])\n",
      "yb_indices.shape: torch.Size([8, 18])\n",
      "logits.shape: torch.Size([8, 18])\n",
      "yb_indices.shape: torch.Size([8, 18])\n"
     ]
    },
    {
     "name": "stderr",
     "output_type": "stream",
     "text": [
      "149it [00:29,  5.77it/s]"
     ]
    },
    {
     "name": "stdout",
     "output_type": "stream",
     "text": [
      "logits.shape: torch.Size([8, 18])\n",
      "yb_indices.shape: torch.Size([8, 18])\n"
     ]
    },
    {
     "name": "stderr",
     "output_type": "stream",
     "text": [
      "150it [00:29,  5.52it/s]"
     ]
    },
    {
     "name": "stdout",
     "output_type": "stream",
     "text": [
      "logits.shape: torch.Size([8, 18])\n",
      "yb_indices.shape: torch.Size([8, 18])\n",
      "logits.shape: torch.Size([8, 18])\n",
      "yb_indices.shape: torch.Size([8, 18])\n"
     ]
    },
    {
     "name": "stderr",
     "output_type": "stream",
     "text": [
      "152it [00:29,  6.04it/s]"
     ]
    },
    {
     "name": "stdout",
     "output_type": "stream",
     "text": [
      "logits.shape: torch.Size([8, 18])\n",
      "yb_indices.shape: torch.Size([8, 18])\n",
      "logits.shape: torch.Size([8, 18])\n",
      "yb_indices.shape: torch.Size([8, 18])\n"
     ]
    },
    {
     "name": "stderr",
     "output_type": "stream",
     "text": [
      "154it [00:29,  4.96it/s]"
     ]
    },
    {
     "name": "stdout",
     "output_type": "stream",
     "text": [
      "logits.shape: torch.Size([8, 18])\n",
      "yb_indices.shape: torch.Size([8, 18])\n"
     ]
    },
    {
     "name": "stderr",
     "output_type": "stream",
     "text": [
      "155it [00:30,  4.89it/s]"
     ]
    },
    {
     "name": "stdout",
     "output_type": "stream",
     "text": [
      "logits.shape: torch.Size([8, 18])\n",
      "yb_indices.shape: torch.Size([8, 18])\n"
     ]
    },
    {
     "name": "stderr",
     "output_type": "stream",
     "text": [
      "156it [00:30,  4.99it/s]"
     ]
    },
    {
     "name": "stdout",
     "output_type": "stream",
     "text": [
      "logits.shape: torch.Size([8, 18])\n",
      "yb_indices.shape: torch.Size([8, 18])\n",
      "logits.shape: torch.Size([8, 18])\n",
      "yb_indices.shape: torch.Size([8, 18])\n"
     ]
    },
    {
     "name": "stderr",
     "output_type": "stream",
     "text": [
      "158it [00:30,  5.12it/s]"
     ]
    },
    {
     "name": "stdout",
     "output_type": "stream",
     "text": [
      "logits.shape: torch.Size([8, 18])\n",
      "yb_indices.shape: torch.Size([8, 18])\n",
      "logits.shape: torch.Size([8, 18])\n",
      "yb_indices.shape: torch.Size([8, 18])\n"
     ]
    },
    {
     "name": "stderr",
     "output_type": "stream",
     "text": [
      "160it [00:31,  5.29it/s]"
     ]
    },
    {
     "name": "stdout",
     "output_type": "stream",
     "text": [
      "logits.shape: torch.Size([8, 18])\n",
      "yb_indices.shape: torch.Size([8, 18])\n",
      "logits.shape: torch.Size([8, 18])\n",
      "yb_indices.shape: torch.Size([8, 18])\n"
     ]
    },
    {
     "name": "stderr",
     "output_type": "stream",
     "text": [
      "162it [00:31,  5.52it/s]"
     ]
    },
    {
     "name": "stdout",
     "output_type": "stream",
     "text": [
      "logits.shape: torch.Size([8, 18])\n",
      "yb_indices.shape: torch.Size([8, 18])\n",
      "logits.shape: torch.Size([8, 18])\n",
      "yb_indices.shape: torch.Size([8, 18])\n"
     ]
    },
    {
     "name": "stderr",
     "output_type": "stream",
     "text": [
      "164it [00:31,  5.92it/s]"
     ]
    },
    {
     "name": "stdout",
     "output_type": "stream",
     "text": [
      "logits.shape: torch.Size([8, 18])\n",
      "yb_indices.shape: torch.Size([8, 18])\n",
      "logits.shape: torch.Size([8, 18])\n",
      "yb_indices.shape: torch.Size([8, 18])\n"
     ]
    },
    {
     "name": "stderr",
     "output_type": "stream",
     "text": [
      "166it [00:32,  5.51it/s]"
     ]
    },
    {
     "name": "stdout",
     "output_type": "stream",
     "text": [
      "logits.shape: torch.Size([8, 18])\n",
      "yb_indices.shape: torch.Size([8, 18])\n",
      "logits.shape: torch.Size([8, 18])\n",
      "yb_indices.shape: torch.Size([8, 18])\n"
     ]
    },
    {
     "name": "stderr",
     "output_type": "stream",
     "text": [
      "168it [00:32,  5.66it/s]"
     ]
    },
    {
     "name": "stdout",
     "output_type": "stream",
     "text": [
      "logits.shape: torch.Size([8, 18])\n",
      "yb_indices.shape: torch.Size([8, 18])\n",
      "logits.shape: torch.Size([8, 18])\n",
      "yb_indices.shape: torch.Size([8, 18])\n"
     ]
    },
    {
     "name": "stderr",
     "output_type": "stream",
     "text": [
      "170it [00:32,  5.93it/s]"
     ]
    },
    {
     "name": "stdout",
     "output_type": "stream",
     "text": [
      "logits.shape: torch.Size([8, 18])\n",
      "yb_indices.shape: torch.Size([8, 18])\n",
      "logits.shape: torch.Size([8, 18])\n",
      "yb_indices.shape: torch.Size([8, 18])\n"
     ]
    },
    {
     "name": "stderr",
     "output_type": "stream",
     "text": [
      "172it [00:33,  6.35it/s]"
     ]
    },
    {
     "name": "stdout",
     "output_type": "stream",
     "text": [
      "logits.shape: torch.Size([8, 18])\n",
      "yb_indices.shape: torch.Size([8, 18])\n",
      "logits.shape: torch.Size([8, 18])\n",
      "yb_indices.shape: torch.Size([8, 18])\n"
     ]
    },
    {
     "name": "stderr",
     "output_type": "stream",
     "text": [
      "174it [00:33,  6.04it/s]"
     ]
    },
    {
     "name": "stdout",
     "output_type": "stream",
     "text": [
      "logits.shape: torch.Size([8, 18])\n",
      "yb_indices.shape: torch.Size([8, 18])\n",
      "logits.shape: torch.Size([8, 18])\n",
      "yb_indices.shape: torch.Size([8, 18])\n"
     ]
    },
    {
     "name": "stderr",
     "output_type": "stream",
     "text": [
      "176it [00:33,  6.02it/s]"
     ]
    },
    {
     "name": "stdout",
     "output_type": "stream",
     "text": [
      "logits.shape: torch.Size([8, 18])\n",
      "yb_indices.shape: torch.Size([8, 18])\n",
      "logits.shape: torch.Size([8, 18])\n",
      "yb_indices.shape: torch.Size([8, 18])\n"
     ]
    },
    {
     "name": "stderr",
     "output_type": "stream",
     "text": [
      "178it [00:34,  5.45it/s]"
     ]
    },
    {
     "name": "stdout",
     "output_type": "stream",
     "text": [
      "logits.shape: torch.Size([8, 18])\n",
      "yb_indices.shape: torch.Size([8, 18])\n",
      "logits.shape: torch.Size([8, 18])\n",
      "yb_indices.shape: torch.Size([8, 18])\n"
     ]
    },
    {
     "name": "stderr",
     "output_type": "stream",
     "text": [
      "180it [00:34,  6.03it/s]"
     ]
    },
    {
     "name": "stdout",
     "output_type": "stream",
     "text": [
      "logits.shape: torch.Size([8, 18])\n",
      "yb_indices.shape: torch.Size([8, 18])\n",
      "logits.shape: torch.Size([8, 18])\n",
      "yb_indices.shape: torch.Size([8, 18])\n"
     ]
    },
    {
     "name": "stderr",
     "output_type": "stream",
     "text": [
      "182it [00:34,  5.88it/s]"
     ]
    },
    {
     "name": "stdout",
     "output_type": "stream",
     "text": [
      "logits.shape: torch.Size([8, 18])\n",
      "yb_indices.shape: torch.Size([8, 18])\n",
      "logits.shape: torch.Size([8, 18])\n",
      "yb_indices.shape: torch.Size([8, 18])\n"
     ]
    },
    {
     "name": "stderr",
     "output_type": "stream",
     "text": [
      "184it [00:35,  6.21it/s]"
     ]
    },
    {
     "name": "stdout",
     "output_type": "stream",
     "text": [
      "logits.shape: torch.Size([8, 18])\n",
      "yb_indices.shape: torch.Size([8, 18])\n",
      "logits.shape: torch.Size([8, 18])\n",
      "yb_indices.shape: torch.Size([8, 18])\n"
     ]
    },
    {
     "name": "stderr",
     "output_type": "stream",
     "text": [
      "186it [00:35,  6.02it/s]"
     ]
    },
    {
     "name": "stdout",
     "output_type": "stream",
     "text": [
      "logits.shape: torch.Size([8, 18])\n",
      "yb_indices.shape: torch.Size([8, 18])\n",
      "logits.shape: torch.Size([8, 18])\n",
      "yb_indices.shape: torch.Size([8, 18])\n"
     ]
    },
    {
     "name": "stderr",
     "output_type": "stream",
     "text": [
      "188it [00:35,  6.38it/s]"
     ]
    },
    {
     "name": "stdout",
     "output_type": "stream",
     "text": [
      "logits.shape: torch.Size([8, 18])\n",
      "yb_indices.shape: torch.Size([8, 18])\n",
      "logits.shape: torch.Size([8, 18])\n",
      "yb_indices.shape: torch.Size([8, 18])\n"
     ]
    },
    {
     "name": "stderr",
     "output_type": "stream",
     "text": [
      "190it [00:36,  5.87it/s]"
     ]
    },
    {
     "name": "stdout",
     "output_type": "stream",
     "text": [
      "logits.shape: torch.Size([8, 18])\n",
      "yb_indices.shape: torch.Size([8, 18])\n"
     ]
    },
    {
     "name": "stderr",
     "output_type": "stream",
     "text": [
      "191it [00:36,  5.77it/s]"
     ]
    },
    {
     "name": "stdout",
     "output_type": "stream",
     "text": [
      "logits.shape: torch.Size([8, 18])\n",
      "yb_indices.shape: torch.Size([8, 18])\n",
      "logits.shape: torch.Size([8, 18])\n",
      "yb_indices.shape: torch.Size([8, 18])\n"
     ]
    },
    {
     "name": "stderr",
     "output_type": "stream",
     "text": [
      "193it [00:36,  5.55it/s]"
     ]
    },
    {
     "name": "stdout",
     "output_type": "stream",
     "text": [
      "logits.shape: torch.Size([8, 18])\n",
      "yb_indices.shape: torch.Size([8, 18])\n",
      "logits.shape: torch.Size([8, 18])\n",
      "yb_indices.shape: torch.Size([8, 18])\n"
     ]
    },
    {
     "name": "stderr",
     "output_type": "stream",
     "text": [
      "195it [00:37,  5.82it/s]"
     ]
    },
    {
     "name": "stdout",
     "output_type": "stream",
     "text": [
      "logits.shape: torch.Size([8, 18])\n",
      "yb_indices.shape: torch.Size([8, 18])\n",
      "logits.shape: torch.Size([8, 18])\n",
      "yb_indices.shape: torch.Size([8, 18])\n"
     ]
    },
    {
     "name": "stderr",
     "output_type": "stream",
     "text": [
      "197it [00:37,  6.10it/s]"
     ]
    },
    {
     "name": "stdout",
     "output_type": "stream",
     "text": [
      "logits.shape: torch.Size([8, 18])\n",
      "yb_indices.shape: torch.Size([8, 18])\n",
      "logits.shape: torch.Size([8, 18])\n",
      "yb_indices.shape: torch.Size([8, 18])\n"
     ]
    },
    {
     "name": "stderr",
     "output_type": "stream",
     "text": [
      "199it [00:37,  6.05it/s]"
     ]
    },
    {
     "name": "stdout",
     "output_type": "stream",
     "text": [
      "logits.shape: torch.Size([8, 18])\n",
      "yb_indices.shape: torch.Size([8, 18])\n",
      "logits.shape: torch.Size([8, 18])\n",
      "yb_indices.shape: torch.Size([8, 18])\n"
     ]
    },
    {
     "name": "stderr",
     "output_type": "stream",
     "text": [
      "201it [00:38,  6.13it/s]"
     ]
    },
    {
     "name": "stdout",
     "output_type": "stream",
     "text": [
      "logits.shape: torch.Size([8, 18])\n",
      "yb_indices.shape: torch.Size([8, 18])\n",
      "logits.shape: torch.Size([8, 18])\n",
      "yb_indices.shape: torch.Size([8, 18])\n"
     ]
    },
    {
     "name": "stderr",
     "output_type": "stream",
     "text": [
      "203it [00:38,  6.17it/s]"
     ]
    },
    {
     "name": "stdout",
     "output_type": "stream",
     "text": [
      "logits.shape: torch.Size([8, 18])\n",
      "yb_indices.shape: torch.Size([8, 18])\n",
      "logits.shape: torch.Size([8, 18])\n",
      "yb_indices.shape: torch.Size([8, 18])\n"
     ]
    },
    {
     "name": "stderr",
     "output_type": "stream",
     "text": [
      "205it [00:38,  6.46it/s]"
     ]
    },
    {
     "name": "stdout",
     "output_type": "stream",
     "text": [
      "logits.shape: torch.Size([8, 18])\n",
      "yb_indices.shape: torch.Size([8, 18])\n",
      "logits.shape: torch.Size([8, 18])\n",
      "yb_indices.shape: torch.Size([8, 18])\n"
     ]
    },
    {
     "name": "stderr",
     "output_type": "stream",
     "text": [
      "207it [00:38,  6.10it/s]"
     ]
    },
    {
     "name": "stdout",
     "output_type": "stream",
     "text": [
      "logits.shape: torch.Size([8, 18])\n",
      "yb_indices.shape: torch.Size([8, 18])\n",
      "logits.shape: torch.Size([8, 18])\n",
      "yb_indices.shape: torch.Size([8, 18])\n"
     ]
    },
    {
     "name": "stderr",
     "output_type": "stream",
     "text": [
      "209it [00:39,  6.02it/s]"
     ]
    },
    {
     "name": "stdout",
     "output_type": "stream",
     "text": [
      "logits.shape: torch.Size([8, 18])\n",
      "yb_indices.shape: torch.Size([8, 18])\n",
      "logits.shape: torch.Size([8, 18])\n",
      "yb_indices.shape: torch.Size([8, 18])\n"
     ]
    },
    {
     "name": "stderr",
     "output_type": "stream",
     "text": [
      "211it [00:39,  5.76it/s]"
     ]
    },
    {
     "name": "stdout",
     "output_type": "stream",
     "text": [
      "logits.shape: torch.Size([8, 18])\n",
      "yb_indices.shape: torch.Size([8, 18])\n",
      "logits.shape: torch.Size([8, 18])\n",
      "yb_indices.shape: torch.Size([8, 18])\n"
     ]
    },
    {
     "name": "stderr",
     "output_type": "stream",
     "text": [
      "213it [00:40,  5.68it/s]"
     ]
    },
    {
     "name": "stdout",
     "output_type": "stream",
     "text": [
      "logits.shape: torch.Size([8, 18])\n",
      "yb_indices.shape: torch.Size([8, 18])\n",
      "logits.shape: torch.Size([8, 18])\n",
      "yb_indices.shape: torch.Size([8, 18])\n"
     ]
    },
    {
     "name": "stderr",
     "output_type": "stream",
     "text": [
      "215it [00:40,  5.63it/s]"
     ]
    },
    {
     "name": "stdout",
     "output_type": "stream",
     "text": [
      "logits.shape: torch.Size([8, 18])\n",
      "yb_indices.shape: torch.Size([8, 18])\n",
      "logits.shape: torch.Size([8, 18])\n",
      "yb_indices.shape: torch.Size([8, 18])\n"
     ]
    },
    {
     "name": "stderr",
     "output_type": "stream",
     "text": [
      "217it [00:40,  5.57it/s]"
     ]
    },
    {
     "name": "stdout",
     "output_type": "stream",
     "text": [
      "logits.shape: torch.Size([8, 18])\n",
      "yb_indices.shape: torch.Size([8, 18])\n"
     ]
    },
    {
     "name": "stderr",
     "output_type": "stream",
     "text": [
      "218it [00:40,  5.39it/s]"
     ]
    },
    {
     "name": "stdout",
     "output_type": "stream",
     "text": [
      "logits.shape: torch.Size([8, 18])\n",
      "yb_indices.shape: torch.Size([8, 18])\n",
      "logits.shape: torch.Size([8, 18])\n",
      "yb_indices.shape: torch.Size([8, 18])\n"
     ]
    },
    {
     "name": "stderr",
     "output_type": "stream",
     "text": [
      "220it [00:41,  5.36it/s]"
     ]
    },
    {
     "name": "stdout",
     "output_type": "stream",
     "text": [
      "logits.shape: torch.Size([8, 18])\n",
      "yb_indices.shape: torch.Size([8, 18])\n",
      "logits.shape: torch.Size([8, 18])\n",
      "yb_indices.shape: torch.Size([8, 18])\n"
     ]
    },
    {
     "name": "stderr",
     "output_type": "stream",
     "text": [
      "222it [00:41,  5.26it/s]"
     ]
    },
    {
     "name": "stdout",
     "output_type": "stream",
     "text": [
      "logits.shape: torch.Size([8, 18])\n",
      "yb_indices.shape: torch.Size([8, 18])\n",
      "logits.shape: torch.Size([8, 18])\n",
      "yb_indices.shape: torch.Size([8, 18])\n"
     ]
    },
    {
     "name": "stderr",
     "output_type": "stream",
     "text": [
      "224it [00:42,  5.43it/s]"
     ]
    },
    {
     "name": "stdout",
     "output_type": "stream",
     "text": [
      "logits.shape: torch.Size([8, 18])\n",
      "yb_indices.shape: torch.Size([8, 18])\n",
      "logits.shape: torch.Size([8, 18])\n",
      "yb_indices.shape: torch.Size([8, 18])\n"
     ]
    },
    {
     "name": "stderr",
     "output_type": "stream",
     "text": [
      "226it [00:42,  5.70it/s]"
     ]
    },
    {
     "name": "stdout",
     "output_type": "stream",
     "text": [
      "logits.shape: torch.Size([8, 18])\n",
      "yb_indices.shape: torch.Size([8, 18])\n",
      "logits.shape: torch.Size([8, 18])\n",
      "yb_indices.shape: torch.Size([8, 18])\n"
     ]
    },
    {
     "name": "stderr",
     "output_type": "stream",
     "text": [
      "228it [00:42,  6.16it/s]"
     ]
    },
    {
     "name": "stdout",
     "output_type": "stream",
     "text": [
      "logits.shape: torch.Size([8, 18])\n",
      "yb_indices.shape: torch.Size([8, 18])\n",
      "logits.shape: torch.Size([8, 18])\n",
      "yb_indices.shape: torch.Size([8, 18])\n"
     ]
    },
    {
     "name": "stderr",
     "output_type": "stream",
     "text": [
      "230it [00:43,  5.92it/s]"
     ]
    },
    {
     "name": "stdout",
     "output_type": "stream",
     "text": [
      "logits.shape: torch.Size([8, 18])\n",
      "yb_indices.shape: torch.Size([8, 18])\n",
      "logits.shape: torch.Size([8, 18])\n",
      "yb_indices.shape: torch.Size([8, 18])\n"
     ]
    },
    {
     "name": "stderr",
     "output_type": "stream",
     "text": [
      "232it [00:43,  5.67it/s]"
     ]
    },
    {
     "name": "stdout",
     "output_type": "stream",
     "text": [
      "logits.shape: torch.Size([8, 18])\n",
      "yb_indices.shape: torch.Size([8, 18])\n",
      "logits.shape: torch.Size([8, 18])\n",
      "yb_indices.shape: torch.Size([8, 18])\n"
     ]
    },
    {
     "name": "stderr",
     "output_type": "stream",
     "text": [
      "234it [00:43,  5.80it/s]"
     ]
    },
    {
     "name": "stdout",
     "output_type": "stream",
     "text": [
      "logits.shape: torch.Size([8, 18])\n",
      "yb_indices.shape: torch.Size([8, 18])\n",
      "logits.shape: torch.Size([8, 18])\n",
      "yb_indices.shape: torch.Size([8, 18])\n"
     ]
    },
    {
     "name": "stderr",
     "output_type": "stream",
     "text": [
      "236it [00:44,  5.77it/s]"
     ]
    },
    {
     "name": "stdout",
     "output_type": "stream",
     "text": [
      "logits.shape: torch.Size([8, 18])\n",
      "yb_indices.shape: torch.Size([8, 18])\n",
      "logits.shape: torch.Size([8, 18])\n",
      "yb_indices.shape: torch.Size([8, 18])\n"
     ]
    },
    {
     "name": "stderr",
     "output_type": "stream",
     "text": [
      "238it [00:44,  5.62it/s]"
     ]
    },
    {
     "name": "stdout",
     "output_type": "stream",
     "text": [
      "logits.shape: torch.Size([8, 18])\n",
      "yb_indices.shape: torch.Size([8, 18])\n",
      "logits.shape: torch.Size([8, 18])\n",
      "yb_indices.shape: torch.Size([8, 18])\n"
     ]
    },
    {
     "name": "stderr",
     "output_type": "stream",
     "text": [
      "240it [00:44,  5.67it/s]"
     ]
    },
    {
     "name": "stdout",
     "output_type": "stream",
     "text": [
      "logits.shape: torch.Size([8, 18])\n",
      "yb_indices.shape: torch.Size([8, 18])\n",
      "logits.shape: torch.Size([8, 18])\n",
      "yb_indices.shape: torch.Size([8, 18])\n"
     ]
    },
    {
     "name": "stderr",
     "output_type": "stream",
     "text": [
      "242it [00:45,  5.68it/s]"
     ]
    },
    {
     "name": "stdout",
     "output_type": "stream",
     "text": [
      "logits.shape: torch.Size([8, 18])\n",
      "yb_indices.shape: torch.Size([8, 18])\n",
      "logits.shape: torch.Size([8, 18])\n",
      "yb_indices.shape: torch.Size([8, 18])\n"
     ]
    },
    {
     "name": "stderr",
     "output_type": "stream",
     "text": [
      "244it [00:45,  5.79it/s]"
     ]
    },
    {
     "name": "stdout",
     "output_type": "stream",
     "text": [
      "logits.shape: torch.Size([8, 18])\n",
      "yb_indices.shape: torch.Size([8, 18])\n",
      "logits.shape: torch.Size([8, 18])\n",
      "yb_indices.shape: torch.Size([8, 18])\n"
     ]
    },
    {
     "name": "stderr",
     "output_type": "stream",
     "text": [
      "246it [00:45,  5.73it/s]"
     ]
    },
    {
     "name": "stdout",
     "output_type": "stream",
     "text": [
      "logits.shape: torch.Size([8, 18])\n",
      "yb_indices.shape: torch.Size([8, 18])\n",
      "logits.shape: torch.Size([8, 18])\n",
      "yb_indices.shape: torch.Size([8, 18])\n"
     ]
    },
    {
     "name": "stderr",
     "output_type": "stream",
     "text": [
      "248it [00:46,  5.62it/s]"
     ]
    },
    {
     "name": "stdout",
     "output_type": "stream",
     "text": [
      "logits.shape: torch.Size([8, 18])\n",
      "yb_indices.shape: torch.Size([8, 18])\n",
      "logits.shape: torch.Size([8, 18])\n",
      "yb_indices.shape: torch.Size([8, 18])\n"
     ]
    },
    {
     "name": "stderr",
     "output_type": "stream",
     "text": [
      "250it [00:46,  5.56it/s]"
     ]
    },
    {
     "name": "stdout",
     "output_type": "stream",
     "text": [
      "logits.shape: torch.Size([8, 18])\n",
      "yb_indices.shape: torch.Size([8, 18])\n",
      "logits.shape: torch.Size([8, 18])\n",
      "yb_indices.shape: torch.Size([8, 18])\n"
     ]
    },
    {
     "name": "stderr",
     "output_type": "stream",
     "text": [
      "252it [00:47,  5.57it/s]"
     ]
    },
    {
     "name": "stdout",
     "output_type": "stream",
     "text": [
      "logits.shape: torch.Size([8, 18])\n",
      "yb_indices.shape: torch.Size([8, 18])\n",
      "logits.shape: torch.Size([8, 18])\n",
      "yb_indices.shape: torch.Size([8, 18])\n"
     ]
    },
    {
     "name": "stderr",
     "output_type": "stream",
     "text": [
      "254it [00:47,  5.63it/s]"
     ]
    },
    {
     "name": "stdout",
     "output_type": "stream",
     "text": [
      "logits.shape: torch.Size([8, 18])\n",
      "yb_indices.shape: torch.Size([8, 18])\n",
      "logits.shape: torch.Size([8, 18])\n",
      "yb_indices.shape: torch.Size([8, 18])\n"
     ]
    },
    {
     "name": "stderr",
     "output_type": "stream",
     "text": [
      "256it [00:47,  5.49it/s]"
     ]
    },
    {
     "name": "stdout",
     "output_type": "stream",
     "text": [
      "logits.shape: torch.Size([8, 18])\n",
      "yb_indices.shape: torch.Size([8, 18])\n",
      "logits.shape: torch.Size([8, 18])\n",
      "yb_indices.shape: torch.Size([8, 18])\n"
     ]
    },
    {
     "name": "stderr",
     "output_type": "stream",
     "text": [
      "258it [00:48,  5.73it/s]"
     ]
    },
    {
     "name": "stdout",
     "output_type": "stream",
     "text": [
      "logits.shape: torch.Size([8, 18])\n",
      "yb_indices.shape: torch.Size([8, 18])\n",
      "logits.shape: torch.Size([8, 18])\n",
      "yb_indices.shape: torch.Size([8, 18])\n"
     ]
    },
    {
     "name": "stderr",
     "output_type": "stream",
     "text": [
      "260it [00:48,  6.25it/s]"
     ]
    },
    {
     "name": "stdout",
     "output_type": "stream",
     "text": [
      "logits.shape: torch.Size([8, 18])\n",
      "yb_indices.shape: torch.Size([8, 18])\n",
      "logits.shape: torch.Size([8, 18])\n",
      "yb_indices.shape: torch.Size([8, 18])\n"
     ]
    },
    {
     "name": "stderr",
     "output_type": "stream",
     "text": [
      "262it [00:48,  5.98it/s]"
     ]
    },
    {
     "name": "stdout",
     "output_type": "stream",
     "text": [
      "logits.shape: torch.Size([8, 18])\n",
      "yb_indices.shape: torch.Size([8, 18])\n",
      "logits.shape: torch.Size([8, 18])\n",
      "yb_indices.shape: torch.Size([8, 18])\n"
     ]
    },
    {
     "name": "stderr",
     "output_type": "stream",
     "text": [
      "264it [00:49,  6.87it/s]"
     ]
    },
    {
     "name": "stdout",
     "output_type": "stream",
     "text": [
      "logits.shape: torch.Size([8, 18])\n",
      "yb_indices.shape: torch.Size([8, 18])\n",
      "logits.shape: torch.Size([8, 18])\n",
      "yb_indices.shape: torch.Size([8, 18])\n"
     ]
    },
    {
     "name": "stderr",
     "output_type": "stream",
     "text": [
      "266it [00:49,  6.76it/s]"
     ]
    },
    {
     "name": "stdout",
     "output_type": "stream",
     "text": [
      "logits.shape: torch.Size([8, 18])\n",
      "yb_indices.shape: torch.Size([8, 18])\n",
      "logits.shape: torch.Size([8, 18])\n",
      "yb_indices.shape: torch.Size([8, 18])\n"
     ]
    },
    {
     "name": "stderr",
     "output_type": "stream",
     "text": [
      "268it [00:49,  6.81it/s]"
     ]
    },
    {
     "name": "stdout",
     "output_type": "stream",
     "text": [
      "logits.shape: torch.Size([8, 18])\n",
      "yb_indices.shape: torch.Size([8, 18])\n",
      "logits.shape: torch.Size([8, 18])\n",
      "yb_indices.shape: torch.Size([8, 18])\n"
     ]
    },
    {
     "name": "stderr",
     "output_type": "stream",
     "text": [
      "270it [00:49,  6.22it/s]"
     ]
    },
    {
     "name": "stdout",
     "output_type": "stream",
     "text": [
      "logits.shape: torch.Size([8, 18])\n",
      "yb_indices.shape: torch.Size([8, 18])\n",
      "logits.shape: torch.Size([8, 18])\n",
      "yb_indices.shape: torch.Size([8, 18])\n"
     ]
    },
    {
     "name": "stderr",
     "output_type": "stream",
     "text": [
      "272it [00:50,  6.34it/s]"
     ]
    },
    {
     "name": "stdout",
     "output_type": "stream",
     "text": [
      "logits.shape: torch.Size([8, 18])\n",
      "yb_indices.shape: torch.Size([8, 18])\n",
      "logits.shape: torch.Size([8, 18])\n",
      "yb_indices.shape: torch.Size([8, 18])\n"
     ]
    },
    {
     "name": "stderr",
     "output_type": "stream",
     "text": [
      "274it [00:50,  5.55it/s]"
     ]
    },
    {
     "name": "stdout",
     "output_type": "stream",
     "text": [
      "logits.shape: torch.Size([8, 18])\n",
      "yb_indices.shape: torch.Size([8, 18])\n",
      "logits.shape: torch.Size([8, 18])\n",
      "yb_indices.shape: torch.Size([8, 18])\n"
     ]
    },
    {
     "name": "stderr",
     "output_type": "stream",
     "text": [
      "276it [00:50,  5.94it/s]"
     ]
    },
    {
     "name": "stdout",
     "output_type": "stream",
     "text": [
      "logits.shape: torch.Size([8, 18])\n",
      "yb_indices.shape: torch.Size([8, 18])\n",
      "logits.shape: torch.Size([8, 18])\n",
      "yb_indices.shape: torch.Size([8, 18])\n"
     ]
    },
    {
     "name": "stderr",
     "output_type": "stream",
     "text": [
      "278it [00:51,  6.00it/s]"
     ]
    },
    {
     "name": "stdout",
     "output_type": "stream",
     "text": [
      "logits.shape: torch.Size([8, 18])\n",
      "yb_indices.shape: torch.Size([8, 18])\n",
      "logits.shape: torch.Size([8, 18])\n",
      "yb_indices.shape: torch.Size([8, 18])\n"
     ]
    },
    {
     "name": "stderr",
     "output_type": "stream",
     "text": [
      "280it [00:51,  6.55it/s]"
     ]
    },
    {
     "name": "stdout",
     "output_type": "stream",
     "text": [
      "logits.shape: torch.Size([8, 18])\n",
      "yb_indices.shape: torch.Size([8, 18])\n",
      "logits.shape: torch.Size([8, 18])\n",
      "yb_indices.shape: torch.Size([8, 18])\n"
     ]
    },
    {
     "name": "stderr",
     "output_type": "stream",
     "text": [
      "282it [00:51,  7.08it/s]"
     ]
    },
    {
     "name": "stdout",
     "output_type": "stream",
     "text": [
      "logits.shape: torch.Size([8, 18])\n",
      "yb_indices.shape: torch.Size([8, 18])\n",
      "logits.shape: torch.Size([8, 18])\n",
      "yb_indices.shape: torch.Size([8, 18])\n"
     ]
    },
    {
     "name": "stderr",
     "output_type": "stream",
     "text": [
      "284it [00:52,  7.34it/s]"
     ]
    },
    {
     "name": "stdout",
     "output_type": "stream",
     "text": [
      "logits.shape: torch.Size([8, 18])\n",
      "yb_indices.shape: torch.Size([8, 18])\n",
      "logits.shape: torch.Size([8, 18])\n",
      "yb_indices.shape: torch.Size([8, 18])\n"
     ]
    },
    {
     "name": "stderr",
     "output_type": "stream",
     "text": [
      "286it [00:52,  7.63it/s]"
     ]
    },
    {
     "name": "stdout",
     "output_type": "stream",
     "text": [
      "logits.shape: torch.Size([8, 18])\n",
      "yb_indices.shape: torch.Size([8, 18])\n",
      "logits.shape: torch.Size([8, 18])\n",
      "yb_indices.shape: torch.Size([8, 18])\n"
     ]
    },
    {
     "name": "stderr",
     "output_type": "stream",
     "text": [
      "288it [00:52,  7.23it/s]"
     ]
    },
    {
     "name": "stdout",
     "output_type": "stream",
     "text": [
      "logits.shape: torch.Size([8, 18])\n",
      "yb_indices.shape: torch.Size([8, 18])\n",
      "logits.shape: torch.Size([8, 18])\n",
      "yb_indices.shape: torch.Size([8, 18])\n"
     ]
    },
    {
     "name": "stderr",
     "output_type": "stream",
     "text": [
      "290it [00:52,  6.71it/s]"
     ]
    },
    {
     "name": "stdout",
     "output_type": "stream",
     "text": [
      "logits.shape: torch.Size([8, 18])\n",
      "yb_indices.shape: torch.Size([8, 18])\n",
      "logits.shape: torch.Size([8, 18])\n",
      "yb_indices.shape: torch.Size([8, 18])\n"
     ]
    },
    {
     "name": "stderr",
     "output_type": "stream",
     "text": [
      "292it [00:53,  6.87it/s]"
     ]
    },
    {
     "name": "stdout",
     "output_type": "stream",
     "text": [
      "logits.shape: torch.Size([8, 18])\n",
      "yb_indices.shape: torch.Size([8, 18])\n",
      "logits.shape: torch.Size([8, 18])\n",
      "yb_indices.shape: torch.Size([8, 18])\n"
     ]
    },
    {
     "name": "stderr",
     "output_type": "stream",
     "text": [
      "294it [00:53,  6.90it/s]"
     ]
    },
    {
     "name": "stdout",
     "output_type": "stream",
     "text": [
      "logits.shape: torch.Size([8, 18])\n",
      "yb_indices.shape: torch.Size([8, 18])\n",
      "logits.shape: torch.Size([8, 18])\n",
      "yb_indices.shape: torch.Size([8, 18])\n"
     ]
    },
    {
     "name": "stderr",
     "output_type": "stream",
     "text": [
      "296it [00:53,  6.14it/s]"
     ]
    },
    {
     "name": "stdout",
     "output_type": "stream",
     "text": [
      "logits.shape: torch.Size([8, 18])\n",
      "yb_indices.shape: torch.Size([8, 18])\n",
      "logits.shape: torch.Size([8, 18])\n",
      "yb_indices.shape: torch.Size([8, 18])\n"
     ]
    },
    {
     "name": "stderr",
     "output_type": "stream",
     "text": [
      "298it [00:54,  6.36it/s]"
     ]
    },
    {
     "name": "stdout",
     "output_type": "stream",
     "text": [
      "logits.shape: torch.Size([8, 18])\n",
      "yb_indices.shape: torch.Size([8, 18])\n",
      "logits.shape: torch.Size([8, 18])\n",
      "yb_indices.shape: torch.Size([8, 18])\n"
     ]
    },
    {
     "name": "stderr",
     "output_type": "stream",
     "text": [
      "300it [00:54,  6.81it/s]"
     ]
    },
    {
     "name": "stdout",
     "output_type": "stream",
     "text": [
      "logits.shape: torch.Size([8, 18])\n",
      "yb_indices.shape: torch.Size([8, 18])\n",
      "logits.shape: torch.Size([8, 18])\n",
      "yb_indices.shape: torch.Size([8, 18])\n"
     ]
    },
    {
     "name": "stderr",
     "output_type": "stream",
     "text": [
      "302it [00:54,  5.61it/s]"
     ]
    },
    {
     "name": "stdout",
     "output_type": "stream",
     "text": [
      "logits.shape: torch.Size([8, 18])\n",
      "yb_indices.shape: torch.Size([8, 18])\n",
      "logits.shape: torch.Size([8, 18])\n",
      "yb_indices.shape: torch.Size([8, 18])\n"
     ]
    },
    {
     "name": "stderr",
     "output_type": "stream",
     "text": [
      "304it [00:55,  5.76it/s]"
     ]
    },
    {
     "name": "stdout",
     "output_type": "stream",
     "text": [
      "logits.shape: torch.Size([8, 18])\n",
      "yb_indices.shape: torch.Size([8, 18])\n",
      "logits.shape: torch.Size([8, 18])\n",
      "yb_indices.shape: torch.Size([8, 18])\n"
     ]
    },
    {
     "name": "stderr",
     "output_type": "stream",
     "text": [
      "306it [00:55,  6.28it/s]"
     ]
    },
    {
     "name": "stdout",
     "output_type": "stream",
     "text": [
      "logits.shape: torch.Size([8, 18])\n",
      "yb_indices.shape: torch.Size([8, 18])\n",
      "logits.shape: torch.Size([8, 18])\n",
      "yb_indices.shape: torch.Size([8, 18])\n"
     ]
    },
    {
     "name": "stderr",
     "output_type": "stream",
     "text": [
      "308it [00:55,  6.77it/s]"
     ]
    },
    {
     "name": "stdout",
     "output_type": "stream",
     "text": [
      "logits.shape: torch.Size([8, 18])\n",
      "yb_indices.shape: torch.Size([8, 18])\n",
      "logits.shape: torch.Size([8, 18])\n",
      "yb_indices.shape: torch.Size([8, 18])\n"
     ]
    },
    {
     "name": "stderr",
     "output_type": "stream",
     "text": [
      "310it [00:56,  6.31it/s]"
     ]
    },
    {
     "name": "stdout",
     "output_type": "stream",
     "text": [
      "logits.shape: torch.Size([8, 18])\n",
      "yb_indices.shape: torch.Size([8, 18])\n",
      "logits.shape: torch.Size([8, 18])\n",
      "yb_indices.shape: torch.Size([8, 18])\n"
     ]
    },
    {
     "name": "stderr",
     "output_type": "stream",
     "text": [
      "312it [00:56,  5.90it/s]"
     ]
    },
    {
     "name": "stdout",
     "output_type": "stream",
     "text": [
      "logits.shape: torch.Size([8, 18])\n",
      "yb_indices.shape: torch.Size([8, 18])\n",
      "logits.shape: torch.Size([8, 18])\n",
      "yb_indices.shape: torch.Size([8, 18])\n"
     ]
    },
    {
     "name": "stderr",
     "output_type": "stream",
     "text": [
      "314it [00:56,  6.19it/s]"
     ]
    },
    {
     "name": "stdout",
     "output_type": "stream",
     "text": [
      "logits.shape: torch.Size([8, 18])\n",
      "yb_indices.shape: torch.Size([8, 18])\n",
      "logits.shape: torch.Size([8, 18])\n",
      "yb_indices.shape: torch.Size([8, 18])\n"
     ]
    },
    {
     "name": "stderr",
     "output_type": "stream",
     "text": [
      "316it [00:57,  6.53it/s]"
     ]
    },
    {
     "name": "stdout",
     "output_type": "stream",
     "text": [
      "logits.shape: torch.Size([8, 18])\n",
      "yb_indices.shape: torch.Size([8, 18])\n",
      "logits.shape: torch.Size([8, 18])\n",
      "yb_indices.shape: torch.Size([8, 18])\n"
     ]
    },
    {
     "name": "stderr",
     "output_type": "stream",
     "text": [
      "318it [00:57,  6.13it/s]"
     ]
    },
    {
     "name": "stdout",
     "output_type": "stream",
     "text": [
      "logits.shape: torch.Size([8, 18])\n",
      "yb_indices.shape: torch.Size([8, 18])\n",
      "logits.shape: torch.Size([8, 18])\n",
      "yb_indices.shape: torch.Size([8, 18])\n"
     ]
    },
    {
     "name": "stderr",
     "output_type": "stream",
     "text": [
      "320it [00:57,  6.56it/s]"
     ]
    },
    {
     "name": "stdout",
     "output_type": "stream",
     "text": [
      "logits.shape: torch.Size([8, 18])\n",
      "yb_indices.shape: torch.Size([8, 18])\n",
      "logits.shape: torch.Size([8, 18])\n",
      "yb_indices.shape: torch.Size([8, 18])\n"
     ]
    },
    {
     "name": "stderr",
     "output_type": "stream",
     "text": [
      "322it [00:58,  6.45it/s]"
     ]
    },
    {
     "name": "stdout",
     "output_type": "stream",
     "text": [
      "logits.shape: torch.Size([8, 18])\n",
      "yb_indices.shape: torch.Size([8, 18])\n",
      "logits.shape: torch.Size([8, 18])\n",
      "yb_indices.shape: torch.Size([8, 18])\n"
     ]
    },
    {
     "name": "stderr",
     "output_type": "stream",
     "text": [
      "324it [00:58,  6.46it/s]"
     ]
    },
    {
     "name": "stdout",
     "output_type": "stream",
     "text": [
      "logits.shape: torch.Size([8, 18])\n",
      "yb_indices.shape: torch.Size([8, 18])\n",
      "logits.shape: torch.Size([8, 18])\n",
      "yb_indices.shape: torch.Size([8, 18])\n"
     ]
    },
    {
     "name": "stderr",
     "output_type": "stream",
     "text": [
      "326it [00:58,  6.68it/s]"
     ]
    },
    {
     "name": "stdout",
     "output_type": "stream",
     "text": [
      "logits.shape: torch.Size([8, 18])\n",
      "yb_indices.shape: torch.Size([8, 18])\n",
      "logits.shape: torch.Size([8, 18])\n",
      "yb_indices.shape: torch.Size([8, 18])\n"
     ]
    },
    {
     "name": "stderr",
     "output_type": "stream",
     "text": [
      "328it [00:58,  6.92it/s]"
     ]
    },
    {
     "name": "stdout",
     "output_type": "stream",
     "text": [
      "logits.shape: torch.Size([8, 18])\n",
      "yb_indices.shape: torch.Size([8, 18])\n",
      "logits.shape: torch.Size([8, 18])\n",
      "yb_indices.shape: torch.Size([8, 18])\n"
     ]
    },
    {
     "name": "stderr",
     "output_type": "stream",
     "text": [
      "330it [00:59,  6.48it/s]"
     ]
    },
    {
     "name": "stdout",
     "output_type": "stream",
     "text": [
      "logits.shape: torch.Size([8, 18])\n",
      "yb_indices.shape: torch.Size([8, 18])\n",
      "logits.shape: torch.Size([8, 18])\n",
      "yb_indices.shape: torch.Size([8, 18])\n"
     ]
    },
    {
     "name": "stderr",
     "output_type": "stream",
     "text": [
      "332it [00:59,  6.26it/s]"
     ]
    },
    {
     "name": "stdout",
     "output_type": "stream",
     "text": [
      "logits.shape: torch.Size([8, 18])\n",
      "yb_indices.shape: torch.Size([8, 18])\n",
      "logits.shape: torch.Size([8, 18])\n",
      "yb_indices.shape: torch.Size([8, 18])\n"
     ]
    },
    {
     "name": "stderr",
     "output_type": "stream",
     "text": [
      "334it [00:59,  6.54it/s]"
     ]
    },
    {
     "name": "stdout",
     "output_type": "stream",
     "text": [
      "logits.shape: torch.Size([8, 18])\n",
      "yb_indices.shape: torch.Size([8, 18])\n",
      "logits.shape: torch.Size([8, 18])\n",
      "yb_indices.shape: torch.Size([8, 18])\n"
     ]
    },
    {
     "name": "stderr",
     "output_type": "stream",
     "text": [
      "336it [01:00,  6.71it/s]"
     ]
    },
    {
     "name": "stdout",
     "output_type": "stream",
     "text": [
      "logits.shape: torch.Size([8, 18])\n",
      "yb_indices.shape: torch.Size([8, 18])\n",
      "logits.shape: torch.Size([8, 18])\n",
      "yb_indices.shape: torch.Size([8, 18])\n"
     ]
    },
    {
     "name": "stderr",
     "output_type": "stream",
     "text": [
      "338it [01:00,  7.05it/s]"
     ]
    },
    {
     "name": "stdout",
     "output_type": "stream",
     "text": [
      "logits.shape: torch.Size([8, 18])\n",
      "yb_indices.shape: torch.Size([8, 18])\n",
      "logits.shape: torch.Size([8, 18])\n",
      "yb_indices.shape: torch.Size([8, 18])\n"
     ]
    },
    {
     "name": "stderr",
     "output_type": "stream",
     "text": [
      "340it [01:00,  7.06it/s]"
     ]
    },
    {
     "name": "stdout",
     "output_type": "stream",
     "text": [
      "logits.shape: torch.Size([8, 18])\n",
      "yb_indices.shape: torch.Size([8, 18])\n",
      "logits.shape: torch.Size([8, 18])\n",
      "yb_indices.shape: torch.Size([8, 18])\n"
     ]
    },
    {
     "name": "stderr",
     "output_type": "stream",
     "text": [
      "342it [01:00,  7.10it/s]"
     ]
    },
    {
     "name": "stdout",
     "output_type": "stream",
     "text": [
      "logits.shape: torch.Size([8, 18])\n",
      "yb_indices.shape: torch.Size([8, 18])\n",
      "logits.shape: torch.Size([8, 18])\n",
      "yb_indices.shape: torch.Size([8, 18])\n"
     ]
    },
    {
     "name": "stderr",
     "output_type": "stream",
     "text": [
      "344it [01:01,  7.25it/s]"
     ]
    },
    {
     "name": "stdout",
     "output_type": "stream",
     "text": [
      "logits.shape: torch.Size([8, 18])\n",
      "yb_indices.shape: torch.Size([8, 18])\n",
      "logits.shape: torch.Size([8, 18])\n",
      "yb_indices.shape: torch.Size([8, 18])\n"
     ]
    },
    {
     "name": "stderr",
     "output_type": "stream",
     "text": [
      "346it [01:01,  6.42it/s]"
     ]
    },
    {
     "name": "stdout",
     "output_type": "stream",
     "text": [
      "logits.shape: torch.Size([8, 18])\n",
      "yb_indices.shape: torch.Size([8, 18])\n",
      "logits.shape: torch.Size([8, 18])\n",
      "yb_indices.shape: torch.Size([8, 18])\n"
     ]
    },
    {
     "name": "stderr",
     "output_type": "stream",
     "text": [
      "348it [01:01,  6.49it/s]"
     ]
    },
    {
     "name": "stdout",
     "output_type": "stream",
     "text": [
      "logits.shape: torch.Size([8, 18])\n",
      "yb_indices.shape: torch.Size([8, 18])\n",
      "logits.shape: torch.Size([8, 18])\n",
      "yb_indices.shape: torch.Size([8, 18])\n"
     ]
    },
    {
     "name": "stderr",
     "output_type": "stream",
     "text": [
      "350it [01:02,  6.56it/s]"
     ]
    },
    {
     "name": "stdout",
     "output_type": "stream",
     "text": [
      "logits.shape: torch.Size([8, 18])\n",
      "yb_indices.shape: torch.Size([8, 18])\n",
      "logits.shape: torch.Size([8, 18])\n",
      "yb_indices.shape: torch.Size([8, 18])\n"
     ]
    },
    {
     "name": "stderr",
     "output_type": "stream",
     "text": [
      "352it [01:02,  6.60it/s]"
     ]
    },
    {
     "name": "stdout",
     "output_type": "stream",
     "text": [
      "logits.shape: torch.Size([8, 18])\n",
      "yb_indices.shape: torch.Size([8, 18])\n",
      "logits.shape: torch.Size([8, 18])\n",
      "yb_indices.shape: torch.Size([8, 18])\n"
     ]
    },
    {
     "name": "stderr",
     "output_type": "stream",
     "text": [
      "354it [01:02,  6.77it/s]"
     ]
    },
    {
     "name": "stdout",
     "output_type": "stream",
     "text": [
      "logits.shape: torch.Size([8, 18])\n",
      "yb_indices.shape: torch.Size([8, 18])\n",
      "logits.shape: torch.Size([8, 18])\n",
      "yb_indices.shape: torch.Size([8, 18])\n"
     ]
    },
    {
     "name": "stderr",
     "output_type": "stream",
     "text": [
      "356it [01:03,  6.48it/s]"
     ]
    },
    {
     "name": "stdout",
     "output_type": "stream",
     "text": [
      "logits.shape: torch.Size([8, 18])\n",
      "yb_indices.shape: torch.Size([8, 18])\n",
      "logits.shape: torch.Size([8, 18])\n",
      "yb_indices.shape: torch.Size([8, 18])\n"
     ]
    },
    {
     "name": "stderr",
     "output_type": "stream",
     "text": [
      "358it [01:03,  6.56it/s]"
     ]
    },
    {
     "name": "stdout",
     "output_type": "stream",
     "text": [
      "logits.shape: torch.Size([8, 18])\n",
      "yb_indices.shape: torch.Size([8, 18])\n",
      "logits.shape: torch.Size([8, 18])\n",
      "yb_indices.shape: torch.Size([8, 18])\n"
     ]
    },
    {
     "name": "stderr",
     "output_type": "stream",
     "text": [
      "360it [01:03,  6.38it/s]"
     ]
    },
    {
     "name": "stdout",
     "output_type": "stream",
     "text": [
      "logits.shape: torch.Size([8, 18])\n",
      "yb_indices.shape: torch.Size([8, 18])\n",
      "logits.shape: torch.Size([8, 18])\n",
      "yb_indices.shape: torch.Size([8, 18])\n"
     ]
    },
    {
     "name": "stderr",
     "output_type": "stream",
     "text": [
      "362it [01:04,  5.50it/s]"
     ]
    },
    {
     "name": "stdout",
     "output_type": "stream",
     "text": [
      "logits.shape: torch.Size([8, 18])\n",
      "yb_indices.shape: torch.Size([8, 18])\n",
      "logits.shape: torch.Size([8, 18])\n",
      "yb_indices.shape: torch.Size([8, 18])\n"
     ]
    },
    {
     "name": "stderr",
     "output_type": "stream",
     "text": [
      "364it [01:04,  6.05it/s]"
     ]
    },
    {
     "name": "stdout",
     "output_type": "stream",
     "text": [
      "logits.shape: torch.Size([8, 18])\n",
      "yb_indices.shape: torch.Size([8, 18])\n",
      "logits.shape: torch.Size([8, 18])\n",
      "yb_indices.shape: torch.Size([8, 18])\n"
     ]
    },
    {
     "name": "stderr",
     "output_type": "stream",
     "text": [
      "366it [01:04,  6.31it/s]"
     ]
    },
    {
     "name": "stdout",
     "output_type": "stream",
     "text": [
      "logits.shape: torch.Size([8, 18])\n",
      "yb_indices.shape: torch.Size([8, 18])\n",
      "logits.shape: torch.Size([8, 18])\n",
      "yb_indices.shape: torch.Size([8, 18])\n"
     ]
    },
    {
     "name": "stderr",
     "output_type": "stream",
     "text": [
      "368it [01:05,  6.56it/s]"
     ]
    },
    {
     "name": "stdout",
     "output_type": "stream",
     "text": [
      "logits.shape: torch.Size([8, 18])\n",
      "yb_indices.shape: torch.Size([8, 18])\n",
      "logits.shape: torch.Size([8, 18])\n",
      "yb_indices.shape: torch.Size([8, 18])\n"
     ]
    },
    {
     "name": "stderr",
     "output_type": "stream",
     "text": [
      "370it [01:05,  5.86it/s]"
     ]
    },
    {
     "name": "stdout",
     "output_type": "stream",
     "text": [
      "logits.shape: torch.Size([8, 18])\n",
      "yb_indices.shape: torch.Size([8, 18])\n",
      "logits.shape: torch.Size([8, 18])\n",
      "yb_indices.shape: torch.Size([8, 18])\n"
     ]
    },
    {
     "name": "stderr",
     "output_type": "stream",
     "text": [
      "372it [01:05,  5.89it/s]"
     ]
    },
    {
     "name": "stdout",
     "output_type": "stream",
     "text": [
      "logits.shape: torch.Size([8, 18])\n",
      "yb_indices.shape: torch.Size([8, 18])\n",
      "logits.shape: torch.Size([8, 18])\n",
      "yb_indices.shape: torch.Size([8, 18])\n"
     ]
    },
    {
     "name": "stderr",
     "output_type": "stream",
     "text": [
      "374it [01:06,  6.02it/s]"
     ]
    },
    {
     "name": "stdout",
     "output_type": "stream",
     "text": [
      "logits.shape: torch.Size([8, 18])\n",
      "yb_indices.shape: torch.Size([8, 18])\n",
      "logits.shape: torch.Size([8, 18])\n",
      "yb_indices.shape: torch.Size([8, 18])\n"
     ]
    },
    {
     "name": "stderr",
     "output_type": "stream",
     "text": [
      "376it [01:06,  6.27it/s]"
     ]
    },
    {
     "name": "stdout",
     "output_type": "stream",
     "text": [
      "logits.shape: torch.Size([8, 18])\n",
      "yb_indices.shape: torch.Size([8, 18])\n",
      "logits.shape: torch.Size([8, 18])\n",
      "yb_indices.shape: torch.Size([8, 18])\n"
     ]
    },
    {
     "name": "stderr",
     "output_type": "stream",
     "text": [
      "378it [01:06,  6.36it/s]"
     ]
    },
    {
     "name": "stdout",
     "output_type": "stream",
     "text": [
      "logits.shape: torch.Size([8, 18])\n",
      "yb_indices.shape: torch.Size([8, 18])\n",
      "logits.shape: torch.Size([8, 18])\n",
      "yb_indices.shape: torch.Size([8, 18])\n"
     ]
    },
    {
     "name": "stderr",
     "output_type": "stream",
     "text": [
      "380it [01:06,  6.71it/s]"
     ]
    },
    {
     "name": "stdout",
     "output_type": "stream",
     "text": [
      "logits.shape: torch.Size([8, 18])\n",
      "yb_indices.shape: torch.Size([8, 18])\n",
      "logits.shape: torch.Size([8, 18])\n",
      "yb_indices.shape: torch.Size([8, 18])\n"
     ]
    },
    {
     "name": "stderr",
     "output_type": "stream",
     "text": [
      "382it [01:07,  6.43it/s]"
     ]
    },
    {
     "name": "stdout",
     "output_type": "stream",
     "text": [
      "logits.shape: torch.Size([8, 18])\n",
      "yb_indices.shape: torch.Size([8, 18])\n"
     ]
    },
    {
     "name": "stderr",
     "output_type": "stream",
     "text": [
      "383it [01:07,  6.02it/s]"
     ]
    },
    {
     "name": "stdout",
     "output_type": "stream",
     "text": [
      "logits.shape: torch.Size([8, 18])\n",
      "yb_indices.shape: torch.Size([8, 18])\n",
      "logits.shape: torch.Size([8, 18])\n",
      "yb_indices.shape: torch.Size([8, 18])\n"
     ]
    },
    {
     "name": "stderr",
     "output_type": "stream",
     "text": [
      "385it [01:07,  4.94it/s]"
     ]
    },
    {
     "name": "stdout",
     "output_type": "stream",
     "text": [
      "logits.shape: torch.Size([8, 18])\n",
      "yb_indices.shape: torch.Size([8, 18])\n"
     ]
    },
    {
     "name": "stderr",
     "output_type": "stream",
     "text": [
      "386it [01:08,  4.79it/s]"
     ]
    },
    {
     "name": "stdout",
     "output_type": "stream",
     "text": [
      "logits.shape: torch.Size([8, 18])\n",
      "yb_indices.shape: torch.Size([8, 18])\n",
      "logits.shape: torch.Size([8, 18])\n",
      "yb_indices.shape: torch.Size([8, 18])\n"
     ]
    },
    {
     "name": "stderr",
     "output_type": "stream",
     "text": [
      "388it [01:08,  5.55it/s]"
     ]
    },
    {
     "name": "stdout",
     "output_type": "stream",
     "text": [
      "logits.shape: torch.Size([8, 18])\n",
      "yb_indices.shape: torch.Size([8, 18])\n",
      "logits.shape: torch.Size([8, 18])\n",
      "yb_indices.shape: torch.Size([8, 18])\n"
     ]
    },
    {
     "name": "stderr",
     "output_type": "stream",
     "text": [
      "390it [01:08,  5.78it/s]"
     ]
    },
    {
     "name": "stdout",
     "output_type": "stream",
     "text": [
      "logits.shape: torch.Size([8, 18])\n",
      "yb_indices.shape: torch.Size([8, 18])\n",
      "logits.shape: torch.Size([8, 18])\n",
      "yb_indices.shape: torch.Size([8, 18])\n"
     ]
    },
    {
     "name": "stderr",
     "output_type": "stream",
     "text": [
      "392it [01:09,  5.92it/s]"
     ]
    },
    {
     "name": "stdout",
     "output_type": "stream",
     "text": [
      "logits.shape: torch.Size([8, 18])\n",
      "yb_indices.shape: torch.Size([8, 18])\n",
      "logits.shape: torch.Size([8, 18])\n",
      "yb_indices.shape: torch.Size([8, 18])\n"
     ]
    },
    {
     "name": "stderr",
     "output_type": "stream",
     "text": [
      "394it [01:09,  6.13it/s]"
     ]
    },
    {
     "name": "stdout",
     "output_type": "stream",
     "text": [
      "logits.shape: torch.Size([8, 18])\n",
      "yb_indices.shape: torch.Size([8, 18])\n",
      "logits.shape: torch.Size([8, 18])\n",
      "yb_indices.shape: torch.Size([8, 18])\n"
     ]
    },
    {
     "name": "stderr",
     "output_type": "stream",
     "text": [
      "396it [01:09,  6.10it/s]"
     ]
    },
    {
     "name": "stdout",
     "output_type": "stream",
     "text": [
      "logits.shape: torch.Size([8, 18])\n",
      "yb_indices.shape: torch.Size([8, 18])\n",
      "logits.shape: torch.Size([8, 18])\n",
      "yb_indices.shape: torch.Size([8, 18])\n"
     ]
    },
    {
     "name": "stderr",
     "output_type": "stream",
     "text": [
      "398it [01:10,  5.72it/s]"
     ]
    },
    {
     "name": "stdout",
     "output_type": "stream",
     "text": [
      "logits.shape: torch.Size([8, 18])\n",
      "yb_indices.shape: torch.Size([8, 18])\n",
      "logits.shape: torch.Size([8, 18])\n",
      "yb_indices.shape: torch.Size([8, 18])\n"
     ]
    },
    {
     "name": "stderr",
     "output_type": "stream",
     "text": [
      "400it [01:10,  5.58it/s]"
     ]
    },
    {
     "name": "stdout",
     "output_type": "stream",
     "text": [
      "logits.shape: torch.Size([8, 18])\n",
      "yb_indices.shape: torch.Size([8, 18])\n",
      "logits.shape: torch.Size([8, 18])\n",
      "yb_indices.shape: torch.Size([8, 18])\n"
     ]
    },
    {
     "name": "stderr",
     "output_type": "stream",
     "text": [
      "402it [01:10,  5.74it/s]"
     ]
    },
    {
     "name": "stdout",
     "output_type": "stream",
     "text": [
      "logits.shape: torch.Size([8, 18])\n",
      "yb_indices.shape: torch.Size([8, 18])\n",
      "logits.shape: torch.Size([8, 18])\n",
      "yb_indices.shape: torch.Size([8, 18])\n"
     ]
    },
    {
     "name": "stderr",
     "output_type": "stream",
     "text": [
      "403it [01:10,  5.61it/s]"
     ]
    },
    {
     "name": "stdout",
     "output_type": "stream",
     "text": [
      "logits.shape: torch.Size([8, 18])\n",
      "yb_indices.shape: torch.Size([8, 18])\n"
     ]
    },
    {
     "name": "stderr",
     "output_type": "stream",
     "text": [
      "405it [01:11,  3.07it/s]"
     ]
    },
    {
     "name": "stdout",
     "output_type": "stream",
     "text": [
      "logits.shape: torch.Size([8, 18])\n",
      "yb_indices.shape: torch.Size([8, 18])\n",
      "logits.shape: torch.Size([8, 18])\n",
      "yb_indices.shape: torch.Size([8, 18])\n"
     ]
    },
    {
     "name": "stderr",
     "output_type": "stream",
     "text": [
      "406it [01:12,  2.13it/s]"
     ]
    },
    {
     "name": "stdout",
     "output_type": "stream",
     "text": [
      "logits.shape: torch.Size([8, 18])\n",
      "yb_indices.shape: torch.Size([8, 18])\n"
     ]
    },
    {
     "name": "stderr",
     "output_type": "stream",
     "text": [
      "408it [01:13,  2.16it/s]"
     ]
    },
    {
     "name": "stdout",
     "output_type": "stream",
     "text": [
      "logits.shape: torch.Size([8, 18])\n",
      "yb_indices.shape: torch.Size([8, 18])\n"
     ]
    },
    {
     "name": "stderr",
     "output_type": "stream",
     "text": [
      "409it [01:14,  2.50it/s]"
     ]
    },
    {
     "name": "stdout",
     "output_type": "stream",
     "text": [
      "logits.shape: torch.Size([8, 18])\n",
      "yb_indices.shape: torch.Size([8, 18])\n"
     ]
    },
    {
     "name": "stderr",
     "output_type": "stream",
     "text": [
      "410it [01:14,  2.86it/s]"
     ]
    },
    {
     "name": "stdout",
     "output_type": "stream",
     "text": [
      "logits.shape: torch.Size([8, 18])\n",
      "yb_indices.shape: torch.Size([8, 18])\n"
     ]
    },
    {
     "name": "stderr",
     "output_type": "stream",
     "text": [
      "411it [01:14,  3.22it/s]"
     ]
    },
    {
     "name": "stdout",
     "output_type": "stream",
     "text": [
      "logits.shape: torch.Size([8, 18])\n",
      "yb_indices.shape: torch.Size([8, 18])\n"
     ]
    },
    {
     "name": "stderr",
     "output_type": "stream",
     "text": [
      "412it [01:14,  3.62it/s]"
     ]
    },
    {
     "name": "stdout",
     "output_type": "stream",
     "text": [
      "logits.shape: torch.Size([8, 18])\n",
      "yb_indices.shape: torch.Size([8, 18])\n",
      "logits.shape: torch.Size([8, 18])\n",
      "yb_indices.shape: torch.Size([8, 18])\n"
     ]
    },
    {
     "name": "stderr",
     "output_type": "stream",
     "text": [
      "414it [01:15,  4.10it/s]"
     ]
    },
    {
     "name": "stdout",
     "output_type": "stream",
     "text": [
      "logits.shape: torch.Size([8, 18])\n",
      "yb_indices.shape: torch.Size([8, 18])\n"
     ]
    },
    {
     "name": "stderr",
     "output_type": "stream",
     "text": [
      "415it [01:15,  4.44it/s]"
     ]
    },
    {
     "name": "stdout",
     "output_type": "stream",
     "text": [
      "logits.shape: torch.Size([8, 18])\n",
      "yb_indices.shape: torch.Size([8, 18])\n",
      "logits.shape: torch.Size([8, 18])\n",
      "yb_indices.shape: torch.Size([8, 18])\n"
     ]
    },
    {
     "name": "stderr",
     "output_type": "stream",
     "text": [
      "417it [01:15,  4.69it/s]"
     ]
    },
    {
     "name": "stdout",
     "output_type": "stream",
     "text": [
      "logits.shape: torch.Size([8, 18])\n",
      "yb_indices.shape: torch.Size([8, 18])\n",
      "logits.shape: torch.Size([8, 18])\n",
      "yb_indices.shape: torch.Size([8, 18])\n"
     ]
    },
    {
     "name": "stderr",
     "output_type": "stream",
     "text": [
      "419it [01:16,  4.88it/s]"
     ]
    },
    {
     "name": "stdout",
     "output_type": "stream",
     "text": [
      "logits.shape: torch.Size([8, 18])\n",
      "yb_indices.shape: torch.Size([8, 18])\n",
      "logits.shape: torch.Size([8, 18])\n",
      "yb_indices.shape: torch.Size([8, 18])\n"
     ]
    },
    {
     "name": "stderr",
     "output_type": "stream",
     "text": [
      "421it [01:16,  4.76it/s]"
     ]
    },
    {
     "name": "stdout",
     "output_type": "stream",
     "text": [
      "logits.shape: torch.Size([8, 18])\n",
      "yb_indices.shape: torch.Size([8, 18])\n",
      "logits.shape: torch.Size([8, 18])\n",
      "yb_indices.shape: torch.Size([8, 18])\n"
     ]
    },
    {
     "name": "stderr",
     "output_type": "stream",
     "text": [
      "423it [01:16,  5.02it/s]"
     ]
    },
    {
     "name": "stdout",
     "output_type": "stream",
     "text": [
      "logits.shape: torch.Size([8, 18])\n",
      "yb_indices.shape: torch.Size([8, 18])\n",
      "logits.shape: torch.Size([8, 18])\n",
      "yb_indices.shape: torch.Size([8, 18])\n"
     ]
    },
    {
     "name": "stderr",
     "output_type": "stream",
     "text": [
      "425it [01:17,  5.59it/s]"
     ]
    },
    {
     "name": "stdout",
     "output_type": "stream",
     "text": [
      "logits.shape: torch.Size([8, 18])\n",
      "yb_indices.shape: torch.Size([8, 18])\n",
      "logits.shape: torch.Size([8, 18])\n",
      "yb_indices.shape: torch.Size([8, 18])\n"
     ]
    },
    {
     "name": "stderr",
     "output_type": "stream",
     "text": [
      "427it [01:17,  6.04it/s]"
     ]
    },
    {
     "name": "stdout",
     "output_type": "stream",
     "text": [
      "logits.shape: torch.Size([8, 18])\n",
      "yb_indices.shape: torch.Size([8, 18])\n",
      "logits.shape: torch.Size([8, 18])\n",
      "yb_indices.shape: torch.Size([8, 18])\n"
     ]
    },
    {
     "name": "stderr",
     "output_type": "stream",
     "text": [
      "429it [01:17,  5.73it/s]"
     ]
    },
    {
     "name": "stdout",
     "output_type": "stream",
     "text": [
      "logits.shape: torch.Size([8, 18])\n",
      "yb_indices.shape: torch.Size([8, 18])\n",
      "logits.shape: torch.Size([8, 18])\n",
      "yb_indices.shape: torch.Size([8, 18])\n"
     ]
    },
    {
     "name": "stderr",
     "output_type": "stream",
     "text": [
      "431it [01:18,  6.14it/s]"
     ]
    },
    {
     "name": "stdout",
     "output_type": "stream",
     "text": [
      "logits.shape: torch.Size([8, 18])\n",
      "yb_indices.shape: torch.Size([8, 18])\n",
      "logits.shape: torch.Size([8, 18])\n",
      "yb_indices.shape: torch.Size([8, 18])\n"
     ]
    },
    {
     "name": "stderr",
     "output_type": "stream",
     "text": [
      "433it [01:18,  6.78it/s]"
     ]
    },
    {
     "name": "stdout",
     "output_type": "stream",
     "text": [
      "logits.shape: torch.Size([8, 18])\n",
      "yb_indices.shape: torch.Size([8, 18])\n",
      "logits.shape: torch.Size([8, 18])\n",
      "yb_indices.shape: torch.Size([8, 18])\n"
     ]
    },
    {
     "name": "stderr",
     "output_type": "stream",
     "text": [
      "435it [01:18,  6.55it/s]"
     ]
    },
    {
     "name": "stdout",
     "output_type": "stream",
     "text": [
      "logits.shape: torch.Size([8, 18])\n",
      "yb_indices.shape: torch.Size([8, 18])\n",
      "logits.shape: torch.Size([8, 18])\n",
      "yb_indices.shape: torch.Size([8, 18])\n"
     ]
    },
    {
     "name": "stderr",
     "output_type": "stream",
     "text": [
      "437it [01:19,  6.85it/s]"
     ]
    },
    {
     "name": "stdout",
     "output_type": "stream",
     "text": [
      "logits.shape: torch.Size([8, 18])\n",
      "yb_indices.shape: torch.Size([8, 18])\n",
      "logits.shape: torch.Size([8, 18])\n",
      "yb_indices.shape: torch.Size([8, 18])\n"
     ]
    },
    {
     "name": "stderr",
     "output_type": "stream",
     "text": [
      "439it [01:19,  6.92it/s]"
     ]
    },
    {
     "name": "stdout",
     "output_type": "stream",
     "text": [
      "logits.shape: torch.Size([8, 18])\n",
      "yb_indices.shape: torch.Size([8, 18])\n",
      "logits.shape: torch.Size([8, 18])\n",
      "yb_indices.shape: torch.Size([8, 18])\n"
     ]
    },
    {
     "name": "stderr",
     "output_type": "stream",
     "text": [
      "441it [01:19,  6.95it/s]"
     ]
    },
    {
     "name": "stdout",
     "output_type": "stream",
     "text": [
      "logits.shape: torch.Size([8, 18])\n",
      "yb_indices.shape: torch.Size([8, 18])\n",
      "logits.shape: torch.Size([8, 18])\n",
      "yb_indices.shape: torch.Size([8, 18])\n"
     ]
    },
    {
     "name": "stderr",
     "output_type": "stream",
     "text": [
      "443it [01:19,  6.49it/s]"
     ]
    },
    {
     "name": "stdout",
     "output_type": "stream",
     "text": [
      "logits.shape: torch.Size([8, 18])\n",
      "yb_indices.shape: torch.Size([8, 18])\n",
      "logits.shape: torch.Size([8, 18])\n",
      "yb_indices.shape: torch.Size([8, 18])\n"
     ]
    },
    {
     "name": "stderr",
     "output_type": "stream",
     "text": [
      "445it [01:20,  5.14it/s]"
     ]
    },
    {
     "name": "stdout",
     "output_type": "stream",
     "text": [
      "logits.shape: torch.Size([8, 18])\n",
      "yb_indices.shape: torch.Size([8, 18])\n",
      "logits.shape: torch.Size([8, 18])\n",
      "yb_indices.shape: torch.Size([8, 18])\n"
     ]
    },
    {
     "name": "stderr",
     "output_type": "stream",
     "text": [
      "447it [01:20,  4.85it/s]"
     ]
    },
    {
     "name": "stdout",
     "output_type": "stream",
     "text": [
      "logits.shape: torch.Size([8, 18])\n",
      "yb_indices.shape: torch.Size([8, 18])\n"
     ]
    },
    {
     "name": "stderr",
     "output_type": "stream",
     "text": [
      "448it [01:21,  4.68it/s]"
     ]
    },
    {
     "name": "stdout",
     "output_type": "stream",
     "text": [
      "logits.shape: torch.Size([8, 18])\n",
      "yb_indices.shape: torch.Size([8, 18])\n"
     ]
    },
    {
     "name": "stderr",
     "output_type": "stream",
     "text": [
      "449it [01:21,  4.35it/s]"
     ]
    },
    {
     "name": "stdout",
     "output_type": "stream",
     "text": [
      "logits.shape: torch.Size([8, 18])\n",
      "yb_indices.shape: torch.Size([8, 18])\n"
     ]
    },
    {
     "name": "stderr",
     "output_type": "stream",
     "text": [
      "450it [01:21,  4.49it/s]"
     ]
    },
    {
     "name": "stdout",
     "output_type": "stream",
     "text": [
      "logits.shape: torch.Size([8, 18])\n",
      "yb_indices.shape: torch.Size([8, 18])\n",
      "logits.shape: torch.Size([8, 18])\n",
      "yb_indices.shape: torch.Size([8, 18])\n"
     ]
    },
    {
     "name": "stderr",
     "output_type": "stream",
     "text": [
      "452it [01:21,  4.93it/s]"
     ]
    },
    {
     "name": "stdout",
     "output_type": "stream",
     "text": [
      "logits.shape: torch.Size([8, 18])\n",
      "yb_indices.shape: torch.Size([8, 18])\n",
      "logits.shape: torch.Size([8, 18])\n",
      "yb_indices.shape: torch.Size([8, 18])\n"
     ]
    },
    {
     "name": "stderr",
     "output_type": "stream",
     "text": [
      "454it [01:22,  5.41it/s]"
     ]
    },
    {
     "name": "stdout",
     "output_type": "stream",
     "text": [
      "logits.shape: torch.Size([8, 18])\n",
      "yb_indices.shape: torch.Size([8, 18])\n",
      "logits.shape: torch.Size([8, 18])\n",
      "yb_indices.shape: torch.Size([8, 18])\n"
     ]
    },
    {
     "name": "stderr",
     "output_type": "stream",
     "text": [
      "456it [01:22,  5.80it/s]"
     ]
    },
    {
     "name": "stdout",
     "output_type": "stream",
     "text": [
      "logits.shape: torch.Size([8, 18])\n",
      "yb_indices.shape: torch.Size([8, 18])\n",
      "logits.shape: torch.Size([8, 18])\n",
      "yb_indices.shape: torch.Size([8, 18])\n"
     ]
    },
    {
     "name": "stderr",
     "output_type": "stream",
     "text": [
      "458it [01:22,  6.33it/s]"
     ]
    },
    {
     "name": "stdout",
     "output_type": "stream",
     "text": [
      "logits.shape: torch.Size([8, 18])\n",
      "yb_indices.shape: torch.Size([8, 18])\n",
      "logits.shape: torch.Size([8, 18])\n",
      "yb_indices.shape: torch.Size([8, 18])\n"
     ]
    },
    {
     "name": "stderr",
     "output_type": "stream",
     "text": [
      "460it [01:23,  6.65it/s]"
     ]
    },
    {
     "name": "stdout",
     "output_type": "stream",
     "text": [
      "logits.shape: torch.Size([8, 18])\n",
      "yb_indices.shape: torch.Size([8, 18])\n",
      "logits.shape: torch.Size([8, 18])\n",
      "yb_indices.shape: torch.Size([8, 18])\n"
     ]
    },
    {
     "name": "stderr",
     "output_type": "stream",
     "text": [
      "462it [01:23,  6.38it/s]"
     ]
    },
    {
     "name": "stdout",
     "output_type": "stream",
     "text": [
      "logits.shape: torch.Size([8, 18])\n",
      "yb_indices.shape: torch.Size([8, 18])\n",
      "logits.shape: torch.Size([8, 18])\n",
      "yb_indices.shape: torch.Size([8, 18])\n"
     ]
    },
    {
     "name": "stderr",
     "output_type": "stream",
     "text": [
      "464it [01:23,  5.88it/s]"
     ]
    },
    {
     "name": "stdout",
     "output_type": "stream",
     "text": [
      "logits.shape: torch.Size([8, 18])\n",
      "yb_indices.shape: torch.Size([8, 18])\n"
     ]
    },
    {
     "name": "stderr",
     "output_type": "stream",
     "text": [
      "465it [01:24,  5.10it/s]"
     ]
    },
    {
     "name": "stdout",
     "output_type": "stream",
     "text": [
      "logits.shape: torch.Size([8, 18])\n",
      "yb_indices.shape: torch.Size([8, 18])\n"
     ]
    },
    {
     "name": "stderr",
     "output_type": "stream",
     "text": [
      "466it [01:24,  4.85it/s]"
     ]
    },
    {
     "name": "stdout",
     "output_type": "stream",
     "text": [
      "logits.shape: torch.Size([8, 18])\n",
      "yb_indices.shape: torch.Size([8, 18])\n",
      "logits.shape: torch.Size([8, 18])\n",
      "yb_indices.shape: torch.Size([8, 18])\n"
     ]
    },
    {
     "name": "stderr",
     "output_type": "stream",
     "text": [
      "468it [01:24,  4.68it/s]"
     ]
    },
    {
     "name": "stdout",
     "output_type": "stream",
     "text": [
      "logits.shape: torch.Size([8, 18])\n",
      "yb_indices.shape: torch.Size([8, 18])\n"
     ]
    },
    {
     "name": "stderr",
     "output_type": "stream",
     "text": [
      "469it [01:24,  4.90it/s]"
     ]
    },
    {
     "name": "stdout",
     "output_type": "stream",
     "text": [
      "logits.shape: torch.Size([8, 18])\n",
      "yb_indices.shape: torch.Size([8, 18])\n",
      "logits.shape: torch.Size([8, 18])\n",
      "yb_indices.shape: torch.Size([8, 18])\n"
     ]
    },
    {
     "name": "stderr",
     "output_type": "stream",
     "text": [
      "471it [01:25,  4.47it/s]"
     ]
    },
    {
     "name": "stdout",
     "output_type": "stream",
     "text": [
      "logits.shape: torch.Size([8, 18])\n",
      "yb_indices.shape: torch.Size([8, 18])\n"
     ]
    },
    {
     "name": "stderr",
     "output_type": "stream",
     "text": [
      "472it [01:25,  4.83it/s]"
     ]
    },
    {
     "name": "stdout",
     "output_type": "stream",
     "text": [
      "logits.shape: torch.Size([8, 18])\n",
      "yb_indices.shape: torch.Size([8, 18])\n",
      "logits.shape: torch.Size([8, 18])\n",
      "yb_indices.shape: torch.Size([8, 18])\n"
     ]
    },
    {
     "name": "stderr",
     "output_type": "stream",
     "text": [
      "474it [01:25,  5.57it/s]"
     ]
    },
    {
     "name": "stdout",
     "output_type": "stream",
     "text": [
      "logits.shape: torch.Size([8, 18])\n",
      "yb_indices.shape: torch.Size([8, 18])\n",
      "logits.shape: torch.Size([8, 18])\n",
      "yb_indices.shape: torch.Size([8, 18])\n"
     ]
    },
    {
     "name": "stderr",
     "output_type": "stream",
     "text": [
      "476it [01:26,  5.58it/s]"
     ]
    },
    {
     "name": "stdout",
     "output_type": "stream",
     "text": [
      "logits.shape: torch.Size([8, 18])\n",
      "yb_indices.shape: torch.Size([8, 18])\n",
      "logits.shape: torch.Size([8, 18])\n",
      "yb_indices.shape: torch.Size([8, 18])\n"
     ]
    },
    {
     "name": "stderr",
     "output_type": "stream",
     "text": [
      "478it [01:26,  5.63it/s]"
     ]
    },
    {
     "name": "stdout",
     "output_type": "stream",
     "text": [
      "logits.shape: torch.Size([8, 18])\n",
      "yb_indices.shape: torch.Size([8, 18])\n",
      "logits.shape: torch.Size([8, 18])\n",
      "yb_indices.shape: torch.Size([8, 18])\n"
     ]
    },
    {
     "name": "stderr",
     "output_type": "stream",
     "text": [
      "480it [01:26,  5.94it/s]"
     ]
    },
    {
     "name": "stdout",
     "output_type": "stream",
     "text": [
      "logits.shape: torch.Size([8, 18])\n",
      "yb_indices.shape: torch.Size([8, 18])\n",
      "logits.shape: torch.Size([8, 18])\n",
      "yb_indices.shape: torch.Size([8, 18])\n"
     ]
    },
    {
     "name": "stderr",
     "output_type": "stream",
     "text": [
      "482it [01:27,  6.47it/s]"
     ]
    },
    {
     "name": "stdout",
     "output_type": "stream",
     "text": [
      "logits.shape: torch.Size([8, 18])\n",
      "yb_indices.shape: torch.Size([8, 18])\n",
      "logits.shape: torch.Size([8, 18])\n",
      "yb_indices.shape: torch.Size([8, 18])\n"
     ]
    },
    {
     "name": "stderr",
     "output_type": "stream",
     "text": [
      "484it [01:27,  6.45it/s]"
     ]
    },
    {
     "name": "stdout",
     "output_type": "stream",
     "text": [
      "logits.shape: torch.Size([8, 18])\n",
      "yb_indices.shape: torch.Size([8, 18])\n",
      "logits.shape: torch.Size([8, 18])\n",
      "yb_indices.shape: torch.Size([8, 18])\n"
     ]
    },
    {
     "name": "stderr",
     "output_type": "stream",
     "text": [
      "486it [01:27,  6.08it/s]"
     ]
    },
    {
     "name": "stdout",
     "output_type": "stream",
     "text": [
      "logits.shape: torch.Size([8, 18])\n",
      "yb_indices.shape: torch.Size([8, 18])\n",
      "logits.shape: torch.Size([8, 18])\n",
      "yb_indices.shape: torch.Size([8, 18])\n"
     ]
    },
    {
     "name": "stderr",
     "output_type": "stream",
     "text": [
      "488it [01:28,  5.55it/s]"
     ]
    },
    {
     "name": "stdout",
     "output_type": "stream",
     "text": [
      "logits.shape: torch.Size([8, 18])\n",
      "yb_indices.shape: torch.Size([8, 18])\n",
      "logits.shape: torch.Size([8, 18])\n",
      "yb_indices.shape: torch.Size([8, 18])\n"
     ]
    },
    {
     "name": "stderr",
     "output_type": "stream",
     "text": [
      "490it [01:28,  5.76it/s]"
     ]
    },
    {
     "name": "stdout",
     "output_type": "stream",
     "text": [
      "logits.shape: torch.Size([8, 18])\n",
      "yb_indices.shape: torch.Size([8, 18])\n",
      "logits.shape: torch.Size([8, 18])\n",
      "yb_indices.shape: torch.Size([8, 18])\n"
     ]
    },
    {
     "name": "stderr",
     "output_type": "stream",
     "text": [
      "492it [01:28,  5.64it/s]"
     ]
    },
    {
     "name": "stdout",
     "output_type": "stream",
     "text": [
      "logits.shape: torch.Size([8, 18])\n",
      "yb_indices.shape: torch.Size([8, 18])\n",
      "logits.shape: torch.Size([8, 18])\n",
      "yb_indices.shape: torch.Size([8, 18])\n"
     ]
    },
    {
     "name": "stderr",
     "output_type": "stream",
     "text": [
      "494it [01:29,  5.36it/s]"
     ]
    },
    {
     "name": "stdout",
     "output_type": "stream",
     "text": [
      "logits.shape: torch.Size([8, 18])\n",
      "yb_indices.shape: torch.Size([8, 18])\n",
      "logits.shape: torch.Size([8, 18])\n",
      "yb_indices.shape: torch.Size([8, 18])\n"
     ]
    },
    {
     "name": "stderr",
     "output_type": "stream",
     "text": [
      "496it [01:29,  5.89it/s]"
     ]
    },
    {
     "name": "stdout",
     "output_type": "stream",
     "text": [
      "logits.shape: torch.Size([8, 18])\n",
      "yb_indices.shape: torch.Size([8, 18])\n",
      "logits.shape: torch.Size([8, 18])\n",
      "yb_indices.shape: torch.Size([8, 18])\n"
     ]
    },
    {
     "name": "stderr",
     "output_type": "stream",
     "text": [
      "498it [01:30,  5.17it/s]"
     ]
    },
    {
     "name": "stdout",
     "output_type": "stream",
     "text": [
      "logits.shape: torch.Size([8, 18])\n",
      "yb_indices.shape: torch.Size([8, 18])\n",
      "logits.shape: torch.Size([8, 18])\n",
      "yb_indices.shape: torch.Size([8, 18])\n"
     ]
    },
    {
     "name": "stderr",
     "output_type": "stream",
     "text": [
      "500it [01:30,  5.83it/s]"
     ]
    },
    {
     "name": "stdout",
     "output_type": "stream",
     "text": [
      "logits.shape: torch.Size([8, 18])\n",
      "yb_indices.shape: torch.Size([8, 18])\n",
      "logits.shape: torch.Size([8, 18])\n",
      "yb_indices.shape: torch.Size([8, 18])\n"
     ]
    },
    {
     "name": "stderr",
     "output_type": "stream",
     "text": [
      "502it [01:30,  6.44it/s]"
     ]
    },
    {
     "name": "stdout",
     "output_type": "stream",
     "text": [
      "logits.shape: torch.Size([8, 18])\n",
      "yb_indices.shape: torch.Size([8, 18])\n",
      "logits.shape: torch.Size([8, 18])\n",
      "yb_indices.shape: torch.Size([8, 18])\n"
     ]
    },
    {
     "name": "stderr",
     "output_type": "stream",
     "text": [
      "504it [01:30,  6.60it/s]"
     ]
    },
    {
     "name": "stdout",
     "output_type": "stream",
     "text": [
      "logits.shape: torch.Size([8, 18])\n",
      "yb_indices.shape: torch.Size([8, 18])\n",
      "logits.shape: torch.Size([8, 18])\n",
      "yb_indices.shape: torch.Size([8, 18])\n"
     ]
    },
    {
     "name": "stderr",
     "output_type": "stream",
     "text": [
      "506it [01:31,  6.77it/s]"
     ]
    },
    {
     "name": "stdout",
     "output_type": "stream",
     "text": [
      "logits.shape: torch.Size([8, 18])\n",
      "yb_indices.shape: torch.Size([8, 18])\n",
      "logits.shape: torch.Size([8, 18])\n",
      "yb_indices.shape: torch.Size([8, 18])\n"
     ]
    },
    {
     "name": "stderr",
     "output_type": "stream",
     "text": [
      "508it [01:31,  6.21it/s]"
     ]
    },
    {
     "name": "stdout",
     "output_type": "stream",
     "text": [
      "logits.shape: torch.Size([8, 18])\n",
      "yb_indices.shape: torch.Size([8, 18])\n",
      "logits.shape: torch.Size([8, 18])\n",
      "yb_indices.shape: torch.Size([8, 18])\n"
     ]
    },
    {
     "name": "stderr",
     "output_type": "stream",
     "text": [
      "510it [01:31,  6.47it/s]"
     ]
    },
    {
     "name": "stdout",
     "output_type": "stream",
     "text": [
      "logits.shape: torch.Size([8, 18])\n",
      "yb_indices.shape: torch.Size([8, 18])\n",
      "logits.shape: torch.Size([8, 18])\n",
      "yb_indices.shape: torch.Size([8, 18])\n"
     ]
    },
    {
     "name": "stderr",
     "output_type": "stream",
     "text": [
      "512it [01:32,  5.88it/s]"
     ]
    },
    {
     "name": "stdout",
     "output_type": "stream",
     "text": [
      "logits.shape: torch.Size([8, 18])\n",
      "yb_indices.shape: torch.Size([8, 18])\n",
      "logits.shape: torch.Size([8, 18])\n",
      "yb_indices.shape: torch.Size([8, 18])\n"
     ]
    },
    {
     "name": "stderr",
     "output_type": "stream",
     "text": [
      "514it [01:32,  6.11it/s]"
     ]
    },
    {
     "name": "stdout",
     "output_type": "stream",
     "text": [
      "logits.shape: torch.Size([8, 18])\n",
      "yb_indices.shape: torch.Size([8, 18])\n",
      "logits.shape: torch.Size([8, 18])\n",
      "yb_indices.shape: torch.Size([8, 18])\n"
     ]
    },
    {
     "name": "stderr",
     "output_type": "stream",
     "text": [
      "516it [01:32,  6.39it/s]"
     ]
    },
    {
     "name": "stdout",
     "output_type": "stream",
     "text": [
      "logits.shape: torch.Size([8, 18])\n",
      "yb_indices.shape: torch.Size([8, 18])\n",
      "logits.shape: torch.Size([8, 18])\n",
      "yb_indices.shape: torch.Size([8, 18])\n"
     ]
    },
    {
     "name": "stderr",
     "output_type": "stream",
     "text": [
      "518it [01:33,  6.08it/s]"
     ]
    },
    {
     "name": "stdout",
     "output_type": "stream",
     "text": [
      "logits.shape: torch.Size([8, 18])\n",
      "yb_indices.shape: torch.Size([8, 18])\n",
      "logits.shape: torch.Size([8, 18])\n",
      "yb_indices.shape: torch.Size([8, 18])\n"
     ]
    },
    {
     "name": "stderr",
     "output_type": "stream",
     "text": [
      "520it [01:33,  5.84it/s]"
     ]
    },
    {
     "name": "stdout",
     "output_type": "stream",
     "text": [
      "logits.shape: torch.Size([8, 18])\n",
      "yb_indices.shape: torch.Size([8, 18])\n",
      "logits.shape: torch.Size([8, 18])\n",
      "yb_indices.shape: torch.Size([8, 18])\n"
     ]
    },
    {
     "name": "stderr",
     "output_type": "stream",
     "text": [
      "522it [01:33,  6.00it/s]"
     ]
    },
    {
     "name": "stdout",
     "output_type": "stream",
     "text": [
      "logits.shape: torch.Size([8, 18])\n",
      "yb_indices.shape: torch.Size([8, 18])\n",
      "logits.shape: torch.Size([8, 18])\n",
      "yb_indices.shape: torch.Size([8, 18])\n"
     ]
    },
    {
     "name": "stderr",
     "output_type": "stream",
     "text": [
      "524it [01:34,  5.02it/s]"
     ]
    },
    {
     "name": "stdout",
     "output_type": "stream",
     "text": [
      "logits.shape: torch.Size([8, 18])\n",
      "yb_indices.shape: torch.Size([8, 18])\n"
     ]
    },
    {
     "name": "stderr",
     "output_type": "stream",
     "text": [
      "525it [01:34,  4.94it/s]"
     ]
    },
    {
     "name": "stdout",
     "output_type": "stream",
     "text": [
      "logits.shape: torch.Size([8, 18])\n",
      "yb_indices.shape: torch.Size([8, 18])\n",
      "logits.shape: torch.Size([8, 18])\n",
      "yb_indices.shape: torch.Size([8, 18])\n"
     ]
    },
    {
     "name": "stderr",
     "output_type": "stream",
     "text": [
      "527it [01:34,  4.68it/s]"
     ]
    },
    {
     "name": "stdout",
     "output_type": "stream",
     "text": [
      "logits.shape: torch.Size([8, 18])\n",
      "yb_indices.shape: torch.Size([8, 18])\n"
     ]
    },
    {
     "name": "stderr",
     "output_type": "stream",
     "text": [
      "528it [01:35,  4.94it/s]"
     ]
    },
    {
     "name": "stdout",
     "output_type": "stream",
     "text": [
      "logits.shape: torch.Size([8, 18])\n",
      "yb_indices.shape: torch.Size([8, 18])\n",
      "logits.shape: torch.Size([8, 18])\n",
      "yb_indices.shape: torch.Size([8, 18])\n"
     ]
    },
    {
     "name": "stderr",
     "output_type": "stream",
     "text": [
      "530it [01:35,  4.89it/s]"
     ]
    },
    {
     "name": "stdout",
     "output_type": "stream",
     "text": [
      "logits.shape: torch.Size([8, 18])\n",
      "yb_indices.shape: torch.Size([8, 18])\n"
     ]
    },
    {
     "name": "stderr",
     "output_type": "stream",
     "text": [
      "531it [01:35,  4.67it/s]"
     ]
    },
    {
     "name": "stdout",
     "output_type": "stream",
     "text": [
      "logits.shape: torch.Size([8, 18])\n",
      "yb_indices.shape: torch.Size([8, 18])\n"
     ]
    },
    {
     "name": "stderr",
     "output_type": "stream",
     "text": [
      "532it [01:35,  4.89it/s]"
     ]
    },
    {
     "name": "stdout",
     "output_type": "stream",
     "text": [
      "logits.shape: torch.Size([8, 18])\n",
      "yb_indices.shape: torch.Size([8, 18])\n",
      "logits.shape: torch.Size([8, 18])\n",
      "yb_indices.shape: torch.Size([8, 18])\n"
     ]
    },
    {
     "name": "stderr",
     "output_type": "stream",
     "text": [
      "534it [01:36,  4.78it/s]"
     ]
    },
    {
     "name": "stdout",
     "output_type": "stream",
     "text": [
      "logits.shape: torch.Size([8, 18])\n",
      "yb_indices.shape: torch.Size([8, 18])\n",
      "logits.shape: torch.Size([8, 18])\n",
      "yb_indices.shape: torch.Size([8, 18])\n"
     ]
    },
    {
     "name": "stderr",
     "output_type": "stream",
     "text": [
      "536it [01:36,  5.54it/s]"
     ]
    },
    {
     "name": "stdout",
     "output_type": "stream",
     "text": [
      "logits.shape: torch.Size([8, 18])\n",
      "yb_indices.shape: torch.Size([8, 18])\n",
      "logits.shape: torch.Size([8, 18])\n",
      "yb_indices.shape: torch.Size([8, 18])\n"
     ]
    },
    {
     "name": "stderr",
     "output_type": "stream",
     "text": [
      "538it [01:36,  6.00it/s]"
     ]
    },
    {
     "name": "stdout",
     "output_type": "stream",
     "text": [
      "logits.shape: torch.Size([8, 18])\n",
      "yb_indices.shape: torch.Size([8, 18])\n",
      "logits.shape: torch.Size([8, 18])\n",
      "yb_indices.shape: torch.Size([8, 18])\n"
     ]
    },
    {
     "name": "stderr",
     "output_type": "stream",
     "text": [
      "540it [01:37,  6.03it/s]"
     ]
    },
    {
     "name": "stdout",
     "output_type": "stream",
     "text": [
      "logits.shape: torch.Size([8, 18])\n",
      "yb_indices.shape: torch.Size([8, 18])\n",
      "logits.shape: torch.Size([8, 18])\n",
      "yb_indices.shape: torch.Size([8, 18])\n"
     ]
    },
    {
     "name": "stderr",
     "output_type": "stream",
     "text": [
      "542it [01:37,  5.90it/s]"
     ]
    },
    {
     "name": "stdout",
     "output_type": "stream",
     "text": [
      "logits.shape: torch.Size([8, 18])\n",
      "yb_indices.shape: torch.Size([8, 18])\n",
      "logits.shape: torch.Size([8, 18])\n",
      "yb_indices.shape: torch.Size([8, 18])\n"
     ]
    },
    {
     "name": "stderr",
     "output_type": "stream",
     "text": [
      "544it [01:38,  5.55it/s]"
     ]
    },
    {
     "name": "stdout",
     "output_type": "stream",
     "text": [
      "logits.shape: torch.Size([8, 18])\n",
      "yb_indices.shape: torch.Size([8, 18])\n",
      "logits.shape: torch.Size([8, 18])\n",
      "yb_indices.shape: torch.Size([8, 18])\n"
     ]
    },
    {
     "name": "stderr",
     "output_type": "stream",
     "text": [
      "546it [01:38,  4.92it/s]"
     ]
    },
    {
     "name": "stdout",
     "output_type": "stream",
     "text": [
      "logits.shape: torch.Size([8, 18])\n",
      "yb_indices.shape: torch.Size([8, 18])\n",
      "logits.shape: torch.Size([8, 18])\n",
      "yb_indices.shape: torch.Size([8, 18])\n"
     ]
    },
    {
     "name": "stderr",
     "output_type": "stream",
     "text": [
      "548it [01:38,  5.46it/s]"
     ]
    },
    {
     "name": "stdout",
     "output_type": "stream",
     "text": [
      "logits.shape: torch.Size([8, 18])\n",
      "yb_indices.shape: torch.Size([8, 18])\n",
      "logits.shape: torch.Size([8, 18])\n",
      "yb_indices.shape: torch.Size([8, 18])\n"
     ]
    },
    {
     "name": "stderr",
     "output_type": "stream",
     "text": [
      "550it [01:39,  6.00it/s]"
     ]
    },
    {
     "name": "stdout",
     "output_type": "stream",
     "text": [
      "logits.shape: torch.Size([8, 18])\n",
      "yb_indices.shape: torch.Size([8, 18])\n",
      "logits.shape: torch.Size([8, 18])\n",
      "yb_indices.shape: torch.Size([8, 18])\n"
     ]
    },
    {
     "name": "stderr",
     "output_type": "stream",
     "text": [
      "552it [01:39,  6.53it/s]"
     ]
    },
    {
     "name": "stdout",
     "output_type": "stream",
     "text": [
      "logits.shape: torch.Size([8, 18])\n",
      "yb_indices.shape: torch.Size([8, 18])\n",
      "logits.shape: torch.Size([8, 18])\n",
      "yb_indices.shape: torch.Size([8, 18])\n"
     ]
    },
    {
     "name": "stderr",
     "output_type": "stream",
     "text": [
      "554it [01:39,  6.24it/s]"
     ]
    },
    {
     "name": "stdout",
     "output_type": "stream",
     "text": [
      "logits.shape: torch.Size([8, 18])\n",
      "yb_indices.shape: torch.Size([8, 18])\n",
      "logits.shape: torch.Size([8, 18])\n",
      "yb_indices.shape: torch.Size([8, 18])\n"
     ]
    },
    {
     "name": "stderr",
     "output_type": "stream",
     "text": [
      "556it [01:40,  6.21it/s]"
     ]
    },
    {
     "name": "stdout",
     "output_type": "stream",
     "text": [
      "logits.shape: torch.Size([8, 18])\n",
      "yb_indices.shape: torch.Size([8, 18])\n",
      "logits.shape: torch.Size([8, 18])\n",
      "yb_indices.shape: torch.Size([8, 18])\n"
     ]
    },
    {
     "name": "stderr",
     "output_type": "stream",
     "text": [
      "558it [01:40,  6.28it/s]"
     ]
    },
    {
     "name": "stdout",
     "output_type": "stream",
     "text": [
      "logits.shape: torch.Size([8, 18])\n",
      "yb_indices.shape: torch.Size([8, 18])\n",
      "logits.shape: torch.Size([8, 18])\n",
      "yb_indices.shape: torch.Size([8, 18])\n"
     ]
    },
    {
     "name": "stderr",
     "output_type": "stream",
     "text": [
      "560it [01:40,  6.00it/s]"
     ]
    },
    {
     "name": "stdout",
     "output_type": "stream",
     "text": [
      "logits.shape: torch.Size([8, 18])\n",
      "yb_indices.shape: torch.Size([8, 18])\n",
      "logits.shape: torch.Size([8, 18])\n",
      "yb_indices.shape: torch.Size([8, 18])\n"
     ]
    },
    {
     "name": "stderr",
     "output_type": "stream",
     "text": [
      "562it [01:41,  5.59it/s]"
     ]
    },
    {
     "name": "stdout",
     "output_type": "stream",
     "text": [
      "logits.shape: torch.Size([8, 18])\n",
      "yb_indices.shape: torch.Size([8, 18])\n",
      "logits.shape: torch.Size([8, 18])\n",
      "yb_indices.shape: torch.Size([8, 18])\n"
     ]
    },
    {
     "name": "stderr",
     "output_type": "stream",
     "text": [
      "564it [01:41,  4.28it/s]"
     ]
    },
    {
     "name": "stdout",
     "output_type": "stream",
     "text": [
      "logits.shape: torch.Size([8, 18])\n",
      "yb_indices.shape: torch.Size([8, 18])\n",
      "logits.shape: torch.Size([8, 18])\n",
      "yb_indices.shape: torch.Size([8, 18])\n"
     ]
    },
    {
     "name": "stderr",
     "output_type": "stream",
     "text": [
      "566it [01:42,  4.76it/s]"
     ]
    },
    {
     "name": "stdout",
     "output_type": "stream",
     "text": [
      "logits.shape: torch.Size([8, 18])\n",
      "yb_indices.shape: torch.Size([8, 18])\n",
      "logits.shape: torch.Size([8, 18])\n",
      "yb_indices.shape: torch.Size([8, 18])\n"
     ]
    },
    {
     "name": "stderr",
     "output_type": "stream",
     "text": [
      "568it [01:42,  5.25it/s]"
     ]
    },
    {
     "name": "stdout",
     "output_type": "stream",
     "text": [
      "logits.shape: torch.Size([8, 18])\n",
      "yb_indices.shape: torch.Size([8, 18])\n",
      "logits.shape: torch.Size([8, 18])\n",
      "yb_indices.shape: torch.Size([8, 18])\n"
     ]
    },
    {
     "name": "stderr",
     "output_type": "stream",
     "text": [
      "570it [01:42,  4.95it/s]"
     ]
    },
    {
     "name": "stdout",
     "output_type": "stream",
     "text": [
      "logits.shape: torch.Size([8, 18])\n",
      "yb_indices.shape: torch.Size([8, 18])\n",
      "logits.shape: torch.Size([8, 18])\n",
      "yb_indices.shape: torch.Size([8, 18])\n"
     ]
    },
    {
     "name": "stderr",
     "output_type": "stream",
     "text": [
      "572it [01:43,  4.92it/s]"
     ]
    },
    {
     "name": "stdout",
     "output_type": "stream",
     "text": [
      "logits.shape: torch.Size([8, 18])\n",
      "yb_indices.shape: torch.Size([8, 18])\n",
      "logits.shape: torch.Size([8, 18])\n",
      "yb_indices.shape: torch.Size([8, 18])\n"
     ]
    },
    {
     "name": "stderr",
     "output_type": "stream",
     "text": [
      "574it [01:43,  5.04it/s]"
     ]
    },
    {
     "name": "stdout",
     "output_type": "stream",
     "text": [
      "logits.shape: torch.Size([8, 18])\n",
      "yb_indices.shape: torch.Size([8, 18])\n",
      "logits.shape: torch.Size([8, 18])\n",
      "yb_indices.shape: torch.Size([8, 18])\n"
     ]
    },
    {
     "name": "stderr",
     "output_type": "stream",
     "text": [
      "576it [01:43,  5.54it/s]"
     ]
    },
    {
     "name": "stdout",
     "output_type": "stream",
     "text": [
      "logits.shape: torch.Size([8, 18])\n",
      "yb_indices.shape: torch.Size([8, 18])\n",
      "logits.shape: torch.Size([8, 18])\n",
      "yb_indices.shape: torch.Size([8, 18])\n"
     ]
    },
    {
     "name": "stderr",
     "output_type": "stream",
     "text": [
      "578it [01:44,  5.92it/s]"
     ]
    },
    {
     "name": "stdout",
     "output_type": "stream",
     "text": [
      "logits.shape: torch.Size([8, 18])\n",
      "yb_indices.shape: torch.Size([8, 18])\n",
      "logits.shape: torch.Size([8, 18])\n",
      "yb_indices.shape: torch.Size([8, 18])\n"
     ]
    },
    {
     "name": "stderr",
     "output_type": "stream",
     "text": [
      "580it [01:44,  5.83it/s]"
     ]
    },
    {
     "name": "stdout",
     "output_type": "stream",
     "text": [
      "logits.shape: torch.Size([8, 18])\n",
      "yb_indices.shape: torch.Size([8, 18])\n",
      "logits.shape: torch.Size([8, 18])\n",
      "yb_indices.shape: torch.Size([8, 18])\n"
     ]
    },
    {
     "name": "stderr",
     "output_type": "stream",
     "text": [
      "582it [01:44,  5.90it/s]"
     ]
    },
    {
     "name": "stdout",
     "output_type": "stream",
     "text": [
      "logits.shape: torch.Size([8, 18])\n",
      "yb_indices.shape: torch.Size([8, 18])\n",
      "logits.shape: torch.Size([8, 18])\n",
      "yb_indices.shape: torch.Size([8, 18])\n"
     ]
    },
    {
     "name": "stderr",
     "output_type": "stream",
     "text": [
      "584it [01:45,  5.82it/s]"
     ]
    },
    {
     "name": "stdout",
     "output_type": "stream",
     "text": [
      "logits.shape: torch.Size([8, 18])\n",
      "yb_indices.shape: torch.Size([8, 18])\n",
      "logits.shape: torch.Size([8, 18])\n",
      "yb_indices.shape: torch.Size([8, 18])\n"
     ]
    },
    {
     "name": "stderr",
     "output_type": "stream",
     "text": [
      "586it [01:45,  5.78it/s]"
     ]
    },
    {
     "name": "stdout",
     "output_type": "stream",
     "text": [
      "logits.shape: torch.Size([8, 18])\n",
      "yb_indices.shape: torch.Size([8, 18])\n",
      "logits.shape: torch.Size([8, 18])\n",
      "yb_indices.shape: torch.Size([8, 18])\n"
     ]
    },
    {
     "name": "stderr",
     "output_type": "stream",
     "text": [
      "588it [01:46,  5.52it/s]"
     ]
    },
    {
     "name": "stdout",
     "output_type": "stream",
     "text": [
      "logits.shape: torch.Size([8, 18])\n",
      "yb_indices.shape: torch.Size([8, 18])\n"
     ]
    },
    {
     "name": "stderr",
     "output_type": "stream",
     "text": [
      "589it [01:46,  4.97it/s]"
     ]
    },
    {
     "name": "stdout",
     "output_type": "stream",
     "text": [
      "logits.shape: torch.Size([8, 18])\n",
      "yb_indices.shape: torch.Size([8, 18])\n"
     ]
    },
    {
     "name": "stderr",
     "output_type": "stream",
     "text": [
      "590it [01:46,  4.49it/s]"
     ]
    },
    {
     "name": "stdout",
     "output_type": "stream",
     "text": [
      "logits.shape: torch.Size([8, 18])\n",
      "yb_indices.shape: torch.Size([8, 18])\n",
      "logits.shape: torch.Size([8, 18])\n",
      "yb_indices.shape: torch.Size([8, 18])\n"
     ]
    },
    {
     "name": "stderr",
     "output_type": "stream",
     "text": [
      "592it [01:47,  3.75it/s]"
     ]
    },
    {
     "name": "stdout",
     "output_type": "stream",
     "text": [
      "logits.shape: torch.Size([8, 18])\n",
      "yb_indices.shape: torch.Size([8, 18])\n",
      "logits.shape: torch.Size([8, 18])\n",
      "yb_indices.shape: torch.Size([8, 18])\n"
     ]
    },
    {
     "name": "stderr",
     "output_type": "stream",
     "text": [
      "593it [01:47,  3.53it/s]"
     ]
    },
    {
     "name": "stdout",
     "output_type": "stream",
     "text": [
      "logits.shape: torch.Size([8, 18])\n",
      "yb_indices.shape: torch.Size([8, 18])\n"
     ]
    },
    {
     "name": "stderr",
     "output_type": "stream",
     "text": [
      "595it [01:48,  3.52it/s]"
     ]
    },
    {
     "name": "stdout",
     "output_type": "stream",
     "text": [
      "logits.shape: torch.Size([8, 18])\n",
      "yb_indices.shape: torch.Size([8, 18])\n"
     ]
    },
    {
     "name": "stderr",
     "output_type": "stream",
     "text": [
      "596it [01:48,  3.90it/s]"
     ]
    },
    {
     "name": "stdout",
     "output_type": "stream",
     "text": [
      "logits.shape: torch.Size([8, 18])\n",
      "yb_indices.shape: torch.Size([8, 18])\n",
      "logits.shape: torch.Size([8, 18])\n",
      "yb_indices.shape: torch.Size([8, 18])\n"
     ]
    },
    {
     "name": "stderr",
     "output_type": "stream",
     "text": [
      "598it [01:48,  4.56it/s]"
     ]
    },
    {
     "name": "stdout",
     "output_type": "stream",
     "text": [
      "logits.shape: torch.Size([8, 18])\n",
      "yb_indices.shape: torch.Size([8, 18])\n",
      "logits.shape: torch.Size([8, 18])\n",
      "yb_indices.shape: torch.Size([8, 18])\n"
     ]
    },
    {
     "name": "stderr",
     "output_type": "stream",
     "text": [
      "600it [01:49,  4.90it/s]"
     ]
    },
    {
     "name": "stdout",
     "output_type": "stream",
     "text": [
      "logits.shape: torch.Size([8, 18])\n",
      "yb_indices.shape: torch.Size([8, 18])\n",
      "logits.shape: torch.Size([8, 18])\n",
      "yb_indices.shape: torch.Size([8, 18])\n"
     ]
    },
    {
     "name": "stderr",
     "output_type": "stream",
     "text": [
      "602it [01:49,  5.40it/s]"
     ]
    },
    {
     "name": "stdout",
     "output_type": "stream",
     "text": [
      "logits.shape: torch.Size([8, 18])\n",
      "yb_indices.shape: torch.Size([8, 18])\n",
      "logits.shape: torch.Size([8, 18])\n",
      "yb_indices.shape: torch.Size([8, 18])\n"
     ]
    },
    {
     "name": "stderr",
     "output_type": "stream",
     "text": [
      "604it [01:49,  5.85it/s]"
     ]
    },
    {
     "name": "stdout",
     "output_type": "stream",
     "text": [
      "logits.shape: torch.Size([8, 18])\n",
      "yb_indices.shape: torch.Size([8, 18])\n",
      "logits.shape: torch.Size([8, 18])\n",
      "yb_indices.shape: torch.Size([8, 18])\n"
     ]
    },
    {
     "name": "stderr",
     "output_type": "stream",
     "text": [
      "606it [01:50,  5.48it/s]"
     ]
    },
    {
     "name": "stdout",
     "output_type": "stream",
     "text": [
      "logits.shape: torch.Size([8, 18])\n",
      "yb_indices.shape: torch.Size([8, 18])\n"
     ]
    },
    {
     "name": "stderr",
     "output_type": "stream",
     "text": [
      "607it [01:50,  5.39it/s]"
     ]
    },
    {
     "name": "stdout",
     "output_type": "stream",
     "text": [
      "logits.shape: torch.Size([8, 18])\n",
      "yb_indices.shape: torch.Size([8, 18])\n",
      "logits.shape: torch.Size([8, 18])\n",
      "yb_indices.shape: torch.Size([8, 18])\n"
     ]
    },
    {
     "name": "stderr",
     "output_type": "stream",
     "text": [
      "609it [01:50,  5.16it/s]"
     ]
    },
    {
     "name": "stdout",
     "output_type": "stream",
     "text": [
      "logits.shape: torch.Size([8, 18])\n",
      "yb_indices.shape: torch.Size([8, 18])\n",
      "logits.shape: torch.Size([8, 18])\n",
      "yb_indices.shape: torch.Size([8, 18])\n"
     ]
    },
    {
     "name": "stderr",
     "output_type": "stream",
     "text": [
      "611it [01:50,  5.71it/s]"
     ]
    },
    {
     "name": "stdout",
     "output_type": "stream",
     "text": [
      "logits.shape: torch.Size([8, 18])\n",
      "yb_indices.shape: torch.Size([8, 18])\n",
      "logits.shape: torch.Size([8, 18])\n",
      "yb_indices.shape: torch.Size([8, 18])\n"
     ]
    },
    {
     "name": "stderr",
     "output_type": "stream",
     "text": [
      "613it [01:51,  6.12it/s]"
     ]
    },
    {
     "name": "stdout",
     "output_type": "stream",
     "text": [
      "logits.shape: torch.Size([8, 18])\n",
      "yb_indices.shape: torch.Size([8, 18])\n",
      "logits.shape: torch.Size([8, 18])\n",
      "yb_indices.shape: torch.Size([8, 18])\n"
     ]
    },
    {
     "name": "stderr",
     "output_type": "stream",
     "text": [
      "615it [01:51,  6.58it/s]"
     ]
    },
    {
     "name": "stdout",
     "output_type": "stream",
     "text": [
      "logits.shape: torch.Size([8, 18])\n",
      "yb_indices.shape: torch.Size([8, 18])\n",
      "logits.shape: torch.Size([8, 18])\n",
      "yb_indices.shape: torch.Size([8, 18])\n"
     ]
    },
    {
     "name": "stderr",
     "output_type": "stream",
     "text": [
      "617it [01:51,  6.88it/s]"
     ]
    },
    {
     "name": "stdout",
     "output_type": "stream",
     "text": [
      "logits.shape: torch.Size([8, 18])\n",
      "yb_indices.shape: torch.Size([8, 18])\n",
      "logits.shape: torch.Size([8, 18])\n",
      "yb_indices.shape: torch.Size([8, 18])\n"
     ]
    },
    {
     "name": "stderr",
     "output_type": "stream",
     "text": [
      "619it [01:52,  6.49it/s]"
     ]
    },
    {
     "name": "stdout",
     "output_type": "stream",
     "text": [
      "logits.shape: torch.Size([8, 18])\n",
      "yb_indices.shape: torch.Size([8, 18])\n",
      "logits.shape: torch.Size([8, 18])\n",
      "yb_indices.shape: torch.Size([8, 18])\n"
     ]
    },
    {
     "name": "stderr",
     "output_type": "stream",
     "text": [
      "621it [01:52,  6.13it/s]"
     ]
    },
    {
     "name": "stdout",
     "output_type": "stream",
     "text": [
      "logits.shape: torch.Size([8, 18])\n",
      "yb_indices.shape: torch.Size([8, 18])\n"
     ]
    },
    {
     "name": "stderr",
     "output_type": "stream",
     "text": [
      "622it [01:52,  5.73it/s]"
     ]
    },
    {
     "name": "stdout",
     "output_type": "stream",
     "text": [
      "logits.shape: torch.Size([8, 18])\n",
      "yb_indices.shape: torch.Size([8, 18])\n",
      "logits.shape: torch.Size([8, 18])\n",
      "yb_indices.shape: torch.Size([8, 18])\n"
     ]
    },
    {
     "name": "stderr",
     "output_type": "stream",
     "text": [
      "624it [01:53,  6.19it/s]"
     ]
    },
    {
     "name": "stdout",
     "output_type": "stream",
     "text": [
      "logits.shape: torch.Size([8, 18])\n",
      "yb_indices.shape: torch.Size([8, 18])\n",
      "logits.shape: torch.Size([8, 18])\n",
      "yb_indices.shape: torch.Size([8, 18])\n"
     ]
    },
    {
     "name": "stderr",
     "output_type": "stream",
     "text": [
      "626it [01:53,  6.33it/s]"
     ]
    },
    {
     "name": "stdout",
     "output_type": "stream",
     "text": [
      "logits.shape: torch.Size([8, 18])\n",
      "yb_indices.shape: torch.Size([8, 18])\n",
      "logits.shape: torch.Size([8, 18])\n",
      "yb_indices.shape: torch.Size([8, 18])\n"
     ]
    },
    {
     "name": "stderr",
     "output_type": "stream",
     "text": [
      "628it [01:53,  5.03it/s]"
     ]
    },
    {
     "name": "stdout",
     "output_type": "stream",
     "text": [
      "logits.shape: torch.Size([8, 18])\n",
      "yb_indices.shape: torch.Size([8, 18])\n",
      "logits.shape: torch.Size([8, 18])\n",
      "yb_indices.shape: torch.Size([8, 18])\n"
     ]
    },
    {
     "name": "stderr",
     "output_type": "stream",
     "text": [
      "630it [01:54,  5.45it/s]"
     ]
    },
    {
     "name": "stdout",
     "output_type": "stream",
     "text": [
      "logits.shape: torch.Size([8, 18])\n",
      "yb_indices.shape: torch.Size([8, 18])\n",
      "logits.shape: torch.Size([8, 18])\n",
      "yb_indices.shape: torch.Size([8, 18])\n"
     ]
    },
    {
     "name": "stderr",
     "output_type": "stream",
     "text": [
      "632it [01:54,  6.01it/s]"
     ]
    },
    {
     "name": "stdout",
     "output_type": "stream",
     "text": [
      "logits.shape: torch.Size([8, 18])\n",
      "yb_indices.shape: torch.Size([8, 18])\n",
      "logits.shape: torch.Size([8, 18])\n",
      "yb_indices.shape: torch.Size([8, 18])\n"
     ]
    },
    {
     "name": "stderr",
     "output_type": "stream",
     "text": [
      "634it [01:54,  6.51it/s]"
     ]
    },
    {
     "name": "stdout",
     "output_type": "stream",
     "text": [
      "logits.shape: torch.Size([8, 18])\n",
      "yb_indices.shape: torch.Size([8, 18])\n",
      "logits.shape: torch.Size([8, 18])\n",
      "yb_indices.shape: torch.Size([8, 18])\n"
     ]
    },
    {
     "name": "stderr",
     "output_type": "stream",
     "text": [
      "636it [01:55,  5.70it/s]"
     ]
    },
    {
     "name": "stdout",
     "output_type": "stream",
     "text": [
      "logits.shape: torch.Size([8, 18])\n",
      "yb_indices.shape: torch.Size([8, 18])\n",
      "logits.shape: torch.Size([8, 18])\n",
      "yb_indices.shape: torch.Size([8, 18])\n"
     ]
    },
    {
     "name": "stderr",
     "output_type": "stream",
     "text": [
      "638it [01:55,  4.51it/s]"
     ]
    },
    {
     "name": "stdout",
     "output_type": "stream",
     "text": [
      "logits.shape: torch.Size([8, 18])\n",
      "yb_indices.shape: torch.Size([8, 18])\n"
     ]
    },
    {
     "name": "stderr",
     "output_type": "stream",
     "text": [
      "639it [01:55,  4.57it/s]"
     ]
    },
    {
     "name": "stdout",
     "output_type": "stream",
     "text": [
      "logits.shape: torch.Size([8, 18])\n",
      "yb_indices.shape: torch.Size([8, 18])\n",
      "logits.shape: torch.Size([8, 18])\n",
      "yb_indices.shape: torch.Size([8, 18])\n"
     ]
    },
    {
     "name": "stderr",
     "output_type": "stream",
     "text": [
      "641it [01:56,  4.95it/s]"
     ]
    },
    {
     "name": "stdout",
     "output_type": "stream",
     "text": [
      "logits.shape: torch.Size([8, 18])\n",
      "yb_indices.shape: torch.Size([8, 18])\n",
      "logits.shape: torch.Size([8, 18])\n",
      "yb_indices.shape: torch.Size([8, 18])\n"
     ]
    },
    {
     "name": "stderr",
     "output_type": "stream",
     "text": [
      "643it [01:56,  5.64it/s]"
     ]
    },
    {
     "name": "stdout",
     "output_type": "stream",
     "text": [
      "logits.shape: torch.Size([8, 18])\n",
      "yb_indices.shape: torch.Size([8, 18])\n",
      "logits.shape: torch.Size([8, 18])\n",
      "yb_indices.shape: torch.Size([8, 18])\n"
     ]
    },
    {
     "name": "stderr",
     "output_type": "stream",
     "text": [
      "645it [01:56,  5.76it/s]"
     ]
    },
    {
     "name": "stdout",
     "output_type": "stream",
     "text": [
      "logits.shape: torch.Size([8, 18])\n",
      "yb_indices.shape: torch.Size([8, 18])\n",
      "logits.shape: torch.Size([8, 18])\n",
      "yb_indices.shape: torch.Size([8, 18])\n"
     ]
    },
    {
     "name": "stderr",
     "output_type": "stream",
     "text": [
      "647it [01:57,  6.23it/s]"
     ]
    },
    {
     "name": "stdout",
     "output_type": "stream",
     "text": [
      "logits.shape: torch.Size([8, 18])\n",
      "yb_indices.shape: torch.Size([8, 18])\n",
      "logits.shape: torch.Size([8, 18])\n",
      "yb_indices.shape: torch.Size([8, 18])\n"
     ]
    },
    {
     "name": "stderr",
     "output_type": "stream",
     "text": [
      "649it [01:57,  6.54it/s]"
     ]
    },
    {
     "name": "stdout",
     "output_type": "stream",
     "text": [
      "logits.shape: torch.Size([8, 18])\n",
      "yb_indices.shape: torch.Size([8, 18])\n",
      "logits.shape: torch.Size([8, 18])\n",
      "yb_indices.shape: torch.Size([8, 18])\n"
     ]
    },
    {
     "name": "stderr",
     "output_type": "stream",
     "text": [
      "651it [01:57,  6.98it/s]"
     ]
    },
    {
     "name": "stdout",
     "output_type": "stream",
     "text": [
      "logits.shape: torch.Size([8, 18])\n",
      "yb_indices.shape: torch.Size([8, 18])\n",
      "logits.shape: torch.Size([8, 18])\n",
      "yb_indices.shape: torch.Size([8, 18])\n"
     ]
    },
    {
     "name": "stderr",
     "output_type": "stream",
     "text": [
      "653it [01:58,  5.58it/s]"
     ]
    },
    {
     "name": "stdout",
     "output_type": "stream",
     "text": [
      "logits.shape: torch.Size([8, 18])\n",
      "yb_indices.shape: torch.Size([8, 18])\n"
     ]
    },
    {
     "name": "stderr",
     "output_type": "stream",
     "text": [
      "654it [01:58,  5.65it/s]"
     ]
    },
    {
     "name": "stdout",
     "output_type": "stream",
     "text": [
      "logits.shape: torch.Size([8, 18])\n",
      "yb_indices.shape: torch.Size([8, 18])\n",
      "logits.shape: torch.Size([8, 18])\n",
      "yb_indices.shape: torch.Size([8, 18])\n"
     ]
    },
    {
     "name": "stderr",
     "output_type": "stream",
     "text": [
      "656it [01:58,  5.50it/s]"
     ]
    },
    {
     "name": "stdout",
     "output_type": "stream",
     "text": [
      "logits.shape: torch.Size([8, 18])\n",
      "yb_indices.shape: torch.Size([8, 18])\n",
      "logits.shape: torch.Size([8, 18])\n",
      "yb_indices.shape: torch.Size([8, 18])\n"
     ]
    },
    {
     "name": "stderr",
     "output_type": "stream",
     "text": [
      "658it [01:59,  4.89it/s]"
     ]
    },
    {
     "name": "stdout",
     "output_type": "stream",
     "text": [
      "logits.shape: torch.Size([8, 18])\n",
      "yb_indices.shape: torch.Size([8, 18])\n"
     ]
    },
    {
     "name": "stderr",
     "output_type": "stream",
     "text": [
      "659it [01:59,  4.91it/s]"
     ]
    },
    {
     "name": "stdout",
     "output_type": "stream",
     "text": [
      "logits.shape: torch.Size([8, 18])\n",
      "yb_indices.shape: torch.Size([8, 18])\n",
      "logits.shape: torch.Size([8, 18])\n",
      "yb_indices.shape: torch.Size([8, 18])\n"
     ]
    },
    {
     "name": "stderr",
     "output_type": "stream",
     "text": [
      "661it [01:59,  5.59it/s]"
     ]
    },
    {
     "name": "stdout",
     "output_type": "stream",
     "text": [
      "logits.shape: torch.Size([8, 18])\n",
      "yb_indices.shape: torch.Size([8, 18])\n",
      "logits.shape: torch.Size([8, 18])\n",
      "yb_indices.shape: torch.Size([8, 18])\n"
     ]
    },
    {
     "name": "stderr",
     "output_type": "stream",
     "text": [
      "663it [01:59,  5.80it/s]"
     ]
    },
    {
     "name": "stdout",
     "output_type": "stream",
     "text": [
      "logits.shape: torch.Size([8, 18])\n",
      "yb_indices.shape: torch.Size([8, 18])\n",
      "logits.shape: torch.Size([8, 18])\n",
      "yb_indices.shape: torch.Size([8, 18])\n"
     ]
    },
    {
     "name": "stderr",
     "output_type": "stream",
     "text": [
      "665it [02:00,  6.01it/s]"
     ]
    },
    {
     "name": "stdout",
     "output_type": "stream",
     "text": [
      "logits.shape: torch.Size([8, 18])\n",
      "yb_indices.shape: torch.Size([8, 18])\n",
      "logits.shape: torch.Size([8, 18])\n",
      "yb_indices.shape: torch.Size([8, 18])\n"
     ]
    },
    {
     "name": "stderr",
     "output_type": "stream",
     "text": [
      "667it [02:00,  6.19it/s]"
     ]
    },
    {
     "name": "stdout",
     "output_type": "stream",
     "text": [
      "logits.shape: torch.Size([8, 18])\n",
      "yb_indices.shape: torch.Size([8, 18])\n",
      "logits.shape: torch.Size([8, 18])\n",
      "yb_indices.shape: torch.Size([8, 18])\n"
     ]
    },
    {
     "name": "stderr",
     "output_type": "stream",
     "text": [
      "669it [02:00,  5.48it/s]"
     ]
    },
    {
     "name": "stdout",
     "output_type": "stream",
     "text": [
      "logits.shape: torch.Size([8, 18])\n",
      "yb_indices.shape: torch.Size([8, 18])\n"
     ]
    },
    {
     "name": "stderr",
     "output_type": "stream",
     "text": [
      "670it [02:01,  5.35it/s]"
     ]
    },
    {
     "name": "stdout",
     "output_type": "stream",
     "text": [
      "logits.shape: torch.Size([8, 18])\n",
      "yb_indices.shape: torch.Size([8, 18])\n",
      "logits.shape: torch.Size([8, 18])\n",
      "yb_indices.shape: torch.Size([8, 18])\n"
     ]
    },
    {
     "name": "stderr",
     "output_type": "stream",
     "text": [
      "672it [02:01,  5.19it/s]"
     ]
    },
    {
     "name": "stdout",
     "output_type": "stream",
     "text": [
      "logits.shape: torch.Size([8, 18])\n",
      "yb_indices.shape: torch.Size([8, 18])\n",
      "logits.shape: torch.Size([8, 18])\n",
      "yb_indices.shape: torch.Size([8, 18])\n"
     ]
    },
    {
     "name": "stderr",
     "output_type": "stream",
     "text": [
      "674it [02:01,  5.25it/s]"
     ]
    },
    {
     "name": "stdout",
     "output_type": "stream",
     "text": [
      "logits.shape: torch.Size([8, 18])\n",
      "yb_indices.shape: torch.Size([8, 18])\n",
      "logits.shape: torch.Size([8, 18])\n",
      "yb_indices.shape: torch.Size([8, 18])\n"
     ]
    },
    {
     "name": "stderr",
     "output_type": "stream",
     "text": [
      "675it [02:02,  5.27it/s]"
     ]
    },
    {
     "name": "stdout",
     "output_type": "stream",
     "text": [
      "logits.shape: torch.Size([8, 18])\n",
      "yb_indices.shape: torch.Size([8, 18])\n"
     ]
    },
    {
     "name": "stderr",
     "output_type": "stream",
     "text": [
      "676it [02:02,  4.67it/s]"
     ]
    },
    {
     "name": "stdout",
     "output_type": "stream",
     "text": [
      "logits.shape: torch.Size([8, 18])\n",
      "yb_indices.shape: torch.Size([8, 18])\n"
     ]
    },
    {
     "name": "stderr",
     "output_type": "stream",
     "text": [
      "677it [02:02,  3.29it/s]"
     ]
    },
    {
     "name": "stdout",
     "output_type": "stream",
     "text": [
      "logits.shape: torch.Size([8, 18])\n",
      "yb_indices.shape: torch.Size([8, 18])\n"
     ]
    },
    {
     "name": "stderr",
     "output_type": "stream",
     "text": [
      "678it [02:03,  2.34it/s]"
     ]
    },
    {
     "name": "stdout",
     "output_type": "stream",
     "text": [
      "logits.shape: torch.Size([8, 18])\n",
      "yb_indices.shape: torch.Size([8, 18])\n"
     ]
    },
    {
     "name": "stderr",
     "output_type": "stream",
     "text": [
      "680it [02:04,  2.64it/s]"
     ]
    },
    {
     "name": "stdout",
     "output_type": "stream",
     "text": [
      "logits.shape: torch.Size([8, 18])\n",
      "yb_indices.shape: torch.Size([8, 18])\n"
     ]
    },
    {
     "name": "stderr",
     "output_type": "stream",
     "text": [
      "681it [02:04,  3.09it/s]"
     ]
    },
    {
     "name": "stdout",
     "output_type": "stream",
     "text": [
      "logits.shape: torch.Size([8, 18])\n",
      "yb_indices.shape: torch.Size([8, 18])\n",
      "logits.shape: torch.Size([8, 18])\n",
      "yb_indices.shape: torch.Size([8, 18])\n"
     ]
    },
    {
     "name": "stderr",
     "output_type": "stream",
     "text": [
      "683it [02:04,  3.88it/s]"
     ]
    },
    {
     "name": "stdout",
     "output_type": "stream",
     "text": [
      "logits.shape: torch.Size([8, 18])\n",
      "yb_indices.shape: torch.Size([8, 18])\n",
      "logits.shape: torch.Size([8, 18])\n",
      "yb_indices.shape: torch.Size([8, 18])\n"
     ]
    },
    {
     "name": "stderr",
     "output_type": "stream",
     "text": [
      "685it [02:05,  4.63it/s]"
     ]
    },
    {
     "name": "stdout",
     "output_type": "stream",
     "text": [
      "logits.shape: torch.Size([8, 18])\n",
      "yb_indices.shape: torch.Size([8, 18])\n",
      "logits.shape: torch.Size([8, 18])\n",
      "yb_indices.shape: torch.Size([8, 18])\n"
     ]
    },
    {
     "name": "stderr",
     "output_type": "stream",
     "text": [
      "687it [02:05,  4.85it/s]"
     ]
    },
    {
     "name": "stdout",
     "output_type": "stream",
     "text": [
      "logits.shape: torch.Size([8, 18])\n",
      "yb_indices.shape: torch.Size([8, 18])\n"
     ]
    },
    {
     "name": "stderr",
     "output_type": "stream",
     "text": [
      "688it [02:05,  5.04it/s]"
     ]
    },
    {
     "name": "stdout",
     "output_type": "stream",
     "text": [
      "logits.shape: torch.Size([8, 18])\n",
      "yb_indices.shape: torch.Size([8, 18])\n",
      "logits.shape: torch.Size([8, 18])\n",
      "yb_indices.shape: torch.Size([8, 18])\n"
     ]
    },
    {
     "name": "stderr",
     "output_type": "stream",
     "text": [
      "690it [02:06,  5.45it/s]"
     ]
    },
    {
     "name": "stdout",
     "output_type": "stream",
     "text": [
      "logits.shape: torch.Size([8, 18])\n",
      "yb_indices.shape: torch.Size([8, 18])\n",
      "logits.shape: torch.Size([8, 18])\n",
      "yb_indices.shape: torch.Size([8, 18])\n"
     ]
    },
    {
     "name": "stderr",
     "output_type": "stream",
     "text": [
      "692it [02:06,  5.50it/s]"
     ]
    },
    {
     "name": "stdout",
     "output_type": "stream",
     "text": [
      "logits.shape: torch.Size([8, 18])\n",
      "yb_indices.shape: torch.Size([8, 18])\n",
      "logits.shape: torch.Size([8, 18])\n",
      "yb_indices.shape: torch.Size([8, 18])\n"
     ]
    },
    {
     "name": "stderr",
     "output_type": "stream",
     "text": [
      "694it [02:06,  5.92it/s]"
     ]
    },
    {
     "name": "stdout",
     "output_type": "stream",
     "text": [
      "logits.shape: torch.Size([8, 18])\n",
      "yb_indices.shape: torch.Size([8, 18])\n",
      "logits.shape: torch.Size([8, 18])\n",
      "yb_indices.shape: torch.Size([8, 18])\n"
     ]
    },
    {
     "name": "stderr",
     "output_type": "stream",
     "text": [
      "696it [02:07,  5.48it/s]"
     ]
    },
    {
     "name": "stdout",
     "output_type": "stream",
     "text": [
      "logits.shape: torch.Size([8, 18])\n",
      "yb_indices.shape: torch.Size([8, 18])\n",
      "logits.shape: torch.Size([8, 18])\n",
      "yb_indices.shape: torch.Size([8, 18])\n"
     ]
    },
    {
     "name": "stderr",
     "output_type": "stream",
     "text": [
      "698it [02:07,  5.75it/s]"
     ]
    },
    {
     "name": "stdout",
     "output_type": "stream",
     "text": [
      "logits.shape: torch.Size([8, 18])\n",
      "yb_indices.shape: torch.Size([8, 18])\n",
      "logits.shape: torch.Size([8, 18])\n",
      "yb_indices.shape: torch.Size([8, 18])\n"
     ]
    },
    {
     "name": "stderr",
     "output_type": "stream",
     "text": [
      "700it [02:07,  5.82it/s]"
     ]
    },
    {
     "name": "stdout",
     "output_type": "stream",
     "text": [
      "logits.shape: torch.Size([8, 18])\n",
      "yb_indices.shape: torch.Size([8, 18])\n",
      "logits.shape: torch.Size([8, 18])\n",
      "yb_indices.shape: torch.Size([8, 18])\n"
     ]
    },
    {
     "name": "stderr",
     "output_type": "stream",
     "text": [
      "702it [02:08,  5.41it/s]"
     ]
    },
    {
     "name": "stdout",
     "output_type": "stream",
     "text": [
      "logits.shape: torch.Size([8, 18])\n",
      "yb_indices.shape: torch.Size([8, 18])\n",
      "logits.shape: torch.Size([8, 18])\n",
      "yb_indices.shape: torch.Size([8, 18])\n"
     ]
    },
    {
     "name": "stderr",
     "output_type": "stream",
     "text": [
      "704it [02:08,  4.79it/s]"
     ]
    },
    {
     "name": "stdout",
     "output_type": "stream",
     "text": [
      "logits.shape: torch.Size([8, 18])\n",
      "yb_indices.shape: torch.Size([8, 18])\n",
      "logits.shape: torch.Size([8, 18])\n",
      "yb_indices.shape: torch.Size([8, 18])\n"
     ]
    },
    {
     "name": "stderr",
     "output_type": "stream",
     "text": [
      "706it [02:09,  4.33it/s]"
     ]
    },
    {
     "name": "stdout",
     "output_type": "stream",
     "text": [
      "logits.shape: torch.Size([8, 18])\n",
      "yb_indices.shape: torch.Size([8, 18])\n",
      "logits.shape: torch.Size([8, 18])\n",
      "yb_indices.shape: torch.Size([8, 18])\n"
     ]
    },
    {
     "name": "stderr",
     "output_type": "stream",
     "text": [
      "708it [02:09,  5.10it/s]"
     ]
    },
    {
     "name": "stdout",
     "output_type": "stream",
     "text": [
      "logits.shape: torch.Size([8, 18])\n",
      "yb_indices.shape: torch.Size([8, 18])\n",
      "logits.shape: torch.Size([8, 18])\n",
      "yb_indices.shape: torch.Size([8, 18])\n"
     ]
    },
    {
     "name": "stderr",
     "output_type": "stream",
     "text": [
      "710it [02:09,  5.50it/s]"
     ]
    },
    {
     "name": "stdout",
     "output_type": "stream",
     "text": [
      "logits.shape: torch.Size([8, 18])\n",
      "yb_indices.shape: torch.Size([8, 18])\n",
      "logits.shape: torch.Size([8, 18])\n",
      "yb_indices.shape: torch.Size([8, 18])\n"
     ]
    },
    {
     "name": "stderr",
     "output_type": "stream",
     "text": [
      "712it [02:10,  5.80it/s]"
     ]
    },
    {
     "name": "stdout",
     "output_type": "stream",
     "text": [
      "logits.shape: torch.Size([8, 18])\n",
      "yb_indices.shape: torch.Size([8, 18])\n",
      "logits.shape: torch.Size([8, 18])\n",
      "yb_indices.shape: torch.Size([8, 18])\n"
     ]
    },
    {
     "name": "stderr",
     "output_type": "stream",
     "text": [
      "714it [02:10,  5.63it/s]"
     ]
    },
    {
     "name": "stdout",
     "output_type": "stream",
     "text": [
      "logits.shape: torch.Size([8, 18])\n",
      "yb_indices.shape: torch.Size([8, 18])\n",
      "logits.shape: torch.Size([8, 18])\n",
      "yb_indices.shape: torch.Size([8, 18])\n"
     ]
    },
    {
     "name": "stderr",
     "output_type": "stream",
     "text": [
      "716it [02:10,  5.90it/s]"
     ]
    },
    {
     "name": "stdout",
     "output_type": "stream",
     "text": [
      "logits.shape: torch.Size([8, 18])\n",
      "yb_indices.shape: torch.Size([8, 18])\n",
      "logits.shape: torch.Size([8, 18])\n",
      "yb_indices.shape: torch.Size([8, 18])\n"
     ]
    },
    {
     "name": "stderr",
     "output_type": "stream",
     "text": [
      "718it [02:11,  6.09it/s]"
     ]
    },
    {
     "name": "stdout",
     "output_type": "stream",
     "text": [
      "logits.shape: torch.Size([8, 18])\n",
      "yb_indices.shape: torch.Size([8, 18])\n",
      "logits.shape: torch.Size([8, 18])\n",
      "yb_indices.shape: torch.Size([8, 18])\n"
     ]
    },
    {
     "name": "stderr",
     "output_type": "stream",
     "text": [
      "720it [02:11,  6.17it/s]"
     ]
    },
    {
     "name": "stdout",
     "output_type": "stream",
     "text": [
      "logits.shape: torch.Size([8, 18])\n",
      "yb_indices.shape: torch.Size([8, 18])\n",
      "logits.shape: torch.Size([8, 18])\n",
      "yb_indices.shape: torch.Size([8, 18])\n"
     ]
    },
    {
     "name": "stderr",
     "output_type": "stream",
     "text": [
      "722it [02:11,  6.23it/s]"
     ]
    },
    {
     "name": "stdout",
     "output_type": "stream",
     "text": [
      "logits.shape: torch.Size([8, 18])\n",
      "yb_indices.shape: torch.Size([8, 18])\n",
      "logits.shape: torch.Size([8, 18])\n",
      "yb_indices.shape: torch.Size([8, 18])\n"
     ]
    },
    {
     "name": "stderr",
     "output_type": "stream",
     "text": [
      "724it [02:12,  5.98it/s]"
     ]
    },
    {
     "name": "stdout",
     "output_type": "stream",
     "text": [
      "logits.shape: torch.Size([8, 18])\n",
      "yb_indices.shape: torch.Size([8, 18])\n",
      "logits.shape: torch.Size([8, 18])\n",
      "yb_indices.shape: torch.Size([8, 18])\n"
     ]
    },
    {
     "name": "stderr",
     "output_type": "stream",
     "text": [
      "726it [02:12,  4.97it/s]"
     ]
    },
    {
     "name": "stdout",
     "output_type": "stream",
     "text": [
      "logits.shape: torch.Size([8, 18])\n",
      "yb_indices.shape: torch.Size([8, 18])\n",
      "logits.shape: torch.Size([8, 18])\n",
      "yb_indices.shape: torch.Size([8, 18])\n"
     ]
    },
    {
     "name": "stderr",
     "output_type": "stream",
     "text": [
      "728it [02:13,  3.97it/s]"
     ]
    },
    {
     "name": "stdout",
     "output_type": "stream",
     "text": [
      "logits.shape: torch.Size([8, 18])\n",
      "yb_indices.shape: torch.Size([8, 18])\n"
     ]
    },
    {
     "name": "stderr",
     "output_type": "stream",
     "text": [
      "729it [02:13,  4.09it/s]"
     ]
    },
    {
     "name": "stdout",
     "output_type": "stream",
     "text": [
      "logits.shape: torch.Size([8, 18])\n",
      "yb_indices.shape: torch.Size([8, 18])\n"
     ]
    },
    {
     "name": "stderr",
     "output_type": "stream",
     "text": [
      "730it [02:13,  4.23it/s]"
     ]
    },
    {
     "name": "stdout",
     "output_type": "stream",
     "text": [
      "logits.shape: torch.Size([8, 18])\n",
      "yb_indices.shape: torch.Size([8, 18])\n"
     ]
    },
    {
     "name": "stderr",
     "output_type": "stream",
     "text": [
      "731it [02:13,  4.28it/s]"
     ]
    },
    {
     "name": "stdout",
     "output_type": "stream",
     "text": [
      "logits.shape: torch.Size([8, 18])\n",
      "yb_indices.shape: torch.Size([8, 18])\n",
      "logits.shape: torch.Size([8, 18])\n",
      "yb_indices.shape: torch.Size([8, 18])\n"
     ]
    },
    {
     "name": "stderr",
     "output_type": "stream",
     "text": [
      "733it [02:14,  4.94it/s]"
     ]
    },
    {
     "name": "stdout",
     "output_type": "stream",
     "text": [
      "logits.shape: torch.Size([8, 18])\n",
      "yb_indices.shape: torch.Size([8, 18])\n",
      "logits.shape: torch.Size([8, 18])\n",
      "yb_indices.shape: torch.Size([8, 18])\n"
     ]
    },
    {
     "name": "stderr",
     "output_type": "stream",
     "text": [
      "735it [02:14,  5.55it/s]"
     ]
    },
    {
     "name": "stdout",
     "output_type": "stream",
     "text": [
      "logits.shape: torch.Size([8, 18])\n",
      "yb_indices.shape: torch.Size([8, 18])\n",
      "logits.shape: torch.Size([8, 18])\n",
      "yb_indices.shape: torch.Size([8, 18])\n"
     ]
    },
    {
     "name": "stderr",
     "output_type": "stream",
     "text": [
      "737it [02:14,  5.96it/s]"
     ]
    },
    {
     "name": "stdout",
     "output_type": "stream",
     "text": [
      "logits.shape: torch.Size([8, 18])\n",
      "yb_indices.shape: torch.Size([8, 18])\n",
      "logits.shape: torch.Size([8, 18])\n",
      "yb_indices.shape: torch.Size([8, 18])\n"
     ]
    },
    {
     "name": "stderr",
     "output_type": "stream",
     "text": [
      "739it [02:15,  5.91it/s]"
     ]
    },
    {
     "name": "stdout",
     "output_type": "stream",
     "text": [
      "logits.shape: torch.Size([8, 18])\n",
      "yb_indices.shape: torch.Size([8, 18])\n",
      "logits.shape: torch.Size([8, 18])\n",
      "yb_indices.shape: torch.Size([8, 18])\n"
     ]
    },
    {
     "name": "stderr",
     "output_type": "stream",
     "text": [
      "741it [02:15,  6.09it/s]"
     ]
    },
    {
     "name": "stdout",
     "output_type": "stream",
     "text": [
      "logits.shape: torch.Size([8, 18])\n",
      "yb_indices.shape: torch.Size([8, 18])\n",
      "logits.shape: torch.Size([8, 18])\n",
      "yb_indices.shape: torch.Size([8, 18])\n"
     ]
    },
    {
     "name": "stderr",
     "output_type": "stream",
     "text": [
      "743it [02:15,  6.20it/s]"
     ]
    },
    {
     "name": "stdout",
     "output_type": "stream",
     "text": [
      "logits.shape: torch.Size([8, 18])\n",
      "yb_indices.shape: torch.Size([8, 18])\n",
      "logits.shape: torch.Size([8, 18])\n",
      "yb_indices.shape: torch.Size([8, 18])\n"
     ]
    },
    {
     "name": "stderr",
     "output_type": "stream",
     "text": [
      "745it [02:16,  6.30it/s]"
     ]
    },
    {
     "name": "stdout",
     "output_type": "stream",
     "text": [
      "logits.shape: torch.Size([8, 18])\n",
      "yb_indices.shape: torch.Size([8, 18])\n",
      "logits.shape: torch.Size([8, 18])\n",
      "yb_indices.shape: torch.Size([8, 18])\n"
     ]
    },
    {
     "name": "stderr",
     "output_type": "stream",
     "text": [
      "747it [02:16,  6.35it/s]"
     ]
    },
    {
     "name": "stdout",
     "output_type": "stream",
     "text": [
      "logits.shape: torch.Size([8, 18])\n",
      "yb_indices.shape: torch.Size([8, 18])\n",
      "logits.shape: torch.Size([8, 18])\n",
      "yb_indices.shape: torch.Size([8, 18])\n"
     ]
    },
    {
     "name": "stderr",
     "output_type": "stream",
     "text": [
      "749it [02:16,  5.67it/s]"
     ]
    },
    {
     "name": "stdout",
     "output_type": "stream",
     "text": [
      "logits.shape: torch.Size([8, 18])\n",
      "yb_indices.shape: torch.Size([8, 18])\n",
      "logits.shape: torch.Size([8, 18])\n",
      "yb_indices.shape: torch.Size([8, 18])\n"
     ]
    },
    {
     "name": "stderr",
     "output_type": "stream",
     "text": [
      "751it [02:17,  5.38it/s]"
     ]
    },
    {
     "name": "stdout",
     "output_type": "stream",
     "text": [
      "logits.shape: torch.Size([8, 18])\n",
      "yb_indices.shape: torch.Size([8, 18])\n",
      "logits.shape: torch.Size([8, 18])\n",
      "yb_indices.shape: torch.Size([8, 18])\n"
     ]
    },
    {
     "name": "stderr",
     "output_type": "stream",
     "text": [
      "753it [02:17,  5.58it/s]"
     ]
    },
    {
     "name": "stdout",
     "output_type": "stream",
     "text": [
      "logits.shape: torch.Size([8, 18])\n",
      "yb_indices.shape: torch.Size([8, 18])\n",
      "logits.shape: torch.Size([8, 18])\n",
      "yb_indices.shape: torch.Size([8, 18])\n"
     ]
    },
    {
     "name": "stderr",
     "output_type": "stream",
     "text": [
      "755it [02:18,  5.65it/s]"
     ]
    },
    {
     "name": "stdout",
     "output_type": "stream",
     "text": [
      "logits.shape: torch.Size([8, 18])\n",
      "yb_indices.shape: torch.Size([8, 18])\n",
      "logits.shape: torch.Size([8, 18])\n",
      "yb_indices.shape: torch.Size([8, 18])\n"
     ]
    },
    {
     "name": "stderr",
     "output_type": "stream",
     "text": [
      "757it [02:18,  5.88it/s]"
     ]
    },
    {
     "name": "stdout",
     "output_type": "stream",
     "text": [
      "logits.shape: torch.Size([8, 18])\n",
      "yb_indices.shape: torch.Size([8, 18])\n",
      "logits.shape: torch.Size([8, 18])\n",
      "yb_indices.shape: torch.Size([8, 18])\n"
     ]
    },
    {
     "name": "stderr",
     "output_type": "stream",
     "text": [
      "759it [02:18,  5.62it/s]"
     ]
    },
    {
     "name": "stdout",
     "output_type": "stream",
     "text": [
      "logits.shape: torch.Size([8, 18])\n",
      "yb_indices.shape: torch.Size([8, 18])\n",
      "logits.shape: torch.Size([8, 18])\n",
      "yb_indices.shape: torch.Size([8, 18])\n"
     ]
    },
    {
     "name": "stderr",
     "output_type": "stream",
     "text": [
      "761it [02:19,  5.65it/s]"
     ]
    },
    {
     "name": "stdout",
     "output_type": "stream",
     "text": [
      "logits.shape: torch.Size([8, 18])\n",
      "yb_indices.shape: torch.Size([8, 18])\n",
      "logits.shape: torch.Size([8, 18])\n",
      "yb_indices.shape: torch.Size([8, 18])\n"
     ]
    },
    {
     "name": "stderr",
     "output_type": "stream",
     "text": [
      "762it [02:19,  5.98it/s]"
     ]
    },
    {
     "name": "stdout",
     "output_type": "stream",
     "text": [
      "logits.shape: torch.Size([8, 18])\n",
      "yb_indices.shape: torch.Size([8, 18])\n"
     ]
    },
    {
     "name": "stderr",
     "output_type": "stream",
     "text": [
      "764it [02:19,  4.68it/s]"
     ]
    },
    {
     "name": "stdout",
     "output_type": "stream",
     "text": [
      "logits.shape: torch.Size([8, 18])\n",
      "yb_indices.shape: torch.Size([8, 18])\n",
      "logits.shape: torch.Size([8, 18])\n",
      "yb_indices.shape: torch.Size([8, 18])\n"
     ]
    },
    {
     "name": "stderr",
     "output_type": "stream",
     "text": [
      "766it [02:20,  5.08it/s]"
     ]
    },
    {
     "name": "stdout",
     "output_type": "stream",
     "text": [
      "logits.shape: torch.Size([8, 18])\n",
      "yb_indices.shape: torch.Size([8, 18])\n",
      "logits.shape: torch.Size([8, 18])\n",
      "yb_indices.shape: torch.Size([8, 18])\n"
     ]
    },
    {
     "name": "stderr",
     "output_type": "stream",
     "text": [
      "768it [02:20,  4.86it/s]"
     ]
    },
    {
     "name": "stdout",
     "output_type": "stream",
     "text": [
      "logits.shape: torch.Size([8, 18])\n",
      "yb_indices.shape: torch.Size([8, 18])\n",
      "logits.shape: torch.Size([8, 18])\n",
      "yb_indices.shape: torch.Size([8, 18])\n"
     ]
    },
    {
     "name": "stderr",
     "output_type": "stream",
     "text": [
      "770it [02:20,  5.53it/s]"
     ]
    },
    {
     "name": "stdout",
     "output_type": "stream",
     "text": [
      "logits.shape: torch.Size([8, 18])\n",
      "yb_indices.shape: torch.Size([8, 18])\n",
      "logits.shape: torch.Size([8, 18])\n",
      "yb_indices.shape: torch.Size([8, 18])\n"
     ]
    },
    {
     "name": "stderr",
     "output_type": "stream",
     "text": [
      "772it [02:21,  5.90it/s]"
     ]
    },
    {
     "name": "stdout",
     "output_type": "stream",
     "text": [
      "logits.shape: torch.Size([8, 18])\n",
      "yb_indices.shape: torch.Size([8, 18])\n",
      "logits.shape: torch.Size([8, 18])\n",
      "yb_indices.shape: torch.Size([8, 18])\n"
     ]
    },
    {
     "name": "stderr",
     "output_type": "stream",
     "text": [
      "774it [02:21,  6.12it/s]"
     ]
    },
    {
     "name": "stdout",
     "output_type": "stream",
     "text": [
      "logits.shape: torch.Size([8, 18])\n",
      "yb_indices.shape: torch.Size([8, 18])\n",
      "logits.shape: torch.Size([8, 18])\n",
      "yb_indices.shape: torch.Size([8, 18])\n"
     ]
    },
    {
     "name": "stderr",
     "output_type": "stream",
     "text": [
      "776it [02:21,  5.68it/s]"
     ]
    },
    {
     "name": "stdout",
     "output_type": "stream",
     "text": [
      "logits.shape: torch.Size([8, 18])\n",
      "yb_indices.shape: torch.Size([8, 18])\n",
      "logits.shape: torch.Size([8, 18])\n",
      "yb_indices.shape: torch.Size([8, 18])\n"
     ]
    },
    {
     "name": "stderr",
     "output_type": "stream",
     "text": [
      "778it [02:22,  6.21it/s]"
     ]
    },
    {
     "name": "stdout",
     "output_type": "stream",
     "text": [
      "logits.shape: torch.Size([8, 18])\n",
      "yb_indices.shape: torch.Size([8, 18])\n",
      "logits.shape: torch.Size([8, 18])\n",
      "yb_indices.shape: torch.Size([8, 18])\n"
     ]
    },
    {
     "name": "stderr",
     "output_type": "stream",
     "text": [
      "780it [02:22,  6.08it/s]"
     ]
    },
    {
     "name": "stdout",
     "output_type": "stream",
     "text": [
      "logits.shape: torch.Size([8, 18])\n",
      "yb_indices.shape: torch.Size([8, 18])\n",
      "logits.shape: torch.Size([8, 18])\n",
      "yb_indices.shape: torch.Size([8, 18])\n"
     ]
    },
    {
     "name": "stderr",
     "output_type": "stream",
     "text": [
      "782it [02:22,  6.16it/s]"
     ]
    },
    {
     "name": "stdout",
     "output_type": "stream",
     "text": [
      "logits.shape: torch.Size([8, 18])\n",
      "yb_indices.shape: torch.Size([8, 18])\n",
      "logits.shape: torch.Size([8, 18])\n",
      "yb_indices.shape: torch.Size([8, 18])\n"
     ]
    },
    {
     "name": "stderr",
     "output_type": "stream",
     "text": [
      "784it [02:23,  4.40it/s]"
     ]
    },
    {
     "name": "stdout",
     "output_type": "stream",
     "text": [
      "logits.shape: torch.Size([8, 18])\n",
      "yb_indices.shape: torch.Size([8, 18])\n"
     ]
    },
    {
     "name": "stderr",
     "output_type": "stream",
     "text": [
      "785it [02:23,  4.24it/s]"
     ]
    },
    {
     "name": "stdout",
     "output_type": "stream",
     "text": [
      "logits.shape: torch.Size([8, 18])\n",
      "yb_indices.shape: torch.Size([8, 18])\n",
      "logits.shape: torch.Size([8, 18])\n",
      "yb_indices.shape: torch.Size([8, 18])\n"
     ]
    },
    {
     "name": "stderr",
     "output_type": "stream",
     "text": [
      "786it [02:24,  3.66it/s]"
     ]
    },
    {
     "name": "stdout",
     "output_type": "stream",
     "text": [
      "logits.shape: torch.Size([8, 18])\n",
      "yb_indices.shape: torch.Size([8, 18])\n"
     ]
    },
    {
     "name": "stderr",
     "output_type": "stream",
     "text": [
      "788it [02:24,  3.62it/s]"
     ]
    },
    {
     "name": "stdout",
     "output_type": "stream",
     "text": [
      "logits.shape: torch.Size([8, 18])\n",
      "yb_indices.shape: torch.Size([8, 18])\n",
      "logits.shape: torch.Size([8, 18])\n",
      "yb_indices.shape: torch.Size([8, 18])\n"
     ]
    },
    {
     "name": "stderr",
     "output_type": "stream",
     "text": [
      "790it [02:25,  4.29it/s]"
     ]
    },
    {
     "name": "stdout",
     "output_type": "stream",
     "text": [
      "logits.shape: torch.Size([8, 18])\n",
      "yb_indices.shape: torch.Size([8, 18])\n",
      "logits.shape: torch.Size([8, 18])\n",
      "yb_indices.shape: torch.Size([8, 18])\n"
     ]
    },
    {
     "name": "stderr",
     "output_type": "stream",
     "text": [
      "792it [02:25,  4.60it/s]"
     ]
    },
    {
     "name": "stdout",
     "output_type": "stream",
     "text": [
      "logits.shape: torch.Size([8, 18])\n",
      "yb_indices.shape: torch.Size([8, 18])\n",
      "logits.shape: torch.Size([8, 18])\n",
      "yb_indices.shape: torch.Size([8, 18])\n"
     ]
    },
    {
     "name": "stderr",
     "output_type": "stream",
     "text": [
      "794it [02:25,  5.18it/s]"
     ]
    },
    {
     "name": "stdout",
     "output_type": "stream",
     "text": [
      "logits.shape: torch.Size([8, 18])\n",
      "yb_indices.shape: torch.Size([8, 18])\n",
      "logits.shape: torch.Size([8, 18])\n",
      "yb_indices.shape: torch.Size([8, 18])\n"
     ]
    },
    {
     "name": "stderr",
     "output_type": "stream",
     "text": [
      "796it [02:26,  4.42it/s]"
     ]
    },
    {
     "name": "stdout",
     "output_type": "stream",
     "text": [
      "logits.shape: torch.Size([8, 18])\n",
      "yb_indices.shape: torch.Size([8, 18])\n"
     ]
    },
    {
     "name": "stderr",
     "output_type": "stream",
     "text": [
      "797it [02:26,  4.65it/s]"
     ]
    },
    {
     "name": "stdout",
     "output_type": "stream",
     "text": [
      "logits.shape: torch.Size([8, 18])\n",
      "yb_indices.shape: torch.Size([8, 18])\n",
      "logits.shape: torch.Size([8, 18])\n",
      "yb_indices.shape: torch.Size([8, 18])\n"
     ]
    },
    {
     "name": "stderr",
     "output_type": "stream",
     "text": [
      "799it [02:26,  5.31it/s]"
     ]
    },
    {
     "name": "stdout",
     "output_type": "stream",
     "text": [
      "logits.shape: torch.Size([8, 18])\n",
      "yb_indices.shape: torch.Size([8, 18])\n",
      "logits.shape: torch.Size([8, 18])\n",
      "yb_indices.shape: torch.Size([8, 18])\n"
     ]
    },
    {
     "name": "stderr",
     "output_type": "stream",
     "text": [
      "801it [02:27,  5.57it/s]"
     ]
    },
    {
     "name": "stdout",
     "output_type": "stream",
     "text": [
      "logits.shape: torch.Size([8, 18])\n",
      "yb_indices.shape: torch.Size([8, 18])\n",
      "logits.shape: torch.Size([8, 18])\n",
      "yb_indices.shape: torch.Size([8, 18])\n"
     ]
    },
    {
     "name": "stderr",
     "output_type": "stream",
     "text": [
      "803it [02:27,  6.19it/s]"
     ]
    },
    {
     "name": "stdout",
     "output_type": "stream",
     "text": [
      "logits.shape: torch.Size([8, 18])\n",
      "yb_indices.shape: torch.Size([8, 18])\n",
      "logits.shape: torch.Size([8, 18])\n",
      "yb_indices.shape: torch.Size([8, 18])\n"
     ]
    },
    {
     "name": "stderr",
     "output_type": "stream",
     "text": [
      "805it [02:27,  6.28it/s]"
     ]
    },
    {
     "name": "stdout",
     "output_type": "stream",
     "text": [
      "logits.shape: torch.Size([8, 18])\n",
      "yb_indices.shape: torch.Size([8, 18])\n",
      "logits.shape: torch.Size([8, 18])\n",
      "yb_indices.shape: torch.Size([8, 18])\n"
     ]
    },
    {
     "name": "stderr",
     "output_type": "stream",
     "text": [
      "807it [02:28,  6.49it/s]"
     ]
    },
    {
     "name": "stdout",
     "output_type": "stream",
     "text": [
      "logits.shape: torch.Size([8, 18])\n",
      "yb_indices.shape: torch.Size([8, 18])\n",
      "logits.shape: torch.Size([8, 18])\n",
      "yb_indices.shape: torch.Size([8, 18])\n"
     ]
    },
    {
     "name": "stderr",
     "output_type": "stream",
     "text": [
      "809it [02:28,  5.60it/s]"
     ]
    },
    {
     "name": "stdout",
     "output_type": "stream",
     "text": [
      "logits.shape: torch.Size([8, 18])\n",
      "yb_indices.shape: torch.Size([8, 18])\n",
      "logits.shape: torch.Size([8, 18])\n",
      "yb_indices.shape: torch.Size([8, 18])\n"
     ]
    },
    {
     "name": "stderr",
     "output_type": "stream",
     "text": [
      "811it [02:28,  5.80it/s]"
     ]
    },
    {
     "name": "stdout",
     "output_type": "stream",
     "text": [
      "logits.shape: torch.Size([8, 18])\n",
      "yb_indices.shape: torch.Size([8, 18])\n",
      "logits.shape: torch.Size([8, 18])\n",
      "yb_indices.shape: torch.Size([8, 18])\n"
     ]
    },
    {
     "name": "stderr",
     "output_type": "stream",
     "text": [
      "813it [02:29,  5.57it/s]"
     ]
    },
    {
     "name": "stdout",
     "output_type": "stream",
     "text": [
      "logits.shape: torch.Size([8, 18])\n",
      "yb_indices.shape: torch.Size([8, 18])\n"
     ]
    },
    {
     "name": "stderr",
     "output_type": "stream",
     "text": [
      "814it [02:29,  5.04it/s]"
     ]
    },
    {
     "name": "stdout",
     "output_type": "stream",
     "text": [
      "logits.shape: torch.Size([8, 18])\n",
      "yb_indices.shape: torch.Size([8, 18])\n",
      "logits.shape: torch.Size([8, 18])\n",
      "yb_indices.shape: torch.Size([8, 18])\n"
     ]
    },
    {
     "name": "stderr",
     "output_type": "stream",
     "text": [
      "815it [02:29,  5.45it/s]\n"
     ]
    },
    {
     "name": "stdout",
     "output_type": "stream",
     "text": [
      "Epoch 2 | Train Loss: 1.8639 | Train Acc: 0.5647\n",
      "Epoch 2 | Val Acc: 0.5806\n"
     ]
    },
    {
     "name": "stderr",
     "output_type": "stream",
     "text": [
      "0it [00:00, ?it/s]"
     ]
    },
    {
     "name": "stdout",
     "output_type": "stream",
     "text": [
      "Batch 0: x_imu shape torch.Size([8, 103, 355]), x_tof shape torch.Size([8, 18])\n",
      "logits.shape: torch.Size([8, 18])\n",
      "yb_indices.shape: torch.Size([8, 18])\n"
     ]
    },
    {
     "name": "stderr",
     "output_type": "stream",
     "text": [
      "2it [00:00,  5.17it/s]"
     ]
    },
    {
     "name": "stdout",
     "output_type": "stream",
     "text": [
      "logits.shape: torch.Size([8, 18])\n",
      "yb_indices.shape: torch.Size([8, 18])\n",
      "logits.shape: torch.Size([8, 18])\n",
      "yb_indices.shape: torch.Size([8, 18])\n"
     ]
    },
    {
     "name": "stderr",
     "output_type": "stream",
     "text": [
      "4it [00:00,  5.33it/s]"
     ]
    },
    {
     "name": "stdout",
     "output_type": "stream",
     "text": [
      "logits.shape: torch.Size([8, 18])\n",
      "yb_indices.shape: torch.Size([8, 18])\n",
      "logits.shape: torch.Size([8, 18])\n",
      "yb_indices.shape: torch.Size([8, 18])\n"
     ]
    },
    {
     "name": "stderr",
     "output_type": "stream",
     "text": [
      "6it [00:01,  5.21it/s]"
     ]
    },
    {
     "name": "stdout",
     "output_type": "stream",
     "text": [
      "logits.shape: torch.Size([8, 18])\n",
      "yb_indices.shape: torch.Size([8, 18])\n",
      "logits.shape: torch.Size([8, 18])\n",
      "yb_indices.shape: torch.Size([8, 18])\n"
     ]
    },
    {
     "name": "stderr",
     "output_type": "stream",
     "text": [
      "8it [00:01,  5.18it/s]"
     ]
    },
    {
     "name": "stdout",
     "output_type": "stream",
     "text": [
      "logits.shape: torch.Size([8, 18])\n",
      "yb_indices.shape: torch.Size([8, 18])\n",
      "logits.shape: torch.Size([8, 18])\n",
      "yb_indices.shape: torch.Size([8, 18])\n"
     ]
    },
    {
     "name": "stderr",
     "output_type": "stream",
     "text": [
      "10it [00:01,  5.32it/s]"
     ]
    },
    {
     "name": "stdout",
     "output_type": "stream",
     "text": [
      "logits.shape: torch.Size([8, 18])\n",
      "yb_indices.shape: torch.Size([8, 18])\n",
      "logits.shape: torch.Size([8, 18])\n",
      "yb_indices.shape: torch.Size([8, 18])\n"
     ]
    },
    {
     "name": "stderr",
     "output_type": "stream",
     "text": [
      "12it [00:02,  5.17it/s]"
     ]
    },
    {
     "name": "stdout",
     "output_type": "stream",
     "text": [
      "logits.shape: torch.Size([8, 18])\n",
      "yb_indices.shape: torch.Size([8, 18])\n"
     ]
    },
    {
     "name": "stderr",
     "output_type": "stream",
     "text": [
      "13it [00:02,  5.15it/s]"
     ]
    },
    {
     "name": "stdout",
     "output_type": "stream",
     "text": [
      "logits.shape: torch.Size([8, 18])\n",
      "yb_indices.shape: torch.Size([8, 18])\n",
      "logits.shape: torch.Size([8, 18])\n",
      "yb_indices.shape: torch.Size([8, 18])\n"
     ]
    },
    {
     "name": "stderr",
     "output_type": "stream",
     "text": [
      "15it [00:02,  4.90it/s]"
     ]
    },
    {
     "name": "stdout",
     "output_type": "stream",
     "text": [
      "logits.shape: torch.Size([8, 18])\n",
      "yb_indices.shape: torch.Size([8, 18])\n",
      "logits.shape: torch.Size([8, 18])\n",
      "yb_indices.shape: torch.Size([8, 18])\n"
     ]
    },
    {
     "name": "stderr",
     "output_type": "stream",
     "text": [
      "17it [00:03,  5.09it/s]"
     ]
    },
    {
     "name": "stdout",
     "output_type": "stream",
     "text": [
      "logits.shape: torch.Size([8, 18])\n",
      "yb_indices.shape: torch.Size([8, 18])\n",
      "logits.shape: torch.Size([8, 18])\n",
      "yb_indices.shape: torch.Size([8, 18])\n"
     ]
    },
    {
     "name": "stderr",
     "output_type": "stream",
     "text": [
      "19it [00:03,  5.22it/s]"
     ]
    },
    {
     "name": "stdout",
     "output_type": "stream",
     "text": [
      "logits.shape: torch.Size([8, 18])\n",
      "yb_indices.shape: torch.Size([8, 18])\n",
      "logits.shape: torch.Size([8, 18])\n",
      "yb_indices.shape: torch.Size([8, 18])\n"
     ]
    },
    {
     "name": "stderr",
     "output_type": "stream",
     "text": [
      "21it [00:04,  5.04it/s]"
     ]
    },
    {
     "name": "stdout",
     "output_type": "stream",
     "text": [
      "logits.shape: torch.Size([8, 18])\n",
      "yb_indices.shape: torch.Size([8, 18])\n",
      "logits.shape: torch.Size([8, 18])\n",
      "yb_indices.shape: torch.Size([8, 18])\n"
     ]
    },
    {
     "name": "stderr",
     "output_type": "stream",
     "text": [
      "23it [00:04,  5.31it/s]"
     ]
    },
    {
     "name": "stdout",
     "output_type": "stream",
     "text": [
      "logits.shape: torch.Size([8, 18])\n",
      "yb_indices.shape: torch.Size([8, 18])\n",
      "logits.shape: torch.Size([8, 18])\n",
      "yb_indices.shape: torch.Size([8, 18])\n"
     ]
    },
    {
     "name": "stderr",
     "output_type": "stream",
     "text": [
      "25it [00:04,  5.37it/s]"
     ]
    },
    {
     "name": "stdout",
     "output_type": "stream",
     "text": [
      "logits.shape: torch.Size([8, 18])\n",
      "yb_indices.shape: torch.Size([8, 18])\n",
      "logits.shape: torch.Size([8, 18])\n",
      "yb_indices.shape: torch.Size([8, 18])\n"
     ]
    },
    {
     "name": "stderr",
     "output_type": "stream",
     "text": [
      "27it [00:05,  5.37it/s]"
     ]
    },
    {
     "name": "stdout",
     "output_type": "stream",
     "text": [
      "logits.shape: torch.Size([8, 18])\n",
      "yb_indices.shape: torch.Size([8, 18])\n",
      "logits.shape: torch.Size([8, 18])\n",
      "yb_indices.shape: torch.Size([8, 18])\n"
     ]
    },
    {
     "name": "stderr",
     "output_type": "stream",
     "text": [
      "29it [00:05,  5.41it/s]"
     ]
    },
    {
     "name": "stdout",
     "output_type": "stream",
     "text": [
      "logits.shape: torch.Size([8, 18])\n",
      "yb_indices.shape: torch.Size([8, 18])\n",
      "logits.shape: torch.Size([8, 18])\n",
      "yb_indices.shape: torch.Size([8, 18])\n"
     ]
    },
    {
     "name": "stderr",
     "output_type": "stream",
     "text": [
      "31it [00:05,  5.33it/s]"
     ]
    },
    {
     "name": "stdout",
     "output_type": "stream",
     "text": [
      "logits.shape: torch.Size([8, 18])\n",
      "yb_indices.shape: torch.Size([8, 18])\n",
      "logits.shape: torch.Size([8, 18])\n",
      "yb_indices.shape: torch.Size([8, 18])\n"
     ]
    },
    {
     "name": "stderr",
     "output_type": "stream",
     "text": [
      "33it [00:06,  5.12it/s]"
     ]
    },
    {
     "name": "stdout",
     "output_type": "stream",
     "text": [
      "logits.shape: torch.Size([8, 18])\n",
      "yb_indices.shape: torch.Size([8, 18])\n",
      "logits.shape: torch.Size([8, 18])\n",
      "yb_indices.shape: torch.Size([8, 18])\n"
     ]
    },
    {
     "name": "stderr",
     "output_type": "stream",
     "text": [
      "34it [00:06,  5.10it/s]"
     ]
    },
    {
     "name": "stdout",
     "output_type": "stream",
     "text": [
      "logits.shape: torch.Size([8, 18])\n",
      "yb_indices.shape: torch.Size([8, 18])\n"
     ]
    },
    {
     "name": "stderr",
     "output_type": "stream",
     "text": [
      "36it [00:07,  4.11it/s]"
     ]
    },
    {
     "name": "stdout",
     "output_type": "stream",
     "text": [
      "logits.shape: torch.Size([8, 18])\n",
      "yb_indices.shape: torch.Size([8, 18])\n",
      "logits.shape: torch.Size([8, 18])\n",
      "yb_indices.shape: torch.Size([8, 18])\n"
     ]
    },
    {
     "name": "stderr",
     "output_type": "stream",
     "text": [
      "37it [00:07,  3.99it/s]"
     ]
    },
    {
     "name": "stdout",
     "output_type": "stream",
     "text": [
      "logits.shape: torch.Size([8, 18])\n",
      "yb_indices.shape: torch.Size([8, 18])\n"
     ]
    },
    {
     "name": "stderr",
     "output_type": "stream",
     "text": [
      "39it [00:07,  3.77it/s]"
     ]
    },
    {
     "name": "stdout",
     "output_type": "stream",
     "text": [
      "logits.shape: torch.Size([8, 18])\n",
      "yb_indices.shape: torch.Size([8, 18])\n"
     ]
    },
    {
     "name": "stderr",
     "output_type": "stream",
     "text": [
      "40it [00:08,  3.83it/s]"
     ]
    },
    {
     "name": "stdout",
     "output_type": "stream",
     "text": [
      "logits.shape: torch.Size([8, 18])\n",
      "yb_indices.shape: torch.Size([8, 18])\n",
      "logits.shape: torch.Size([8, 18])\n",
      "yb_indices.shape: torch.Size([8, 18])\n"
     ]
    },
    {
     "name": "stderr",
     "output_type": "stream",
     "text": [
      "42it [00:09,  2.94it/s]"
     ]
    },
    {
     "name": "stdout",
     "output_type": "stream",
     "text": [
      "logits.shape: torch.Size([8, 18])\n",
      "yb_indices.shape: torch.Size([8, 18])\n"
     ]
    },
    {
     "name": "stderr",
     "output_type": "stream",
     "text": [
      "43it [00:09,  3.28it/s]"
     ]
    },
    {
     "name": "stdout",
     "output_type": "stream",
     "text": [
      "logits.shape: torch.Size([8, 18])\n",
      "yb_indices.shape: torch.Size([8, 18])\n",
      "logits.shape: torch.Size([8, 18])\n",
      "yb_indices.shape: torch.Size([8, 18])\n"
     ]
    },
    {
     "name": "stderr",
     "output_type": "stream",
     "text": [
      "45it [00:09,  3.81it/s]"
     ]
    },
    {
     "name": "stdout",
     "output_type": "stream",
     "text": [
      "logits.shape: torch.Size([8, 18])\n",
      "yb_indices.shape: torch.Size([8, 18])\n",
      "logits.shape: torch.Size([8, 18])\n",
      "yb_indices.shape: torch.Size([8, 18])\n"
     ]
    },
    {
     "name": "stderr",
     "output_type": "stream",
     "text": [
      "47it [00:10,  3.75it/s]"
     ]
    },
    {
     "name": "stdout",
     "output_type": "stream",
     "text": [
      "logits.shape: torch.Size([8, 18])\n",
      "yb_indices.shape: torch.Size([8, 18])\n",
      "logits.shape: torch.Size([8, 18])\n",
      "yb_indices.shape: torch.Size([8, 18])\n"
     ]
    },
    {
     "name": "stderr",
     "output_type": "stream",
     "text": [
      "49it [00:10,  4.50it/s]"
     ]
    },
    {
     "name": "stdout",
     "output_type": "stream",
     "text": [
      "logits.shape: torch.Size([8, 18])\n",
      "yb_indices.shape: torch.Size([8, 18])\n",
      "logits.shape: torch.Size([8, 18])\n",
      "yb_indices.shape: torch.Size([8, 18])\n"
     ]
    },
    {
     "name": "stderr",
     "output_type": "stream",
     "text": [
      "51it [00:11,  4.60it/s]"
     ]
    },
    {
     "name": "stdout",
     "output_type": "stream",
     "text": [
      "logits.shape: torch.Size([8, 18])\n",
      "yb_indices.shape: torch.Size([8, 18])\n"
     ]
    },
    {
     "name": "stderr",
     "output_type": "stream",
     "text": [
      "52it [00:11,  4.66it/s]"
     ]
    },
    {
     "name": "stdout",
     "output_type": "stream",
     "text": [
      "logits.shape: torch.Size([8, 18])\n",
      "yb_indices.shape: torch.Size([8, 18])\n",
      "logits.shape: torch.Size([8, 18])\n",
      "yb_indices.shape: torch.Size([8, 18])\n"
     ]
    },
    {
     "name": "stderr",
     "output_type": "stream",
     "text": [
      "54it [00:11,  4.86it/s]"
     ]
    },
    {
     "name": "stdout",
     "output_type": "stream",
     "text": [
      "logits.shape: torch.Size([8, 18])\n",
      "yb_indices.shape: torch.Size([8, 18])\n",
      "logits.shape: torch.Size([8, 18])\n",
      "yb_indices.shape: torch.Size([8, 18])\n"
     ]
    },
    {
     "name": "stderr",
     "output_type": "stream",
     "text": [
      "56it [00:12,  4.86it/s]"
     ]
    },
    {
     "name": "stdout",
     "output_type": "stream",
     "text": [
      "logits.shape: torch.Size([8, 18])\n",
      "yb_indices.shape: torch.Size([8, 18])\n"
     ]
    },
    {
     "name": "stderr",
     "output_type": "stream",
     "text": [
      "57it [00:12,  4.82it/s]"
     ]
    },
    {
     "name": "stdout",
     "output_type": "stream",
     "text": [
      "logits.shape: torch.Size([8, 18])\n",
      "yb_indices.shape: torch.Size([8, 18])\n",
      "logits.shape: torch.Size([8, 18])\n",
      "yb_indices.shape: torch.Size([8, 18])\n"
     ]
    },
    {
     "name": "stderr",
     "output_type": "stream",
     "text": [
      "59it [00:12,  5.08it/s]"
     ]
    },
    {
     "name": "stdout",
     "output_type": "stream",
     "text": [
      "logits.shape: torch.Size([8, 18])\n",
      "yb_indices.shape: torch.Size([8, 18])\n"
     ]
    },
    {
     "name": "stderr",
     "output_type": "stream",
     "text": [
      "60it [00:12,  4.68it/s]"
     ]
    },
    {
     "name": "stdout",
     "output_type": "stream",
     "text": [
      "logits.shape: torch.Size([8, 18])\n",
      "yb_indices.shape: torch.Size([8, 18])\n"
     ]
    },
    {
     "name": "stderr",
     "output_type": "stream",
     "text": [
      "61it [00:13,  4.56it/s]"
     ]
    },
    {
     "name": "stdout",
     "output_type": "stream",
     "text": [
      "logits.shape: torch.Size([8, 18])\n",
      "yb_indices.shape: torch.Size([8, 18])\n"
     ]
    },
    {
     "name": "stderr",
     "output_type": "stream",
     "text": [
      "62it [00:13,  4.54it/s]"
     ]
    },
    {
     "name": "stdout",
     "output_type": "stream",
     "text": [
      "logits.shape: torch.Size([8, 18])\n",
      "yb_indices.shape: torch.Size([8, 18])\n",
      "logits.shape: torch.Size([8, 18])\n",
      "yb_indices.shape: torch.Size([8, 18])\n"
     ]
    },
    {
     "name": "stderr",
     "output_type": "stream",
     "text": [
      "64it [00:13,  4.67it/s]"
     ]
    },
    {
     "name": "stdout",
     "output_type": "stream",
     "text": [
      "logits.shape: torch.Size([8, 18])\n",
      "yb_indices.shape: torch.Size([8, 18])\n"
     ]
    },
    {
     "name": "stderr",
     "output_type": "stream",
     "text": [
      "65it [00:14,  4.58it/s]"
     ]
    },
    {
     "name": "stdout",
     "output_type": "stream",
     "text": [
      "logits.shape: torch.Size([8, 18])\n",
      "yb_indices.shape: torch.Size([8, 18])\n"
     ]
    },
    {
     "name": "stderr",
     "output_type": "stream",
     "text": [
      "66it [00:14,  4.70it/s]"
     ]
    },
    {
     "name": "stdout",
     "output_type": "stream",
     "text": [
      "logits.shape: torch.Size([8, 18])\n",
      "yb_indices.shape: torch.Size([8, 18])\n",
      "logits.shape: torch.Size([8, 18])\n",
      "yb_indices.shape: torch.Size([8, 18])\n"
     ]
    },
    {
     "name": "stderr",
     "output_type": "stream",
     "text": [
      "68it [00:14,  4.21it/s]"
     ]
    },
    {
     "name": "stdout",
     "output_type": "stream",
     "text": [
      "logits.shape: torch.Size([8, 18])\n",
      "yb_indices.shape: torch.Size([8, 18])\n",
      "logits.shape: torch.Size([8, 18])\n",
      "yb_indices.shape: torch.Size([8, 18])\n"
     ]
    },
    {
     "name": "stderr",
     "output_type": "stream",
     "text": [
      "70it [00:15,  4.45it/s]"
     ]
    },
    {
     "name": "stdout",
     "output_type": "stream",
     "text": [
      "logits.shape: torch.Size([8, 18])\n",
      "yb_indices.shape: torch.Size([8, 18])\n",
      "logits.shape: torch.Size([8, 18])\n",
      "yb_indices.shape: torch.Size([8, 18])\n"
     ]
    },
    {
     "name": "stderr",
     "output_type": "stream",
     "text": [
      "72it [00:15,  4.35it/s]"
     ]
    },
    {
     "name": "stdout",
     "output_type": "stream",
     "text": [
      "logits.shape: torch.Size([8, 18])\n",
      "yb_indices.shape: torch.Size([8, 18])\n"
     ]
    },
    {
     "name": "stderr",
     "output_type": "stream",
     "text": [
      "73it [00:15,  4.62it/s]"
     ]
    },
    {
     "name": "stdout",
     "output_type": "stream",
     "text": [
      "logits.shape: torch.Size([8, 18])\n",
      "yb_indices.shape: torch.Size([8, 18])\n",
      "logits.shape: torch.Size([8, 18])\n",
      "yb_indices.shape: torch.Size([8, 18])\n"
     ]
    },
    {
     "name": "stderr",
     "output_type": "stream",
     "text": [
      "74it [00:16,  4.32it/s]"
     ]
    },
    {
     "name": "stdout",
     "output_type": "stream",
     "text": [
      "logits.shape: torch.Size([8, 18])\n",
      "yb_indices.shape: torch.Size([8, 18])\n"
     ]
    },
    {
     "name": "stderr",
     "output_type": "stream",
     "text": [
      "76it [00:16,  3.91it/s]"
     ]
    },
    {
     "name": "stdout",
     "output_type": "stream",
     "text": [
      "logits.shape: torch.Size([8, 18])\n",
      "yb_indices.shape: torch.Size([8, 18])\n"
     ]
    },
    {
     "name": "stderr",
     "output_type": "stream",
     "text": [
      "77it [00:16,  3.90it/s]"
     ]
    },
    {
     "name": "stdout",
     "output_type": "stream",
     "text": [
      "logits.shape: torch.Size([8, 18])\n",
      "yb_indices.shape: torch.Size([8, 18])\n"
     ]
    },
    {
     "name": "stderr",
     "output_type": "stream",
     "text": [
      "78it [00:17,  4.02it/s]"
     ]
    },
    {
     "name": "stdout",
     "output_type": "stream",
     "text": [
      "logits.shape: torch.Size([8, 18])\n",
      "yb_indices.shape: torch.Size([8, 18])\n"
     ]
    },
    {
     "name": "stderr",
     "output_type": "stream",
     "text": [
      "79it [00:17,  4.23it/s]"
     ]
    },
    {
     "name": "stdout",
     "output_type": "stream",
     "text": [
      "logits.shape: torch.Size([8, 18])\n",
      "yb_indices.shape: torch.Size([8, 18])\n",
      "logits.shape: torch.Size([8, 18])\n",
      "yb_indices.shape: torch.Size([8, 18])\n"
     ]
    },
    {
     "name": "stderr",
     "output_type": "stream",
     "text": [
      "81it [00:17,  3.88it/s]"
     ]
    },
    {
     "name": "stdout",
     "output_type": "stream",
     "text": [
      "logits.shape: torch.Size([8, 18])\n",
      "yb_indices.shape: torch.Size([8, 18])\n",
      "logits.shape: torch.Size([8, 18])\n",
      "yb_indices.shape: torch.Size([8, 18])\n"
     ]
    },
    {
     "name": "stderr",
     "output_type": "stream",
     "text": [
      "83it [00:18,  3.46it/s]"
     ]
    },
    {
     "name": "stdout",
     "output_type": "stream",
     "text": [
      "logits.shape: torch.Size([8, 18])\n",
      "yb_indices.shape: torch.Size([8, 18])\n"
     ]
    },
    {
     "name": "stderr",
     "output_type": "stream",
     "text": [
      "84it [00:18,  3.65it/s]"
     ]
    },
    {
     "name": "stdout",
     "output_type": "stream",
     "text": [
      "logits.shape: torch.Size([8, 18])\n",
      "yb_indices.shape: torch.Size([8, 18])\n"
     ]
    },
    {
     "name": "stderr",
     "output_type": "stream",
     "text": [
      "85it [00:19,  3.55it/s]"
     ]
    },
    {
     "name": "stdout",
     "output_type": "stream",
     "text": [
      "logits.shape: torch.Size([8, 18])\n",
      "yb_indices.shape: torch.Size([8, 18])\n",
      "logits.shape: torch.Size([8, 18])\n",
      "yb_indices.shape: torch.Size([8, 18])\n"
     ]
    },
    {
     "name": "stderr",
     "output_type": "stream",
     "text": [
      "87it [00:19,  3.32it/s]"
     ]
    },
    {
     "name": "stdout",
     "output_type": "stream",
     "text": [
      "logits.shape: torch.Size([8, 18])\n",
      "yb_indices.shape: torch.Size([8, 18])\n"
     ]
    },
    {
     "name": "stderr",
     "output_type": "stream",
     "text": [
      "88it [00:20,  3.57it/s]"
     ]
    },
    {
     "name": "stdout",
     "output_type": "stream",
     "text": [
      "logits.shape: torch.Size([8, 18])\n",
      "yb_indices.shape: torch.Size([8, 18])\n"
     ]
    },
    {
     "name": "stderr",
     "output_type": "stream",
     "text": [
      "89it [00:20,  3.20it/s]"
     ]
    },
    {
     "name": "stdout",
     "output_type": "stream",
     "text": [
      "logits.shape: torch.Size([8, 18])\n",
      "yb_indices.shape: torch.Size([8, 18])\n"
     ]
    },
    {
     "name": "stderr",
     "output_type": "stream",
     "text": [
      "90it [00:20,  3.20it/s]"
     ]
    },
    {
     "name": "stdout",
     "output_type": "stream",
     "text": [
      "logits.shape: torch.Size([8, 18])\n",
      "yb_indices.shape: torch.Size([8, 18])\n",
      "logits.shape: torch.Size([8, 18])\n",
      "yb_indices.shape: torch.Size([8, 18])\n"
     ]
    },
    {
     "name": "stderr",
     "output_type": "stream",
     "text": [
      "91it [00:21,  3.09it/s]"
     ]
    },
    {
     "name": "stdout",
     "output_type": "stream",
     "text": [
      "logits.shape: torch.Size([8, 18])\n",
      "yb_indices.shape: torch.Size([8, 18])\n"
     ]
    },
    {
     "name": "stderr",
     "output_type": "stream",
     "text": [
      "92it [00:21,  3.12it/s]"
     ]
    },
    {
     "name": "stdout",
     "output_type": "stream",
     "text": [
      "logits.shape: torch.Size([8, 18])\n",
      "yb_indices.shape: torch.Size([8, 18])\n"
     ]
    },
    {
     "name": "stderr",
     "output_type": "stream",
     "text": [
      "94it [00:21,  3.38it/s]"
     ]
    },
    {
     "name": "stdout",
     "output_type": "stream",
     "text": [
      "logits.shape: torch.Size([8, 18])\n",
      "yb_indices.shape: torch.Size([8, 18])\n",
      "logits.shape: torch.Size([8, 18])\n",
      "yb_indices.shape: torch.Size([8, 18])\n"
     ]
    },
    {
     "name": "stderr",
     "output_type": "stream",
     "text": [
      "95it [00:22,  3.28it/s]"
     ]
    },
    {
     "name": "stdout",
     "output_type": "stream",
     "text": [
      "logits.shape: torch.Size([8, 18])\n",
      "yb_indices.shape: torch.Size([8, 18])\n"
     ]
    },
    {
     "name": "stderr",
     "output_type": "stream",
     "text": [
      "97it [00:22,  3.14it/s]"
     ]
    },
    {
     "name": "stdout",
     "output_type": "stream",
     "text": [
      "logits.shape: torch.Size([8, 18])\n",
      "yb_indices.shape: torch.Size([8, 18])\n"
     ]
    },
    {
     "name": "stderr",
     "output_type": "stream",
     "text": [
      "98it [00:23,  3.54it/s]"
     ]
    },
    {
     "name": "stdout",
     "output_type": "stream",
     "text": [
      "logits.shape: torch.Size([8, 18])\n",
      "yb_indices.shape: torch.Size([8, 18])\n",
      "logits.shape: torch.Size([8, 18])\n",
      "yb_indices.shape: torch.Size([8, 18])\n"
     ]
    },
    {
     "name": "stderr",
     "output_type": "stream",
     "text": [
      "100it [00:23,  4.24it/s]"
     ]
    },
    {
     "name": "stdout",
     "output_type": "stream",
     "text": [
      "logits.shape: torch.Size([8, 18])\n",
      "yb_indices.shape: torch.Size([8, 18])\n",
      "logits.shape: torch.Size([8, 18])\n",
      "yb_indices.shape: torch.Size([8, 18])\n"
     ]
    },
    {
     "name": "stderr",
     "output_type": "stream",
     "text": [
      "102it [00:23,  4.58it/s]"
     ]
    },
    {
     "name": "stdout",
     "output_type": "stream",
     "text": [
      "logits.shape: torch.Size([8, 18])\n",
      "yb_indices.shape: torch.Size([8, 18])\n",
      "logits.shape: torch.Size([8, 18])\n",
      "yb_indices.shape: torch.Size([8, 18])\n"
     ]
    },
    {
     "name": "stderr",
     "output_type": "stream",
     "text": [
      "105it [00:24,  6.12it/s]"
     ]
    },
    {
     "name": "stdout",
     "output_type": "stream",
     "text": [
      "logits.shape: torch.Size([8, 18])\n",
      "yb_indices.shape: torch.Size([8, 18])\n",
      "logits.shape: torch.Size([8, 18])\n",
      "yb_indices.shape: torch.Size([8, 18])\n"
     ]
    },
    {
     "name": "stderr",
     "output_type": "stream",
     "text": [
      "106it [00:24,  5.87it/s]"
     ]
    },
    {
     "name": "stdout",
     "output_type": "stream",
     "text": [
      "logits.shape: torch.Size([8, 18])\n",
      "yb_indices.shape: torch.Size([8, 18])\n",
      "logits.shape: torch.Size([8, 18])\n",
      "yb_indices.shape: torch.Size([8, 18])\n"
     ]
    },
    {
     "name": "stderr",
     "output_type": "stream",
     "text": [
      "108it [00:25,  4.64it/s]"
     ]
    },
    {
     "name": "stdout",
     "output_type": "stream",
     "text": [
      "logits.shape: torch.Size([8, 18])\n",
      "yb_indices.shape: torch.Size([8, 18])\n"
     ]
    },
    {
     "name": "stderr",
     "output_type": "stream",
     "text": [
      "109it [00:25,  4.67it/s]"
     ]
    },
    {
     "name": "stdout",
     "output_type": "stream",
     "text": [
      "logits.shape: torch.Size([8, 18])\n",
      "yb_indices.shape: torch.Size([8, 18])\n",
      "logits.shape: torch.Size([8, 18])\n",
      "yb_indices.shape: torch.Size([8, 18])\n"
     ]
    },
    {
     "name": "stderr",
     "output_type": "stream",
     "text": [
      "111it [00:25,  5.00it/s]"
     ]
    },
    {
     "name": "stdout",
     "output_type": "stream",
     "text": [
      "logits.shape: torch.Size([8, 18])\n",
      "yb_indices.shape: torch.Size([8, 18])\n",
      "logits.shape: torch.Size([8, 18])\n",
      "yb_indices.shape: torch.Size([8, 18])\n"
     ]
    },
    {
     "name": "stderr",
     "output_type": "stream",
     "text": [
      "113it [00:26,  4.79it/s]"
     ]
    },
    {
     "name": "stdout",
     "output_type": "stream",
     "text": [
      "logits.shape: torch.Size([8, 18])\n",
      "yb_indices.shape: torch.Size([8, 18])\n"
     ]
    },
    {
     "name": "stderr",
     "output_type": "stream",
     "text": [
      "114it [00:26,  4.53it/s]"
     ]
    },
    {
     "name": "stdout",
     "output_type": "stream",
     "text": [
      "logits.shape: torch.Size([8, 18])\n",
      "yb_indices.shape: torch.Size([8, 18])\n"
     ]
    },
    {
     "name": "stderr",
     "output_type": "stream",
     "text": [
      "115it [00:26,  4.79it/s]"
     ]
    },
    {
     "name": "stdout",
     "output_type": "stream",
     "text": [
      "logits.shape: torch.Size([8, 18])\n",
      "yb_indices.shape: torch.Size([8, 18])\n",
      "logits.shape: torch.Size([8, 18])\n",
      "yb_indices.shape: torch.Size([8, 18])\n"
     ]
    },
    {
     "name": "stderr",
     "output_type": "stream",
     "text": [
      "117it [00:26,  4.63it/s]"
     ]
    },
    {
     "name": "stdout",
     "output_type": "stream",
     "text": [
      "logits.shape: torch.Size([8, 18])\n",
      "yb_indices.shape: torch.Size([8, 18])\n"
     ]
    },
    {
     "name": "stderr",
     "output_type": "stream",
     "text": [
      "118it [00:27,  4.98it/s]"
     ]
    },
    {
     "name": "stdout",
     "output_type": "stream",
     "text": [
      "logits.shape: torch.Size([8, 18])\n",
      "yb_indices.shape: torch.Size([8, 18])\n",
      "logits.shape: torch.Size([8, 18])\n",
      "yb_indices.shape: torch.Size([8, 18])\n"
     ]
    },
    {
     "name": "stderr",
     "output_type": "stream",
     "text": [
      "120it [00:27,  4.81it/s]"
     ]
    },
    {
     "name": "stdout",
     "output_type": "stream",
     "text": [
      "logits.shape: torch.Size([8, 18])\n",
      "yb_indices.shape: torch.Size([8, 18])\n",
      "logits.shape: torch.Size([8, 18])\n",
      "yb_indices.shape: torch.Size([8, 18])\n"
     ]
    },
    {
     "name": "stderr",
     "output_type": "stream",
     "text": [
      "122it [00:27,  5.71it/s]"
     ]
    },
    {
     "name": "stdout",
     "output_type": "stream",
     "text": [
      "logits.shape: torch.Size([8, 18])\n",
      "yb_indices.shape: torch.Size([8, 18])\n",
      "logits.shape: torch.Size([8, 18])\n",
      "yb_indices.shape: torch.Size([8, 18])\n"
     ]
    },
    {
     "name": "stderr",
     "output_type": "stream",
     "text": [
      "124it [00:28,  6.50it/s]"
     ]
    },
    {
     "name": "stdout",
     "output_type": "stream",
     "text": [
      "logits.shape: torch.Size([8, 18])\n",
      "yb_indices.shape: torch.Size([8, 18])\n",
      "logits.shape: torch.Size([8, 18])\n",
      "yb_indices.shape: torch.Size([8, 18])\n"
     ]
    },
    {
     "name": "stderr",
     "output_type": "stream",
     "text": [
      "127it [00:28,  7.40it/s]"
     ]
    },
    {
     "name": "stdout",
     "output_type": "stream",
     "text": [
      "logits.shape: torch.Size([8, 18])\n",
      "yb_indices.shape: torch.Size([8, 18])\n",
      "logits.shape: torch.Size([8, 18])\n",
      "yb_indices.shape: torch.Size([8, 18])\n"
     ]
    },
    {
     "name": "stderr",
     "output_type": "stream",
     "text": [
      "129it [00:28,  7.93it/s]"
     ]
    },
    {
     "name": "stdout",
     "output_type": "stream",
     "text": [
      "logits.shape: torch.Size([8, 18])\n",
      "yb_indices.shape: torch.Size([8, 18])\n",
      "logits.shape: torch.Size([8, 18])\n",
      "yb_indices.shape: torch.Size([8, 18])\n"
     ]
    },
    {
     "name": "stderr",
     "output_type": "stream",
     "text": [
      "130it [00:28,  7.71it/s]"
     ]
    },
    {
     "name": "stdout",
     "output_type": "stream",
     "text": [
      "logits.shape: torch.Size([8, 18])\n",
      "yb_indices.shape: torch.Size([8, 18])\n",
      "logits.shape: torch.Size([8, 18])\n",
      "yb_indices.shape: torch.Size([8, 18])\n"
     ]
    },
    {
     "name": "stderr",
     "output_type": "stream",
     "text": [
      "133it [00:29,  7.69it/s]"
     ]
    },
    {
     "name": "stdout",
     "output_type": "stream",
     "text": [
      "logits.shape: torch.Size([8, 18])\n",
      "yb_indices.shape: torch.Size([8, 18])\n",
      "logits.shape: torch.Size([8, 18])\n",
      "yb_indices.shape: torch.Size([8, 18])\n"
     ]
    },
    {
     "name": "stderr",
     "output_type": "stream",
     "text": [
      "134it [00:29,  7.05it/s]"
     ]
    },
    {
     "name": "stdout",
     "output_type": "stream",
     "text": [
      "logits.shape: torch.Size([8, 18])\n",
      "yb_indices.shape: torch.Size([8, 18])\n",
      "logits.shape: torch.Size([8, 18])\n",
      "yb_indices.shape: torch.Size([8, 18])\n"
     ]
    },
    {
     "name": "stderr",
     "output_type": "stream",
     "text": [
      "137it [00:29,  7.33it/s]"
     ]
    },
    {
     "name": "stdout",
     "output_type": "stream",
     "text": [
      "logits.shape: torch.Size([8, 18])\n",
      "yb_indices.shape: torch.Size([8, 18])\n",
      "logits.shape: torch.Size([8, 18])\n",
      "yb_indices.shape: torch.Size([8, 18])\n"
     ]
    },
    {
     "name": "stderr",
     "output_type": "stream",
     "text": [
      "138it [00:29,  7.55it/s]"
     ]
    },
    {
     "name": "stdout",
     "output_type": "stream",
     "text": [
      "logits.shape: torch.Size([8, 18])\n",
      "yb_indices.shape: torch.Size([8, 18])\n",
      "logits.shape: torch.Size([8, 18])\n",
      "yb_indices.shape: torch.Size([8, 18])\n"
     ]
    },
    {
     "name": "stderr",
     "output_type": "stream",
     "text": [
      "140it [00:30,  7.76it/s]"
     ]
    },
    {
     "name": "stdout",
     "output_type": "stream",
     "text": [
      "logits.shape: torch.Size([8, 18])\n",
      "yb_indices.shape: torch.Size([8, 18])\n",
      "logits.shape: torch.Size([8, 18])\n",
      "yb_indices.shape: torch.Size([8, 18])\n"
     ]
    },
    {
     "name": "stderr",
     "output_type": "stream",
     "text": [
      "143it [00:30,  7.74it/s]"
     ]
    },
    {
     "name": "stdout",
     "output_type": "stream",
     "text": [
      "logits.shape: torch.Size([8, 18])\n",
      "yb_indices.shape: torch.Size([8, 18])\n",
      "logits.shape: torch.Size([8, 18])\n",
      "yb_indices.shape: torch.Size([8, 18])\n"
     ]
    },
    {
     "name": "stderr",
     "output_type": "stream",
     "text": [
      "144it [00:30,  7.86it/s]"
     ]
    },
    {
     "name": "stdout",
     "output_type": "stream",
     "text": [
      "logits.shape: torch.Size([8, 18])\n",
      "yb_indices.shape: torch.Size([8, 18])\n",
      "logits.shape: torch.Size([8, 18])\n",
      "yb_indices.shape: torch.Size([8, 18])\n"
     ]
    },
    {
     "name": "stderr",
     "output_type": "stream",
     "text": [
      "147it [00:31,  7.90it/s]"
     ]
    },
    {
     "name": "stdout",
     "output_type": "stream",
     "text": [
      "logits.shape: torch.Size([8, 18])\n",
      "yb_indices.shape: torch.Size([8, 18])\n",
      "logits.shape: torch.Size([8, 18])\n",
      "yb_indices.shape: torch.Size([8, 18])\n"
     ]
    },
    {
     "name": "stderr",
     "output_type": "stream",
     "text": [
      "148it [00:31,  7.93it/s]"
     ]
    },
    {
     "name": "stdout",
     "output_type": "stream",
     "text": [
      "logits.shape: torch.Size([8, 18])\n",
      "yb_indices.shape: torch.Size([8, 18])\n",
      "logits.shape: torch.Size([8, 18])\n",
      "yb_indices.shape: torch.Size([8, 18])\n"
     ]
    },
    {
     "name": "stderr",
     "output_type": "stream",
     "text": [
      "150it [00:31,  6.77it/s]"
     ]
    },
    {
     "name": "stdout",
     "output_type": "stream",
     "text": [
      "logits.shape: torch.Size([8, 18])\n",
      "yb_indices.shape: torch.Size([8, 18])\n",
      "logits.shape: torch.Size([8, 18])\n",
      "yb_indices.shape: torch.Size([8, 18])\n"
     ]
    },
    {
     "name": "stderr",
     "output_type": "stream",
     "text": [
      "152it [00:31,  6.74it/s]"
     ]
    },
    {
     "name": "stdout",
     "output_type": "stream",
     "text": [
      "logits.shape: torch.Size([8, 18])\n",
      "yb_indices.shape: torch.Size([8, 18])\n",
      "logits.shape: torch.Size([8, 18])\n",
      "yb_indices.shape: torch.Size([8, 18])\n"
     ]
    },
    {
     "name": "stderr",
     "output_type": "stream",
     "text": [
      "154it [00:32,  7.02it/s]"
     ]
    },
    {
     "name": "stdout",
     "output_type": "stream",
     "text": [
      "logits.shape: torch.Size([8, 18])\n",
      "yb_indices.shape: torch.Size([8, 18])\n",
      "logits.shape: torch.Size([8, 18])\n",
      "yb_indices.shape: torch.Size([8, 18])\n"
     ]
    },
    {
     "name": "stderr",
     "output_type": "stream",
     "text": [
      "156it [00:32,  7.12it/s]"
     ]
    },
    {
     "name": "stdout",
     "output_type": "stream",
     "text": [
      "logits.shape: torch.Size([8, 18])\n",
      "yb_indices.shape: torch.Size([8, 18])\n",
      "logits.shape: torch.Size([8, 18])\n",
      "yb_indices.shape: torch.Size([8, 18])\n"
     ]
    },
    {
     "name": "stderr",
     "output_type": "stream",
     "text": [
      "159it [00:32,  7.50it/s]"
     ]
    },
    {
     "name": "stdout",
     "output_type": "stream",
     "text": [
      "logits.shape: torch.Size([8, 18])\n",
      "yb_indices.shape: torch.Size([8, 18])\n",
      "logits.shape: torch.Size([8, 18])\n",
      "yb_indices.shape: torch.Size([8, 18])\n"
     ]
    },
    {
     "name": "stderr",
     "output_type": "stream",
     "text": [
      "160it [00:32,  7.31it/s]"
     ]
    },
    {
     "name": "stdout",
     "output_type": "stream",
     "text": [
      "logits.shape: torch.Size([8, 18])\n",
      "yb_indices.shape: torch.Size([8, 18])\n",
      "logits.shape: torch.Size([8, 18])\n",
      "yb_indices.shape: torch.Size([8, 18])\n"
     ]
    },
    {
     "name": "stderr",
     "output_type": "stream",
     "text": [
      "162it [00:33,  6.71it/s]"
     ]
    },
    {
     "name": "stdout",
     "output_type": "stream",
     "text": [
      "logits.shape: torch.Size([8, 18])\n",
      "yb_indices.shape: torch.Size([8, 18])\n",
      "logits.shape: torch.Size([8, 18])\n",
      "yb_indices.shape: torch.Size([8, 18])\n"
     ]
    },
    {
     "name": "stderr",
     "output_type": "stream",
     "text": [
      "164it [00:33,  6.35it/s]"
     ]
    },
    {
     "name": "stdout",
     "output_type": "stream",
     "text": [
      "logits.shape: torch.Size([8, 18])\n",
      "yb_indices.shape: torch.Size([8, 18])\n",
      "logits.shape: torch.Size([8, 18])\n",
      "yb_indices.shape: torch.Size([8, 18])\n"
     ]
    },
    {
     "name": "stderr",
     "output_type": "stream",
     "text": [
      "166it [00:33,  6.09it/s]"
     ]
    },
    {
     "name": "stdout",
     "output_type": "stream",
     "text": [
      "logits.shape: torch.Size([8, 18])\n",
      "yb_indices.shape: torch.Size([8, 18])\n",
      "logits.shape: torch.Size([8, 18])\n",
      "yb_indices.shape: torch.Size([8, 18])\n"
     ]
    },
    {
     "name": "stderr",
     "output_type": "stream",
     "text": [
      "168it [00:34,  6.00it/s]"
     ]
    },
    {
     "name": "stdout",
     "output_type": "stream",
     "text": [
      "logits.shape: torch.Size([8, 18])\n",
      "yb_indices.shape: torch.Size([8, 18])\n",
      "logits.shape: torch.Size([8, 18])\n",
      "yb_indices.shape: torch.Size([8, 18])\n"
     ]
    },
    {
     "name": "stderr",
     "output_type": "stream",
     "text": [
      "170it [00:34,  5.64it/s]"
     ]
    },
    {
     "name": "stdout",
     "output_type": "stream",
     "text": [
      "logits.shape: torch.Size([8, 18])\n",
      "yb_indices.shape: torch.Size([8, 18])\n",
      "logits.shape: torch.Size([8, 18])\n",
      "yb_indices.shape: torch.Size([8, 18])\n"
     ]
    },
    {
     "name": "stderr",
     "output_type": "stream",
     "text": [
      "172it [00:35,  5.36it/s]"
     ]
    },
    {
     "name": "stdout",
     "output_type": "stream",
     "text": [
      "logits.shape: torch.Size([8, 18])\n",
      "yb_indices.shape: torch.Size([8, 18])\n"
     ]
    },
    {
     "name": "stderr",
     "output_type": "stream",
     "text": [
      "173it [00:35,  5.45it/s]"
     ]
    },
    {
     "name": "stdout",
     "output_type": "stream",
     "text": [
      "logits.shape: torch.Size([8, 18])\n",
      "yb_indices.shape: torch.Size([8, 18])\n",
      "logits.shape: torch.Size([8, 18])\n",
      "yb_indices.shape: torch.Size([8, 18])\n"
     ]
    },
    {
     "name": "stderr",
     "output_type": "stream",
     "text": [
      "175it [00:35,  5.07it/s]"
     ]
    },
    {
     "name": "stdout",
     "output_type": "stream",
     "text": [
      "logits.shape: torch.Size([8, 18])\n",
      "yb_indices.shape: torch.Size([8, 18])\n",
      "logits.shape: torch.Size([8, 18])\n",
      "yb_indices.shape: torch.Size([8, 18])\n"
     ]
    },
    {
     "name": "stderr",
     "output_type": "stream",
     "text": [
      "177it [00:36,  5.24it/s]"
     ]
    },
    {
     "name": "stdout",
     "output_type": "stream",
     "text": [
      "logits.shape: torch.Size([8, 18])\n",
      "yb_indices.shape: torch.Size([8, 18])\n",
      "logits.shape: torch.Size([8, 18])\n",
      "yb_indices.shape: torch.Size([8, 18])\n"
     ]
    },
    {
     "name": "stderr",
     "output_type": "stream",
     "text": [
      "179it [00:36,  4.69it/s]"
     ]
    },
    {
     "name": "stdout",
     "output_type": "stream",
     "text": [
      "logits.shape: torch.Size([8, 18])\n",
      "yb_indices.shape: torch.Size([8, 18])\n"
     ]
    },
    {
     "name": "stderr",
     "output_type": "stream",
     "text": [
      "180it [00:36,  5.06it/s]"
     ]
    },
    {
     "name": "stdout",
     "output_type": "stream",
     "text": [
      "logits.shape: torch.Size([8, 18])\n",
      "yb_indices.shape: torch.Size([8, 18])\n",
      "logits.shape: torch.Size([8, 18])\n",
      "yb_indices.shape: torch.Size([8, 18])\n"
     ]
    },
    {
     "name": "stderr",
     "output_type": "stream",
     "text": [
      "182it [00:37,  5.50it/s]"
     ]
    },
    {
     "name": "stdout",
     "output_type": "stream",
     "text": [
      "logits.shape: torch.Size([8, 18])\n",
      "yb_indices.shape: torch.Size([8, 18])\n",
      "logits.shape: torch.Size([8, 18])\n",
      "yb_indices.shape: torch.Size([8, 18])\n"
     ]
    },
    {
     "name": "stderr",
     "output_type": "stream",
     "text": [
      "184it [00:37,  5.91it/s]"
     ]
    },
    {
     "name": "stdout",
     "output_type": "stream",
     "text": [
      "logits.shape: torch.Size([8, 18])\n",
      "yb_indices.shape: torch.Size([8, 18])\n",
      "logits.shape: torch.Size([8, 18])\n",
      "yb_indices.shape: torch.Size([8, 18])\n"
     ]
    },
    {
     "name": "stderr",
     "output_type": "stream",
     "text": [
      "186it [00:37,  6.05it/s]"
     ]
    },
    {
     "name": "stdout",
     "output_type": "stream",
     "text": [
      "logits.shape: torch.Size([8, 18])\n",
      "yb_indices.shape: torch.Size([8, 18])\n",
      "logits.shape: torch.Size([8, 18])\n",
      "yb_indices.shape: torch.Size([8, 18])\n"
     ]
    },
    {
     "name": "stderr",
     "output_type": "stream",
     "text": [
      "188it [00:37,  6.14it/s]"
     ]
    },
    {
     "name": "stdout",
     "output_type": "stream",
     "text": [
      "logits.shape: torch.Size([8, 18])\n",
      "yb_indices.shape: torch.Size([8, 18])\n",
      "logits.shape: torch.Size([8, 18])\n",
      "yb_indices.shape: torch.Size([8, 18])\n"
     ]
    },
    {
     "name": "stderr",
     "output_type": "stream",
     "text": [
      "190it [00:38,  6.64it/s]"
     ]
    },
    {
     "name": "stdout",
     "output_type": "stream",
     "text": [
      "logits.shape: torch.Size([8, 18])\n",
      "yb_indices.shape: torch.Size([8, 18])\n",
      "logits.shape: torch.Size([8, 18])\n",
      "yb_indices.shape: torch.Size([8, 18])\n"
     ]
    },
    {
     "name": "stderr",
     "output_type": "stream",
     "text": [
      "192it [00:38,  5.65it/s]"
     ]
    },
    {
     "name": "stdout",
     "output_type": "stream",
     "text": [
      "logits.shape: torch.Size([8, 18])\n",
      "yb_indices.shape: torch.Size([8, 18])\n",
      "logits.shape: torch.Size([8, 18])\n",
      "yb_indices.shape: torch.Size([8, 18])\n"
     ]
    },
    {
     "name": "stderr",
     "output_type": "stream",
     "text": [
      "194it [00:38,  6.12it/s]"
     ]
    },
    {
     "name": "stdout",
     "output_type": "stream",
     "text": [
      "logits.shape: torch.Size([8, 18])\n",
      "yb_indices.shape: torch.Size([8, 18])\n",
      "logits.shape: torch.Size([8, 18])\n",
      "yb_indices.shape: torch.Size([8, 18])\n"
     ]
    },
    {
     "name": "stderr",
     "output_type": "stream",
     "text": [
      "196it [00:39,  6.48it/s]"
     ]
    },
    {
     "name": "stdout",
     "output_type": "stream",
     "text": [
      "logits.shape: torch.Size([8, 18])\n",
      "yb_indices.shape: torch.Size([8, 18])\n",
      "logits.shape: torch.Size([8, 18])\n",
      "yb_indices.shape: torch.Size([8, 18])\n"
     ]
    },
    {
     "name": "stderr",
     "output_type": "stream",
     "text": [
      "199it [00:39,  7.41it/s]"
     ]
    },
    {
     "name": "stdout",
     "output_type": "stream",
     "text": [
      "logits.shape: torch.Size([8, 18])\n",
      "yb_indices.shape: torch.Size([8, 18])\n",
      "logits.shape: torch.Size([8, 18])\n",
      "yb_indices.shape: torch.Size([8, 18])\n"
     ]
    },
    {
     "name": "stderr",
     "output_type": "stream",
     "text": [
      "201it [00:39,  7.90it/s]"
     ]
    },
    {
     "name": "stdout",
     "output_type": "stream",
     "text": [
      "logits.shape: torch.Size([8, 18])\n",
      "yb_indices.shape: torch.Size([8, 18])\n",
      "logits.shape: torch.Size([8, 18])\n",
      "yb_indices.shape: torch.Size([8, 18])\n"
     ]
    },
    {
     "name": "stderr",
     "output_type": "stream",
     "text": [
      "202it [00:40,  7.18it/s]"
     ]
    },
    {
     "name": "stdout",
     "output_type": "stream",
     "text": [
      "logits.shape: torch.Size([8, 18])\n",
      "yb_indices.shape: torch.Size([8, 18])\n",
      "logits.shape: torch.Size([8, 18])\n",
      "yb_indices.shape: torch.Size([8, 18])\n"
     ]
    },
    {
     "name": "stderr",
     "output_type": "stream",
     "text": [
      "205it [00:40,  7.69it/s]"
     ]
    },
    {
     "name": "stdout",
     "output_type": "stream",
     "text": [
      "logits.shape: torch.Size([8, 18])\n",
      "yb_indices.shape: torch.Size([8, 18])\n",
      "logits.shape: torch.Size([8, 18])\n",
      "yb_indices.shape: torch.Size([8, 18])\n"
     ]
    },
    {
     "name": "stderr",
     "output_type": "stream",
     "text": [
      "206it [00:40,  7.81it/s]"
     ]
    },
    {
     "name": "stdout",
     "output_type": "stream",
     "text": [
      "logits.shape: torch.Size([8, 18])\n",
      "yb_indices.shape: torch.Size([8, 18])\n",
      "logits.shape: torch.Size([8, 18])\n",
      "yb_indices.shape: torch.Size([8, 18])\n"
     ]
    },
    {
     "name": "stderr",
     "output_type": "stream",
     "text": [
      "209it [00:40,  7.53it/s]"
     ]
    },
    {
     "name": "stdout",
     "output_type": "stream",
     "text": [
      "logits.shape: torch.Size([8, 18])\n",
      "yb_indices.shape: torch.Size([8, 18])\n",
      "logits.shape: torch.Size([8, 18])\n",
      "yb_indices.shape: torch.Size([8, 18])\n"
     ]
    },
    {
     "name": "stderr",
     "output_type": "stream",
     "text": [
      "210it [00:41,  6.98it/s]"
     ]
    },
    {
     "name": "stdout",
     "output_type": "stream",
     "text": [
      "logits.shape: torch.Size([8, 18])\n",
      "yb_indices.shape: torch.Size([8, 18])\n",
      "logits.shape: torch.Size([8, 18])\n",
      "yb_indices.shape: torch.Size([8, 18])\n"
     ]
    },
    {
     "name": "stderr",
     "output_type": "stream",
     "text": [
      "212it [00:41,  6.70it/s]"
     ]
    },
    {
     "name": "stdout",
     "output_type": "stream",
     "text": [
      "logits.shape: torch.Size([8, 18])\n",
      "yb_indices.shape: torch.Size([8, 18])\n",
      "logits.shape: torch.Size([8, 18])\n",
      "yb_indices.shape: torch.Size([8, 18])\n"
     ]
    },
    {
     "name": "stderr",
     "output_type": "stream",
     "text": [
      "214it [00:41,  5.55it/s]"
     ]
    },
    {
     "name": "stdout",
     "output_type": "stream",
     "text": [
      "logits.shape: torch.Size([8, 18])\n",
      "yb_indices.shape: torch.Size([8, 18])\n"
     ]
    },
    {
     "name": "stderr",
     "output_type": "stream",
     "text": [
      "215it [00:42,  5.07it/s]"
     ]
    },
    {
     "name": "stdout",
     "output_type": "stream",
     "text": [
      "logits.shape: torch.Size([8, 18])\n",
      "yb_indices.shape: torch.Size([8, 18])\n"
     ]
    },
    {
     "name": "stderr",
     "output_type": "stream",
     "text": [
      "216it [00:42,  4.55it/s]"
     ]
    },
    {
     "name": "stdout",
     "output_type": "stream",
     "text": [
      "logits.shape: torch.Size([8, 18])\n",
      "yb_indices.shape: torch.Size([8, 18])\n"
     ]
    },
    {
     "name": "stderr",
     "output_type": "stream",
     "text": [
      "217it [00:42,  4.50it/s]"
     ]
    },
    {
     "name": "stdout",
     "output_type": "stream",
     "text": [
      "logits.shape: torch.Size([8, 18])\n",
      "yb_indices.shape: torch.Size([8, 18])\n",
      "logits.shape: torch.Size([8, 18])\n",
      "yb_indices.shape: torch.Size([8, 18])\n"
     ]
    },
    {
     "name": "stderr",
     "output_type": "stream",
     "text": [
      "219it [00:43,  3.92it/s]"
     ]
    },
    {
     "name": "stdout",
     "output_type": "stream",
     "text": [
      "logits.shape: torch.Size([8, 18])\n",
      "yb_indices.shape: torch.Size([8, 18])\n",
      "logits.shape: torch.Size([8, 18])\n",
      "yb_indices.shape: torch.Size([8, 18])\n"
     ]
    },
    {
     "name": "stderr",
     "output_type": "stream",
     "text": [
      "221it [00:43,  4.20it/s]"
     ]
    },
    {
     "name": "stdout",
     "output_type": "stream",
     "text": [
      "logits.shape: torch.Size([8, 18])\n",
      "yb_indices.shape: torch.Size([8, 18])\n",
      "logits.shape: torch.Size([8, 18])\n",
      "yb_indices.shape: torch.Size([8, 18])\n"
     ]
    },
    {
     "name": "stderr",
     "output_type": "stream",
     "text": [
      "223it [00:44,  3.94it/s]"
     ]
    },
    {
     "name": "stdout",
     "output_type": "stream",
     "text": [
      "logits.shape: torch.Size([8, 18])\n",
      "yb_indices.shape: torch.Size([8, 18])\n"
     ]
    },
    {
     "name": "stderr",
     "output_type": "stream",
     "text": [
      "224it [00:44,  3.74it/s]"
     ]
    },
    {
     "name": "stdout",
     "output_type": "stream",
     "text": [
      "logits.shape: torch.Size([8, 18])\n",
      "yb_indices.shape: torch.Size([8, 18])\n"
     ]
    },
    {
     "name": "stderr",
     "output_type": "stream",
     "text": [
      "225it [00:44,  3.70it/s]"
     ]
    },
    {
     "name": "stdout",
     "output_type": "stream",
     "text": [
      "logits.shape: torch.Size([8, 18])\n",
      "yb_indices.shape: torch.Size([8, 18])\n",
      "logits.shape: torch.Size([8, 18])\n",
      "yb_indices.shape: torch.Size([8, 18])\n"
     ]
    },
    {
     "name": "stderr",
     "output_type": "stream",
     "text": [
      "226it [00:45,  3.63it/s]"
     ]
    },
    {
     "name": "stdout",
     "output_type": "stream",
     "text": [
      "logits.shape: torch.Size([8, 18])\n",
      "yb_indices.shape: torch.Size([8, 18])\n"
     ]
    },
    {
     "name": "stderr",
     "output_type": "stream",
     "text": [
      "228it [00:45,  3.45it/s]"
     ]
    },
    {
     "name": "stdout",
     "output_type": "stream",
     "text": [
      "logits.shape: torch.Size([8, 18])\n",
      "yb_indices.shape: torch.Size([8, 18])\n"
     ]
    },
    {
     "name": "stderr",
     "output_type": "stream",
     "text": [
      "229it [00:45,  3.38it/s]"
     ]
    },
    {
     "name": "stdout",
     "output_type": "stream",
     "text": [
      "logits.shape: torch.Size([8, 18])\n",
      "yb_indices.shape: torch.Size([8, 18])\n",
      "logits.shape: torch.Size([8, 18])\n",
      "yb_indices.shape: torch.Size([8, 18])\n"
     ]
    },
    {
     "name": "stderr",
     "output_type": "stream",
     "text": [
      "231it [00:46,  3.10it/s]"
     ]
    },
    {
     "name": "stdout",
     "output_type": "stream",
     "text": [
      "logits.shape: torch.Size([8, 18])\n",
      "yb_indices.shape: torch.Size([8, 18])\n"
     ]
    },
    {
     "name": "stderr",
     "output_type": "stream",
     "text": [
      "232it [00:46,  3.42it/s]"
     ]
    },
    {
     "name": "stdout",
     "output_type": "stream",
     "text": [
      "logits.shape: torch.Size([8, 18])\n",
      "yb_indices.shape: torch.Size([8, 18])\n"
     ]
    },
    {
     "name": "stderr",
     "output_type": "stream",
     "text": [
      "233it [00:47,  3.71it/s]"
     ]
    },
    {
     "name": "stdout",
     "output_type": "stream",
     "text": [
      "logits.shape: torch.Size([8, 18])\n",
      "yb_indices.shape: torch.Size([8, 18])\n",
      "logits.shape: torch.Size([8, 18])\n",
      "yb_indices.shape: torch.Size([8, 18])\n"
     ]
    },
    {
     "name": "stderr",
     "output_type": "stream",
     "text": [
      "235it [00:47,  4.63it/s]"
     ]
    },
    {
     "name": "stdout",
     "output_type": "stream",
     "text": [
      "logits.shape: torch.Size([8, 18])\n",
      "yb_indices.shape: torch.Size([8, 18])\n",
      "logits.shape: torch.Size([8, 18])\n",
      "yb_indices.shape: torch.Size([8, 18])\n"
     ]
    },
    {
     "name": "stderr",
     "output_type": "stream",
     "text": [
      "237it [00:47,  4.89it/s]"
     ]
    },
    {
     "name": "stdout",
     "output_type": "stream",
     "text": [
      "logits.shape: torch.Size([8, 18])\n",
      "yb_indices.shape: torch.Size([8, 18])\n",
      "logits.shape: torch.Size([8, 18])\n",
      "yb_indices.shape: torch.Size([8, 18])\n"
     ]
    },
    {
     "name": "stderr",
     "output_type": "stream",
     "text": [
      "239it [00:48,  5.75it/s]"
     ]
    },
    {
     "name": "stdout",
     "output_type": "stream",
     "text": [
      "logits.shape: torch.Size([8, 18])\n",
      "yb_indices.shape: torch.Size([8, 18])\n",
      "logits.shape: torch.Size([8, 18])\n",
      "yb_indices.shape: torch.Size([8, 18])\n"
     ]
    },
    {
     "name": "stderr",
     "output_type": "stream",
     "text": [
      "241it [00:48,  6.55it/s]"
     ]
    },
    {
     "name": "stdout",
     "output_type": "stream",
     "text": [
      "logits.shape: torch.Size([8, 18])\n",
      "yb_indices.shape: torch.Size([8, 18])\n",
      "logits.shape: torch.Size([8, 18])\n",
      "yb_indices.shape: torch.Size([8, 18])\n"
     ]
    },
    {
     "name": "stderr",
     "output_type": "stream",
     "text": [
      "244it [00:48,  7.32it/s]"
     ]
    },
    {
     "name": "stdout",
     "output_type": "stream",
     "text": [
      "logits.shape: torch.Size([8, 18])\n",
      "yb_indices.shape: torch.Size([8, 18])\n",
      "logits.shape: torch.Size([8, 18])\n",
      "yb_indices.shape: torch.Size([8, 18])\n"
     ]
    },
    {
     "name": "stderr",
     "output_type": "stream",
     "text": [
      "245it [00:48,  7.53it/s]"
     ]
    },
    {
     "name": "stdout",
     "output_type": "stream",
     "text": [
      "logits.shape: torch.Size([8, 18])\n",
      "yb_indices.shape: torch.Size([8, 18])\n",
      "logits.shape: torch.Size([8, 18])\n",
      "yb_indices.shape: torch.Size([8, 18])\n"
     ]
    },
    {
     "name": "stderr",
     "output_type": "stream",
     "text": [
      "247it [00:49,  7.58it/s]"
     ]
    },
    {
     "name": "stdout",
     "output_type": "stream",
     "text": [
      "logits.shape: torch.Size([8, 18])\n",
      "yb_indices.shape: torch.Size([8, 18])\n",
      "logits.shape: torch.Size([8, 18])\n",
      "yb_indices.shape: torch.Size([8, 18])\n"
     ]
    },
    {
     "name": "stderr",
     "output_type": "stream",
     "text": [
      "250it [00:49,  7.50it/s]"
     ]
    },
    {
     "name": "stdout",
     "output_type": "stream",
     "text": [
      "logits.shape: torch.Size([8, 18])\n",
      "yb_indices.shape: torch.Size([8, 18])\n",
      "logits.shape: torch.Size([8, 18])\n",
      "yb_indices.shape: torch.Size([8, 18])\n"
     ]
    },
    {
     "name": "stderr",
     "output_type": "stream",
     "text": [
      "251it [00:49,  7.31it/s]"
     ]
    },
    {
     "name": "stdout",
     "output_type": "stream",
     "text": [
      "logits.shape: torch.Size([8, 18])\n",
      "yb_indices.shape: torch.Size([8, 18])\n",
      "logits.shape: torch.Size([8, 18])\n",
      "yb_indices.shape: torch.Size([8, 18])\n"
     ]
    },
    {
     "name": "stderr",
     "output_type": "stream",
     "text": [
      "253it [00:49,  7.01it/s]"
     ]
    },
    {
     "name": "stdout",
     "output_type": "stream",
     "text": [
      "logits.shape: torch.Size([8, 18])\n",
      "yb_indices.shape: torch.Size([8, 18])\n",
      "logits.shape: torch.Size([8, 18])\n",
      "yb_indices.shape: torch.Size([8, 18])\n"
     ]
    },
    {
     "name": "stderr",
     "output_type": "stream",
     "text": [
      "256it [00:50,  7.77it/s]"
     ]
    },
    {
     "name": "stdout",
     "output_type": "stream",
     "text": [
      "logits.shape: torch.Size([8, 18])\n",
      "yb_indices.shape: torch.Size([8, 18])\n",
      "logits.shape: torch.Size([8, 18])\n",
      "yb_indices.shape: torch.Size([8, 18])\n"
     ]
    },
    {
     "name": "stderr",
     "output_type": "stream",
     "text": [
      "257it [00:50,  6.94it/s]"
     ]
    },
    {
     "name": "stdout",
     "output_type": "stream",
     "text": [
      "logits.shape: torch.Size([8, 18])\n",
      "yb_indices.shape: torch.Size([8, 18])\n",
      "logits.shape: torch.Size([8, 18])\n",
      "yb_indices.shape: torch.Size([8, 18])\n"
     ]
    },
    {
     "name": "stderr",
     "output_type": "stream",
     "text": [
      "259it [00:50,  6.99it/s]"
     ]
    },
    {
     "name": "stdout",
     "output_type": "stream",
     "text": [
      "logits.shape: torch.Size([8, 18])\n",
      "yb_indices.shape: torch.Size([8, 18])\n",
      "logits.shape: torch.Size([8, 18])\n",
      "yb_indices.shape: torch.Size([8, 18])\n"
     ]
    },
    {
     "name": "stderr",
     "output_type": "stream",
     "text": [
      "261it [00:51,  7.47it/s]"
     ]
    },
    {
     "name": "stdout",
     "output_type": "stream",
     "text": [
      "logits.shape: torch.Size([8, 18])\n",
      "yb_indices.shape: torch.Size([8, 18])\n",
      "logits.shape: torch.Size([8, 18])\n",
      "yb_indices.shape: torch.Size([8, 18])\n"
     ]
    },
    {
     "name": "stderr",
     "output_type": "stream",
     "text": [
      "263it [00:51,  7.00it/s]"
     ]
    },
    {
     "name": "stdout",
     "output_type": "stream",
     "text": [
      "logits.shape: torch.Size([8, 18])\n",
      "yb_indices.shape: torch.Size([8, 18])\n",
      "logits.shape: torch.Size([8, 18])\n",
      "yb_indices.shape: torch.Size([8, 18])\n"
     ]
    },
    {
     "name": "stderr",
     "output_type": "stream",
     "text": [
      "265it [00:51,  7.35it/s]"
     ]
    },
    {
     "name": "stdout",
     "output_type": "stream",
     "text": [
      "logits.shape: torch.Size([8, 18])\n",
      "yb_indices.shape: torch.Size([8, 18])\n",
      "logits.shape: torch.Size([8, 18])\n",
      "yb_indices.shape: torch.Size([8, 18])\n"
     ]
    },
    {
     "name": "stderr",
     "output_type": "stream",
     "text": [
      "267it [00:51,  6.89it/s]"
     ]
    },
    {
     "name": "stdout",
     "output_type": "stream",
     "text": [
      "logits.shape: torch.Size([8, 18])\n",
      "yb_indices.shape: torch.Size([8, 18])\n",
      "logits.shape: torch.Size([8, 18])\n",
      "yb_indices.shape: torch.Size([8, 18])\n"
     ]
    },
    {
     "name": "stderr",
     "output_type": "stream",
     "text": [
      "269it [00:52,  6.92it/s]"
     ]
    },
    {
     "name": "stdout",
     "output_type": "stream",
     "text": [
      "logits.shape: torch.Size([8, 18])\n",
      "yb_indices.shape: torch.Size([8, 18])\n",
      "logits.shape: torch.Size([8, 18])\n",
      "yb_indices.shape: torch.Size([8, 18])\n"
     ]
    },
    {
     "name": "stderr",
     "output_type": "stream",
     "text": [
      "271it [00:52,  7.42it/s]"
     ]
    },
    {
     "name": "stdout",
     "output_type": "stream",
     "text": [
      "logits.shape: torch.Size([8, 18])\n",
      "yb_indices.shape: torch.Size([8, 18])\n",
      "logits.shape: torch.Size([8, 18])\n",
      "yb_indices.shape: torch.Size([8, 18])\n"
     ]
    },
    {
     "name": "stderr",
     "output_type": "stream",
     "text": [
      "274it [00:52,  7.85it/s]"
     ]
    },
    {
     "name": "stdout",
     "output_type": "stream",
     "text": [
      "logits.shape: torch.Size([8, 18])\n",
      "yb_indices.shape: torch.Size([8, 18])\n",
      "logits.shape: torch.Size([8, 18])\n",
      "yb_indices.shape: torch.Size([8, 18])\n"
     ]
    },
    {
     "name": "stderr",
     "output_type": "stream",
     "text": [
      "276it [00:53,  8.24it/s]"
     ]
    },
    {
     "name": "stdout",
     "output_type": "stream",
     "text": [
      "logits.shape: torch.Size([8, 18])\n",
      "yb_indices.shape: torch.Size([8, 18])\n",
      "logits.shape: torch.Size([8, 18])\n",
      "yb_indices.shape: torch.Size([8, 18])\n"
     ]
    },
    {
     "name": "stderr",
     "output_type": "stream",
     "text": [
      "277it [00:53,  8.26it/s]"
     ]
    },
    {
     "name": "stdout",
     "output_type": "stream",
     "text": [
      "logits.shape: torch.Size([8, 18])\n",
      "yb_indices.shape: torch.Size([8, 18])\n",
      "logits.shape: torch.Size([8, 18])\n",
      "yb_indices.shape: torch.Size([8, 18])\n"
     ]
    },
    {
     "name": "stderr",
     "output_type": "stream",
     "text": [
      "280it [00:53,  7.56it/s]"
     ]
    },
    {
     "name": "stdout",
     "output_type": "stream",
     "text": [
      "logits.shape: torch.Size([8, 18])\n",
      "yb_indices.shape: torch.Size([8, 18])\n",
      "logits.shape: torch.Size([8, 18])\n",
      "yb_indices.shape: torch.Size([8, 18])\n"
     ]
    },
    {
     "name": "stderr",
     "output_type": "stream",
     "text": [
      "282it [00:53,  7.63it/s]"
     ]
    },
    {
     "name": "stdout",
     "output_type": "stream",
     "text": [
      "logits.shape: torch.Size([8, 18])\n",
      "yb_indices.shape: torch.Size([8, 18])\n",
      "logits.shape: torch.Size([8, 18])\n",
      "yb_indices.shape: torch.Size([8, 18])\n"
     ]
    },
    {
     "name": "stderr",
     "output_type": "stream",
     "text": [
      "283it [00:54,  7.46it/s]"
     ]
    },
    {
     "name": "stdout",
     "output_type": "stream",
     "text": [
      "logits.shape: torch.Size([8, 18])\n",
      "yb_indices.shape: torch.Size([8, 18])\n",
      "logits.shape: torch.Size([8, 18])\n",
      "yb_indices.shape: torch.Size([8, 18])\n"
     ]
    },
    {
     "name": "stderr",
     "output_type": "stream",
     "text": [
      "285it [00:54,  6.30it/s]"
     ]
    },
    {
     "name": "stdout",
     "output_type": "stream",
     "text": [
      "logits.shape: torch.Size([8, 18])\n",
      "yb_indices.shape: torch.Size([8, 18])\n",
      "logits.shape: torch.Size([8, 18])\n",
      "yb_indices.shape: torch.Size([8, 18])\n"
     ]
    },
    {
     "name": "stderr",
     "output_type": "stream",
     "text": [
      "287it [00:54,  6.60it/s]"
     ]
    },
    {
     "name": "stdout",
     "output_type": "stream",
     "text": [
      "logits.shape: torch.Size([8, 18])\n",
      "yb_indices.shape: torch.Size([8, 18])\n",
      "logits.shape: torch.Size([8, 18])\n",
      "yb_indices.shape: torch.Size([8, 18])\n"
     ]
    },
    {
     "name": "stderr",
     "output_type": "stream",
     "text": [
      "290it [00:55,  7.38it/s]"
     ]
    },
    {
     "name": "stdout",
     "output_type": "stream",
     "text": [
      "logits.shape: torch.Size([8, 18])\n",
      "yb_indices.shape: torch.Size([8, 18])\n",
      "logits.shape: torch.Size([8, 18])\n",
      "yb_indices.shape: torch.Size([8, 18])\n"
     ]
    },
    {
     "name": "stderr",
     "output_type": "stream",
     "text": [
      "291it [00:55,  7.11it/s]"
     ]
    },
    {
     "name": "stdout",
     "output_type": "stream",
     "text": [
      "logits.shape: torch.Size([8, 18])\n",
      "yb_indices.shape: torch.Size([8, 18])\n",
      "logits.shape: torch.Size([8, 18])\n",
      "yb_indices.shape: torch.Size([8, 18])\n"
     ]
    },
    {
     "name": "stderr",
     "output_type": "stream",
     "text": [
      "293it [00:55,  6.24it/s]"
     ]
    },
    {
     "name": "stdout",
     "output_type": "stream",
     "text": [
      "logits.shape: torch.Size([8, 18])\n",
      "yb_indices.shape: torch.Size([8, 18])\n",
      "logits.shape: torch.Size([8, 18])\n",
      "yb_indices.shape: torch.Size([8, 18])\n"
     ]
    },
    {
     "name": "stderr",
     "output_type": "stream",
     "text": [
      "296it [00:55,  7.35it/s]"
     ]
    },
    {
     "name": "stdout",
     "output_type": "stream",
     "text": [
      "logits.shape: torch.Size([8, 18])\n",
      "yb_indices.shape: torch.Size([8, 18])\n",
      "logits.shape: torch.Size([8, 18])\n",
      "yb_indices.shape: torch.Size([8, 18])\n"
     ]
    },
    {
     "name": "stderr",
     "output_type": "stream",
     "text": [
      "297it [00:56,  7.29it/s]"
     ]
    },
    {
     "name": "stdout",
     "output_type": "stream",
     "text": [
      "logits.shape: torch.Size([8, 18])\n",
      "yb_indices.shape: torch.Size([8, 18])\n",
      "logits.shape: torch.Size([8, 18])\n",
      "yb_indices.shape: torch.Size([8, 18])\n"
     ]
    },
    {
     "name": "stderr",
     "output_type": "stream",
     "text": [
      "299it [00:56,  7.33it/s]"
     ]
    },
    {
     "name": "stdout",
     "output_type": "stream",
     "text": [
      "logits.shape: torch.Size([8, 18])\n",
      "yb_indices.shape: torch.Size([8, 18])\n",
      "logits.shape: torch.Size([8, 18])\n",
      "yb_indices.shape: torch.Size([8, 18])\n"
     ]
    },
    {
     "name": "stderr",
     "output_type": "stream",
     "text": [
      "301it [00:56,  7.74it/s]"
     ]
    },
    {
     "name": "stdout",
     "output_type": "stream",
     "text": [
      "logits.shape: torch.Size([8, 18])\n",
      "yb_indices.shape: torch.Size([8, 18])\n",
      "logits.shape: torch.Size([8, 18])\n",
      "yb_indices.shape: torch.Size([8, 18])\n"
     ]
    },
    {
     "name": "stderr",
     "output_type": "stream",
     "text": [
      "303it [00:56,  6.36it/s]"
     ]
    },
    {
     "name": "stdout",
     "output_type": "stream",
     "text": [
      "logits.shape: torch.Size([8, 18])\n",
      "yb_indices.shape: torch.Size([8, 18])\n",
      "logits.shape: torch.Size([8, 18])\n",
      "yb_indices.shape: torch.Size([8, 18])\n"
     ]
    },
    {
     "name": "stderr",
     "output_type": "stream",
     "text": [
      "305it [00:57,  6.34it/s]"
     ]
    },
    {
     "name": "stdout",
     "output_type": "stream",
     "text": [
      "logits.shape: torch.Size([8, 18])\n",
      "yb_indices.shape: torch.Size([8, 18])\n",
      "logits.shape: torch.Size([8, 18])\n",
      "yb_indices.shape: torch.Size([8, 18])\n"
     ]
    },
    {
     "name": "stderr",
     "output_type": "stream",
     "text": [
      "307it [00:57,  5.90it/s]"
     ]
    },
    {
     "name": "stdout",
     "output_type": "stream",
     "text": [
      "logits.shape: torch.Size([8, 18])\n",
      "yb_indices.shape: torch.Size([8, 18])\n",
      "logits.shape: torch.Size([8, 18])\n",
      "yb_indices.shape: torch.Size([8, 18])\n"
     ]
    },
    {
     "name": "stderr",
     "output_type": "stream",
     "text": [
      "309it [00:58,  5.58it/s]"
     ]
    },
    {
     "name": "stdout",
     "output_type": "stream",
     "text": [
      "logits.shape: torch.Size([8, 18])\n",
      "yb_indices.shape: torch.Size([8, 18])\n",
      "logits.shape: torch.Size([8, 18])\n",
      "yb_indices.shape: torch.Size([8, 18])\n"
     ]
    },
    {
     "name": "stderr",
     "output_type": "stream",
     "text": [
      "311it [00:58,  5.50it/s]"
     ]
    },
    {
     "name": "stdout",
     "output_type": "stream",
     "text": [
      "logits.shape: torch.Size([8, 18])\n",
      "yb_indices.shape: torch.Size([8, 18])\n",
      "logits.shape: torch.Size([8, 18])\n",
      "yb_indices.shape: torch.Size([8, 18])\n"
     ]
    },
    {
     "name": "stderr",
     "output_type": "stream",
     "text": [
      "313it [00:58,  5.98it/s]"
     ]
    },
    {
     "name": "stdout",
     "output_type": "stream",
     "text": [
      "logits.shape: torch.Size([8, 18])\n",
      "yb_indices.shape: torch.Size([8, 18])\n",
      "logits.shape: torch.Size([8, 18])\n",
      "yb_indices.shape: torch.Size([8, 18])\n"
     ]
    },
    {
     "name": "stderr",
     "output_type": "stream",
     "text": [
      "315it [00:59,  6.03it/s]"
     ]
    },
    {
     "name": "stdout",
     "output_type": "stream",
     "text": [
      "logits.shape: torch.Size([8, 18])\n",
      "yb_indices.shape: torch.Size([8, 18])\n",
      "logits.shape: torch.Size([8, 18])\n",
      "yb_indices.shape: torch.Size([8, 18])\n"
     ]
    },
    {
     "name": "stderr",
     "output_type": "stream",
     "text": [
      "316it [00:59,  5.73it/s]"
     ]
    },
    {
     "name": "stdout",
     "output_type": "stream",
     "text": [
      "logits.shape: torch.Size([8, 18])\n",
      "yb_indices.shape: torch.Size([8, 18])\n"
     ]
    },
    {
     "name": "stderr",
     "output_type": "stream",
     "text": [
      "318it [00:59,  4.13it/s]"
     ]
    },
    {
     "name": "stdout",
     "output_type": "stream",
     "text": [
      "logits.shape: torch.Size([8, 18])\n",
      "yb_indices.shape: torch.Size([8, 18])\n"
     ]
    },
    {
     "name": "stderr",
     "output_type": "stream",
     "text": [
      "319it [01:00,  4.25it/s]"
     ]
    },
    {
     "name": "stdout",
     "output_type": "stream",
     "text": [
      "logits.shape: torch.Size([8, 18])\n",
      "yb_indices.shape: torch.Size([8, 18])\n",
      "logits.shape: torch.Size([8, 18])\n",
      "yb_indices.shape: torch.Size([8, 18])\n"
     ]
    },
    {
     "name": "stderr",
     "output_type": "stream",
     "text": [
      "321it [01:00,  4.92it/s]"
     ]
    },
    {
     "name": "stdout",
     "output_type": "stream",
     "text": [
      "logits.shape: torch.Size([8, 18])\n",
      "yb_indices.shape: torch.Size([8, 18])\n",
      "logits.shape: torch.Size([8, 18])\n",
      "yb_indices.shape: torch.Size([8, 18])\n"
     ]
    },
    {
     "name": "stderr",
     "output_type": "stream",
     "text": [
      "323it [01:00,  5.62it/s]"
     ]
    },
    {
     "name": "stdout",
     "output_type": "stream",
     "text": [
      "logits.shape: torch.Size([8, 18])\n",
      "yb_indices.shape: torch.Size([8, 18])\n",
      "logits.shape: torch.Size([8, 18])\n",
      "yb_indices.shape: torch.Size([8, 18])\n"
     ]
    },
    {
     "name": "stderr",
     "output_type": "stream",
     "text": [
      "325it [01:01,  5.75it/s]"
     ]
    },
    {
     "name": "stdout",
     "output_type": "stream",
     "text": [
      "logits.shape: torch.Size([8, 18])\n",
      "yb_indices.shape: torch.Size([8, 18])\n",
      "logits.shape: torch.Size([8, 18])\n",
      "yb_indices.shape: torch.Size([8, 18])\n"
     ]
    },
    {
     "name": "stderr",
     "output_type": "stream",
     "text": [
      "328it [01:01,  6.15it/s]"
     ]
    },
    {
     "name": "stdout",
     "output_type": "stream",
     "text": [
      "logits.shape: torch.Size([8, 18])\n",
      "yb_indices.shape: torch.Size([8, 18])\n",
      "logits.shape: torch.Size([8, 18])\n",
      "yb_indices.shape: torch.Size([8, 18])\n"
     ]
    },
    {
     "name": "stderr",
     "output_type": "stream",
     "text": [
      "329it [01:01,  6.38it/s]"
     ]
    },
    {
     "name": "stdout",
     "output_type": "stream",
     "text": [
      "logits.shape: torch.Size([8, 18])\n",
      "yb_indices.shape: torch.Size([8, 18])\n",
      "logits.shape: torch.Size([8, 18])\n",
      "yb_indices.shape: torch.Size([8, 18])\n"
     ]
    },
    {
     "name": "stderr",
     "output_type": "stream",
     "text": [
      "331it [01:02,  5.99it/s]"
     ]
    },
    {
     "name": "stdout",
     "output_type": "stream",
     "text": [
      "logits.shape: torch.Size([8, 18])\n",
      "yb_indices.shape: torch.Size([8, 18])\n",
      "logits.shape: torch.Size([8, 18])\n",
      "yb_indices.shape: torch.Size([8, 18])\n"
     ]
    },
    {
     "name": "stderr",
     "output_type": "stream",
     "text": [
      "333it [01:02,  5.65it/s]"
     ]
    },
    {
     "name": "stdout",
     "output_type": "stream",
     "text": [
      "logits.shape: torch.Size([8, 18])\n",
      "yb_indices.shape: torch.Size([8, 18])\n"
     ]
    },
    {
     "name": "stderr",
     "output_type": "stream",
     "text": [
      "334it [01:02,  5.42it/s]"
     ]
    },
    {
     "name": "stdout",
     "output_type": "stream",
     "text": [
      "logits.shape: torch.Size([8, 18])\n",
      "yb_indices.shape: torch.Size([8, 18])\n"
     ]
    },
    {
     "name": "stderr",
     "output_type": "stream",
     "text": [
      "335it [01:02,  5.20it/s]"
     ]
    },
    {
     "name": "stdout",
     "output_type": "stream",
     "text": [
      "logits.shape: torch.Size([8, 18])\n",
      "yb_indices.shape: torch.Size([8, 18])\n",
      "logits.shape: torch.Size([8, 18])\n",
      "yb_indices.shape: torch.Size([8, 18])\n"
     ]
    },
    {
     "name": "stderr",
     "output_type": "stream",
     "text": [
      "337it [01:03,  5.59it/s]"
     ]
    },
    {
     "name": "stdout",
     "output_type": "stream",
     "text": [
      "logits.shape: torch.Size([8, 18])\n",
      "yb_indices.shape: torch.Size([8, 18])\n",
      "logits.shape: torch.Size([8, 18])\n",
      "yb_indices.shape: torch.Size([8, 18])\n"
     ]
    },
    {
     "name": "stderr",
     "output_type": "stream",
     "text": [
      "339it [01:03,  5.76it/s]"
     ]
    },
    {
     "name": "stdout",
     "output_type": "stream",
     "text": [
      "logits.shape: torch.Size([8, 18])\n",
      "yb_indices.shape: torch.Size([8, 18])\n",
      "logits.shape: torch.Size([8, 18])\n",
      "yb_indices.shape: torch.Size([8, 18])\n"
     ]
    },
    {
     "name": "stderr",
     "output_type": "stream",
     "text": [
      "341it [01:03,  6.38it/s]"
     ]
    },
    {
     "name": "stdout",
     "output_type": "stream",
     "text": [
      "logits.shape: torch.Size([8, 18])\n",
      "yb_indices.shape: torch.Size([8, 18])\n",
      "logits.shape: torch.Size([8, 18])\n",
      "yb_indices.shape: torch.Size([8, 18])\n"
     ]
    },
    {
     "name": "stderr",
     "output_type": "stream",
     "text": [
      "343it [01:04,  6.02it/s]"
     ]
    },
    {
     "name": "stdout",
     "output_type": "stream",
     "text": [
      "logits.shape: torch.Size([8, 18])\n",
      "yb_indices.shape: torch.Size([8, 18])\n",
      "logits.shape: torch.Size([8, 18])\n",
      "yb_indices.shape: torch.Size([8, 18])\n"
     ]
    },
    {
     "name": "stderr",
     "output_type": "stream",
     "text": [
      "345it [01:04,  6.13it/s]"
     ]
    },
    {
     "name": "stdout",
     "output_type": "stream",
     "text": [
      "logits.shape: torch.Size([8, 18])\n",
      "yb_indices.shape: torch.Size([8, 18])\n",
      "logits.shape: torch.Size([8, 18])\n",
      "yb_indices.shape: torch.Size([8, 18])\n"
     ]
    },
    {
     "name": "stderr",
     "output_type": "stream",
     "text": [
      "347it [01:04,  6.26it/s]"
     ]
    },
    {
     "name": "stdout",
     "output_type": "stream",
     "text": [
      "logits.shape: torch.Size([8, 18])\n",
      "yb_indices.shape: torch.Size([8, 18])\n",
      "logits.shape: torch.Size([8, 18])\n",
      "yb_indices.shape: torch.Size([8, 18])\n"
     ]
    },
    {
     "name": "stderr",
     "output_type": "stream",
     "text": [
      "349it [01:05,  6.53it/s]"
     ]
    },
    {
     "name": "stdout",
     "output_type": "stream",
     "text": [
      "logits.shape: torch.Size([8, 18])\n",
      "yb_indices.shape: torch.Size([8, 18])\n",
      "logits.shape: torch.Size([8, 18])\n",
      "yb_indices.shape: torch.Size([8, 18])\n"
     ]
    },
    {
     "name": "stderr",
     "output_type": "stream",
     "text": [
      "351it [01:05,  5.89it/s]"
     ]
    },
    {
     "name": "stdout",
     "output_type": "stream",
     "text": [
      "logits.shape: torch.Size([8, 18])\n",
      "yb_indices.shape: torch.Size([8, 18])\n",
      "logits.shape: torch.Size([8, 18])\n",
      "yb_indices.shape: torch.Size([8, 18])\n"
     ]
    },
    {
     "name": "stderr",
     "output_type": "stream",
     "text": [
      "353it [01:05,  6.16it/s]"
     ]
    },
    {
     "name": "stdout",
     "output_type": "stream",
     "text": [
      "logits.shape: torch.Size([8, 18])\n",
      "yb_indices.shape: torch.Size([8, 18])\n",
      "logits.shape: torch.Size([8, 18])\n",
      "yb_indices.shape: torch.Size([8, 18])\n"
     ]
    },
    {
     "name": "stderr",
     "output_type": "stream",
     "text": [
      "355it [01:05,  6.53it/s]"
     ]
    },
    {
     "name": "stdout",
     "output_type": "stream",
     "text": [
      "logits.shape: torch.Size([8, 18])\n",
      "yb_indices.shape: torch.Size([8, 18])\n",
      "logits.shape: torch.Size([8, 18])\n",
      "yb_indices.shape: torch.Size([8, 18])\n"
     ]
    },
    {
     "name": "stderr",
     "output_type": "stream",
     "text": [
      "357it [01:06,  6.47it/s]"
     ]
    },
    {
     "name": "stdout",
     "output_type": "stream",
     "text": [
      "logits.shape: torch.Size([8, 18])\n",
      "yb_indices.shape: torch.Size([8, 18])\n",
      "logits.shape: torch.Size([8, 18])\n",
      "yb_indices.shape: torch.Size([8, 18])\n"
     ]
    },
    {
     "name": "stderr",
     "output_type": "stream",
     "text": [
      "359it [01:06,  6.60it/s]"
     ]
    },
    {
     "name": "stdout",
     "output_type": "stream",
     "text": [
      "logits.shape: torch.Size([8, 18])\n",
      "yb_indices.shape: torch.Size([8, 18])\n",
      "logits.shape: torch.Size([8, 18])\n",
      "yb_indices.shape: torch.Size([8, 18])\n"
     ]
    },
    {
     "name": "stderr",
     "output_type": "stream",
     "text": [
      "361it [01:06,  6.25it/s]"
     ]
    },
    {
     "name": "stdout",
     "output_type": "stream",
     "text": [
      "logits.shape: torch.Size([8, 18])\n",
      "yb_indices.shape: torch.Size([8, 18])\n",
      "logits.shape: torch.Size([8, 18])\n",
      "yb_indices.shape: torch.Size([8, 18])\n"
     ]
    },
    {
     "name": "stderr",
     "output_type": "stream",
     "text": [
      "363it [01:07,  6.21it/s]"
     ]
    },
    {
     "name": "stdout",
     "output_type": "stream",
     "text": [
      "logits.shape: torch.Size([8, 18])\n",
      "yb_indices.shape: torch.Size([8, 18])\n",
      "logits.shape: torch.Size([8, 18])\n",
      "yb_indices.shape: torch.Size([8, 18])\n"
     ]
    },
    {
     "name": "stderr",
     "output_type": "stream",
     "text": [
      "365it [01:07,  5.84it/s]"
     ]
    },
    {
     "name": "stdout",
     "output_type": "stream",
     "text": [
      "logits.shape: torch.Size([8, 18])\n",
      "yb_indices.shape: torch.Size([8, 18])\n",
      "logits.shape: torch.Size([8, 18])\n",
      "yb_indices.shape: torch.Size([8, 18])\n"
     ]
    },
    {
     "name": "stderr",
     "output_type": "stream",
     "text": [
      "367it [01:07,  5.55it/s]"
     ]
    },
    {
     "name": "stdout",
     "output_type": "stream",
     "text": [
      "logits.shape: torch.Size([8, 18])\n",
      "yb_indices.shape: torch.Size([8, 18])\n",
      "logits.shape: torch.Size([8, 18])\n",
      "yb_indices.shape: torch.Size([8, 18])\n"
     ]
    },
    {
     "name": "stderr",
     "output_type": "stream",
     "text": [
      "369it [01:08,  5.75it/s]"
     ]
    },
    {
     "name": "stdout",
     "output_type": "stream",
     "text": [
      "logits.shape: torch.Size([8, 18])\n",
      "yb_indices.shape: torch.Size([8, 18])\n",
      "logits.shape: torch.Size([8, 18])\n",
      "yb_indices.shape: torch.Size([8, 18])\n"
     ]
    },
    {
     "name": "stderr",
     "output_type": "stream",
     "text": [
      "371it [01:08,  5.90it/s]"
     ]
    },
    {
     "name": "stdout",
     "output_type": "stream",
     "text": [
      "logits.shape: torch.Size([8, 18])\n",
      "yb_indices.shape: torch.Size([8, 18])\n",
      "logits.shape: torch.Size([8, 18])\n",
      "yb_indices.shape: torch.Size([8, 18])\n"
     ]
    },
    {
     "name": "stderr",
     "output_type": "stream",
     "text": [
      "373it [01:08,  6.05it/s]"
     ]
    },
    {
     "name": "stdout",
     "output_type": "stream",
     "text": [
      "logits.shape: torch.Size([8, 18])\n",
      "yb_indices.shape: torch.Size([8, 18])\n",
      "logits.shape: torch.Size([8, 18])\n",
      "yb_indices.shape: torch.Size([8, 18])\n"
     ]
    },
    {
     "name": "stderr",
     "output_type": "stream",
     "text": [
      "375it [01:09,  5.83it/s]"
     ]
    },
    {
     "name": "stdout",
     "output_type": "stream",
     "text": [
      "logits.shape: torch.Size([8, 18])\n",
      "yb_indices.shape: torch.Size([8, 18])\n",
      "logits.shape: torch.Size([8, 18])\n",
      "yb_indices.shape: torch.Size([8, 18])\n"
     ]
    },
    {
     "name": "stderr",
     "output_type": "stream",
     "text": [
      "377it [01:09,  6.12it/s]"
     ]
    },
    {
     "name": "stdout",
     "output_type": "stream",
     "text": [
      "logits.shape: torch.Size([8, 18])\n",
      "yb_indices.shape: torch.Size([8, 18])\n",
      "logits.shape: torch.Size([8, 18])\n",
      "yb_indices.shape: torch.Size([8, 18])\n"
     ]
    },
    {
     "name": "stderr",
     "output_type": "stream",
     "text": [
      "379it [01:09,  6.64it/s]"
     ]
    },
    {
     "name": "stdout",
     "output_type": "stream",
     "text": [
      "logits.shape: torch.Size([8, 18])\n",
      "yb_indices.shape: torch.Size([8, 18])\n",
      "logits.shape: torch.Size([8, 18])\n",
      "yb_indices.shape: torch.Size([8, 18])\n"
     ]
    },
    {
     "name": "stderr",
     "output_type": "stream",
     "text": [
      "381it [01:10,  7.04it/s]"
     ]
    },
    {
     "name": "stdout",
     "output_type": "stream",
     "text": [
      "logits.shape: torch.Size([8, 18])\n",
      "yb_indices.shape: torch.Size([8, 18])\n",
      "logits.shape: torch.Size([8, 18])\n",
      "yb_indices.shape: torch.Size([8, 18])\n"
     ]
    },
    {
     "name": "stderr",
     "output_type": "stream",
     "text": [
      "383it [01:10,  7.26it/s]"
     ]
    },
    {
     "name": "stdout",
     "output_type": "stream",
     "text": [
      "logits.shape: torch.Size([8, 18])\n",
      "yb_indices.shape: torch.Size([8, 18])\n",
      "logits.shape: torch.Size([8, 18])\n",
      "yb_indices.shape: torch.Size([8, 18])\n"
     ]
    },
    {
     "name": "stderr",
     "output_type": "stream",
     "text": [
      "385it [01:10,  7.84it/s]"
     ]
    },
    {
     "name": "stdout",
     "output_type": "stream",
     "text": [
      "logits.shape: torch.Size([8, 18])\n",
      "yb_indices.shape: torch.Size([8, 18])\n",
      "logits.shape: torch.Size([8, 18])\n",
      "yb_indices.shape: torch.Size([8, 18])\n"
     ]
    },
    {
     "name": "stderr",
     "output_type": "stream",
     "text": [
      "387it [01:10,  7.43it/s]"
     ]
    },
    {
     "name": "stdout",
     "output_type": "stream",
     "text": [
      "logits.shape: torch.Size([8, 18])\n",
      "yb_indices.shape: torch.Size([8, 18])\n",
      "logits.shape: torch.Size([8, 18])\n",
      "yb_indices.shape: torch.Size([8, 18])\n"
     ]
    },
    {
     "name": "stderr",
     "output_type": "stream",
     "text": [
      "389it [01:11,  7.22it/s]"
     ]
    },
    {
     "name": "stdout",
     "output_type": "stream",
     "text": [
      "logits.shape: torch.Size([8, 18])\n",
      "yb_indices.shape: torch.Size([8, 18])\n",
      "logits.shape: torch.Size([8, 18])\n",
      "yb_indices.shape: torch.Size([8, 18])\n"
     ]
    },
    {
     "name": "stderr",
     "output_type": "stream",
     "text": [
      "392it [01:11,  7.74it/s]"
     ]
    },
    {
     "name": "stdout",
     "output_type": "stream",
     "text": [
      "logits.shape: torch.Size([8, 18])\n",
      "yb_indices.shape: torch.Size([8, 18])\n",
      "logits.shape: torch.Size([8, 18])\n",
      "yb_indices.shape: torch.Size([8, 18])\n"
     ]
    },
    {
     "name": "stderr",
     "output_type": "stream",
     "text": [
      "394it [01:11,  7.71it/s]"
     ]
    },
    {
     "name": "stdout",
     "output_type": "stream",
     "text": [
      "logits.shape: torch.Size([8, 18])\n",
      "yb_indices.shape: torch.Size([8, 18])\n",
      "logits.shape: torch.Size([8, 18])\n",
      "yb_indices.shape: torch.Size([8, 18])\n"
     ]
    },
    {
     "name": "stderr",
     "output_type": "stream",
     "text": [
      "395it [01:12,  7.84it/s]"
     ]
    },
    {
     "name": "stdout",
     "output_type": "stream",
     "text": [
      "logits.shape: torch.Size([8, 18])\n",
      "yb_indices.shape: torch.Size([8, 18])\n",
      "logits.shape: torch.Size([8, 18])\n",
      "yb_indices.shape: torch.Size([8, 18])\n"
     ]
    },
    {
     "name": "stderr",
     "output_type": "stream",
     "text": [
      "397it [01:12,  7.31it/s]"
     ]
    },
    {
     "name": "stdout",
     "output_type": "stream",
     "text": [
      "logits.shape: torch.Size([8, 18])\n",
      "yb_indices.shape: torch.Size([8, 18])\n",
      "logits.shape: torch.Size([8, 18])\n",
      "yb_indices.shape: torch.Size([8, 18])\n"
     ]
    },
    {
     "name": "stderr",
     "output_type": "stream",
     "text": [
      "399it [01:12,  7.63it/s]"
     ]
    },
    {
     "name": "stdout",
     "output_type": "stream",
     "text": [
      "logits.shape: torch.Size([8, 18])\n",
      "yb_indices.shape: torch.Size([8, 18])\n",
      "logits.shape: torch.Size([8, 18])\n",
      "yb_indices.shape: torch.Size([8, 18])\n"
     ]
    },
    {
     "name": "stderr",
     "output_type": "stream",
     "text": [
      "401it [01:12,  8.12it/s]"
     ]
    },
    {
     "name": "stdout",
     "output_type": "stream",
     "text": [
      "logits.shape: torch.Size([8, 18])\n",
      "yb_indices.shape: torch.Size([8, 18])\n",
      "logits.shape: torch.Size([8, 18])\n",
      "yb_indices.shape: torch.Size([8, 18])\n"
     ]
    },
    {
     "name": "stderr",
     "output_type": "stream",
     "text": [
      "403it [01:13,  8.07it/s]"
     ]
    },
    {
     "name": "stdout",
     "output_type": "stream",
     "text": [
      "logits.shape: torch.Size([8, 18])\n",
      "yb_indices.shape: torch.Size([8, 18])\n",
      "logits.shape: torch.Size([8, 18])\n",
      "yb_indices.shape: torch.Size([8, 18])\n"
     ]
    },
    {
     "name": "stderr",
     "output_type": "stream",
     "text": [
      "406it [01:13,  8.37it/s]"
     ]
    },
    {
     "name": "stdout",
     "output_type": "stream",
     "text": [
      "logits.shape: torch.Size([8, 18])\n",
      "yb_indices.shape: torch.Size([8, 18])\n",
      "logits.shape: torch.Size([8, 18])\n",
      "yb_indices.shape: torch.Size([8, 18])\n"
     ]
    },
    {
     "name": "stderr",
     "output_type": "stream",
     "text": [
      "407it [01:13,  7.41it/s]"
     ]
    },
    {
     "name": "stdout",
     "output_type": "stream",
     "text": [
      "logits.shape: torch.Size([8, 18])\n",
      "yb_indices.shape: torch.Size([8, 18])\n",
      "logits.shape: torch.Size([8, 18])\n",
      "yb_indices.shape: torch.Size([8, 18])\n"
     ]
    },
    {
     "name": "stderr",
     "output_type": "stream",
     "text": [
      "409it [01:13,  6.78it/s]"
     ]
    },
    {
     "name": "stdout",
     "output_type": "stream",
     "text": [
      "logits.shape: torch.Size([8, 18])\n",
      "yb_indices.shape: torch.Size([8, 18])\n",
      "logits.shape: torch.Size([8, 18])\n",
      "yb_indices.shape: torch.Size([8, 18])\n"
     ]
    },
    {
     "name": "stderr",
     "output_type": "stream",
     "text": [
      "411it [01:14,  6.67it/s]"
     ]
    },
    {
     "name": "stdout",
     "output_type": "stream",
     "text": [
      "logits.shape: torch.Size([8, 18])\n",
      "yb_indices.shape: torch.Size([8, 18])\n",
      "logits.shape: torch.Size([8, 18])\n",
      "yb_indices.shape: torch.Size([8, 18])\n"
     ]
    },
    {
     "name": "stderr",
     "output_type": "stream",
     "text": [
      "413it [01:14,  6.43it/s]"
     ]
    },
    {
     "name": "stdout",
     "output_type": "stream",
     "text": [
      "logits.shape: torch.Size([8, 18])\n",
      "yb_indices.shape: torch.Size([8, 18])\n",
      "logits.shape: torch.Size([8, 18])\n",
      "yb_indices.shape: torch.Size([8, 18])\n"
     ]
    },
    {
     "name": "stderr",
     "output_type": "stream",
     "text": [
      "416it [01:14,  6.98it/s]"
     ]
    },
    {
     "name": "stdout",
     "output_type": "stream",
     "text": [
      "logits.shape: torch.Size([8, 18])\n",
      "yb_indices.shape: torch.Size([8, 18])\n",
      "logits.shape: torch.Size([8, 18])\n",
      "yb_indices.shape: torch.Size([8, 18])\n"
     ]
    },
    {
     "name": "stderr",
     "output_type": "stream",
     "text": [
      "417it [01:15,  7.11it/s]"
     ]
    },
    {
     "name": "stdout",
     "output_type": "stream",
     "text": [
      "logits.shape: torch.Size([8, 18])\n",
      "yb_indices.shape: torch.Size([8, 18])\n",
      "logits.shape: torch.Size([8, 18])\n",
      "yb_indices.shape: torch.Size([8, 18])\n"
     ]
    },
    {
     "name": "stderr",
     "output_type": "stream",
     "text": [
      "420it [01:15,  7.53it/s]"
     ]
    },
    {
     "name": "stdout",
     "output_type": "stream",
     "text": [
      "logits.shape: torch.Size([8, 18])\n",
      "yb_indices.shape: torch.Size([8, 18])\n",
      "logits.shape: torch.Size([8, 18])\n",
      "yb_indices.shape: torch.Size([8, 18])\n"
     ]
    },
    {
     "name": "stderr",
     "output_type": "stream",
     "text": [
      "421it [01:15,  7.66it/s]"
     ]
    },
    {
     "name": "stdout",
     "output_type": "stream",
     "text": [
      "logits.shape: torch.Size([8, 18])\n",
      "yb_indices.shape: torch.Size([8, 18])\n",
      "logits.shape: torch.Size([8, 18])\n",
      "yb_indices.shape: torch.Size([8, 18])\n"
     ]
    },
    {
     "name": "stderr",
     "output_type": "stream",
     "text": [
      "424it [01:15,  7.89it/s]"
     ]
    },
    {
     "name": "stdout",
     "output_type": "stream",
     "text": [
      "logits.shape: torch.Size([8, 18])\n",
      "yb_indices.shape: torch.Size([8, 18])\n",
      "logits.shape: torch.Size([8, 18])\n",
      "yb_indices.shape: torch.Size([8, 18])\n"
     ]
    },
    {
     "name": "stderr",
     "output_type": "stream",
     "text": [
      "425it [01:16,  5.94it/s]"
     ]
    },
    {
     "name": "stdout",
     "output_type": "stream",
     "text": [
      "logits.shape: torch.Size([8, 18])\n",
      "yb_indices.shape: torch.Size([8, 18])\n"
     ]
    },
    {
     "name": "stderr",
     "output_type": "stream",
     "text": [
      "426it [01:16,  5.02it/s]"
     ]
    },
    {
     "name": "stdout",
     "output_type": "stream",
     "text": [
      "logits.shape: torch.Size([8, 18])\n",
      "yb_indices.shape: torch.Size([8, 18])\n"
     ]
    },
    {
     "name": "stderr",
     "output_type": "stream",
     "text": [
      "427it [01:16,  4.53it/s]"
     ]
    },
    {
     "name": "stdout",
     "output_type": "stream",
     "text": [
      "logits.shape: torch.Size([8, 18])\n",
      "yb_indices.shape: torch.Size([8, 18])\n"
     ]
    },
    {
     "name": "stderr",
     "output_type": "stream",
     "text": [
      "428it [01:16,  4.59it/s]"
     ]
    },
    {
     "name": "stdout",
     "output_type": "stream",
     "text": [
      "logits.shape: torch.Size([8, 18])\n",
      "yb_indices.shape: torch.Size([8, 18])\n"
     ]
    },
    {
     "name": "stderr",
     "output_type": "stream",
     "text": [
      "429it [01:17,  4.60it/s]"
     ]
    },
    {
     "name": "stdout",
     "output_type": "stream",
     "text": [
      "logits.shape: torch.Size([8, 18])\n",
      "yb_indices.shape: torch.Size([8, 18])\n"
     ]
    },
    {
     "name": "stderr",
     "output_type": "stream",
     "text": [
      "430it [01:17,  4.73it/s]"
     ]
    },
    {
     "name": "stdout",
     "output_type": "stream",
     "text": [
      "logits.shape: torch.Size([8, 18])\n",
      "yb_indices.shape: torch.Size([8, 18])\n",
      "logits.shape: torch.Size([8, 18])\n",
      "yb_indices.shape: torch.Size([8, 18])\n"
     ]
    },
    {
     "name": "stderr",
     "output_type": "stream",
     "text": [
      "432it [01:17,  5.22it/s]"
     ]
    },
    {
     "name": "stdout",
     "output_type": "stream",
     "text": [
      "logits.shape: torch.Size([8, 18])\n",
      "yb_indices.shape: torch.Size([8, 18])\n",
      "logits.shape: torch.Size([8, 18])\n",
      "yb_indices.shape: torch.Size([8, 18])\n"
     ]
    },
    {
     "name": "stderr",
     "output_type": "stream",
     "text": [
      "435it [01:18,  6.63it/s]"
     ]
    },
    {
     "name": "stdout",
     "output_type": "stream",
     "text": [
      "logits.shape: torch.Size([8, 18])\n",
      "yb_indices.shape: torch.Size([8, 18])\n",
      "logits.shape: torch.Size([8, 18])\n",
      "yb_indices.shape: torch.Size([8, 18])\n"
     ]
    },
    {
     "name": "stderr",
     "output_type": "stream",
     "text": [
      "436it [01:18,  6.57it/s]"
     ]
    },
    {
     "name": "stdout",
     "output_type": "stream",
     "text": [
      "logits.shape: torch.Size([8, 18])\n",
      "yb_indices.shape: torch.Size([8, 18])\n",
      "logits.shape: torch.Size([8, 18])\n",
      "yb_indices.shape: torch.Size([8, 18])\n"
     ]
    },
    {
     "name": "stderr",
     "output_type": "stream",
     "text": [
      "438it [01:18,  6.95it/s]"
     ]
    },
    {
     "name": "stdout",
     "output_type": "stream",
     "text": [
      "logits.shape: torch.Size([8, 18])\n",
      "yb_indices.shape: torch.Size([8, 18])\n",
      "logits.shape: torch.Size([8, 18])\n",
      "yb_indices.shape: torch.Size([8, 18])\n"
     ]
    },
    {
     "name": "stderr",
     "output_type": "stream",
     "text": [
      "441it [01:18,  7.36it/s]"
     ]
    },
    {
     "name": "stdout",
     "output_type": "stream",
     "text": [
      "logits.shape: torch.Size([8, 18])\n",
      "yb_indices.shape: torch.Size([8, 18])\n",
      "logits.shape: torch.Size([8, 18])\n",
      "yb_indices.shape: torch.Size([8, 18])\n"
     ]
    },
    {
     "name": "stderr",
     "output_type": "stream",
     "text": [
      "442it [01:19,  7.54it/s]"
     ]
    },
    {
     "name": "stdout",
     "output_type": "stream",
     "text": [
      "logits.shape: torch.Size([8, 18])\n",
      "yb_indices.shape: torch.Size([8, 18])\n",
      "logits.shape: torch.Size([8, 18])\n",
      "yb_indices.shape: torch.Size([8, 18])\n"
     ]
    },
    {
     "name": "stderr",
     "output_type": "stream",
     "text": [
      "444it [01:19,  6.73it/s]"
     ]
    },
    {
     "name": "stdout",
     "output_type": "stream",
     "text": [
      "logits.shape: torch.Size([8, 18])\n",
      "yb_indices.shape: torch.Size([8, 18])\n",
      "logits.shape: torch.Size([8, 18])\n",
      "yb_indices.shape: torch.Size([8, 18])\n"
     ]
    },
    {
     "name": "stderr",
     "output_type": "stream",
     "text": [
      "447it [01:19,  7.72it/s]"
     ]
    },
    {
     "name": "stdout",
     "output_type": "stream",
     "text": [
      "logits.shape: torch.Size([8, 18])\n",
      "yb_indices.shape: torch.Size([8, 18])\n",
      "logits.shape: torch.Size([8, 18])\n",
      "yb_indices.shape: torch.Size([8, 18])\n"
     ]
    },
    {
     "name": "stderr",
     "output_type": "stream",
     "text": [
      "449it [01:20,  8.03it/s]"
     ]
    },
    {
     "name": "stdout",
     "output_type": "stream",
     "text": [
      "logits.shape: torch.Size([8, 18])\n",
      "yb_indices.shape: torch.Size([8, 18])\n",
      "logits.shape: torch.Size([8, 18])\n",
      "yb_indices.shape: torch.Size([8, 18])\n"
     ]
    },
    {
     "name": "stderr",
     "output_type": "stream",
     "text": [
      "450it [01:20,  7.93it/s]"
     ]
    },
    {
     "name": "stdout",
     "output_type": "stream",
     "text": [
      "logits.shape: torch.Size([8, 18])\n",
      "yb_indices.shape: torch.Size([8, 18])\n",
      "logits.shape: torch.Size([8, 18])\n",
      "yb_indices.shape: torch.Size([8, 18])\n"
     ]
    },
    {
     "name": "stderr",
     "output_type": "stream",
     "text": [
      "453it [01:20,  8.22it/s]"
     ]
    },
    {
     "name": "stdout",
     "output_type": "stream",
     "text": [
      "logits.shape: torch.Size([8, 18])\n",
      "yb_indices.shape: torch.Size([8, 18])\n",
      "logits.shape: torch.Size([8, 18])\n",
      "yb_indices.shape: torch.Size([8, 18])\n"
     ]
    },
    {
     "name": "stderr",
     "output_type": "stream",
     "text": [
      "454it [01:20,  7.48it/s]"
     ]
    },
    {
     "name": "stdout",
     "output_type": "stream",
     "text": [
      "logits.shape: torch.Size([8, 18])\n",
      "yb_indices.shape: torch.Size([8, 18])\n",
      "logits.shape: torch.Size([8, 18])\n",
      "yb_indices.shape: torch.Size([8, 18])\n"
     ]
    },
    {
     "name": "stderr",
     "output_type": "stream",
     "text": [
      "457it [01:21,  7.44it/s]"
     ]
    },
    {
     "name": "stdout",
     "output_type": "stream",
     "text": [
      "logits.shape: torch.Size([8, 18])\n",
      "yb_indices.shape: torch.Size([8, 18])\n",
      "logits.shape: torch.Size([8, 18])\n",
      "yb_indices.shape: torch.Size([8, 18])\n"
     ]
    },
    {
     "name": "stderr",
     "output_type": "stream",
     "text": [
      "458it [01:21,  7.66it/s]"
     ]
    },
    {
     "name": "stdout",
     "output_type": "stream",
     "text": [
      "logits.shape: torch.Size([8, 18])\n",
      "yb_indices.shape: torch.Size([8, 18])\n",
      "logits.shape: torch.Size([8, 18])\n",
      "yb_indices.shape: torch.Size([8, 18])\n"
     ]
    },
    {
     "name": "stderr",
     "output_type": "stream",
     "text": [
      "460it [01:21,  7.66it/s]"
     ]
    },
    {
     "name": "stdout",
     "output_type": "stream",
     "text": [
      "logits.shape: torch.Size([8, 18])\n",
      "yb_indices.shape: torch.Size([8, 18])\n",
      "logits.shape: torch.Size([8, 18])\n",
      "yb_indices.shape: torch.Size([8, 18])\n"
     ]
    },
    {
     "name": "stderr",
     "output_type": "stream",
     "text": [
      "462it [01:21,  7.31it/s]"
     ]
    },
    {
     "name": "stdout",
     "output_type": "stream",
     "text": [
      "logits.shape: torch.Size([8, 18])\n",
      "yb_indices.shape: torch.Size([8, 18])\n",
      "logits.shape: torch.Size([8, 18])\n",
      "yb_indices.shape: torch.Size([8, 18])\n"
     ]
    },
    {
     "name": "stderr",
     "output_type": "stream",
     "text": [
      "464it [01:22,  7.77it/s]"
     ]
    },
    {
     "name": "stdout",
     "output_type": "stream",
     "text": [
      "logits.shape: torch.Size([8, 18])\n",
      "yb_indices.shape: torch.Size([8, 18])\n",
      "logits.shape: torch.Size([8, 18])\n",
      "yb_indices.shape: torch.Size([8, 18])\n"
     ]
    },
    {
     "name": "stderr",
     "output_type": "stream",
     "text": [
      "467it [01:22,  8.01it/s]"
     ]
    },
    {
     "name": "stdout",
     "output_type": "stream",
     "text": [
      "logits.shape: torch.Size([8, 18])\n",
      "yb_indices.shape: torch.Size([8, 18])\n",
      "logits.shape: torch.Size([8, 18])\n",
      "yb_indices.shape: torch.Size([8, 18])\n"
     ]
    },
    {
     "name": "stderr",
     "output_type": "stream",
     "text": [
      "468it [01:22,  8.15it/s]"
     ]
    },
    {
     "name": "stdout",
     "output_type": "stream",
     "text": [
      "logits.shape: torch.Size([8, 18])\n",
      "yb_indices.shape: torch.Size([8, 18])\n",
      "logits.shape: torch.Size([8, 18])\n",
      "yb_indices.shape: torch.Size([8, 18])\n"
     ]
    },
    {
     "name": "stderr",
     "output_type": "stream",
     "text": [
      "470it [01:22,  8.05it/s]"
     ]
    },
    {
     "name": "stdout",
     "output_type": "stream",
     "text": [
      "logits.shape: torch.Size([8, 18])\n",
      "yb_indices.shape: torch.Size([8, 18])\n",
      "logits.shape: torch.Size([8, 18])\n",
      "yb_indices.shape: torch.Size([8, 18])\n"
     ]
    },
    {
     "name": "stderr",
     "output_type": "stream",
     "text": [
      "472it [01:23,  7.97it/s]"
     ]
    },
    {
     "name": "stdout",
     "output_type": "stream",
     "text": [
      "logits.shape: torch.Size([8, 18])\n",
      "yb_indices.shape: torch.Size([8, 18])\n",
      "logits.shape: torch.Size([8, 18])\n",
      "yb_indices.shape: torch.Size([8, 18])\n"
     ]
    },
    {
     "name": "stderr",
     "output_type": "stream",
     "text": [
      "474it [01:23,  7.17it/s]"
     ]
    },
    {
     "name": "stdout",
     "output_type": "stream",
     "text": [
      "logits.shape: torch.Size([8, 18])\n",
      "yb_indices.shape: torch.Size([8, 18])\n",
      "logits.shape: torch.Size([8, 18])\n",
      "yb_indices.shape: torch.Size([8, 18])\n"
     ]
    },
    {
     "name": "stderr",
     "output_type": "stream",
     "text": [
      "476it [01:23,  7.17it/s]"
     ]
    },
    {
     "name": "stdout",
     "output_type": "stream",
     "text": [
      "logits.shape: torch.Size([8, 18])\n",
      "yb_indices.shape: torch.Size([8, 18])\n",
      "logits.shape: torch.Size([8, 18])\n",
      "yb_indices.shape: torch.Size([8, 18])\n"
     ]
    },
    {
     "name": "stderr",
     "output_type": "stream",
     "text": [
      "479it [01:23,  7.69it/s]"
     ]
    },
    {
     "name": "stdout",
     "output_type": "stream",
     "text": [
      "logits.shape: torch.Size([8, 18])\n",
      "yb_indices.shape: torch.Size([8, 18])\n",
      "logits.shape: torch.Size([8, 18])\n",
      "yb_indices.shape: torch.Size([8, 18])\n"
     ]
    },
    {
     "name": "stderr",
     "output_type": "stream",
     "text": [
      "481it [01:24,  7.94it/s]"
     ]
    },
    {
     "name": "stdout",
     "output_type": "stream",
     "text": [
      "logits.shape: torch.Size([8, 18])\n",
      "yb_indices.shape: torch.Size([8, 18])\n",
      "logits.shape: torch.Size([8, 18])\n",
      "yb_indices.shape: torch.Size([8, 18])\n"
     ]
    },
    {
     "name": "stderr",
     "output_type": "stream",
     "text": [
      "482it [01:24,  7.94it/s]"
     ]
    },
    {
     "name": "stdout",
     "output_type": "stream",
     "text": [
      "logits.shape: torch.Size([8, 18])\n",
      "yb_indices.shape: torch.Size([8, 18])\n",
      "logits.shape: torch.Size([8, 18])\n",
      "yb_indices.shape: torch.Size([8, 18])\n"
     ]
    },
    {
     "name": "stderr",
     "output_type": "stream",
     "text": [
      "485it [01:24,  7.57it/s]"
     ]
    },
    {
     "name": "stdout",
     "output_type": "stream",
     "text": [
      "logits.shape: torch.Size([8, 18])\n",
      "yb_indices.shape: torch.Size([8, 18])\n",
      "logits.shape: torch.Size([8, 18])\n",
      "yb_indices.shape: torch.Size([8, 18])\n"
     ]
    },
    {
     "name": "stderr",
     "output_type": "stream",
     "text": [
      "486it [01:24,  7.41it/s]"
     ]
    },
    {
     "name": "stdout",
     "output_type": "stream",
     "text": [
      "logits.shape: torch.Size([8, 18])\n",
      "yb_indices.shape: torch.Size([8, 18])\n",
      "logits.shape: torch.Size([8, 18])\n",
      "yb_indices.shape: torch.Size([8, 18])\n"
     ]
    },
    {
     "name": "stderr",
     "output_type": "stream",
     "text": [
      "488it [01:25,  7.80it/s]"
     ]
    },
    {
     "name": "stdout",
     "output_type": "stream",
     "text": [
      "logits.shape: torch.Size([8, 18])\n",
      "yb_indices.shape: torch.Size([8, 18])\n",
      "logits.shape: torch.Size([8, 18])\n",
      "yb_indices.shape: torch.Size([8, 18])\n"
     ]
    },
    {
     "name": "stderr",
     "output_type": "stream",
     "text": [
      "490it [01:25,  7.85it/s]"
     ]
    },
    {
     "name": "stdout",
     "output_type": "stream",
     "text": [
      "logits.shape: torch.Size([8, 18])\n",
      "yb_indices.shape: torch.Size([8, 18])\n",
      "logits.shape: torch.Size([8, 18])\n",
      "yb_indices.shape: torch.Size([8, 18])\n"
     ]
    },
    {
     "name": "stderr",
     "output_type": "stream",
     "text": [
      "493it [01:25,  7.79it/s]"
     ]
    },
    {
     "name": "stdout",
     "output_type": "stream",
     "text": [
      "logits.shape: torch.Size([8, 18])\n",
      "yb_indices.shape: torch.Size([8, 18])\n",
      "logits.shape: torch.Size([8, 18])\n",
      "yb_indices.shape: torch.Size([8, 18])\n"
     ]
    },
    {
     "name": "stderr",
     "output_type": "stream",
     "text": [
      "494it [01:25,  8.03it/s]"
     ]
    },
    {
     "name": "stdout",
     "output_type": "stream",
     "text": [
      "logits.shape: torch.Size([8, 18])\n",
      "yb_indices.shape: torch.Size([8, 18])\n",
      "logits.shape: torch.Size([8, 18])\n",
      "yb_indices.shape: torch.Size([8, 18])\n"
     ]
    },
    {
     "name": "stderr",
     "output_type": "stream",
     "text": [
      "496it [01:26,  7.43it/s]"
     ]
    },
    {
     "name": "stdout",
     "output_type": "stream",
     "text": [
      "logits.shape: torch.Size([8, 18])\n",
      "yb_indices.shape: torch.Size([8, 18])\n",
      "logits.shape: torch.Size([8, 18])\n",
      "yb_indices.shape: torch.Size([8, 18])\n"
     ]
    },
    {
     "name": "stderr",
     "output_type": "stream",
     "text": [
      "499it [01:26,  7.58it/s]"
     ]
    },
    {
     "name": "stdout",
     "output_type": "stream",
     "text": [
      "logits.shape: torch.Size([8, 18])\n",
      "yb_indices.shape: torch.Size([8, 18])\n",
      "logits.shape: torch.Size([8, 18])\n",
      "yb_indices.shape: torch.Size([8, 18])\n"
     ]
    },
    {
     "name": "stderr",
     "output_type": "stream",
     "text": [
      "500it [01:26,  7.32it/s]"
     ]
    },
    {
     "name": "stdout",
     "output_type": "stream",
     "text": [
      "logits.shape: torch.Size([8, 18])\n",
      "yb_indices.shape: torch.Size([8, 18])\n",
      "logits.shape: torch.Size([8, 18])\n",
      "yb_indices.shape: torch.Size([8, 18])\n"
     ]
    },
    {
     "name": "stderr",
     "output_type": "stream",
     "text": [
      "502it [01:27,  6.69it/s]"
     ]
    },
    {
     "name": "stdout",
     "output_type": "stream",
     "text": [
      "logits.shape: torch.Size([8, 18])\n",
      "yb_indices.shape: torch.Size([8, 18])\n",
      "logits.shape: torch.Size([8, 18])\n",
      "yb_indices.shape: torch.Size([8, 18])\n"
     ]
    },
    {
     "name": "stderr",
     "output_type": "stream",
     "text": [
      "505it [01:27,  7.26it/s]"
     ]
    },
    {
     "name": "stdout",
     "output_type": "stream",
     "text": [
      "logits.shape: torch.Size([8, 18])\n",
      "yb_indices.shape: torch.Size([8, 18])\n",
      "logits.shape: torch.Size([8, 18])\n",
      "yb_indices.shape: torch.Size([8, 18])\n"
     ]
    },
    {
     "name": "stderr",
     "output_type": "stream",
     "text": [
      "506it [01:27,  7.23it/s]"
     ]
    },
    {
     "name": "stdout",
     "output_type": "stream",
     "text": [
      "logits.shape: torch.Size([8, 18])\n",
      "yb_indices.shape: torch.Size([8, 18])\n",
      "logits.shape: torch.Size([8, 18])\n",
      "yb_indices.shape: torch.Size([8, 18])\n"
     ]
    },
    {
     "name": "stderr",
     "output_type": "stream",
     "text": [
      "508it [01:27,  7.47it/s]"
     ]
    },
    {
     "name": "stdout",
     "output_type": "stream",
     "text": [
      "logits.shape: torch.Size([8, 18])\n",
      "yb_indices.shape: torch.Size([8, 18])\n",
      "logits.shape: torch.Size([8, 18])\n",
      "yb_indices.shape: torch.Size([8, 18])\n"
     ]
    },
    {
     "name": "stderr",
     "output_type": "stream",
     "text": [
      "511it [01:28,  8.09it/s]"
     ]
    },
    {
     "name": "stdout",
     "output_type": "stream",
     "text": [
      "logits.shape: torch.Size([8, 18])\n",
      "yb_indices.shape: torch.Size([8, 18])\n",
      "logits.shape: torch.Size([8, 18])\n",
      "yb_indices.shape: torch.Size([8, 18])\n"
     ]
    },
    {
     "name": "stderr",
     "output_type": "stream",
     "text": [
      "512it [01:28,  7.24it/s]"
     ]
    },
    {
     "name": "stdout",
     "output_type": "stream",
     "text": [
      "logits.shape: torch.Size([8, 18])\n",
      "yb_indices.shape: torch.Size([8, 18])\n",
      "logits.shape: torch.Size([8, 18])\n",
      "yb_indices.shape: torch.Size([8, 18])\n"
     ]
    },
    {
     "name": "stderr",
     "output_type": "stream",
     "text": [
      "515it [01:28,  7.65it/s]"
     ]
    },
    {
     "name": "stdout",
     "output_type": "stream",
     "text": [
      "logits.shape: torch.Size([8, 18])\n",
      "yb_indices.shape: torch.Size([8, 18])\n",
      "logits.shape: torch.Size([8, 18])\n",
      "yb_indices.shape: torch.Size([8, 18])\n"
     ]
    },
    {
     "name": "stderr",
     "output_type": "stream",
     "text": [
      "517it [01:29,  7.78it/s]"
     ]
    },
    {
     "name": "stdout",
     "output_type": "stream",
     "text": [
      "logits.shape: torch.Size([8, 18])\n",
      "yb_indices.shape: torch.Size([8, 18])\n",
      "logits.shape: torch.Size([8, 18])\n",
      "yb_indices.shape: torch.Size([8, 18])\n"
     ]
    },
    {
     "name": "stderr",
     "output_type": "stream",
     "text": [
      "518it [01:29,  7.78it/s]"
     ]
    },
    {
     "name": "stdout",
     "output_type": "stream",
     "text": [
      "logits.shape: torch.Size([8, 18])\n",
      "yb_indices.shape: torch.Size([8, 18])\n",
      "logits.shape: torch.Size([8, 18])\n",
      "yb_indices.shape: torch.Size([8, 18])\n"
     ]
    },
    {
     "name": "stderr",
     "output_type": "stream",
     "text": [
      "521it [01:29,  7.59it/s]"
     ]
    },
    {
     "name": "stdout",
     "output_type": "stream",
     "text": [
      "logits.shape: torch.Size([8, 18])\n",
      "yb_indices.shape: torch.Size([8, 18])\n",
      "logits.shape: torch.Size([8, 18])\n",
      "yb_indices.shape: torch.Size([8, 18])\n"
     ]
    },
    {
     "name": "stderr",
     "output_type": "stream",
     "text": [
      "522it [01:29,  7.31it/s]"
     ]
    },
    {
     "name": "stdout",
     "output_type": "stream",
     "text": [
      "logits.shape: torch.Size([8, 18])\n",
      "yb_indices.shape: torch.Size([8, 18])\n",
      "logits.shape: torch.Size([8, 18])\n",
      "yb_indices.shape: torch.Size([8, 18])\n"
     ]
    },
    {
     "name": "stderr",
     "output_type": "stream",
     "text": [
      "525it [01:30,  7.74it/s]"
     ]
    },
    {
     "name": "stdout",
     "output_type": "stream",
     "text": [
      "logits.shape: torch.Size([8, 18])\n",
      "yb_indices.shape: torch.Size([8, 18])\n",
      "logits.shape: torch.Size([8, 18])\n",
      "yb_indices.shape: torch.Size([8, 18])\n"
     ]
    },
    {
     "name": "stderr",
     "output_type": "stream",
     "text": [
      "526it [01:30,  7.11it/s]"
     ]
    },
    {
     "name": "stdout",
     "output_type": "stream",
     "text": [
      "logits.shape: torch.Size([8, 18])\n",
      "yb_indices.shape: torch.Size([8, 18])\n",
      "logits.shape: torch.Size([8, 18])\n",
      "yb_indices.shape: torch.Size([8, 18])\n"
     ]
    },
    {
     "name": "stderr",
     "output_type": "stream",
     "text": [
      "528it [01:30,  6.71it/s]"
     ]
    },
    {
     "name": "stdout",
     "output_type": "stream",
     "text": [
      "logits.shape: torch.Size([8, 18])\n",
      "yb_indices.shape: torch.Size([8, 18])\n",
      "logits.shape: torch.Size([8, 18])\n",
      "yb_indices.shape: torch.Size([8, 18])\n"
     ]
    },
    {
     "name": "stderr",
     "output_type": "stream",
     "text": [
      "530it [01:30,  6.42it/s]"
     ]
    },
    {
     "name": "stdout",
     "output_type": "stream",
     "text": [
      "logits.shape: torch.Size([8, 18])\n",
      "yb_indices.shape: torch.Size([8, 18])\n",
      "logits.shape: torch.Size([8, 18])\n",
      "yb_indices.shape: torch.Size([8, 18])\n"
     ]
    },
    {
     "name": "stderr",
     "output_type": "stream",
     "text": [
      "532it [01:31,  5.45it/s]"
     ]
    },
    {
     "name": "stdout",
     "output_type": "stream",
     "text": [
      "logits.shape: torch.Size([8, 18])\n",
      "yb_indices.shape: torch.Size([8, 18])\n"
     ]
    },
    {
     "name": "stderr",
     "output_type": "stream",
     "text": [
      "533it [01:31,  5.01it/s]"
     ]
    },
    {
     "name": "stdout",
     "output_type": "stream",
     "text": [
      "logits.shape: torch.Size([8, 18])\n",
      "yb_indices.shape: torch.Size([8, 18])\n"
     ]
    },
    {
     "name": "stderr",
     "output_type": "stream",
     "text": [
      "534it [01:31,  5.25it/s]"
     ]
    },
    {
     "name": "stdout",
     "output_type": "stream",
     "text": [
      "logits.shape: torch.Size([8, 18])\n",
      "yb_indices.shape: torch.Size([8, 18])\n",
      "logits.shape: torch.Size([8, 18])\n",
      "yb_indices.shape: torch.Size([8, 18])\n"
     ]
    },
    {
     "name": "stderr",
     "output_type": "stream",
     "text": [
      "536it [01:32,  5.63it/s]"
     ]
    },
    {
     "name": "stdout",
     "output_type": "stream",
     "text": [
      "logits.shape: torch.Size([8, 18])\n",
      "yb_indices.shape: torch.Size([8, 18])\n",
      "logits.shape: torch.Size([8, 18])\n",
      "yb_indices.shape: torch.Size([8, 18])\n"
     ]
    },
    {
     "name": "stderr",
     "output_type": "stream",
     "text": [
      "538it [01:32,  6.20it/s]"
     ]
    },
    {
     "name": "stdout",
     "output_type": "stream",
     "text": [
      "logits.shape: torch.Size([8, 18])\n",
      "yb_indices.shape: torch.Size([8, 18])\n",
      "logits.shape: torch.Size([8, 18])\n",
      "yb_indices.shape: torch.Size([8, 18])\n"
     ]
    },
    {
     "name": "stderr",
     "output_type": "stream",
     "text": [
      "540it [01:32,  6.29it/s]"
     ]
    },
    {
     "name": "stdout",
     "output_type": "stream",
     "text": [
      "logits.shape: torch.Size([8, 18])\n",
      "yb_indices.shape: torch.Size([8, 18])\n",
      "logits.shape: torch.Size([8, 18])\n",
      "yb_indices.shape: torch.Size([8, 18])\n"
     ]
    },
    {
     "name": "stderr",
     "output_type": "stream",
     "text": [
      "542it [01:32,  6.85it/s]"
     ]
    },
    {
     "name": "stdout",
     "output_type": "stream",
     "text": [
      "logits.shape: torch.Size([8, 18])\n",
      "yb_indices.shape: torch.Size([8, 18])\n",
      "logits.shape: torch.Size([8, 18])\n",
      "yb_indices.shape: torch.Size([8, 18])\n"
     ]
    },
    {
     "name": "stderr",
     "output_type": "stream",
     "text": [
      "544it [01:33,  6.92it/s]"
     ]
    },
    {
     "name": "stdout",
     "output_type": "stream",
     "text": [
      "logits.shape: torch.Size([8, 18])\n",
      "yb_indices.shape: torch.Size([8, 18])\n",
      "logits.shape: torch.Size([8, 18])\n",
      "yb_indices.shape: torch.Size([8, 18])\n"
     ]
    },
    {
     "name": "stderr",
     "output_type": "stream",
     "text": [
      "546it [01:33,  6.88it/s]"
     ]
    },
    {
     "name": "stdout",
     "output_type": "stream",
     "text": [
      "logits.shape: torch.Size([8, 18])\n",
      "yb_indices.shape: torch.Size([8, 18])\n",
      "logits.shape: torch.Size([8, 18])\n",
      "yb_indices.shape: torch.Size([8, 18])\n"
     ]
    },
    {
     "name": "stderr",
     "output_type": "stream",
     "text": [
      "548it [01:33,  6.34it/s]"
     ]
    },
    {
     "name": "stdout",
     "output_type": "stream",
     "text": [
      "logits.shape: torch.Size([8, 18])\n",
      "yb_indices.shape: torch.Size([8, 18])\n",
      "logits.shape: torch.Size([8, 18])\n",
      "yb_indices.shape: torch.Size([8, 18])\n"
     ]
    },
    {
     "name": "stderr",
     "output_type": "stream",
     "text": [
      "550it [01:34,  6.34it/s]"
     ]
    },
    {
     "name": "stdout",
     "output_type": "stream",
     "text": [
      "logits.shape: torch.Size([8, 18])\n",
      "yb_indices.shape: torch.Size([8, 18])\n",
      "logits.shape: torch.Size([8, 18])\n",
      "yb_indices.shape: torch.Size([8, 18])\n"
     ]
    },
    {
     "name": "stderr",
     "output_type": "stream",
     "text": [
      "552it [01:34,  6.51it/s]"
     ]
    },
    {
     "name": "stdout",
     "output_type": "stream",
     "text": [
      "logits.shape: torch.Size([8, 18])\n",
      "yb_indices.shape: torch.Size([8, 18])\n",
      "logits.shape: torch.Size([8, 18])\n",
      "yb_indices.shape: torch.Size([8, 18])\n"
     ]
    },
    {
     "name": "stderr",
     "output_type": "stream",
     "text": [
      "554it [01:34,  5.95it/s]"
     ]
    },
    {
     "name": "stdout",
     "output_type": "stream",
     "text": [
      "logits.shape: torch.Size([8, 18])\n",
      "yb_indices.shape: torch.Size([8, 18])\n",
      "logits.shape: torch.Size([8, 18])\n",
      "yb_indices.shape: torch.Size([8, 18])\n"
     ]
    },
    {
     "name": "stderr",
     "output_type": "stream",
     "text": [
      "556it [01:35,  6.35it/s]"
     ]
    },
    {
     "name": "stdout",
     "output_type": "stream",
     "text": [
      "logits.shape: torch.Size([8, 18])\n",
      "yb_indices.shape: torch.Size([8, 18])\n",
      "logits.shape: torch.Size([8, 18])\n",
      "yb_indices.shape: torch.Size([8, 18])\n"
     ]
    },
    {
     "name": "stderr",
     "output_type": "stream",
     "text": [
      "558it [01:35,  6.11it/s]"
     ]
    },
    {
     "name": "stdout",
     "output_type": "stream",
     "text": [
      "logits.shape: torch.Size([8, 18])\n",
      "yb_indices.shape: torch.Size([8, 18])\n",
      "logits.shape: torch.Size([8, 18])\n",
      "yb_indices.shape: torch.Size([8, 18])\n"
     ]
    },
    {
     "name": "stderr",
     "output_type": "stream",
     "text": [
      "560it [01:35,  6.64it/s]"
     ]
    },
    {
     "name": "stdout",
     "output_type": "stream",
     "text": [
      "logits.shape: torch.Size([8, 18])\n",
      "yb_indices.shape: torch.Size([8, 18])\n",
      "logits.shape: torch.Size([8, 18])\n",
      "yb_indices.shape: torch.Size([8, 18])\n"
     ]
    },
    {
     "name": "stderr",
     "output_type": "stream",
     "text": [
      "562it [01:36,  5.89it/s]"
     ]
    },
    {
     "name": "stdout",
     "output_type": "stream",
     "text": [
      "logits.shape: torch.Size([8, 18])\n",
      "yb_indices.shape: torch.Size([8, 18])\n",
      "logits.shape: torch.Size([8, 18])\n",
      "yb_indices.shape: torch.Size([8, 18])\n"
     ]
    },
    {
     "name": "stderr",
     "output_type": "stream",
     "text": [
      "564it [01:36,  6.24it/s]"
     ]
    },
    {
     "name": "stdout",
     "output_type": "stream",
     "text": [
      "logits.shape: torch.Size([8, 18])\n",
      "yb_indices.shape: torch.Size([8, 18])\n",
      "logits.shape: torch.Size([8, 18])\n",
      "yb_indices.shape: torch.Size([8, 18])\n"
     ]
    },
    {
     "name": "stderr",
     "output_type": "stream",
     "text": [
      "566it [01:36,  6.36it/s]"
     ]
    },
    {
     "name": "stdout",
     "output_type": "stream",
     "text": [
      "logits.shape: torch.Size([8, 18])\n",
      "yb_indices.shape: torch.Size([8, 18])\n",
      "logits.shape: torch.Size([8, 18])\n",
      "yb_indices.shape: torch.Size([8, 18])\n"
     ]
    },
    {
     "name": "stderr",
     "output_type": "stream",
     "text": [
      "568it [01:36,  6.63it/s]"
     ]
    },
    {
     "name": "stdout",
     "output_type": "stream",
     "text": [
      "logits.shape: torch.Size([8, 18])\n",
      "yb_indices.shape: torch.Size([8, 18])\n",
      "logits.shape: torch.Size([8, 18])\n",
      "yb_indices.shape: torch.Size([8, 18])\n"
     ]
    },
    {
     "name": "stderr",
     "output_type": "stream",
     "text": [
      "570it [01:37,  6.48it/s]"
     ]
    },
    {
     "name": "stdout",
     "output_type": "stream",
     "text": [
      "logits.shape: torch.Size([8, 18])\n",
      "yb_indices.shape: torch.Size([8, 18])\n",
      "logits.shape: torch.Size([8, 18])\n",
      "yb_indices.shape: torch.Size([8, 18])\n"
     ]
    },
    {
     "name": "stderr",
     "output_type": "stream",
     "text": [
      "572it [01:37,  6.48it/s]"
     ]
    },
    {
     "name": "stdout",
     "output_type": "stream",
     "text": [
      "logits.shape: torch.Size([8, 18])\n",
      "yb_indices.shape: torch.Size([8, 18])\n",
      "logits.shape: torch.Size([8, 18])\n",
      "yb_indices.shape: torch.Size([8, 18])\n"
     ]
    },
    {
     "name": "stderr",
     "output_type": "stream",
     "text": [
      "574it [01:37,  6.71it/s]"
     ]
    },
    {
     "name": "stdout",
     "output_type": "stream",
     "text": [
      "logits.shape: torch.Size([8, 18])\n",
      "yb_indices.shape: torch.Size([8, 18])\n",
      "logits.shape: torch.Size([8, 18])\n",
      "yb_indices.shape: torch.Size([8, 18])\n"
     ]
    },
    {
     "name": "stderr",
     "output_type": "stream",
     "text": [
      "576it [01:38,  6.90it/s]"
     ]
    },
    {
     "name": "stdout",
     "output_type": "stream",
     "text": [
      "logits.shape: torch.Size([8, 18])\n",
      "yb_indices.shape: torch.Size([8, 18])\n",
      "logits.shape: torch.Size([8, 18])\n",
      "yb_indices.shape: torch.Size([8, 18])\n"
     ]
    },
    {
     "name": "stderr",
     "output_type": "stream",
     "text": [
      "578it [01:38,  6.49it/s]"
     ]
    },
    {
     "name": "stdout",
     "output_type": "stream",
     "text": [
      "logits.shape: torch.Size([8, 18])\n",
      "yb_indices.shape: torch.Size([8, 18])\n",
      "logits.shape: torch.Size([8, 18])\n",
      "yb_indices.shape: torch.Size([8, 18])\n"
     ]
    },
    {
     "name": "stderr",
     "output_type": "stream",
     "text": [
      "580it [01:38,  6.35it/s]"
     ]
    },
    {
     "name": "stdout",
     "output_type": "stream",
     "text": [
      "logits.shape: torch.Size([8, 18])\n",
      "yb_indices.shape: torch.Size([8, 18])\n",
      "logits.shape: torch.Size([8, 18])\n",
      "yb_indices.shape: torch.Size([8, 18])\n"
     ]
    },
    {
     "name": "stderr",
     "output_type": "stream",
     "text": [
      "582it [01:39,  6.46it/s]"
     ]
    },
    {
     "name": "stdout",
     "output_type": "stream",
     "text": [
      "logits.shape: torch.Size([8, 18])\n",
      "yb_indices.shape: torch.Size([8, 18])\n",
      "logits.shape: torch.Size([8, 18])\n",
      "yb_indices.shape: torch.Size([8, 18])\n"
     ]
    },
    {
     "name": "stderr",
     "output_type": "stream",
     "text": [
      "584it [01:39,  7.09it/s]"
     ]
    },
    {
     "name": "stdout",
     "output_type": "stream",
     "text": [
      "logits.shape: torch.Size([8, 18])\n",
      "yb_indices.shape: torch.Size([8, 18])\n",
      "logits.shape: torch.Size([8, 18])\n",
      "yb_indices.shape: torch.Size([8, 18])\n"
     ]
    },
    {
     "name": "stderr",
     "output_type": "stream",
     "text": [
      "586it [01:39,  6.69it/s]"
     ]
    },
    {
     "name": "stdout",
     "output_type": "stream",
     "text": [
      "logits.shape: torch.Size([8, 18])\n",
      "yb_indices.shape: torch.Size([8, 18])\n",
      "logits.shape: torch.Size([8, 18])\n",
      "yb_indices.shape: torch.Size([8, 18])\n"
     ]
    },
    {
     "name": "stderr",
     "output_type": "stream",
     "text": [
      "589it [01:40,  7.44it/s]"
     ]
    },
    {
     "name": "stdout",
     "output_type": "stream",
     "text": [
      "logits.shape: torch.Size([8, 18])\n",
      "yb_indices.shape: torch.Size([8, 18])\n",
      "logits.shape: torch.Size([8, 18])\n",
      "yb_indices.shape: torch.Size([8, 18])\n"
     ]
    },
    {
     "name": "stderr",
     "output_type": "stream",
     "text": [
      "591it [01:40,  7.59it/s]"
     ]
    },
    {
     "name": "stdout",
     "output_type": "stream",
     "text": [
      "logits.shape: torch.Size([8, 18])\n",
      "yb_indices.shape: torch.Size([8, 18])\n",
      "logits.shape: torch.Size([8, 18])\n",
      "yb_indices.shape: torch.Size([8, 18])\n"
     ]
    },
    {
     "name": "stderr",
     "output_type": "stream",
     "text": [
      "593it [01:40,  7.96it/s]"
     ]
    },
    {
     "name": "stdout",
     "output_type": "stream",
     "text": [
      "logits.shape: torch.Size([8, 18])\n",
      "yb_indices.shape: torch.Size([8, 18])\n",
      "logits.shape: torch.Size([8, 18])\n",
      "yb_indices.shape: torch.Size([8, 18])\n"
     ]
    },
    {
     "name": "stderr",
     "output_type": "stream",
     "text": [
      "594it [01:40,  8.14it/s]"
     ]
    },
    {
     "name": "stdout",
     "output_type": "stream",
     "text": [
      "logits.shape: torch.Size([8, 18])\n",
      "yb_indices.shape: torch.Size([8, 18])\n",
      "logits.shape: torch.Size([8, 18])\n",
      "yb_indices.shape: torch.Size([8, 18])\n"
     ]
    },
    {
     "name": "stderr",
     "output_type": "stream",
     "text": [
      "597it [01:41,  7.02it/s]"
     ]
    },
    {
     "name": "stdout",
     "output_type": "stream",
     "text": [
      "logits.shape: torch.Size([8, 18])\n",
      "yb_indices.shape: torch.Size([8, 18])\n",
      "logits.shape: torch.Size([8, 18])\n",
      "yb_indices.shape: torch.Size([8, 18])\n"
     ]
    },
    {
     "name": "stderr",
     "output_type": "stream",
     "text": [
      "599it [01:41,  7.56it/s]"
     ]
    },
    {
     "name": "stdout",
     "output_type": "stream",
     "text": [
      "logits.shape: torch.Size([8, 18])\n",
      "yb_indices.shape: torch.Size([8, 18])\n",
      "logits.shape: torch.Size([8, 18])\n",
      "yb_indices.shape: torch.Size([8, 18])\n"
     ]
    },
    {
     "name": "stderr",
     "output_type": "stream",
     "text": [
      "600it [01:41,  6.98it/s]"
     ]
    },
    {
     "name": "stdout",
     "output_type": "stream",
     "text": [
      "logits.shape: torch.Size([8, 18])\n",
      "yb_indices.shape: torch.Size([8, 18])\n",
      "logits.shape: torch.Size([8, 18])\n",
      "yb_indices.shape: torch.Size([8, 18])\n"
     ]
    },
    {
     "name": "stderr",
     "output_type": "stream",
     "text": [
      "602it [01:41,  6.37it/s]"
     ]
    },
    {
     "name": "stdout",
     "output_type": "stream",
     "text": [
      "logits.shape: torch.Size([8, 18])\n",
      "yb_indices.shape: torch.Size([8, 18])\n",
      "logits.shape: torch.Size([8, 18])\n",
      "yb_indices.shape: torch.Size([8, 18])\n"
     ]
    },
    {
     "name": "stderr",
     "output_type": "stream",
     "text": [
      "604it [01:42,  6.00it/s]"
     ]
    },
    {
     "name": "stdout",
     "output_type": "stream",
     "text": [
      "logits.shape: torch.Size([8, 18])\n",
      "yb_indices.shape: torch.Size([8, 18])\n",
      "logits.shape: torch.Size([8, 18])\n",
      "yb_indices.shape: torch.Size([8, 18])\n"
     ]
    },
    {
     "name": "stderr",
     "output_type": "stream",
     "text": [
      "607it [01:42,  7.21it/s]"
     ]
    },
    {
     "name": "stdout",
     "output_type": "stream",
     "text": [
      "logits.shape: torch.Size([8, 18])\n",
      "yb_indices.shape: torch.Size([8, 18])\n",
      "logits.shape: torch.Size([8, 18])\n",
      "yb_indices.shape: torch.Size([8, 18])\n"
     ]
    },
    {
     "name": "stderr",
     "output_type": "stream",
     "text": [
      "608it [01:42,  7.52it/s]"
     ]
    },
    {
     "name": "stdout",
     "output_type": "stream",
     "text": [
      "logits.shape: torch.Size([8, 18])\n",
      "yb_indices.shape: torch.Size([8, 18])\n",
      "logits.shape: torch.Size([8, 18])\n",
      "yb_indices.shape: torch.Size([8, 18])\n"
     ]
    },
    {
     "name": "stderr",
     "output_type": "stream",
     "text": [
      "610it [01:43,  6.41it/s]"
     ]
    },
    {
     "name": "stdout",
     "output_type": "stream",
     "text": [
      "logits.shape: torch.Size([8, 18])\n",
      "yb_indices.shape: torch.Size([8, 18])\n",
      "logits.shape: torch.Size([8, 18])\n",
      "yb_indices.shape: torch.Size([8, 18])\n"
     ]
    },
    {
     "name": "stderr",
     "output_type": "stream",
     "text": [
      "612it [01:43,  6.64it/s]"
     ]
    },
    {
     "name": "stdout",
     "output_type": "stream",
     "text": [
      "logits.shape: torch.Size([8, 18])\n",
      "yb_indices.shape: torch.Size([8, 18])\n",
      "logits.shape: torch.Size([8, 18])\n",
      "yb_indices.shape: torch.Size([8, 18])\n"
     ]
    },
    {
     "name": "stderr",
     "output_type": "stream",
     "text": [
      "614it [01:43,  6.98it/s]"
     ]
    },
    {
     "name": "stdout",
     "output_type": "stream",
     "text": [
      "logits.shape: torch.Size([8, 18])\n",
      "yb_indices.shape: torch.Size([8, 18])\n",
      "logits.shape: torch.Size([8, 18])\n",
      "yb_indices.shape: torch.Size([8, 18])\n"
     ]
    },
    {
     "name": "stderr",
     "output_type": "stream",
     "text": [
      "617it [01:44,  7.68it/s]"
     ]
    },
    {
     "name": "stdout",
     "output_type": "stream",
     "text": [
      "logits.shape: torch.Size([8, 18])\n",
      "yb_indices.shape: torch.Size([8, 18])\n",
      "logits.shape: torch.Size([8, 18])\n",
      "yb_indices.shape: torch.Size([8, 18])\n"
     ]
    },
    {
     "name": "stderr",
     "output_type": "stream",
     "text": [
      "618it [01:44,  7.86it/s]"
     ]
    },
    {
     "name": "stdout",
     "output_type": "stream",
     "text": [
      "logits.shape: torch.Size([8, 18])\n",
      "yb_indices.shape: torch.Size([8, 18])\n",
      "logits.shape: torch.Size([8, 18])\n",
      "yb_indices.shape: torch.Size([8, 18])\n"
     ]
    },
    {
     "name": "stderr",
     "output_type": "stream",
     "text": [
      "620it [01:44,  7.03it/s]"
     ]
    },
    {
     "name": "stdout",
     "output_type": "stream",
     "text": [
      "logits.shape: torch.Size([8, 18])\n",
      "yb_indices.shape: torch.Size([8, 18])\n",
      "logits.shape: torch.Size([8, 18])\n",
      "yb_indices.shape: torch.Size([8, 18])\n"
     ]
    },
    {
     "name": "stderr",
     "output_type": "stream",
     "text": [
      "623it [01:44,  7.74it/s]"
     ]
    },
    {
     "name": "stdout",
     "output_type": "stream",
     "text": [
      "logits.shape: torch.Size([8, 18])\n",
      "yb_indices.shape: torch.Size([8, 18])\n",
      "logits.shape: torch.Size([8, 18])\n",
      "yb_indices.shape: torch.Size([8, 18])\n"
     ]
    },
    {
     "name": "stderr",
     "output_type": "stream",
     "text": [
      "624it [01:45,  7.76it/s]"
     ]
    },
    {
     "name": "stdout",
     "output_type": "stream",
     "text": [
      "logits.shape: torch.Size([8, 18])\n",
      "yb_indices.shape: torch.Size([8, 18])\n",
      "logits.shape: torch.Size([8, 18])\n",
      "yb_indices.shape: torch.Size([8, 18])\n"
     ]
    },
    {
     "name": "stderr",
     "output_type": "stream",
     "text": [
      "626it [01:45,  7.46it/s]"
     ]
    },
    {
     "name": "stdout",
     "output_type": "stream",
     "text": [
      "logits.shape: torch.Size([8, 18])\n",
      "yb_indices.shape: torch.Size([8, 18])\n",
      "logits.shape: torch.Size([8, 18])\n",
      "yb_indices.shape: torch.Size([8, 18])\n"
     ]
    },
    {
     "name": "stderr",
     "output_type": "stream",
     "text": [
      "628it [01:45,  7.04it/s]"
     ]
    },
    {
     "name": "stdout",
     "output_type": "stream",
     "text": [
      "logits.shape: torch.Size([8, 18])\n",
      "yb_indices.shape: torch.Size([8, 18])\n",
      "logits.shape: torch.Size([8, 18])\n",
      "yb_indices.shape: torch.Size([8, 18])\n"
     ]
    },
    {
     "name": "stderr",
     "output_type": "stream",
     "text": [
      "631it [01:46,  7.15it/s]"
     ]
    },
    {
     "name": "stdout",
     "output_type": "stream",
     "text": [
      "logits.shape: torch.Size([8, 18])\n",
      "yb_indices.shape: torch.Size([8, 18])\n",
      "logits.shape: torch.Size([8, 18])\n",
      "yb_indices.shape: torch.Size([8, 18])\n"
     ]
    },
    {
     "name": "stderr",
     "output_type": "stream",
     "text": [
      "632it [01:46,  7.26it/s]"
     ]
    },
    {
     "name": "stdout",
     "output_type": "stream",
     "text": [
      "logits.shape: torch.Size([8, 18])\n",
      "yb_indices.shape: torch.Size([8, 18])\n",
      "logits.shape: torch.Size([8, 18])\n",
      "yb_indices.shape: torch.Size([8, 18])\n"
     ]
    },
    {
     "name": "stderr",
     "output_type": "stream",
     "text": [
      "634it [01:46,  7.21it/s]"
     ]
    },
    {
     "name": "stdout",
     "output_type": "stream",
     "text": [
      "logits.shape: torch.Size([8, 18])\n",
      "yb_indices.shape: torch.Size([8, 18])\n",
      "logits.shape: torch.Size([8, 18])\n",
      "yb_indices.shape: torch.Size([8, 18])\n"
     ]
    },
    {
     "name": "stderr",
     "output_type": "stream",
     "text": [
      "636it [01:46,  6.50it/s]"
     ]
    },
    {
     "name": "stdout",
     "output_type": "stream",
     "text": [
      "logits.shape: torch.Size([8, 18])\n",
      "yb_indices.shape: torch.Size([8, 18])\n",
      "logits.shape: torch.Size([8, 18])\n",
      "yb_indices.shape: torch.Size([8, 18])\n"
     ]
    },
    {
     "name": "stderr",
     "output_type": "stream",
     "text": [
      "638it [01:47,  6.44it/s]"
     ]
    },
    {
     "name": "stdout",
     "output_type": "stream",
     "text": [
      "logits.shape: torch.Size([8, 18])\n",
      "yb_indices.shape: torch.Size([8, 18])\n",
      "logits.shape: torch.Size([8, 18])\n",
      "yb_indices.shape: torch.Size([8, 18])\n"
     ]
    },
    {
     "name": "stderr",
     "output_type": "stream",
     "text": [
      "640it [01:47,  6.12it/s]"
     ]
    },
    {
     "name": "stdout",
     "output_type": "stream",
     "text": [
      "logits.shape: torch.Size([8, 18])\n",
      "yb_indices.shape: torch.Size([8, 18])\n",
      "logits.shape: torch.Size([8, 18])\n",
      "yb_indices.shape: torch.Size([8, 18])\n"
     ]
    },
    {
     "name": "stderr",
     "output_type": "stream",
     "text": [
      "642it [01:47,  6.26it/s]"
     ]
    },
    {
     "name": "stdout",
     "output_type": "stream",
     "text": [
      "logits.shape: torch.Size([8, 18])\n",
      "yb_indices.shape: torch.Size([8, 18])\n",
      "logits.shape: torch.Size([8, 18])\n",
      "yb_indices.shape: torch.Size([8, 18])\n"
     ]
    },
    {
     "name": "stderr",
     "output_type": "stream",
     "text": [
      "645it [01:48,  6.60it/s]"
     ]
    },
    {
     "name": "stdout",
     "output_type": "stream",
     "text": [
      "logits.shape: torch.Size([8, 18])\n",
      "yb_indices.shape: torch.Size([8, 18])\n",
      "logits.shape: torch.Size([8, 18])\n",
      "yb_indices.shape: torch.Size([8, 18])\n"
     ]
    },
    {
     "name": "stderr",
     "output_type": "stream",
     "text": [
      "647it [01:48,  7.30it/s]"
     ]
    },
    {
     "name": "stdout",
     "output_type": "stream",
     "text": [
      "logits.shape: torch.Size([8, 18])\n",
      "yb_indices.shape: torch.Size([8, 18])\n",
      "logits.shape: torch.Size([8, 18])\n",
      "yb_indices.shape: torch.Size([8, 18])\n"
     ]
    },
    {
     "name": "stderr",
     "output_type": "stream",
     "text": [
      "649it [01:48,  7.62it/s]"
     ]
    },
    {
     "name": "stdout",
     "output_type": "stream",
     "text": [
      "logits.shape: torch.Size([8, 18])\n",
      "yb_indices.shape: torch.Size([8, 18])\n",
      "logits.shape: torch.Size([8, 18])\n",
      "yb_indices.shape: torch.Size([8, 18])\n"
     ]
    },
    {
     "name": "stderr",
     "output_type": "stream",
     "text": [
      "650it [01:48,  7.75it/s]"
     ]
    },
    {
     "name": "stdout",
     "output_type": "stream",
     "text": [
      "logits.shape: torch.Size([8, 18])\n",
      "yb_indices.shape: torch.Size([8, 18])\n",
      "logits.shape: torch.Size([8, 18])\n",
      "yb_indices.shape: torch.Size([8, 18])\n"
     ]
    },
    {
     "name": "stderr",
     "output_type": "stream",
     "text": [
      "652it [01:49,  7.20it/s]"
     ]
    },
    {
     "name": "stdout",
     "output_type": "stream",
     "text": [
      "logits.shape: torch.Size([8, 18])\n",
      "yb_indices.shape: torch.Size([8, 18])\n",
      "logits.shape: torch.Size([8, 18])\n",
      "yb_indices.shape: torch.Size([8, 18])\n"
     ]
    },
    {
     "name": "stderr",
     "output_type": "stream",
     "text": [
      "655it [01:49,  7.35it/s]"
     ]
    },
    {
     "name": "stdout",
     "output_type": "stream",
     "text": [
      "logits.shape: torch.Size([8, 18])\n",
      "yb_indices.shape: torch.Size([8, 18])\n",
      "logits.shape: torch.Size([8, 18])\n",
      "yb_indices.shape: torch.Size([8, 18])\n"
     ]
    },
    {
     "name": "stderr",
     "output_type": "stream",
     "text": [
      "656it [01:49,  7.30it/s]"
     ]
    },
    {
     "name": "stdout",
     "output_type": "stream",
     "text": [
      "logits.shape: torch.Size([8, 18])\n",
      "yb_indices.shape: torch.Size([8, 18])\n",
      "logits.shape: torch.Size([8, 18])\n",
      "yb_indices.shape: torch.Size([8, 18])\n"
     ]
    },
    {
     "name": "stderr",
     "output_type": "stream",
     "text": [
      "658it [01:50,  6.78it/s]"
     ]
    },
    {
     "name": "stdout",
     "output_type": "stream",
     "text": [
      "logits.shape: torch.Size([8, 18])\n",
      "yb_indices.shape: torch.Size([8, 18])\n",
      "logits.shape: torch.Size([8, 18])\n",
      "yb_indices.shape: torch.Size([8, 18])\n"
     ]
    },
    {
     "name": "stderr",
     "output_type": "stream",
     "text": [
      "660it [01:50,  7.11it/s]"
     ]
    },
    {
     "name": "stdout",
     "output_type": "stream",
     "text": [
      "logits.shape: torch.Size([8, 18])\n",
      "yb_indices.shape: torch.Size([8, 18])\n",
      "logits.shape: torch.Size([8, 18])\n",
      "yb_indices.shape: torch.Size([8, 18])\n"
     ]
    },
    {
     "name": "stderr",
     "output_type": "stream",
     "text": [
      "663it [01:50,  7.81it/s]"
     ]
    },
    {
     "name": "stdout",
     "output_type": "stream",
     "text": [
      "logits.shape: torch.Size([8, 18])\n",
      "yb_indices.shape: torch.Size([8, 18])\n",
      "logits.shape: torch.Size([8, 18])\n",
      "yb_indices.shape: torch.Size([8, 18])\n"
     ]
    },
    {
     "name": "stderr",
     "output_type": "stream",
     "text": [
      "665it [01:50,  7.98it/s]"
     ]
    },
    {
     "name": "stdout",
     "output_type": "stream",
     "text": [
      "logits.shape: torch.Size([8, 18])\n",
      "yb_indices.shape: torch.Size([8, 18])\n",
      "logits.shape: torch.Size([8, 18])\n",
      "yb_indices.shape: torch.Size([8, 18])\n"
     ]
    },
    {
     "name": "stderr",
     "output_type": "stream",
     "text": [
      "667it [01:51,  7.94it/s]"
     ]
    },
    {
     "name": "stdout",
     "output_type": "stream",
     "text": [
      "logits.shape: torch.Size([8, 18])\n",
      "yb_indices.shape: torch.Size([8, 18])\n",
      "logits.shape: torch.Size([8, 18])\n",
      "yb_indices.shape: torch.Size([8, 18])\n"
     ]
    },
    {
     "name": "stderr",
     "output_type": "stream",
     "text": [
      "668it [01:51,  6.92it/s]"
     ]
    },
    {
     "name": "stdout",
     "output_type": "stream",
     "text": [
      "logits.shape: torch.Size([8, 18])\n",
      "yb_indices.shape: torch.Size([8, 18])\n",
      "logits.shape: torch.Size([8, 18])\n",
      "yb_indices.shape: torch.Size([8, 18])\n"
     ]
    },
    {
     "name": "stderr",
     "output_type": "stream",
     "text": [
      "671it [01:51,  7.44it/s]"
     ]
    },
    {
     "name": "stdout",
     "output_type": "stream",
     "text": [
      "logits.shape: torch.Size([8, 18])\n",
      "yb_indices.shape: torch.Size([8, 18])\n",
      "logits.shape: torch.Size([8, 18])\n",
      "yb_indices.shape: torch.Size([8, 18])\n"
     ]
    },
    {
     "name": "stderr",
     "output_type": "stream",
     "text": [
      "672it [01:51,  7.51it/s]"
     ]
    },
    {
     "name": "stdout",
     "output_type": "stream",
     "text": [
      "logits.shape: torch.Size([8, 18])\n",
      "yb_indices.shape: torch.Size([8, 18])\n",
      "logits.shape: torch.Size([8, 18])\n",
      "yb_indices.shape: torch.Size([8, 18])\n"
     ]
    },
    {
     "name": "stderr",
     "output_type": "stream",
     "text": [
      "674it [01:52,  6.42it/s]"
     ]
    },
    {
     "name": "stdout",
     "output_type": "stream",
     "text": [
      "logits.shape: torch.Size([8, 18])\n",
      "yb_indices.shape: torch.Size([8, 18])\n",
      "logits.shape: torch.Size([8, 18])\n",
      "yb_indices.shape: torch.Size([8, 18])\n"
     ]
    },
    {
     "name": "stderr",
     "output_type": "stream",
     "text": [
      "677it [01:52,  7.00it/s]"
     ]
    },
    {
     "name": "stdout",
     "output_type": "stream",
     "text": [
      "logits.shape: torch.Size([8, 18])\n",
      "yb_indices.shape: torch.Size([8, 18])\n",
      "logits.shape: torch.Size([8, 18])\n",
      "yb_indices.shape: torch.Size([8, 18])\n"
     ]
    },
    {
     "name": "stderr",
     "output_type": "stream",
     "text": [
      "679it [01:52,  7.38it/s]"
     ]
    },
    {
     "name": "stdout",
     "output_type": "stream",
     "text": [
      "logits.shape: torch.Size([8, 18])\n",
      "yb_indices.shape: torch.Size([8, 18])\n",
      "logits.shape: torch.Size([8, 18])\n",
      "yb_indices.shape: torch.Size([8, 18])\n"
     ]
    },
    {
     "name": "stderr",
     "output_type": "stream",
     "text": [
      "681it [01:53,  7.77it/s]"
     ]
    },
    {
     "name": "stdout",
     "output_type": "stream",
     "text": [
      "logits.shape: torch.Size([8, 18])\n",
      "yb_indices.shape: torch.Size([8, 18])\n",
      "logits.shape: torch.Size([8, 18])\n",
      "yb_indices.shape: torch.Size([8, 18])\n"
     ]
    },
    {
     "name": "stderr",
     "output_type": "stream",
     "text": [
      "682it [01:53,  7.17it/s]"
     ]
    },
    {
     "name": "stdout",
     "output_type": "stream",
     "text": [
      "logits.shape: torch.Size([8, 18])\n",
      "yb_indices.shape: torch.Size([8, 18])\n",
      "logits.shape: torch.Size([8, 18])\n",
      "yb_indices.shape: torch.Size([8, 18])\n"
     ]
    },
    {
     "name": "stderr",
     "output_type": "stream",
     "text": [
      "685it [01:53,  7.58it/s]"
     ]
    },
    {
     "name": "stdout",
     "output_type": "stream",
     "text": [
      "logits.shape: torch.Size([8, 18])\n",
      "yb_indices.shape: torch.Size([8, 18])\n",
      "logits.shape: torch.Size([8, 18])\n",
      "yb_indices.shape: torch.Size([8, 18])\n"
     ]
    },
    {
     "name": "stderr",
     "output_type": "stream",
     "text": [
      "686it [01:53,  7.52it/s]"
     ]
    },
    {
     "name": "stdout",
     "output_type": "stream",
     "text": [
      "logits.shape: torch.Size([8, 18])\n",
      "yb_indices.shape: torch.Size([8, 18])\n",
      "logits.shape: torch.Size([8, 18])\n",
      "yb_indices.shape: torch.Size([8, 18])\n"
     ]
    },
    {
     "name": "stderr",
     "output_type": "stream",
     "text": [
      "688it [01:54,  6.50it/s]"
     ]
    },
    {
     "name": "stdout",
     "output_type": "stream",
     "text": [
      "logits.shape: torch.Size([8, 18])\n",
      "yb_indices.shape: torch.Size([8, 18])\n",
      "logits.shape: torch.Size([8, 18])\n",
      "yb_indices.shape: torch.Size([8, 18])\n"
     ]
    },
    {
     "name": "stderr",
     "output_type": "stream",
     "text": [
      "690it [01:54,  7.03it/s]"
     ]
    },
    {
     "name": "stdout",
     "output_type": "stream",
     "text": [
      "logits.shape: torch.Size([8, 18])\n",
      "yb_indices.shape: torch.Size([8, 18])\n",
      "logits.shape: torch.Size([8, 18])\n",
      "yb_indices.shape: torch.Size([8, 18])\n"
     ]
    },
    {
     "name": "stderr",
     "output_type": "stream",
     "text": [
      "693it [01:54,  7.82it/s]"
     ]
    },
    {
     "name": "stdout",
     "output_type": "stream",
     "text": [
      "logits.shape: torch.Size([8, 18])\n",
      "yb_indices.shape: torch.Size([8, 18])\n",
      "logits.shape: torch.Size([8, 18])\n",
      "yb_indices.shape: torch.Size([8, 18])\n"
     ]
    },
    {
     "name": "stderr",
     "output_type": "stream",
     "text": [
      "694it [01:54,  7.58it/s]"
     ]
    },
    {
     "name": "stdout",
     "output_type": "stream",
     "text": [
      "logits.shape: torch.Size([8, 18])\n",
      "yb_indices.shape: torch.Size([8, 18])\n",
      "logits.shape: torch.Size([8, 18])\n",
      "yb_indices.shape: torch.Size([8, 18])\n"
     ]
    },
    {
     "name": "stderr",
     "output_type": "stream",
     "text": [
      "697it [01:55,  7.82it/s]"
     ]
    },
    {
     "name": "stdout",
     "output_type": "stream",
     "text": [
      "logits.shape: torch.Size([8, 18])\n",
      "yb_indices.shape: torch.Size([8, 18])\n",
      "logits.shape: torch.Size([8, 18])\n",
      "yb_indices.shape: torch.Size([8, 18])\n"
     ]
    },
    {
     "name": "stderr",
     "output_type": "stream",
     "text": [
      "698it [01:55,  6.99it/s]"
     ]
    },
    {
     "name": "stdout",
     "output_type": "stream",
     "text": [
      "logits.shape: torch.Size([8, 18])\n",
      "yb_indices.shape: torch.Size([8, 18])\n",
      "logits.shape: torch.Size([8, 18])\n",
      "yb_indices.shape: torch.Size([8, 18])\n"
     ]
    },
    {
     "name": "stderr",
     "output_type": "stream",
     "text": [
      "700it [01:55,  6.84it/s]"
     ]
    },
    {
     "name": "stdout",
     "output_type": "stream",
     "text": [
      "logits.shape: torch.Size([8, 18])\n",
      "yb_indices.shape: torch.Size([8, 18])\n",
      "logits.shape: torch.Size([8, 18])\n",
      "yb_indices.shape: torch.Size([8, 18])\n"
     ]
    },
    {
     "name": "stderr",
     "output_type": "stream",
     "text": [
      "702it [01:56,  6.01it/s]"
     ]
    },
    {
     "name": "stdout",
     "output_type": "stream",
     "text": [
      "logits.shape: torch.Size([8, 18])\n",
      "yb_indices.shape: torch.Size([8, 18])\n"
     ]
    },
    {
     "name": "stderr",
     "output_type": "stream",
     "text": [
      "703it [01:56,  5.08it/s]"
     ]
    },
    {
     "name": "stdout",
     "output_type": "stream",
     "text": [
      "logits.shape: torch.Size([8, 18])\n",
      "yb_indices.shape: torch.Size([8, 18])\n"
     ]
    },
    {
     "name": "stderr",
     "output_type": "stream",
     "text": [
      "704it [01:56,  4.76it/s]"
     ]
    },
    {
     "name": "stdout",
     "output_type": "stream",
     "text": [
      "logits.shape: torch.Size([8, 18])\n",
      "yb_indices.shape: torch.Size([8, 18])\n"
     ]
    },
    {
     "name": "stderr",
     "output_type": "stream",
     "text": [
      "705it [01:56,  4.87it/s]"
     ]
    },
    {
     "name": "stdout",
     "output_type": "stream",
     "text": [
      "logits.shape: torch.Size([8, 18])\n",
      "yb_indices.shape: torch.Size([8, 18])\n",
      "logits.shape: torch.Size([8, 18])\n",
      "yb_indices.shape: torch.Size([8, 18])\n"
     ]
    },
    {
     "name": "stderr",
     "output_type": "stream",
     "text": [
      "707it [01:57,  3.71it/s]"
     ]
    },
    {
     "name": "stdout",
     "output_type": "stream",
     "text": [
      "logits.shape: torch.Size([8, 18])\n",
      "yb_indices.shape: torch.Size([8, 18])\n"
     ]
    },
    {
     "name": "stderr",
     "output_type": "stream",
     "text": [
      "708it [01:57,  3.95it/s]"
     ]
    },
    {
     "name": "stdout",
     "output_type": "stream",
     "text": [
      "logits.shape: torch.Size([8, 18])\n",
      "yb_indices.shape: torch.Size([8, 18])\n",
      "logits.shape: torch.Size([8, 18])\n",
      "yb_indices.shape: torch.Size([8, 18])\n"
     ]
    },
    {
     "name": "stderr",
     "output_type": "stream",
     "text": [
      "710it [01:58,  3.78it/s]"
     ]
    },
    {
     "name": "stdout",
     "output_type": "stream",
     "text": [
      "logits.shape: torch.Size([8, 18])\n",
      "yb_indices.shape: torch.Size([8, 18])\n",
      "logits.shape: torch.Size([8, 18])\n",
      "yb_indices.shape: torch.Size([8, 18])\n"
     ]
    },
    {
     "name": "stderr",
     "output_type": "stream",
     "text": [
      "712it [01:58,  4.33it/s]"
     ]
    },
    {
     "name": "stdout",
     "output_type": "stream",
     "text": [
      "logits.shape: torch.Size([8, 18])\n",
      "yb_indices.shape: torch.Size([8, 18])\n",
      "logits.shape: torch.Size([8, 18])\n",
      "yb_indices.shape: torch.Size([8, 18])\n"
     ]
    },
    {
     "name": "stderr",
     "output_type": "stream",
     "text": [
      "714it [01:59,  4.80it/s]"
     ]
    },
    {
     "name": "stdout",
     "output_type": "stream",
     "text": [
      "logits.shape: torch.Size([8, 18])\n",
      "yb_indices.shape: torch.Size([8, 18])\n",
      "logits.shape: torch.Size([8, 18])\n",
      "yb_indices.shape: torch.Size([8, 18])\n"
     ]
    },
    {
     "name": "stderr",
     "output_type": "stream",
     "text": [
      "716it [01:59,  5.03it/s]"
     ]
    },
    {
     "name": "stdout",
     "output_type": "stream",
     "text": [
      "logits.shape: torch.Size([8, 18])\n",
      "yb_indices.shape: torch.Size([8, 18])\n",
      "logits.shape: torch.Size([8, 18])\n",
      "yb_indices.shape: torch.Size([8, 18])\n"
     ]
    },
    {
     "name": "stderr",
     "output_type": "stream",
     "text": [
      "718it [01:59,  5.05it/s]"
     ]
    },
    {
     "name": "stdout",
     "output_type": "stream",
     "text": [
      "logits.shape: torch.Size([8, 18])\n",
      "yb_indices.shape: torch.Size([8, 18])\n",
      "logits.shape: torch.Size([8, 18])\n",
      "yb_indices.shape: torch.Size([8, 18])\n"
     ]
    },
    {
     "name": "stderr",
     "output_type": "stream",
     "text": [
      "720it [02:00,  3.70it/s]"
     ]
    },
    {
     "name": "stdout",
     "output_type": "stream",
     "text": [
      "logits.shape: torch.Size([8, 18])\n",
      "yb_indices.shape: torch.Size([8, 18])\n",
      "logits.shape: torch.Size([8, 18])\n",
      "yb_indices.shape: torch.Size([8, 18])\n"
     ]
    },
    {
     "name": "stderr",
     "output_type": "stream",
     "text": [
      "721it [02:00,  3.50it/s]"
     ]
    },
    {
     "name": "stdout",
     "output_type": "stream",
     "text": [
      "logits.shape: torch.Size([8, 18])\n",
      "yb_indices.shape: torch.Size([8, 18])\n"
     ]
    },
    {
     "name": "stderr",
     "output_type": "stream",
     "text": [
      "722it [02:01,  3.32it/s]"
     ]
    },
    {
     "name": "stdout",
     "output_type": "stream",
     "text": [
      "logits.shape: torch.Size([8, 18])\n",
      "yb_indices.shape: torch.Size([8, 18])\n"
     ]
    },
    {
     "name": "stderr",
     "output_type": "stream",
     "text": [
      "724it [02:01,  2.99it/s]"
     ]
    },
    {
     "name": "stdout",
     "output_type": "stream",
     "text": [
      "logits.shape: torch.Size([8, 18])\n",
      "yb_indices.shape: torch.Size([8, 18])\n",
      "logits.shape: torch.Size([8, 18])\n",
      "yb_indices.shape: torch.Size([8, 18])\n"
     ]
    },
    {
     "name": "stderr",
     "output_type": "stream",
     "text": [
      "725it [02:02,  2.88it/s]"
     ]
    },
    {
     "name": "stdout",
     "output_type": "stream",
     "text": [
      "logits.shape: torch.Size([8, 18])\n",
      "yb_indices.shape: torch.Size([8, 18])\n"
     ]
    },
    {
     "name": "stderr",
     "output_type": "stream",
     "text": [
      "726it [02:02,  2.97it/s]"
     ]
    },
    {
     "name": "stdout",
     "output_type": "stream",
     "text": [
      "logits.shape: torch.Size([8, 18])\n",
      "yb_indices.shape: torch.Size([8, 18])\n"
     ]
    },
    {
     "name": "stderr",
     "output_type": "stream",
     "text": [
      "727it [02:03,  2.83it/s]"
     ]
    },
    {
     "name": "stdout",
     "output_type": "stream",
     "text": [
      "logits.shape: torch.Size([8, 18])\n",
      "yb_indices.shape: torch.Size([8, 18])\n"
     ]
    },
    {
     "name": "stderr",
     "output_type": "stream",
     "text": [
      "728it [02:03,  2.69it/s]"
     ]
    },
    {
     "name": "stdout",
     "output_type": "stream",
     "text": [
      "logits.shape: torch.Size([8, 18])\n",
      "yb_indices.shape: torch.Size([8, 18])\n"
     ]
    },
    {
     "name": "stderr",
     "output_type": "stream",
     "text": [
      "729it [02:03,  2.77it/s]"
     ]
    },
    {
     "name": "stdout",
     "output_type": "stream",
     "text": [
      "logits.shape: torch.Size([8, 18])\n",
      "yb_indices.shape: torch.Size([8, 18])\n"
     ]
    },
    {
     "name": "stderr",
     "output_type": "stream",
     "text": [
      "730it [02:04,  2.81it/s]"
     ]
    },
    {
     "name": "stdout",
     "output_type": "stream",
     "text": [
      "logits.shape: torch.Size([8, 18])\n",
      "yb_indices.shape: torch.Size([8, 18])\n"
     ]
    },
    {
     "name": "stderr",
     "output_type": "stream",
     "text": [
      "731it [02:04,  2.83it/s]"
     ]
    },
    {
     "name": "stdout",
     "output_type": "stream",
     "text": [
      "logits.shape: torch.Size([8, 18])\n",
      "yb_indices.shape: torch.Size([8, 18])\n"
     ]
    },
    {
     "name": "stderr",
     "output_type": "stream",
     "text": [
      "732it [02:04,  2.79it/s]"
     ]
    },
    {
     "name": "stdout",
     "output_type": "stream",
     "text": [
      "logits.shape: torch.Size([8, 18])\n",
      "yb_indices.shape: torch.Size([8, 18])\n"
     ]
    },
    {
     "name": "stderr",
     "output_type": "stream",
     "text": [
      "734it [02:05,  2.83it/s]"
     ]
    },
    {
     "name": "stdout",
     "output_type": "stream",
     "text": [
      "logits.shape: torch.Size([8, 18])\n",
      "yb_indices.shape: torch.Size([8, 18])\n"
     ]
    },
    {
     "name": "stderr",
     "output_type": "stream",
     "text": [
      "735it [02:05,  3.28it/s]"
     ]
    },
    {
     "name": "stdout",
     "output_type": "stream",
     "text": [
      "logits.shape: torch.Size([8, 18])\n",
      "yb_indices.shape: torch.Size([8, 18])\n"
     ]
    },
    {
     "name": "stderr",
     "output_type": "stream",
     "text": [
      "736it [02:06,  3.43it/s]"
     ]
    },
    {
     "name": "stdout",
     "output_type": "stream",
     "text": [
      "logits.shape: torch.Size([8, 18])\n",
      "yb_indices.shape: torch.Size([8, 18])\n"
     ]
    },
    {
     "name": "stderr",
     "output_type": "stream",
     "text": [
      "737it [02:06,  3.33it/s]"
     ]
    },
    {
     "name": "stdout",
     "output_type": "stream",
     "text": [
      "logits.shape: torch.Size([8, 18])\n",
      "yb_indices.shape: torch.Size([8, 18])\n",
      "logits.shape: torch.Size([8, 18])\n",
      "yb_indices.shape: torch.Size([8, 18])\n"
     ]
    },
    {
     "name": "stderr",
     "output_type": "stream",
     "text": [
      "739it [02:06,  3.49it/s]"
     ]
    },
    {
     "name": "stdout",
     "output_type": "stream",
     "text": [
      "logits.shape: torch.Size([8, 18])\n",
      "yb_indices.shape: torch.Size([8, 18])\n"
     ]
    },
    {
     "name": "stderr",
     "output_type": "stream",
     "text": [
      "740it [02:07,  3.69it/s]"
     ]
    },
    {
     "name": "stdout",
     "output_type": "stream",
     "text": [
      "logits.shape: torch.Size([8, 18])\n",
      "yb_indices.shape: torch.Size([8, 18])\n"
     ]
    },
    {
     "name": "stderr",
     "output_type": "stream",
     "text": [
      "741it [02:07,  3.65it/s]"
     ]
    },
    {
     "name": "stdout",
     "output_type": "stream",
     "text": [
      "logits.shape: torch.Size([8, 18])\n",
      "yb_indices.shape: torch.Size([8, 18])\n"
     ]
    },
    {
     "name": "stderr",
     "output_type": "stream",
     "text": [
      "742it [02:07,  3.92it/s]"
     ]
    },
    {
     "name": "stdout",
     "output_type": "stream",
     "text": [
      "logits.shape: torch.Size([8, 18])\n",
      "yb_indices.shape: torch.Size([8, 18])\n",
      "logits.shape: torch.Size([8, 18])\n",
      "yb_indices.shape: torch.Size([8, 18])\n"
     ]
    },
    {
     "name": "stderr",
     "output_type": "stream",
     "text": [
      "744it [02:07,  4.48it/s]"
     ]
    },
    {
     "name": "stdout",
     "output_type": "stream",
     "text": [
      "logits.shape: torch.Size([8, 18])\n",
      "yb_indices.shape: torch.Size([8, 18])\n",
      "logits.shape: torch.Size([8, 18])\n",
      "yb_indices.shape: torch.Size([8, 18])\n"
     ]
    },
    {
     "name": "stderr",
     "output_type": "stream",
     "text": [
      "746it [02:08,  3.96it/s]"
     ]
    },
    {
     "name": "stdout",
     "output_type": "stream",
     "text": [
      "logits.shape: torch.Size([8, 18])\n",
      "yb_indices.shape: torch.Size([8, 18])\n",
      "logits.shape: torch.Size([8, 18])\n",
      "yb_indices.shape: torch.Size([8, 18])\n"
     ]
    },
    {
     "name": "stderr",
     "output_type": "stream",
     "text": [
      "748it [02:08,  4.40it/s]"
     ]
    },
    {
     "name": "stdout",
     "output_type": "stream",
     "text": [
      "logits.shape: torch.Size([8, 18])\n",
      "yb_indices.shape: torch.Size([8, 18])\n",
      "logits.shape: torch.Size([8, 18])\n",
      "yb_indices.shape: torch.Size([8, 18])\n"
     ]
    },
    {
     "name": "stderr",
     "output_type": "stream",
     "text": [
      "750it [02:09,  4.18it/s]"
     ]
    },
    {
     "name": "stdout",
     "output_type": "stream",
     "text": [
      "logits.shape: torch.Size([8, 18])\n",
      "yb_indices.shape: torch.Size([8, 18])\n",
      "logits.shape: torch.Size([8, 18])\n",
      "yb_indices.shape: torch.Size([8, 18])\n"
     ]
    },
    {
     "name": "stderr",
     "output_type": "stream",
     "text": [
      "752it [02:09,  5.14it/s]"
     ]
    },
    {
     "name": "stdout",
     "output_type": "stream",
     "text": [
      "logits.shape: torch.Size([8, 18])\n",
      "yb_indices.shape: torch.Size([8, 18])\n",
      "logits.shape: torch.Size([8, 18])\n",
      "yb_indices.shape: torch.Size([8, 18])\n"
     ]
    },
    {
     "name": "stderr",
     "output_type": "stream",
     "text": [
      "754it [02:10,  5.19it/s]"
     ]
    },
    {
     "name": "stdout",
     "output_type": "stream",
     "text": [
      "logits.shape: torch.Size([8, 18])\n",
      "yb_indices.shape: torch.Size([8, 18])\n",
      "logits.shape: torch.Size([8, 18])\n",
      "yb_indices.shape: torch.Size([8, 18])\n"
     ]
    },
    {
     "name": "stderr",
     "output_type": "stream",
     "text": [
      "756it [02:10,  5.90it/s]"
     ]
    },
    {
     "name": "stdout",
     "output_type": "stream",
     "text": [
      "logits.shape: torch.Size([8, 18])\n",
      "yb_indices.shape: torch.Size([8, 18])\n",
      "logits.shape: torch.Size([8, 18])\n",
      "yb_indices.shape: torch.Size([8, 18])\n"
     ]
    },
    {
     "name": "stderr",
     "output_type": "stream",
     "text": [
      "758it [02:10,  6.20it/s]"
     ]
    },
    {
     "name": "stdout",
     "output_type": "stream",
     "text": [
      "logits.shape: torch.Size([8, 18])\n",
      "yb_indices.shape: torch.Size([8, 18])\n",
      "logits.shape: torch.Size([8, 18])\n",
      "yb_indices.shape: torch.Size([8, 18])\n"
     ]
    },
    {
     "name": "stderr",
     "output_type": "stream",
     "text": [
      "760it [02:11,  6.97it/s]"
     ]
    },
    {
     "name": "stdout",
     "output_type": "stream",
     "text": [
      "logits.shape: torch.Size([8, 18])\n",
      "yb_indices.shape: torch.Size([8, 18])\n",
      "logits.shape: torch.Size([8, 18])\n",
      "yb_indices.shape: torch.Size([8, 18])\n"
     ]
    },
    {
     "name": "stderr",
     "output_type": "stream",
     "text": [
      "762it [02:11,  7.20it/s]"
     ]
    },
    {
     "name": "stdout",
     "output_type": "stream",
     "text": [
      "logits.shape: torch.Size([8, 18])\n",
      "yb_indices.shape: torch.Size([8, 18])\n",
      "logits.shape: torch.Size([8, 18])\n",
      "yb_indices.shape: torch.Size([8, 18])\n"
     ]
    },
    {
     "name": "stderr",
     "output_type": "stream",
     "text": [
      "764it [02:11,  6.62it/s]"
     ]
    },
    {
     "name": "stdout",
     "output_type": "stream",
     "text": [
      "logits.shape: torch.Size([8, 18])\n",
      "yb_indices.shape: torch.Size([8, 18])\n",
      "logits.shape: torch.Size([8, 18])\n",
      "yb_indices.shape: torch.Size([8, 18])\n"
     ]
    },
    {
     "name": "stderr",
     "output_type": "stream",
     "text": [
      "767it [02:11,  7.63it/s]"
     ]
    },
    {
     "name": "stdout",
     "output_type": "stream",
     "text": [
      "logits.shape: torch.Size([8, 18])\n",
      "yb_indices.shape: torch.Size([8, 18])\n",
      "logits.shape: torch.Size([8, 18])\n",
      "yb_indices.shape: torch.Size([8, 18])\n"
     ]
    },
    {
     "name": "stderr",
     "output_type": "stream",
     "text": [
      "768it [02:12,  7.34it/s]"
     ]
    },
    {
     "name": "stdout",
     "output_type": "stream",
     "text": [
      "logits.shape: torch.Size([8, 18])\n",
      "yb_indices.shape: torch.Size([8, 18])\n",
      "logits.shape: torch.Size([8, 18])\n",
      "yb_indices.shape: torch.Size([8, 18])\n"
     ]
    },
    {
     "name": "stderr",
     "output_type": "stream",
     "text": [
      "770it [02:12,  6.91it/s]"
     ]
    },
    {
     "name": "stdout",
     "output_type": "stream",
     "text": [
      "logits.shape: torch.Size([8, 18])\n",
      "yb_indices.shape: torch.Size([8, 18])\n",
      "logits.shape: torch.Size([8, 18])\n",
      "yb_indices.shape: torch.Size([8, 18])\n"
     ]
    },
    {
     "name": "stderr",
     "output_type": "stream",
     "text": [
      "772it [02:12,  6.58it/s]"
     ]
    },
    {
     "name": "stdout",
     "output_type": "stream",
     "text": [
      "logits.shape: torch.Size([8, 18])\n",
      "yb_indices.shape: torch.Size([8, 18])\n",
      "logits.shape: torch.Size([8, 18])\n",
      "yb_indices.shape: torch.Size([8, 18])\n"
     ]
    },
    {
     "name": "stderr",
     "output_type": "stream",
     "text": [
      "774it [02:13,  6.37it/s]"
     ]
    },
    {
     "name": "stdout",
     "output_type": "stream",
     "text": [
      "logits.shape: torch.Size([8, 18])\n",
      "yb_indices.shape: torch.Size([8, 18])\n",
      "logits.shape: torch.Size([8, 18])\n",
      "yb_indices.shape: torch.Size([8, 18])\n"
     ]
    },
    {
     "name": "stderr",
     "output_type": "stream",
     "text": [
      "776it [02:13,  6.96it/s]"
     ]
    },
    {
     "name": "stdout",
     "output_type": "stream",
     "text": [
      "logits.shape: torch.Size([8, 18])\n",
      "yb_indices.shape: torch.Size([8, 18])\n",
      "logits.shape: torch.Size([8, 18])\n",
      "yb_indices.shape: torch.Size([8, 18])\n"
     ]
    },
    {
     "name": "stderr",
     "output_type": "stream",
     "text": [
      "778it [02:13,  7.23it/s]"
     ]
    },
    {
     "name": "stdout",
     "output_type": "stream",
     "text": [
      "logits.shape: torch.Size([8, 18])\n",
      "yb_indices.shape: torch.Size([8, 18])\n",
      "logits.shape: torch.Size([8, 18])\n",
      "yb_indices.shape: torch.Size([8, 18])\n"
     ]
    },
    {
     "name": "stderr",
     "output_type": "stream",
     "text": [
      "781it [02:13,  7.97it/s]"
     ]
    },
    {
     "name": "stdout",
     "output_type": "stream",
     "text": [
      "logits.shape: torch.Size([8, 18])\n",
      "yb_indices.shape: torch.Size([8, 18])\n",
      "logits.shape: torch.Size([8, 18])\n",
      "yb_indices.shape: torch.Size([8, 18])\n"
     ]
    },
    {
     "name": "stderr",
     "output_type": "stream",
     "text": [
      "782it [02:14,  7.10it/s]"
     ]
    },
    {
     "name": "stdout",
     "output_type": "stream",
     "text": [
      "logits.shape: torch.Size([8, 18])\n",
      "yb_indices.shape: torch.Size([8, 18])\n",
      "logits.shape: torch.Size([8, 18])\n",
      "yb_indices.shape: torch.Size([8, 18])\n"
     ]
    },
    {
     "name": "stderr",
     "output_type": "stream",
     "text": [
      "784it [02:14,  7.10it/s]"
     ]
    },
    {
     "name": "stdout",
     "output_type": "stream",
     "text": [
      "logits.shape: torch.Size([8, 18])\n",
      "yb_indices.shape: torch.Size([8, 18])\n",
      "logits.shape: torch.Size([8, 18])\n",
      "yb_indices.shape: torch.Size([8, 18])\n"
     ]
    },
    {
     "name": "stderr",
     "output_type": "stream",
     "text": [
      "787it [02:14,  7.65it/s]"
     ]
    },
    {
     "name": "stdout",
     "output_type": "stream",
     "text": [
      "logits.shape: torch.Size([8, 18])\n",
      "yb_indices.shape: torch.Size([8, 18])\n",
      "logits.shape: torch.Size([8, 18])\n",
      "yb_indices.shape: torch.Size([8, 18])\n"
     ]
    },
    {
     "name": "stderr",
     "output_type": "stream",
     "text": [
      "788it [02:14,  7.29it/s]"
     ]
    },
    {
     "name": "stdout",
     "output_type": "stream",
     "text": [
      "logits.shape: torch.Size([8, 18])\n",
      "yb_indices.shape: torch.Size([8, 18])\n",
      "logits.shape: torch.Size([8, 18])\n",
      "yb_indices.shape: torch.Size([8, 18])\n"
     ]
    },
    {
     "name": "stderr",
     "output_type": "stream",
     "text": [
      "791it [02:15,  6.86it/s]"
     ]
    },
    {
     "name": "stdout",
     "output_type": "stream",
     "text": [
      "logits.shape: torch.Size([8, 18])\n",
      "yb_indices.shape: torch.Size([8, 18])\n",
      "logits.shape: torch.Size([8, 18])\n",
      "yb_indices.shape: torch.Size([8, 18])\n"
     ]
    },
    {
     "name": "stderr",
     "output_type": "stream",
     "text": [
      "792it [02:15,  6.83it/s]"
     ]
    },
    {
     "name": "stdout",
     "output_type": "stream",
     "text": [
      "logits.shape: torch.Size([8, 18])\n",
      "yb_indices.shape: torch.Size([8, 18])\n",
      "logits.shape: torch.Size([8, 18])\n",
      "yb_indices.shape: torch.Size([8, 18])\n"
     ]
    },
    {
     "name": "stderr",
     "output_type": "stream",
     "text": [
      "795it [02:15,  7.60it/s]"
     ]
    },
    {
     "name": "stdout",
     "output_type": "stream",
     "text": [
      "logits.shape: torch.Size([8, 18])\n",
      "yb_indices.shape: torch.Size([8, 18])\n",
      "logits.shape: torch.Size([8, 18])\n",
      "yb_indices.shape: torch.Size([8, 18])\n"
     ]
    },
    {
     "name": "stderr",
     "output_type": "stream",
     "text": [
      "797it [02:16,  7.84it/s]"
     ]
    },
    {
     "name": "stdout",
     "output_type": "stream",
     "text": [
      "logits.shape: torch.Size([8, 18])\n",
      "yb_indices.shape: torch.Size([8, 18])\n",
      "logits.shape: torch.Size([8, 18])\n",
      "yb_indices.shape: torch.Size([8, 18])\n"
     ]
    },
    {
     "name": "stderr",
     "output_type": "stream",
     "text": [
      "798it [02:16,  6.85it/s]"
     ]
    },
    {
     "name": "stdout",
     "output_type": "stream",
     "text": [
      "logits.shape: torch.Size([8, 18])\n",
      "yb_indices.shape: torch.Size([8, 18])\n",
      "logits.shape: torch.Size([8, 18])\n",
      "yb_indices.shape: torch.Size([8, 18])\n"
     ]
    },
    {
     "name": "stderr",
     "output_type": "stream",
     "text": [
      "800it [02:16,  7.04it/s]"
     ]
    },
    {
     "name": "stdout",
     "output_type": "stream",
     "text": [
      "logits.shape: torch.Size([8, 18])\n",
      "yb_indices.shape: torch.Size([8, 18])\n",
      "logits.shape: torch.Size([8, 18])\n",
      "yb_indices.shape: torch.Size([8, 18])\n"
     ]
    },
    {
     "name": "stderr",
     "output_type": "stream",
     "text": [
      "802it [02:16,  7.27it/s]"
     ]
    },
    {
     "name": "stdout",
     "output_type": "stream",
     "text": [
      "logits.shape: torch.Size([8, 18])\n",
      "yb_indices.shape: torch.Size([8, 18])\n",
      "logits.shape: torch.Size([8, 18])\n",
      "yb_indices.shape: torch.Size([8, 18])\n"
     ]
    },
    {
     "name": "stderr",
     "output_type": "stream",
     "text": [
      "804it [02:17,  7.37it/s]"
     ]
    },
    {
     "name": "stdout",
     "output_type": "stream",
     "text": [
      "logits.shape: torch.Size([8, 18])\n",
      "yb_indices.shape: torch.Size([8, 18])\n",
      "logits.shape: torch.Size([8, 18])\n",
      "yb_indices.shape: torch.Size([8, 18])\n"
     ]
    },
    {
     "name": "stderr",
     "output_type": "stream",
     "text": [
      "806it [02:17,  6.18it/s]"
     ]
    },
    {
     "name": "stdout",
     "output_type": "stream",
     "text": [
      "logits.shape: torch.Size([8, 18])\n",
      "yb_indices.shape: torch.Size([8, 18])\n",
      "logits.shape: torch.Size([8, 18])\n",
      "yb_indices.shape: torch.Size([8, 18])\n"
     ]
    },
    {
     "name": "stderr",
     "output_type": "stream",
     "text": [
      "808it [02:17,  6.01it/s]"
     ]
    },
    {
     "name": "stdout",
     "output_type": "stream",
     "text": [
      "logits.shape: torch.Size([8, 18])\n",
      "yb_indices.shape: torch.Size([8, 18])\n",
      "logits.shape: torch.Size([8, 18])\n",
      "yb_indices.shape: torch.Size([8, 18])\n"
     ]
    },
    {
     "name": "stderr",
     "output_type": "stream",
     "text": [
      "810it [02:18,  6.52it/s]"
     ]
    },
    {
     "name": "stdout",
     "output_type": "stream",
     "text": [
      "logits.shape: torch.Size([8, 18])\n",
      "yb_indices.shape: torch.Size([8, 18])\n",
      "logits.shape: torch.Size([8, 18])\n",
      "yb_indices.shape: torch.Size([8, 18])\n"
     ]
    },
    {
     "name": "stderr",
     "output_type": "stream",
     "text": [
      "812it [02:18,  6.38it/s]"
     ]
    },
    {
     "name": "stdout",
     "output_type": "stream",
     "text": [
      "logits.shape: torch.Size([8, 18])\n",
      "yb_indices.shape: torch.Size([8, 18])\n",
      "logits.shape: torch.Size([8, 18])\n",
      "yb_indices.shape: torch.Size([8, 18])\n"
     ]
    },
    {
     "name": "stderr",
     "output_type": "stream",
     "text": [
      "814it [02:18,  6.08it/s]"
     ]
    },
    {
     "name": "stdout",
     "output_type": "stream",
     "text": [
      "logits.shape: torch.Size([8, 18])\n",
      "yb_indices.shape: torch.Size([8, 18])\n",
      "logits.shape: torch.Size([8, 18])\n",
      "yb_indices.shape: torch.Size([8, 18])\n"
     ]
    },
    {
     "name": "stderr",
     "output_type": "stream",
     "text": [
      "815it [02:18,  5.86it/s]\n"
     ]
    },
    {
     "name": "stdout",
     "output_type": "stream",
     "text": [
      "Epoch 3 | Train Loss: 1.8188 | Train Acc: 0.5908\n",
      "Epoch 3 | Val Acc: 0.5825\n"
     ]
    }
   ],
   "source": [
    "print(\"⏩ training started .....\")\n",
    "\n",
    "sequence_labels = df.groupby('sequence_id').first()['gesture_int'].values\n",
    "print(np.unique(sequence_labels)) \n",
    "cw_vals = compute_class_weight(\n",
    "    class_weight='balanced',\n",
    "    classes=np.unique(sequence_labels),\n",
    "    y=torch.argmax(y, dim=1).numpy()\n",
    "    )\n",
    "print(cw_vals.shape)  # should be (num_classes,)\n",
    "optimizer = torch.optim.AdamW(model.parameters(), lr=config.LEARNING_RATE)\n",
    "weights_tensor = torch.tensor(cw_vals, dtype=torch.float32).to(device)\n",
    "loss_fn = nn.CrossEntropyLoss(weight=weights_tensor, label_smoothing=0.1)\n",
    "\n",
    "print(\"▶️ Setting scheduler  .....\")\n",
    "steps = []\n",
    "lrs = []\n",
    "best_val_acc = 0\n",
    "patience, patience_counter = 10, 0\n",
    "EPOCHS = config.EPOCHS\n",
    "scheduler = OneCycleLR(\n",
    "    optimizer,\n",
    "    max_lr=1e-3,\n",
    "    epochs=config.EPOCHS,\n",
    "    steps_per_epoch=len(train_loader),\n",
    "    pct_start=0.0,\n",
    "    anneal_strategy=\"cos\",\n",
    "    final_div_factor=100,\n",
    ")\n",
    "\n",
    "print(\"✅ Epoch starts .....\")\n",
    "import itertools\n",
    "\n",
    "max_batches = 5\n",
    "\n",
    "for epoch in range(EPOCHS):\n",
    "    model.train()\n",
    "    total_loss = 0\n",
    "    correct = 0         # <-- reset here\n",
    "    total = 0           # <-- reset here\n",
    "    # for batch_idx, batch in tqdm.tqdm(enumerate(itertools.islice(train_loader, max_batches))):\n",
    "    for batch_idx, batch in tqdm.tqdm(enumerate(train_loader)):\n",
    "        xb, yb = batch[0].to(device), batch[1].to(device)\n",
    "        # if batch_idx == 0:\n",
    "        #     print(f\"Batch {batch_idx}: x_imu shape {x_imu.shape}, x_tof shape {x_tof.shape}\")\n",
    "\n",
    "        if batch_idx == 0:\n",
    "            print(f\"Batch {batch_idx}: x_imu shape {xb.shape}, x_tof shape {yb.shape}\")\n",
    "        optimizer.zero_grad()        \n",
    "        logits = model(xb)\n",
    "        # print(\"logits.shape:\", logits.shape)\n",
    "        # print(\"yb_indices.shape:\", yb.shape)\n",
    "        yb_indices = yb.argmax(dim=1)\n",
    "        loss = loss_fn(logits, yb_indices)\n",
    "        loss.backward()\n",
    "        torch.nn.utils.clip_grad_norm_(model.parameters(), 1.0)  # optional\n",
    "        optimizer.step()\n",
    "        scheduler.step()\n",
    "\n",
    "        total_loss += loss.item()\n",
    "        lrs.append(scheduler.get_last_lr()[0])\n",
    "        steps.append(epoch * config.BATCH_SIZE_TRAIN + batch_idx)\n",
    "\n",
    "        \n",
    "        logits_arg = logits.argmax(dim=1)\n",
    "        correct += (logits_arg == yb_indices).sum().item()\n",
    "        total += yb_indices.size(0)\n",
    "\n",
    "    train_acc = correct / total\n",
    "    print(f\"Epoch {epoch} | Train Loss: {total_loss / len(train_loader):.4f} | Train Acc: {train_acc:.4f}\")\n",
    "    \n",
    "    # Validation\n",
    "    model.eval()\n",
    "    correct, total = 0, 0\n",
    "    with torch.no_grad():\n",
    "        for batch in val_loader:\n",
    "            xb, yb = batch[0].to(device), batch[1].to(device)\n",
    "\n",
    "            x_preds = model(xb)\n",
    "            logits = x_preds.argmax(dim=1)\n",
    "            true_labels = yb.argmax(1) if yb.ndim > 1 else yb  #.argmax(1)  val_loader comes from a standard dataset with \"y\" as class index (long), you don’t need argmax.\n",
    "            correct += (logits == true_labels).sum().item()\n",
    "            total += true_labels.size(0)\n",
    "    val_acc = correct / total\n",
    "    print(f\"Epoch {epoch} | Val Acc: {val_acc:.4f}\")\n",
    "\n",
    "    if val_acc > best_val_acc:\n",
    "        best_val_acc = val_acc\n",
    "        patience_counter = 0\n",
    "        torch.save(model.state_dict(), paths.OUTPUT_DIR / \"best_model.pt\")\n",
    "    else:\n",
    "        patience_counter += 1\n",
    "        if patience_counter >= patience:\n",
    "            print(\"Early stopping triggered.\")\n",
    "            break"
   ]
  },
  {
   "cell_type": "code",
   "execution_count": null,
   "id": "840200d3",
   "metadata": {},
   "outputs": [],
   "source": []
  },
  {
   "cell_type": "code",
   "execution_count": null,
   "id": "e4c2138e",
   "metadata": {},
   "outputs": [],
   "source": []
  },
  {
   "cell_type": "code",
   "execution_count": null,
   "id": "449c677c",
   "metadata": {},
   "outputs": [],
   "source": []
  }
 ],
 "metadata": {
  "kernelspec": {
   "display_name": "env",
   "language": "python",
   "name": "python3"
  },
  "language_info": {
   "codemirror_mode": {
    "name": "ipython",
    "version": 3
   },
   "file_extension": ".py",
   "mimetype": "text/x-python",
   "name": "python",
   "nbconvert_exporter": "python",
   "pygments_lexer": "ipython3",
   "version": "3.12.4"
  }
 },
 "nbformat": 4,
 "nbformat_minor": 5
}
