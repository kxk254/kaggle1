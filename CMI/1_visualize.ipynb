{
 "cells": [
  {
   "cell_type": "code",
   "execution_count": null,
   "id": "6afb40f9",
   "metadata": {},
   "outputs": [],
   "source": [
    "from pathlib import Path\n",
    "\n",
    "\n",
    "data_dir = Path(\"C:\\\\Users\\\\konno\\\\SynologyDrive\\\\datasciense\\\\projects_foler\\\\1_kaggle\\\\CMI\\\\cmi-detect-behavior-with-sensor-data\")"
   ]
  },
  {
   "cell_type": "code",
   "execution_count": 3,
   "id": "98e803d9",
   "metadata": {},
   "outputs": [
    {
     "name": "stderr",
     "output_type": "stream",
     "text": [
      "'ls' �́A�����R�}���h�܂��͊O���R�}���h�A\n",
      "����\\�ȃv���O�����܂��̓o�b�` �t�@�C���Ƃ��ĔF������Ă��܂���B\n"
     ]
    }
   ],
   "source": [
    "!ls -l {data_dir}"
   ]
  },
  {
   "cell_type": "code",
   "execution_count": 4,
   "id": "237892b3",
   "metadata": {},
   "outputs": [],
   "source": [
    "NUMERIC_COLUMNS = [\n",
    "    \"acc_x\",\n",
    "    \"acc_y\",\n",
    "    \"acc_z\",\n",
    "    \"rot_w\",\n",
    "    \"rot_x\",\n",
    "    \"rot_y\",\n",
    "    \"rot_z\",\n",
    "    *[f\"thm_{i}\" for i in range(1, 6)],\n",
    "    *[f\"tof_{i}_v{j}\" for i in range(1, 6) for j in range(64)],\n",
    "]"
   ]
  },
  {
   "cell_type": "code",
   "execution_count": 5,
   "id": "60ee6a9f",
   "metadata": {},
   "outputs": [
    {
     "data": {
      "text/html": [
       "<div><style>\n",
       ".dataframe > thead > tr,\n",
       ".dataframe > tbody > tr {\n",
       "  text-align: right;\n",
       "  white-space: pre-wrap;\n",
       "}\n",
       "</style>\n",
       "<small>shape: (5, 341)</small><table border=\"1\" class=\"dataframe\"><thead><tr><th>row_id</th><th>sequence_type</th><th>sequence_id</th><th>sequence_counter</th><th>subject</th><th>orientation</th><th>behavior</th><th>phase</th><th>gesture</th><th>acc_x</th><th>acc_y</th><th>acc_z</th><th>rot_w</th><th>rot_x</th><th>rot_y</th><th>rot_z</th><th>thm_1</th><th>thm_2</th><th>thm_3</th><th>thm_4</th><th>thm_5</th><th>tof_1_v0</th><th>tof_1_v1</th><th>tof_1_v2</th><th>tof_1_v3</th><th>tof_1_v4</th><th>tof_1_v5</th><th>tof_1_v6</th><th>tof_1_v7</th><th>tof_1_v8</th><th>tof_1_v9</th><th>tof_1_v10</th><th>tof_1_v11</th><th>tof_1_v12</th><th>tof_1_v13</th><th>tof_1_v14</th><th>tof_1_v15</th><th>&hellip;</th><th>tof_5_v27</th><th>tof_5_v28</th><th>tof_5_v29</th><th>tof_5_v30</th><th>tof_5_v31</th><th>tof_5_v32</th><th>tof_5_v33</th><th>tof_5_v34</th><th>tof_5_v35</th><th>tof_5_v36</th><th>tof_5_v37</th><th>tof_5_v38</th><th>tof_5_v39</th><th>tof_5_v40</th><th>tof_5_v41</th><th>tof_5_v42</th><th>tof_5_v43</th><th>tof_5_v44</th><th>tof_5_v45</th><th>tof_5_v46</th><th>tof_5_v47</th><th>tof_5_v48</th><th>tof_5_v49</th><th>tof_5_v50</th><th>tof_5_v51</th><th>tof_5_v52</th><th>tof_5_v53</th><th>tof_5_v54</th><th>tof_5_v55</th><th>tof_5_v56</th><th>tof_5_v57</th><th>tof_5_v58</th><th>tof_5_v59</th><th>tof_5_v60</th><th>tof_5_v61</th><th>tof_5_v62</th><th>tof_5_v63</th></tr><tr><td>str</td><td>str</td><td>str</td><td>i64</td><td>str</td><td>str</td><td>str</td><td>str</td><td>str</td><td>f64</td><td>f64</td><td>f64</td><td>f64</td><td>f64</td><td>f64</td><td>f64</td><td>f64</td><td>f64</td><td>f64</td><td>f64</td><td>f64</td><td>f64</td><td>f64</td><td>f64</td><td>f64</td><td>f64</td><td>f64</td><td>f64</td><td>f64</td><td>f64</td><td>f64</td><td>f64</td><td>f64</td><td>f64</td><td>f64</td><td>f64</td><td>f64</td><td>&hellip;</td><td>f64</td><td>f64</td><td>f64</td><td>f64</td><td>f64</td><td>f64</td><td>f64</td><td>f64</td><td>f64</td><td>f64</td><td>f64</td><td>f64</td><td>f64</td><td>f64</td><td>f64</td><td>f64</td><td>f64</td><td>f64</td><td>f64</td><td>f64</td><td>f64</td><td>f64</td><td>f64</td><td>f64</td><td>f64</td><td>f64</td><td>f64</td><td>f64</td><td>f64</td><td>f64</td><td>f64</td><td>f64</td><td>f64</td><td>f64</td><td>f64</td><td>f64</td><td>f64</td></tr></thead><tbody><tr><td>&quot;SEQ_000007_000000&quot;</td><td>&quot;Target&quot;</td><td>&quot;SEQ_000007&quot;</td><td>0</td><td>&quot;SUBJ_059520&quot;</td><td>&quot;Seated Lean Non Dom - FACE DOW…</td><td>&quot;Relaxes and moves hand to targ…</td><td>&quot;Transition&quot;</td><td>&quot;Cheek - pinch skin&quot;</td><td>6.683594</td><td>6.214844</td><td>3.355469</td><td>0.134399</td><td>-0.355164</td><td>-0.447327</td><td>-0.809753</td><td>28.943842</td><td>31.822186</td><td>29.553024</td><td>28.592863</td><td>28.310535</td><td>131.0</td><td>134.0</td><td>132.0</td><td>135.0</td><td>98.0</td><td>74.0</td><td>64.0</td><td>60.0</td><td>null</td><td>null</td><td>152.0</td><td>153.0</td><td>141.0</td><td>89.0</td><td>68.0</td><td>63.0</td><td>&hellip;</td><td>153.0</td><td>133.0</td><td>131.0</td><td>121.0</td><td>118.0</td><td>134.0</td><td>134.0</td><td>128.0</td><td>121.0</td><td>119.0</td><td>121.0</td><td>129.0</td><td>null</td><td>113.0</td><td>124.0</td><td>122.0</td><td>131.0</td><td>null</td><td>null</td><td>null</td><td>null</td><td>120.0</td><td>127.0</td><td>null</td><td>null</td><td>null</td><td>null</td><td>null</td><td>null</td><td>null</td><td>null</td><td>null</td><td>null</td><td>null</td><td>null</td><td>null</td><td>null</td></tr><tr><td>&quot;SEQ_000007_000001&quot;</td><td>&quot;Target&quot;</td><td>&quot;SEQ_000007&quot;</td><td>1</td><td>&quot;SUBJ_059520&quot;</td><td>&quot;Seated Lean Non Dom - FACE DOW…</td><td>&quot;Relaxes and moves hand to targ…</td><td>&quot;Transition&quot;</td><td>&quot;Cheek - pinch skin&quot;</td><td>6.949219</td><td>6.214844</td><td>3.125</td><td>0.143494</td><td>-0.340271</td><td>-0.42865</td><td>-0.824524</td><td>29.340816</td><td>31.874645</td><td>29.79174</td><td>28.663383</td><td>28.406172</td><td>130.0</td><td>138.0</td><td>131.0</td><td>135.0</td><td>101.0</td><td>76.0</td><td>66.0</td><td>61.0</td><td>null</td><td>null</td><td>156.0</td><td>155.0</td><td>141.0</td><td>93.0</td><td>74.0</td><td>64.0</td><td>&hellip;</td><td>157.0</td><td>139.0</td><td>127.0</td><td>126.0</td><td>121.0</td><td>136.0</td><td>142.0</td><td>133.0</td><td>127.0</td><td>123.0</td><td>127.0</td><td>134.0</td><td>null</td><td>116.0</td><td>122.0</td><td>123.0</td><td>126.0</td><td>null</td><td>null</td><td>null</td><td>null</td><td>122.0</td><td>129.0</td><td>null</td><td>null</td><td>null</td><td>null</td><td>null</td><td>null</td><td>null</td><td>null</td><td>null</td><td>null</td><td>null</td><td>null</td><td>null</td><td>null</td></tr><tr><td>&quot;SEQ_000007_000002&quot;</td><td>&quot;Target&quot;</td><td>&quot;SEQ_000007&quot;</td><td>2</td><td>&quot;SUBJ_059520&quot;</td><td>&quot;Seated Lean Non Dom - FACE DOW…</td><td>&quot;Relaxes and moves hand to targ…</td><td>&quot;Transition&quot;</td><td>&quot;Cheek - pinch skin&quot;</td><td>5.722656</td><td>5.410156</td><td>5.421875</td><td>0.219055</td><td>-0.274231</td><td>-0.356934</td><td>-0.865662</td><td>30.339359</td><td>30.935045</td><td>30.090014</td><td>28.796087</td><td>28.529778</td><td>137.0</td><td>136.0</td><td>147.0</td><td>109.0</td><td>90.0</td><td>81.0</td><td>74.0</td><td>74.0</td><td>null</td><td>164.0</td><td>165.0</td><td>146.0</td><td>106.0</td><td>94.0</td><td>77.0</td><td>77.0</td><td>&hellip;</td><td>null</td><td>null</td><td>151.0</td><td>138.0</td><td>127.0</td><td>151.0</td><td>187.0</td><td>null</td><td>156.0</td><td>136.0</td><td>135.0</td><td>134.0</td><td>null</td><td>133.0</td><td>142.0</td><td>131.0</td><td>130.0</td><td>132.0</td><td>136.0</td><td>null</td><td>null</td><td>112.0</td><td>121.0</td><td>123.0</td><td>125.0</td><td>null</td><td>null</td><td>null</td><td>null</td><td>112.0</td><td>119.0</td><td>null</td><td>null</td><td>null</td><td>null</td><td>null</td><td>null</td></tr><tr><td>&quot;SEQ_000007_000003&quot;</td><td>&quot;Target&quot;</td><td>&quot;SEQ_000007&quot;</td><td>3</td><td>&quot;SUBJ_059520&quot;</td><td>&quot;Seated Lean Non Dom - FACE DOW…</td><td>&quot;Relaxes and moves hand to targ…</td><td>&quot;Transition&quot;</td><td>&quot;Cheek - pinch skin&quot;</td><td>6.6015625</td><td>3.53125</td><td>6.457031</td><td>0.297546</td><td>-0.26416</td><td>-0.238159</td><td>-0.885986</td><td>30.54373</td><td>27.044001</td><td>29.310717</td><td>29.018711</td><td>27.40201</td><td>143.0</td><td>147.0</td><td>170.0</td><td>127.0</td><td>109.0</td><td>98.0</td><td>95.0</td><td>95.0</td><td>null</td><td>177.0</td><td>189.0</td><td>177.0</td><td>136.0</td><td>121.0</td><td>107.0</td><td>104.0</td><td>&hellip;</td><td>null</td><td>149.0</td><td>142.0</td><td>135.0</td><td>null</td><td>159.0</td><td>181.0</td><td>150.0</td><td>135.0</td><td>129.0</td><td>139.0</td><td>null</td><td>null</td><td>141.0</td><td>136.0</td><td>120.0</td><td>122.0</td><td>132.0</td><td>null</td><td>null</td><td>null</td><td>107.0</td><td>112.0</td><td>115.0</td><td>140.0</td><td>null</td><td>null</td><td>null</td><td>null</td><td>101.0</td><td>111.0</td><td>null</td><td>null</td><td>null</td><td>null</td><td>null</td><td>null</td></tr><tr><td>&quot;SEQ_000007_000004&quot;</td><td>&quot;Target&quot;</td><td>&quot;SEQ_000007&quot;</td><td>4</td><td>&quot;SUBJ_059520&quot;</td><td>&quot;Seated Lean Non Dom - FACE DOW…</td><td>&quot;Relaxes and moves hand to targ…</td><td>&quot;Transition&quot;</td><td>&quot;Cheek - pinch skin&quot;</td><td>5.566406</td><td>0.277344</td><td>9.6328125</td><td>0.333557</td><td>-0.218628</td><td>-0.063538</td><td>-0.914856</td><td>29.317265</td><td>25.270855</td><td>26.808746</td><td>29.408604</td><td>27.357603</td><td>178.0</td><td>191.0</td><td>183.0</td><td>157.0</td><td>146.0</td><td>139.0</td><td>143.0</td><td>148.0</td><td>null</td><td>null</td><td>236.0</td><td>238.0</td><td>208.0</td><td>200.0</td><td>185.0</td><td>190.0</td><td>&hellip;</td><td>212.0</td><td>181.0</td><td>null</td><td>null</td><td>null</td><td>184.0</td><td>null</td><td>179.0</td><td>162.0</td><td>null</td><td>null</td><td>null</td><td>null</td><td>169.0</td><td>171.0</td><td>145.0</td><td>140.0</td><td>null</td><td>null</td><td>null</td><td>null</td><td>132.0</td><td>125.0</td><td>131.0</td><td>null</td><td>null</td><td>null</td><td>null</td><td>null</td><td>101.0</td><td>109.0</td><td>125.0</td><td>null</td><td>null</td><td>null</td><td>null</td><td>null</td></tr></tbody></table></div>"
      ],
      "text/plain": [
       "shape: (5, 341)\n",
       "┌───────────┬───────────┬───────────┬───────────┬───┬───────────┬───────────┬───────────┬──────────┐\n",
       "│ row_id    ┆ sequence_ ┆ sequence_ ┆ sequence_ ┆ … ┆ tof_5_v60 ┆ tof_5_v61 ┆ tof_5_v62 ┆ tof_5_v6 │\n",
       "│ ---       ┆ type      ┆ id        ┆ counter   ┆   ┆ ---       ┆ ---       ┆ ---       ┆ 3        │\n",
       "│ str       ┆ ---       ┆ ---       ┆ ---       ┆   ┆ f64       ┆ f64       ┆ f64       ┆ ---      │\n",
       "│           ┆ str       ┆ str       ┆ i64       ┆   ┆           ┆           ┆           ┆ f64      │\n",
       "╞═══════════╪═══════════╪═══════════╪═══════════╪═══╪═══════════╪═══════════╪═══════════╪══════════╡\n",
       "│ SEQ_00000 ┆ Target    ┆ SEQ_00000 ┆ 0         ┆ … ┆ null      ┆ null      ┆ null      ┆ null     │\n",
       "│ 7_000000  ┆           ┆ 7         ┆           ┆   ┆           ┆           ┆           ┆          │\n",
       "│ SEQ_00000 ┆ Target    ┆ SEQ_00000 ┆ 1         ┆ … ┆ null      ┆ null      ┆ null      ┆ null     │\n",
       "│ 7_000001  ┆           ┆ 7         ┆           ┆   ┆           ┆           ┆           ┆          │\n",
       "│ SEQ_00000 ┆ Target    ┆ SEQ_00000 ┆ 2         ┆ … ┆ null      ┆ null      ┆ null      ┆ null     │\n",
       "│ 7_000002  ┆           ┆ 7         ┆           ┆   ┆           ┆           ┆           ┆          │\n",
       "│ SEQ_00000 ┆ Target    ┆ SEQ_00000 ┆ 3         ┆ … ┆ null      ┆ null      ┆ null      ┆ null     │\n",
       "│ 7_000003  ┆           ┆ 7         ┆           ┆   ┆           ┆           ┆           ┆          │\n",
       "│ SEQ_00000 ┆ Target    ┆ SEQ_00000 ┆ 4         ┆ … ┆ null      ┆ null      ┆ null      ┆ null     │\n",
       "│ 7_000004  ┆           ┆ 7         ┆           ┆   ┆           ┆           ┆           ┆          │\n",
       "└───────────┴───────────┴───────────┴───────────┴───┴───────────┴───────────┴───────────┴──────────┘"
      ]
     },
     "execution_count": 5,
     "metadata": {},
     "output_type": "execute_result"
    }
   ],
   "source": [
    "import polars as pl\n",
    "\n",
    "train_df = pl.read_csv(data_dir / \"train.csv\").with_columns(\n",
    "    pl.col(c).replace(-1, None) for c in NUMERIC_COLUMNS if c.startswith(\"tof_\")\n",
    ")\n",
    "train_df.head()"
   ]
  },
  {
   "cell_type": "code",
   "execution_count": 6,
   "id": "eae9afaf",
   "metadata": {},
   "outputs": [
    {
     "name": "stdout",
     "output_type": "stream",
     "text": [
      "['row_id', 'sequence_type', 'sequence_id', 'sequence_counter', 'subject', 'orientation', 'behavior', 'phase', 'gesture', 'acc_x', 'acc_y', 'acc_z', 'rot_w', 'rot_x', 'rot_y', 'rot_z', 'thm_1', 'thm_2', 'thm_3', 'thm_4', 'thm_5', 'tof_1_v0', 'tof_1_v1', 'tof_1_v2', 'tof_1_v3', 'tof_1_v4', 'tof_1_v5', 'tof_1_v6', 'tof_1_v7', 'tof_1_v8', 'tof_1_v9', 'tof_1_v10', 'tof_1_v11', 'tof_1_v12', 'tof_1_v13', 'tof_1_v14', 'tof_1_v15', 'tof_1_v16', 'tof_1_v17', 'tof_1_v18', 'tof_1_v19', 'tof_1_v20', 'tof_1_v21', 'tof_1_v22', 'tof_1_v23', 'tof_1_v24', 'tof_1_v25', 'tof_1_v26', 'tof_1_v27', 'tof_1_v28', 'tof_1_v29', 'tof_1_v30', 'tof_1_v31', 'tof_1_v32', 'tof_1_v33', 'tof_1_v34', 'tof_1_v35', 'tof_1_v36', 'tof_1_v37', 'tof_1_v38', 'tof_1_v39', 'tof_1_v40', 'tof_1_v41', 'tof_1_v42', 'tof_1_v43', 'tof_1_v44', 'tof_1_v45', 'tof_1_v46', 'tof_1_v47', 'tof_1_v48', 'tof_1_v49', 'tof_1_v50', 'tof_1_v51', 'tof_1_v52', 'tof_1_v53', 'tof_1_v54', 'tof_1_v55', 'tof_1_v56', 'tof_1_v57', 'tof_1_v58', 'tof_1_v59', 'tof_1_v60', 'tof_1_v61', 'tof_1_v62', 'tof_1_v63', 'tof_2_v0', 'tof_2_v1', 'tof_2_v2', 'tof_2_v3', 'tof_2_v4', 'tof_2_v5', 'tof_2_v6', 'tof_2_v7', 'tof_2_v8', 'tof_2_v9', 'tof_2_v10', 'tof_2_v11', 'tof_2_v12', 'tof_2_v13', 'tof_2_v14', 'tof_2_v15', 'tof_2_v16', 'tof_2_v17', 'tof_2_v18', 'tof_2_v19', 'tof_2_v20', 'tof_2_v21', 'tof_2_v22', 'tof_2_v23', 'tof_2_v24', 'tof_2_v25', 'tof_2_v26', 'tof_2_v27', 'tof_2_v28', 'tof_2_v29', 'tof_2_v30', 'tof_2_v31', 'tof_2_v32', 'tof_2_v33', 'tof_2_v34', 'tof_2_v35', 'tof_2_v36', 'tof_2_v37', 'tof_2_v38', 'tof_2_v39', 'tof_2_v40', 'tof_2_v41', 'tof_2_v42', 'tof_2_v43', 'tof_2_v44', 'tof_2_v45', 'tof_2_v46', 'tof_2_v47', 'tof_2_v48', 'tof_2_v49', 'tof_2_v50', 'tof_2_v51', 'tof_2_v52', 'tof_2_v53', 'tof_2_v54', 'tof_2_v55', 'tof_2_v56', 'tof_2_v57', 'tof_2_v58', 'tof_2_v59', 'tof_2_v60', 'tof_2_v61', 'tof_2_v62', 'tof_2_v63', 'tof_3_v0', 'tof_3_v1', 'tof_3_v2', 'tof_3_v3', 'tof_3_v4', 'tof_3_v5', 'tof_3_v6', 'tof_3_v7', 'tof_3_v8', 'tof_3_v9', 'tof_3_v10', 'tof_3_v11', 'tof_3_v12', 'tof_3_v13', 'tof_3_v14', 'tof_3_v15', 'tof_3_v16', 'tof_3_v17', 'tof_3_v18', 'tof_3_v19', 'tof_3_v20', 'tof_3_v21', 'tof_3_v22', 'tof_3_v23', 'tof_3_v24', 'tof_3_v25', 'tof_3_v26', 'tof_3_v27', 'tof_3_v28', 'tof_3_v29', 'tof_3_v30', 'tof_3_v31', 'tof_3_v32', 'tof_3_v33', 'tof_3_v34', 'tof_3_v35', 'tof_3_v36', 'tof_3_v37', 'tof_3_v38', 'tof_3_v39', 'tof_3_v40', 'tof_3_v41', 'tof_3_v42', 'tof_3_v43', 'tof_3_v44', 'tof_3_v45', 'tof_3_v46', 'tof_3_v47', 'tof_3_v48', 'tof_3_v49', 'tof_3_v50', 'tof_3_v51', 'tof_3_v52', 'tof_3_v53', 'tof_3_v54', 'tof_3_v55', 'tof_3_v56', 'tof_3_v57', 'tof_3_v58', 'tof_3_v59', 'tof_3_v60', 'tof_3_v61', 'tof_3_v62', 'tof_3_v63', 'tof_4_v0', 'tof_4_v1', 'tof_4_v2', 'tof_4_v3', 'tof_4_v4', 'tof_4_v5', 'tof_4_v6', 'tof_4_v7', 'tof_4_v8', 'tof_4_v9', 'tof_4_v10', 'tof_4_v11', 'tof_4_v12', 'tof_4_v13', 'tof_4_v14', 'tof_4_v15', 'tof_4_v16', 'tof_4_v17', 'tof_4_v18', 'tof_4_v19', 'tof_4_v20', 'tof_4_v21', 'tof_4_v22', 'tof_4_v23', 'tof_4_v24', 'tof_4_v25', 'tof_4_v26', 'tof_4_v27', 'tof_4_v28', 'tof_4_v29', 'tof_4_v30', 'tof_4_v31', 'tof_4_v32', 'tof_4_v33', 'tof_4_v34', 'tof_4_v35', 'tof_4_v36', 'tof_4_v37', 'tof_4_v38', 'tof_4_v39', 'tof_4_v40', 'tof_4_v41', 'tof_4_v42', 'tof_4_v43', 'tof_4_v44', 'tof_4_v45', 'tof_4_v46', 'tof_4_v47', 'tof_4_v48', 'tof_4_v49', 'tof_4_v50', 'tof_4_v51', 'tof_4_v52', 'tof_4_v53', 'tof_4_v54', 'tof_4_v55', 'tof_4_v56', 'tof_4_v57', 'tof_4_v58', 'tof_4_v59', 'tof_4_v60', 'tof_4_v61', 'tof_4_v62', 'tof_4_v63', 'tof_5_v0', 'tof_5_v1', 'tof_5_v2', 'tof_5_v3', 'tof_5_v4', 'tof_5_v5', 'tof_5_v6', 'tof_5_v7', 'tof_5_v8', 'tof_5_v9', 'tof_5_v10', 'tof_5_v11', 'tof_5_v12', 'tof_5_v13', 'tof_5_v14', 'tof_5_v15', 'tof_5_v16', 'tof_5_v17', 'tof_5_v18', 'tof_5_v19', 'tof_5_v20', 'tof_5_v21', 'tof_5_v22', 'tof_5_v23', 'tof_5_v24', 'tof_5_v25', 'tof_5_v26', 'tof_5_v27', 'tof_5_v28', 'tof_5_v29', 'tof_5_v30', 'tof_5_v31', 'tof_5_v32', 'tof_5_v33', 'tof_5_v34', 'tof_5_v35', 'tof_5_v36', 'tof_5_v37', 'tof_5_v38', 'tof_5_v39', 'tof_5_v40', 'tof_5_v41', 'tof_5_v42', 'tof_5_v43', 'tof_5_v44', 'tof_5_v45', 'tof_5_v46', 'tof_5_v47', 'tof_5_v48', 'tof_5_v49', 'tof_5_v50', 'tof_5_v51', 'tof_5_v52', 'tof_5_v53', 'tof_5_v54', 'tof_5_v55', 'tof_5_v56', 'tof_5_v57', 'tof_5_v58', 'tof_5_v59', 'tof_5_v60', 'tof_5_v61', 'tof_5_v62', 'tof_5_v63']\n"
     ]
    }
   ],
   "source": [
    "print(train_df.columns)"
   ]
  },
  {
   "cell_type": "code",
   "execution_count": 7,
   "id": "33895cc5",
   "metadata": {},
   "outputs": [
    {
     "data": {
      "text/plain": [
       "81"
      ]
     },
     "execution_count": 7,
     "metadata": {},
     "output_type": "execute_result"
    }
   ],
   "source": [
    "train_df[\"subject\"].n_unique()"
   ]
  },
  {
   "cell_type": "code",
   "execution_count": 8,
   "id": "27cf3ec8",
   "metadata": {},
   "outputs": [
    {
     "data": {
      "text/plain": [
       "8151"
      ]
     },
     "execution_count": 8,
     "metadata": {},
     "output_type": "execute_result"
    }
   ],
   "source": [
    "train_df[\"sequence_id\"].n_unique()"
   ]
  },
  {
   "cell_type": "code",
   "execution_count": 10,
   "id": "ef72bd2b",
   "metadata": {},
   "outputs": [
    {
     "data": {
      "text/plain": [
       "(574945, 341)"
      ]
     },
     "execution_count": 10,
     "metadata": {},
     "output_type": "execute_result"
    }
   ],
   "source": [
    "train_df.shape"
   ]
  },
  {
   "cell_type": "code",
   "execution_count": 9,
   "id": "e5a5b8bb",
   "metadata": {},
   "outputs": [
    {
     "data": {
      "text/plain": [
       "18"
      ]
     },
     "execution_count": 9,
     "metadata": {},
     "output_type": "execute_result"
    }
   ],
   "source": [
    "train_df[\"gesture\"].n_unique()"
   ]
  },
  {
   "cell_type": "code",
   "execution_count": 11,
   "id": "30031c88",
   "metadata": {},
   "outputs": [
    {
     "data": {
      "text/plain": [
       "<Axes: title={'center': 'Number of Unique Sequences per Subject'}, xlabel='Subject', ylabel='Unique Sequences'>"
      ]
     },
     "execution_count": 11,
     "metadata": {},
     "output_type": "execute_result"
    },
    {
     "data": {
      "image/png": "[encoded data removed]",
      "text/plain": [
       "<Figure size 1600x300 with 1 Axes>"
      ]
     },
     "metadata": {},
     "output_type": "display_data"
    }
   ],
   "source": [
    "train_df.group_by(\"subject\").agg(\n",
    "    pl.col(\"sequence_id\").n_unique().alias(\"unique_sequences\")\n",
    ").sort(\"unique_sequences\", descending=True).to_pandas().plot(\n",
    "    kind=\"bar\",\n",
    "    x=\"subject\",\n",
    "    y=\"unique_sequences\",\n",
    "    title=\"Number of Unique Sequences per Subject\",\n",
    "    xlabel=\"Subject\",\n",
    "    ylabel=\"Unique Sequences\",\n",
    "    figsize=(16, 3),\n",
    ")"
   ]
  },
  {
   "cell_type": "code",
   "execution_count": 12,
   "id": "93066ca7",
   "metadata": {},
   "outputs": [
    {
     "data": {
      "text/plain": [
       "<Axes: title={'center': 'Distribution of Unique Sequence Counters'}, xlabel='Unique Sequence Counters', ylabel='Frequency'>"
      ]
     },
     "execution_count": 12,
     "metadata": {},
     "output_type": "execute_result"
    },
    {
     "data": {
      "image/png": "[encoded data removed]",
      "text/plain": [
       "<Figure size 640x480 with 1 Axes>"
      ]
     },
     "metadata": {},
     "output_type": "display_data"
    }
   ],
   "source": [
    "train_df.group_by(\"sequence_id\").agg(\n",
    "    pl.col(\"sequence_counter\").n_unique().alias(\"unique_counters\")\n",
    ").sort(\"unique_counters\", descending=True).to_pandas().plot(\n",
    "    kind=\"hist\", bins=100,\n",
    "    title=\"Distribution of Unique Sequence Counters\",\n",
    "    xlabel=\"Unique Sequence Counters\",\n",
    "    ylabel=\"Frequency\",\n",
    ")"
   ]
  },
  {
   "cell_type": "code",
   "execution_count": 13,
   "id": "d3fe5a08",
   "metadata": {},
   "outputs": [
    {
     "data": {
      "text/plain": [
       "<Axes: title={'center': 'Number of Unique Sequence Counters per Phase'}, xlabel='Phase', ylabel='Unique Sequence Counters'>"
      ]
     },
     "execution_count": 13,
     "metadata": {},
     "output_type": "execute_result"
    },
    {
     "data": {
      "image/png": "[encoded data removed]",
      "text/plain": [
       "<Figure size 800x400 with 1 Axes>"
      ]
     },
     "metadata": {},
     "output_type": "display_data"
    }
   ],
   "source": [
    "train_df.group_by(\"phase\").agg(\n",
    "    pl.col(\"sequence_counter\").n_unique().alias(\"unique_counters\")\n",
    ").sort(\"unique_counters\", descending=True).to_pandas().plot(\n",
    "    kind=\"bar\",\n",
    "    x=\"phase\",\n",
    "    y=\"unique_counters\",\n",
    "    title=\"Number of Unique Sequence Counters per Phase\",\n",
    "    xlabel=\"Phase\",\n",
    "    ylabel=\"Unique Sequence Counters\",\n",
    "    figsize=(8, 4),\n",
    ")"
   ]
  },
  {
   "cell_type": "code",
   "execution_count": 14,
   "id": "a47872f8",
   "metadata": {},
   "outputs": [
    {
     "data": {
      "text/plain": [
       "['Above ear - pull hair',\n",
       " 'Cheek - pinch skin',\n",
       " 'Drink from bottle/cup',\n",
       " 'Eyebrow - pull hair',\n",
       " 'Eyelash - pull hair',\n",
       " 'Feel around in tray and pull out an object',\n",
       " 'Forehead - pull hairline',\n",
       " 'Forehead - scratch',\n",
       " 'Glasses on/off',\n",
       " 'Neck - pinch skin',\n",
       " 'Neck - scratch',\n",
       " 'Pinch knee/leg skin',\n",
       " 'Pull air toward your face',\n",
       " 'Scratch knee/leg skin',\n",
       " 'Text on phone',\n",
       " 'Wave hello',\n",
       " 'Write name in air',\n",
       " 'Write name on leg']"
      ]
     },
     "execution_count": 14,
     "metadata": {},
     "output_type": "execute_result"
    }
   ],
   "source": [
    "GESTURES = sorted(train_df[\"gesture\"].unique().to_list())\n",
    "GESTURES"
   ]
  },
  {
   "cell_type": "code",
   "execution_count": 15,
   "id": "50f6a3c7",
   "metadata": {},
   "outputs": [
    {
     "data": {
      "text/plain": [
       "['Gesture', 'Transition']"
      ]
     },
     "execution_count": 15,
     "metadata": {},
     "output_type": "execute_result"
    }
   ],
   "source": [
    "PHASES = sorted(train_df[\"phase\"].unique().to_list())\n",
    "PHASES"
   ]
  },
  {
   "cell_type": "code",
   "execution_count": 16,
   "id": "f23314df",
   "metadata": {},
   "outputs": [
    {
     "data": {
      "text/plain": [
       "['Hand at target location',\n",
       " 'Moves hand to target location',\n",
       " 'Performs gesture',\n",
       " 'Relaxes and moves hand to target location']"
      ]
     },
     "execution_count": 16,
     "metadata": {},
     "output_type": "execute_result"
    }
   ],
   "source": [
    "BEHAVIORS = sorted(train_df[\"behavior\"].unique().to_list())\n",
    "BEHAVIORS"
   ]
  },
  {
   "cell_type": "code",
   "execution_count": 17,
   "id": "df86fe44",
   "metadata": {},
   "outputs": [
    {
     "data": {
      "text/plain": [
       "['Lie on Back',\n",
       " 'Lie on Side - Non Dominant',\n",
       " 'Seated Lean Non Dom - FACE DOWN',\n",
       " 'Seated Straight']"
      ]
     },
     "execution_count": 17,
     "metadata": {},
     "output_type": "execute_result"
    }
   ],
   "source": [
    "ORIENTATIONS = sorted(train_df[\"orientation\"].unique().to_list())\n",
    "ORIENTATIONS"
   ]
  },
  {
   "cell_type": "code",
   "execution_count": 18,
   "id": "3e0004fa",
   "metadata": {},
   "outputs": [
    {
     "data": {
      "text/html": [
       "<div><style>\n",
       ".dataframe > thead > tr,\n",
       ".dataframe > tbody > tr {\n",
       "  text-align: right;\n",
       "  white-space: pre-wrap;\n",
       "}\n",
       "</style>\n",
       "<small>shape: (2, 2)</small><table border=\"1\" class=\"dataframe\"><thead><tr><th>sequence_type</th><th>count</th></tr><tr><td>str</td><td>u32</td></tr></thead><tbody><tr><td>&quot;Target&quot;</td><td>5113</td></tr><tr><td>&quot;Non-Target&quot;</td><td>3038</td></tr></tbody></table></div>"
      ],
      "text/plain": [
       "shape: (2, 2)\n",
       "┌───────────────┬───────┐\n",
       "│ sequence_type ┆ count │\n",
       "│ ---           ┆ ---   │\n",
       "│ str           ┆ u32   │\n",
       "╞═══════════════╪═══════╡\n",
       "│ Target        ┆ 5113  │\n",
       "│ Non-Target    ┆ 3038  │\n",
       "└───────────────┴───────┘"
      ]
     },
     "execution_count": 18,
     "metadata": {},
     "output_type": "execute_result"
    }
   ],
   "source": [
    "train_df.group_by(\"sequence_id\").agg(pl.col(\"sequence_type\").first()).group_by(\n",
    "    \"sequence_type\"\n",
    ").agg(pl.len().alias(\"count\")).sort(\"count\", descending=True)"
   ]
  },
  {
   "cell_type": "code",
   "execution_count": 19,
   "id": "c2fa557b",
   "metadata": {},
   "outputs": [
    {
     "data": {
      "text/html": [
       "<div><style>\n",
       ".dataframe > thead > tr,\n",
       ".dataframe > tbody > tr {\n",
       "  text-align: right;\n",
       "  white-space: pre-wrap;\n",
       "}\n",
       "</style>\n",
       "<small>shape: (8_151, 342)</small><table border=\"1\" class=\"dataframe\"><thead><tr><th>sequence_id</th><th>row_id</th><th>sequence_type</th><th>sequence_counter</th><th>subject</th><th>orientation</th><th>behavior</th><th>phase</th><th>gesture</th><th>acc_x</th><th>acc_y</th><th>acc_z</th><th>rot_w</th><th>rot_x</th><th>rot_y</th><th>rot_z</th><th>thm_1</th><th>thm_2</th><th>thm_3</th><th>thm_4</th><th>thm_5</th><th>tof_1_v0</th><th>tof_1_v1</th><th>tof_1_v2</th><th>tof_1_v3</th><th>tof_1_v4</th><th>tof_1_v5</th><th>tof_1_v6</th><th>tof_1_v7</th><th>tof_1_v8</th><th>tof_1_v9</th><th>tof_1_v10</th><th>tof_1_v11</th><th>tof_1_v12</th><th>tof_1_v13</th><th>tof_1_v14</th><th>tof_1_v15</th><th>&hellip;</th><th>tof_5_v28</th><th>tof_5_v29</th><th>tof_5_v30</th><th>tof_5_v31</th><th>tof_5_v32</th><th>tof_5_v33</th><th>tof_5_v34</th><th>tof_5_v35</th><th>tof_5_v36</th><th>tof_5_v37</th><th>tof_5_v38</th><th>tof_5_v39</th><th>tof_5_v40</th><th>tof_5_v41</th><th>tof_5_v42</th><th>tof_5_v43</th><th>tof_5_v44</th><th>tof_5_v45</th><th>tof_5_v46</th><th>tof_5_v47</th><th>tof_5_v48</th><th>tof_5_v49</th><th>tof_5_v50</th><th>tof_5_v51</th><th>tof_5_v52</th><th>tof_5_v53</th><th>tof_5_v54</th><th>tof_5_v55</th><th>tof_5_v56</th><th>tof_5_v57</th><th>tof_5_v58</th><th>tof_5_v59</th><th>tof_5_v60</th><th>tof_5_v61</th><th>tof_5_v62</th><th>tof_5_v63</th><th>seq_len</th></tr><tr><td>str</td><td>u32</td><td>u32</td><td>u32</td><td>u32</td><td>u32</td><td>u32</td><td>u32</td><td>u32</td><td>u32</td><td>u32</td><td>u32</td><td>u32</td><td>u32</td><td>u32</td><td>u32</td><td>u32</td><td>u32</td><td>u32</td><td>u32</td><td>u32</td><td>u32</td><td>u32</td><td>u32</td><td>u32</td><td>u32</td><td>u32</td><td>u32</td><td>u32</td><td>u32</td><td>u32</td><td>u32</td><td>u32</td><td>u32</td><td>u32</td><td>u32</td><td>u32</td><td>&hellip;</td><td>u32</td><td>u32</td><td>u32</td><td>u32</td><td>u32</td><td>u32</td><td>u32</td><td>u32</td><td>u32</td><td>u32</td><td>u32</td><td>u32</td><td>u32</td><td>u32</td><td>u32</td><td>u32</td><td>u32</td><td>u32</td><td>u32</td><td>u32</td><td>u32</td><td>u32</td><td>u32</td><td>u32</td><td>u32</td><td>u32</td><td>u32</td><td>u32</td><td>u32</td><td>u32</td><td>u32</td><td>u32</td><td>u32</td><td>u32</td><td>u32</td><td>u32</td><td>u32</td></tr></thead><tbody><tr><td>&quot;SEQ_028332&quot;</td><td>55</td><td>1</td><td>55</td><td>1</td><td>1</td><td>3</td><td>2</td><td>1</td><td>34</td><td>40</td><td>43</td><td>55</td><td>52</td><td>49</td><td>55</td><td>51</td><td>51</td><td>51</td><td>50</td><td>52</td><td>2</td><td>2</td><td>3</td><td>13</td><td>4</td><td>2</td><td>2</td><td>3</td><td>2</td><td>2</td><td>2</td><td>3</td><td>2</td><td>2</td><td>2</td><td>3</td><td>&hellip;</td><td>10</td><td>7</td><td>8</td><td>9</td><td>2</td><td>3</td><td>10</td><td>8</td><td>7</td><td>9</td><td>8</td><td>7</td><td>3</td><td>2</td><td>9</td><td>10</td><td>9</td><td>8</td><td>9</td><td>10</td><td>3</td><td>3</td><td>6</td><td>9</td><td>8</td><td>7</td><td>8</td><td>8</td><td>3</td><td>1</td><td>2</td><td>8</td><td>9</td><td>8</td><td>7</td><td>8</td><td>55</td></tr><tr><td>&quot;SEQ_044893&quot;</td><td>75</td><td>1</td><td>75</td><td>1</td><td>1</td><td>3</td><td>2</td><td>1</td><td>59</td><td>47</td><td>59</td><td>73</td><td>75</td><td>73</td><td>73</td><td>68</td><td>72</td><td>68</td><td>75</td><td>72</td><td>21</td><td>28</td><td>25</td><td>36</td><td>29</td><td>28</td><td>25</td><td>25</td><td>17</td><td>35</td><td>24</td><td>32</td><td>29</td><td>28</td><td>27</td><td>25</td><td>&hellip;</td><td>1</td><td>1</td><td>12</td><td>1</td><td>1</td><td>13</td><td>1</td><td>11</td><td>6</td><td>11</td><td>1</td><td>1</td><td>10</td><td>10</td><td>9</td><td>9</td><td>8</td><td>8</td><td>1</td><td>1</td><td>8</td><td>8</td><td>6</td><td>7</td><td>6</td><td>8</td><td>1</td><td>1</td><td>6</td><td>6</td><td>4</td><td>4</td><td>3</td><td>1</td><td>1</td><td>1</td><td>75</td></tr><tr><td>&quot;SEQ_037666&quot;</td><td>61</td><td>1</td><td>61</td><td>1</td><td>1</td><td>3</td><td>2</td><td>1</td><td>52</td><td>40</td><td>51</td><td>60</td><td>61</td><td>60</td><td>61</td><td>57</td><td>60</td><td>59</td><td>57</td><td>60</td><td>26</td><td>30</td><td>33</td><td>32</td><td>35</td><td>26</td><td>16</td><td>20</td><td>29</td><td>35</td><td>30</td><td>27</td><td>20</td><td>14</td><td>9</td><td>13</td><td>&hellip;</td><td>35</td><td>38</td><td>34</td><td>19</td><td>31</td><td>32</td><td>36</td><td>28</td><td>30</td><td>32</td><td>36</td><td>14</td><td>29</td><td>30</td><td>38</td><td>27</td><td>31</td><td>35</td><td>21</td><td>12</td><td>30</td><td>30</td><td>38</td><td>33</td><td>31</td><td>22</td><td>13</td><td>8</td><td>34</td><td>37</td><td>22</td><td>14</td><td>15</td><td>13</td><td>9</td><td>6</td><td>61</td></tr><tr><td>&quot;SEQ_039776&quot;</td><td>69</td><td>1</td><td>69</td><td>1</td><td>1</td><td>3</td><td>2</td><td>1</td><td>51</td><td>41</td><td>47</td><td>69</td><td>68</td><td>68</td><td>66</td><td>68</td><td>67</td><td>67</td><td>67</td><td>61</td><td>27</td><td>24</td><td>25</td><td>26</td><td>20</td><td>34</td><td>46</td><td>52</td><td>25</td><td>25</td><td>28</td><td>26</td><td>24</td><td>24</td><td>27</td><td>43</td><td>&hellip;</td><td>14</td><td>13</td><td>14</td><td>12</td><td>20</td><td>13</td><td>15</td><td>16</td><td>14</td><td>14</td><td>14</td><td>12</td><td>21</td><td>18</td><td>14</td><td>17</td><td>17</td><td>15</td><td>12</td><td>12</td><td>13</td><td>17</td><td>16</td><td>15</td><td>14</td><td>12</td><td>12</td><td>13</td><td>18</td><td>20</td><td>15</td><td>13</td><td>12</td><td>13</td><td>12</td><td>12</td><td>69</td></tr><tr><td>&quot;SEQ_041588&quot;</td><td>98</td><td>1</td><td>98</td><td>1</td><td>1</td><td>3</td><td>2</td><td>1</td><td>70</td><td>68</td><td>74</td><td>94</td><td>96</td><td>98</td><td>97</td><td>95</td><td>98</td><td>97</td><td>82</td><td>94</td><td>46</td><td>53</td><td>57</td><td>52</td><td>56</td><td>46</td><td>41</td><td>34</td><td>59</td><td>49</td><td>46</td><td>35</td><td>34</td><td>25</td><td>15</td><td>14</td><td>&hellip;</td><td>24</td><td>28</td><td>30</td><td>26</td><td>47</td><td>48</td><td>49</td><td>32</td><td>21</td><td>16</td><td>32</td><td>31</td><td>50</td><td>45</td><td>37</td><td>38</td><td>21</td><td>27</td><td>29</td><td>27</td><td>43</td><td>36</td><td>42</td><td>42</td><td>31</td><td>42</td><td>28</td><td>25</td><td>45</td><td>43</td><td>45</td><td>46</td><td>40</td><td>50</td><td>42</td><td>41</td><td>98</td></tr><tr><td>&hellip;</td><td>&hellip;</td><td>&hellip;</td><td>&hellip;</td><td>&hellip;</td><td>&hellip;</td><td>&hellip;</td><td>&hellip;</td><td>&hellip;</td><td>&hellip;</td><td>&hellip;</td><td>&hellip;</td><td>&hellip;</td><td>&hellip;</td><td>&hellip;</td><td>&hellip;</td><td>&hellip;</td><td>&hellip;</td><td>&hellip;</td><td>&hellip;</td><td>&hellip;</td><td>&hellip;</td><td>&hellip;</td><td>&hellip;</td><td>&hellip;</td><td>&hellip;</td><td>&hellip;</td><td>&hellip;</td><td>&hellip;</td><td>&hellip;</td><td>&hellip;</td><td>&hellip;</td><td>&hellip;</td><td>&hellip;</td><td>&hellip;</td><td>&hellip;</td><td>&hellip;</td><td>&hellip;</td><td>&hellip;</td><td>&hellip;</td><td>&hellip;</td><td>&hellip;</td><td>&hellip;</td><td>&hellip;</td><td>&hellip;</td><td>&hellip;</td><td>&hellip;</td><td>&hellip;</td><td>&hellip;</td><td>&hellip;</td><td>&hellip;</td><td>&hellip;</td><td>&hellip;</td><td>&hellip;</td><td>&hellip;</td><td>&hellip;</td><td>&hellip;</td><td>&hellip;</td><td>&hellip;</td><td>&hellip;</td><td>&hellip;</td><td>&hellip;</td><td>&hellip;</td><td>&hellip;</td><td>&hellip;</td><td>&hellip;</td><td>&hellip;</td><td>&hellip;</td><td>&hellip;</td><td>&hellip;</td><td>&hellip;</td><td>&hellip;</td><td>&hellip;</td><td>&hellip;</td><td>&hellip;</td></tr><tr><td>&quot;SEQ_042741&quot;</td><td>61</td><td>1</td><td>61</td><td>1</td><td>1</td><td>3</td><td>2</td><td>1</td><td>40</td><td>30</td><td>41</td><td>60</td><td>60</td><td>58</td><td>61</td><td>60</td><td>60</td><td>60</td><td>57</td><td>60</td><td>20</td><td>18</td><td>13</td><td>12</td><td>8</td><td>11</td><td>6</td><td>8</td><td>22</td><td>20</td><td>18</td><td>16</td><td>11</td><td>12</td><td>7</td><td>5</td><td>&hellip;</td><td>21</td><td>20</td><td>17</td><td>9</td><td>22</td><td>21</td><td>23</td><td>22</td><td>20</td><td>18</td><td>19</td><td>11</td><td>22</td><td>24</td><td>25</td><td>23</td><td>19</td><td>20</td><td>19</td><td>11</td><td>20</td><td>21</td><td>25</td><td>22</td><td>16</td><td>20</td><td>16</td><td>8</td><td>22</td><td>19</td><td>19</td><td>20</td><td>20</td><td>16</td><td>11</td><td>9</td><td>61</td></tr><tr><td>&quot;SEQ_010887&quot;</td><td>81</td><td>1</td><td>81</td><td>1</td><td>1</td><td>3</td><td>2</td><td>1</td><td>72</td><td>61</td><td>67</td><td>80</td><td>80</td><td>80</td><td>81</td><td>79</td><td>74</td><td>80</td><td>80</td><td>77</td><td>5</td><td>8</td><td>13</td><td>17</td><td>18</td><td>23</td><td>20</td><td>19</td><td>12</td><td>6</td><td>3</td><td>5</td><td>10</td><td>13</td><td>7</td><td>13</td><td>&hellip;</td><td>31</td><td>26</td><td>29</td><td>26</td><td>7</td><td>4</td><td>33</td><td>29</td><td>26</td><td>28</td><td>27</td><td>27</td><td>5</td><td>19</td><td>34</td><td>30</td><td>28</td><td>27</td><td>21</td><td>23</td><td>6</td><td>26</td><td>30</td><td>30</td><td>24</td><td>25</td><td>28</td><td>18</td><td>6</td><td>21</td><td>29</td><td>25</td><td>23</td><td>24</td><td>21</td><td>17</td><td>81</td></tr><tr><td>&quot;SEQ_063252&quot;</td><td>80</td><td>1</td><td>80</td><td>1</td><td>1</td><td>3</td><td>2</td><td>1</td><td>60</td><td>43</td><td>57</td><td>77</td><td>76</td><td>78</td><td>78</td><td>79</td><td>79</td><td>78</td><td>77</td><td>74</td><td>44</td><td>39</td><td>36</td><td>35</td><td>35</td><td>29</td><td>31</td><td>34</td><td>32</td><td>41</td><td>31</td><td>28</td><td>29</td><td>29</td><td>32</td><td>33</td><td>&hellip;</td><td>27</td><td>36</td><td>44</td><td>39</td><td>45</td><td>19</td><td>18</td><td>23</td><td>26</td><td>37</td><td>46</td><td>33</td><td>45</td><td>27</td><td>22</td><td>32</td><td>28</td><td>37</td><td>40</td><td>36</td><td>39</td><td>39</td><td>33</td><td>33</td><td>28</td><td>42</td><td>36</td><td>37</td><td>42</td><td>34</td><td>33</td><td>33</td><td>29</td><td>43</td><td>41</td><td>25</td><td>80</td></tr><tr><td>&quot;SEQ_014935&quot;</td><td>101</td><td>1</td><td>101</td><td>1</td><td>1</td><td>3</td><td>2</td><td>1</td><td>43</td><td>50</td><td>44</td><td>92</td><td>92</td><td>91</td><td>93</td><td>95</td><td>93</td><td>95</td><td>92</td><td>94</td><td>28</td><td>21</td><td>18</td><td>30</td><td>37</td><td>32</td><td>33</td><td>33</td><td>25</td><td>22</td><td>30</td><td>35</td><td>37</td><td>36</td><td>33</td><td>31</td><td>&hellip;</td><td>28</td><td>24</td><td>33</td><td>24</td><td>9</td><td>30</td><td>31</td><td>26</td><td>30</td><td>22</td><td>34</td><td>29</td><td>11</td><td>31</td><td>31</td><td>31</td><td>27</td><td>22</td><td>28</td><td>27</td><td>12</td><td>28</td><td>28</td><td>24</td><td>33</td><td>37</td><td>33</td><td>27</td><td>20</td><td>26</td><td>37</td><td>35</td><td>36</td><td>31</td><td>30</td><td>20</td><td>101</td></tr><tr><td>&quot;SEQ_019813&quot;</td><td>81</td><td>1</td><td>81</td><td>1</td><td>1</td><td>3</td><td>2</td><td>1</td><td>60</td><td>53</td><td>48</td><td>79</td><td>78</td><td>77</td><td>78</td><td>80</td><td>73</td><td>77</td><td>74</td><td>78</td><td>43</td><td>38</td><td>43</td><td>44</td><td>40</td><td>37</td><td>34</td><td>35</td><td>35</td><td>32</td><td>45</td><td>42</td><td>41</td><td>42</td><td>38</td><td>34</td><td>&hellip;</td><td>34</td><td>36</td><td>30</td><td>15</td><td>39</td><td>41</td><td>41</td><td>39</td><td>33</td><td>30</td><td>28</td><td>13</td><td>37</td><td>37</td><td>37</td><td>30</td><td>33</td><td>29</td><td>20</td><td>13</td><td>36</td><td>33</td><td>32</td><td>30</td><td>27</td><td>27</td><td>19</td><td>11</td><td>36</td><td>29</td><td>26</td><td>27</td><td>26</td><td>22</td><td>12</td><td>15</td><td>81</td></tr></tbody></table></div>"
      ],
      "text/plain": [
       "shape: (8_151, 342)\n",
       "┌─────────────┬────────┬────────────┬────────────┬───┬───────────┬───────────┬───────────┬─────────┐\n",
       "│ sequence_id ┆ row_id ┆ sequence_t ┆ sequence_c ┆ … ┆ tof_5_v61 ┆ tof_5_v62 ┆ tof_5_v63 ┆ seq_len │\n",
       "│ ---         ┆ ---    ┆ ype        ┆ ounter     ┆   ┆ ---       ┆ ---       ┆ ---       ┆ ---     │\n",
       "│ str         ┆ u32    ┆ ---        ┆ ---        ┆   ┆ u32       ┆ u32       ┆ u32       ┆ u32     │\n",
       "│             ┆        ┆ u32        ┆ u32        ┆   ┆           ┆           ┆           ┆         │\n",
       "╞═════════════╪════════╪════════════╪════════════╪═══╪═══════════╪═══════════╪═══════════╪═════════╡\n",
       "│ SEQ_028332  ┆ 55     ┆ 1          ┆ 55         ┆ … ┆ 8         ┆ 7         ┆ 8         ┆ 55      │\n",
       "│ SEQ_044893  ┆ 75     ┆ 1          ┆ 75         ┆ … ┆ 1         ┆ 1         ┆ 1         ┆ 75      │\n",
       "│ SEQ_037666  ┆ 61     ┆ 1          ┆ 61         ┆ … ┆ 13        ┆ 9         ┆ 6         ┆ 61      │\n",
       "│ SEQ_039776  ┆ 69     ┆ 1          ┆ 69         ┆ … ┆ 13        ┆ 12        ┆ 12        ┆ 69      │\n",
       "│ SEQ_041588  ┆ 98     ┆ 1          ┆ 98         ┆ … ┆ 50        ┆ 42        ┆ 41        ┆ 98      │\n",
       "│ …           ┆ …      ┆ …          ┆ …          ┆ … ┆ …         ┆ …         ┆ …         ┆ …       │\n",
       "│ SEQ_042741  ┆ 61     ┆ 1          ┆ 61         ┆ … ┆ 16        ┆ 11        ┆ 9         ┆ 61      │\n",
       "│ SEQ_010887  ┆ 81     ┆ 1          ┆ 81         ┆ … ┆ 24        ┆ 21        ┆ 17        ┆ 81      │\n",
       "│ SEQ_063252  ┆ 80     ┆ 1          ┆ 80         ┆ … ┆ 43        ┆ 41        ┆ 25        ┆ 80      │\n",
       "│ SEQ_014935  ┆ 101    ┆ 1          ┆ 101        ┆ … ┆ 31        ┆ 30        ┆ 20        ┆ 101     │\n",
       "│ SEQ_019813  ┆ 81     ┆ 1          ┆ 81         ┆ … ┆ 22        ┆ 12        ┆ 15        ┆ 81      │\n",
       "└─────────────┴────────┴────────────┴────────────┴───┴───────────┴───────────┴───────────┴─────────┘"
      ]
     },
     "metadata": {},
     "output_type": "display_data"
    },
    {
     "name": "stdout",
     "output_type": "stream",
     "text": [
      "Columns with only one unique value per sequence:\n",
      "- sequence_type\n",
      "- subject\n",
      "- orientation\n",
      "- gesture\n"
     ]
    }
   ],
   "source": [
    "cols = train_df.columns\n",
    "df = train_df.group_by(\"sequence_id\").agg(\n",
    "    *[pl.all().n_unique()] + [pl.col(\"sequence_counter\").len().alias(\"seq_len\")]\n",
    ")\n",
    "display(df)\n",
    "\n",
    "per_sequence_cols = []\n",
    "for col  in cols:\n",
    "    if col not in [\"sequence_id\", \"sequence_counter\"]:\n",
    "        if (df[col] == 1).all():\n",
    "            per_sequence_cols.append(col)\n",
    "\n",
    "print(\"Columns with only one unique value per sequence:\")\n",
    "for col in per_sequence_cols:\n",
    "    print(f\"- {col}\")"
   ]
  },
  {
   "cell_type": "code",
   "execution_count": 20,
   "id": "170ec780",
   "metadata": {},
   "outputs": [
    {
     "name": "stdout",
     "output_type": "stream",
     "text": [
      "8151\n"
     ]
    },
    {
     "data": {
      "text/html": [
       "<div><style>\n",
       ".dataframe > thead > tr,\n",
       ".dataframe > tbody > tr {\n",
       "  text-align: right;\n",
       "  white-space: pre-wrap;\n",
       "}\n",
       "</style>\n",
       "<small>shape: (5, 20)</small><table border=\"1\" class=\"dataframe\"><thead><tr><th>sequence_id</th><th>sequence_type</th><th>subject</th><th>orientation</th><th>gesture</th><th>diversity_phase</th><th>diversity_behavior</th><th>seq_len</th><th>count_phase_gesture</th><th>count_phase_transition</th><th>count_behavior_hand_at_target_location</th><th>count_behavior_moves_hand_to_target_location</th><th>count_behavior_performs_gesture</th><th>count_behavior_relaxes_and_moves_hand_to_target_location</th><th>ratio_phase_gesture</th><th>ratio_phase_transition</th><th>ratio_behavior_hand_at_target_location</th><th>ratio_behavior_moves_hand_to_target_location</th><th>ratio_behavior_performs_gesture</th><th>ratio_behavior_relaxes_and_moves_hand_to_target_location</th></tr><tr><td>str</td><td>str</td><td>str</td><td>str</td><td>str</td><td>u32</td><td>u32</td><td>u32</td><td>u32</td><td>u32</td><td>u32</td><td>u32</td><td>u32</td><td>u32</td><td>f64</td><td>f64</td><td>f64</td><td>f64</td><td>f64</td><td>f64</td></tr></thead><tbody><tr><td>&quot;SEQ_000007&quot;</td><td>&quot;Target&quot;</td><td>&quot;SUBJ_059520&quot;</td><td>&quot;Seated Lean Non Dom - FACE DOW…</td><td>&quot;Cheek - pinch skin&quot;</td><td>2</td><td>3</td><td>57</td><td>32</td><td>25</td><td>7</td><td>0</td><td>32</td><td>18</td><td>0.561404</td><td>0.438596</td><td>0.122807</td><td>0.0</td><td>0.561404</td><td>0.315789</td></tr><tr><td>&quot;SEQ_000008&quot;</td><td>&quot;Target&quot;</td><td>&quot;SUBJ_020948&quot;</td><td>&quot;Seated Lean Non Dom - FACE DOW…</td><td>&quot;Forehead - pull hairline&quot;</td><td>2</td><td>3</td><td>68</td><td>33</td><td>35</td><td>12</td><td>23</td><td>33</td><td>0</td><td>0.485294</td><td>0.514706</td><td>0.176471</td><td>0.338235</td><td>0.485294</td><td>0.0</td></tr><tr><td>&quot;SEQ_000013&quot;</td><td>&quot;Target&quot;</td><td>&quot;SUBJ_040282&quot;</td><td>&quot;Lie on Side - Non Dominant&quot;</td><td>&quot;Cheek - pinch skin&quot;</td><td>2</td><td>3</td><td>53</td><td>30</td><td>23</td><td>8</td><td>0</td><td>30</td><td>15</td><td>0.566038</td><td>0.433962</td><td>0.150943</td><td>0.0</td><td>0.566038</td><td>0.283019</td></tr><tr><td>&quot;SEQ_000016&quot;</td><td>&quot;Non-Target&quot;</td><td>&quot;SUBJ_052342&quot;</td><td>&quot;Seated Lean Non Dom - FACE DOW…</td><td>&quot;Write name on leg&quot;</td><td>2</td><td>3</td><td>61</td><td>34</td><td>27</td><td>9</td><td>0</td><td>34</td><td>18</td><td>0.557377</td><td>0.442623</td><td>0.147541</td><td>0.0</td><td>0.557377</td><td>0.295082</td></tr><tr><td>&quot;SEQ_000018&quot;</td><td>&quot;Target&quot;</td><td>&quot;SUBJ_032165&quot;</td><td>&quot;Seated Lean Non Dom - FACE DOW…</td><td>&quot;Forehead - pull hairline&quot;</td><td>2</td><td>3</td><td>54</td><td>34</td><td>20</td><td>5</td><td>0</td><td>34</td><td>15</td><td>0.62963</td><td>0.37037</td><td>0.092593</td><td>0.0</td><td>0.62963</td><td>0.277778</td></tr></tbody></table></div>"
      ],
      "text/plain": [
       "shape: (5, 20)\n",
       "┌───────────┬───────────┬───────────┬───────────┬───┬───────────┬───────────┬───────────┬──────────┐\n",
       "│ sequence_ ┆ sequence_ ┆ subject   ┆ orientati ┆ … ┆ ratio_beh ┆ ratio_beh ┆ ratio_beh ┆ ratio_be │\n",
       "│ id        ┆ type      ┆ ---       ┆ on        ┆   ┆ avior_han ┆ avior_mov ┆ avior_per ┆ havior_r │\n",
       "│ ---       ┆ ---       ┆ str       ┆ ---       ┆   ┆ d_at_targ ┆ es_hand_t ┆ forms_ges ┆ elaxes_a │\n",
       "│ str       ┆ str       ┆           ┆ str       ┆   ┆ et_…      ┆ o_t…      ┆ tur…      ┆ nd_mov…  │\n",
       "│           ┆           ┆           ┆           ┆   ┆ ---       ┆ ---       ┆ ---       ┆ ---      │\n",
       "│           ┆           ┆           ┆           ┆   ┆ f64       ┆ f64       ┆ f64       ┆ f64      │\n",
       "╞═══════════╪═══════════╪═══════════╪═══════════╪═══╪═══════════╪═══════════╪═══════════╪══════════╡\n",
       "│ SEQ_00000 ┆ Target    ┆ SUBJ_0595 ┆ Seated    ┆ … ┆ 0.122807  ┆ 0.0       ┆ 0.561404  ┆ 0.315789 │\n",
       "│ 7         ┆           ┆ 20        ┆ Lean Non  ┆   ┆           ┆           ┆           ┆          │\n",
       "│           ┆           ┆           ┆ Dom -     ┆   ┆           ┆           ┆           ┆          │\n",
       "│           ┆           ┆           ┆ FACE DOW… ┆   ┆           ┆           ┆           ┆          │\n",
       "│ SEQ_00000 ┆ Target    ┆ SUBJ_0209 ┆ Seated    ┆ … ┆ 0.176471  ┆ 0.338235  ┆ 0.485294  ┆ 0.0      │\n",
       "│ 8         ┆           ┆ 48        ┆ Lean Non  ┆   ┆           ┆           ┆           ┆          │\n",
       "│           ┆           ┆           ┆ Dom -     ┆   ┆           ┆           ┆           ┆          │\n",
       "│           ┆           ┆           ┆ FACE DOW… ┆   ┆           ┆           ┆           ┆          │\n",
       "│ SEQ_00001 ┆ Target    ┆ SUBJ_0402 ┆ Lie on    ┆ … ┆ 0.150943  ┆ 0.0       ┆ 0.566038  ┆ 0.283019 │\n",
       "│ 3         ┆           ┆ 82        ┆ Side -    ┆   ┆           ┆           ┆           ┆          │\n",
       "│           ┆           ┆           ┆ Non       ┆   ┆           ┆           ┆           ┆          │\n",
       "│           ┆           ┆           ┆ Dominant  ┆   ┆           ┆           ┆           ┆          │\n",
       "│ SEQ_00001 ┆ Non-Targe ┆ SUBJ_0523 ┆ Seated    ┆ … ┆ 0.147541  ┆ 0.0       ┆ 0.557377  ┆ 0.295082 │\n",
       "│ 6         ┆ t         ┆ 42        ┆ Lean Non  ┆   ┆           ┆           ┆           ┆          │\n",
       "│           ┆           ┆           ┆ Dom -     ┆   ┆           ┆           ┆           ┆          │\n",
       "│           ┆           ┆           ┆ FACE DOW… ┆   ┆           ┆           ┆           ┆          │\n",
       "│ SEQ_00001 ┆ Target    ┆ SUBJ_0321 ┆ Seated    ┆ … ┆ 0.092593  ┆ 0.0       ┆ 0.62963   ┆ 0.277778 │\n",
       "│ 8         ┆           ┆ 65        ┆ Lean Non  ┆   ┆           ┆           ┆           ┆          │\n",
       "│           ┆           ┆           ┆ Dom -     ┆   ┆           ┆           ┆           ┆          │\n",
       "│           ┆           ┆           ┆ FACE DOW… ┆   ┆           ┆           ┆           ┆          │\n",
       "└───────────┴───────────┴───────────┴───────────┴───┴───────────┴───────────┴───────────┴──────────┘"
      ]
     },
     "execution_count": 20,
     "metadata": {},
     "output_type": "execute_result"
    }
   ],
   "source": [
    "def sanitize_col_name(s):\n",
    "    return s.lower().replace(\" \", \"_\")\n",
    "\n",
    "\n",
    "sequence_meta_df = (\n",
    "    train_df.group_by(\"sequence_id\", maintain_order=True)\n",
    "    .agg(\n",
    "        *[\n",
    "            pl.col(c).first()\n",
    "            for c in [\n",
    "                \"sequence_type\",\n",
    "                \"subject\",\n",
    "                \"orientation\",\n",
    "                \"gesture\",\n",
    "            ]\n",
    "        ]\n",
    "        + [\n",
    "            pl.col(\"phase\").n_unique().alias(\"diversity_phase\"),\n",
    "            pl.col(\"behavior\").n_unique().alias(\"diversity_behavior\"),\n",
    "        ]\n",
    "        + [\n",
    "            pl.col(\"sequence_counter\").len().alias(\"seq_len\"),\n",
    "            *[\n",
    "                (pl.col(\"phase\") == p)\n",
    "                .sum()\n",
    "                .alias(f\"count_phase_{sanitize_col_name(p)}\")\n",
    "                for p in PHASES\n",
    "            ],\n",
    "            *[\n",
    "                (pl.col(\"behavior\") == b)\n",
    "                .sum()\n",
    "                .alias(f\"count_behavior_{sanitize_col_name(b)}\")\n",
    "                for b in BEHAVIORS\n",
    "            ],\n",
    "        ]\n",
    "    )\n",
    "    .with_columns(\n",
    "        [\n",
    "            *[\n",
    "                (\n",
    "                    pl.col(f\"count_phase_{sanitize_col_name(p)}\") / pl.col(\"seq_len\")\n",
    "                ).alias(f\"ratio_phase_{sanitize_col_name(p)}\")\n",
    "                for p in PHASES\n",
    "            ],\n",
    "            *[\n",
    "                (\n",
    "                    pl.col(f\"count_behavior_{sanitize_col_name(b)}\") / pl.col(\"seq_len\")\n",
    "                ).alias(f\"ratio_behavior_{sanitize_col_name(b)}\")\n",
    "                for b in BEHAVIORS\n",
    "            ],\n",
    "        ]\n",
    "    )\n",
    ")\n",
    "print(sequence_meta_df.height)\n",
    "sequence_meta_df.head()"
   ]
  },
  {
   "cell_type": "code",
   "execution_count": null,
   "id": "04a9b6f9",
   "metadata": {},
   "outputs": [],
   "source": [
    "sequence_meta_df.columns"
   ]
  },
  {
   "cell_type": "code",
   "execution_count": null,
   "id": "fa554fcf",
   "metadata": {},
   "outputs": [],
   "source": [
    "sequence_meta_df.filter(pl.col(\"ratio_behavior_moves_hand_to_target_location\") == 0).height"
   ]
  },
  {
   "cell_type": "code",
   "execution_count": null,
   "id": "24b4b608",
   "metadata": {},
   "outputs": [],
   "source": [
    "sequence_meta_df.filter(pl.col(\"ratio_behavior_relaxes_and_moves_hand_to_target_location\") == 0).height"
   ]
  },
  {
   "cell_type": "code",
   "execution_count": null,
   "id": "ace59cdf",
   "metadata": {},
   "outputs": [],
   "source": [
    "sequence_meta_df.filter(\n",
    "    (pl.col(\"ratio_behavior_moves_hand_to_target_location\") == 0)\n",
    "    & (pl.col(\"ratio_behavior_relaxes_and_moves_hand_to_target_location\") == 0)\n",
    ").height"
   ]
  },
  {
   "cell_type": "code",
   "execution_count": null,
   "id": "db5eba90",
   "metadata": {},
   "outputs": [],
   "source": [
    "target_sequence_meta_df = sequence_meta_df.filter(pl.col(\"sequence_type\") == \"Target\")\n",
    "non_target_sequence_meta_df = sequence_meta_df.filter(\n",
    "    pl.col(\"sequence_type\") == \"Non-Target\"\n",
    ")"
   ]
  },
  {
   "cell_type": "code",
   "execution_count": null,
   "id": "58300e80",
   "metadata": {},
   "outputs": [],
   "source": [
    "import matplotlib.pyplot as plt\n",
    "\n",
    "_, ax = plt.subplots()\n",
    "target_sequence_meta_df[\"gesture\"].value_counts().sort(\"count\", descending=True).to_pandas().plot(\n",
    "    kind=\"barh\",\n",
    "    x=\"gesture\",\n",
    "    y=\"count\",\n",
    "    title=\"Gesture Counts (Target)\",\n",
    "    xlabel=\"Gesture\",\n",
    "    ylabel=\"Count\",\n",
    "    figsize=(8, 4),\n",
    "    ax=ax,\n",
    "    color=\"blue\",\n",
    "    alpha=0.7,\n",
    "    label=\"Target\",\n",
    ")\n",
    "_, ax = plt.subplots()\n",
    "non_target_sequence_meta_df[\"gesture\"].value_counts().sort(\"count\", descending=True).to_pandas().plot(\n",
    "    kind=\"barh\",\n",
    "    x=\"gesture\",\n",
    "    y=\"count\",\n",
    "    title=\"Gesture Counts (Non-Target)\",\n",
    "    xlabel=\"Gesture\",\n",
    "    ylabel=\"Count\",\n",
    "    figsize=(8, 4),\n",
    "    ax=ax,\n",
    "    color=\"orange\",\n",
    "    alpha=0.7,\n",
    "    label=\"Non-Target\",\n",
    ")"
   ]
  },
  {
   "cell_type": "code",
   "execution_count": null,
   "id": "a2862b46",
   "metadata": {},
   "outputs": [],
   "source": [
    "sequence_meta_df[\"diversity_behavior\"].value_counts().sort(\"count\", descending=True)"
   ]
  },
  {
   "cell_type": "code",
   "execution_count": null,
   "id": "040f3c49",
   "metadata": {},
   "outputs": [],
   "source": [
    "sequence_meta_df.filter(pl.col(\"diversity_behavior\") == 2)"
   ]
  },
  {
   "cell_type": "code",
   "execution_count": null,
   "id": "953d7a03",
   "metadata": {},
   "outputs": [],
   "source": [
    "sequence_meta_df[\"diversity_phase\"].value_counts().sort(\"count\", descending=True)"
   ]
  },
  {
   "cell_type": "code",
   "execution_count": null,
   "id": "00aa21c1",
   "metadata": {},
   "outputs": [],
   "source": [
    "sequence_meta_df.filter(pl.col(\"diversity_phase\") == 1)"
   ]
  },
  {
   "cell_type": "code",
   "execution_count": null,
   "id": "e134819c",
   "metadata": {},
   "outputs": [],
   "source": [
    "(sequence_meta_df[\"count_phase_gesture\"] / sequence_meta_df[\"seq_len\"]).to_pandas().plot(\n",
    "    kind=\"hist\", bins=100,\n",
    "    title=\"Distribution of Gesture Phase Count per Sequence Length\",\n",
    "    xlabel=\"Gesture Phase Ratio\",\n",
    "    ylabel=\"Frequency\",\n",
    ")"
   ]
  },
  {
   "cell_type": "code",
   "execution_count": null,
   "id": "7b4d76eb",
   "metadata": {},
   "outputs": [],
   "source": [
    "sequence_meta_df.columns"
   ]
  },
  {
   "cell_type": "code",
   "execution_count": null,
   "id": "e7d90971",
   "metadata": {},
   "outputs": [],
   "source": [
    "import matplotlib.pyplot as plt\n",
    "\n",
    "for b in BEHAVIORS:\n",
    "    _, ax = plt.subplots()\n",
    "    for seq_type, df in zip(\n",
    "        [\"Target\", \"Non-Target\"], [target_sequence_meta_df, non_target_sequence_meta_df]\n",
    "    ):\n",
    "        (df[f\"count_behavior_{sanitize_col_name(b)}\"] / df[\"seq_len\"]).to_pandas().plot(\n",
    "            kind=\"hist\",\n",
    "            bins=100,\n",
    "            title=f\"Distribution of `{b}`\",\n",
    "            xlabel=\"Behavior Ratio\",\n",
    "            ylabel=\"Frequency\",\n",
    "            alpha=0.5,\n",
    "            ax=ax,\n",
    "            xlim=(0, 1),\n",
    "            label=seq_type,\n",
    "            color=\"blue\" if seq_type == \"Target\" else \"orange\",\n",
    "            legend=True,\n",
    "        )"
   ]
  },
  {
   "cell_type": "code",
   "execution_count": null,
   "id": "1afff6ac",
   "metadata": {},
   "outputs": [],
   "source": [
    "import matplotlib.pyplot as plt\n",
    "\n",
    "b1, b2 = \"Moves Hand to Target Location\", \"Relaxes and Moves Hand to Target Location\"\n",
    "_, ax = plt.subplots()\n",
    "for seq_type, df in zip(\n",
    "    [\"Target\", \"Non-Target\"], [target_sequence_meta_df, non_target_sequence_meta_df]\n",
    "):\n",
    "    (\n",
    "        (\n",
    "            df[f\"count_behavior_{sanitize_col_name(b1)}\"]\n",
    "            + df[f\"count_behavior_{sanitize_col_name(b2)}\"]\n",
    "        )\n",
    "        / df[\"seq_len\"]\n",
    "    ).to_pandas().plot(\n",
    "        kind=\"hist\",\n",
    "        bins=100,\n",
    "        title=f\"Distribution of `{b1}` and `{b2}` Combined\",\n",
    "        xlabel=\"Behavior Ratio\",\n",
    "        ylabel=\"Frequency\",\n",
    "        alpha=0.5,\n",
    "        ax=ax,\n",
    "        xlim=(0, 1),\n",
    "        label=seq_type,\n",
    "        color=\"blue\" if seq_type == \"Target\" else \"orange\",\n",
    "        legend=True,\n",
    "    )"
   ]
  },
  {
   "cell_type": "code",
   "execution_count": null,
   "id": "d1e7d4b7",
   "metadata": {},
   "outputs": [],
   "source": [
    "train_df[\"behavior\"].unique().to_list()"
   ]
  },
  {
   "cell_type": "code",
   "execution_count": null,
   "id": "6b8fde19",
   "metadata": {},
   "outputs": [],
   "source": [
    "import numpy as np\n",
    "from scipy.spatial.transform import Rotation as R\n",
    "from mpl_toolkits.mplot3d import Axes3D\n",
    "import matplotlib.pyplot as plt\n",
    "from mpl_toolkits.mplot3d.art3d import Line3DCollection\n",
    "from matplotlib.collections import LineCollection\n",
    "from matplotlib import cm\n",
    "from matplotlib.colors import Normalize\n",
    "from scipy.ndimage import gaussian_filter1d\n",
    "from scipy.spatial.transform import Rotation as R, Slerp\n",
    "\n",
    "\n",
    "def moving_average(data, window_size=5):\n",
    "    return np.convolve(data, np.ones(window_size) / window_size, mode=\"same\")\n",
    "\n",
    "\n",
    "def visualize_tof(tof1, tof2, tof3, tof4, tof5, x_gesture, behavior_dict):\n",
    "    for name, x in zip(\n",
    "        [\"tof1\", \"tof2\", \"tof3\", \"tof4\", \"tof5\"], [tof1, tof2, tof3, tof4, tof5]\n",
    "    ):\n",
    "        x = x.copy()\n",
    "        x = x.reshape(-1, 64)\n",
    "        fig, ax = plt.subplots(figsize=(8, 3))\n",
    "        x_max = np.nanmax(x)\n",
    "        x_min = np.nanmin(x)\n",
    "\n",
    "        colors = plt.cm.magma(np.linspace(0, 1, x.shape[1]))\n",
    "        for i in range(x.shape[1]):\n",
    "            ax.plot(\n",
    "                x[:, i],\n",
    "                color=colors[i],\n",
    "                alpha=0.3,\n",
    "                linewidth=0.5,\n",
    "            )\n",
    "\n",
    "        ax.plot(\n",
    "            x_gesture * (x_max - x_min) + x_min,\n",
    "            color=\"red\",\n",
    "            alpha=0.7,\n",
    "            linewidth=2,\n",
    "            label=\"Gesture Phase\",\n",
    "        )\n",
    "\n",
    "        colors = [\"blue\", \"orange\", \"green\", \"purple\", \"brown\"]\n",
    "        for i, b in enumerate(BEHAVIORS):\n",
    "            ax.plot(\n",
    "                behavior_dict[b] * (x_max - x_min) + x_min,\n",
    "                label=f\"Behavior: {b}\",\n",
    "                linewidth=1,\n",
    "                alpha=0.7,\n",
    "                color=colors[i % len(colors)],\n",
    "                linestyle=\"--\",\n",
    "            )\n",
    "        ax.set(\n",
    "            title=f\"{name}\",\n",
    "            xlabel=\"Sequence Counter\",\n",
    "            ylabel=\"Value\",\n",
    "        )\n",
    "        ax.legend(bbox_to_anchor=(1.05, 1), loc=\"upper left\")\n",
    "        plt.show()\n",
    "\n",
    "\n",
    "def visualize_sensor(acc, acc_world, rot, thm, x_gesture, behavior_dict):\n",
    "    for name, x, channel_names in zip(\n",
    "        [\"acc_sensor\", \"acc_world\", \"rot\", \"trm\"],\n",
    "        [acc, acc_world, rot, thm],\n",
    "        [\n",
    "            [\"acc_x\", \"acc_y\", \"acc_z\"],\n",
    "            [\"acc_x\", \"acc_y\", \"acc_z\"],\n",
    "            [\"rot_x\", \"rot_y\", \"rot_z\", \"rot_w\"],\n",
    "            [f\"thm_{i}\" for i in range(1, 6)],\n",
    "        ],\n",
    "    ):\n",
    "        x = x.copy()\n",
    "        fig, ax = plt.subplots(figsize=(8, 3))\n",
    "        x_max = np.max(x)\n",
    "        x_min = np.min(x)\n",
    "\n",
    "        colors = [\"blue\", \"orange\", \"green\", \"purple\", \"brown\"]\n",
    "        for i in range(x.shape[1]):\n",
    "            ax.plot(\n",
    "                x[:, i],\n",
    "                color=colors[i % len(colors)],\n",
    "                alpha=0.7,\n",
    "                linewidth=0.5,\n",
    "                label=channel_names[i],\n",
    "            )\n",
    "\n",
    "        ax.plot(\n",
    "            x_gesture * (x_max - x_min) + x_min,\n",
    "            color=\"red\",\n",
    "            alpha=0.7,\n",
    "            linewidth=2,\n",
    "            label=\"Gesture Phase\",\n",
    "        )\n",
    "        for i, b in enumerate(BEHAVIORS):\n",
    "            ax.plot(\n",
    "                behavior_dict[b] * (x_max - x_min) + x_min,\n",
    "                label=f\"Behavior: {b}\",\n",
    "                linewidth=1,\n",
    "                alpha=0.7,\n",
    "                color=colors[i % len(colors)],\n",
    "                linestyle=\"--\",\n",
    "            )\n",
    "        ax.set(\n",
    "            title=f\"{name}\",\n",
    "            xlabel=\"Sequence Counter\",\n",
    "            ylabel=\"Value\",\n",
    "        )\n",
    "        ax.legend(bbox_to_anchor=(1.05, 1), loc=\"upper left\")\n",
    "        plt.show()\n",
    "\n",
    "\n",
    "def plot_in_3d(x, title=\"3D Acceleration Trajectory\", unit=\"m/s²\"):\n",
    "    n_samples = x.shape[0]\n",
    "\n",
    "    # 線分生成（2点ごとのつなぎ）\n",
    "    points = x.reshape(-1, 1, 3)\n",
    "    segments = np.concatenate([points[:-1], points[1:]], axis=1)\n",
    "\n",
    "    # カラーマップ用の正規化\n",
    "    norm = Normalize(vmin=0, vmax=n_samples - 1)\n",
    "    colors = cm.viridis(norm(np.arange(n_samples - 1)))\n",
    "\n",
    "    # 3D線分に色をつける\n",
    "    lc = Line3DCollection(segments, colors=colors, linewidth=1)\n",
    "\n",
    "    # 描画\n",
    "    fig = plt.figure(figsize=(8, 6))\n",
    "    ax = fig.add_subplot(111, projection=\"3d\")\n",
    "    ax.add_collection3d(lc)\n",
    "    # 軸設定\n",
    "    ax.set_xlim(np.nanmin(x[:, 0]), np.nanmax(x[:, 0]))\n",
    "    ax.set_ylim(np.nanmin(x[:, 1]), np.nanmax(x[:, 1]))\n",
    "    ax.set_zlim(np.nanmin(x[:, 2]), np.nanmax(x[:, 2]))\n",
    "    ax.set_xlabel(f\"X ({unit})\")\n",
    "    ax.set_ylabel(f\"Y ({unit})\")\n",
    "    ax.set_zlabel(f\"Z ({unit}\")\n",
    "    ax.set_aspect(\"equal\")\n",
    "    ax.set_title(title)\n",
    "\n",
    "    # カラーバー追加\n",
    "    sm = plt.cm.ScalarMappable(cmap=cm.viridis, norm=norm)\n",
    "    sm.set_array([])  # ダミーデータ（matplotlib仕様）\n",
    "    cbar = fig.colorbar(sm, ax=ax, pad=0.1)\n",
    "    cbar.set_label(\"Time step index\")\n",
    "\n",
    "    plt.show()\n",
    "\n",
    "\n",
    "def plot_transparent_sphere(\n",
    "    ax, center=(0, 0, 0), radius=1.0, color=\"cyan\", alpha=0.3, resolution=100\n",
    "):\n",
    "    \"\"\"\n",
    "    半透明な球体を 3D プロットに描画する\n",
    "\n",
    "    Parameters:\n",
    "        ax        : matplotlib の 3D Axes オブジェクト\n",
    "        center    : 球体の中心座標 (x, y, z)\n",
    "        radius    : 球体の半径\n",
    "        color     : 球体の色\n",
    "        alpha     : 透明度（0.0〜1.0）\n",
    "        resolution: 緯度・経度の分割数（細かさ）\n",
    "    \"\"\"\n",
    "    u = np.linspace(0, 2 * np.pi, resolution)\n",
    "    v = np.linspace(0, np.pi, resolution)\n",
    "\n",
    "    x = radius * np.outer(np.cos(u), np.sin(v)) + center[0]\n",
    "    y = radius * np.outer(np.sin(u), np.sin(v)) + center[1]\n",
    "    z = radius * np.outer(np.ones_like(u), np.cos(v)) + center[2]\n",
    "\n",
    "    ax.plot_surface(x, y, z, color=color, alpha=alpha, edgecolor=\"none\")\n",
    "\n",
    "\n",
    "def plot_in_3d_with_vector(x, title=\"3D Acceleration Trajectory\", step=10):\n",
    "    n_samples = x.shape[0]\n",
    "\n",
    "    # 線分生成（2点ごとのつなぎ）\n",
    "    points = x.reshape(-1, 1, 3)\n",
    "    segments = np.concatenate([points[:-1], points[1:]], axis=1)\n",
    "\n",
    "    # カラーマップ用の正規化\n",
    "    norm = Normalize(vmin=0, vmax=n_samples - 1)\n",
    "    colors = cm.viridis(norm(np.arange(n_samples - 1)))\n",
    "\n",
    "    # 3D線分に色をつける\n",
    "    lc = Line3DCollection(segments, colors=colors, linewidth=1)\n",
    "\n",
    "    # 描画\n",
    "    fig = plt.figure(figsize=(8, 6))\n",
    "    ax = fig.add_subplot(111, projection=\"3d\")\n",
    "    ax.add_collection3d(lc)\n",
    "\n",
    "    for i in range(0, n_samples, step):\n",
    "        # origin of arrow (e.g., can use acc[i] instead of (0,0,0) if preferred)\n",
    "        origin = np.array([0, 0, 0])\n",
    "        direction = x[i]\n",
    "        ax.quiver(*origin, *direction, normalize=False, color=\"red\", alpha=0.6)\n",
    "\n",
    "    ax.scatter([0], [0], [0], color=\"red\", s=50, label=\"Origin\")\n",
    "    plot_transparent_sphere(ax, center=(0, 0, 0), radius=1.0, color=\"cyan\", alpha=0.1)\n",
    "\n",
    "    # 軸設定\n",
    "    ax.set(\n",
    "        xlim=(-1, 1),\n",
    "        ylim=(-1, 1),\n",
    "        zlim=(-1, 1),\n",
    "        xlabel=\"X\",\n",
    "        ylabel=\"Y\",\n",
    "        zlabel=\"Z\",\n",
    "        aspect=\"equal\",\n",
    "        title=title,\n",
    "    )\n",
    "\n",
    "    # カラーバー追加\n",
    "    sm = plt.cm.ScalarMappable(cmap=cm.viridis, norm=norm)\n",
    "    sm.set_array([])  # ダミーデータ（matplotlib仕様）\n",
    "    cbar = fig.colorbar(sm, ax=ax, pad=0.1)\n",
    "    cbar.set_label(\"Time step index\")\n",
    "\n",
    "    plt.show()\n",
    "\n",
    "\n",
    "def compute_acc_world_with_slerp(acc_sensor, rot, delay_step=0, fill=np.nan):\n",
    "    \"\"\"\n",
    "    Convert sensor acceleration to world coordinates, correcting for constant delay.\n",
    "\n",
    "    Parameters:\n",
    "        acc_sensor: (N, 3) array of acceleration in sensor coordinates\n",
    "        rot: (M, 4) array of quaternions (x, y, z, w)\n",
    "        delay_step: constant offset between acc_sensor and rotation (in steps)\n",
    "\n",
    "    Returns:\n",
    "        acc_world: (N, 3) array of acceleration in world coordinates\n",
    "    \"\"\"\n",
    "    N = len(acc_sensor)\n",
    "    M = len(rot)\n",
    "    rot_times = np.arange(M)\n",
    "    acc_times = np.arange(N) + delay_step\n",
    "\n",
    "    # マスクして acc_times が rot_times の範囲内のものだけ残す\n",
    "    valid_idx = (acc_times >= rot_times[0]) & (acc_times <= rot_times[-1])\n",
    "    acc_times_valid = acc_times[valid_idx]\n",
    "    acc_sensor_valid = acc_sensor[valid_idx]\n",
    "\n",
    "    # 補間と回転適用\n",
    "    rot_objs = R.from_quat(rot)  # shape: (M,)\n",
    "    slerp = Slerp(rot_times, rot_objs)\n",
    "    interp_rots = slerp(acc_times_valid)  # shape: (valid_N,)\n",
    "    acc_world_valid = interp_rots.apply(acc_sensor_valid)\n",
    "\n",
    "    # 出力配列を構築（NaNで初期化し、validな位置に結果を埋める）\n",
    "    acc_world = np.full_like(acc_sensor, fill)\n",
    "    acc_world[valid_idx] = acc_world_valid\n",
    "\n",
    "    return acc_world\n",
    "\n",
    "\n",
    "def visualize_sequence(train_df, sequence_id, delay_step=0):\n",
    "    single_sequence = train_df.filter(pl.col(\"sequence_id\") == sequence_id)\n",
    "\n",
    "    display(\n",
    "        single_sequence.select(\n",
    "            [\"sequence_id\", \"subject\", \"orientation\", \"gesture\", \"sequence_type\"]\n",
    "        )\n",
    "        .head(1)\n",
    "        .to_pandas()\n",
    "        .T\n",
    "    )\n",
    "\n",
    "    tof1 = single_sequence.select(f\"tof_1_v{i}\" for i in range(64)).to_numpy()\n",
    "    tof1 = tof1.reshape(-1, 8, 8)\n",
    "    tof2 = single_sequence.select(f\"tof_2_v{i}\" for i in range(64)).to_numpy()\n",
    "    tof2 = tof2.reshape(-1, 8, 8)\n",
    "    tof3 = single_sequence.select(f\"tof_3_v{i}\" for i in range(64)).to_numpy()\n",
    "    tof3 = tof3.reshape(-1, 8, 8)\n",
    "    tof4 = single_sequence.select(f\"tof_4_v{i}\" for i in range(64)).to_numpy()\n",
    "    tof4 = tof4.reshape(-1, 8, 8)\n",
    "    tof5 = single_sequence.select(f\"tof_5_v{i}\" for i in range(64)).to_numpy()\n",
    "    tof5 = tof5.reshape(-1, 8, 8)\n",
    "    acc = single_sequence.select(\"acc_x\", \"acc_y\", \"acc_z\").to_numpy()\n",
    "    rot = single_sequence.select(\"rot_x\", \"rot_y\", \"rot_z\", \"rot_w\").to_numpy()\n",
    "    rot_norm = np.linalg.norm(rot, axis=1, keepdims=True)\n",
    "    thm = single_sequence.select(f\"thm_{i}\" for i in range(1, 6)).to_numpy()\n",
    "    print(f\"rot_norm: mean={np.nanmean(rot_norm):.3f}, std={np.nanstd(rot_norm):.5f}\")\n",
    "\n",
    "    try:\n",
    "        # convert sensor coord to world coord\n",
    "        acc_world = compute_acc_world_with_slerp(acc, rot, delay_step=delay_step)\n",
    "    except Exception as e:\n",
    "        print(f\"Error converting sensor coordinates to world coordinates: {e}\")\n",
    "        acc_world = np.zeros_like(acc)\n",
    "\n",
    "    try:\n",
    "        # convert sensor coord to world coord\n",
    "        r = R.from_quat(rot)\n",
    "        sensor_z = np.zeros_like(np.ones_like(acc))\n",
    "        sensor_z[:, 2] = 1.0  # Assuming Z is the vertical axis\n",
    "        world_z = compute_acc_world_with_slerp(sensor_z, rot)\n",
    "    except Exception as e:\n",
    "        print(f\"Error converting sensor Z coordinates to world coordinates: {e}\")\n",
    "        world_z = np.zeros_like(np.ones_like(acc))\n",
    "        world_z[:, 2] = 1.0  # Default to Z-axis\n",
    "\n",
    "    x_gesture = (single_sequence[\"phase\"] == \"Gesture\").to_numpy().astype(np.float32)\n",
    "    gestures_start_index = np.where(x_gesture == 1)[0][0]\n",
    "    hand_at_target_index = np.where(\n",
    "        single_sequence[\"behavior\"] == \"Hand at target location\"\n",
    "    )[0][0]\n",
    "\n",
    "    print(f\"Hand at target index: {hand_at_target_index}\")\n",
    "    print(f\"Gesture start index: {gestures_start_index}\")\n",
    "    behavior_dict = {}\n",
    "\n",
    "    for b in BEHAVIORS:\n",
    "        behavior_dict[b] = (\n",
    "            (single_sequence[\"behavior\"] == b).to_numpy().astype(np.float32)\n",
    "        )\n",
    "\n",
    "    print(f\"{tof1.shape=}\")\n",
    "    print(f\"{tof2.shape=}\")\n",
    "    print(f\"{tof3.shape=}\")\n",
    "    print(f\"{tof4.shape=}\")\n",
    "    print(f\"{tof5.shape=}\")\n",
    "    print(f\"{acc.shape=}\")\n",
    "    print(f\"{rot.shape=}\")\n",
    "    print(f\"{thm.shape=}\")\n",
    "\n",
    "    gravity = np.array([0, 0, 9.81])\n",
    "\n",
    "    visualize_sensor(acc, acc_world, rot, thm, x_gesture, behavior_dict)\n",
    "    plot_in_3d(\n",
    "        acc,\n",
    "        title=\"Acceleration Trajectory (Sensor Coordinates)\",\n",
    "    )\n",
    "    plot_in_3d(\n",
    "        acc_world - gravity,\n",
    "        title=\"Acceleration Trajectory (World Coordinates, Gravity Subtracted)\",\n",
    "    )\n",
    "    plot_in_3d(\n",
    "        (acc_world - gravity)[hand_at_target_index:],\n",
    "        title=\"Acceleration Trajectory After Moved to the Target Location (World Coordinates, Gravity Subtracted)\",\n",
    "    )\n",
    "    plot_in_3d_with_vector(world_z, title=\"Z Trajectory (World Coordinates)\")\n",
    "    plot_in_3d_with_vector(\n",
    "        world_z[hand_at_target_index:],\n",
    "        title=\"Z Trajectory After Moved to the Target Location (World Coordinates)\",\n",
    "    )\n",
    "    visualize_tof(tof1, tof2, tof3, tof4, tof5, x_gesture, behavior_dict)"
   ]
  },
  {
   "cell_type": "code",
   "execution_count": null,
   "id": "64c46c04",
   "metadata": {},
   "outputs": [],
   "source": [
    "for i, g in enumerate(BEHAVIORS):\n",
    "    print(f\"{i}: {g}\")"
   ]
  },
  {
   "cell_type": "markdown",
   "id": "cf5b81e0",
   "metadata": {},
   "source": [
    "gesture_to_type = {\n",
    "    d[\"gesture\"]: d[\"sequence_type\"]\n",
    "    for d in train_df.group_by(\"gesture\")\n",
    "    .agg(pl.col(\"sequence_type\").eq(\"Target\").first())\n",
    "    .sort(\"sequence_type\", \"gesture\")\n",
    "    .to_dicts()\n",
    "}\n",
    "\n",
    "for i, (k, v) in enumerate(gesture_to_type.items()):\n",
    "    tag = \"🚨\" if v else \"✅\"\n",
    "    print(f\"{tag} {i}: {k}: {v}\")"
   ]
  },
  {
   "cell_type": "code",
   "execution_count": null,
   "id": "7ce09dc5",
   "metadata": {},
   "outputs": [],
   "source": [
    "from IPython.display import Markdown\n",
    "\n",
    "for i, (gesture, is_target) in enumerate(gesture_to_type.items()):\n",
    "    sequence_id = sequence_meta_df.filter(pl.col(\"gesture\") == gesture).sample(\n",
    "        1, seed=2, with_replacement=False\n",
    "    )[\"sequence_id\"][0]\n",
    "    tag = \"🚨\" if is_target else \"✅\"\n",
    "    display(Markdown(f\"### {tag} {i}: {gesture=}, {sequence_id=}\"))\n",
    "    visualize_sequence(train_df, sequence_id, delay_step=0)"
   ]
  },
  {
   "cell_type": "code",
   "execution_count": null,
   "id": "61d12643",
   "metadata": {},
   "outputs": [],
   "source": []
  },
  {
   "cell_type": "code",
   "execution_count": null,
   "id": "6aad63b8",
   "metadata": {},
   "outputs": [],
   "source": []
  }
 ],
 "metadata": {
  "kernelspec": {
   "display_name": "env",
   "language": "python",
   "name": "python3"
  },
  "language_info": {
   "codemirror_mode": {
    "name": "ipython",
    "version": 3
   },
   "file_extension": ".py",
   "mimetype": "text/x-python",
   "name": "python",
   "nbconvert_exporter": "python",
   "pygments_lexer": "ipython3",
   "version": "3.12.4"
  }
 },
 "nbformat": 4,
 "nbformat_minor": 5
}
